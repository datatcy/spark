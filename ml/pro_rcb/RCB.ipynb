{
 "cells": [
  {
   "cell_type": "code",
   "execution_count": 42,
   "id": "3d9da657",
   "metadata": {},
   "outputs": [],
   "source": [
    "from pyspark.sql import SparkSession\n",
    "spark = SparkSession.builder.appName('rcb').getOrCreate()\n",
    "\n",
    "from pyspark.sql.functions import mean,min,max,col,round,mean,stddev"
   ]
  },
  {
   "cell_type": "markdown",
   "id": "80f05bdc",
   "metadata": {},
   "source": [
    "#### Outliers\n",
    "\n",
    "Outliers are data points that deviate significantly from the rest of the dataset. These points may lie on either the lower or higher end of the dataset. It is essential to handle outliers before training a model, as they can lead to unpredictable model performance. Outliers can be detected using methods such as the Interquartile Range (IQR) or visualized with a Box Plot"
   ]
  },
  {
   "cell_type": "markdown",
   "id": "b79103bb",
   "metadata": {},
   "source": [
    "### Using PySpark"
   ]
  },
  {
   "cell_type": "code",
   "execution_count": 63,
   "id": "eb98f229",
   "metadata": {},
   "outputs": [
    {
     "name": "stdout",
     "output_type": "stream",
     "text": [
      "\u001b[1mOBSERVATIONS\u001b[0m\n",
      "Minimum Value: 15\n",
      "Maximum Value: 150\n",
      "Mean Value: 41.57       \n",
      "Standard Deviation: 48.2\n",
      "1st Quartile: 19.0\n",
      "3rd Quartile: 32.0\n",
      "Inter Quartile Range: 13.0       \n",
      "Outliers Lower Bound: -0.5\n",
      "Outliers Upper Bound: 51.5\n",
      "Mean after removing outerlier: 23.5\n",
      "Standard Deviation after removing outlier: 6.66 \n"
     ]
    },
    {
     "data": {
      "text/plain": [
       "[19, 20, 30, 25, 15, 32]"
      ]
     },
     "execution_count": 63,
     "metadata": {},
     "output_type": "execute_result"
    }
   ],
   "source": [
    "data = [(19,),(20,),(30,),(150,),(25,),(15,),(32,)]\n",
    "\n",
    "df = spark.createDataFrame(data, ['value'])\n",
    "\n",
    "quantiles = df.approxQuantile(\"value\", [0.25, 0.75],0.0)\n",
    "IQR = quantiles[1] -  quantiles[0]\n",
    "lower_bound = quantiles[0] - 1.5 * IQR\n",
    "upper_bound = quantiles[1] + 1.5 * IQR\n",
    "\n",
    "min_max = df.select(min('value').alias('min'),max('value').alias('max'),round(mean('value'),2).alias('mean'),round(stddev('value'),2).alias('sd')).collect()[0]\n",
    "\n",
    "print(f'\\033[1mOBSERVATIONS\\033[0m\\nMinimum Value: {min_max[0]}\\nMaximum Value: {min_max[1]}\\nMean Value: {min_max[2]}\\\n",
    "       \\nStandard Deviation: {min_max[3]}\\n1st Quartile: {quantiles[0]}\\n3rd Quartile: {quantiles[1]}\\nInter Quartile Range: {IQR}\\\n",
    "       \\nOutliers Lower Bound: {lower_bound}\\nOutliers Upper Bound: {upper_bound}')\n",
    "\n",
    "def update_outliers():\n",
    "    out = df.filter((col(\"value\") >= lower_bound) & (col(\"value\") <= upper_bound))\n",
    "    return [ i['value'] for i in out.collect()]\n",
    "\n",
    "\n",
    "df = spark.createDataFrame([(x,) for x in update_outliers()], [\"value\"])\n",
    "af_remove_outlier = df.select(mean('value').alias('mean_af'),round(stddev('value'),2).alias('sd_af')).collect()[0]\n",
    "\n",
    "print(f'Mean after removing outerlier: {af_remove_outlier[0]}\\nStandard Deviation after removing outlier: {af_remove_outlier[1]}')\n",
    "\n",
    "\n",
    "update_outliers()"
   ]
  },
  {
   "cell_type": "markdown",
   "id": "1a965c82",
   "metadata": {},
   "source": [
    "### Using Pandas"
   ]
  },
  {
   "cell_type": "code",
   "execution_count": 90,
   "id": "b0dc1190",
   "metadata": {},
   "outputs": [
    {
     "name": "stdout",
     "output_type": "stream",
     "text": [
      "\u001b[1mOBSERVATIONS\u001b[0m\n",
      "Minimun: 15.0\n",
      "Maximum: 150.0\n",
      "Median: 25.0\n",
      "Mean:41.57\n",
      "Standard Deviation: 48.2\n",
      "1st Quartile: 19.5\n",
      "3rd Quartile: 31.0      \n",
      "Inter Quartile Range: 11.5\n",
      "Outliers Lower Bound: 1.75\n",
      "Outliers Upper Bound: 49.25      \n",
      "Mean after removing outerlier: 23.5\n",
      "Standard Deviation after removing outlier: 6.66\n"
     ]
    },
    {
     "data": {
      "text/plain": [
       "[19, 20, 30, 25, 15, 32]"
      ]
     },
     "execution_count": 90,
     "metadata": {},
     "output_type": "execute_result"
    }
   ],
   "source": [
    "import numpy as np\n",
    "import csv\n",
    "\n",
    "box_plot = [19,20,30,150,25,15,32]\n",
    "\n",
    "source = open('source.txt','r')\n",
    "datas = [int(i.strip()) for i in source.readlines()]\n",
    "source.close()\n",
    "\n",
    "min_,Q1,median,Q3,max_= np.quantile(datas,[0,0.25,0.50,0.75,1.0])\n",
    "series = pd.Series(datas)\n",
    "mean_value = series.mean().round(2)\n",
    "stddev_value = series.std().round(2)\n",
    "IQR = Q3 - Q1\n",
    "lower_bound = quantiles[0] - 1.5 * IQR\n",
    "upper_bound = quantiles[1] + 1.5 * IQR\n",
    "\n",
    "def update_outliers():\n",
    "    for i in range(0,len(datas)-1):\n",
    "        if datas[i] < lower_bound or datas[i] > upper_bound:\n",
    "            del datas[i]\n",
    "    return datas\n",
    "\n",
    "with open(\"non_outlier.txt\", \"w\") as file:\n",
    "    for item in update_outliers():\n",
    "        file.write(str(item) + \"\\n\")\n",
    "        \n",
    "series = pd.Series(update_outliers())\n",
    "mean_value_af = series.mean().round(2)\n",
    "stddev_valu_af = series.std().round(2)\n",
    "        \n",
    "print(f'\\033[1mOBSERVATIONS\\033[0m\\nMinimun: {min_}\\nMaximum: {max_}\\nMedian: {median}\\nMean:{mean_value}\\nStandard Deviation: {stddev_value}\\n1st Quartile: {Q1}\\n3rd Quartile: {Q3}\\\n",
    "      \\nInter Quartile Range: {IQR}\\nOutliers Lower Bound: {lower_bound}\\nOutliers Upper Bound: {upper_bound}\\\n",
    "      \\nMean after removing outerlier: {mean_value_af}\\nStandard Deviation after removing outlier: {stddev_valu_af}' )\n",
    "\n",
    "update_outliers()\n"
   ]
  },
  {
   "cell_type": "markdown",
   "id": "979c1021",
   "metadata": {},
   "source": [
    "### Box Plot - before removing outlier"
   ]
  },
  {
   "cell_type": "code",
   "execution_count": 41,
   "id": "6d2ec4da",
   "metadata": {},
   "outputs": [
    {
     "data": {
      "text/plain": [
       "<AxesSubplot:>"
      ]
     },
     "execution_count": 41,
     "metadata": {},
     "output_type": "execute_result"
    },
    {
     "data": {
      "image/png": "[encoded data removed]",
      "text/plain": [
       "<Figure size 432x288 with 1 Axes>"
      ]
     },
     "metadata": {
      "needs_background": "light"
     },
     "output_type": "display_data"
    }
   ],
   "source": [
    "import seaborn as sns\n",
    "\n",
    "sns.boxplot(box_plot)"
   ]
  },
  {
   "cell_type": "markdown",
   "id": "b2880e45",
   "metadata": {},
   "source": [
    "### Box Plot - after removing outlier"
   ]
  },
  {
   "cell_type": "code",
   "execution_count": 40,
   "id": "75c9283f",
   "metadata": {},
   "outputs": [
    {
     "data": {
      "text/plain": [
       "<AxesSubplot:>"
      ]
     },
     "execution_count": 40,
     "metadata": {},
     "output_type": "execute_result"
    },
    {
     "data": {
      "image/png": "[encoded data removed]",
      "text/plain": [
       "<Figure size 432x288 with 1 Axes>"
      ]
     },
     "metadata": {
      "needs_background": "light"
     },
     "output_type": "display_data"
    }
   ],
   "source": [
    "sns.boxplot(datas)"
   ]
  },
  {
   "cell_type": "code",
   "execution_count": null,
   "id": "21e12516",
   "metadata": {},
   "outputs": [],
   "source": []
  }
 ],
 "metadata": {
  "kernelspec": {
   "display_name": "Python 3 (ipykernel)",
   "language": "python",
   "name": "python3"
  },
  "language_info": {
   "codemirror_mode": {
    "name": "ipython",
    "version": 3
   },
   "file_extension": ".py",
   "mimetype": "text/x-python",
   "name": "python",
   "nbconvert_exporter": "python",
   "pygments_lexer": "ipython3",
   "version": "3.9.7"
  }
 },
 "nbformat": 4,
 "nbformat_minor": 5
}
