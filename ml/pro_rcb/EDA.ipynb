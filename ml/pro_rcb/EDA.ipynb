{
 "cells": [
  {
   "cell_type": "code",
   "execution_count": 1,
   "id": "86cc57fa",
   "metadata": {},
   "outputs": [
    {
     "name": "stderr",
     "output_type": "stream",
     "text": [
      "24/11/30 19:16:05 WARN Utils: Your hostname, Franciss-MacBook-Pro.local resolves to a loopback address: 127.0.0.1; using 192.168.4.40 instead (on interface en0)\n",
      "24/11/30 19:16:05 WARN Utils: Set SPARK_LOCAL_IP if you need to bind to another address\n",
      "24/11/30 19:16:05 WARN NativeCodeLoader: Unable to load native-hadoop library for your platform... using builtin-java classes where applicable\n",
      "Using Spark's default log4j profile: org/apache/spark/log4j-defaults.properties\n",
      "Setting default log level to \"WARN\".\n",
      "To adjust logging level use sc.setLogLevel(newLevel). For SparkR, use setLogLevel(newLevel).\n"
     ]
    }
   ],
   "source": [
    "from pyspark.sql import SparkSession\n",
    "spark = SparkSession.builder.appName('rcb').getOrCreate()\n",
    "\n",
    "from pyspark.sql.functions import mean,min,max,col,round,mean,stddev"
   ]
  },
  {
   "cell_type": "markdown",
   "id": "84945955",
   "metadata": {},
   "source": [
    "Exploratory Data Analysis (EDA) is a vital initial step in data science, focusing on analyzing and visualizing datasets to understand key characteristics. It helps uncover patterns, detect outliers, and identify relationships between variables. Typically performed before formal statistical modeling, EDA lays the foundation for informed decision-making.\n",
    "\n",
    "**Key Aspects:**\n",
    "- Distribution of Data\n",
    "- Outlier Detection\n",
    "- Correlation Analysis\n",
    "- Handling Missing Values\n",
    "- Summary Statistics\n",
    "- Graphical Representation\n",
    "\n",
    "**Why EDA:**\n",
    "- Understanding Data Structure\n",
    "- Identifying Patterns and Relationships\n",
    "- Detecting Anomalies and Outliers\n",
    "- Feature Selection and Engineering\n",
    "\n",
    "**Types:**\n",
    "- **Univariate Analysis**\n",
    "  - Histograms\n",
    "  - Box Plots\n",
    "  - Bar Charts\n",
    "  - Summary Statistics\n",
    "- **Bivariate Analysis**\n",
    "  - Scatter Plots\n",
    "  - Correlation Coefficient\n",
    "- **Multivariate Analysis**\n",
    "  - Pair Plots\n",
    "  - PCA"
   ]
  },
  {
   "cell_type": "code",
   "execution_count": 2,
   "id": "a7e38e5b",
   "metadata": {},
   "outputs": [
    {
     "name": "stderr",
     "output_type": "stream",
     "text": [
      "/Users/francispaulraj/opt/anaconda3/lib/python3.9/site-packages/pandas/core/computation/expressions.py:21: UserWarning: Pandas requires version '2.8.4' or newer of 'numexpr' (version '2.7.3' currently installed).\n",
      "  from pandas.core.computation.check import NUMEXPR_INSTALLED\n",
      "/Users/francispaulraj/opt/anaconda3/lib/python3.9/site-packages/pandas/core/arrays/masked.py:60: UserWarning: Pandas requires version '1.3.6' or newer of 'bottleneck' (version '1.3.2' currently installed).\n",
      "  from pandas.core import (\n"
     ]
    }
   ],
   "source": [
    "import pandas as pd\n",
    "import seaborn as sns\n",
    "import matplotlib.pyplot as plt\n",
    "\n",
    "\n",
    "df = pd.read_csv('satisfaction.csv')"
   ]
  },
  {
   "cell_type": "markdown",
   "id": "c635b6b4",
   "metadata": {},
   "source": [
    "### Summary of the Data Set"
   ]
  },
  {
   "cell_type": "code",
   "execution_count": 18,
   "id": "f9dc75ff",
   "metadata": {},
   "outputs": [
    {
     "data": {
      "text/plain": [
       "(128577, 24)"
      ]
     },
     "execution_count": 18,
     "metadata": {},
     "output_type": "execute_result"
    }
   ],
   "source": [
    "df.shape"
   ]
  },
  {
   "cell_type": "code",
   "execution_count": 11,
   "id": "3aa7116c",
   "metadata": {},
   "outputs": [
    {
     "name": "stdout",
     "output_type": "stream",
     "text": [
      "<class 'pandas.core.frame.DataFrame'>\n",
      "RangeIndex: 128577 entries, 0 to 128576\n",
      "Data columns (total 24 columns):\n",
      " #   Column                             Non-Null Count   Dtype  \n",
      "---  ------                             --------------   -----  \n",
      " 0   id                                 128577 non-null  int64  \n",
      " 1   satisfaction_v2                    128577 non-null  object \n",
      " 2   Gender                             128577 non-null  object \n",
      " 3   Customer Type                      128577 non-null  object \n",
      " 4   Age                                127998 non-null  float64\n",
      " 5   Type of Travel                     128577 non-null  object \n",
      " 6   Class                              128577 non-null  object \n",
      " 7   Flight Distance                    128577 non-null  int64  \n",
      " 8   Inflight wifi service              128577 non-null  int64  \n",
      " 9   Departure/Arrival time convenient  128577 non-null  int64  \n",
      " 10  Ease of Online booking             128577 non-null  int64  \n",
      " 11  Gate location                      128577 non-null  int64  \n",
      " 12  Food and drink                     128242 non-null  float64\n",
      " 13  Online boarding                    128491 non-null  float64\n",
      " 14  Seat comfort                       128577 non-null  int64  \n",
      " 15  Inflight entertainment             128577 non-null  int64  \n",
      " 16  On-board service                   128577 non-null  int64  \n",
      " 17  Leg room service                   128577 non-null  int64  \n",
      " 18  Baggage handling                   128472 non-null  float64\n",
      " 19  Checkin service                    128577 non-null  int64  \n",
      " 20  Inflight service                   128577 non-null  int64  \n",
      " 21  Cleanliness                        128577 non-null  int64  \n",
      " 22  Departure Delay in Minutes         128577 non-null  int64  \n",
      " 23  Arrival Delay in Minutes           128189 non-null  float64\n",
      "dtypes: float64(5), int64(14), object(5)\n",
      "memory usage: 23.5+ MB\n"
     ]
    }
   ],
   "source": [
    "df.info()"
   ]
  },
  {
   "cell_type": "markdown",
   "id": "c28f80f4",
   "metadata": {},
   "source": [
    "### Descriptive Statistics Info"
   ]
  },
  {
   "cell_type": "code",
   "execution_count": 15,
   "id": "c52e07fe",
   "metadata": {},
   "outputs": [
    {
     "data": {
      "text/html": [
       "<div>\n",
       "<style scoped>\n",
       "    .dataframe tbody tr th:only-of-type {\n",
       "        vertical-align: middle;\n",
       "    }\n",
       "\n",
       "    .dataframe tbody tr th {\n",
       "        vertical-align: top;\n",
       "    }\n",
       "\n",
       "    .dataframe thead th {\n",
       "        text-align: right;\n",
       "    }\n",
       "</style>\n",
       "<table border=\"1\" class=\"dataframe\">\n",
       "  <thead>\n",
       "    <tr style=\"text-align: right;\">\n",
       "      <th></th>\n",
       "      <th>id</th>\n",
       "      <th>Age</th>\n",
       "      <th>Flight Distance</th>\n",
       "      <th>Inflight wifi service</th>\n",
       "      <th>Departure/Arrival time convenient</th>\n",
       "      <th>Ease of Online booking</th>\n",
       "      <th>Gate location</th>\n",
       "      <th>Food and drink</th>\n",
       "      <th>Online boarding</th>\n",
       "      <th>Seat comfort</th>\n",
       "      <th>Inflight entertainment</th>\n",
       "      <th>On-board service</th>\n",
       "      <th>Leg room service</th>\n",
       "      <th>Baggage handling</th>\n",
       "      <th>Checkin service</th>\n",
       "      <th>Inflight service</th>\n",
       "      <th>Cleanliness</th>\n",
       "      <th>Departure Delay in Minutes</th>\n",
       "      <th>Arrival Delay in Minutes</th>\n",
       "    </tr>\n",
       "  </thead>\n",
       "  <tbody>\n",
       "    <tr>\n",
       "      <th>count</th>\n",
       "      <td>128577.000000</td>\n",
       "      <td>127998.000000</td>\n",
       "      <td>1.285770e+05</td>\n",
       "      <td>128577.000000</td>\n",
       "      <td>128577.000000</td>\n",
       "      <td>128577.000000</td>\n",
       "      <td>128577.000000</td>\n",
       "      <td>128242.000000</td>\n",
       "      <td>128491.000000</td>\n",
       "      <td>128577.000000</td>\n",
       "      <td>128577.00000</td>\n",
       "      <td>128577.000000</td>\n",
       "      <td>128577.000000</td>\n",
       "      <td>128472.000000</td>\n",
       "      <td>128577.000000</td>\n",
       "      <td>128577.000000</td>\n",
       "      <td>128577.000000</td>\n",
       "      <td>128577.000000</td>\n",
       "      <td>128189.000000</td>\n",
       "    </tr>\n",
       "    <tr>\n",
       "      <th>mean</th>\n",
       "      <td>65197.244671</td>\n",
       "      <td>39.387951</td>\n",
       "      <td>1.208985e+04</td>\n",
       "      <td>2.727175</td>\n",
       "      <td>3.056659</td>\n",
       "      <td>2.758238</td>\n",
       "      <td>2.976839</td>\n",
       "      <td>3.204621</td>\n",
       "      <td>3.254391</td>\n",
       "      <td>3.442140</td>\n",
       "      <td>3.35763</td>\n",
       "      <td>3.383879</td>\n",
       "      <td>3.352948</td>\n",
       "      <td>3.633842</td>\n",
       "      <td>3.308111</td>\n",
       "      <td>3.643365</td>\n",
       "      <td>3.286334</td>\n",
       "      <td>14.734136</td>\n",
       "      <td>15.103082</td>\n",
       "    </tr>\n",
       "    <tr>\n",
       "      <th>std</th>\n",
       "      <td>37526.086710</td>\n",
       "      <td>15.123203</td>\n",
       "      <td>1.043411e+06</td>\n",
       "      <td>1.328182</td>\n",
       "      <td>1.526235</td>\n",
       "      <td>1.400086</td>\n",
       "      <td>1.278176</td>\n",
       "      <td>1.329566</td>\n",
       "      <td>1.348843</td>\n",
       "      <td>1.319154</td>\n",
       "      <td>1.33407</td>\n",
       "      <td>1.286720</td>\n",
       "      <td>1.327945</td>\n",
       "      <td>1.179180</td>\n",
       "      <td>1.265404</td>\n",
       "      <td>1.176099</td>\n",
       "      <td>1.313324</td>\n",
       "      <td>38.053914</td>\n",
       "      <td>38.457181</td>\n",
       "    </tr>\n",
       "    <tr>\n",
       "      <th>min</th>\n",
       "      <td>1.000000</td>\n",
       "      <td>7.000000</td>\n",
       "      <td>9.600000e+01</td>\n",
       "      <td>0.000000</td>\n",
       "      <td>0.000000</td>\n",
       "      <td>0.000000</td>\n",
       "      <td>0.000000</td>\n",
       "      <td>0.000000</td>\n",
       "      <td>0.000000</td>\n",
       "      <td>0.000000</td>\n",
       "      <td>0.00000</td>\n",
       "      <td>0.000000</td>\n",
       "      <td>0.000000</td>\n",
       "      <td>1.000000</td>\n",
       "      <td>0.000000</td>\n",
       "      <td>0.000000</td>\n",
       "      <td>0.000000</td>\n",
       "      <td>0.000000</td>\n",
       "      <td>0.000000</td>\n",
       "    </tr>\n",
       "    <tr>\n",
       "      <th>25%</th>\n",
       "      <td>32614.000000</td>\n",
       "      <td>27.000000</td>\n",
       "      <td>4.230000e+02</td>\n",
       "      <td>2.000000</td>\n",
       "      <td>2.000000</td>\n",
       "      <td>2.000000</td>\n",
       "      <td>2.000000</td>\n",
       "      <td>2.000000</td>\n",
       "      <td>2.000000</td>\n",
       "      <td>2.000000</td>\n",
       "      <td>2.00000</td>\n",
       "      <td>2.000000</td>\n",
       "      <td>2.000000</td>\n",
       "      <td>3.000000</td>\n",
       "      <td>3.000000</td>\n",
       "      <td>3.000000</td>\n",
       "      <td>2.000000</td>\n",
       "      <td>0.000000</td>\n",
       "      <td>0.000000</td>\n",
       "    </tr>\n",
       "    <tr>\n",
       "      <th>50%</th>\n",
       "      <td>65534.000000</td>\n",
       "      <td>40.000000</td>\n",
       "      <td>8.530000e+02</td>\n",
       "      <td>3.000000</td>\n",
       "      <td>3.000000</td>\n",
       "      <td>3.000000</td>\n",
       "      <td>3.000000</td>\n",
       "      <td>3.000000</td>\n",
       "      <td>3.000000</td>\n",
       "      <td>4.000000</td>\n",
       "      <td>4.00000</td>\n",
       "      <td>4.000000</td>\n",
       "      <td>4.000000</td>\n",
       "      <td>4.000000</td>\n",
       "      <td>3.000000</td>\n",
       "      <td>4.000000</td>\n",
       "      <td>3.000000</td>\n",
       "      <td>0.000000</td>\n",
       "      <td>0.000000</td>\n",
       "    </tr>\n",
       "    <tr>\n",
       "      <th>75%</th>\n",
       "      <td>97685.000000</td>\n",
       "      <td>51.000000</td>\n",
       "      <td>1.747000e+03</td>\n",
       "      <td>4.000000</td>\n",
       "      <td>4.000000</td>\n",
       "      <td>4.000000</td>\n",
       "      <td>4.000000</td>\n",
       "      <td>4.000000</td>\n",
       "      <td>4.000000</td>\n",
       "      <td>5.000000</td>\n",
       "      <td>4.00000</td>\n",
       "      <td>4.000000</td>\n",
       "      <td>4.000000</td>\n",
       "      <td>5.000000</td>\n",
       "      <td>4.000000</td>\n",
       "      <td>5.000000</td>\n",
       "      <td>4.000000</td>\n",
       "      <td>12.000000</td>\n",
       "      <td>13.000000</td>\n",
       "    </tr>\n",
       "    <tr>\n",
       "      <th>max</th>\n",
       "      <td>129880.000000</td>\n",
       "      <td>85.000000</td>\n",
       "      <td>1.000000e+08</td>\n",
       "      <td>5.000000</td>\n",
       "      <td>5.000000</td>\n",
       "      <td>5.000000</td>\n",
       "      <td>5.000000</td>\n",
       "      <td>5.000000</td>\n",
       "      <td>5.000000</td>\n",
       "      <td>5.000000</td>\n",
       "      <td>5.00000</td>\n",
       "      <td>5.000000</td>\n",
       "      <td>55.000000</td>\n",
       "      <td>5.000000</td>\n",
       "      <td>5.000000</td>\n",
       "      <td>5.000000</td>\n",
       "      <td>5.000000</td>\n",
       "      <td>1592.000000</td>\n",
       "      <td>1584.000000</td>\n",
       "    </tr>\n",
       "  </tbody>\n",
       "</table>\n",
       "</div>"
      ],
      "text/plain": [
       "                  id            Age  Flight Distance  Inflight wifi service  \\\n",
       "count  128577.000000  127998.000000     1.285770e+05          128577.000000   \n",
       "mean    65197.244671      39.387951     1.208985e+04               2.727175   \n",
       "std     37526.086710      15.123203     1.043411e+06               1.328182   \n",
       "min         1.000000       7.000000     9.600000e+01               0.000000   \n",
       "25%     32614.000000      27.000000     4.230000e+02               2.000000   \n",
       "50%     65534.000000      40.000000     8.530000e+02               3.000000   \n",
       "75%     97685.000000      51.000000     1.747000e+03               4.000000   \n",
       "max    129880.000000      85.000000     1.000000e+08               5.000000   \n",
       "\n",
       "       Departure/Arrival time convenient  Ease of Online booking  \\\n",
       "count                      128577.000000           128577.000000   \n",
       "mean                            3.056659                2.758238   \n",
       "std                             1.526235                1.400086   \n",
       "min                             0.000000                0.000000   \n",
       "25%                             2.000000                2.000000   \n",
       "50%                             3.000000                3.000000   \n",
       "75%                             4.000000                4.000000   \n",
       "max                             5.000000                5.000000   \n",
       "\n",
       "       Gate location  Food and drink  Online boarding   Seat comfort  \\\n",
       "count  128577.000000   128242.000000    128491.000000  128577.000000   \n",
       "mean        2.976839        3.204621         3.254391       3.442140   \n",
       "std         1.278176        1.329566         1.348843       1.319154   \n",
       "min         0.000000        0.000000         0.000000       0.000000   \n",
       "25%         2.000000        2.000000         2.000000       2.000000   \n",
       "50%         3.000000        3.000000         3.000000       4.000000   \n",
       "75%         4.000000        4.000000         4.000000       5.000000   \n",
       "max         5.000000        5.000000         5.000000       5.000000   \n",
       "\n",
       "       Inflight entertainment  On-board service  Leg room service  \\\n",
       "count            128577.00000     128577.000000     128577.000000   \n",
       "mean                  3.35763          3.383879          3.352948   \n",
       "std                   1.33407          1.286720          1.327945   \n",
       "min                   0.00000          0.000000          0.000000   \n",
       "25%                   2.00000          2.000000          2.000000   \n",
       "50%                   4.00000          4.000000          4.000000   \n",
       "75%                   4.00000          4.000000          4.000000   \n",
       "max                   5.00000          5.000000         55.000000   \n",
       "\n",
       "       Baggage handling  Checkin service  Inflight service    Cleanliness  \\\n",
       "count     128472.000000    128577.000000     128577.000000  128577.000000   \n",
       "mean           3.633842         3.308111          3.643365       3.286334   \n",
       "std            1.179180         1.265404          1.176099       1.313324   \n",
       "min            1.000000         0.000000          0.000000       0.000000   \n",
       "25%            3.000000         3.000000          3.000000       2.000000   \n",
       "50%            4.000000         3.000000          4.000000       3.000000   \n",
       "75%            5.000000         4.000000          5.000000       4.000000   \n",
       "max            5.000000         5.000000          5.000000       5.000000   \n",
       "\n",
       "       Departure Delay in Minutes  Arrival Delay in Minutes  \n",
       "count               128577.000000             128189.000000  \n",
       "mean                    14.734136                 15.103082  \n",
       "std                     38.053914                 38.457181  \n",
       "min                      0.000000                  0.000000  \n",
       "25%                      0.000000                  0.000000  \n",
       "50%                      0.000000                  0.000000  \n",
       "75%                     12.000000                 13.000000  \n",
       "max                   1592.000000               1584.000000  "
      ]
     },
     "execution_count": 15,
     "metadata": {},
     "output_type": "execute_result"
    }
   ],
   "source": [
    "df.describe()"
   ]
  },
  {
   "cell_type": "code",
   "execution_count": 28,
   "id": "58f8d5ef",
   "metadata": {},
   "outputs": [
    {
     "name": "stdout",
     "output_type": "stream",
     "text": [
      "id ,satisfaction_v2 ,Gender ,Customer Type ,Age ,Type of Travel ,Class ,Flight Distance ,Inflight wifi service ,Departure/Arrival time convenient ,Ease of Online booking ,Gate location ,Food and drink ,Online boarding ,Seat comfort ,Inflight entertainment ,On-board service ,Leg room service ,Baggage handling ,Checkin service ,Inflight service ,Cleanliness ,Departure Delay in Minutes ,Arrival Delay in Minutes ,"
     ]
    }
   ],
   "source": [
    "# To get column namees\n",
    "for i in range(0,len(df.columns)):\n",
    "    print(df.columns[i],',',end ='')"
   ]
  },
  {
   "cell_type": "markdown",
   "id": "ec52e57d",
   "metadata": {},
   "source": [
    "### Check for duplicates"
   ]
  },
  {
   "cell_type": "code",
   "execution_count": 56,
   "id": "9333e60e",
   "metadata": {},
   "outputs": [
    {
     "data": {
      "text/html": [
       "<div>\n",
       "<style scoped>\n",
       "    .dataframe tbody tr th:only-of-type {\n",
       "        vertical-align: middle;\n",
       "    }\n",
       "\n",
       "    .dataframe tbody tr th {\n",
       "        vertical-align: top;\n",
       "    }\n",
       "\n",
       "    .dataframe thead th {\n",
       "        text-align: right;\n",
       "    }\n",
       "</style>\n",
       "<table border=\"1\" class=\"dataframe\">\n",
       "  <thead>\n",
       "    <tr style=\"text-align: right;\">\n",
       "      <th></th>\n",
       "      <th>id</th>\n",
       "      <th>satisfaction_v2</th>\n",
       "      <th>Gender</th>\n",
       "      <th>Customer Type</th>\n",
       "      <th>Age</th>\n",
       "      <th>Type of Travel</th>\n",
       "      <th>Class</th>\n",
       "      <th>Flight Distance</th>\n",
       "      <th>Inflight wifi service</th>\n",
       "      <th>Departure/Arrival time convenient</th>\n",
       "      <th>...</th>\n",
       "      <th>Seat comfort</th>\n",
       "      <th>Inflight entertainment</th>\n",
       "      <th>On-board service</th>\n",
       "      <th>Leg room service</th>\n",
       "      <th>Baggage handling</th>\n",
       "      <th>Checkin service</th>\n",
       "      <th>Inflight service</th>\n",
       "      <th>Cleanliness</th>\n",
       "      <th>Departure Delay in Minutes</th>\n",
       "      <th>Arrival Delay in Minutes</th>\n",
       "    </tr>\n",
       "  </thead>\n",
       "  <tbody>\n",
       "  </tbody>\n",
       "</table>\n",
       "<p>0 rows × 24 columns</p>\n",
       "</div>"
      ],
      "text/plain": [
       "Empty DataFrame\n",
       "Columns: [id, satisfaction_v2, Gender, Customer Type, Age, Type of Travel, Class, Flight Distance, Inflight wifi service, Departure/Arrival time convenient, Ease of Online booking, Gate location, Food and drink, Online boarding, Seat comfort, Inflight entertainment, On-board service, Leg room service, Baggage handling, Checkin service, Inflight service, Cleanliness, Departure Delay in Minutes, Arrival Delay in Minutes]\n",
       "Index: []\n",
       "\n",
       "[0 rows x 24 columns]"
      ]
     },
     "execution_count": 56,
     "metadata": {},
     "output_type": "execute_result"
    }
   ],
   "source": [
    "# Dublicate Records\n",
    "df[df.duplicated()]"
   ]
  },
  {
   "cell_type": "markdown",
   "id": "2aa96d2c",
   "metadata": {},
   "source": [
    "### Check for null values"
   ]
  },
  {
   "cell_type": "code",
   "execution_count": 58,
   "id": "8da8ccb3",
   "metadata": {},
   "outputs": [
    {
     "data": {
      "text/plain": [
       "id                                     0\n",
       "satisfaction_v2                        0\n",
       "Gender                                 0\n",
       "Customer Type                          0\n",
       "Age                                  579\n",
       "Type of Travel                         0\n",
       "Class                                  0\n",
       "Flight Distance                        0\n",
       "Inflight wifi service                  0\n",
       "Departure/Arrival time convenient      0\n",
       "Ease of Online booking                 0\n",
       "Gate location                          0\n",
       "Food and drink                       335\n",
       "Online boarding                       86\n",
       "Seat comfort                           0\n",
       "Inflight entertainment                 0\n",
       "On-board service                       0\n",
       "Leg room service                       0\n",
       "Baggage handling                     105\n",
       "Checkin service                        0\n",
       "Inflight service                       0\n",
       "Cleanliness                            0\n",
       "Departure Delay in Minutes             0\n",
       "Arrival Delay in Minutes             388\n",
       "dtype: int64"
      ]
     },
     "execution_count": 58,
     "metadata": {},
     "output_type": "execute_result"
    }
   ],
   "source": [
    "# null records\n",
    "df.isnull().sum()"
   ]
  },
  {
   "cell_type": "markdown",
   "id": "5546e026",
   "metadata": {},
   "source": [
    "### Check for Correlation"
   ]
  },
  {
   "cell_type": "code",
   "execution_count": 77,
   "id": "bda98db9",
   "metadata": {},
   "outputs": [
    {
     "data": {
      "text/html": [
       "<div>\n",
       "<style scoped>\n",
       "    .dataframe tbody tr th:only-of-type {\n",
       "        vertical-align: middle;\n",
       "    }\n",
       "\n",
       "    .dataframe tbody tr th {\n",
       "        vertical-align: top;\n",
       "    }\n",
       "\n",
       "    .dataframe thead th {\n",
       "        text-align: right;\n",
       "    }\n",
       "</style>\n",
       "<table border=\"1\" class=\"dataframe\">\n",
       "  <thead>\n",
       "    <tr style=\"text-align: right;\">\n",
       "      <th></th>\n",
       "      <th>id</th>\n",
       "      <th>Age</th>\n",
       "      <th>Flight Distance</th>\n",
       "      <th>Inflight wifi service</th>\n",
       "      <th>Departure/Arrival time convenient</th>\n",
       "      <th>Ease of Online booking</th>\n",
       "      <th>Gate location</th>\n",
       "      <th>Food and drink</th>\n",
       "      <th>Online boarding</th>\n",
       "      <th>Seat comfort</th>\n",
       "      <th>Inflight entertainment</th>\n",
       "      <th>On-board service</th>\n",
       "      <th>Leg room service</th>\n",
       "      <th>Baggage handling</th>\n",
       "      <th>Checkin service</th>\n",
       "      <th>Inflight service</th>\n",
       "      <th>Cleanliness</th>\n",
       "      <th>Departure Delay in Minutes</th>\n",
       "      <th>Arrival Delay in Minutes</th>\n",
       "    </tr>\n",
       "  </thead>\n",
       "  <tbody>\n",
       "    <tr>\n",
       "      <th>id</th>\n",
       "      <td>1.000000</td>\n",
       "      <td>0.021329</td>\n",
       "      <td>-0.004021</td>\n",
       "      <td>-0.022501</td>\n",
       "      <td>-0.001662</td>\n",
       "      <td>0.013168</td>\n",
       "      <td>-0.000024</td>\n",
       "      <td>-0.000617</td>\n",
       "      <td>0.055480</td>\n",
       "      <td>0.052647</td>\n",
       "      <td>0.002152</td>\n",
       "      <td>0.055760</td>\n",
       "      <td>0.044461</td>\n",
       "      <td>0.074455</td>\n",
       "      <td>0.079190</td>\n",
       "      <td>0.078969</td>\n",
       "      <td>0.024573</td>\n",
       "      <td>-0.018045</td>\n",
       "      <td>-0.036218</td>\n",
       "    </tr>\n",
       "    <tr>\n",
       "      <th>Age</th>\n",
       "      <td>0.021329</td>\n",
       "      <td>1.000000</td>\n",
       "      <td>-0.008273</td>\n",
       "      <td>0.015189</td>\n",
       "      <td>0.036767</td>\n",
       "      <td>0.021842</td>\n",
       "      <td>-0.001040</td>\n",
       "      <td>0.024540</td>\n",
       "      <td>0.208512</td>\n",
       "      <td>0.160304</td>\n",
       "      <td>0.073666</td>\n",
       "      <td>0.055327</td>\n",
       "      <td>0.036335</td>\n",
       "      <td>-0.050283</td>\n",
       "      <td>0.033682</td>\n",
       "      <td>-0.053765</td>\n",
       "      <td>0.053248</td>\n",
       "      <td>-0.009032</td>\n",
       "      <td>-0.011270</td>\n",
       "    </tr>\n",
       "    <tr>\n",
       "      <th>Flight Distance</th>\n",
       "      <td>-0.004021</td>\n",
       "      <td>-0.008273</td>\n",
       "      <td>1.000000</td>\n",
       "      <td>0.002151</td>\n",
       "      <td>-0.000405</td>\n",
       "      <td>0.001864</td>\n",
       "      <td>0.000194</td>\n",
       "      <td>-0.000430</td>\n",
       "      <td>-0.003974</td>\n",
       "      <td>-0.005041</td>\n",
       "      <td>-0.001554</td>\n",
       "      <td>-0.000689</td>\n",
       "      <td>-0.002646</td>\n",
       "      <td>0.002671</td>\n",
       "      <td>-0.005417</td>\n",
       "      <td>0.000686</td>\n",
       "      <td>-0.003318</td>\n",
       "      <td>0.009849</td>\n",
       "      <td>0.008686</td>\n",
       "    </tr>\n",
       "    <tr>\n",
       "      <th>Inflight wifi service</th>\n",
       "      <td>-0.022501</td>\n",
       "      <td>0.015189</td>\n",
       "      <td>0.002151</td>\n",
       "      <td>1.000000</td>\n",
       "      <td>0.348296</td>\n",
       "      <td>0.717048</td>\n",
       "      <td>0.340757</td>\n",
       "      <td>0.132118</td>\n",
       "      <td>0.457655</td>\n",
       "      <td>0.121398</td>\n",
       "      <td>0.207352</td>\n",
       "      <td>0.120540</td>\n",
       "      <td>0.159316</td>\n",
       "      <td>0.121149</td>\n",
       "      <td>0.044680</td>\n",
       "      <td>0.110820</td>\n",
       "      <td>0.131057</td>\n",
       "      <td>-0.015239</td>\n",
       "      <td>-0.017227</td>\n",
       "    </tr>\n",
       "    <tr>\n",
       "      <th>Departure/Arrival time convenient</th>\n",
       "      <td>-0.001662</td>\n",
       "      <td>0.036767</td>\n",
       "      <td>-0.000405</td>\n",
       "      <td>0.348296</td>\n",
       "      <td>1.000000</td>\n",
       "      <td>0.440523</td>\n",
       "      <td>0.448095</td>\n",
       "      <td>0.000652</td>\n",
       "      <td>0.073562</td>\n",
       "      <td>0.008506</td>\n",
       "      <td>-0.008149</td>\n",
       "      <td>0.067082</td>\n",
       "      <td>0.009880</td>\n",
       "      <td>0.070491</td>\n",
       "      <td>0.090566</td>\n",
       "      <td>0.071921</td>\n",
       "      <td>0.009926</td>\n",
       "      <td>0.001556</td>\n",
       "      <td>-0.000089</td>\n",
       "    </tr>\n",
       "    <tr>\n",
       "      <th>Ease of Online booking</th>\n",
       "      <td>0.013168</td>\n",
       "      <td>0.021842</td>\n",
       "      <td>0.001864</td>\n",
       "      <td>0.717048</td>\n",
       "      <td>0.440523</td>\n",
       "      <td>1.000000</td>\n",
       "      <td>0.460438</td>\n",
       "      <td>0.030650</td>\n",
       "      <td>0.404596</td>\n",
       "      <td>0.029182</td>\n",
       "      <td>0.046728</td>\n",
       "      <td>0.039109</td>\n",
       "      <td>0.107551</td>\n",
       "      <td>0.039290</td>\n",
       "      <td>0.009494</td>\n",
       "      <td>0.035637</td>\n",
       "      <td>0.015881</td>\n",
       "      <td>-0.004940</td>\n",
       "      <td>-0.006543</td>\n",
       "    </tr>\n",
       "    <tr>\n",
       "      <th>Gate location</th>\n",
       "      <td>-0.000024</td>\n",
       "      <td>-0.001040</td>\n",
       "      <td>0.000194</td>\n",
       "      <td>0.340757</td>\n",
       "      <td>0.448095</td>\n",
       "      <td>0.460438</td>\n",
       "      <td>1.000000</td>\n",
       "      <td>-0.002512</td>\n",
       "      <td>0.003066</td>\n",
       "      <td>0.003227</td>\n",
       "      <td>0.002933</td>\n",
       "      <td>-0.029602</td>\n",
       "      <td>-0.004701</td>\n",
       "      <td>0.000735</td>\n",
       "      <td>-0.039317</td>\n",
       "      <td>0.000129</td>\n",
       "      <td>-0.005482</td>\n",
       "      <td>0.006287</td>\n",
       "      <td>0.006082</td>\n",
       "    </tr>\n",
       "    <tr>\n",
       "      <th>Food and drink</th>\n",
       "      <td>-0.000617</td>\n",
       "      <td>0.024540</td>\n",
       "      <td>-0.000430</td>\n",
       "      <td>0.132118</td>\n",
       "      <td>0.000652</td>\n",
       "      <td>0.030650</td>\n",
       "      <td>-0.002512</td>\n",
       "      <td>1.000000</td>\n",
       "      <td>0.234555</td>\n",
       "      <td>0.575654</td>\n",
       "      <td>0.622371</td>\n",
       "      <td>0.057863</td>\n",
       "      <td>0.033250</td>\n",
       "      <td>0.036063</td>\n",
       "      <td>0.085587</td>\n",
       "      <td>0.036385</td>\n",
       "      <td>0.657044</td>\n",
       "      <td>-0.028952</td>\n",
       "      <td>-0.031567</td>\n",
       "    </tr>\n",
       "    <tr>\n",
       "      <th>Online boarding</th>\n",
       "      <td>0.055480</td>\n",
       "      <td>0.208512</td>\n",
       "      <td>-0.003974</td>\n",
       "      <td>0.457655</td>\n",
       "      <td>0.073562</td>\n",
       "      <td>0.404596</td>\n",
       "      <td>0.003066</td>\n",
       "      <td>0.234555</td>\n",
       "      <td>1.000000</td>\n",
       "      <td>0.419896</td>\n",
       "      <td>0.284201</td>\n",
       "      <td>0.155287</td>\n",
       "      <td>0.123091</td>\n",
       "      <td>0.084954</td>\n",
       "      <td>0.205954</td>\n",
       "      <td>0.075180</td>\n",
       "      <td>0.329850</td>\n",
       "      <td>-0.019529</td>\n",
       "      <td>-0.022923</td>\n",
       "    </tr>\n",
       "    <tr>\n",
       "      <th>Seat comfort</th>\n",
       "      <td>0.052647</td>\n",
       "      <td>0.160304</td>\n",
       "      <td>-0.005041</td>\n",
       "      <td>0.121398</td>\n",
       "      <td>0.008506</td>\n",
       "      <td>0.029182</td>\n",
       "      <td>0.003227</td>\n",
       "      <td>0.575654</td>\n",
       "      <td>0.419896</td>\n",
       "      <td>1.000000</td>\n",
       "      <td>0.612250</td>\n",
       "      <td>0.131385</td>\n",
       "      <td>0.104665</td>\n",
       "      <td>0.075747</td>\n",
       "      <td>0.190881</td>\n",
       "      <td>0.069958</td>\n",
       "      <td>0.679842</td>\n",
       "      <td>-0.028261</td>\n",
       "      <td>-0.030874</td>\n",
       "    </tr>\n",
       "    <tr>\n",
       "      <th>Inflight entertainment</th>\n",
       "      <td>0.002152</td>\n",
       "      <td>0.073666</td>\n",
       "      <td>-0.001554</td>\n",
       "      <td>0.207352</td>\n",
       "      <td>-0.008149</td>\n",
       "      <td>0.046728</td>\n",
       "      <td>0.002933</td>\n",
       "      <td>0.622371</td>\n",
       "      <td>0.284201</td>\n",
       "      <td>0.612250</td>\n",
       "      <td>1.000000</td>\n",
       "      <td>0.419170</td>\n",
       "      <td>0.298700</td>\n",
       "      <td>0.381588</td>\n",
       "      <td>0.120593</td>\n",
       "      <td>0.407688</td>\n",
       "      <td>0.692658</td>\n",
       "      <td>-0.026595</td>\n",
       "      <td>-0.029757</td>\n",
       "    </tr>\n",
       "    <tr>\n",
       "      <th>On-board service</th>\n",
       "      <td>0.055760</td>\n",
       "      <td>0.055327</td>\n",
       "      <td>-0.000689</td>\n",
       "      <td>0.120540</td>\n",
       "      <td>0.067082</td>\n",
       "      <td>0.039109</td>\n",
       "      <td>-0.029602</td>\n",
       "      <td>0.057863</td>\n",
       "      <td>0.155287</td>\n",
       "      <td>0.131385</td>\n",
       "      <td>0.419170</td>\n",
       "      <td>1.000000</td>\n",
       "      <td>0.355541</td>\n",
       "      <td>0.522077</td>\n",
       "      <td>0.245580</td>\n",
       "      <td>0.552787</td>\n",
       "      <td>0.122714</td>\n",
       "      <td>-0.030556</td>\n",
       "      <td>-0.035011</td>\n",
       "    </tr>\n",
       "    <tr>\n",
       "      <th>Leg room service</th>\n",
       "      <td>0.044461</td>\n",
       "      <td>0.036335</td>\n",
       "      <td>-0.002646</td>\n",
       "      <td>0.159316</td>\n",
       "      <td>0.009880</td>\n",
       "      <td>0.107551</td>\n",
       "      <td>-0.004701</td>\n",
       "      <td>0.033250</td>\n",
       "      <td>0.123091</td>\n",
       "      <td>0.104665</td>\n",
       "      <td>0.298700</td>\n",
       "      <td>0.355541</td>\n",
       "      <td>1.000000</td>\n",
       "      <td>0.369953</td>\n",
       "      <td>0.152027</td>\n",
       "      <td>0.367141</td>\n",
       "      <td>0.097047</td>\n",
       "      <td>0.014826</td>\n",
       "      <td>0.011728</td>\n",
       "    </tr>\n",
       "    <tr>\n",
       "      <th>Baggage handling</th>\n",
       "      <td>0.074455</td>\n",
       "      <td>-0.050283</td>\n",
       "      <td>0.002671</td>\n",
       "      <td>0.121149</td>\n",
       "      <td>0.070491</td>\n",
       "      <td>0.039290</td>\n",
       "      <td>0.000735</td>\n",
       "      <td>0.036063</td>\n",
       "      <td>0.084954</td>\n",
       "      <td>0.075747</td>\n",
       "      <td>0.381588</td>\n",
       "      <td>0.522077</td>\n",
       "      <td>0.369953</td>\n",
       "      <td>1.000000</td>\n",
       "      <td>0.234823</td>\n",
       "      <td>0.631223</td>\n",
       "      <td>0.098538</td>\n",
       "      <td>-0.003722</td>\n",
       "      <td>-0.007528</td>\n",
       "    </tr>\n",
       "    <tr>\n",
       "      <th>Checkin service</th>\n",
       "      <td>0.079190</td>\n",
       "      <td>0.033682</td>\n",
       "      <td>-0.005417</td>\n",
       "      <td>0.044680</td>\n",
       "      <td>0.090566</td>\n",
       "      <td>0.009494</td>\n",
       "      <td>-0.039317</td>\n",
       "      <td>0.085587</td>\n",
       "      <td>0.205954</td>\n",
       "      <td>0.190881</td>\n",
       "      <td>0.120593</td>\n",
       "      <td>0.245580</td>\n",
       "      <td>0.152027</td>\n",
       "      <td>0.234823</td>\n",
       "      <td>1.000000</td>\n",
       "      <td>0.238270</td>\n",
       "      <td>0.177536</td>\n",
       "      <td>-0.019088</td>\n",
       "      <td>-0.022155</td>\n",
       "    </tr>\n",
       "    <tr>\n",
       "      <th>Inflight service</th>\n",
       "      <td>0.078969</td>\n",
       "      <td>-0.053765</td>\n",
       "      <td>0.000686</td>\n",
       "      <td>0.110820</td>\n",
       "      <td>0.071921</td>\n",
       "      <td>0.035637</td>\n",
       "      <td>0.000129</td>\n",
       "      <td>0.036385</td>\n",
       "      <td>0.075180</td>\n",
       "      <td>0.069958</td>\n",
       "      <td>0.407688</td>\n",
       "      <td>0.552787</td>\n",
       "      <td>0.367141</td>\n",
       "      <td>0.631223</td>\n",
       "      <td>0.238270</td>\n",
       "      <td>1.000000</td>\n",
       "      <td>0.091737</td>\n",
       "      <td>-0.054808</td>\n",
       "      <td>-0.060277</td>\n",
       "    </tr>\n",
       "    <tr>\n",
       "      <th>Cleanliness</th>\n",
       "      <td>0.024573</td>\n",
       "      <td>0.053248</td>\n",
       "      <td>-0.003318</td>\n",
       "      <td>0.131057</td>\n",
       "      <td>0.009926</td>\n",
       "      <td>0.015881</td>\n",
       "      <td>-0.005482</td>\n",
       "      <td>0.657044</td>\n",
       "      <td>0.329850</td>\n",
       "      <td>0.679842</td>\n",
       "      <td>0.692658</td>\n",
       "      <td>0.122714</td>\n",
       "      <td>0.097047</td>\n",
       "      <td>0.098538</td>\n",
       "      <td>0.177536</td>\n",
       "      <td>0.091737</td>\n",
       "      <td>1.000000</td>\n",
       "      <td>-0.014516</td>\n",
       "      <td>-0.016605</td>\n",
       "    </tr>\n",
       "    <tr>\n",
       "      <th>Departure Delay in Minutes</th>\n",
       "      <td>-0.018045</td>\n",
       "      <td>-0.009032</td>\n",
       "      <td>0.009849</td>\n",
       "      <td>-0.015239</td>\n",
       "      <td>0.001556</td>\n",
       "      <td>-0.004940</td>\n",
       "      <td>0.006287</td>\n",
       "      <td>-0.028952</td>\n",
       "      <td>-0.019529</td>\n",
       "      <td>-0.028261</td>\n",
       "      <td>-0.026595</td>\n",
       "      <td>-0.030556</td>\n",
       "      <td>0.014826</td>\n",
       "      <td>-0.003722</td>\n",
       "      <td>-0.019088</td>\n",
       "      <td>-0.054808</td>\n",
       "      <td>-0.014516</td>\n",
       "      <td>1.000000</td>\n",
       "      <td>0.965180</td>\n",
       "    </tr>\n",
       "    <tr>\n",
       "      <th>Arrival Delay in Minutes</th>\n",
       "      <td>-0.036218</td>\n",
       "      <td>-0.011270</td>\n",
       "      <td>0.008686</td>\n",
       "      <td>-0.017227</td>\n",
       "      <td>-0.000089</td>\n",
       "      <td>-0.006543</td>\n",
       "      <td>0.006082</td>\n",
       "      <td>-0.031567</td>\n",
       "      <td>-0.022923</td>\n",
       "      <td>-0.030874</td>\n",
       "      <td>-0.029757</td>\n",
       "      <td>-0.035011</td>\n",
       "      <td>0.011728</td>\n",
       "      <td>-0.007528</td>\n",
       "      <td>-0.022155</td>\n",
       "      <td>-0.060277</td>\n",
       "      <td>-0.016605</td>\n",
       "      <td>0.965180</td>\n",
       "      <td>1.000000</td>\n",
       "    </tr>\n",
       "  </tbody>\n",
       "</table>\n",
       "</div>"
      ],
      "text/plain": [
       "                                         id       Age  Flight Distance  \\\n",
       "id                                 1.000000  0.021329        -0.004021   \n",
       "Age                                0.021329  1.000000        -0.008273   \n",
       "Flight Distance                   -0.004021 -0.008273         1.000000   \n",
       "Inflight wifi service             -0.022501  0.015189         0.002151   \n",
       "Departure/Arrival time convenient -0.001662  0.036767        -0.000405   \n",
       "Ease of Online booking             0.013168  0.021842         0.001864   \n",
       "Gate location                     -0.000024 -0.001040         0.000194   \n",
       "Food and drink                    -0.000617  0.024540        -0.000430   \n",
       "Online boarding                    0.055480  0.208512        -0.003974   \n",
       "Seat comfort                       0.052647  0.160304        -0.005041   \n",
       "Inflight entertainment             0.002152  0.073666        -0.001554   \n",
       "On-board service                   0.055760  0.055327        -0.000689   \n",
       "Leg room service                   0.044461  0.036335        -0.002646   \n",
       "Baggage handling                   0.074455 -0.050283         0.002671   \n",
       "Checkin service                    0.079190  0.033682        -0.005417   \n",
       "Inflight service                   0.078969 -0.053765         0.000686   \n",
       "Cleanliness                        0.024573  0.053248        -0.003318   \n",
       "Departure Delay in Minutes        -0.018045 -0.009032         0.009849   \n",
       "Arrival Delay in Minutes          -0.036218 -0.011270         0.008686   \n",
       "\n",
       "                                   Inflight wifi service  \\\n",
       "id                                             -0.022501   \n",
       "Age                                             0.015189   \n",
       "Flight Distance                                 0.002151   \n",
       "Inflight wifi service                           1.000000   \n",
       "Departure/Arrival time convenient               0.348296   \n",
       "Ease of Online booking                          0.717048   \n",
       "Gate location                                   0.340757   \n",
       "Food and drink                                  0.132118   \n",
       "Online boarding                                 0.457655   \n",
       "Seat comfort                                    0.121398   \n",
       "Inflight entertainment                          0.207352   \n",
       "On-board service                                0.120540   \n",
       "Leg room service                                0.159316   \n",
       "Baggage handling                                0.121149   \n",
       "Checkin service                                 0.044680   \n",
       "Inflight service                                0.110820   \n",
       "Cleanliness                                     0.131057   \n",
       "Departure Delay in Minutes                     -0.015239   \n",
       "Arrival Delay in Minutes                       -0.017227   \n",
       "\n",
       "                                   Departure/Arrival time convenient  \\\n",
       "id                                                         -0.001662   \n",
       "Age                                                         0.036767   \n",
       "Flight Distance                                            -0.000405   \n",
       "Inflight wifi service                                       0.348296   \n",
       "Departure/Arrival time convenient                           1.000000   \n",
       "Ease of Online booking                                      0.440523   \n",
       "Gate location                                               0.448095   \n",
       "Food and drink                                              0.000652   \n",
       "Online boarding                                             0.073562   \n",
       "Seat comfort                                                0.008506   \n",
       "Inflight entertainment                                     -0.008149   \n",
       "On-board service                                            0.067082   \n",
       "Leg room service                                            0.009880   \n",
       "Baggage handling                                            0.070491   \n",
       "Checkin service                                             0.090566   \n",
       "Inflight service                                            0.071921   \n",
       "Cleanliness                                                 0.009926   \n",
       "Departure Delay in Minutes                                  0.001556   \n",
       "Arrival Delay in Minutes                                   -0.000089   \n",
       "\n",
       "                                   Ease of Online booking  Gate location  \\\n",
       "id                                               0.013168      -0.000024   \n",
       "Age                                              0.021842      -0.001040   \n",
       "Flight Distance                                  0.001864       0.000194   \n",
       "Inflight wifi service                            0.717048       0.340757   \n",
       "Departure/Arrival time convenient                0.440523       0.448095   \n",
       "Ease of Online booking                           1.000000       0.460438   \n",
       "Gate location                                    0.460438       1.000000   \n",
       "Food and drink                                   0.030650      -0.002512   \n",
       "Online boarding                                  0.404596       0.003066   \n",
       "Seat comfort                                     0.029182       0.003227   \n",
       "Inflight entertainment                           0.046728       0.002933   \n",
       "On-board service                                 0.039109      -0.029602   \n",
       "Leg room service                                 0.107551      -0.004701   \n",
       "Baggage handling                                 0.039290       0.000735   \n",
       "Checkin service                                  0.009494      -0.039317   \n",
       "Inflight service                                 0.035637       0.000129   \n",
       "Cleanliness                                      0.015881      -0.005482   \n",
       "Departure Delay in Minutes                      -0.004940       0.006287   \n",
       "Arrival Delay in Minutes                        -0.006543       0.006082   \n",
       "\n",
       "                                   Food and drink  Online boarding  \\\n",
       "id                                      -0.000617         0.055480   \n",
       "Age                                      0.024540         0.208512   \n",
       "Flight Distance                         -0.000430        -0.003974   \n",
       "Inflight wifi service                    0.132118         0.457655   \n",
       "Departure/Arrival time convenient        0.000652         0.073562   \n",
       "Ease of Online booking                   0.030650         0.404596   \n",
       "Gate location                           -0.002512         0.003066   \n",
       "Food and drink                           1.000000         0.234555   \n",
       "Online boarding                          0.234555         1.000000   \n",
       "Seat comfort                             0.575654         0.419896   \n",
       "Inflight entertainment                   0.622371         0.284201   \n",
       "On-board service                         0.057863         0.155287   \n",
       "Leg room service                         0.033250         0.123091   \n",
       "Baggage handling                         0.036063         0.084954   \n",
       "Checkin service                          0.085587         0.205954   \n",
       "Inflight service                         0.036385         0.075180   \n",
       "Cleanliness                              0.657044         0.329850   \n",
       "Departure Delay in Minutes              -0.028952        -0.019529   \n",
       "Arrival Delay in Minutes                -0.031567        -0.022923   \n",
       "\n",
       "                                   Seat comfort  Inflight entertainment  \\\n",
       "id                                     0.052647                0.002152   \n",
       "Age                                    0.160304                0.073666   \n",
       "Flight Distance                       -0.005041               -0.001554   \n",
       "Inflight wifi service                  0.121398                0.207352   \n",
       "Departure/Arrival time convenient      0.008506               -0.008149   \n",
       "Ease of Online booking                 0.029182                0.046728   \n",
       "Gate location                          0.003227                0.002933   \n",
       "Food and drink                         0.575654                0.622371   \n",
       "Online boarding                        0.419896                0.284201   \n",
       "Seat comfort                           1.000000                0.612250   \n",
       "Inflight entertainment                 0.612250                1.000000   \n",
       "On-board service                       0.131385                0.419170   \n",
       "Leg room service                       0.104665                0.298700   \n",
       "Baggage handling                       0.075747                0.381588   \n",
       "Checkin service                        0.190881                0.120593   \n",
       "Inflight service                       0.069958                0.407688   \n",
       "Cleanliness                            0.679842                0.692658   \n",
       "Departure Delay in Minutes            -0.028261               -0.026595   \n",
       "Arrival Delay in Minutes              -0.030874               -0.029757   \n",
       "\n",
       "                                   On-board service  Leg room service  \\\n",
       "id                                         0.055760          0.044461   \n",
       "Age                                        0.055327          0.036335   \n",
       "Flight Distance                           -0.000689         -0.002646   \n",
       "Inflight wifi service                      0.120540          0.159316   \n",
       "Departure/Arrival time convenient          0.067082          0.009880   \n",
       "Ease of Online booking                     0.039109          0.107551   \n",
       "Gate location                             -0.029602         -0.004701   \n",
       "Food and drink                             0.057863          0.033250   \n",
       "Online boarding                            0.155287          0.123091   \n",
       "Seat comfort                               0.131385          0.104665   \n",
       "Inflight entertainment                     0.419170          0.298700   \n",
       "On-board service                           1.000000          0.355541   \n",
       "Leg room service                           0.355541          1.000000   \n",
       "Baggage handling                           0.522077          0.369953   \n",
       "Checkin service                            0.245580          0.152027   \n",
       "Inflight service                           0.552787          0.367141   \n",
       "Cleanliness                                0.122714          0.097047   \n",
       "Departure Delay in Minutes                -0.030556          0.014826   \n",
       "Arrival Delay in Minutes                  -0.035011          0.011728   \n",
       "\n",
       "                                   Baggage handling  Checkin service  \\\n",
       "id                                         0.074455         0.079190   \n",
       "Age                                       -0.050283         0.033682   \n",
       "Flight Distance                            0.002671        -0.005417   \n",
       "Inflight wifi service                      0.121149         0.044680   \n",
       "Departure/Arrival time convenient          0.070491         0.090566   \n",
       "Ease of Online booking                     0.039290         0.009494   \n",
       "Gate location                              0.000735        -0.039317   \n",
       "Food and drink                             0.036063         0.085587   \n",
       "Online boarding                            0.084954         0.205954   \n",
       "Seat comfort                               0.075747         0.190881   \n",
       "Inflight entertainment                     0.381588         0.120593   \n",
       "On-board service                           0.522077         0.245580   \n",
       "Leg room service                           0.369953         0.152027   \n",
       "Baggage handling                           1.000000         0.234823   \n",
       "Checkin service                            0.234823         1.000000   \n",
       "Inflight service                           0.631223         0.238270   \n",
       "Cleanliness                                0.098538         0.177536   \n",
       "Departure Delay in Minutes                -0.003722        -0.019088   \n",
       "Arrival Delay in Minutes                  -0.007528        -0.022155   \n",
       "\n",
       "                                   Inflight service  Cleanliness  \\\n",
       "id                                         0.078969     0.024573   \n",
       "Age                                       -0.053765     0.053248   \n",
       "Flight Distance                            0.000686    -0.003318   \n",
       "Inflight wifi service                      0.110820     0.131057   \n",
       "Departure/Arrival time convenient          0.071921     0.009926   \n",
       "Ease of Online booking                     0.035637     0.015881   \n",
       "Gate location                              0.000129    -0.005482   \n",
       "Food and drink                             0.036385     0.657044   \n",
       "Online boarding                            0.075180     0.329850   \n",
       "Seat comfort                               0.069958     0.679842   \n",
       "Inflight entertainment                     0.407688     0.692658   \n",
       "On-board service                           0.552787     0.122714   \n",
       "Leg room service                           0.367141     0.097047   \n",
       "Baggage handling                           0.631223     0.098538   \n",
       "Checkin service                            0.238270     0.177536   \n",
       "Inflight service                           1.000000     0.091737   \n",
       "Cleanliness                                0.091737     1.000000   \n",
       "Departure Delay in Minutes                -0.054808    -0.014516   \n",
       "Arrival Delay in Minutes                  -0.060277    -0.016605   \n",
       "\n",
       "                                   Departure Delay in Minutes  \\\n",
       "id                                                  -0.018045   \n",
       "Age                                                 -0.009032   \n",
       "Flight Distance                                      0.009849   \n",
       "Inflight wifi service                               -0.015239   \n",
       "Departure/Arrival time convenient                    0.001556   \n",
       "Ease of Online booking                              -0.004940   \n",
       "Gate location                                        0.006287   \n",
       "Food and drink                                      -0.028952   \n",
       "Online boarding                                     -0.019529   \n",
       "Seat comfort                                        -0.028261   \n",
       "Inflight entertainment                              -0.026595   \n",
       "On-board service                                    -0.030556   \n",
       "Leg room service                                     0.014826   \n",
       "Baggage handling                                    -0.003722   \n",
       "Checkin service                                     -0.019088   \n",
       "Inflight service                                    -0.054808   \n",
       "Cleanliness                                         -0.014516   \n",
       "Departure Delay in Minutes                           1.000000   \n",
       "Arrival Delay in Minutes                             0.965180   \n",
       "\n",
       "                                   Arrival Delay in Minutes  \n",
       "id                                                -0.036218  \n",
       "Age                                               -0.011270  \n",
       "Flight Distance                                    0.008686  \n",
       "Inflight wifi service                             -0.017227  \n",
       "Departure/Arrival time convenient                 -0.000089  \n",
       "Ease of Online booking                            -0.006543  \n",
       "Gate location                                      0.006082  \n",
       "Food and drink                                    -0.031567  \n",
       "Online boarding                                   -0.022923  \n",
       "Seat comfort                                      -0.030874  \n",
       "Inflight entertainment                            -0.029757  \n",
       "On-board service                                  -0.035011  \n",
       "Leg room service                                   0.011728  \n",
       "Baggage handling                                  -0.007528  \n",
       "Checkin service                                   -0.022155  \n",
       "Inflight service                                  -0.060277  \n",
       "Cleanliness                                       -0.016605  \n",
       "Departure Delay in Minutes                         0.965180  \n",
       "Arrival Delay in Minutes                           1.000000  "
      ]
     },
     "execution_count": 77,
     "metadata": {},
     "output_type": "execute_result"
    }
   ],
   "source": [
    "# Correlation\n",
    "\n",
    "cat_lst = []\n",
    "for i in range(0,len(df.columns)):\n",
    "    if df[df.columns[i]].dtype == 'object':\n",
    "        cat_lst.append(df.columns[i])\n",
    "    \n",
    "df.drop(cat_lst,axis=1).corr()"
   ]
  },
  {
   "cell_type": "code",
   "execution_count": 97,
   "id": "b15e4ae3",
   "metadata": {},
   "outputs": [
    {
     "data": {
      "text/plain": [
       "<AxesSubplot:>"
      ]
     },
     "execution_count": 97,
     "metadata": {},
     "output_type": "execute_result"
    },
    {
     "data": {
      "image/png": "[encoded data removed]",
      "text/plain": [
       "<Figure size 1080x864 with 2 Axes>"
      ]
     },
     "metadata": {
      "needs_background": "light"
     },
     "output_type": "display_data"
    }
   ],
   "source": [
    "import matplotlib.pyplot as plt\n",
    "import seaborn as sns\n",
    "\n",
    "plt.figure(figsize = (15,12))\n",
    "sns.heatmap(df.drop(cat_lst,axis=1).corr())"
   ]
  },
  {
   "cell_type": "markdown",
   "id": "d4fb7eb2",
   "metadata": {},
   "source": [
    "### Find highly correlated numerical features"
   ]
  },
  {
   "cell_type": "code",
   "execution_count": 98,
   "id": "72de113c",
   "metadata": {},
   "outputs": [
    {
     "name": "stdout",
     "output_type": "stream",
     "text": [
      "                                   id  Age  Flight Distance  \\\n",
      "id                                NaN  NaN              NaN   \n",
      "Age                               NaN  NaN              NaN   \n",
      "Flight Distance                   NaN  NaN              NaN   \n",
      "Inflight wifi service             NaN  NaN              NaN   \n",
      "Departure/Arrival time convenient NaN  NaN              NaN   \n",
      "Ease of Online booking            NaN  NaN              NaN   \n",
      "Gate location                     NaN  NaN              NaN   \n",
      "Food and drink                    NaN  NaN              NaN   \n",
      "Online boarding                   NaN  NaN              NaN   \n",
      "Seat comfort                      NaN  NaN              NaN   \n",
      "Inflight entertainment            NaN  NaN              NaN   \n",
      "On-board service                  NaN  NaN              NaN   \n",
      "Leg room service                  NaN  NaN              NaN   \n",
      "Baggage handling                  NaN  NaN              NaN   \n",
      "Checkin service                   NaN  NaN              NaN   \n",
      "Inflight service                  NaN  NaN              NaN   \n",
      "Cleanliness                       NaN  NaN              NaN   \n",
      "Departure Delay in Minutes        NaN  NaN              NaN   \n",
      "Arrival Delay in Minutes          NaN  NaN              NaN   \n",
      "\n",
      "                                   Inflight wifi service  \\\n",
      "id                                                   NaN   \n",
      "Age                                                  NaN   \n",
      "Flight Distance                                      NaN   \n",
      "Inflight wifi service                                NaN   \n",
      "Departure/Arrival time convenient                    NaN   \n",
      "Ease of Online booking                               NaN   \n",
      "Gate location                                        NaN   \n",
      "Food and drink                                       NaN   \n",
      "Online boarding                                      NaN   \n",
      "Seat comfort                                         NaN   \n",
      "Inflight entertainment                               NaN   \n",
      "On-board service                                     NaN   \n",
      "Leg room service                                     NaN   \n",
      "Baggage handling                                     NaN   \n",
      "Checkin service                                      NaN   \n",
      "Inflight service                                     NaN   \n",
      "Cleanliness                                          NaN   \n",
      "Departure Delay in Minutes                           NaN   \n",
      "Arrival Delay in Minutes                             NaN   \n",
      "\n",
      "                                   Departure/Arrival time convenient  \\\n",
      "id                                                               NaN   \n",
      "Age                                                              NaN   \n",
      "Flight Distance                                                  NaN   \n",
      "Inflight wifi service                                            NaN   \n",
      "Departure/Arrival time convenient                                NaN   \n",
      "Ease of Online booking                                           NaN   \n",
      "Gate location                                                    NaN   \n",
      "Food and drink                                                   NaN   \n",
      "Online boarding                                                  NaN   \n",
      "Seat comfort                                                     NaN   \n",
      "Inflight entertainment                                           NaN   \n",
      "On-board service                                                 NaN   \n",
      "Leg room service                                                 NaN   \n",
      "Baggage handling                                                 NaN   \n",
      "Checkin service                                                  NaN   \n",
      "Inflight service                                                 NaN   \n",
      "Cleanliness                                                      NaN   \n",
      "Departure Delay in Minutes                                       NaN   \n",
      "Arrival Delay in Minutes                                         NaN   \n",
      "\n",
      "                                   Ease of Online booking  Gate location  \\\n",
      "id                                                    NaN            NaN   \n",
      "Age                                                   NaN            NaN   \n",
      "Flight Distance                                       NaN            NaN   \n",
      "Inflight wifi service                                 NaN            NaN   \n",
      "Departure/Arrival time convenient                     NaN            NaN   \n",
      "Ease of Online booking                                NaN            NaN   \n",
      "Gate location                                         NaN            NaN   \n",
      "Food and drink                                        NaN            NaN   \n",
      "Online boarding                                       NaN            NaN   \n",
      "Seat comfort                                          NaN            NaN   \n",
      "Inflight entertainment                                NaN            NaN   \n",
      "On-board service                                      NaN            NaN   \n",
      "Leg room service                                      NaN            NaN   \n",
      "Baggage handling                                      NaN            NaN   \n",
      "Checkin service                                       NaN            NaN   \n",
      "Inflight service                                      NaN            NaN   \n",
      "Cleanliness                                           NaN            NaN   \n",
      "Departure Delay in Minutes                            NaN            NaN   \n",
      "Arrival Delay in Minutes                              NaN            NaN   \n",
      "\n",
      "                                   Food and drink  Online boarding  \\\n",
      "id                                            NaN              NaN   \n",
      "Age                                           NaN              NaN   \n",
      "Flight Distance                               NaN              NaN   \n",
      "Inflight wifi service                         NaN              NaN   \n",
      "Departure/Arrival time convenient             NaN              NaN   \n",
      "Ease of Online booking                        NaN              NaN   \n",
      "Gate location                                 NaN              NaN   \n",
      "Food and drink                                NaN              NaN   \n",
      "Online boarding                               NaN              NaN   \n",
      "Seat comfort                                  NaN              NaN   \n",
      "Inflight entertainment                        NaN              NaN   \n",
      "On-board service                              NaN              NaN   \n",
      "Leg room service                              NaN              NaN   \n",
      "Baggage handling                              NaN              NaN   \n",
      "Checkin service                               NaN              NaN   \n",
      "Inflight service                              NaN              NaN   \n",
      "Cleanliness                                   NaN              NaN   \n",
      "Departure Delay in Minutes                    NaN              NaN   \n",
      "Arrival Delay in Minutes                      NaN              NaN   \n",
      "\n",
      "                                   Seat comfort  Inflight entertainment  \\\n",
      "id                                          NaN                     NaN   \n",
      "Age                                         NaN                     NaN   \n",
      "Flight Distance                             NaN                     NaN   \n",
      "Inflight wifi service                       NaN                     NaN   \n",
      "Departure/Arrival time convenient           NaN                     NaN   \n",
      "Ease of Online booking                      NaN                     NaN   \n",
      "Gate location                               NaN                     NaN   \n",
      "Food and drink                              NaN                     NaN   \n",
      "Online boarding                             NaN                     NaN   \n",
      "Seat comfort                                NaN                     NaN   \n",
      "Inflight entertainment                      NaN                     NaN   \n",
      "On-board service                            NaN                     NaN   \n",
      "Leg room service                            NaN                     NaN   \n",
      "Baggage handling                            NaN                     NaN   \n",
      "Checkin service                             NaN                     NaN   \n",
      "Inflight service                            NaN                     NaN   \n",
      "Cleanliness                                 NaN                     NaN   \n",
      "Departure Delay in Minutes                  NaN                     NaN   \n",
      "Arrival Delay in Minutes                    NaN                     NaN   \n",
      "\n",
      "                                   On-board service  Leg room service  \\\n",
      "id                                              NaN               NaN   \n",
      "Age                                             NaN               NaN   \n",
      "Flight Distance                                 NaN               NaN   \n",
      "Inflight wifi service                           NaN               NaN   \n",
      "Departure/Arrival time convenient               NaN               NaN   \n",
      "Ease of Online booking                          NaN               NaN   \n",
      "Gate location                                   NaN               NaN   \n",
      "Food and drink                                  NaN               NaN   \n",
      "Online boarding                                 NaN               NaN   \n",
      "Seat comfort                                    NaN               NaN   \n",
      "Inflight entertainment                          NaN               NaN   \n",
      "On-board service                                NaN               NaN   \n",
      "Leg room service                                NaN               NaN   \n",
      "Baggage handling                                NaN               NaN   \n",
      "Checkin service                                 NaN               NaN   \n",
      "Inflight service                                NaN               NaN   \n",
      "Cleanliness                                     NaN               NaN   \n",
      "Departure Delay in Minutes                      NaN               NaN   \n",
      "Arrival Delay in Minutes                        NaN               NaN   \n",
      "\n",
      "                                   Baggage handling  Checkin service  \\\n",
      "id                                              NaN              NaN   \n",
      "Age                                             NaN              NaN   \n",
      "Flight Distance                                 NaN              NaN   \n",
      "Inflight wifi service                           NaN              NaN   \n",
      "Departure/Arrival time convenient               NaN              NaN   \n",
      "Ease of Online booking                          NaN              NaN   \n",
      "Gate location                                   NaN              NaN   \n",
      "Food and drink                                  NaN              NaN   \n",
      "Online boarding                                 NaN              NaN   \n",
      "Seat comfort                                    NaN              NaN   \n",
      "Inflight entertainment                          NaN              NaN   \n",
      "On-board service                                NaN              NaN   \n",
      "Leg room service                                NaN              NaN   \n",
      "Baggage handling                                NaN              NaN   \n",
      "Checkin service                                 NaN              NaN   \n",
      "Inflight service                                NaN              NaN   \n",
      "Cleanliness                                     NaN              NaN   \n",
      "Departure Delay in Minutes                      NaN              NaN   \n",
      "Arrival Delay in Minutes                        NaN              NaN   \n",
      "\n",
      "                                   Inflight service  Cleanliness  \\\n",
      "id                                              NaN          NaN   \n",
      "Age                                             NaN          NaN   \n",
      "Flight Distance                                 NaN          NaN   \n",
      "Inflight wifi service                           NaN          NaN   \n",
      "Departure/Arrival time convenient               NaN          NaN   \n",
      "Ease of Online booking                          NaN          NaN   \n",
      "Gate location                                   NaN          NaN   \n",
      "Food and drink                                  NaN          NaN   \n",
      "Online boarding                                 NaN          NaN   \n",
      "Seat comfort                                    NaN          NaN   \n",
      "Inflight entertainment                          NaN          NaN   \n",
      "On-board service                                NaN          NaN   \n",
      "Leg room service                                NaN          NaN   \n",
      "Baggage handling                                NaN          NaN   \n",
      "Checkin service                                 NaN          NaN   \n",
      "Inflight service                                NaN          NaN   \n",
      "Cleanliness                                     NaN          NaN   \n",
      "Departure Delay in Minutes                      NaN          NaN   \n",
      "Arrival Delay in Minutes                        NaN          NaN   \n",
      "\n",
      "                                   Departure Delay in Minutes  \\\n",
      "id                                                        NaN   \n",
      "Age                                                       NaN   \n",
      "Flight Distance                                           NaN   \n",
      "Inflight wifi service                                     NaN   \n",
      "Departure/Arrival time convenient                         NaN   \n",
      "Ease of Online booking                                    NaN   \n",
      "Gate location                                             NaN   \n",
      "Food and drink                                            NaN   \n",
      "Online boarding                                           NaN   \n",
      "Seat comfort                                              NaN   \n",
      "Inflight entertainment                                    NaN   \n",
      "On-board service                                          NaN   \n",
      "Leg room service                                          NaN   \n",
      "Baggage handling                                          NaN   \n",
      "Checkin service                                           NaN   \n",
      "Inflight service                                          NaN   \n",
      "Cleanliness                                               NaN   \n",
      "Departure Delay in Minutes                                NaN   \n",
      "Arrival Delay in Minutes                              0.96518   \n",
      "\n",
      "                                   Arrival Delay in Minutes  \n",
      "id                                                      NaN  \n",
      "Age                                                     NaN  \n",
      "Flight Distance                                         NaN  \n",
      "Inflight wifi service                                   NaN  \n",
      "Departure/Arrival time convenient                       NaN  \n",
      "Ease of Online booking                                  NaN  \n",
      "Gate location                                           NaN  \n",
      "Food and drink                                          NaN  \n",
      "Online boarding                                         NaN  \n",
      "Seat comfort                                            NaN  \n",
      "Inflight entertainment                                  NaN  \n",
      "On-board service                                        NaN  \n",
      "Leg room service                                        NaN  \n",
      "Baggage handling                                        NaN  \n",
      "Checkin service                                         NaN  \n",
      "Inflight service                                        NaN  \n",
      "Cleanliness                                             NaN  \n",
      "Departure Delay in Minutes                          0.96518  \n",
      "Arrival Delay in Minutes                                NaN  \n"
     ]
    }
   ],
   "source": [
    "# To find highly correlated Numerical features\n",
    "high_corr = df.drop(cat_lst,axis=1).corr()\n",
    "\n",
    "highly_correlated = high_corr[(high_corr > 0.9) & (high_corr != 1.0)]\n",
    "print(highly_correlated)"
   ]
  },
  {
   "cell_type": "code",
   "execution_count": 54,
   "id": "a69b71b5",
   "metadata": {},
   "outputs": [
    {
     "name": "stdout",
     "output_type": "stream",
     "text": [
      "Inflight wifi service\n",
      "Departure/Arrival time convenient\n",
      "Ease of Online booking\n",
      "Gate location\n",
      "Food and drink\n",
      "Online boarding\n",
      "Seat comfort\n",
      "Inflight entertainment\n",
      "On-board service\n",
      "Baggage handling\n",
      "Checkin service\n",
      "Inflight service\n",
      "Cleanliness\n"
     ]
    }
   ],
   "source": [
    "for i in range(0,len(df.columns)):\n",
    "    #print(df[df.columns[i]].dtype)\n",
    "    if df[df.columns[i]].max() == 5:\n",
    "        print(df.columns[i])"
   ]
  },
  {
   "cell_type": "code",
   "execution_count": 104,
   "id": "bfe4365b",
   "metadata": {},
   "outputs": [
    {
     "data": {
      "text/plain": [
       "Cleanliness\n",
       "4    33618\n",
       "3    30376\n",
       "5    28119\n",
       "2    19901\n",
       "1    16550\n",
       "0       13\n",
       "Name: count, dtype: int64"
      ]
     },
     "execution_count": 104,
     "metadata": {},
     "output_type": "execute_result"
    }
   ],
   "source": [
    "df.Cleanliness.value_counts()"
   ]
  },
  {
   "cell_type": "code",
   "execution_count": 108,
   "id": "2aeeb4b9",
   "metadata": {},
   "outputs": [
    {
     "data": {
      "text/plain": [
       "Departure/Arrival time convenient\n",
       "4    31536\n",
       "5    27682\n",
       "3    22168\n",
       "2    21362\n",
       "1    19234\n",
       "0     6595\n",
       "Name: count, dtype: int64"
      ]
     },
     "execution_count": 108,
     "metadata": {},
     "output_type": "execute_result"
    }
   ],
   "source": [
    "df['Departure/Arrival time convenient'].value_counts()"
   ]
  },
  {
   "cell_type": "markdown",
   "id": "8ee788ba",
   "metadata": {},
   "source": [
    "### Check for imbalance data set"
   ]
  },
  {
   "cell_type": "code",
   "execution_count": 114,
   "id": "3e805436",
   "metadata": {},
   "outputs": [
    {
     "name": "stdout",
     "output_type": "stream",
     "text": [
      "id\n",
      "1         1\n",
      "86967     1\n",
      "86980     1\n",
      "86979     1\n",
      "86978     1\n",
      "         ..\n",
      "43519     1\n",
      "43518     1\n",
      "43517     1\n",
      "43516     1\n",
      "129880    1\n",
      "Name: count, Length: 128577, dtype: int64\n",
      "satisfaction_v2\n",
      "neutral or dissatisfied    72716\n",
      "satisfied                  55861\n",
      "Name: count, dtype: int64\n",
      "Gender\n",
      "Female    65238\n",
      "Male      63339\n",
      "Name: count, dtype: int64\n",
      "Customer Type\n",
      "Loyal Customer       105036\n",
      "disloyal Customer     23541\n",
      "Name: count, dtype: int64\n",
      "Age\n",
      "39.0    3625\n",
      "25.0    3482\n",
      "40.0    3163\n",
      "44.0    3064\n",
      "41.0    3042\n",
      "        ... \n",
      "76.0      59\n",
      "74.0      58\n",
      "79.0      52\n",
      "78.0      43\n",
      "85.0      21\n",
      "Name: count, Length: 75, dtype: int64\n",
      "Type of Travel\n",
      "Business travel    88830\n",
      "Personal Travel    39747\n",
      "Name: count, dtype: int64\n",
      "Class\n",
      "Business    61821\n",
      "Eco         57495\n",
      "Eco Plus     9261\n",
      "Name: count, dtype: int64\n",
      "Flight Distance\n",
      "337     841\n",
      "594     505\n",
      "404     480\n",
      "862     473\n",
      "2475    470\n",
      "       ... \n",
      "1469      1\n",
      "681       1\n",
      "1361      1\n",
      "1122      1\n",
      "1051      1\n",
      "Name: count, Length: 3806, dtype: int64\n",
      "Inflight wifi service\n",
      "2    32038\n",
      "3    31921\n",
      "4    24466\n",
      "1    22134\n",
      "5    14163\n",
      "0     3855\n",
      "Name: count, dtype: int64\n",
      "Departure/Arrival time convenient\n",
      "4    31536\n",
      "5    27682\n",
      "3    22168\n",
      "2    21362\n",
      "1    19234\n",
      "0     6595\n",
      "Name: count, dtype: int64\n",
      "Ease of Online booking\n",
      "3    30120\n",
      "2    29798\n",
      "4    24193\n",
      "1    21678\n",
      "5    17248\n",
      "0     5540\n",
      "Name: count, dtype: int64\n",
      "Gate location\n",
      "3    35373\n",
      "4    30146\n",
      "2    24085\n",
      "1    21745\n",
      "5    17227\n",
      "0        1\n",
      "Name: count, dtype: int64\n",
      "Food and drink\n",
      "4.0    30180\n",
      "5.0    27584\n",
      "3.0    27463\n",
      "2.0    27053\n",
      "1.0    15832\n",
      "0.0      130\n",
      "Name: count, dtype: int64\n",
      "Online boarding\n",
      "4.0    38089\n",
      "3.0    26852\n",
      "5.0    25743\n",
      "2.0    21714\n",
      "1.0    13105\n",
      "0.0     2988\n",
      "Name: count, dtype: int64\n",
      "Seat comfort\n",
      "4    39369\n",
      "5    32850\n",
      "3    23082\n",
      "2    18333\n",
      "1    14942\n",
      "0        1\n",
      "Name: count, dtype: int64\n",
      "Inflight entertainment\n",
      "4    36413\n",
      "5    31215\n",
      "3    23644\n",
      "2    21767\n",
      "1    15521\n",
      "0       17\n",
      "Name: count, dtype: int64\n",
      "On-board service\n",
      "4    38351\n",
      "5    29207\n",
      "3    28226\n",
      "2    18184\n",
      "1    14604\n",
      "0        5\n",
      "Name: count, dtype: int64\n",
      "Leg room service\n",
      "4     35571\n",
      "5     30598\n",
      "3     24813\n",
      "2     24284\n",
      "1     12732\n",
      "0       577\n",
      "44        1\n",
      "55        1\n",
      "Name: count, dtype: int64\n",
      "Baggage handling\n",
      "4.0    46291\n",
      "5.0    33555\n",
      "3.0    25540\n",
      "2.0    14202\n",
      "1.0     8884\n",
      "Name: count, dtype: int64\n",
      "Checkin service\n",
      "4    36004\n",
      "3    35144\n",
      "5    25648\n",
      "1    15901\n",
      "2    15879\n",
      "0        1\n",
      "Name: count, dtype: int64\n",
      "Inflight service\n",
      "4    46864\n",
      "5    33757\n",
      "3    25055\n",
      "2    14151\n",
      "1     8745\n",
      "0        5\n",
      "Name: count, dtype: int64\n",
      "Cleanliness\n",
      "4    33618\n",
      "3    30376\n",
      "5    28119\n",
      "2    19901\n",
      "1    16550\n",
      "0       13\n",
      "Name: count, dtype: int64\n",
      "Departure Delay in Minutes\n",
      "0      72469\n",
      "1       3662\n",
      "2       2830\n",
      "3       2522\n",
      "4       2292\n",
      "       ...  \n",
      "465        1\n",
      "566        1\n",
      "501        1\n",
      "460        1\n",
      "359        1\n",
      "Name: count, Length: 462, dtype: int64\n",
      "Arrival Delay in Minutes\n",
      "0.0      71984\n",
      "1.0       2720\n",
      "2.0       2561\n",
      "3.0       2418\n",
      "4.0       2343\n",
      "         ...  \n",
      "600.0        1\n",
      "500.0        1\n",
      "457.0        1\n",
      "351.0        1\n",
      "412.0        1\n",
      "Name: count, Length: 470, dtype: int64\n"
     ]
    }
   ],
   "source": [
    "# check for imbalance data set\n",
    "for i in range(0,len(df.columns)):\n",
    "    print(df[df.columns[i]].value_counts())"
   ]
  },
  {
   "cell_type": "markdown",
   "id": "35c485c2",
   "metadata": {},
   "source": [
    "### Box Plot for IQR and Outlier - Numeric"
   ]
  },
  {
   "cell_type": "code",
   "execution_count": 129,
   "id": "dc26ffa6",
   "metadata": {},
   "outputs": [
    {
     "data": {
      "text/plain": [
       "<AxesSubplot:>"
      ]
     },
     "execution_count": 129,
     "metadata": {},
     "output_type": "execute_result"
    },
    {
     "data": {
      "image/png": "[encoded data removed]",
      "text/plain": [
       "<Figure size 432x288 with 1 Axes>"
      ]
     },
     "metadata": {
      "needs_background": "light"
     },
     "output_type": "display_data"
    }
   ],
   "source": [
    "df['Age'].plot(kind='box')"
   ]
  },
  {
   "cell_type": "code",
   "execution_count": 130,
   "id": "1676f698",
   "metadata": {},
   "outputs": [
    {
     "data": {
      "text/plain": [
       "<AxesSubplot:>"
      ]
     },
     "execution_count": 130,
     "metadata": {},
     "output_type": "execute_result"
    },
    {
     "data": {
      "image/png": "[encoded data removed]",
      "text/plain": [
       "<Figure size 432x288 with 1 Axes>"
      ]
     },
     "metadata": {
      "needs_background": "light"
     },
     "output_type": "display_data"
    }
   ],
   "source": [
    "df['Flight Distance'].plot(kind='box')"
   ]
  },
  {
   "cell_type": "code",
   "execution_count": 128,
   "id": "666e30f6",
   "metadata": {},
   "outputs": [
    {
     "data": {
      "text/plain": [
       "<AxesSubplot:>"
      ]
     },
     "execution_count": 128,
     "metadata": {},
     "output_type": "execute_result"
    },
    {
     "data": {
      "image/png": "[encoded data removed]",
      "text/plain": [
       "<Figure size 432x288 with 1 Axes>"
      ]
     },
     "metadata": {
      "needs_background": "light"
     },
     "output_type": "display_data"
    }
   ],
   "source": [
    "df['Inflight wifi service'].plot(kind='box')"
   ]
  },
  {
   "cell_type": "code",
   "execution_count": 133,
   "id": "a0851823",
   "metadata": {},
   "outputs": [
    {
     "data": {
      "text/plain": [
       "<AxesSubplot:>"
      ]
     },
     "execution_count": 133,
     "metadata": {},
     "output_type": "execute_result"
    },
    {
     "data": {
      "image/png": "[encoded data removed]",
      "text/plain": [
       "<Figure size 432x288 with 1 Axes>"
      ]
     },
     "metadata": {
      "needs_background": "light"
     },
     "output_type": "display_data"
    }
   ],
   "source": [
    "df['Departure/Arrival time convenient'].plot(kind='box')"
   ]
  },
  {
   "cell_type": "code",
   "execution_count": 134,
   "id": "045fb6cf",
   "metadata": {},
   "outputs": [
    {
     "data": {
      "text/plain": [
       "<AxesSubplot:>"
      ]
     },
     "execution_count": 134,
     "metadata": {},
     "output_type": "execute_result"
    },
    {
     "data": {
      "image/png": "[encoded data removed]",
      "text/plain": [
       "<Figure size 432x288 with 1 Axes>"
      ]
     },
     "metadata": {
      "needs_background": "light"
     },
     "output_type": "display_data"
    }
   ],
   "source": [
    "df['Departure/Arrival time convenient'].value_counts().plot(kind='box')"
   ]
  },
  {
   "cell_type": "code",
   "execution_count": 135,
   "id": "2552f582",
   "metadata": {},
   "outputs": [
    {
     "data": {
      "text/plain": [
       "<AxesSubplot:>"
      ]
     },
     "execution_count": 135,
     "metadata": {},
     "output_type": "execute_result"
    },
    {
     "data": {
      "image/png": "[encoded data removed]",
      "text/plain": [
       "<Figure size 432x288 with 1 Axes>"
      ]
     },
     "metadata": {
      "needs_background": "light"
     },
     "output_type": "display_data"
    }
   ],
   "source": [
    "df['Ease of Online booking'].plot(kind='box')"
   ]
  },
  {
   "cell_type": "code",
   "execution_count": 136,
   "id": "389ce575",
   "metadata": {},
   "outputs": [
    {
     "data": {
      "text/plain": [
       "<AxesSubplot:>"
      ]
     },
     "execution_count": 136,
     "metadata": {},
     "output_type": "execute_result"
    },
    {
     "data": {
      "image/png": "[encoded data removed]",
      "text/plain": [
       "<Figure size 432x288 with 1 Axes>"
      ]
     },
     "metadata": {
      "needs_background": "light"
     },
     "output_type": "display_data"
    }
   ],
   "source": [
    "df['Ease of Online booking'].value_counts().plot(kind='box')"
   ]
  },
  {
   "cell_type": "code",
   "execution_count": 137,
   "id": "6426e09d",
   "metadata": {},
   "outputs": [
    {
     "data": {
      "text/plain": [
       "<AxesSubplot:>"
      ]
     },
     "execution_count": 137,
     "metadata": {},
     "output_type": "execute_result"
    },
    {
     "data": {
      "image/png": "[encoded data removed]",
      "text/plain": [
       "<Figure size 432x288 with 1 Axes>"
      ]
     },
     "metadata": {
      "needs_background": "light"
     },
     "output_type": "display_data"
    }
   ],
   "source": [
    "df['Gate location'].plot(kind='box')"
   ]
  },
  {
   "cell_type": "code",
   "execution_count": 144,
   "id": "6b2e717d",
   "metadata": {},
   "outputs": [
    {
     "data": {
      "text/plain": [
       "<AxesSubplot:>"
      ]
     },
     "execution_count": 144,
     "metadata": {},
     "output_type": "execute_result"
    },
    {
     "data": {
      "image/png": "[encoded data removed]",
      "text/plain": [
       "<Figure size 432x288 with 1 Axes>"
      ]
     },
     "metadata": {
      "needs_background": "light"
     },
     "output_type": "display_data"
    }
   ],
   "source": [
    "df['Food and drink'].plot(kind='box')"
   ]
  },
  {
   "cell_type": "code",
   "execution_count": 140,
   "id": "a9f1d10c",
   "metadata": {},
   "outputs": [
    {
     "data": {
      "text/plain": [
       "<AxesSubplot:>"
      ]
     },
     "execution_count": 140,
     "metadata": {},
     "output_type": "execute_result"
    },
    {
     "data": {
      "image/png": "[encoded data removed]",
      "text/plain": [
       "<Figure size 432x288 with 1 Axes>"
      ]
     },
     "metadata": {
      "needs_background": "light"
     },
     "output_type": "display_data"
    }
   ],
   "source": [
    "df['Online boarding'].plot(kind='box')"
   ]
  },
  {
   "cell_type": "code",
   "execution_count": 141,
   "id": "348aedde",
   "metadata": {},
   "outputs": [
    {
     "data": {
      "text/plain": [
       "<AxesSubplot:>"
      ]
     },
     "execution_count": 141,
     "metadata": {},
     "output_type": "execute_result"
    },
    {
     "data": {
      "image/png": "[encoded data removed]",
      "text/plain": [
       "<Figure size 432x288 with 1 Axes>"
      ]
     },
     "metadata": {
      "needs_background": "light"
     },
     "output_type": "display_data"
    }
   ],
   "source": [
    "df['Seat comfort'].plot(kind='box')"
   ]
  },
  {
   "cell_type": "code",
   "execution_count": 142,
   "id": "caabd414",
   "metadata": {},
   "outputs": [
    {
     "data": {
      "text/plain": [
       "<AxesSubplot:>"
      ]
     },
     "execution_count": 142,
     "metadata": {},
     "output_type": "execute_result"
    },
    {
     "data": {
      "image/png": "[encoded data removed]",
      "text/plain": [
       "<Figure size 432x288 with 1 Axes>"
      ]
     },
     "metadata": {
      "needs_background": "light"
     },
     "output_type": "display_data"
    }
   ],
   "source": [
    "df['Inflight entertainment'].plot(kind='box')"
   ]
  },
  {
   "cell_type": "code",
   "execution_count": 143,
   "id": "7279a02f",
   "metadata": {},
   "outputs": [
    {
     "data": {
      "text/plain": [
       "<AxesSubplot:>"
      ]
     },
     "execution_count": 143,
     "metadata": {},
     "output_type": "execute_result"
    },
    {
     "data": {
      "image/png": "[encoded data removed]",
      "text/plain": [
       "<Figure size 432x288 with 1 Axes>"
      ]
     },
     "metadata": {
      "needs_background": "light"
     },
     "output_type": "display_data"
    }
   ],
   "source": [
    "df['On-board service'].plot(kind='box')"
   ]
  },
  {
   "cell_type": "code",
   "execution_count": 146,
   "id": "ce9ed425",
   "metadata": {},
   "outputs": [
    {
     "data": {
      "text/plain": [
       "<AxesSubplot:>"
      ]
     },
     "execution_count": 146,
     "metadata": {},
     "output_type": "execute_result"
    },
    {
     "data": {
      "image/png": "[encoded data removed]",
      "text/plain": [
       "<Figure size 432x288 with 1 Axes>"
      ]
     },
     "metadata": {
      "needs_background": "light"
     },
     "output_type": "display_data"
    }
   ],
   "source": [
    "df['Leg room service'].plot(kind='box')"
   ]
  },
  {
   "cell_type": "code",
   "execution_count": 147,
   "id": "1fda68da",
   "metadata": {},
   "outputs": [
    {
     "data": {
      "text/plain": [
       "<AxesSubplot:>"
      ]
     },
     "execution_count": 147,
     "metadata": {},
     "output_type": "execute_result"
    },
    {
     "data": {
      "image/png": "[encoded data removed]",
      "text/plain": [
       "<Figure size 432x288 with 1 Axes>"
      ]
     },
     "metadata": {
      "needs_background": "light"
     },
     "output_type": "display_data"
    }
   ],
   "source": [
    "df['Baggage handling'].plot(kind='box')"
   ]
  },
  {
   "cell_type": "code",
   "execution_count": 148,
   "id": "be69c6a7",
   "metadata": {},
   "outputs": [
    {
     "data": {
      "text/plain": [
       "<AxesSubplot:>"
      ]
     },
     "execution_count": 148,
     "metadata": {},
     "output_type": "execute_result"
    },
    {
     "data": {
      "image/png": "[encoded data removed]",
      "text/plain": [
       "<Figure size 432x288 with 1 Axes>"
      ]
     },
     "metadata": {
      "needs_background": "light"
     },
     "output_type": "display_data"
    }
   ],
   "source": [
    "df['Checkin service'].plot(kind='box')"
   ]
  },
  {
   "cell_type": "code",
   "execution_count": 149,
   "id": "b9dc8214",
   "metadata": {},
   "outputs": [
    {
     "data": {
      "text/plain": [
       "<AxesSubplot:>"
      ]
     },
     "execution_count": 149,
     "metadata": {},
     "output_type": "execute_result"
    },
    {
     "data": {
      "image/png": "[encoded data removed]",
      "text/plain": [
       "<Figure size 432x288 with 1 Axes>"
      ]
     },
     "metadata": {
      "needs_background": "light"
     },
     "output_type": "display_data"
    }
   ],
   "source": [
    "df['Inflight service'].plot(kind='box')"
   ]
  },
  {
   "cell_type": "code",
   "execution_count": 150,
   "id": "d57c83bb",
   "metadata": {},
   "outputs": [
    {
     "data": {
      "text/plain": [
       "<AxesSubplot:>"
      ]
     },
     "execution_count": 150,
     "metadata": {},
     "output_type": "execute_result"
    },
    {
     "data": {
      "image/png": "[encoded data removed]",
      "text/plain": [
       "<Figure size 432x288 with 1 Axes>"
      ]
     },
     "metadata": {
      "needs_background": "light"
     },
     "output_type": "display_data"
    }
   ],
   "source": [
    "df['Cleanliness'].plot(kind='box')"
   ]
  },
  {
   "cell_type": "code",
   "execution_count": 152,
   "id": "256ab095",
   "metadata": {},
   "outputs": [
    {
     "data": {
      "text/plain": [
       "<AxesSubplot:>"
      ]
     },
     "execution_count": 152,
     "metadata": {},
     "output_type": "execute_result"
    },
    {
     "data": {
      "image/png": "[encoded data removed]",
      "text/plain": [
       "<Figure size 432x288 with 1 Axes>"
      ]
     },
     "metadata": {
      "needs_background": "light"
     },
     "output_type": "display_data"
    }
   ],
   "source": [
    "df['Departure Delay in Minutes'].value_counts().plot(kind='box')"
   ]
  },
  {
   "cell_type": "code",
   "execution_count": 153,
   "id": "983f155f",
   "metadata": {},
   "outputs": [
    {
     "data": {
      "text/plain": [
       "<AxesSubplot:>"
      ]
     },
     "execution_count": 153,
     "metadata": {},
     "output_type": "execute_result"
    },
    {
     "data": {
      "image/png": "[encoded data removed]",
      "text/plain": [
       "<Figure size 432x288 with 1 Axes>"
      ]
     },
     "metadata": {
      "needs_background": "light"
     },
     "output_type": "display_data"
    }
   ],
   "source": [
    "df['Departure Delay in Minutes'].plot(kind='box')"
   ]
  },
  {
   "cell_type": "code",
   "execution_count": 155,
   "id": "3e8b1f47",
   "metadata": {},
   "outputs": [
    {
     "data": {
      "text/plain": [
       "<AxesSubplot:>"
      ]
     },
     "execution_count": 155,
     "metadata": {},
     "output_type": "execute_result"
    },
    {
     "data": {
      "image/png": "[encoded data removed]",
      "text/plain": [
       "<Figure size 432x288 with 1 Axes>"
      ]
     },
     "metadata": {
      "needs_background": "light"
     },
     "output_type": "display_data"
    }
   ],
   "source": [
    "df['Arrival Delay in Minutes'].plot(kind='box')"
   ]
  },
  {
   "cell_type": "code",
   "execution_count": 156,
   "id": "8371e238",
   "metadata": {},
   "outputs": [
    {
     "data": {
      "text/plain": [
       "<AxesSubplot:>"
      ]
     },
     "execution_count": 156,
     "metadata": {},
     "output_type": "execute_result"
    },
    {
     "data": {
      "image/png": "[encoded data removed]",
      "text/plain": [
       "<Figure size 432x288 with 1 Axes>"
      ]
     },
     "metadata": {
      "needs_background": "light"
     },
     "output_type": "display_data"
    }
   ],
   "source": [
    "df['Arrival Delay in Minutes'].value_counts().plot(kind='box')"
   ]
  },
  {
   "cell_type": "markdown",
   "id": "19eea9d8",
   "metadata": {},
   "source": [
    "### Outlier and NaN colums indepth analysis"
   ]
  },
  {
   "cell_type": "code",
   "execution_count": 5,
   "id": "636c9525",
   "metadata": {},
   "outputs": [
    {
     "name": "stdout",
     "output_type": "stream",
     "text": [
      "Age:  Mean 39.39, Median 40.0, Mode 39.0\n",
      "Food and drink:  Mean 3.2, Median 3.0, Mode 4.0\n",
      "Online boarding:  Mean 3.25, Median 3.0, Mode 4.0\n",
      "Baggage handling:  Mean 3.63, Median 4.0, Mode 4.0\n",
      "Arrival Delay in Minutes:  Mean 15.1, Median 0.0, Mode 0.0\n",
      "Departure Delay in Minutes:  Mean 14.73, Median 0.0, Mode 0\n"
     ]
    }
   ],
   "source": [
    "lst_nan = ['Age','Food and drink', 'Online boarding', 'Baggage handling','Arrival Delay in Minutes','Departure Delay in Minutes']\n",
    "\n",
    "for i in range(0,len(lst_nan)):\n",
    "    col = lst_nan[i]\n",
    "    mean = round(df[lst_nan[i]].mean(),2)\n",
    "    median = round(df[lst_nan[i]].median(),2)\n",
    "    mode = df[lst_nan[i]].mode()\n",
    "    print(f\"{col}:  Mean {mean}, Median {median}, Mode {', '.join(map(str, mode))}\")"
   ]
  },
  {
   "cell_type": "markdown",
   "id": "c9aab788",
   "metadata": {},
   "source": [
    "### Bar Chart - Catagorical"
   ]
  },
  {
   "cell_type": "code",
   "execution_count": 157,
   "id": "dc36f368",
   "metadata": {},
   "outputs": [
    {
     "data": {
      "text/plain": [
       "<AxesSubplot:xlabel='satisfaction_v2'>"
      ]
     },
     "execution_count": 157,
     "metadata": {},
     "output_type": "execute_result"
    },
    {
     "data": {
      "image/png": "[encoded data removed]",
      "text/plain": [
       "<Figure size 432x288 with 1 Axes>"
      ]
     },
     "metadata": {
      "needs_background": "light"
     },
     "output_type": "display_data"
    }
   ],
   "source": [
    "\n",
    "df['satisfaction_v2'].value_counts().plot(kind='bar')"
   ]
  },
  {
   "cell_type": "code",
   "execution_count": 158,
   "id": "808c2802",
   "metadata": {},
   "outputs": [
    {
     "data": {
      "text/plain": [
       "<AxesSubplot:xlabel='Gender'>"
      ]
     },
     "execution_count": 158,
     "metadata": {},
     "output_type": "execute_result"
    },
    {
     "data": {
      "image/png": "[encoded data removed]",
      "text/plain": [
       "<Figure size 432x288 with 1 Axes>"
      ]
     },
     "metadata": {
      "needs_background": "light"
     },
     "output_type": "display_data"
    }
   ],
   "source": [
    "df['Gender'].value_counts().plot(kind='bar')"
   ]
  },
  {
   "cell_type": "code",
   "execution_count": 160,
   "id": "50ec0a15",
   "metadata": {},
   "outputs": [
    {
     "data": {
      "text/plain": [
       "<AxesSubplot:xlabel='Type of Travel'>"
      ]
     },
     "execution_count": 160,
     "metadata": {},
     "output_type": "execute_result"
    },
    {
     "data": {
      "image/png": "[encoded data removed]",
      "text/plain": [
       "<Figure size 432x288 with 1 Axes>"
      ]
     },
     "metadata": {
      "needs_background": "light"
     },
     "output_type": "display_data"
    }
   ],
   "source": [
    "df['Type of Travel'].value_counts().plot(kind='bar')"
   ]
  },
  {
   "cell_type": "code",
   "execution_count": 161,
   "id": "e978ab0a",
   "metadata": {},
   "outputs": [
    {
     "data": {
      "text/plain": [
       "<AxesSubplot:xlabel='Class'>"
      ]
     },
     "execution_count": 161,
     "metadata": {},
     "output_type": "execute_result"
    },
    {
     "data": {
      "image/png": "[encoded data removed]",
      "text/plain": [
       "<Figure size 432x288 with 1 Axes>"
      ]
     },
     "metadata": {
      "needs_background": "light"
     },
     "output_type": "display_data"
    }
   ],
   "source": [
    "df['Class'].value_counts().plot(kind='bar')"
   ]
  },
  {
   "cell_type": "markdown",
   "id": "111a909f",
   "metadata": {},
   "source": [
    "### Distribution of colums"
   ]
  },
  {
   "cell_type": "code",
   "execution_count": 173,
   "id": "ad60dff3",
   "metadata": {
    "scrolled": true
   },
   "outputs": [
    {
     "data": {
      "text/plain": [
       "<AxesSubplot:xlabel='Inflight entertainment', ylabel='Count'>"
      ]
     },
     "execution_count": 173,
     "metadata": {},
     "output_type": "execute_result"
    },
    {
     "data": {
      "image/png": "[encoded data removed]",
      "text/plain": [
       "<Figure size 432x288 with 1 Axes>"
      ]
     },
     "metadata": {
      "needs_background": "light"
     },
     "output_type": "display_data"
    }
   ],
   "source": [
    "sns.histplot(df['Inflight entertainment'])"
   ]
  },
  {
   "cell_type": "code",
   "execution_count": null,
   "id": "32476d48",
   "metadata": {},
   "outputs": [],
   "source": [
    "sns.histplot(df['Departure Delay in Minutes'])"
   ]
  },
  {
   "cell_type": "code",
   "execution_count": null,
   "id": "fd3f9da7",
   "metadata": {},
   "outputs": [],
   "source": [
    "sns.histplot(df['Arrival Delay in Minutes'])"
   ]
  },
  {
   "cell_type": "code",
   "execution_count": null,
   "id": "a28175a1",
   "metadata": {},
   "outputs": [],
   "source": [
    "sns.histplot(df['Departure/Arrival time convenient (less in lowerbound)'])"
   ]
  },
  {
   "cell_type": "markdown",
   "id": "af60577d",
   "metadata": {},
   "source": [
    "### Univariate, Bivariate, Multivariate Analysis"
   ]
  },
  {
   "cell_type": "code",
   "execution_count": 3,
   "id": "afbc0830",
   "metadata": {},
   "outputs": [
    {
     "data": {
      "text/plain": [
       "Index(['id', 'satisfaction_v2', 'Gender', 'Customer Type', 'Age',\n",
       "       'Type of Travel', 'Class', 'Flight Distance', 'Inflight wifi service',\n",
       "       'Departure/Arrival time convenient', 'Ease of Online booking',\n",
       "       'Gate location', 'Food and drink', 'Online boarding', 'Seat comfort',\n",
       "       'Inflight entertainment', 'On-board service', 'Leg room service',\n",
       "       'Baggage handling', 'Checkin service', 'Inflight service',\n",
       "       'Cleanliness', 'Departure Delay in Minutes',\n",
       "       'Arrival Delay in Minutes'],\n",
       "      dtype='object')"
      ]
     },
     "execution_count": 3,
     "metadata": {},
     "output_type": "execute_result"
    }
   ],
   "source": [
    "df.columns"
   ]
  },
  {
   "cell_type": "code",
   "execution_count": null,
   "id": "24d6bbbd",
   "metadata": {},
   "outputs": [],
   "source": [
    "sns.pairplot(df)"
   ]
  },
  {
   "cell_type": "code",
   "execution_count": 4,
   "id": "1ce6a44b",
   "metadata": {},
   "outputs": [
    {
     "data": {
      "text/plain": [
       "<seaborn.axisgrid.FacetGrid at 0x7fda983fb220>"
      ]
     },
     "execution_count": 4,
     "metadata": {},
     "output_type": "execute_result"
    },
    {
     "data": {
      "image/png": "[encoded data removed]",
      "text/plain": [
       "<Figure size 368x360 with 1 Axes>"
      ]
     },
     "metadata": {
      "needs_background": "light"
     },
     "output_type": "display_data"
    }
   ],
   "source": [
    "sns.catplot(x = 'satisfaction_v2',y='Age',data=df,kind = 'box')"
   ]
  },
  {
   "cell_type": "code",
   "execution_count": 6,
   "id": "5159612a",
   "metadata": {},
   "outputs": [
    {
     "data": {
      "text/plain": [
       "<seaborn.axisgrid.FacetGrid at 0x7fda982bef10>"
      ]
     },
     "execution_count": 6,
     "metadata": {},
     "output_type": "execute_result"
    },
    {
     "data": {
      "image/png": "[encoded data removed]",
      "text/plain": [
       "<Figure size 368x360 with 1 Axes>"
      ]
     },
     "metadata": {
      "needs_background": "light"
     },
     "output_type": "display_data"
    }
   ],
   "source": [
    "sns.catplot(x = 'Class',y='Flight Distance',data=df,kind = 'box')"
   ]
  },
  {
   "cell_type": "code",
   "execution_count": 12,
   "id": "bd868ba9",
   "metadata": {},
   "outputs": [
    {
     "data": {
      "text/plain": [
       "<AxesSubplot:xlabel='Age', ylabel='Flight Distance'>"
      ]
     },
     "execution_count": 12,
     "metadata": {},
     "output_type": "execute_result"
    },
    {
     "data": {
      "image/png": "[encoded data removed]",
      "text/plain": [
       "<Figure size 432x288 with 1 Axes>"
      ]
     },
     "metadata": {
      "needs_background": "light"
     },
     "output_type": "display_data"
    }
   ],
   "source": [
    "sns.scatterplot(x = 'Age',y = 'Flight Distance', hue = 'satisfaction_v2',data = df )"
   ]
  },
  {
   "cell_type": "code",
   "execution_count": 13,
   "id": "e098ac5e",
   "metadata": {},
   "outputs": [
    {
     "data": {
      "text/plain": [
       "<AxesSubplot:xlabel='Age', ylabel='Flight Distance'>"
      ]
     },
     "execution_count": 13,
     "metadata": {},
     "output_type": "execute_result"
    },
    {
     "data": {
      "image/png": "[encoded data removed]",
      "text/plain": [
       "<Figure size 432x288 with 1 Axes>"
      ]
     },
     "metadata": {
      "needs_background": "light"
     },
     "output_type": "display_data"
    }
   ],
   "source": [
    "sns.scatterplot(x = 'Age',y = 'Flight Distance', hue = 'Class',data = df )"
   ]
  },
  {
   "cell_type": "code",
   "execution_count": 17,
   "id": "dbd41544",
   "metadata": {},
   "outputs": [
    {
     "data": {
      "text/plain": [
       "<AxesSubplot:xlabel='Age', ylabel='Flight Distance'>"
      ]
     },
     "execution_count": 17,
     "metadata": {},
     "output_type": "execute_result"
    },
    {
     "data": {
      "image/png": "[encoded data removed]",
      "text/plain": [
       "<Figure size 432x288 with 1 Axes>"
      ]
     },
     "metadata": {
      "needs_background": "light"
     },
     "output_type": "display_data"
    }
   ],
   "source": [
    "sns.scatterplot(x = 'Age',y = 'Flight Distance', hue = 'Type of Travel',data = df )"
   ]
  },
  {
   "cell_type": "code",
   "execution_count": 39,
   "id": "9fd5e17d",
   "metadata": {},
   "outputs": [
    {
     "name": "stdout",
     "output_type": "stream",
     "text": [
      "We have 19 Numerial Feature, and they are \n",
      "['id', 'Age', 'Flight Distance', 'Inflight wifi service', 'Departure/Arrival time convenient', 'Ease of Online booking', 'Gate location', 'Food and drink', 'Online boarding', 'Seat comfort', 'Inflight entertainment', 'On-board service', 'Leg room service', 'Baggage handling', 'Checkin service', 'Inflight service', 'Cleanliness', 'Departure Delay in Minutes', 'Arrival Delay in Minutes']\n",
      "\n",
      "We have 5 Categorical Feature, and they are \n",
      "['satisfaction_v2', 'Gender', 'Customer Type', 'Type of Travel', 'Class']\n"
     ]
    }
   ],
   "source": [
    "numeric_features = [feature for feature in df.columns if df[feature].dtype !='object']\n",
    "categorical_features = [feature for feature in df.columns if df[feature].dtype =='object']\n",
    "\n",
    "print(f'We have {len(numeric_features)} Numerial Feature, and they are \\n{numeric_features}' )\n",
    "print(f'\\nWe have {len(categorical_features)} Categorical Feature, and they are \\n{categorical_features}' )"
   ]
  },
  {
   "cell_type": "code",
   "execution_count": 31,
   "id": "231d9560",
   "metadata": {},
   "outputs": [
    {
     "name": "stdout",
     "output_type": "stream",
     "text": [
      "satisfaction_v2\n",
      "neutral or dissatisfied    56.554438\n",
      "satisfied                  43.445562\n",
      "Name: proportion, dtype: float64\n",
      "-----------------------------------\n",
      "Gender\n",
      "Female    50.738468\n",
      "Male      49.261532\n",
      "Name: proportion, dtype: float64\n",
      "-----------------------------------\n",
      "Customer Type\n",
      "Loyal Customer       81.691127\n",
      "disloyal Customer    18.308873\n",
      "Name: proportion, dtype: float64\n",
      "-----------------------------------\n",
      "Type of Travel\n",
      "Business travel    69.087006\n",
      "Personal Travel    30.912994\n",
      "Name: proportion, dtype: float64\n",
      "-----------------------------------\n",
      "Class\n",
      "Business    48.080916\n",
      "Eco         44.716396\n",
      "Eco Plus     7.202688\n",
      "Name: proportion, dtype: float64\n",
      "-----------------------------------\n"
     ]
    }
   ],
   "source": [
    "for col in categorical_features:\n",
    "    print(df[col].value_counts(normalize=True)*100)\n",
    "    print('-----------------------------------')"
   ]
  },
  {
   "cell_type": "code",
   "execution_count": 44,
   "id": "dcaa87c2",
   "metadata": {},
   "outputs": [
    {
     "name": "stdout",
     "output_type": "stream",
     "text": [
      "Age\n",
      "39.0    2.832076\n",
      "25.0    2.720355\n",
      "40.0    2.471132\n",
      "44.0    2.393787\n",
      "41.0    2.376600\n",
      "          ...   \n",
      "76.0    0.046094\n",
      "74.0    0.045313\n",
      "79.0    0.040626\n",
      "78.0    0.033594\n",
      "85.0    0.016407\n",
      "Name: proportion, Length: 75, dtype: float64\n",
      "-----------------------------------\n",
      "Flight Distance\n",
      "337     0.654083\n",
      "594     0.392761\n",
      "404     0.373317\n",
      "862     0.367873\n",
      "2475    0.365540\n",
      "          ...   \n",
      "1469    0.000778\n",
      "681     0.000778\n",
      "1361    0.000778\n",
      "1122    0.000778\n",
      "1051    0.000778\n",
      "Name: proportion, Length: 3806, dtype: float64\n",
      "-----------------------------------\n",
      "Inflight wifi service\n",
      "2    24.917365\n",
      "3    24.826369\n",
      "4    19.028287\n",
      "1    17.214587\n",
      "5    11.015189\n",
      "0     2.998203\n",
      "Name: proportion, dtype: float64\n",
      "-----------------------------------\n",
      "Departure/Arrival time convenient\n",
      "4    24.526937\n",
      "5    21.529511\n",
      "3    17.241031\n",
      "2    16.614169\n",
      "1    14.959130\n",
      "0     5.129222\n",
      "Name: proportion, dtype: float64\n",
      "-----------------------------------\n",
      "Ease of Online booking\n",
      "3    23.425652\n",
      "2    23.175218\n",
      "4    18.815962\n",
      "1    16.859936\n",
      "5    13.414530\n",
      "0     4.308702\n",
      "Name: proportion, dtype: float64\n",
      "-----------------------------------\n",
      "Gate location\n",
      "3    27.511141\n",
      "4    23.445873\n",
      "2    18.731966\n",
      "1    16.912045\n",
      "5    13.398197\n",
      "0     0.000778\n",
      "Name: proportion, dtype: float64\n",
      "-----------------------------------\n",
      "Food and drink\n",
      "4.0    23.533632\n",
      "5.0    21.509334\n",
      "3.0    21.414981\n",
      "2.0    21.095273\n",
      "1.0    12.345409\n",
      "0.0     0.101371\n",
      "Name: proportion, dtype: float64\n",
      "-----------------------------------\n",
      "Online boarding\n",
      "4.0    29.643321\n",
      "3.0    20.897962\n",
      "5.0    20.034866\n",
      "2.0    16.899238\n",
      "1.0    10.199158\n",
      "0.0     2.325455\n",
      "Name: proportion, dtype: float64\n",
      "-----------------------------------\n",
      "Seat comfort\n",
      "4    30.619007\n",
      "5    25.548893\n",
      "3    17.951889\n",
      "2    14.258382\n",
      "1    11.621052\n",
      "0     0.000778\n",
      "Name: proportion, dtype: float64\n",
      "-----------------------------------\n",
      "Inflight entertainment\n",
      "4    28.319995\n",
      "5    24.277281\n",
      "3    18.388981\n",
      "2    16.929155\n",
      "1    12.071366\n",
      "0     0.013222\n",
      "Name: proportion, dtype: float64\n",
      "-----------------------------------\n",
      "On-board service\n",
      "4    29.827263\n",
      "5    22.715571\n",
      "3    21.952604\n",
      "2    14.142498\n",
      "1    11.358174\n",
      "0     0.003889\n",
      "Name: proportion, dtype: float64\n",
      "-----------------------------------\n",
      "Leg room service\n",
      "4     27.665135\n",
      "5     23.797413\n",
      "3     19.298164\n",
      "2     18.886737\n",
      "1      9.902238\n",
      "0      0.448758\n",
      "44     0.000778\n",
      "55     0.000778\n",
      "Name: proportion, dtype: float64\n",
      "-----------------------------------\n",
      "Baggage handling\n",
      "4.0    36.031976\n",
      "5.0    26.118532\n",
      "3.0    19.879818\n",
      "2.0    11.054549\n",
      "1.0     6.915125\n",
      "Name: proportion, dtype: float64\n",
      "-----------------------------------\n",
      "Checkin service\n",
      "4    28.001898\n",
      "3    27.333038\n",
      "5    19.947580\n",
      "1    12.366909\n",
      "2    12.349798\n",
      "0     0.000778\n",
      "Name: proportion, dtype: float64\n",
      "-----------------------------------\n",
      "Inflight service\n",
      "4    36.448198\n",
      "5    26.254307\n",
      "3    19.486378\n",
      "2    11.005856\n",
      "1     6.801372\n",
      "0     0.003889\n",
      "Name: proportion, dtype: float64\n",
      "-----------------------------------\n",
      "Cleanliness\n",
      "4    26.146200\n",
      "3    23.624754\n",
      "5    21.869386\n",
      "2    15.477885\n",
      "1    12.871664\n",
      "0     0.010111\n",
      "Name: proportion, dtype: float64\n",
      "-----------------------------------\n",
      "Departure Delay in Minutes\n",
      "0      56.362335\n",
      "1       2.848099\n",
      "2       2.201016\n",
      "3       1.961471\n",
      "4       1.782589\n",
      "         ...    \n",
      "465     0.000778\n",
      "566     0.000778\n",
      "501     0.000778\n",
      "460     0.000778\n",
      "359     0.000778\n",
      "Name: proportion, Length: 462, dtype: float64\n",
      "-----------------------------------\n",
      "Arrival Delay in Minutes\n",
      "0.0      56.154584\n",
      "1.0       2.121867\n",
      "2.0       1.997831\n",
      "3.0       1.886277\n",
      "4.0       1.827770\n",
      "           ...    \n",
      "600.0     0.000780\n",
      "500.0     0.000780\n",
      "457.0     0.000780\n",
      "351.0     0.000780\n",
      "412.0     0.000780\n",
      "Name: proportion, Length: 470, dtype: float64\n",
      "-----------------------------------\n"
     ]
    }
   ],
   "source": [
    "numeric_features = ['Age', 'Flight Distance', 'Inflight wifi service', 'Departure/Arrival time convenient', 'Ease of Online booking', 'Gate location', 'Food and drink', 'Online boarding', 'Seat comfort', 'Inflight entertainment', 'On-board service', 'Leg room service', 'Baggage handling', 'Checkin service', 'Inflight service', 'Cleanliness', 'Departure Delay in Minutes', 'Arrival Delay in Minutes']\n",
    "for col in numeric_features:\n",
    "    print(df[col].value_counts(normalize=True)*100)\n",
    "    print('-----------------------------------')"
   ]
  },
  {
   "cell_type": "markdown",
   "id": "739b66a1",
   "metadata": {},
   "source": [
    "### Propotion of count of categorical"
   ]
  },
  {
   "cell_type": "code",
   "execution_count": 38,
   "id": "63d4ec5e",
   "metadata": {},
   "outputs": [
    {
     "name": "stderr",
     "output_type": "stream",
     "text": [
      "/var/folders/w1/5x7mg9w96sdb1jf3cwpzcq7r0000gn/T/ipykernel_3217/2218843364.py:6: FutureWarning: \n",
      "\n",
      "Passing `palette` without assigning `hue` is deprecated and will be removed in v0.14.0. Assign the `x` variable to `hue` and set `legend=False` for the same effect.\n",
      "\n",
      "  sns.countplot(x=df[categorical_features[i]],palette='Set2')\n",
      "/var/folders/w1/5x7mg9w96sdb1jf3cwpzcq7r0000gn/T/ipykernel_3217/2218843364.py:6: FutureWarning: \n",
      "\n",
      "Passing `palette` without assigning `hue` is deprecated and will be removed in v0.14.0. Assign the `x` variable to `hue` and set `legend=False` for the same effect.\n",
      "\n",
      "  sns.countplot(x=df[categorical_features[i]],palette='Set2')\n",
      "/var/folders/w1/5x7mg9w96sdb1jf3cwpzcq7r0000gn/T/ipykernel_3217/2218843364.py:6: FutureWarning: \n",
      "\n",
      "Passing `palette` without assigning `hue` is deprecated and will be removed in v0.14.0. Assign the `x` variable to `hue` and set `legend=False` for the same effect.\n",
      "\n",
      "  sns.countplot(x=df[categorical_features[i]],palette='Set2')\n",
      "/var/folders/w1/5x7mg9w96sdb1jf3cwpzcq7r0000gn/T/ipykernel_3217/2218843364.py:6: FutureWarning: \n",
      "\n",
      "Passing `palette` without assigning `hue` is deprecated and will be removed in v0.14.0. Assign the `x` variable to `hue` and set `legend=False` for the same effect.\n",
      "\n",
      "  sns.countplot(x=df[categorical_features[i]],palette='Set2')\n",
      "/var/folders/w1/5x7mg9w96sdb1jf3cwpzcq7r0000gn/T/ipykernel_3217/2218843364.py:6: FutureWarning: \n",
      "\n",
      "Passing `palette` without assigning `hue` is deprecated and will be removed in v0.14.0. Assign the `x` variable to `hue` and set `legend=False` for the same effect.\n",
      "\n",
      "  sns.countplot(x=df[categorical_features[i]],palette='Set2')\n"
     ]
    },
    {
     "data": {
      "image/png": "[encoded data removed]",
      "text/plain": [
       "<Figure size 1080x1080 with 5 Axes>"
      ]
     },
     "metadata": {
      "needs_background": "light"
     },
     "output_type": "display_data"
    }
   ],
   "source": [
    "plt.figure(figsize=(15,15))\n",
    "plt.suptitle('Passenger Satisfaction Analysis',fontsize=20,fontweight='bold',alpha=0.8,y=1.)\n",
    "\n",
    "for i in range(0,len(categorical_features)):\n",
    "    plt.subplot(5,3,i+1)\n",
    "    sns.countplot(x=df[categorical_features[i]],palette='Set2')\n",
    "    plt.xlabel(categorical_features[i])\n",
    "    plt.xticks(rotation=45)\n",
    "    plt.tight_layout()"
   ]
  },
  {
   "cell_type": "markdown",
   "id": "86df9c73",
   "metadata": {},
   "source": [
    "### Propotion of cout of Numerical Feature"
   ]
  },
  {
   "cell_type": "code",
   "execution_count": 41,
   "id": "12e09f8f",
   "metadata": {},
   "outputs": [
    {
     "name": "stderr",
     "output_type": "stream",
     "text": [
      "/var/folders/w1/5x7mg9w96sdb1jf3cwpzcq7r0000gn/T/ipykernel_3217/2540750628.py:8: FutureWarning: \n",
      "\n",
      "`shade` is now deprecated in favor of `fill`; setting `fill=True`.\n",
      "This will become an error in seaborn v0.14.0; please update your code.\n",
      "\n",
      "  sns.kdeplot(x=df[numeric_features[i]],shade=True,color='r')\n",
      "/var/folders/w1/5x7mg9w96sdb1jf3cwpzcq7r0000gn/T/ipykernel_3217/2540750628.py:8: FutureWarning: \n",
      "\n",
      "`shade` is now deprecated in favor of `fill`; setting `fill=True`.\n",
      "This will become an error in seaborn v0.14.0; please update your code.\n",
      "\n",
      "  sns.kdeplot(x=df[numeric_features[i]],shade=True,color='r')\n",
      "/var/folders/w1/5x7mg9w96sdb1jf3cwpzcq7r0000gn/T/ipykernel_3217/2540750628.py:8: FutureWarning: \n",
      "\n",
      "`shade` is now deprecated in favor of `fill`; setting `fill=True`.\n",
      "This will become an error in seaborn v0.14.0; please update your code.\n",
      "\n",
      "  sns.kdeplot(x=df[numeric_features[i]],shade=True,color='r')\n",
      "/var/folders/w1/5x7mg9w96sdb1jf3cwpzcq7r0000gn/T/ipykernel_3217/2540750628.py:8: FutureWarning: \n",
      "\n",
      "`shade` is now deprecated in favor of `fill`; setting `fill=True`.\n",
      "This will become an error in seaborn v0.14.0; please update your code.\n",
      "\n",
      "  sns.kdeplot(x=df[numeric_features[i]],shade=True,color='r')\n",
      "/var/folders/w1/5x7mg9w96sdb1jf3cwpzcq7r0000gn/T/ipykernel_3217/2540750628.py:8: FutureWarning: \n",
      "\n",
      "`shade` is now deprecated in favor of `fill`; setting `fill=True`.\n",
      "This will become an error in seaborn v0.14.0; please update your code.\n",
      "\n",
      "  sns.kdeplot(x=df[numeric_features[i]],shade=True,color='r')\n",
      "/var/folders/w1/5x7mg9w96sdb1jf3cwpzcq7r0000gn/T/ipykernel_3217/2540750628.py:8: FutureWarning: \n",
      "\n",
      "`shade` is now deprecated in favor of `fill`; setting `fill=True`.\n",
      "This will become an error in seaborn v0.14.0; please update your code.\n",
      "\n",
      "  sns.kdeplot(x=df[numeric_features[i]],shade=True,color='r')\n",
      "/var/folders/w1/5x7mg9w96sdb1jf3cwpzcq7r0000gn/T/ipykernel_3217/2540750628.py:8: FutureWarning: \n",
      "\n",
      "`shade` is now deprecated in favor of `fill`; setting `fill=True`.\n",
      "This will become an error in seaborn v0.14.0; please update your code.\n",
      "\n",
      "  sns.kdeplot(x=df[numeric_features[i]],shade=True,color='r')\n",
      "/var/folders/w1/5x7mg9w96sdb1jf3cwpzcq7r0000gn/T/ipykernel_3217/2540750628.py:8: FutureWarning: \n",
      "\n",
      "`shade` is now deprecated in favor of `fill`; setting `fill=True`.\n",
      "This will become an error in seaborn v0.14.0; please update your code.\n",
      "\n",
      "  sns.kdeplot(x=df[numeric_features[i]],shade=True,color='r')\n",
      "/var/folders/w1/5x7mg9w96sdb1jf3cwpzcq7r0000gn/T/ipykernel_3217/2540750628.py:8: FutureWarning: \n",
      "\n",
      "`shade` is now deprecated in favor of `fill`; setting `fill=True`.\n",
      "This will become an error in seaborn v0.14.0; please update your code.\n",
      "\n",
      "  sns.kdeplot(x=df[numeric_features[i]],shade=True,color='r')\n",
      "/var/folders/w1/5x7mg9w96sdb1jf3cwpzcq7r0000gn/T/ipykernel_3217/2540750628.py:8: FutureWarning: \n",
      "\n",
      "`shade` is now deprecated in favor of `fill`; setting `fill=True`.\n",
      "This will become an error in seaborn v0.14.0; please update your code.\n",
      "\n",
      "  sns.kdeplot(x=df[numeric_features[i]],shade=True,color='r')\n",
      "/var/folders/w1/5x7mg9w96sdb1jf3cwpzcq7r0000gn/T/ipykernel_3217/2540750628.py:8: FutureWarning: \n",
      "\n",
      "`shade` is now deprecated in favor of `fill`; setting `fill=True`.\n",
      "This will become an error in seaborn v0.14.0; please update your code.\n",
      "\n",
      "  sns.kdeplot(x=df[numeric_features[i]],shade=True,color='r')\n",
      "/var/folders/w1/5x7mg9w96sdb1jf3cwpzcq7r0000gn/T/ipykernel_3217/2540750628.py:8: FutureWarning: \n",
      "\n",
      "`shade` is now deprecated in favor of `fill`; setting `fill=True`.\n",
      "This will become an error in seaborn v0.14.0; please update your code.\n",
      "\n",
      "  sns.kdeplot(x=df[numeric_features[i]],shade=True,color='r')\n",
      "/var/folders/w1/5x7mg9w96sdb1jf3cwpzcq7r0000gn/T/ipykernel_3217/2540750628.py:8: FutureWarning: \n",
      "\n",
      "`shade` is now deprecated in favor of `fill`; setting `fill=True`.\n",
      "This will become an error in seaborn v0.14.0; please update your code.\n",
      "\n",
      "  sns.kdeplot(x=df[numeric_features[i]],shade=True,color='r')\n",
      "/var/folders/w1/5x7mg9w96sdb1jf3cwpzcq7r0000gn/T/ipykernel_3217/2540750628.py:8: FutureWarning: \n",
      "\n",
      "`shade` is now deprecated in favor of `fill`; setting `fill=True`.\n",
      "This will become an error in seaborn v0.14.0; please update your code.\n",
      "\n",
      "  sns.kdeplot(x=df[numeric_features[i]],shade=True,color='r')\n",
      "/var/folders/w1/5x7mg9w96sdb1jf3cwpzcq7r0000gn/T/ipykernel_3217/2540750628.py:8: FutureWarning: \n",
      "\n",
      "`shade` is now deprecated in favor of `fill`; setting `fill=True`.\n",
      "This will become an error in seaborn v0.14.0; please update your code.\n",
      "\n",
      "  sns.kdeplot(x=df[numeric_features[i]],shade=True,color='r')\n"
     ]
    },
    {
     "ename": "ValueError",
     "evalue": "num must be 1 <= num <= 15, not 16",
     "output_type": "error",
     "traceback": [
      "\u001b[0;31m---------------------------------------------------------------------------\u001b[0m",
      "\u001b[0;31mValueError\u001b[0m                                Traceback (most recent call last)",
      "\u001b[0;32m/var/folders/w1/5x7mg9w96sdb1jf3cwpzcq7r0000gn/T/ipykernel_3217/2540750628.py\u001b[0m in \u001b[0;36m<module>\u001b[0;34m\u001b[0m\n\u001b[1;32m      5\u001b[0m \u001b[0;34m\u001b[0m\u001b[0m\n\u001b[1;32m      6\u001b[0m \u001b[0;32mfor\u001b[0m \u001b[0mi\u001b[0m \u001b[0;32min\u001b[0m \u001b[0mrange\u001b[0m\u001b[0;34m(\u001b[0m\u001b[0;36m0\u001b[0m\u001b[0;34m,\u001b[0m\u001b[0mlen\u001b[0m\u001b[0;34m(\u001b[0m\u001b[0mnumeric_features\u001b[0m\u001b[0;34m)\u001b[0m\u001b[0;34m)\u001b[0m\u001b[0;34m:\u001b[0m\u001b[0;34m\u001b[0m\u001b[0;34m\u001b[0m\u001b[0m\n\u001b[0;32m----> 7\u001b[0;31m     \u001b[0mplt\u001b[0m\u001b[0;34m.\u001b[0m\u001b[0msubplot\u001b[0m\u001b[0;34m(\u001b[0m\u001b[0;36m5\u001b[0m\u001b[0;34m,\u001b[0m\u001b[0;36m3\u001b[0m\u001b[0;34m,\u001b[0m\u001b[0mi\u001b[0m\u001b[0;34m+\u001b[0m\u001b[0;36m1\u001b[0m\u001b[0;34m)\u001b[0m\u001b[0;34m\u001b[0m\u001b[0;34m\u001b[0m\u001b[0m\n\u001b[0m\u001b[1;32m      8\u001b[0m     \u001b[0msns\u001b[0m\u001b[0;34m.\u001b[0m\u001b[0mkdeplot\u001b[0m\u001b[0;34m(\u001b[0m\u001b[0mx\u001b[0m\u001b[0;34m=\u001b[0m\u001b[0mdf\u001b[0m\u001b[0;34m[\u001b[0m\u001b[0mnumeric_features\u001b[0m\u001b[0;34m[\u001b[0m\u001b[0mi\u001b[0m\u001b[0;34m]\u001b[0m\u001b[0;34m]\u001b[0m\u001b[0;34m,\u001b[0m\u001b[0mshade\u001b[0m\u001b[0;34m=\u001b[0m\u001b[0;32mTrue\u001b[0m\u001b[0;34m,\u001b[0m\u001b[0mcolor\u001b[0m\u001b[0;34m=\u001b[0m\u001b[0;34m'r'\u001b[0m\u001b[0;34m)\u001b[0m\u001b[0;34m\u001b[0m\u001b[0;34m\u001b[0m\u001b[0m\n\u001b[1;32m      9\u001b[0m     \u001b[0mplt\u001b[0m\u001b[0;34m.\u001b[0m\u001b[0mxlabel\u001b[0m\u001b[0;34m(\u001b[0m\u001b[0mnumeric_features\u001b[0m\u001b[0;34m[\u001b[0m\u001b[0mi\u001b[0m\u001b[0;34m]\u001b[0m\u001b[0;34m)\u001b[0m\u001b[0;34m\u001b[0m\u001b[0;34m\u001b[0m\u001b[0m\n",
      "\u001b[0;32m~/opt/anaconda3/lib/python3.9/site-packages/matplotlib/pyplot.py\u001b[0m in \u001b[0;36msubplot\u001b[0;34m(*args, **kwargs)\u001b[0m\n\u001b[1;32m   1270\u001b[0m \u001b[0;34m\u001b[0m\u001b[0m\n\u001b[1;32m   1271\u001b[0m     \u001b[0;31m# First, search for an existing subplot with a matching spec.\u001b[0m\u001b[0;34m\u001b[0m\u001b[0;34m\u001b[0m\u001b[0m\n\u001b[0;32m-> 1272\u001b[0;31m     \u001b[0mkey\u001b[0m \u001b[0;34m=\u001b[0m \u001b[0mSubplotSpec\u001b[0m\u001b[0;34m.\u001b[0m\u001b[0m_from_subplot_args\u001b[0m\u001b[0;34m(\u001b[0m\u001b[0mfig\u001b[0m\u001b[0;34m,\u001b[0m \u001b[0margs\u001b[0m\u001b[0;34m)\u001b[0m\u001b[0;34m\u001b[0m\u001b[0;34m\u001b[0m\u001b[0m\n\u001b[0m\u001b[1;32m   1273\u001b[0m \u001b[0;34m\u001b[0m\u001b[0m\n\u001b[1;32m   1274\u001b[0m     \u001b[0;32mfor\u001b[0m \u001b[0max\u001b[0m \u001b[0;32min\u001b[0m \u001b[0mfig\u001b[0m\u001b[0;34m.\u001b[0m\u001b[0maxes\u001b[0m\u001b[0;34m:\u001b[0m\u001b[0;34m\u001b[0m\u001b[0;34m\u001b[0m\u001b[0m\n",
      "\u001b[0;32m~/opt/anaconda3/lib/python3.9/site-packages/matplotlib/gridspec.py\u001b[0m in \u001b[0;36m_from_subplot_args\u001b[0;34m(figure, args)\u001b[0m\n\u001b[1;32m    651\u001b[0m                     \u001b[0mnum\u001b[0m \u001b[0;34m=\u001b[0m \u001b[0mint\u001b[0m\u001b[0;34m(\u001b[0m\u001b[0mnum\u001b[0m\u001b[0;34m)\u001b[0m\u001b[0;34m\u001b[0m\u001b[0;34m\u001b[0m\u001b[0m\n\u001b[1;32m    652\u001b[0m                 \u001b[0;32mif\u001b[0m \u001b[0mnum\u001b[0m \u001b[0;34m<\u001b[0m \u001b[0;36m1\u001b[0m \u001b[0;32mor\u001b[0m \u001b[0mnum\u001b[0m \u001b[0;34m>\u001b[0m \u001b[0mrows\u001b[0m\u001b[0;34m*\u001b[0m\u001b[0mcols\u001b[0m\u001b[0;34m:\u001b[0m\u001b[0;34m\u001b[0m\u001b[0;34m\u001b[0m\u001b[0m\n\u001b[0;32m--> 653\u001b[0;31m                     raise ValueError(\n\u001b[0m\u001b[1;32m    654\u001b[0m                         f\"num must be 1 <= num <= {rows*cols}, not {num}\")\n\u001b[1;32m    655\u001b[0m                 \u001b[0mi\u001b[0m \u001b[0;34m=\u001b[0m \u001b[0mj\u001b[0m \u001b[0;34m=\u001b[0m \u001b[0mnum\u001b[0m\u001b[0;34m\u001b[0m\u001b[0;34m\u001b[0m\u001b[0m\n",
      "\u001b[0;31mValueError\u001b[0m: num must be 1 <= num <= 15, not 16"
     ]
    },
    {
     "data": {
      "image/png": "[encoded data removed]",
      "text/plain": [
       "<Figure size 1080x1080 with 15 Axes>"
      ]
     },
     "metadata": {
      "needs_background": "light"
     },
     "output_type": "display_data"
    }
   ],
   "source": [
    "numeric_features = ['Age', 'Flight Distance', 'Inflight wifi service', 'Departure/Arrival time convenient', 'Ease of Online booking', 'Gate location', 'Food and drink', 'Online boarding', 'Seat comfort', 'Inflight entertainment', 'On-board service', 'Leg room service', 'Baggage handling', 'Checkin service', 'Inflight service', 'Cleanliness', 'Departure Delay in Minutes', 'Arrival Delay in Minutes']\n",
    "\n",
    "plt.figure(figsize=(15,15))\n",
    "plt.suptitle('Passenger Satisfaction Analysis',fontsize=20,fontweight='bold',alpha=0.8,y=1.)\n",
    "\n",
    "for i in range(0,len(numeric_features)):\n",
    "    plt.subplot(5,3,i+1)\n",
    "    sns.kdeplot(x=df[numeric_features[i]],shade=True,color='r')\n",
    "    plt.xlabel(numeric_features[i])\n",
    "    plt.tight_layout()"
   ]
  },
  {
   "cell_type": "markdown",
   "id": "ae16f7be",
   "metadata": {},
   "source": [
    "# Observations - Summary:\n",
    "\n",
    "## * Summary of Data Set\n",
    "- There are **128,577 Rows** and **24 Columns**.\n",
    "- **Null Records** are found in:\n",
    "  - `Age`: **579 nulls**\n",
    "  - `Food and drink`: **335 nulls**\n",
    "  - `Online boarding`: **86 nulls**\n",
    "  - `Arrival Delay in Minutes`: **388 nulls**\n",
    "- **No duplicate records found**.\n",
    "- There are **19 Numerical Features**, and they are:\n",
    "  - `id`, `Age`, `Flight Distance`, `Inflight wifi service`, `Departure/Arrival time convenient`,\n",
    "    `Ease of Online booking`, `Gate location`, `Food and drink`, `Online boarding`, `Seat comfort`,\n",
    "    `Inflight entertainment`, `On-board service`, `Leg room service`, `Baggage handling`,\n",
    "    `Checkin service`, `Inflight service`, `Cleanliness`, `Departure Delay in Minutes`,\n",
    "    `Arrival Delay in Minutes`.\n",
    "- There are **5 Categorical Features**, and they are:\n",
    "  - `satisfaction_v2`, `Gender`, `Customer Type`, `Type of Travel`, `Class`.\n",
    "\n",
    "## * Correlation\n",
    "- **Correlation between columns** has been calculated. Highly Correlated Features:\n",
    "  1. `Departure Delay in Minutes` and `Arrival Delay in Minutes` (**0.965**)\n",
    "  2. `Arrival Delay in Minutes` and `Departure Delay in Minutes` (**0.965**)\n",
    "    - (We can drop either of these columns due to high correlation.)\n",
    "\n",
    "## * Imbalanced Data Set\n",
    "- **No significant imbalance** was found in the data set.\n",
    "\n",
    "## * Box Plot for Outliers\n",
    "- **Outliers were found** in:\n",
    "  - `Flight Distance`\n",
    "  - `Departure/Arrival time convenient`\n",
    "  - `Leg room service`\n",
    "  - `Departure Delay in Minutes`\n",
    "  - `Arrival Delay in Minutes`.\n",
    "\n",
    "## * Information about Categorical Columns (Proportion of Categories)\n",
    "### `satisfaction_v2`\n",
    "- Neutral or dissatisfied: **56.55%**\n",
    "- Satisfied: **43.45%**\n",
    "\n",
    "### `Gender`\n",
    "- Female: **50.74%**\n",
    "- Male: **49.26%**\n",
    "\n",
    "### `Customer Type`\n",
    "- Loyal Customer: **81.69%**\n",
    "- Disloyal Customer: **18.31%**\n",
    "\n",
    "### `Type of Travel`\n",
    "- Business Travel: **69.09%**\n",
    "- Personal Travel: **30.91%**\n",
    "\n",
    "### `Class`\n",
    "- Business: **48.08%**\n",
    "- Eco: **44.72%**\n",
    "- Eco Plus: **7.20%**\n",
    "\n",
    "## * Univariate, Bivariate, Multivariate Analysis\n",
    "- Ages of **neutral/dissatisfied passengers** are primarily between **30-50**.\n",
    "- Ages of **neutral/dissatisfied passengers traveling above 1000 miles** are between **20-30**.\n",
    "- Passengers traveling above **1000 miles** in **Eco class** are between **20-30** years old.\n",
    "- Passengers traveling above **1000 miles** in **Business Travel** are also between **20-30** years old.\n",
    "\n",
    "## * Proportion of Numerical Features\n",
    "- **Flight Distance** and **Leg Room Services** are **left skewed**.\n",
    "- **Notable Numerical Features**:\n",
    "  - **Inflight wifi service**:\n",
    "    - 2: **24.92%**\n",
    "    - 3: **24.83%**\n",
    "    - 4: **19.03%**\n",
    "    - 1: **17.21%**\n",
    "    - 5: **11.02%**\n",
    "    - 0: **3.00%**\n",
    "  - **Ease of Online Booking**:\n",
    "    - 3: **23.43%**\n",
    "    - 2: **23.18%**\n",
    "    - 4: **18.82%**\n",
    "    - 1: **16.86%**\n",
    "    - 5: **13.41%**\n",
    "    - 0: **4.31%**\n",
    "\n",
    "### Outlier and NaN columns indepth analysis\n",
    "\n",
    "    Age:  Mean 39.39, Median 40.0, Mode 39.0\n",
    "    Food and drink:  Mean 3.2, Median 3.0, Mode 4.0\n",
    "    Online boarding:  Mean 3.25, Median 3.0, Mode 4.0\n",
    "    Baggage handling:  Mean 3.63, Median 4.0, Mode 4.0\n",
    "    Arrival Delay in Minutes:  Mean 15.1, Median 0.0, Mode 0.0\n",
    "    Departure Delay in Minutes:  Mean 14.73, Median 0.0, Mode 0\n",
    "    \n",
    "    - For Age,Food and drink,Online boarding,Baggage handling we can use mean value \n",
    "    - for the   NaN values because no outliers are found in these columns\n",
    "      For Arrival Delay in Minutes because it has outliers we can use mode \n",
    "      to fill NaN values"
   ]
  },
  {
   "cell_type": "code",
   "execution_count": null,
   "id": "57f32ae7",
   "metadata": {},
   "outputs": [],
   "source": []
  }
 ],
 "metadata": {
  "kernelspec": {
   "display_name": "Python 3 (ipykernel)",
   "language": "python",
   "name": "python3"
  },
  "language_info": {
   "codemirror_mode": {
    "name": "ipython",
    "version": 3
   },
   "file_extension": ".py",
   "mimetype": "text/x-python",
   "name": "python",
   "nbconvert_exporter": "python",
   "pygments_lexer": "ipython3",
   "version": "3.9.7"
  }
 },
 "nbformat": 4,
 "nbformat_minor": 5
}
