{
 "cells": [
  {
   "cell_type": "code",
   "execution_count": 1,
   "id": "cb5b6721",
   "metadata": {},
   "outputs": [
    {
     "name": "stderr",
     "output_type": "stream",
     "text": [
      "24/11/30 23:51:59 WARN NativeCodeLoader: Unable to load native-hadoop library for your platform... using builtin-java classes where applicable\n",
      "Using Spark's default log4j profile: org/apache/spark/log4j-defaults.properties\n",
      "Setting default log level to \"WARN\".\n",
      "To adjust logging level use sc.setLogLevel(newLevel). For SparkR, use setLogLevel(newLevel).\n",
      "24/11/30 23:52:00 WARN Utils: Service 'SparkUI' could not bind on port 4040. Attempting port 4041.\n"
     ]
    }
   ],
   "source": [
    "from pyspark.sql import SparkSession\n",
    "spark = SparkSession.builder.appName('rcb').getOrCreate()\n",
    "\n",
    "from pyspark.sql.functions import mean,min,max,col,round,mean,stddev"
   ]
  },
  {
   "cell_type": "code",
   "execution_count": 151,
   "id": "2a2e6476",
   "metadata": {},
   "outputs": [],
   "source": [
    "import pandas as pd\n",
    "import numpy as np\n",
    "import seaborn as sns\n",
    "import matplotlib.pyplot as plt\n",
    "import plotly.express as px #interactive data visualization\n",
    "import joblib\n",
    "\n",
    "\n",
    "satisfaction_df = pd.read_csv('satisfaction.csv')\n",
    "df = satisfaction_df.copy()"
   ]
  },
  {
   "cell_type": "code",
   "execution_count": 152,
   "id": "a2d790eb",
   "metadata": {},
   "outputs": [
    {
     "data": {
      "text/plain": [
       "id                                     0\n",
       "satisfaction_v2                        0\n",
       "Gender                                 0\n",
       "Customer Type                          0\n",
       "Age                                  579\n",
       "Type of Travel                         0\n",
       "Class                                  0\n",
       "Flight Distance                        0\n",
       "Inflight wifi service                  0\n",
       "Departure/Arrival time convenient      0\n",
       "Ease of Online booking                 0\n",
       "Gate location                          0\n",
       "Food and drink                       335\n",
       "Online boarding                       86\n",
       "Seat comfort                           0\n",
       "Inflight entertainment                 0\n",
       "On-board service                       0\n",
       "Leg room service                       0\n",
       "Baggage handling                     105\n",
       "Checkin service                        0\n",
       "Inflight service                       0\n",
       "Cleanliness                            0\n",
       "Departure Delay in Minutes             0\n",
       "Arrival Delay in Minutes             388\n",
       "dtype: int64"
      ]
     },
     "execution_count": 152,
     "metadata": {},
     "output_type": "execute_result"
    }
   ],
   "source": [
    "satisfaction_df.isnull().sum()"
   ]
  },
  {
   "cell_type": "markdown",
   "id": "08f6f406",
   "metadata": {},
   "source": [
    "### Columns with NaN values"
   ]
  },
  {
   "cell_type": "markdown",
   "id": "aa077925",
   "metadata": {},
   "source": [
    "Use their Mean value to fill NaN for Age,Food and drink, Online boarding, Baggage handling\n",
    "Use their Mode value to fill NaN for Arrival Delay in Minutes"
   ]
  },
  {
   "cell_type": "code",
   "execution_count": 153,
   "id": "3965f5bf",
   "metadata": {},
   "outputs": [],
   "source": [
    "df['Age'] = df['Age'].fillna(df['Age'].mean())"
   ]
  },
  {
   "cell_type": "code",
   "execution_count": 154,
   "id": "2de2af91",
   "metadata": {},
   "outputs": [],
   "source": [
    "df['Food and drink'] = df['Food and drink'].fillna(df['Food and drink'].mean())"
   ]
  },
  {
   "cell_type": "code",
   "execution_count": 155,
   "id": "8ce6986e",
   "metadata": {},
   "outputs": [],
   "source": [
    "df['Online boarding'] = df['Online boarding'].fillna(df['Online boarding'].mean())"
   ]
  },
  {
   "cell_type": "code",
   "execution_count": 156,
   "id": "ee81a07f",
   "metadata": {},
   "outputs": [],
   "source": [
    "df['Baggage handling'] = df['Baggage handling'].fillna(df['Baggage handling'].mean())"
   ]
  },
  {
   "cell_type": "code",
   "execution_count": 157,
   "id": "eb680f06",
   "metadata": {},
   "outputs": [],
   "source": [
    "df['Arrival Delay in Minutes'] = df['Arrival Delay in Minutes'].fillna(df['Arrival Delay in Minutes'].mode()[0])"
   ]
  },
  {
   "cell_type": "code",
   "execution_count": 158,
   "id": "43590a62",
   "metadata": {},
   "outputs": [
    {
     "data": {
      "text/plain": [
       "id                                   0\n",
       "satisfaction_v2                      0\n",
       "Gender                               0\n",
       "Customer Type                        0\n",
       "Age                                  0\n",
       "Type of Travel                       0\n",
       "Class                                0\n",
       "Flight Distance                      0\n",
       "Inflight wifi service                0\n",
       "Departure/Arrival time convenient    0\n",
       "Ease of Online booking               0\n",
       "Gate location                        0\n",
       "Food and drink                       0\n",
       "Online boarding                      0\n",
       "Seat comfort                         0\n",
       "Inflight entertainment               0\n",
       "On-board service                     0\n",
       "Leg room service                     0\n",
       "Baggage handling                     0\n",
       "Checkin service                      0\n",
       "Inflight service                     0\n",
       "Cleanliness                          0\n",
       "Departure Delay in Minutes           0\n",
       "Arrival Delay in Minutes             0\n",
       "dtype: int64"
      ]
     },
     "execution_count": 158,
     "metadata": {},
     "output_type": "execute_result"
    }
   ],
   "source": [
    "df.isnull().sum()"
   ]
  },
  {
   "cell_type": "markdown",
   "id": "0fee9631",
   "metadata": {},
   "source": [
    "### Removing 'id' column, belive it is not contributing to the prediction"
   ]
  },
  {
   "cell_type": "code",
   "execution_count": 159,
   "id": "a3f54304",
   "metadata": {},
   "outputs": [],
   "source": [
    "df.drop('id',axis=1,inplace=True)"
   ]
  },
  {
   "cell_type": "code",
   "execution_count": 224,
   "id": "346ea0f4",
   "metadata": {},
   "outputs": [
    {
     "data": {
      "text/plain": [
       "(128577, 23)"
      ]
     },
     "execution_count": 224,
     "metadata": {},
     "output_type": "execute_result"
    }
   ],
   "source": [
    "df.shape"
   ]
  },
  {
   "cell_type": "markdown",
   "id": "8957dc01",
   "metadata": {},
   "source": [
    "### Handling Catagorical columns"
   ]
  },
  {
   "cell_type": "code",
   "execution_count": 161,
   "id": "2e4cafa2",
   "metadata": {},
   "outputs": [],
   "source": [
    "# satisfaction_v2, Gender, Customer Type, Type of Travel, Class.\n",
    "# non of the catagoricall colums has NaN vlalue\n",
    "# All the catagorical columns values are Balanced\n",
    "\n",
    "df['satisfaction_v2'] = df['satisfaction_v2'].map({'neutral or dissatisfied':0,'satisfied':1})\n",
    "df['Gender'] = df['Gender'].map({'Male':0,'Female':1})\n",
    "df['Customer Type'] = df['Customer Type'].map({'disloyal Customer':0,'Loyal Customer':1})\n",
    "df['Type of Travel'] = df['Type of Travel'].map({'Business travel':0,'Personal Travel':1})\n",
    "df['Class'] = df['Class'].map({'Business':0,'Eco':1,'Eco Plus':2})"
   ]
  },
  {
   "cell_type": "code",
   "execution_count": 166,
   "id": "b3e60ea4",
   "metadata": {},
   "outputs": [
    {
     "name": "stdout",
     "output_type": "stream",
     "text": [
      "satisfaction_v2: [0 1]\n",
      "Gender: [0 1]        \n",
      "Customer Type: [0 1]\n",
      "Type of Travel: [0 1]\n",
      "Class: [0 1 2] \n"
     ]
    }
   ],
   "source": [
    "print(f'satisfaction_v2: {df[\"satisfaction_v2\"].unique()}\\nGender: {df[\"Gender\"].unique()}\\\n",
    "        \\nCustomer Type: {df[\"Customer Type\"].unique()}\\nType of Travel: {df[\"Type of Travel\"].unique()}\\nClass: {df[\"Class\"].unique()} ')\n"
   ]
  },
  {
   "cell_type": "code",
   "execution_count": 167,
   "id": "aeca1aaa",
   "metadata": {},
   "outputs": [
    {
     "name": "stdout",
     "output_type": "stream",
     "text": [
      "<class 'pandas.core.frame.DataFrame'>\n",
      "RangeIndex: 128577 entries, 0 to 128576\n",
      "Data columns (total 23 columns):\n",
      " #   Column                             Non-Null Count   Dtype  \n",
      "---  ------                             --------------   -----  \n",
      " 0   satisfaction_v2                    128577 non-null  int64  \n",
      " 1   Gender                             128577 non-null  int64  \n",
      " 2   Customer Type                      128577 non-null  int64  \n",
      " 3   Age                                128577 non-null  float64\n",
      " 4   Type of Travel                     128577 non-null  int64  \n",
      " 5   Class                              128577 non-null  int64  \n",
      " 6   Flight Distance                    128577 non-null  int64  \n",
      " 7   Inflight wifi service              128577 non-null  int64  \n",
      " 8   Departure/Arrival time convenient  128577 non-null  int64  \n",
      " 9   Ease of Online booking             128577 non-null  int64  \n",
      " 10  Gate location                      128577 non-null  int64  \n",
      " 11  Food and drink                     128577 non-null  float64\n",
      " 12  Online boarding                    128577 non-null  float64\n",
      " 13  Seat comfort                       128577 non-null  int64  \n",
      " 14  Inflight entertainment             128577 non-null  int64  \n",
      " 15  On-board service                   128577 non-null  int64  \n",
      " 16  Leg room service                   128577 non-null  int64  \n",
      " 17  Baggage handling                   128577 non-null  float64\n",
      " 18  Checkin service                    128577 non-null  int64  \n",
      " 19  Inflight service                   128577 non-null  int64  \n",
      " 20  Cleanliness                        128577 non-null  int64  \n",
      " 21  Departure Delay in Minutes         128577 non-null  int64  \n",
      " 22  Arrival Delay in Minutes           128577 non-null  float64\n",
      "dtypes: float64(5), int64(18)\n",
      "memory usage: 22.6 MB\n"
     ]
    }
   ],
   "source": [
    "# Found no Object datatype in the dataset\n",
    "df.info()"
   ]
  },
  {
   "cell_type": "code",
   "execution_count": 168,
   "id": "349bf99e",
   "metadata": {},
   "outputs": [],
   "source": [
    "X = df.drop(columns ='satisfaction_v2')"
   ]
  },
  {
   "cell_type": "code",
   "execution_count": 169,
   "id": "636fd6be",
   "metadata": {},
   "outputs": [],
   "source": [
    "y = df['satisfaction_v2']"
   ]
  },
  {
   "cell_type": "code",
   "execution_count": 170,
   "id": "f3262d88",
   "metadata": {},
   "outputs": [
    {
     "data": {
      "text/plain": [
       "(128577, 22)"
      ]
     },
     "execution_count": 170,
     "metadata": {},
     "output_type": "execute_result"
    }
   ],
   "source": [
    "X.shape"
   ]
  },
  {
   "cell_type": "code",
   "execution_count": 171,
   "id": "e0ec731b",
   "metadata": {},
   "outputs": [
    {
     "data": {
      "text/plain": [
       "(128577,)"
      ]
     },
     "execution_count": 171,
     "metadata": {},
     "output_type": "execute_result"
    }
   ],
   "source": [
    "y.shape"
   ]
  },
  {
   "cell_type": "code",
   "execution_count": 172,
   "id": "4ea38856",
   "metadata": {},
   "outputs": [],
   "source": [
    "X = np.array(X)\n",
    "y = np.array(y)"
   ]
  },
  {
   "cell_type": "code",
   "execution_count": 173,
   "id": "bb7a1886",
   "metadata": {},
   "outputs": [],
   "source": [
    "from sklearn.preprocessing import LabelEncoder,OneHotEncoder"
   ]
  },
  {
   "cell_type": "code",
   "execution_count": 174,
   "id": "076ae812",
   "metadata": {},
   "outputs": [],
   "source": [
    "from sklearn.model_selection import train_test_split\n",
    "\n",
    "X_train,X_test,y_train,y_test = train_test_split(X,y,test_size = 0.25)"
   ]
  },
  {
   "cell_type": "code",
   "execution_count": 176,
   "id": "6230a5d2",
   "metadata": {},
   "outputs": [
    {
     "name": "stdout",
     "output_type": "stream",
     "text": [
      "X_train: (32145, 22)\n",
      "X_train: (96432, 22)\n"
     ]
    }
   ],
   "source": [
    "print(f'X_train: {X_test.shape}\\nX_train: {X_train.shape}')"
   ]
  },
  {
   "cell_type": "markdown",
   "id": "ea9d3008",
   "metadata": {},
   "source": [
    "### XGBRegressor Model"
   ]
  },
  {
   "cell_type": "code",
   "execution_count": 187,
   "id": "6b5d44dd",
   "metadata": {},
   "outputs": [
    {
     "data": {
      "text/plain": [
       "XGBRegressor(base_score=None, booster=None, callbacks=None,\n",
       "             colsample_bylevel=None, colsample_bynode=None,\n",
       "             colsample_bytree=None, device=None, early_stopping_rounds=None,\n",
       "             enable_categorical=False, eval_metric=None, feature_types=None,\n",
       "             gamma=None, grow_policy=None, importance_type=None,\n",
       "             interaction_constraints=None, learning_rate=0.1, max_bin=None,\n",
       "             max_cat_threshold=None, max_cat_to_onehot=None,\n",
       "             max_delta_step=None, max_depth=14, max_leaves=None,\n",
       "             min_child_weight=None, missing=nan, monotone_constraints=None,\n",
       "             multi_strategy=None, n_estimators=100, n_jobs=None,\n",
       "             num_parallel_tree=None, random_state=None, ...)"
      ]
     },
     "execution_count": 187,
     "metadata": {},
     "output_type": "execute_result"
    }
   ],
   "source": [
    "import xgboost as xgb\n",
    "\n",
    "model = xgb.XGBRegressor(objective = 'reg:squarederror',learning_rate = 0.1, max_depth = 14, n_estimators = 100)\n",
    "model.fit(X_train,y_train)"
   ]
  },
  {
   "cell_type": "code",
   "execution_count": 188,
   "id": "1db4fdfa",
   "metadata": {},
   "outputs": [
    {
     "name": "stdout",
     "output_type": "stream",
     "text": [
      "Accuracy: 0.8823597481589759\n"
     ]
    }
   ],
   "source": [
    "# predict the score of the trained model using test dataset\n",
    "\n",
    "result = model.score(X_test,y_test)\n",
    "print(f'Accuracy: {result}')"
   ]
  },
  {
   "cell_type": "code",
   "execution_count": 189,
   "id": "ac11c713",
   "metadata": {},
   "outputs": [],
   "source": [
    "# Make prediction on the test data\n",
    "\n",
    "y_predict = model.predict(X_test)"
   ]
  },
  {
   "cell_type": "code",
   "execution_count": 191,
   "id": "5f654db3",
   "metadata": {},
   "outputs": [
    {
     "name": "stdout",
     "output_type": "stream",
     "text": [
      "RMSE: 0.17\n",
      "MSE: 0.028933245024416798\n",
      "MAE: 0.06067828877751419\n",
      "R2: 0.8823597481589759\n",
      "Adjusted R2: 0.8822791776608593\n"
     ]
    }
   ],
   "source": [
    "# Accuray Metrics\n",
    "\n",
    "from sklearn.metrics import r2_score,mean_squared_error,mean_absolute_error\n",
    "from math import sqrt\n",
    "\n",
    "k = X_test.shape[1]\n",
    "n = len(X_test)\n",
    "RMSE = float(format(np.sqrt(mean_squared_error(y_test,y_predict)),'.3f'))\n",
    "MSE = mean_squared_error(y_test,y_predict)\n",
    "MAE = mean_absolute_error(y_test,y_predict)\n",
    "r2 = r2_score(y_test,y_predict)\n",
    "adj_r2 = 1 - (1-r2)*(n-1)/(n-k-1)\n",
    "\n",
    "print(f'RMSE: {RMSE}\\nMSE: {MSE}\\nMAE: {MAE}\\nR2: {r2}\\nAdjusted R2: {adj_r2}')\n"
   ]
  },
  {
   "cell_type": "markdown",
   "id": "05805553",
   "metadata": {},
   "source": [
    "### K-Nearest Neighbors Classifer Model"
   ]
  },
  {
   "cell_type": "code",
   "execution_count": 195,
   "id": "70e55400",
   "metadata": {},
   "outputs": [
    {
     "name": "stdout",
     "output_type": "stream",
     "text": [
      "              precision    recall  f1-score   support\n",
      "\n",
      "           0       0.76      0.80      0.78     18128\n",
      "           1       0.72      0.68      0.70     14017\n",
      "\n",
      "    accuracy                           0.74     32145\n",
      "   macro avg       0.74      0.74      0.74     32145\n",
      "weighted avg       0.74      0.74      0.74     32145\n",
      "\n"
     ]
    },
    {
     "data": {
      "image/png": "[encoded data removed]",
      "text/plain": [
       "<Figure size 432x288 with 2 Axes>"
      ]
     },
     "metadata": {
      "needs_background": "light"
     },
     "output_type": "display_data"
    }
   ],
   "source": [
    "from sklearn.model_selection import train_test_split\n",
    "from sklearn.neighbors import KNeighborsClassifier\n",
    "from sklearn.metrics import classification_report,confusion_matrix\n",
    "\n",
    "X_train,X_test,y_train,y_test = train_test_split(X,y,test_size = 0.25)\n",
    "\n",
    "\n",
    "knn_model = KNeighborsClassifier(n_neighbors = 3)\n",
    "knn_model.fit(X_train,y_train)\n",
    "\n",
    "y_predict_test = knn_model.predict(X_test)\n",
    "cm = confusion_matrix(y_test,y_predict_test)\n",
    "sns.heatmap(cm,annot=True)\n",
    "\n",
    "print(classification_report(y_test,y_predict_test))"
   ]
  },
  {
   "cell_type": "markdown",
   "id": "38f3abd8",
   "metadata": {},
   "source": [
    "### XGBoost Classifier"
   ]
  },
  {
   "cell_type": "code",
   "execution_count": 199,
   "id": "ec6239a8",
   "metadata": {},
   "outputs": [
    {
     "name": "stderr",
     "output_type": "stream",
     "text": [
      "/Users/francispaulraj/opt/anaconda3/lib/python3.9/site-packages/xgboost/core.py:158: UserWarning: [17:20:00] WARNING: /Users/runner/work/xgboost/xgboost/src/learner.cc:740: \n",
      "Parameters: { \"learniing_rate\", \"use_label_encoder\" } are not used.\n",
      "\n",
      "  warnings.warn(smsg, UserWarning)\n"
     ]
    },
    {
     "name": "stdout",
     "output_type": "stream",
     "text": [
      "Accuracy 0.9625447192409395*100 % \n",
      "              precision    recall  f1-score   support\n",
      "\n",
      "           0       0.96      0.97      0.97     18128\n",
      "           1       0.97      0.95      0.96     14017\n",
      "\n",
      "    accuracy                           0.96     32145\n",
      "   macro avg       0.96      0.96      0.96     32145\n",
      "weighted avg       0.96      0.96      0.96     32145\n",
      "\n",
      "Fitting 5 folds for each of 9 candidates, totalling 45 fits\n"
     ]
    },
    {
     "name": "stderr",
     "output_type": "stream",
     "text": [
      "/Users/francispaulraj/opt/anaconda3/lib/python3.9/site-packages/xgboost/core.py:158: UserWarning: [17:20:05] WARNING: /Users/runner/work/xgboost/xgboost/src/learner.cc:740: \n",
      "Parameters: { \"learniing_rate\" } are not used.\n",
      "\n",
      "  warnings.warn(smsg, UserWarning)\n"
     ]
    },
    {
     "name": "stdout",
     "output_type": "stream",
     "text": [
      "[CV 1/5] END ...learning_rate=0.01, max_depth=3;, score=0.904 total time=   0.4s\n"
     ]
    },
    {
     "name": "stderr",
     "output_type": "stream",
     "text": [
      "/Users/francispaulraj/opt/anaconda3/lib/python3.9/site-packages/xgboost/core.py:158: UserWarning: [17:20:05] WARNING: /Users/runner/work/xgboost/xgboost/src/learner.cc:740: \n",
      "Parameters: { \"learniing_rate\" } are not used.\n",
      "\n",
      "  warnings.warn(smsg, UserWarning)\n"
     ]
    },
    {
     "name": "stdout",
     "output_type": "stream",
     "text": [
      "[CV 2/5] END ...learning_rate=0.01, max_depth=3;, score=0.902 total time=   0.4s\n"
     ]
    },
    {
     "name": "stderr",
     "output_type": "stream",
     "text": [
      "/Users/francispaulraj/opt/anaconda3/lib/python3.9/site-packages/xgboost/core.py:158: UserWarning: [17:20:06] WARNING: /Users/runner/work/xgboost/xgboost/src/learner.cc:740: \n",
      "Parameters: { \"learniing_rate\" } are not used.\n",
      "\n",
      "  warnings.warn(smsg, UserWarning)\n"
     ]
    },
    {
     "name": "stdout",
     "output_type": "stream",
     "text": [
      "[CV 3/5] END ...learning_rate=0.01, max_depth=3;, score=0.900 total time=   0.5s\n"
     ]
    },
    {
     "name": "stderr",
     "output_type": "stream",
     "text": [
      "/Users/francispaulraj/opt/anaconda3/lib/python3.9/site-packages/xgboost/core.py:158: UserWarning: [17:20:06] WARNING: /Users/runner/work/xgboost/xgboost/src/learner.cc:740: \n",
      "Parameters: { \"learniing_rate\" } are not used.\n",
      "\n",
      "  warnings.warn(smsg, UserWarning)\n"
     ]
    },
    {
     "name": "stdout",
     "output_type": "stream",
     "text": [
      "[CV 4/5] END ...learning_rate=0.01, max_depth=3;, score=0.902 total time=   0.4s\n"
     ]
    },
    {
     "name": "stderr",
     "output_type": "stream",
     "text": [
      "/Users/francispaulraj/opt/anaconda3/lib/python3.9/site-packages/xgboost/core.py:158: UserWarning: [17:20:07] WARNING: /Users/runner/work/xgboost/xgboost/src/learner.cc:740: \n",
      "Parameters: { \"learniing_rate\" } are not used.\n",
      "\n",
      "  warnings.warn(smsg, UserWarning)\n"
     ]
    },
    {
     "name": "stdout",
     "output_type": "stream",
     "text": [
      "[CV 5/5] END ...learning_rate=0.01, max_depth=3;, score=0.902 total time=   0.4s\n"
     ]
    },
    {
     "name": "stderr",
     "output_type": "stream",
     "text": [
      "/Users/francispaulraj/opt/anaconda3/lib/python3.9/site-packages/xgboost/core.py:158: UserWarning: [17:20:07] WARNING: /Users/runner/work/xgboost/xgboost/src/learner.cc:740: \n",
      "Parameters: { \"learniing_rate\" } are not used.\n",
      "\n",
      "  warnings.warn(smsg, UserWarning)\n"
     ]
    },
    {
     "name": "stdout",
     "output_type": "stream",
     "text": [
      "[CV 1/5] END ...learning_rate=0.01, max_depth=4;, score=0.918 total time=   0.5s\n"
     ]
    },
    {
     "name": "stderr",
     "output_type": "stream",
     "text": [
      "/Users/francispaulraj/opt/anaconda3/lib/python3.9/site-packages/xgboost/core.py:158: UserWarning: [17:20:08] WARNING: /Users/runner/work/xgboost/xgboost/src/learner.cc:740: \n",
      "Parameters: { \"learniing_rate\" } are not used.\n",
      "\n",
      "  warnings.warn(smsg, UserWarning)\n"
     ]
    },
    {
     "name": "stdout",
     "output_type": "stream",
     "text": [
      "[CV 2/5] END ...learning_rate=0.01, max_depth=4;, score=0.913 total time=   0.5s\n"
     ]
    },
    {
     "name": "stderr",
     "output_type": "stream",
     "text": [
      "/Users/francispaulraj/opt/anaconda3/lib/python3.9/site-packages/xgboost/core.py:158: UserWarning: [17:20:08] WARNING: /Users/runner/work/xgboost/xgboost/src/learner.cc:740: \n",
      "Parameters: { \"learniing_rate\" } are not used.\n",
      "\n",
      "  warnings.warn(smsg, UserWarning)\n"
     ]
    },
    {
     "name": "stdout",
     "output_type": "stream",
     "text": [
      "[CV 3/5] END ...learning_rate=0.01, max_depth=4;, score=0.912 total time=   0.5s\n"
     ]
    },
    {
     "name": "stderr",
     "output_type": "stream",
     "text": [
      "/Users/francispaulraj/opt/anaconda3/lib/python3.9/site-packages/xgboost/core.py:158: UserWarning: [17:20:09] WARNING: /Users/runner/work/xgboost/xgboost/src/learner.cc:740: \n",
      "Parameters: { \"learniing_rate\" } are not used.\n",
      "\n",
      "  warnings.warn(smsg, UserWarning)\n"
     ]
    },
    {
     "name": "stdout",
     "output_type": "stream",
     "text": [
      "[CV 4/5] END ...learning_rate=0.01, max_depth=4;, score=0.916 total time=   0.5s\n"
     ]
    },
    {
     "name": "stderr",
     "output_type": "stream",
     "text": [
      "/Users/francispaulraj/opt/anaconda3/lib/python3.9/site-packages/xgboost/core.py:158: UserWarning: [17:20:09] WARNING: /Users/runner/work/xgboost/xgboost/src/learner.cc:740: \n",
      "Parameters: { \"learniing_rate\" } are not used.\n",
      "\n",
      "  warnings.warn(smsg, UserWarning)\n"
     ]
    },
    {
     "name": "stdout",
     "output_type": "stream",
     "text": [
      "[CV 5/5] END ...learning_rate=0.01, max_depth=4;, score=0.913 total time=   0.5s\n"
     ]
    },
    {
     "name": "stderr",
     "output_type": "stream",
     "text": [
      "/Users/francispaulraj/opt/anaconda3/lib/python3.9/site-packages/xgboost/core.py:158: UserWarning: [17:20:10] WARNING: /Users/runner/work/xgboost/xgboost/src/learner.cc:740: \n",
      "Parameters: { \"learniing_rate\" } are not used.\n",
      "\n",
      "  warnings.warn(smsg, UserWarning)\n"
     ]
    },
    {
     "name": "stdout",
     "output_type": "stream",
     "text": [
      "[CV 1/5] END ...learning_rate=0.01, max_depth=5;, score=0.924 total time=   0.6s\n"
     ]
    },
    {
     "name": "stderr",
     "output_type": "stream",
     "text": [
      "/Users/francispaulraj/opt/anaconda3/lib/python3.9/site-packages/xgboost/core.py:158: UserWarning: [17:20:10] WARNING: /Users/runner/work/xgboost/xgboost/src/learner.cc:740: \n",
      "Parameters: { \"learniing_rate\" } are not used.\n",
      "\n",
      "  warnings.warn(smsg, UserWarning)\n"
     ]
    },
    {
     "name": "stdout",
     "output_type": "stream",
     "text": [
      "[CV 2/5] END ...learning_rate=0.01, max_depth=5;, score=0.919 total time=   0.6s\n"
     ]
    },
    {
     "name": "stderr",
     "output_type": "stream",
     "text": [
      "/Users/francispaulraj/opt/anaconda3/lib/python3.9/site-packages/xgboost/core.py:158: UserWarning: [17:20:11] WARNING: /Users/runner/work/xgboost/xgboost/src/learner.cc:740: \n",
      "Parameters: { \"learniing_rate\" } are not used.\n",
      "\n",
      "  warnings.warn(smsg, UserWarning)\n"
     ]
    },
    {
     "name": "stdout",
     "output_type": "stream",
     "text": [
      "[CV 3/5] END ...learning_rate=0.01, max_depth=5;, score=0.921 total time=   0.5s\n"
     ]
    },
    {
     "name": "stderr",
     "output_type": "stream",
     "text": [
      "/Users/francispaulraj/opt/anaconda3/lib/python3.9/site-packages/xgboost/core.py:158: UserWarning: [17:20:11] WARNING: /Users/runner/work/xgboost/xgboost/src/learner.cc:740: \n",
      "Parameters: { \"learniing_rate\" } are not used.\n",
      "\n",
      "  warnings.warn(smsg, UserWarning)\n"
     ]
    },
    {
     "name": "stdout",
     "output_type": "stream",
     "text": [
      "[CV 4/5] END ...learning_rate=0.01, max_depth=5;, score=0.921 total time=   0.6s\n"
     ]
    },
    {
     "name": "stderr",
     "output_type": "stream",
     "text": [
      "/Users/francispaulraj/opt/anaconda3/lib/python3.9/site-packages/xgboost/core.py:158: UserWarning: [17:20:12] WARNING: /Users/runner/work/xgboost/xgboost/src/learner.cc:740: \n",
      "Parameters: { \"learniing_rate\" } are not used.\n",
      "\n",
      "  warnings.warn(smsg, UserWarning)\n"
     ]
    },
    {
     "name": "stdout",
     "output_type": "stream",
     "text": [
      "[CV 5/5] END ...learning_rate=0.01, max_depth=5;, score=0.920 total time=   0.6s\n"
     ]
    },
    {
     "name": "stderr",
     "output_type": "stream",
     "text": [
      "/Users/francispaulraj/opt/anaconda3/lib/python3.9/site-packages/xgboost/core.py:158: UserWarning: [17:20:13] WARNING: /Users/runner/work/xgboost/xgboost/src/learner.cc:740: \n",
      "Parameters: { \"learniing_rate\" } are not used.\n",
      "\n",
      "  warnings.warn(smsg, UserWarning)\n"
     ]
    },
    {
     "name": "stdout",
     "output_type": "stream",
     "text": [
      "[CV 1/5] END ....learning_rate=0.5, max_depth=3;, score=0.960 total time=   0.4s\n"
     ]
    },
    {
     "name": "stderr",
     "output_type": "stream",
     "text": [
      "/Users/francispaulraj/opt/anaconda3/lib/python3.9/site-packages/xgboost/core.py:158: UserWarning: [17:20:13] WARNING: /Users/runner/work/xgboost/xgboost/src/learner.cc:740: \n",
      "Parameters: { \"learniing_rate\" } are not used.\n",
      "\n",
      "  warnings.warn(smsg, UserWarning)\n"
     ]
    },
    {
     "name": "stdout",
     "output_type": "stream",
     "text": [
      "[CV 2/5] END ....learning_rate=0.5, max_depth=3;, score=0.959 total time=   0.5s\n"
     ]
    },
    {
     "name": "stderr",
     "output_type": "stream",
     "text": [
      "/Users/francispaulraj/opt/anaconda3/lib/python3.9/site-packages/xgboost/core.py:158: UserWarning: [17:20:13] WARNING: /Users/runner/work/xgboost/xgboost/src/learner.cc:740: \n",
      "Parameters: { \"learniing_rate\" } are not used.\n",
      "\n",
      "  warnings.warn(smsg, UserWarning)\n"
     ]
    },
    {
     "name": "stdout",
     "output_type": "stream",
     "text": [
      "[CV 3/5] END ....learning_rate=0.5, max_depth=3;, score=0.960 total time=   0.4s\n"
     ]
    },
    {
     "name": "stderr",
     "output_type": "stream",
     "text": [
      "/Users/francispaulraj/opt/anaconda3/lib/python3.9/site-packages/xgboost/core.py:158: UserWarning: [17:20:14] WARNING: /Users/runner/work/xgboost/xgboost/src/learner.cc:740: \n",
      "Parameters: { \"learniing_rate\" } are not used.\n",
      "\n",
      "  warnings.warn(smsg, UserWarning)\n"
     ]
    },
    {
     "name": "stdout",
     "output_type": "stream",
     "text": [
      "[CV 4/5] END ....learning_rate=0.5, max_depth=3;, score=0.958 total time=   0.4s\n"
     ]
    },
    {
     "name": "stderr",
     "output_type": "stream",
     "text": [
      "/Users/francispaulraj/opt/anaconda3/lib/python3.9/site-packages/xgboost/core.py:158: UserWarning: [17:20:14] WARNING: /Users/runner/work/xgboost/xgboost/src/learner.cc:740: \n",
      "Parameters: { \"learniing_rate\" } are not used.\n",
      "\n",
      "  warnings.warn(smsg, UserWarning)\n"
     ]
    },
    {
     "name": "stdout",
     "output_type": "stream",
     "text": [
      "[CV 5/5] END ....learning_rate=0.5, max_depth=3;, score=0.959 total time=   0.4s\n"
     ]
    },
    {
     "name": "stderr",
     "output_type": "stream",
     "text": [
      "/Users/francispaulraj/opt/anaconda3/lib/python3.9/site-packages/xgboost/core.py:158: UserWarning: [17:20:15] WARNING: /Users/runner/work/xgboost/xgboost/src/learner.cc:740: \n",
      "Parameters: { \"learniing_rate\" } are not used.\n",
      "\n",
      "  warnings.warn(smsg, UserWarning)\n"
     ]
    },
    {
     "name": "stdout",
     "output_type": "stream",
     "text": [
      "[CV 1/5] END ....learning_rate=0.5, max_depth=4;, score=0.963 total time=   0.4s\n"
     ]
    },
    {
     "name": "stderr",
     "output_type": "stream",
     "text": [
      "/Users/francispaulraj/opt/anaconda3/lib/python3.9/site-packages/xgboost/core.py:158: UserWarning: [17:20:15] WARNING: /Users/runner/work/xgboost/xgboost/src/learner.cc:740: \n",
      "Parameters: { \"learniing_rate\" } are not used.\n",
      "\n",
      "  warnings.warn(smsg, UserWarning)\n"
     ]
    },
    {
     "name": "stdout",
     "output_type": "stream",
     "text": [
      "[CV 2/5] END ....learning_rate=0.5, max_depth=4;, score=0.960 total time=   0.5s\n"
     ]
    },
    {
     "name": "stderr",
     "output_type": "stream",
     "text": [
      "/Users/francispaulraj/opt/anaconda3/lib/python3.9/site-packages/xgboost/core.py:158: UserWarning: [17:20:16] WARNING: /Users/runner/work/xgboost/xgboost/src/learner.cc:740: \n",
      "Parameters: { \"learniing_rate\" } are not used.\n",
      "\n",
      "  warnings.warn(smsg, UserWarning)\n"
     ]
    },
    {
     "name": "stdout",
     "output_type": "stream",
     "text": [
      "[CV 3/5] END ....learning_rate=0.5, max_depth=4;, score=0.962 total time=   0.5s\n"
     ]
    },
    {
     "name": "stderr",
     "output_type": "stream",
     "text": [
      "/Users/francispaulraj/opt/anaconda3/lib/python3.9/site-packages/xgboost/core.py:158: UserWarning: [17:20:16] WARNING: /Users/runner/work/xgboost/xgboost/src/learner.cc:740: \n",
      "Parameters: { \"learniing_rate\" } are not used.\n",
      "\n",
      "  warnings.warn(smsg, UserWarning)\n"
     ]
    },
    {
     "name": "stdout",
     "output_type": "stream",
     "text": [
      "[CV 4/5] END ....learning_rate=0.5, max_depth=4;, score=0.961 total time=   0.4s\n"
     ]
    },
    {
     "name": "stderr",
     "output_type": "stream",
     "text": [
      "/Users/francispaulraj/opt/anaconda3/lib/python3.9/site-packages/xgboost/core.py:158: UserWarning: [17:20:16] WARNING: /Users/runner/work/xgboost/xgboost/src/learner.cc:740: \n",
      "Parameters: { \"learniing_rate\" } are not used.\n",
      "\n",
      "  warnings.warn(smsg, UserWarning)\n"
     ]
    },
    {
     "name": "stdout",
     "output_type": "stream",
     "text": [
      "[CV 5/5] END ....learning_rate=0.5, max_depth=4;, score=0.961 total time=   0.5s\n"
     ]
    },
    {
     "name": "stderr",
     "output_type": "stream",
     "text": [
      "/Users/francispaulraj/opt/anaconda3/lib/python3.9/site-packages/xgboost/core.py:158: UserWarning: [17:20:17] WARNING: /Users/runner/work/xgboost/xgboost/src/learner.cc:740: \n",
      "Parameters: { \"learniing_rate\" } are not used.\n",
      "\n",
      "  warnings.warn(smsg, UserWarning)\n"
     ]
    },
    {
     "name": "stdout",
     "output_type": "stream",
     "text": [
      "[CV 1/5] END ....learning_rate=0.5, max_depth=5;, score=0.963 total time=   0.5s\n"
     ]
    },
    {
     "name": "stderr",
     "output_type": "stream",
     "text": [
      "/Users/francispaulraj/opt/anaconda3/lib/python3.9/site-packages/xgboost/core.py:158: UserWarning: [17:20:17] WARNING: /Users/runner/work/xgboost/xgboost/src/learner.cc:740: \n",
      "Parameters: { \"learniing_rate\" } are not used.\n",
      "\n",
      "  warnings.warn(smsg, UserWarning)\n"
     ]
    },
    {
     "name": "stdout",
     "output_type": "stream",
     "text": [
      "[CV 2/5] END ....learning_rate=0.5, max_depth=5;, score=0.961 total time=   0.5s\n"
     ]
    },
    {
     "name": "stderr",
     "output_type": "stream",
     "text": [
      "/Users/francispaulraj/opt/anaconda3/lib/python3.9/site-packages/xgboost/core.py:158: UserWarning: [17:20:18] WARNING: /Users/runner/work/xgboost/xgboost/src/learner.cc:740: \n",
      "Parameters: { \"learniing_rate\" } are not used.\n",
      "\n",
      "  warnings.warn(smsg, UserWarning)\n"
     ]
    },
    {
     "name": "stdout",
     "output_type": "stream",
     "text": [
      "[CV 3/5] END ....learning_rate=0.5, max_depth=5;, score=0.962 total time=   0.5s\n"
     ]
    },
    {
     "name": "stderr",
     "output_type": "stream",
     "text": [
      "/Users/francispaulraj/opt/anaconda3/lib/python3.9/site-packages/xgboost/core.py:158: UserWarning: [17:20:18] WARNING: /Users/runner/work/xgboost/xgboost/src/learner.cc:740: \n",
      "Parameters: { \"learniing_rate\" } are not used.\n",
      "\n",
      "  warnings.warn(smsg, UserWarning)\n"
     ]
    },
    {
     "name": "stdout",
     "output_type": "stream",
     "text": [
      "[CV 4/5] END ....learning_rate=0.5, max_depth=5;, score=0.962 total time=   0.5s\n"
     ]
    },
    {
     "name": "stderr",
     "output_type": "stream",
     "text": [
      "/Users/francispaulraj/opt/anaconda3/lib/python3.9/site-packages/xgboost/core.py:158: UserWarning: [17:20:19] WARNING: /Users/runner/work/xgboost/xgboost/src/learner.cc:740: \n",
      "Parameters: { \"learniing_rate\" } are not used.\n",
      "\n",
      "  warnings.warn(smsg, UserWarning)\n"
     ]
    },
    {
     "name": "stdout",
     "output_type": "stream",
     "text": [
      "[CV 5/5] END ....learning_rate=0.5, max_depth=5;, score=0.962 total time=   0.5s\n"
     ]
    },
    {
     "name": "stderr",
     "output_type": "stream",
     "text": [
      "/Users/francispaulraj/opt/anaconda3/lib/python3.9/site-packages/xgboost/core.py:158: UserWarning: [17:20:19] WARNING: /Users/runner/work/xgboost/xgboost/src/learner.cc:740: \n",
      "Parameters: { \"learniing_rate\" } are not used.\n",
      "\n",
      "  warnings.warn(smsg, UserWarning)\n"
     ]
    },
    {
     "name": "stdout",
     "output_type": "stream",
     "text": [
      "[CV 1/5] END ......learning_rate=1, max_depth=3;, score=0.961 total time=   0.4s\n"
     ]
    },
    {
     "name": "stderr",
     "output_type": "stream",
     "text": [
      "/Users/francispaulraj/opt/anaconda3/lib/python3.9/site-packages/xgboost/core.py:158: UserWarning: [17:20:20] WARNING: /Users/runner/work/xgboost/xgboost/src/learner.cc:740: \n",
      "Parameters: { \"learniing_rate\" } are not used.\n",
      "\n",
      "  warnings.warn(smsg, UserWarning)\n"
     ]
    },
    {
     "name": "stdout",
     "output_type": "stream",
     "text": [
      "[CV 2/5] END ......learning_rate=1, max_depth=3;, score=0.957 total time=   0.4s\n"
     ]
    },
    {
     "name": "stderr",
     "output_type": "stream",
     "text": [
      "/Users/francispaulraj/opt/anaconda3/lib/python3.9/site-packages/xgboost/core.py:158: UserWarning: [17:20:20] WARNING: /Users/runner/work/xgboost/xgboost/src/learner.cc:740: \n",
      "Parameters: { \"learniing_rate\" } are not used.\n",
      "\n",
      "  warnings.warn(smsg, UserWarning)\n"
     ]
    },
    {
     "name": "stdout",
     "output_type": "stream",
     "text": [
      "[CV 3/5] END ......learning_rate=1, max_depth=3;, score=0.958 total time=   0.4s\n"
     ]
    },
    {
     "name": "stderr",
     "output_type": "stream",
     "text": [
      "/Users/francispaulraj/opt/anaconda3/lib/python3.9/site-packages/xgboost/core.py:158: UserWarning: [17:20:21] WARNING: /Users/runner/work/xgboost/xgboost/src/learner.cc:740: \n",
      "Parameters: { \"learniing_rate\" } are not used.\n",
      "\n",
      "  warnings.warn(smsg, UserWarning)\n"
     ]
    },
    {
     "name": "stdout",
     "output_type": "stream",
     "text": [
      "[CV 4/5] END ......learning_rate=1, max_depth=3;, score=0.958 total time=   0.4s\n"
     ]
    },
    {
     "name": "stderr",
     "output_type": "stream",
     "text": [
      "/Users/francispaulraj/opt/anaconda3/lib/python3.9/site-packages/xgboost/core.py:158: UserWarning: [17:20:21] WARNING: /Users/runner/work/xgboost/xgboost/src/learner.cc:740: \n",
      "Parameters: { \"learniing_rate\" } are not used.\n",
      "\n",
      "  warnings.warn(smsg, UserWarning)\n"
     ]
    },
    {
     "name": "stdout",
     "output_type": "stream",
     "text": [
      "[CV 5/5] END ......learning_rate=1, max_depth=3;, score=0.959 total time=   0.4s\n"
     ]
    },
    {
     "name": "stderr",
     "output_type": "stream",
     "text": [
      "/Users/francispaulraj/opt/anaconda3/lib/python3.9/site-packages/xgboost/core.py:158: UserWarning: [17:20:22] WARNING: /Users/runner/work/xgboost/xgboost/src/learner.cc:740: \n",
      "Parameters: { \"learniing_rate\" } are not used.\n",
      "\n",
      "  warnings.warn(smsg, UserWarning)\n"
     ]
    },
    {
     "name": "stdout",
     "output_type": "stream",
     "text": [
      "[CV 1/5] END ......learning_rate=1, max_depth=4;, score=0.959 total time=   0.4s\n"
     ]
    },
    {
     "name": "stderr",
     "output_type": "stream",
     "text": [
      "/Users/francispaulraj/opt/anaconda3/lib/python3.9/site-packages/xgboost/core.py:158: UserWarning: [17:20:22] WARNING: /Users/runner/work/xgboost/xgboost/src/learner.cc:740: \n",
      "Parameters: { \"learniing_rate\" } are not used.\n",
      "\n",
      "  warnings.warn(smsg, UserWarning)\n"
     ]
    },
    {
     "name": "stdout",
     "output_type": "stream",
     "text": [
      "[CV 2/5] END ......learning_rate=1, max_depth=4;, score=0.958 total time=   0.4s\n"
     ]
    },
    {
     "name": "stderr",
     "output_type": "stream",
     "text": [
      "/Users/francispaulraj/opt/anaconda3/lib/python3.9/site-packages/xgboost/core.py:158: UserWarning: [17:20:22] WARNING: /Users/runner/work/xgboost/xgboost/src/learner.cc:740: \n",
      "Parameters: { \"learniing_rate\" } are not used.\n",
      "\n",
      "  warnings.warn(smsg, UserWarning)\n"
     ]
    },
    {
     "name": "stdout",
     "output_type": "stream",
     "text": [
      "[CV 3/5] END ......learning_rate=1, max_depth=4;, score=0.960 total time=   0.4s\n"
     ]
    },
    {
     "name": "stderr",
     "output_type": "stream",
     "text": [
      "/Users/francispaulraj/opt/anaconda3/lib/python3.9/site-packages/xgboost/core.py:158: UserWarning: [17:20:23] WARNING: /Users/runner/work/xgboost/xgboost/src/learner.cc:740: \n",
      "Parameters: { \"learniing_rate\" } are not used.\n",
      "\n",
      "  warnings.warn(smsg, UserWarning)\n"
     ]
    },
    {
     "name": "stdout",
     "output_type": "stream",
     "text": [
      "[CV 4/5] END ......learning_rate=1, max_depth=4;, score=0.959 total time=   0.5s\n"
     ]
    },
    {
     "name": "stderr",
     "output_type": "stream",
     "text": [
      "/Users/francispaulraj/opt/anaconda3/lib/python3.9/site-packages/xgboost/core.py:158: UserWarning: [17:20:23] WARNING: /Users/runner/work/xgboost/xgboost/src/learner.cc:740: \n",
      "Parameters: { \"learniing_rate\" } are not used.\n",
      "\n",
      "  warnings.warn(smsg, UserWarning)\n"
     ]
    },
    {
     "name": "stdout",
     "output_type": "stream",
     "text": [
      "[CV 5/5] END ......learning_rate=1, max_depth=4;, score=0.958 total time=   0.4s\n"
     ]
    },
    {
     "name": "stderr",
     "output_type": "stream",
     "text": [
      "/Users/francispaulraj/opt/anaconda3/lib/python3.9/site-packages/xgboost/core.py:158: UserWarning: [17:20:24] WARNING: /Users/runner/work/xgboost/xgboost/src/learner.cc:740: \n",
      "Parameters: { \"learniing_rate\" } are not used.\n",
      "\n",
      "  warnings.warn(smsg, UserWarning)\n"
     ]
    },
    {
     "name": "stdout",
     "output_type": "stream",
     "text": [
      "[CV 1/5] END ......learning_rate=1, max_depth=5;, score=0.957 total time=   0.5s\n"
     ]
    },
    {
     "name": "stderr",
     "output_type": "stream",
     "text": [
      "/Users/francispaulraj/opt/anaconda3/lib/python3.9/site-packages/xgboost/core.py:158: UserWarning: [17:20:24] WARNING: /Users/runner/work/xgboost/xgboost/src/learner.cc:740: \n",
      "Parameters: { \"learniing_rate\" } are not used.\n",
      "\n",
      "  warnings.warn(smsg, UserWarning)\n"
     ]
    },
    {
     "name": "stdout",
     "output_type": "stream",
     "text": [
      "[CV 2/5] END ......learning_rate=1, max_depth=5;, score=0.957 total time=   0.5s\n"
     ]
    },
    {
     "name": "stderr",
     "output_type": "stream",
     "text": [
      "/Users/francispaulraj/opt/anaconda3/lib/python3.9/site-packages/xgboost/core.py:158: UserWarning: [17:20:25] WARNING: /Users/runner/work/xgboost/xgboost/src/learner.cc:740: \n",
      "Parameters: { \"learniing_rate\" } are not used.\n",
      "\n",
      "  warnings.warn(smsg, UserWarning)\n"
     ]
    },
    {
     "name": "stdout",
     "output_type": "stream",
     "text": [
      "[CV 3/5] END ......learning_rate=1, max_depth=5;, score=0.957 total time=   0.5s\n"
     ]
    },
    {
     "name": "stderr",
     "output_type": "stream",
     "text": [
      "/Users/francispaulraj/opt/anaconda3/lib/python3.9/site-packages/xgboost/core.py:158: UserWarning: [17:20:25] WARNING: /Users/runner/work/xgboost/xgboost/src/learner.cc:740: \n",
      "Parameters: { \"learniing_rate\" } are not used.\n",
      "\n",
      "  warnings.warn(smsg, UserWarning)\n"
     ]
    },
    {
     "name": "stdout",
     "output_type": "stream",
     "text": [
      "[CV 4/5] END ......learning_rate=1, max_depth=5;, score=0.957 total time=   0.6s\n"
     ]
    },
    {
     "name": "stderr",
     "output_type": "stream",
     "text": [
      "/Users/francispaulraj/opt/anaconda3/lib/python3.9/site-packages/xgboost/core.py:158: UserWarning: [17:20:26] WARNING: /Users/runner/work/xgboost/xgboost/src/learner.cc:740: \n",
      "Parameters: { \"learniing_rate\" } are not used.\n",
      "\n",
      "  warnings.warn(smsg, UserWarning)\n"
     ]
    },
    {
     "name": "stdout",
     "output_type": "stream",
     "text": [
      "[CV 5/5] END ......learning_rate=1, max_depth=5;, score=0.957 total time=   0.5s\n"
     ]
    },
    {
     "name": "stderr",
     "output_type": "stream",
     "text": [
      "/Users/francispaulraj/opt/anaconda3/lib/python3.9/site-packages/xgboost/core.py:158: UserWarning: [17:20:26] WARNING: /Users/runner/work/xgboost/xgboost/src/learner.cc:740: \n",
      "Parameters: { \"learniing_rate\" } are not used.\n",
      "\n",
      "  warnings.warn(smsg, UserWarning)\n"
     ]
    },
    {
     "name": "stdout",
     "output_type": "stream",
     "text": [
      "              precision    recall  f1-score   support\n",
      "\n",
      "           0       0.96      0.98      0.97     18128\n",
      "           1       0.97      0.95      0.96     14017\n",
      "\n",
      "    accuracy                           0.96     32145\n",
      "   macro avg       0.96      0.96      0.96     32145\n",
      "weighted avg       0.96      0.96      0.96     32145\n",
      "\n"
     ]
    },
    {
     "data": {
      "image/png": "[encoded data removed]",
      "text/plain": [
       "<Figure size 432x288 with 3 Axes>"
      ]
     },
     "metadata": {
      "needs_background": "light"
     },
     "output_type": "display_data"
    }
   ],
   "source": [
    "from sklearn.model_selection import train_test_split\n",
    "from sklearn.metrics import accuracy_score,confusion_matrix,classification_report\n",
    "from sklearn.model_selection import GridSearchCV\n",
    "\n",
    "xgb_model = xgb.XGBClassifier(learniing_rate = 0.1, max_depth = 20, n_estimators = 500, use_label_encoder = False)\n",
    "xgb_model.fit(X_train,y_train)\n",
    "\n",
    "y_predict = xgb_model.predict(X_test)\n",
    "\n",
    "print(f'Accuracy {accuracy_score(y_predict,y_test)}*100 % ')\n",
    "\n",
    "cm = confusion_matrix(y_predict,y_test)\n",
    "sns.heatmap(cm,annot = True, fmt = 'd')\n",
    "print(classification_report(y_test,y_predict))\n",
    "\n",
    "\n",
    "param_grid = {'learning_rate':[0.01,0.5,1], # regularization parameter\n",
    "               'max_depth':[3,4,5]\t # depth of each tree\n",
    "              }\n",
    "\n",
    "xgb_model1 = xgb.XGBClassifier(learniing_rate = 0.01, max_depth = 20, n_estimators = 100, objective = 'binary:logistic')    \n",
    "\n",
    "grid = GridSearchCV(xgb_model1,param_grid,refit = True, verbose = 4)\n",
    "grid.fit(X_train,y_train)\n",
    "\n",
    "y_predict_optim = grid.predict(X_test)\n",
    "cm = confusion_matrix(y_predict_optim,y_test)\n",
    "sns.heatmap(cm,annot = True,fmt = 'd')\n",
    "\n",
    "print(classification_report(y_test,y_predict_optim))"
   ]
  },
  {
   "cell_type": "markdown",
   "id": "0df27567",
   "metadata": {},
   "source": [
    "### Observation\n",
    " - XGBoost Classifier model predicted 96% accuracy compared to K-Nearest Neighbors Classifer Model and XGBRegressor Model"
   ]
  },
  {
   "cell_type": "code",
   "execution_count": 203,
   "id": "aa1074ef",
   "metadata": {},
   "outputs": [
    {
     "data": {
      "text/plain": [
       "['satisfaction_xgb_model.pkl']"
      ]
     },
     "execution_count": 203,
     "metadata": {},
     "output_type": "execute_result"
    }
   ],
   "source": [
    "import joblib\n",
    "\n",
    "joblib.dump(xgb_model, 'satisfaction_xgb_model.pkl')"
   ]
  },
  {
   "cell_type": "code",
   "execution_count": 233,
   "id": "3370e4db",
   "metadata": {},
   "outputs": [],
   "source": [
    "# Production data set\n",
    "loaded_model = joblib.load('satisfaction_xgb_model.pkl')\n",
    "prod_df = pd.read_csv('satisfaction_prod.csv')"
   ]
  },
  {
   "cell_type": "code",
   "execution_count": 235,
   "id": "0442668a",
   "metadata": {},
   "outputs": [
    {
     "data": {
      "text/plain": [
       "(1303, 23)"
      ]
     },
     "execution_count": 235,
     "metadata": {},
     "output_type": "execute_result"
    }
   ],
   "source": [
    "prod_df.shape"
   ]
  },
  {
   "cell_type": "code",
   "execution_count": 234,
   "id": "286b0eb9",
   "metadata": {},
   "outputs": [
    {
     "name": "stdout",
     "output_type": "stream",
     "text": [
      "<class 'pandas.core.frame.DataFrame'>\n",
      "RangeIndex: 1303 entries, 0 to 1302\n",
      "Data columns (total 23 columns):\n",
      " #   Column                             Non-Null Count  Dtype  \n",
      "---  ------                             --------------  -----  \n",
      " 0   id                                 1303 non-null   int64  \n",
      " 1   Gender                             1303 non-null   object \n",
      " 2   Customer Type                      1303 non-null   object \n",
      " 3   Age                                1295 non-null   float64\n",
      " 4   Type of Travel                     1303 non-null   object \n",
      " 5   Class                              1303 non-null   object \n",
      " 6   Flight Distance                    1303 non-null   int64  \n",
      " 7   Inflight wifi service              1303 non-null   int64  \n",
      " 8   Ease of Online booking             1303 non-null   int64  \n",
      " 9   Gate location                      1303 non-null   int64  \n",
      " 10  Food and drink                     1303 non-null   int64  \n",
      " 11  Online boarding                    1303 non-null   int64  \n",
      " 12  Cleanliness                        1303 non-null   int64  \n",
      " 13  Seat comfort                       1303 non-null   int64  \n",
      " 14  Inflight entertainment             1303 non-null   int64  \n",
      " 15  On-board service                   1303 non-null   int64  \n",
      " 16  Leg room service                   1303 non-null   int64  \n",
      " 17  Baggage handling                   1299 non-null   float64\n",
      " 18  Checkin service                    1303 non-null   int64  \n",
      " 19  Inflight service                   1303 non-null   int64  \n",
      " 20  Departure/Arrival time convenient  1303 non-null   int64  \n",
      " 21  Arrival Delay in Minutes           1298 non-null   float64\n",
      " 22  Departure Delay in Minutes         1303 non-null   int64  \n",
      "dtypes: float64(3), int64(16), object(4)\n",
      "memory usage: 234.3+ KB\n"
     ]
    }
   ],
   "source": [
    "prod_df.info()"
   ]
  },
  {
   "cell_type": "code",
   "execution_count": 243,
   "id": "5404db5e",
   "metadata": {},
   "outputs": [],
   "source": [
    "prod_df['Gender'] = prod_df['Gender'].map({'Male':0,'Female':1})\n",
    "prod_df['Customer Type'] = prod_df['Customer Type'].map({'disloyal Customer':0,'Loyal Customer':1})\n",
    "prod_df['Type of Travel'] = prod_df['Type of Travel'].map({'Business travel':0,'Personal Travel':1})\n",
    "prod_df['Class'] = prod_df['Class'].map({'Business':0,'Eco':1,'Eco Plus':2})"
   ]
  },
  {
   "cell_type": "code",
   "execution_count": 244,
   "id": "761e9baf",
   "metadata": {},
   "outputs": [],
   "source": [
    "prod_df.drop('id',axis=1,inplace=True)"
   ]
  },
  {
   "cell_type": "code",
   "execution_count": 246,
   "id": "7a74828f",
   "metadata": {},
   "outputs": [],
   "source": [
    "predictions = loaded_model.predict(prod_df)\n",
    "prod_df['predicted_label'] = predictions\n",
    "output = 'satisfaction_prod_predictions.csv'\n",
    "prod_df.to_csv(output,index = False)"
   ]
  },
  {
   "cell_type": "markdown",
   "id": "d1d21081",
   "metadata": {},
   "source": [
    "#### satisfaction_prod_predictions.csv file with predicted value has been saved in this directory"
   ]
  },
  {
   "cell_type": "code",
   "execution_count": null,
   "id": "84bfaac6",
   "metadata": {},
   "outputs": [],
   "source": []
  }
 ],
 "metadata": {
  "kernelspec": {
   "display_name": "Python 3 (ipykernel)",
   "language": "python",
   "name": "python3"
  },
  "language_info": {
   "codemirror_mode": {
    "name": "ipython",
    "version": 3
   },
   "file_extension": ".py",
   "mimetype": "text/x-python",
   "name": "python",
   "nbconvert_exporter": "python",
   "pygments_lexer": "ipython3",
   "version": "3.9.7"
  }
 },
 "nbformat": 4,
 "nbformat_minor": 5
}
