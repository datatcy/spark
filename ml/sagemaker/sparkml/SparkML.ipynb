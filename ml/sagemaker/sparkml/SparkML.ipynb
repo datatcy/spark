{
 "cells": [
  {
   "cell_type": "code",
   "execution_count": 1,
   "id": "0593d1ca",
   "metadata": {},
   "outputs": [
    {
     "name": "stderr",
     "output_type": "stream",
     "text": [
      "24/11/23 22:34:14 WARN NativeCodeLoader: Unable to load native-hadoop library for your platform... using builtin-java classes where applicable\n",
      "Using Spark's default log4j profile: org/apache/spark/log4j-defaults.properties\n",
      "Setting default log level to \"WARN\".\n",
      "To adjust logging level use sc.setLogLevel(newLevel). For SparkR, use setLogLevel(newLevel).\n",
      "24/11/23 22:34:15 WARN Utils: Service 'SparkUI' could not bind on port 4040. Attempting port 4041.\n"
     ]
    }
   ],
   "source": [
    "from pyspark.sql import SparkSession\n",
    "spark = SparkSession.builder.appName('database').getOrCreate()"
   ]
  },
  {
   "cell_type": "code",
   "execution_count": 174,
   "id": "d9512c74",
   "metadata": {},
   "outputs": [],
   "source": [
    "import pandas as pd\n",
    "import matplotlib as plt\n",
    "import seaborn as sns\n",
    "%matplotlib inline\n",
    "\n",
    "from pyspark.sql.types import IntegerType,DateType,StringType,StructType,StructField\n",
    "from pyspark.sql.functions import avg,min,max,sum,col,mean,lit"
   ]
  },
  {
   "cell_type": "markdown",
   "id": "6ef7ad62",
   "metadata": {},
   "source": [
    "### Day 3 Celsius  to Fahrenheit"
   ]
  },
  {
   "cell_type": "code",
   "execution_count": 4,
   "id": "abbe95f0",
   "metadata": {},
   "outputs": [
    {
     "name": "stderr",
     "output_type": "stream",
     "text": [
      "                                                                                \r"
     ]
    }
   ],
   "source": [
    "from pyspark.ml.regression import LinearRegression\n",
    "from pyspark.ml.feature import VectorAssembler\n",
    "\n",
    "temperature_df = (spark.read.format('csv')\n",
    "                  .option('header',True)\n",
    "                  .option('inferSchema',True)\n",
    "                  .load('03_celsiustofahrenheit.csv')\n",
    "                 )"
   ]
  },
  {
   "cell_type": "code",
   "execution_count": 4,
   "id": "8c259bb9",
   "metadata": {},
   "outputs": [
    {
     "name": "stdout",
     "output_type": "stream",
     "text": [
      "root\n",
      " |-- Celsius: integer (nullable = true)\n",
      " |-- Fahrenheit: double (nullable = true)\n",
      "\n"
     ]
    }
   ],
   "source": [
    "temperature_df.printSchema()"
   ]
  },
  {
   "cell_type": "code",
   "execution_count": 14,
   "id": "fcd435fa",
   "metadata": {},
   "outputs": [
    {
     "name": "stderr",
     "output_type": "stream",
     "text": [
      "24/09/29 19:56:04 WARN Instrumentation: [3a9a2b48] regParam is zero, which might cause numerical instability and overfitting.\n",
      "24/09/29 19:56:04 WARN BLAS: Failed to load implementation from: com.github.fommil.netlib.NativeSystemBLAS\n",
      "24/09/29 19:56:04 WARN BLAS: Failed to load implementation from: com.github.fommil.netlib.NativeRefBLAS\n",
      "24/09/29 19:56:04 WARN LAPACK: Failed to load implementation from: com.github.fommil.netlib.NativeSystemLAPACK\n",
      "24/09/29 19:56:04 WARN LAPACK: Failed to load implementation from: com.github.fommil.netlib.NativeRefLAPACK\n"
     ]
    }
   ],
   "source": [
    "assembler = VectorAssembler(inputCols=[\"Celsius\"], outputCol=\"features\")\n",
    "output = assembler.transform(temperature_df)\n",
    "final_data = output.select(\"features\", \"Fahrenheit\")\n",
    "lr = LinearRegression(featuresCol=\"features\", labelCol=\"Fahrenheit\")\n",
    "lr_model = lr.fit(final_data)"
   ]
  },
  {
   "cell_type": "code",
   "execution_count": 19,
   "id": "6419c03f",
   "metadata": {},
   "outputs": [
    {
     "name": "stdout",
     "output_type": "stream",
     "text": [
      "Coefficients: [1.7999999999999996]\n",
      "Intercept: 32.00000000000001\n",
      "RMSE: 1.0950198975068616e-14\n",
      "R²: 1.0\n",
      "+--------+----------+------------------+\n",
      "|features|Fahrenheit|        prediction|\n",
      "+--------+----------+------------------+\n",
      "| [-50.0]|     -58.0|-57.99999999999998|\n",
      "| [-40.0]|     -40.0|-39.99999999999998|\n",
      "| [-30.0]|     -22.0|-21.99999999999998|\n",
      "| [-20.0]|      -4.0|-3.999999999999986|\n",
      "| [-10.0]|      14.0| 14.00000000000001|\n",
      "|  [-9.0]|      15.8|15.800000000000011|\n",
      "|  [-8.0]|      17.6| 17.60000000000001|\n",
      "|  [-7.0]|      19.4| 19.40000000000001|\n",
      "|  [-6.0]|      21.2| 21.20000000000001|\n",
      "|  [-5.0]|      23.0|23.000000000000007|\n",
      "|  [-4.0]|      24.8|24.800000000000008|\n",
      "|  [-3.0]|      26.6| 26.60000000000001|\n",
      "|  [-2.0]|      28.4| 28.40000000000001|\n",
      "|  [-1.0]|      30.2|30.200000000000006|\n",
      "|   [0.0]|      32.0| 32.00000000000001|\n",
      "|   [1.0]|      33.8|33.800000000000004|\n",
      "|   [2.0]|      35.6| 35.60000000000001|\n",
      "|   [3.0]|      37.4|37.400000000000006|\n",
      "|   [4.0]|      39.2|              39.2|\n",
      "|   [5.0]|      41.0| 41.00000000000001|\n",
      "+--------+----------+------------------+\n",
      "only showing top 20 rows\n",
      "\n"
     ]
    }
   ],
   "source": [
    "print(f\"Coefficients: {lr_model.coefficients}\")\n",
    "print(f\"Intercept: {lr_model.intercept}\")\n",
    "training_summary = lr_model.summary\n",
    "print(f\"RMSE: {training_summary.rootMeanSquaredError}\")\n",
    "print(f\"R²: {training_summary.r2}\")\n",
    "predictions = lr_model.transform(final_data)\n",
    "predictions.select(\"features\", \"Fahrenheit\", \"prediction\").show()"
   ]
  },
  {
   "cell_type": "markdown",
   "id": "667e22ba",
   "metadata": {},
   "source": [
    "### Day 3 Salary"
   ]
  },
  {
   "cell_type": "code",
   "execution_count": 6,
   "id": "6c2a2937",
   "metadata": {},
   "outputs": [],
   "source": [
    "from pyspark.ml.regression import LinearRegression\n",
    "from pyspark.ml.feature import VectorAssembler\n",
    "\n",
    "salary_df = (spark.read.format('csv')\n",
    "                  .option('header',True)\n",
    "                  .option('inferSchema',True)\n",
    "                  .load('03_salary.csv')\n",
    "                 )"
   ]
  },
  {
   "cell_type": "code",
   "execution_count": 22,
   "id": "7a77e980",
   "metadata": {},
   "outputs": [
    {
     "name": "stdout",
     "output_type": "stream",
     "text": [
      "root\n",
      " |-- Years of Experience: integer (nullable = true)\n",
      " |-- Salary: double (nullable = true)\n",
      "\n"
     ]
    }
   ],
   "source": [
    "salary_df.printSchema()"
   ]
  },
  {
   "cell_type": "code",
   "execution_count": 32,
   "id": "ce018a12",
   "metadata": {},
   "outputs": [
    {
     "name": "stderr",
     "output_type": "stream",
     "text": [
      "24/09/29 20:16:14 WARN Instrumentation: [605ac01f] regParam is zero, which might cause numerical instability and overfitting.\n"
     ]
    }
   ],
   "source": [
    "assembler = VectorAssembler(inputCols = ['Years of Experience'],outputCol=\"features\")\n",
    "output = assembler.transform(salary_df)\n",
    "final_data = output.select('features','Salary')\n",
    "lr = LinearRegression(featuresCol='features',labelCol='Salary')\n",
    "lr_model = lr.fit(final_data)"
   ]
  },
  {
   "cell_type": "code",
   "execution_count": 36,
   "id": "9d5705f9",
   "metadata": {},
   "outputs": [
    {
     "name": "stdout",
     "output_type": "stream",
     "text": [
      "Coefficients: [4279.70812260233]\n",
      "Intercept: 9219.040852684175\n",
      "RMSE: 5152.608217200236\n",
      "R²: 0.9783837175250568\n",
      "+--------+-----------+------------------+\n",
      "|features|     Salary|        prediction|\n",
      "+--------+-----------+------------------+\n",
      "|  [25.0]|106959.8057|116211.74391774244|\n",
      "|  [26.0]|125038.0243|120491.45204034477|\n",
      "|  [28.0]|132126.4578|129050.86828554943|\n",
      "|  [21.0]|97541.39206|  99092.9114273331|\n",
      "|  [12.0]|63248.03888|60575.538323912144|\n",
      "|  [14.0]|73588.14876|  69134.9545691168|\n",
      "|  [14.0]|61778.90358|  69134.9545691168|\n",
      "|  [31.0]| 139343.328| 141889.9926533564|\n",
      "|   [1.0]|11078.06765|13498.748975286504|\n",
      "|  [32.0]|147560.1648|146169.70077595874|\n",
      "|  [11.0]|65193.68168|  56295.8302013098|\n",
      "|   [4.0]| 14232.0306|26337.873343093495|\n",
      "|  [19.0]|93489.34132| 90533.49518212845|\n",
      "|  [14.0]|57908.18682|  69134.9545691168|\n",
      "|  [40.0]|181095.5209|180407.36575677738|\n",
      "|  [18.0]|93981.80664| 86253.78705952612|\n",
      "|  [26.0]|129641.9995|120491.45204034477|\n",
      "|  [43.0]| 184301.655|193246.49012458438|\n",
      "|  [30.0]|129912.2349|137610.28453075408|\n",
      "|  [22.0]|106924.5731|103372.61954993544|\n",
      "+--------+-----------+------------------+\n",
      "only showing top 20 rows\n",
      "\n"
     ]
    }
   ],
   "source": [
    "print(f\"Coefficients: {lr_model.coefficients}\")\n",
    "print(f\"Intercept: {lr_model.intercept}\")\n",
    "training_summary = lr_model.summary\n",
    "print(f\"RMSE: {training_summary.rootMeanSquaredError}\")\n",
    "print(f\"R²: {training_summary.r2}\")\n",
    "predictions = lr_model.transform(final_data)\n",
    "predictions.select(\"features\", \"Salary\", \"prediction\").show()"
   ]
  },
  {
   "cell_type": "markdown",
   "id": "29f70fb6",
   "metadata": {},
   "source": [
    "### Pandas Data Frame"
   ]
  },
  {
   "cell_type": "code",
   "execution_count": null,
   "id": "3697bfe7",
   "metadata": {},
   "outputs": [],
   "source": [
    "data  = [ (1,'Laila Aly',35000,5),(2,'Kate Steve',40000,7),(3,'Nicole Mitch',100000,10),(4,'Francis Morris',25000,1)]\n",
    "spark_df = spark.createDataFrame(data,['EmployeeId','EnployeeName','AnualSalary','YearsCompany'])"
   ]
  },
  {
   "cell_type": "code",
   "execution_count": 3,
   "id": "31f7065e",
   "metadata": {},
   "outputs": [
    {
     "name": "stderr",
     "output_type": "stream",
     "text": [
      "[Stage 0:>                                                          (0 + 1) / 1]\r"
     ]
    },
    {
     "name": "stdout",
     "output_type": "stream",
     "text": [
      "+----------+--------------+-----------+------------+\n",
      "|EmployeeId|  EnployeeName|AnualSalary|YearsCompany|\n",
      "+----------+--------------+-----------+------------+\n",
      "|         1|     Laila Aly|      35000|           5|\n",
      "|         2|    Kate Steve|      40000|           7|\n",
      "|         3|  Nicole Mitch|     100000|          10|\n",
      "|         4|Francis Morris|      25000|           1|\n",
      "+----------+--------------+-----------+------------+\n",
      "\n"
     ]
    },
    {
     "name": "stderr",
     "output_type": "stream",
     "text": [
      "\r",
      "                                                                                \r"
     ]
    }
   ],
   "source": [
    "spark_df.show()"
   ]
  },
  {
   "cell_type": "code",
   "execution_count": 14,
   "id": "f76ed8ed",
   "metadata": {},
   "outputs": [],
   "source": [
    "spark_schema = StructType([StructField('EmployeeId',IntegerType(),nullable = False),\n",
    "                           StructField('EnployeeName',StringType(),nullable = False),\n",
    "                           StructField('AnualSalary',IntegerType(),nullable = False),\n",
    "                           StructField('YearsCompany',IntegerType(),nullable = False)])"
   ]
  },
  {
   "cell_type": "code",
   "execution_count": 16,
   "id": "c425a241",
   "metadata": {},
   "outputs": [
    {
     "name": "stdout",
     "output_type": "stream",
     "text": [
      "+----------+--------------+-----------+------------+\n",
      "|EmployeeId|  EnployeeName|AnualSalary|YearsCompany|\n",
      "+----------+--------------+-----------+------------+\n",
      "|         1|     Laila Aly|      35000|           5|\n",
      "|         2|    Kate Steve|      40000|           7|\n",
      "|         3|  Nicole Mitch|     100000|          10|\n",
      "|         4|Francis Morris|      25000|           1|\n",
      "+----------+--------------+-----------+------------+\n",
      "\n"
     ]
    }
   ],
   "source": [
    "schema_df = spark.createDataFrame(data,schema = spark_schema)\n",
    "schema_df.show()"
   ]
  },
  {
   "cell_type": "code",
   "execution_count": 18,
   "id": "7687cb2d",
   "metadata": {},
   "outputs": [
    {
     "name": "stdout",
     "output_type": "stream",
     "text": [
      "root\n",
      " |-- EmployeeId: integer (nullable = false)\n",
      " |-- EnployeeName: string (nullable = false)\n",
      " |-- AnualSalary: integer (nullable = false)\n",
      " |-- YearsCompany: integer (nullable = false)\n",
      "\n"
     ]
    }
   ],
   "source": [
    "schema_df.printSchema()"
   ]
  },
  {
   "cell_type": "code",
   "execution_count": 31,
   "id": "478ea864",
   "metadata": {},
   "outputs": [
    {
     "data": {
      "text/plain": [
       "pyspark.sql.dataframe.DataFrame"
      ]
     },
     "execution_count": 31,
     "metadata": {},
     "output_type": "execute_result"
    }
   ],
   "source": [
    "type(schema_df)"
   ]
  },
  {
   "cell_type": "code",
   "execution_count": 20,
   "id": "00f15bc8",
   "metadata": {},
   "outputs": [
    {
     "data": {
      "text/plain": [
       "Row(EmployeeId=1, EnployeeName='Laila Aly', AnualSalary=35000, YearsCompany=5)"
      ]
     },
     "execution_count": 20,
     "metadata": {},
     "output_type": "execute_result"
    }
   ],
   "source": [
    "schema_df.head()"
   ]
  },
  {
   "cell_type": "code",
   "execution_count": 22,
   "id": "1573126f",
   "metadata": {},
   "outputs": [
    {
     "data": {
      "text/plain": [
       "[Row(EmployeeId=1, EnployeeName='Laila Aly', AnualSalary=35000, YearsCompany=5),\n",
       " Row(EmployeeId=2, EnployeeName='Kate Steve', AnualSalary=40000, YearsCompany=7),\n",
       " Row(EmployeeId=3, EnployeeName='Nicole Mitch', AnualSalary=100000, YearsCompany=10),\n",
       " Row(EmployeeId=4, EnployeeName='Francis Morris', AnualSalary=25000, YearsCompany=1)]"
      ]
     },
     "execution_count": 22,
     "metadata": {},
     "output_type": "execute_result"
    }
   ],
   "source": [
    "schema_df.tail(5)"
   ]
  },
  {
   "cell_type": "code",
   "execution_count": 37,
   "id": "1fed5f95",
   "metadata": {},
   "outputs": [
    {
     "data": {
      "text/plain": [
       "DataFrame[summary: string, EmployeeId: string, EnployeeName: string, AnualSalary: string, YearsCompany: string]"
      ]
     },
     "execution_count": 37,
     "metadata": {},
     "output_type": "execute_result"
    }
   ],
   "source": [
    "schema_df.describe()"
   ]
  },
  {
   "cell_type": "code",
   "execution_count": 44,
   "id": "d695ee38",
   "metadata": {},
   "outputs": [
    {
     "name": "stdout",
     "output_type": "stream",
     "text": [
      "pandas equvelent of shape is 4   4\n"
     ]
    }
   ],
   "source": [
    "print('pandas equvelent of shape is', schema_df.count(),\" \",len(schema_df.columns))"
   ]
  },
  {
   "cell_type": "code",
   "execution_count": 26,
   "id": "8c66a963",
   "metadata": {},
   "outputs": [],
   "source": [
    "data  = ({'EmployeeId':[1,2,3,4],\n",
    "          'EnployeeName':['Laila Aly','Kate Steve','Nicole Mitch','Francis Morris'],\n",
    "          'AnualSalary':[35000,40000,100000,25000],\n",
    "          'YearsCompany':[5,7,10,1]})\n",
    "employee_df = pd.DataFrame(data)"
   ]
  },
  {
   "cell_type": "code",
   "execution_count": 29,
   "id": "2e275700",
   "metadata": {},
   "outputs": [
    {
     "data": {
      "text/html": [
       "<div>\n",
       "<style scoped>\n",
       "    .dataframe tbody tr th:only-of-type {\n",
       "        vertical-align: middle;\n",
       "    }\n",
       "\n",
       "    .dataframe tbody tr th {\n",
       "        vertical-align: top;\n",
       "    }\n",
       "\n",
       "    .dataframe thead th {\n",
       "        text-align: right;\n",
       "    }\n",
       "</style>\n",
       "<table border=\"1\" class=\"dataframe\">\n",
       "  <thead>\n",
       "    <tr style=\"text-align: right;\">\n",
       "      <th></th>\n",
       "      <th>EmployeeId</th>\n",
       "      <th>EnployeeName</th>\n",
       "      <th>AnualSalary</th>\n",
       "      <th>YearsCompany</th>\n",
       "    </tr>\n",
       "  </thead>\n",
       "  <tbody>\n",
       "    <tr>\n",
       "      <th>0</th>\n",
       "      <td>1</td>\n",
       "      <td>Laila Aly</td>\n",
       "      <td>35000</td>\n",
       "      <td>5</td>\n",
       "    </tr>\n",
       "    <tr>\n",
       "      <th>1</th>\n",
       "      <td>2</td>\n",
       "      <td>Kate Steve</td>\n",
       "      <td>40000</td>\n",
       "      <td>7</td>\n",
       "    </tr>\n",
       "    <tr>\n",
       "      <th>2</th>\n",
       "      <td>3</td>\n",
       "      <td>Nicole Mitch</td>\n",
       "      <td>100000</td>\n",
       "      <td>10</td>\n",
       "    </tr>\n",
       "    <tr>\n",
       "      <th>3</th>\n",
       "      <td>4</td>\n",
       "      <td>Francis Morris</td>\n",
       "      <td>25000</td>\n",
       "      <td>1</td>\n",
       "    </tr>\n",
       "  </tbody>\n",
       "</table>\n",
       "</div>"
      ],
      "text/plain": [
       "   EmployeeId    EnployeeName  AnualSalary  YearsCompany\n",
       "0           1       Laila Aly        35000             5\n",
       "1           2      Kate Steve        40000             7\n",
       "2           3    Nicole Mitch       100000            10\n",
       "3           4  Francis Morris        25000             1"
      ]
     },
     "execution_count": 29,
     "metadata": {},
     "output_type": "execute_result"
    }
   ],
   "source": [
    "employee_df"
   ]
  },
  {
   "cell_type": "code",
   "execution_count": 30,
   "id": "ba23b50f",
   "metadata": {},
   "outputs": [
    {
     "data": {
      "text/plain": [
       "pandas.core.frame.DataFrame"
      ]
     },
     "execution_count": 30,
     "metadata": {},
     "output_type": "execute_result"
    }
   ],
   "source": [
    "type(employee_df)"
   ]
  },
  {
   "cell_type": "code",
   "execution_count": 32,
   "id": "0bc05346",
   "metadata": {},
   "outputs": [
    {
     "data": {
      "text/html": [
       "<div>\n",
       "<style scoped>\n",
       "    .dataframe tbody tr th:only-of-type {\n",
       "        vertical-align: middle;\n",
       "    }\n",
       "\n",
       "    .dataframe tbody tr th {\n",
       "        vertical-align: top;\n",
       "    }\n",
       "\n",
       "    .dataframe thead th {\n",
       "        text-align: right;\n",
       "    }\n",
       "</style>\n",
       "<table border=\"1\" class=\"dataframe\">\n",
       "  <thead>\n",
       "    <tr style=\"text-align: right;\">\n",
       "      <th></th>\n",
       "      <th>EmployeeId</th>\n",
       "      <th>EnployeeName</th>\n",
       "      <th>AnualSalary</th>\n",
       "      <th>YearsCompany</th>\n",
       "    </tr>\n",
       "  </thead>\n",
       "  <tbody>\n",
       "    <tr>\n",
       "      <th>0</th>\n",
       "      <td>1</td>\n",
       "      <td>Laila Aly</td>\n",
       "      <td>35000</td>\n",
       "      <td>5</td>\n",
       "    </tr>\n",
       "    <tr>\n",
       "      <th>1</th>\n",
       "      <td>2</td>\n",
       "      <td>Kate Steve</td>\n",
       "      <td>40000</td>\n",
       "      <td>7</td>\n",
       "    </tr>\n",
       "  </tbody>\n",
       "</table>\n",
       "</div>"
      ],
      "text/plain": [
       "   EmployeeId EnployeeName  AnualSalary  YearsCompany\n",
       "0           1    Laila Aly        35000             5\n",
       "1           2   Kate Steve        40000             7"
      ]
     },
     "execution_count": 32,
     "metadata": {},
     "output_type": "execute_result"
    }
   ],
   "source": [
    "employee_df.head(2)"
   ]
  },
  {
   "cell_type": "code",
   "execution_count": 33,
   "id": "9bdb6683",
   "metadata": {},
   "outputs": [
    {
     "data": {
      "text/html": [
       "<div>\n",
       "<style scoped>\n",
       "    .dataframe tbody tr th:only-of-type {\n",
       "        vertical-align: middle;\n",
       "    }\n",
       "\n",
       "    .dataframe tbody tr th {\n",
       "        vertical-align: top;\n",
       "    }\n",
       "\n",
       "    .dataframe thead th {\n",
       "        text-align: right;\n",
       "    }\n",
       "</style>\n",
       "<table border=\"1\" class=\"dataframe\">\n",
       "  <thead>\n",
       "    <tr style=\"text-align: right;\">\n",
       "      <th></th>\n",
       "      <th>EmployeeId</th>\n",
       "      <th>EnployeeName</th>\n",
       "      <th>AnualSalary</th>\n",
       "      <th>YearsCompany</th>\n",
       "    </tr>\n",
       "  </thead>\n",
       "  <tbody>\n",
       "    <tr>\n",
       "      <th>2</th>\n",
       "      <td>3</td>\n",
       "      <td>Nicole Mitch</td>\n",
       "      <td>100000</td>\n",
       "      <td>10</td>\n",
       "    </tr>\n",
       "    <tr>\n",
       "      <th>3</th>\n",
       "      <td>4</td>\n",
       "      <td>Francis Morris</td>\n",
       "      <td>25000</td>\n",
       "      <td>1</td>\n",
       "    </tr>\n",
       "  </tbody>\n",
       "</table>\n",
       "</div>"
      ],
      "text/plain": [
       "   EmployeeId    EnployeeName  AnualSalary  YearsCompany\n",
       "2           3    Nicole Mitch       100000            10\n",
       "3           4  Francis Morris        25000             1"
      ]
     },
     "execution_count": 33,
     "metadata": {},
     "output_type": "execute_result"
    }
   ],
   "source": [
    "employee_df.tail(2)"
   ]
  },
  {
   "cell_type": "code",
   "execution_count": 34,
   "id": "4f162d40",
   "metadata": {},
   "outputs": [
    {
     "data": {
      "text/plain": [
       "(4, 4)"
      ]
     },
     "execution_count": 34,
     "metadata": {},
     "output_type": "execute_result"
    }
   ],
   "source": [
    "employee_df.shape"
   ]
  },
  {
   "cell_type": "markdown",
   "id": "3ce592a4",
   "metadata": {},
   "source": [
    "#### Coding Tast 2"
   ]
  },
  {
   "cell_type": "code",
   "execution_count": 48,
   "id": "8802ec5c",
   "metadata": {},
   "outputs": [],
   "source": [
    "sparkdf = spark.read.format('csv').option('header',True).option('inferSchema',True)\\\n",
    "                      .load('06_employee_information.csv')\n"
   ]
  },
  {
   "cell_type": "code",
   "execution_count": 49,
   "id": "35c43528",
   "metadata": {},
   "outputs": [
    {
     "name": "stdout",
     "output_type": "stream",
     "text": [
      "+----------+---------+--------+------------------+-----------+--------------------+\n",
      "|First Name|Last Name|  Salary|Years with Company|Postal Code|               Email|\n",
      "+----------+---------+--------+------------------+-----------+--------------------+\n",
      "|      Mike|      Moe|  5000.0|                 3|    N94 3M0|      bird@gmail.com|\n",
      "|      Noah|     Ryan| 10000.0|                 8|    N8S 14K|  nsmall@hotmail.com|\n",
      "|      Nina|   Keller| 9072.02|                17|    S1T 4E6|     azikez@gahew.mr|\n",
      "|   Chanel |    Steve|11072.02|                12|    N7T 3E6|    chanel@gmail.com|\n",
      "|      Kate|     Noor|  5000.0|                23|    K8N 5H6|    kate@hotmail.com|\n",
      "|     Samer|       Mo|100000.0|                13|    J7H 3HY|     samer@gmail.com|\n",
      "|      Heba|    Steve| 50000.0|                 7|    K8Y 3M8|heba.ismail@hotma...|\n",
      "|     Laila|      Aly| 20000.0|                 5|    J8Y 3M0| Laila.a@hotmail.com|\n",
      "|    Joseph|   Patton| 2629.13|                 2|    M6U 5U7|      daafeja@boh.jm|\n",
      "|      Noah|    Moran| 8626.96|                11|    K2D 4M9|   guutodi@bigwoc.kw|\n",
      "+----------+---------+--------+------------------+-----------+--------------------+\n",
      "\n"
     ]
    }
   ],
   "source": [
    "sparkdf.show()"
   ]
  },
  {
   "cell_type": "code",
   "execution_count": 72,
   "id": "5a2e83bc",
   "metadata": {},
   "outputs": [
    {
     "data": {
      "text/plain": [
       "['First Name',\n",
       " 'Last Name',\n",
       " 'Salary',\n",
       " 'Years with Company',\n",
       " 'Postal Code',\n",
       " 'Email']"
      ]
     },
     "execution_count": 72,
     "metadata": {},
     "output_type": "execute_result"
    }
   ],
   "source": [
    "sparkdf.columns"
   ]
  },
  {
   "cell_type": "code",
   "execution_count": 65,
   "id": "3d18dbdc",
   "metadata": {},
   "outputs": [
    {
     "name": "stdout",
     "output_type": "stream",
     "text": [
      "+-------+----------+---------+------------------+------------------+-----------+-------------------+\n",
      "|summary|First Name|Last Name|            Salary|Years with Company|Postal Code|              Email|\n",
      "+-------+----------+---------+------------------+------------------+-----------+-------------------+\n",
      "|  count|        10|       10|                10|                10|         10|                 10|\n",
      "|   mean|      null|     null|         22140.013|              10.1|       null|               null|\n",
      "| stddev|      null|     null|30613.044025849886| 6.522610247779982|       null|               null|\n",
      "|    min|   Chanel |      Aly|           2629.13|                 2|    J7H 3HY|Laila.a@hotmail.com|\n",
      "|    max|     Samer|    Steve|          100000.0|                23|    S1T 4E6|    samer@gmail.com|\n",
      "+-------+----------+---------+------------------+------------------+-----------+-------------------+\n",
      "\n"
     ]
    }
   ],
   "source": [
    "sparkdf.describe().show()"
   ]
  },
  {
   "cell_type": "code",
   "execution_count": 102,
   "id": "5f43f5e6",
   "metadata": {},
   "outputs": [
    {
     "name": "stdout",
     "output_type": "stream",
     "text": [
      "+---------------------------------------+\n",
      "|avg(CAST(Years with Company AS DOUBLE))|\n",
      "+---------------------------------------+\n",
      "|                                   null|\n",
      "+---------------------------------------+\n",
      "\n"
     ]
    }
   ],
   "source": [
    "# Calculate Avg salary and years\n",
    "sparkdf.selectExpr(\"avg('Years with Company')\").show()"
   ]
  },
  {
   "cell_type": "code",
   "execution_count": 103,
   "id": "06ac3737",
   "metadata": {},
   "outputs": [
    {
     "name": "stdout",
     "output_type": "stream",
     "text": [
      "+----------+-----------------+\n",
      "|avg_salary|avg_years_company|\n",
      "+----------+-----------------+\n",
      "| 22140.013|             10.1|\n",
      "+----------+-----------------+\n",
      "\n"
     ]
    }
   ],
   "source": [
    "sparkdf.select(avg('salary').alias('avg_salary'),avg('Years with Company').alias('avg_years_company')).show()"
   ]
  },
  {
   "cell_type": "code",
   "execution_count": 105,
   "id": "6e7bad4c",
   "metadata": {},
   "outputs": [],
   "source": [
    "admiission_df = spark.read.format('csv').option('header',True).option('inferSchema',True)\\\n",
    "                      .load('06_university_admission.csv')"
   ]
  },
  {
   "cell_type": "code",
   "execution_count": 109,
   "id": "29a8e849",
   "metadata": {},
   "outputs": [
    {
     "data": {
      "text/plain": [
       "[Row(GRE_Score=337, TOEFL_Score=118, University_Rating=4, SOP=4.5, LOR=4.5, CGPA=9.65, Research=1, Chance_of_Admission=0.92),\n",
       " Row(GRE_Score=324, TOEFL_Score=107, University_Rating=4, SOP=4.0, LOR=4.5, CGPA=8.87, Research=1, Chance_of_Admission=0.76)]"
      ]
     },
     "execution_count": 109,
     "metadata": {},
     "output_type": "execute_result"
    }
   ],
   "source": [
    "admiission_df.head(2)"
   ]
  },
  {
   "cell_type": "code",
   "execution_count": 110,
   "id": "1f9a24f3",
   "metadata": {},
   "outputs": [
    {
     "data": {
      "text/plain": [
       "[Row(GRE_Score=312, TOEFL_Score=103, University_Rating=4, SOP=4.0, LOR=5.0, CGPA=8.43, Research=0, Chance_of_Admission=0.73),\n",
       " Row(GRE_Score=327, TOEFL_Score=113, University_Rating=4, SOP=4.5, LOR=4.5, CGPA=9.04, Research=0, Chance_of_Admission=0.84)]"
      ]
     },
     "execution_count": 110,
     "metadata": {},
     "output_type": "execute_result"
    }
   ],
   "source": [
    "admiission_df.tail(2)"
   ]
  },
  {
   "cell_type": "code",
   "execution_count": 117,
   "id": "b78d8aa8",
   "metadata": {},
   "outputs": [
    {
     "name": "stdout",
     "output_type": "stream",
     "text": [
      "Shape of the dataframe is 1000 8\n"
     ]
    }
   ],
   "source": [
    "print(f'Shape of the dataframe is {admiission_df.count()} {len(admiission_df.columns)}')"
   ]
  },
  {
   "cell_type": "code",
   "execution_count": 122,
   "id": "f4cf5415",
   "metadata": {},
   "outputs": [
    {
     "name": "stdout",
     "output_type": "stream",
     "text": [
      "+-------+-------+-------+-------+-------+-------+\n",
      "|avg_LOR|min_LOR|max_LOR|avg_SOP|min_SOP|max_SOP|\n",
      "+-------+-------+-------+-------+-------+-------+\n",
      "|  3.484|    1.0|    5.0|  3.374|    1.0|    5.0|\n",
      "+-------+-------+-------+-------+-------+-------+\n",
      "\n"
     ]
    }
   ],
   "source": [
    "admiission_df.select(avg('LOR').alias('avg_LOR'),min('LOR').alias('min_LOR'),max('LOR').alias('max_LOR'),\n",
    "                     avg('SOP').alias('avg_SOP'),min('SOP').alias('min_SOP'),max('SOP').alias('max_SOP')).show()"
   ]
  },
  {
   "cell_type": "code",
   "execution_count": null,
   "id": "9cc1bac3",
   "metadata": {},
   "outputs": [],
   "source": []
  },
  {
   "cell_type": "code",
   "execution_count": 62,
   "id": "74358ef2",
   "metadata": {},
   "outputs": [],
   "source": [
    "p_df = pd.read_csv('06_employee_information.csv')"
   ]
  },
  {
   "cell_type": "code",
   "execution_count": 63,
   "id": "480580f9",
   "metadata": {},
   "outputs": [
    {
     "data": {
      "text/html": [
       "<div>\n",
       "<style scoped>\n",
       "    .dataframe tbody tr th:only-of-type {\n",
       "        vertical-align: middle;\n",
       "    }\n",
       "\n",
       "    .dataframe tbody tr th {\n",
       "        vertical-align: top;\n",
       "    }\n",
       "\n",
       "    .dataframe thead th {\n",
       "        text-align: right;\n",
       "    }\n",
       "</style>\n",
       "<table border=\"1\" class=\"dataframe\">\n",
       "  <thead>\n",
       "    <tr style=\"text-align: right;\">\n",
       "      <th></th>\n",
       "      <th>First Name</th>\n",
       "      <th>Last Name</th>\n",
       "      <th>Salary</th>\n",
       "      <th>Years with Company</th>\n",
       "      <th>Postal Code</th>\n",
       "      <th>Email</th>\n",
       "    </tr>\n",
       "  </thead>\n",
       "  <tbody>\n",
       "    <tr>\n",
       "      <th>0</th>\n",
       "      <td>Mike</td>\n",
       "      <td>Moe</td>\n",
       "      <td>5000.00</td>\n",
       "      <td>3</td>\n",
       "      <td>N94 3M0</td>\n",
       "      <td>bird@gmail.com</td>\n",
       "    </tr>\n",
       "    <tr>\n",
       "      <th>1</th>\n",
       "      <td>Noah</td>\n",
       "      <td>Ryan</td>\n",
       "      <td>10000.00</td>\n",
       "      <td>8</td>\n",
       "      <td>N8S 14K</td>\n",
       "      <td>nsmall@hotmail.com</td>\n",
       "    </tr>\n",
       "    <tr>\n",
       "      <th>2</th>\n",
       "      <td>Nina</td>\n",
       "      <td>Keller</td>\n",
       "      <td>9072.02</td>\n",
       "      <td>17</td>\n",
       "      <td>S1T 4E6</td>\n",
       "      <td>azikez@gahew.mr</td>\n",
       "    </tr>\n",
       "    <tr>\n",
       "      <th>3</th>\n",
       "      <td>Chanel</td>\n",
       "      <td>Steve</td>\n",
       "      <td>11072.02</td>\n",
       "      <td>12</td>\n",
       "      <td>N7T 3E6</td>\n",
       "      <td>chanel@gmail.com</td>\n",
       "    </tr>\n",
       "    <tr>\n",
       "      <th>4</th>\n",
       "      <td>Kate</td>\n",
       "      <td>Noor</td>\n",
       "      <td>5000.00</td>\n",
       "      <td>23</td>\n",
       "      <td>K8N 5H6</td>\n",
       "      <td>kate@hotmail.com</td>\n",
       "    </tr>\n",
       "    <tr>\n",
       "      <th>5</th>\n",
       "      <td>Samer</td>\n",
       "      <td>Mo</td>\n",
       "      <td>100000.00</td>\n",
       "      <td>13</td>\n",
       "      <td>J7H 3HY</td>\n",
       "      <td>samer@gmail.com</td>\n",
       "    </tr>\n",
       "    <tr>\n",
       "      <th>6</th>\n",
       "      <td>Heba</td>\n",
       "      <td>Steve</td>\n",
       "      <td>50000.00</td>\n",
       "      <td>7</td>\n",
       "      <td>K8Y 3M8</td>\n",
       "      <td>heba.ismail@hotmail.com</td>\n",
       "    </tr>\n",
       "    <tr>\n",
       "      <th>7</th>\n",
       "      <td>Laila</td>\n",
       "      <td>Aly</td>\n",
       "      <td>20000.00</td>\n",
       "      <td>5</td>\n",
       "      <td>J8Y 3M0</td>\n",
       "      <td>Laila.a@hotmail.com</td>\n",
       "    </tr>\n",
       "    <tr>\n",
       "      <th>8</th>\n",
       "      <td>Joseph</td>\n",
       "      <td>Patton</td>\n",
       "      <td>2629.13</td>\n",
       "      <td>2</td>\n",
       "      <td>M6U 5U7</td>\n",
       "      <td>daafeja@boh.jm</td>\n",
       "    </tr>\n",
       "    <tr>\n",
       "      <th>9</th>\n",
       "      <td>Noah</td>\n",
       "      <td>Moran</td>\n",
       "      <td>8626.96</td>\n",
       "      <td>11</td>\n",
       "      <td>K2D 4M9</td>\n",
       "      <td>guutodi@bigwoc.kw</td>\n",
       "    </tr>\n",
       "  </tbody>\n",
       "</table>\n",
       "</div>"
      ],
      "text/plain": [
       "  First Name Last Name     Salary  Years with Company Postal Code  \\\n",
       "0       Mike       Moe    5000.00                   3     N94 3M0   \n",
       "1       Noah      Ryan   10000.00                   8     N8S 14K   \n",
       "2       Nina    Keller    9072.02                  17     S1T 4E6   \n",
       "3    Chanel      Steve   11072.02                  12     N7T 3E6   \n",
       "4       Kate      Noor    5000.00                  23     K8N 5H6   \n",
       "5      Samer        Mo  100000.00                  13     J7H 3HY   \n",
       "6       Heba     Steve   50000.00                   7     K8Y 3M8   \n",
       "7      Laila       Aly   20000.00                   5     J8Y 3M0   \n",
       "8     Joseph    Patton    2629.13                   2     M6U 5U7   \n",
       "9       Noah     Moran    8626.96                  11     K2D 4M9   \n",
       "\n",
       "                     Email  \n",
       "0           bird@gmail.com  \n",
       "1       nsmall@hotmail.com  \n",
       "2          azikez@gahew.mr  \n",
       "3         chanel@gmail.com  \n",
       "4         kate@hotmail.com  \n",
       "5          samer@gmail.com  \n",
       "6  heba.ismail@hotmail.com  \n",
       "7      Laila.a@hotmail.com  \n",
       "8           daafeja@boh.jm  \n",
       "9        guutodi@bigwoc.kw  "
      ]
     },
     "execution_count": 63,
     "metadata": {},
     "output_type": "execute_result"
    }
   ],
   "source": [
    "p_df"
   ]
  },
  {
   "cell_type": "code",
   "execution_count": 64,
   "id": "6c5a9c4f",
   "metadata": {},
   "outputs": [
    {
     "data": {
      "text/html": [
       "<div>\n",
       "<style scoped>\n",
       "    .dataframe tbody tr th:only-of-type {\n",
       "        vertical-align: middle;\n",
       "    }\n",
       "\n",
       "    .dataframe tbody tr th {\n",
       "        vertical-align: top;\n",
       "    }\n",
       "\n",
       "    .dataframe thead th {\n",
       "        text-align: right;\n",
       "    }\n",
       "</style>\n",
       "<table border=\"1\" class=\"dataframe\">\n",
       "  <thead>\n",
       "    <tr style=\"text-align: right;\">\n",
       "      <th></th>\n",
       "      <th>Salary</th>\n",
       "      <th>Years with Company</th>\n",
       "    </tr>\n",
       "  </thead>\n",
       "  <tbody>\n",
       "    <tr>\n",
       "      <th>count</th>\n",
       "      <td>10.000000</td>\n",
       "      <td>10.00000</td>\n",
       "    </tr>\n",
       "    <tr>\n",
       "      <th>mean</th>\n",
       "      <td>22140.013000</td>\n",
       "      <td>10.10000</td>\n",
       "    </tr>\n",
       "    <tr>\n",
       "      <th>std</th>\n",
       "      <td>30613.044026</td>\n",
       "      <td>6.52261</td>\n",
       "    </tr>\n",
       "    <tr>\n",
       "      <th>min</th>\n",
       "      <td>2629.130000</td>\n",
       "      <td>2.00000</td>\n",
       "    </tr>\n",
       "    <tr>\n",
       "      <th>25%</th>\n",
       "      <td>5906.740000</td>\n",
       "      <td>5.50000</td>\n",
       "    </tr>\n",
       "    <tr>\n",
       "      <th>50%</th>\n",
       "      <td>9536.010000</td>\n",
       "      <td>9.50000</td>\n",
       "    </tr>\n",
       "    <tr>\n",
       "      <th>75%</th>\n",
       "      <td>17768.005000</td>\n",
       "      <td>12.75000</td>\n",
       "    </tr>\n",
       "    <tr>\n",
       "      <th>max</th>\n",
       "      <td>100000.000000</td>\n",
       "      <td>23.00000</td>\n",
       "    </tr>\n",
       "  </tbody>\n",
       "</table>\n",
       "</div>"
      ],
      "text/plain": [
       "              Salary  Years with Company\n",
       "count      10.000000            10.00000\n",
       "mean    22140.013000            10.10000\n",
       "std     30613.044026             6.52261\n",
       "min      2629.130000             2.00000\n",
       "25%      5906.740000             5.50000\n",
       "50%      9536.010000             9.50000\n",
       "75%     17768.005000            12.75000\n",
       "max    100000.000000            23.00000"
      ]
     },
     "execution_count": 64,
     "metadata": {},
     "output_type": "execute_result"
    }
   ],
   "source": [
    "p_df.describe()"
   ]
  },
  {
   "cell_type": "code",
   "execution_count": 123,
   "id": "398fe666",
   "metadata": {},
   "outputs": [],
   "source": [
    "admissiondf = pd.read_csv('06_university_admission.csv')"
   ]
  },
  {
   "cell_type": "code",
   "execution_count": 127,
   "id": "c7435fe1",
   "metadata": {},
   "outputs": [],
   "source": [
    "admissiondf.set_index('GRE_Score',inplace = True)"
   ]
  },
  {
   "cell_type": "code",
   "execution_count": 128,
   "id": "7ac831d6",
   "metadata": {},
   "outputs": [
    {
     "data": {
      "text/html": [
       "<div>\n",
       "<style scoped>\n",
       "    .dataframe tbody tr th:only-of-type {\n",
       "        vertical-align: middle;\n",
       "    }\n",
       "\n",
       "    .dataframe tbody tr th {\n",
       "        vertical-align: top;\n",
       "    }\n",
       "\n",
       "    .dataframe thead th {\n",
       "        text-align: right;\n",
       "    }\n",
       "</style>\n",
       "<table border=\"1\" class=\"dataframe\">\n",
       "  <thead>\n",
       "    <tr style=\"text-align: right;\">\n",
       "      <th></th>\n",
       "      <th>TOEFL_Score</th>\n",
       "      <th>University_Rating</th>\n",
       "      <th>SOP</th>\n",
       "      <th>LOR</th>\n",
       "      <th>CGPA</th>\n",
       "      <th>Research</th>\n",
       "      <th>Chance_of_Admission</th>\n",
       "    </tr>\n",
       "    <tr>\n",
       "      <th>GRE_Score</th>\n",
       "      <th></th>\n",
       "      <th></th>\n",
       "      <th></th>\n",
       "      <th></th>\n",
       "      <th></th>\n",
       "      <th></th>\n",
       "      <th></th>\n",
       "    </tr>\n",
       "  </thead>\n",
       "  <tbody>\n",
       "    <tr>\n",
       "      <th>337</th>\n",
       "      <td>118</td>\n",
       "      <td>4</td>\n",
       "      <td>4.5</td>\n",
       "      <td>4.5</td>\n",
       "      <td>9.65</td>\n",
       "      <td>1</td>\n",
       "      <td>0.92</td>\n",
       "    </tr>\n",
       "    <tr>\n",
       "      <th>324</th>\n",
       "      <td>107</td>\n",
       "      <td>4</td>\n",
       "      <td>4.0</td>\n",
       "      <td>4.5</td>\n",
       "      <td>8.87</td>\n",
       "      <td>1</td>\n",
       "      <td>0.76</td>\n",
       "    </tr>\n",
       "    <tr>\n",
       "      <th>316</th>\n",
       "      <td>104</td>\n",
       "      <td>3</td>\n",
       "      <td>3.0</td>\n",
       "      <td>3.5</td>\n",
       "      <td>8.00</td>\n",
       "      <td>1</td>\n",
       "      <td>0.72</td>\n",
       "    </tr>\n",
       "    <tr>\n",
       "      <th>322</th>\n",
       "      <td>110</td>\n",
       "      <td>3</td>\n",
       "      <td>3.5</td>\n",
       "      <td>2.5</td>\n",
       "      <td>8.67</td>\n",
       "      <td>1</td>\n",
       "      <td>0.80</td>\n",
       "    </tr>\n",
       "    <tr>\n",
       "      <th>314</th>\n",
       "      <td>103</td>\n",
       "      <td>2</td>\n",
       "      <td>2.0</td>\n",
       "      <td>3.0</td>\n",
       "      <td>8.21</td>\n",
       "      <td>0</td>\n",
       "      <td>0.65</td>\n",
       "    </tr>\n",
       "    <tr>\n",
       "      <th>...</th>\n",
       "      <td>...</td>\n",
       "      <td>...</td>\n",
       "      <td>...</td>\n",
       "      <td>...</td>\n",
       "      <td>...</td>\n",
       "      <td>...</td>\n",
       "      <td>...</td>\n",
       "    </tr>\n",
       "    <tr>\n",
       "      <th>332</th>\n",
       "      <td>108</td>\n",
       "      <td>5</td>\n",
       "      <td>4.5</td>\n",
       "      <td>4.0</td>\n",
       "      <td>9.02</td>\n",
       "      <td>1</td>\n",
       "      <td>0.87</td>\n",
       "    </tr>\n",
       "    <tr>\n",
       "      <th>337</th>\n",
       "      <td>117</td>\n",
       "      <td>5</td>\n",
       "      <td>5.0</td>\n",
       "      <td>5.0</td>\n",
       "      <td>9.87</td>\n",
       "      <td>1</td>\n",
       "      <td>0.96</td>\n",
       "    </tr>\n",
       "    <tr>\n",
       "      <th>330</th>\n",
       "      <td>120</td>\n",
       "      <td>5</td>\n",
       "      <td>4.5</td>\n",
       "      <td>5.0</td>\n",
       "      <td>9.56</td>\n",
       "      <td>1</td>\n",
       "      <td>0.93</td>\n",
       "    </tr>\n",
       "    <tr>\n",
       "      <th>312</th>\n",
       "      <td>103</td>\n",
       "      <td>4</td>\n",
       "      <td>4.0</td>\n",
       "      <td>5.0</td>\n",
       "      <td>8.43</td>\n",
       "      <td>0</td>\n",
       "      <td>0.73</td>\n",
       "    </tr>\n",
       "    <tr>\n",
       "      <th>327</th>\n",
       "      <td>113</td>\n",
       "      <td>4</td>\n",
       "      <td>4.5</td>\n",
       "      <td>4.5</td>\n",
       "      <td>9.04</td>\n",
       "      <td>0</td>\n",
       "      <td>0.84</td>\n",
       "    </tr>\n",
       "  </tbody>\n",
       "</table>\n",
       "<p>1000 rows × 7 columns</p>\n",
       "</div>"
      ],
      "text/plain": [
       "           TOEFL_Score  University_Rating  SOP  LOR  CGPA  Research  \\\n",
       "GRE_Score                                                             \n",
       "337                118                  4  4.5  4.5  9.65         1   \n",
       "324                107                  4  4.0  4.5  8.87         1   \n",
       "316                104                  3  3.0  3.5  8.00         1   \n",
       "322                110                  3  3.5  2.5  8.67         1   \n",
       "314                103                  2  2.0  3.0  8.21         0   \n",
       "...                ...                ...  ...  ...   ...       ...   \n",
       "332                108                  5  4.5  4.0  9.02         1   \n",
       "337                117                  5  5.0  5.0  9.87         1   \n",
       "330                120                  5  4.5  5.0  9.56         1   \n",
       "312                103                  4  4.0  5.0  8.43         0   \n",
       "327                113                  4  4.5  4.5  9.04         0   \n",
       "\n",
       "           Chance_of_Admission  \n",
       "GRE_Score                       \n",
       "337                       0.92  \n",
       "324                       0.76  \n",
       "316                       0.72  \n",
       "322                       0.80  \n",
       "314                       0.65  \n",
       "...                        ...  \n",
       "332                       0.87  \n",
       "337                       0.96  \n",
       "330                       0.93  \n",
       "312                       0.73  \n",
       "327                       0.84  \n",
       "\n",
       "[1000 rows x 7 columns]"
      ]
     },
     "execution_count": 128,
     "metadata": {},
     "output_type": "execute_result"
    }
   ],
   "source": [
    "admissiondf"
   ]
  },
  {
   "cell_type": "markdown",
   "id": "42729457",
   "metadata": {},
   "source": [
    "### Day 7"
   ]
  },
  {
   "cell_type": "code",
   "execution_count": 5,
   "id": "a7f47876",
   "metadata": {},
   "outputs": [],
   "source": [
    "employee_df = spark.read.format('csv').option('header',True).option('inferSchema',True)\\\n",
    "                      .load('07_employee_information.csv')"
   ]
  },
  {
   "cell_type": "code",
   "execution_count": 11,
   "id": "3346748f",
   "metadata": {},
   "outputs": [
    {
     "name": "stdout",
     "output_type": "stream",
     "text": [
      "+-------+----------+---------+------------------+------------------+-----------+-------------------+\n",
      "|summary|First Name|Last Name|            Salary|Years with Company|Postal Code|              Email|\n",
      "+-------+----------+---------+------------------+------------------+-----------+-------------------+\n",
      "|  count|        10|       10|                10|                10|         10|                 10|\n",
      "|   mean|      null|     null|         22140.013|              10.1|       null|               null|\n",
      "| stddev|      null|     null|30613.044025849886| 6.522610247779982|       null|               null|\n",
      "|    min|   Chanel |      Aly|           2629.13|                 2|    J7H 3HY|Laila.a@hotmail.com|\n",
      "|    max|     Samer|    Steve|          100000.0|                23|    S1T 4E6|    samer@gmail.com|\n",
      "+-------+----------+---------+------------------+------------------+-----------+-------------------+\n",
      "\n"
     ]
    }
   ],
   "source": [
    "employee_df.describe().show()"
   ]
  },
  {
   "cell_type": "code",
   "execution_count": 25,
   "id": "7e0d5179",
   "metadata": {},
   "outputs": [],
   "source": [
    "# what is the name of the employeer who is loyalto the compaly\n",
    "emp_df = employee_df.withColumnRenamed('First Name','FirstName')\\\n",
    "           .withColumnRenamed('Years with Company','YearsCompany')"
   ]
  },
  {
   "cell_type": "code",
   "execution_count": 32,
   "id": "32d25a66",
   "metadata": {},
   "outputs": [
    {
     "name": "stdout",
     "output_type": "stream",
     "text": [
      "+---------+\n",
      "|FirstName|\n",
      "+---------+\n",
      "|     Kate|\n",
      "+---------+\n",
      "\n"
     ]
    }
   ],
   "source": [
    "emp_df.createOrReplaceTempView('employeedf')\n",
    "\n",
    "spark.sql('''\n",
    "          select FirstName from employeedf where YearsCompany in (\n",
    "          select max(YearsCompany) as minexp from employeedf )\n",
    "\n",
    "         ''').show()"
   ]
  },
  {
   "cell_type": "code",
   "execution_count": null,
   "id": "23164ba5",
   "metadata": {},
   "outputs": [],
   "source": []
  },
  {
   "cell_type": "code",
   "execution_count": null,
   "id": "8b9a2b03",
   "metadata": {},
   "outputs": [],
   "source": []
  },
  {
   "cell_type": "code",
   "execution_count": 12,
   "id": "11964b31",
   "metadata": {},
   "outputs": [],
   "source": [
    "employeedf = pd.read_csv('07_employee_information.csv')"
   ]
  },
  {
   "cell_type": "code",
   "execution_count": 13,
   "id": "59578f37",
   "metadata": {},
   "outputs": [
    {
     "data": {
      "text/html": [
       "<div>\n",
       "<style scoped>\n",
       "    .dataframe tbody tr th:only-of-type {\n",
       "        vertical-align: middle;\n",
       "    }\n",
       "\n",
       "    .dataframe tbody tr th {\n",
       "        vertical-align: top;\n",
       "    }\n",
       "\n",
       "    .dataframe thead th {\n",
       "        text-align: right;\n",
       "    }\n",
       "</style>\n",
       "<table border=\"1\" class=\"dataframe\">\n",
       "  <thead>\n",
       "    <tr style=\"text-align: right;\">\n",
       "      <th></th>\n",
       "      <th>Salary</th>\n",
       "      <th>Years with Company</th>\n",
       "    </tr>\n",
       "  </thead>\n",
       "  <tbody>\n",
       "    <tr>\n",
       "      <th>count</th>\n",
       "      <td>10.000000</td>\n",
       "      <td>10.00000</td>\n",
       "    </tr>\n",
       "    <tr>\n",
       "      <th>mean</th>\n",
       "      <td>22140.013000</td>\n",
       "      <td>10.10000</td>\n",
       "    </tr>\n",
       "    <tr>\n",
       "      <th>std</th>\n",
       "      <td>30613.044026</td>\n",
       "      <td>6.52261</td>\n",
       "    </tr>\n",
       "    <tr>\n",
       "      <th>min</th>\n",
       "      <td>2629.130000</td>\n",
       "      <td>2.00000</td>\n",
       "    </tr>\n",
       "    <tr>\n",
       "      <th>25%</th>\n",
       "      <td>5906.740000</td>\n",
       "      <td>5.50000</td>\n",
       "    </tr>\n",
       "    <tr>\n",
       "      <th>50%</th>\n",
       "      <td>9536.010000</td>\n",
       "      <td>9.50000</td>\n",
       "    </tr>\n",
       "    <tr>\n",
       "      <th>75%</th>\n",
       "      <td>17768.005000</td>\n",
       "      <td>12.75000</td>\n",
       "    </tr>\n",
       "    <tr>\n",
       "      <th>max</th>\n",
       "      <td>100000.000000</td>\n",
       "      <td>23.00000</td>\n",
       "    </tr>\n",
       "  </tbody>\n",
       "</table>\n",
       "</div>"
      ],
      "text/plain": [
       "              Salary  Years with Company\n",
       "count      10.000000            10.00000\n",
       "mean    22140.013000            10.10000\n",
       "std     30613.044026             6.52261\n",
       "min      2629.130000             2.00000\n",
       "25%      5906.740000             5.50000\n",
       "50%      9536.010000             9.50000\n",
       "75%     17768.005000            12.75000\n",
       "max    100000.000000            23.00000"
      ]
     },
     "execution_count": 13,
     "metadata": {},
     "output_type": "execute_result"
    }
   ],
   "source": [
    "employeedf.describe()"
   ]
  },
  {
   "cell_type": "code",
   "execution_count": 33,
   "id": "7643672d",
   "metadata": {},
   "outputs": [
    {
     "data": {
      "text/html": [
       "<div>\n",
       "<style scoped>\n",
       "    .dataframe tbody tr th:only-of-type {\n",
       "        vertical-align: middle;\n",
       "    }\n",
       "\n",
       "    .dataframe tbody tr th {\n",
       "        vertical-align: top;\n",
       "    }\n",
       "\n",
       "    .dataframe thead th {\n",
       "        text-align: right;\n",
       "    }\n",
       "</style>\n",
       "<table border=\"1\" class=\"dataframe\">\n",
       "  <thead>\n",
       "    <tr style=\"text-align: right;\">\n",
       "      <th></th>\n",
       "      <th>First Name</th>\n",
       "      <th>Last Name</th>\n",
       "      <th>Salary</th>\n",
       "      <th>Years with Company</th>\n",
       "      <th>Postal Code</th>\n",
       "      <th>Email</th>\n",
       "    </tr>\n",
       "  </thead>\n",
       "  <tbody>\n",
       "    <tr>\n",
       "      <th>0</th>\n",
       "      <td>Mike</td>\n",
       "      <td>Moe</td>\n",
       "      <td>5000.00</td>\n",
       "      <td>3</td>\n",
       "      <td>N94 3M0</td>\n",
       "      <td>bird@gmail.com</td>\n",
       "    </tr>\n",
       "    <tr>\n",
       "      <th>1</th>\n",
       "      <td>Noah</td>\n",
       "      <td>Ryan</td>\n",
       "      <td>10000.00</td>\n",
       "      <td>8</td>\n",
       "      <td>N8S 14K</td>\n",
       "      <td>nsmall@hotmail.com</td>\n",
       "    </tr>\n",
       "    <tr>\n",
       "      <th>2</th>\n",
       "      <td>Nina</td>\n",
       "      <td>Keller</td>\n",
       "      <td>9072.02</td>\n",
       "      <td>17</td>\n",
       "      <td>S1T 4E6</td>\n",
       "      <td>azikez@gahew.mr</td>\n",
       "    </tr>\n",
       "    <tr>\n",
       "      <th>3</th>\n",
       "      <td>Chanel</td>\n",
       "      <td>Steve</td>\n",
       "      <td>11072.02</td>\n",
       "      <td>12</td>\n",
       "      <td>N7T 3E6</td>\n",
       "      <td>chanel@gmail.com</td>\n",
       "    </tr>\n",
       "    <tr>\n",
       "      <th>4</th>\n",
       "      <td>Kate</td>\n",
       "      <td>Noor</td>\n",
       "      <td>5000.00</td>\n",
       "      <td>23</td>\n",
       "      <td>K8N 5H6</td>\n",
       "      <td>kate@hotmail.com</td>\n",
       "    </tr>\n",
       "    <tr>\n",
       "      <th>5</th>\n",
       "      <td>Samer</td>\n",
       "      <td>Mo</td>\n",
       "      <td>100000.00</td>\n",
       "      <td>13</td>\n",
       "      <td>J7H 3HY</td>\n",
       "      <td>samer@gmail.com</td>\n",
       "    </tr>\n",
       "    <tr>\n",
       "      <th>6</th>\n",
       "      <td>Heba</td>\n",
       "      <td>Steve</td>\n",
       "      <td>50000.00</td>\n",
       "      <td>7</td>\n",
       "      <td>K8Y 3M8</td>\n",
       "      <td>heba.ismail@hotmail.com</td>\n",
       "    </tr>\n",
       "    <tr>\n",
       "      <th>7</th>\n",
       "      <td>Laila</td>\n",
       "      <td>Aly</td>\n",
       "      <td>20000.00</td>\n",
       "      <td>5</td>\n",
       "      <td>J8Y 3M0</td>\n",
       "      <td>Laila.a@hotmail.com</td>\n",
       "    </tr>\n",
       "    <tr>\n",
       "      <th>8</th>\n",
       "      <td>Joseph</td>\n",
       "      <td>Patton</td>\n",
       "      <td>2629.13</td>\n",
       "      <td>2</td>\n",
       "      <td>M6U 5U7</td>\n",
       "      <td>daafeja@boh.jm</td>\n",
       "    </tr>\n",
       "    <tr>\n",
       "      <th>9</th>\n",
       "      <td>Noah</td>\n",
       "      <td>Moran</td>\n",
       "      <td>8626.96</td>\n",
       "      <td>11</td>\n",
       "      <td>K2D 4M9</td>\n",
       "      <td>guutodi@bigwoc.kw</td>\n",
       "    </tr>\n",
       "  </tbody>\n",
       "</table>\n",
       "</div>"
      ],
      "text/plain": [
       "  First Name Last Name     Salary  Years with Company Postal Code  \\\n",
       "0       Mike       Moe    5000.00                   3     N94 3M0   \n",
       "1       Noah      Ryan   10000.00                   8     N8S 14K   \n",
       "2       Nina    Keller    9072.02                  17     S1T 4E6   \n",
       "3    Chanel      Steve   11072.02                  12     N7T 3E6   \n",
       "4       Kate      Noor    5000.00                  23     K8N 5H6   \n",
       "5      Samer        Mo  100000.00                  13     J7H 3HY   \n",
       "6       Heba     Steve   50000.00                   7     K8Y 3M8   \n",
       "7      Laila       Aly   20000.00                   5     J8Y 3M0   \n",
       "8     Joseph    Patton    2629.13                   2     M6U 5U7   \n",
       "9       Noah     Moran    8626.96                  11     K2D 4M9   \n",
       "\n",
       "                     Email  \n",
       "0           bird@gmail.com  \n",
       "1       nsmall@hotmail.com  \n",
       "2          azikez@gahew.mr  \n",
       "3         chanel@gmail.com  \n",
       "4         kate@hotmail.com  \n",
       "5          samer@gmail.com  \n",
       "6  heba.ismail@hotmail.com  \n",
       "7      Laila.a@hotmail.com  \n",
       "8           daafeja@boh.jm  \n",
       "9        guutodi@bigwoc.kw  "
      ]
     },
     "execution_count": 33,
     "metadata": {},
     "output_type": "execute_result"
    }
   ],
   "source": [
    "employeedf"
   ]
  },
  {
   "cell_type": "code",
   "execution_count": 40,
   "id": "7c6b287d",
   "metadata": {},
   "outputs": [
    {
     "data": {
      "text/html": [
       "<div>\n",
       "<style scoped>\n",
       "    .dataframe tbody tr th:only-of-type {\n",
       "        vertical-align: middle;\n",
       "    }\n",
       "\n",
       "    .dataframe tbody tr th {\n",
       "        vertical-align: top;\n",
       "    }\n",
       "\n",
       "    .dataframe thead th {\n",
       "        text-align: right;\n",
       "    }\n",
       "</style>\n",
       "<table border=\"1\" class=\"dataframe\">\n",
       "  <thead>\n",
       "    <tr style=\"text-align: right;\">\n",
       "      <th></th>\n",
       "      <th>First Name</th>\n",
       "      <th>Last Name</th>\n",
       "      <th>Salary</th>\n",
       "      <th>Years with Company</th>\n",
       "      <th>Postal Code</th>\n",
       "    </tr>\n",
       "  </thead>\n",
       "  <tbody>\n",
       "    <tr>\n",
       "      <th>0</th>\n",
       "      <td>Mike</td>\n",
       "      <td>Moe</td>\n",
       "      <td>5000.00</td>\n",
       "      <td>3</td>\n",
       "      <td>N94 3M0</td>\n",
       "    </tr>\n",
       "    <tr>\n",
       "      <th>1</th>\n",
       "      <td>Noah</td>\n",
       "      <td>Ryan</td>\n",
       "      <td>10000.00</td>\n",
       "      <td>8</td>\n",
       "      <td>N8S 14K</td>\n",
       "    </tr>\n",
       "    <tr>\n",
       "      <th>2</th>\n",
       "      <td>Nina</td>\n",
       "      <td>Keller</td>\n",
       "      <td>9072.02</td>\n",
       "      <td>17</td>\n",
       "      <td>S1T 4E6</td>\n",
       "    </tr>\n",
       "  </tbody>\n",
       "</table>\n",
       "</div>"
      ],
      "text/plain": [
       "  First Name Last Name    Salary  Years with Company Postal Code\n",
       "0       Mike       Moe   5000.00                   3     N94 3M0\n",
       "1       Noah      Ryan  10000.00                   8     N8S 14K\n",
       "2       Nina    Keller   9072.02                  17     S1T 4E6"
      ]
     },
     "execution_count": 40,
     "metadata": {},
     "output_type": "execute_result"
    }
   ],
   "source": [
    "employeedf[['First Name','Last Name','Salary','Years with Company','Postal Code']][0:3]"
   ]
  },
  {
   "cell_type": "code",
   "execution_count": 38,
   "id": "9150ec83",
   "metadata": {},
   "outputs": [
    {
     "data": {
      "text/html": [
       "<div>\n",
       "<style scoped>\n",
       "    .dataframe tbody tr th:only-of-type {\n",
       "        vertical-align: middle;\n",
       "    }\n",
       "\n",
       "    .dataframe tbody tr th {\n",
       "        vertical-align: top;\n",
       "    }\n",
       "\n",
       "    .dataframe thead th {\n",
       "        text-align: right;\n",
       "    }\n",
       "</style>\n",
       "<table border=\"1\" class=\"dataframe\">\n",
       "  <thead>\n",
       "    <tr style=\"text-align: right;\">\n",
       "      <th></th>\n",
       "      <th>First Name</th>\n",
       "      <th>Last Name</th>\n",
       "      <th>Salary</th>\n",
       "      <th>Years with Company</th>\n",
       "      <th>Postal Code</th>\n",
       "      <th>Email</th>\n",
       "    </tr>\n",
       "  </thead>\n",
       "  <tbody>\n",
       "    <tr>\n",
       "      <th>0</th>\n",
       "      <td>Mike</td>\n",
       "      <td>Moe</td>\n",
       "      <td>5000.0</td>\n",
       "      <td>3</td>\n",
       "      <td>N94 3M0</td>\n",
       "      <td>bird@gmail.com</td>\n",
       "    </tr>\n",
       "    <tr>\n",
       "      <th>1</th>\n",
       "      <td>Noah</td>\n",
       "      <td>Ryan</td>\n",
       "      <td>10000.0</td>\n",
       "      <td>8</td>\n",
       "      <td>N8S 14K</td>\n",
       "      <td>nsmall@hotmail.com</td>\n",
       "    </tr>\n",
       "  </tbody>\n",
       "</table>\n",
       "</div>"
      ],
      "text/plain": [
       "  First Name Last Name   Salary  Years with Company Postal Code  \\\n",
       "0       Mike       Moe   5000.0                   3     N94 3M0   \n",
       "1       Noah      Ryan  10000.0                   8     N8S 14K   \n",
       "\n",
       "                Email  \n",
       "0      bird@gmail.com  \n",
       "1  nsmall@hotmail.com  "
      ]
     },
     "execution_count": 38,
     "metadata": {},
     "output_type": "execute_result"
    }
   ],
   "source": [
    "employeedf[0:2]"
   ]
  },
  {
   "cell_type": "code",
   "execution_count": 42,
   "id": "9acab033",
   "metadata": {},
   "outputs": [],
   "source": [
    "employeedf.insert(0,column = 'credit_score', value = [500,300,200,670,200,500,700,880,330,400])"
   ]
  },
  {
   "cell_type": "code",
   "execution_count": 43,
   "id": "b41d0821",
   "metadata": {},
   "outputs": [
    {
     "data": {
      "text/html": [
       "<div>\n",
       "<style scoped>\n",
       "    .dataframe tbody tr th:only-of-type {\n",
       "        vertical-align: middle;\n",
       "    }\n",
       "\n",
       "    .dataframe tbody tr th {\n",
       "        vertical-align: top;\n",
       "    }\n",
       "\n",
       "    .dataframe thead th {\n",
       "        text-align: right;\n",
       "    }\n",
       "</style>\n",
       "<table border=\"1\" class=\"dataframe\">\n",
       "  <thead>\n",
       "    <tr style=\"text-align: right;\">\n",
       "      <th></th>\n",
       "      <th>credit_score</th>\n",
       "      <th>First Name</th>\n",
       "      <th>Last Name</th>\n",
       "      <th>Salary</th>\n",
       "      <th>Years with Company</th>\n",
       "      <th>Postal Code</th>\n",
       "      <th>Email</th>\n",
       "    </tr>\n",
       "  </thead>\n",
       "  <tbody>\n",
       "    <tr>\n",
       "      <th>0</th>\n",
       "      <td>500</td>\n",
       "      <td>Mike</td>\n",
       "      <td>Moe</td>\n",
       "      <td>5000.0</td>\n",
       "      <td>3</td>\n",
       "      <td>N94 3M0</td>\n",
       "      <td>bird@gmail.com</td>\n",
       "    </tr>\n",
       "    <tr>\n",
       "      <th>1</th>\n",
       "      <td>300</td>\n",
       "      <td>Noah</td>\n",
       "      <td>Ryan</td>\n",
       "      <td>10000.0</td>\n",
       "      <td>8</td>\n",
       "      <td>N8S 14K</td>\n",
       "      <td>nsmall@hotmail.com</td>\n",
       "    </tr>\n",
       "  </tbody>\n",
       "</table>\n",
       "</div>"
      ],
      "text/plain": [
       "   credit_score First Name Last Name   Salary  Years with Company Postal Code  \\\n",
       "0           500       Mike       Moe   5000.0                   3     N94 3M0   \n",
       "1           300       Noah      Ryan  10000.0                   8     N8S 14K   \n",
       "\n",
       "                Email  \n",
       "0      bird@gmail.com  \n",
       "1  nsmall@hotmail.com  "
      ]
     },
     "execution_count": 43,
     "metadata": {},
     "output_type": "execute_result"
    }
   ],
   "source": [
    "employeedf[0:2]"
   ]
  },
  {
   "cell_type": "code",
   "execution_count": 46,
   "id": "83ae64d0",
   "metadata": {},
   "outputs": [],
   "source": [
    "employeedf.drop(labels = ['Years with Company','Email'],axis = 1,inplace = True)"
   ]
  },
  {
   "cell_type": "code",
   "execution_count": 47,
   "id": "45c7d591",
   "metadata": {},
   "outputs": [
    {
     "data": {
      "text/html": [
       "<div>\n",
       "<style scoped>\n",
       "    .dataframe tbody tr th:only-of-type {\n",
       "        vertical-align: middle;\n",
       "    }\n",
       "\n",
       "    .dataframe tbody tr th {\n",
       "        vertical-align: top;\n",
       "    }\n",
       "\n",
       "    .dataframe thead th {\n",
       "        text-align: right;\n",
       "    }\n",
       "</style>\n",
       "<table border=\"1\" class=\"dataframe\">\n",
       "  <thead>\n",
       "    <tr style=\"text-align: right;\">\n",
       "      <th></th>\n",
       "      <th>credit_score</th>\n",
       "      <th>First Name</th>\n",
       "      <th>Last Name</th>\n",
       "      <th>Salary</th>\n",
       "      <th>Postal Code</th>\n",
       "    </tr>\n",
       "  </thead>\n",
       "  <tbody>\n",
       "    <tr>\n",
       "      <th>0</th>\n",
       "      <td>500</td>\n",
       "      <td>Mike</td>\n",
       "      <td>Moe</td>\n",
       "      <td>5000.0</td>\n",
       "      <td>N94 3M0</td>\n",
       "    </tr>\n",
       "    <tr>\n",
       "      <th>1</th>\n",
       "      <td>300</td>\n",
       "      <td>Noah</td>\n",
       "      <td>Ryan</td>\n",
       "      <td>10000.0</td>\n",
       "      <td>N8S 14K</td>\n",
       "    </tr>\n",
       "  </tbody>\n",
       "</table>\n",
       "</div>"
      ],
      "text/plain": [
       "   credit_score First Name Last Name   Salary Postal Code\n",
       "0           500       Mike       Moe   5000.0     N94 3M0\n",
       "1           300       Noah      Ryan  10000.0     N8S 14K"
      ]
     },
     "execution_count": 47,
     "metadata": {},
     "output_type": "execute_result"
    }
   ],
   "source": [
    "employeedf[0:2]"
   ]
  },
  {
   "cell_type": "code",
   "execution_count": 49,
   "id": "7a467e93",
   "metadata": {},
   "outputs": [],
   "source": [
    "employeedf = pd.read_csv('07_employee_information.csv', index_col = 'Last Name')\n",
    "                         "
   ]
  },
  {
   "cell_type": "code",
   "execution_count": 50,
   "id": "5034e0ab",
   "metadata": {},
   "outputs": [
    {
     "data": {
      "text/html": [
       "<div>\n",
       "<style scoped>\n",
       "    .dataframe tbody tr th:only-of-type {\n",
       "        vertical-align: middle;\n",
       "    }\n",
       "\n",
       "    .dataframe tbody tr th {\n",
       "        vertical-align: top;\n",
       "    }\n",
       "\n",
       "    .dataframe thead th {\n",
       "        text-align: right;\n",
       "    }\n",
       "</style>\n",
       "<table border=\"1\" class=\"dataframe\">\n",
       "  <thead>\n",
       "    <tr style=\"text-align: right;\">\n",
       "      <th></th>\n",
       "      <th>First Name</th>\n",
       "      <th>Salary</th>\n",
       "      <th>Years with Company</th>\n",
       "      <th>Postal Code</th>\n",
       "      <th>Email</th>\n",
       "    </tr>\n",
       "    <tr>\n",
       "      <th>Last Name</th>\n",
       "      <th></th>\n",
       "      <th></th>\n",
       "      <th></th>\n",
       "      <th></th>\n",
       "      <th></th>\n",
       "    </tr>\n",
       "  </thead>\n",
       "  <tbody>\n",
       "    <tr>\n",
       "      <th>Moe</th>\n",
       "      <td>Mike</td>\n",
       "      <td>5000.00</td>\n",
       "      <td>3</td>\n",
       "      <td>N94 3M0</td>\n",
       "      <td>bird@gmail.com</td>\n",
       "    </tr>\n",
       "    <tr>\n",
       "      <th>Ryan</th>\n",
       "      <td>Noah</td>\n",
       "      <td>10000.00</td>\n",
       "      <td>8</td>\n",
       "      <td>N8S 14K</td>\n",
       "      <td>nsmall@hotmail.com</td>\n",
       "    </tr>\n",
       "    <tr>\n",
       "      <th>Keller</th>\n",
       "      <td>Nina</td>\n",
       "      <td>9072.02</td>\n",
       "      <td>17</td>\n",
       "      <td>S1T 4E6</td>\n",
       "      <td>azikez@gahew.mr</td>\n",
       "    </tr>\n",
       "  </tbody>\n",
       "</table>\n",
       "</div>"
      ],
      "text/plain": [
       "          First Name    Salary  Years with Company Postal Code  \\\n",
       "Last Name                                                        \n",
       "Moe             Mike   5000.00                   3     N94 3M0   \n",
       "Ryan            Noah  10000.00                   8     N8S 14K   \n",
       "Keller          Nina   9072.02                  17     S1T 4E6   \n",
       "\n",
       "                        Email  \n",
       "Last Name                      \n",
       "Moe            bird@gmail.com  \n",
       "Ryan       nsmall@hotmail.com  \n",
       "Keller        azikez@gahew.mr  "
      ]
     },
     "execution_count": 50,
     "metadata": {},
     "output_type": "execute_result"
    }
   ],
   "source": [
    "employeedf[0:3]"
   ]
  },
  {
   "cell_type": "code",
   "execution_count": 53,
   "id": "6eafd49e",
   "metadata": {},
   "outputs": [],
   "source": [
    "employeedf.sort_index(inplace = True)"
   ]
  },
  {
   "cell_type": "code",
   "execution_count": 54,
   "id": "3a39bec9",
   "metadata": {},
   "outputs": [
    {
     "data": {
      "text/html": [
       "<div>\n",
       "<style scoped>\n",
       "    .dataframe tbody tr th:only-of-type {\n",
       "        vertical-align: middle;\n",
       "    }\n",
       "\n",
       "    .dataframe tbody tr th {\n",
       "        vertical-align: top;\n",
       "    }\n",
       "\n",
       "    .dataframe thead th {\n",
       "        text-align: right;\n",
       "    }\n",
       "</style>\n",
       "<table border=\"1\" class=\"dataframe\">\n",
       "  <thead>\n",
       "    <tr style=\"text-align: right;\">\n",
       "      <th></th>\n",
       "      <th>First Name</th>\n",
       "      <th>Salary</th>\n",
       "      <th>Years with Company</th>\n",
       "      <th>Postal Code</th>\n",
       "      <th>Email</th>\n",
       "    </tr>\n",
       "    <tr>\n",
       "      <th>Last Name</th>\n",
       "      <th></th>\n",
       "      <th></th>\n",
       "      <th></th>\n",
       "      <th></th>\n",
       "      <th></th>\n",
       "    </tr>\n",
       "  </thead>\n",
       "  <tbody>\n",
       "    <tr>\n",
       "      <th>Aly</th>\n",
       "      <td>Laila</td>\n",
       "      <td>20000.00</td>\n",
       "      <td>5</td>\n",
       "      <td>J8Y 3M0</td>\n",
       "      <td>Laila.a@hotmail.com</td>\n",
       "    </tr>\n",
       "    <tr>\n",
       "      <th>Keller</th>\n",
       "      <td>Nina</td>\n",
       "      <td>9072.02</td>\n",
       "      <td>17</td>\n",
       "      <td>S1T 4E6</td>\n",
       "      <td>azikez@gahew.mr</td>\n",
       "    </tr>\n",
       "    <tr>\n",
       "      <th>Mo</th>\n",
       "      <td>Samer</td>\n",
       "      <td>100000.00</td>\n",
       "      <td>13</td>\n",
       "      <td>J7H 3HY</td>\n",
       "      <td>samer@gmail.com</td>\n",
       "    </tr>\n",
       "  </tbody>\n",
       "</table>\n",
       "</div>"
      ],
      "text/plain": [
       "          First Name     Salary  Years with Company Postal Code  \\\n",
       "Last Name                                                         \n",
       "Aly            Laila   20000.00                   5     J8Y 3M0   \n",
       "Keller          Nina    9072.02                  17     S1T 4E6   \n",
       "Mo             Samer  100000.00                  13     J7H 3HY   \n",
       "\n",
       "                         Email  \n",
       "Last Name                       \n",
       "Aly        Laila.a@hotmail.com  \n",
       "Keller         azikez@gahew.mr  \n",
       "Mo             samer@gmail.com  "
      ]
     },
     "execution_count": 54,
     "metadata": {},
     "output_type": "execute_result"
    }
   ],
   "source": [
    "employeedf[0:3]"
   ]
  },
  {
   "cell_type": "markdown",
   "id": "787633a6",
   "metadata": {},
   "source": [
    "### Label based element selection LOC"
   ]
  },
  {
   "cell_type": "code",
   "execution_count": 57,
   "id": "69a57e15",
   "metadata": {},
   "outputs": [
    {
     "data": {
      "text/plain": [
       "First Name                       Nina\n",
       "Salary                        9072.02\n",
       "Years with Company                 17\n",
       "Postal Code                   S1T 4E6\n",
       "Email                 azikez@gahew.mr\n",
       "Name: Keller, dtype: object"
      ]
     },
     "execution_count": 57,
     "metadata": {},
     "output_type": "execute_result"
    }
   ],
   "source": [
    "employeedf.loc['Keller']"
   ]
  },
  {
   "cell_type": "code",
   "execution_count": 58,
   "id": "7319677c",
   "metadata": {},
   "outputs": [
    {
     "data": {
      "text/html": [
       "<div>\n",
       "<style scoped>\n",
       "    .dataframe tbody tr th:only-of-type {\n",
       "        vertical-align: middle;\n",
       "    }\n",
       "\n",
       "    .dataframe tbody tr th {\n",
       "        vertical-align: top;\n",
       "    }\n",
       "\n",
       "    .dataframe thead th {\n",
       "        text-align: right;\n",
       "    }\n",
       "</style>\n",
       "<table border=\"1\" class=\"dataframe\">\n",
       "  <thead>\n",
       "    <tr style=\"text-align: right;\">\n",
       "      <th></th>\n",
       "      <th>First Name</th>\n",
       "      <th>Salary</th>\n",
       "      <th>Years with Company</th>\n",
       "      <th>Postal Code</th>\n",
       "      <th>Email</th>\n",
       "    </tr>\n",
       "    <tr>\n",
       "      <th>Last Name</th>\n",
       "      <th></th>\n",
       "      <th></th>\n",
       "      <th></th>\n",
       "      <th></th>\n",
       "      <th></th>\n",
       "    </tr>\n",
       "  </thead>\n",
       "  <tbody>\n",
       "    <tr>\n",
       "      <th>Aly</th>\n",
       "      <td>Laila</td>\n",
       "      <td>20000.00</td>\n",
       "      <td>5</td>\n",
       "      <td>J8Y 3M0</td>\n",
       "      <td>Laila.a@hotmail.com</td>\n",
       "    </tr>\n",
       "    <tr>\n",
       "      <th>Keller</th>\n",
       "      <td>Nina</td>\n",
       "      <td>9072.02</td>\n",
       "      <td>17</td>\n",
       "      <td>S1T 4E6</td>\n",
       "      <td>azikez@gahew.mr</td>\n",
       "    </tr>\n",
       "    <tr>\n",
       "      <th>Mo</th>\n",
       "      <td>Samer</td>\n",
       "      <td>100000.00</td>\n",
       "      <td>13</td>\n",
       "      <td>J7H 3HY</td>\n",
       "      <td>samer@gmail.com</td>\n",
       "    </tr>\n",
       "  </tbody>\n",
       "</table>\n",
       "</div>"
      ],
      "text/plain": [
       "          First Name     Salary  Years with Company Postal Code  \\\n",
       "Last Name                                                         \n",
       "Aly            Laila   20000.00                   5     J8Y 3M0   \n",
       "Keller          Nina    9072.02                  17     S1T 4E6   \n",
       "Mo             Samer  100000.00                  13     J7H 3HY   \n",
       "\n",
       "                         Email  \n",
       "Last Name                       \n",
       "Aly        Laila.a@hotmail.com  \n",
       "Keller         azikez@gahew.mr  \n",
       "Mo             samer@gmail.com  "
      ]
     },
     "execution_count": 58,
     "metadata": {},
     "output_type": "execute_result"
    }
   ],
   "source": [
    "employeedf.loc['Aly':'Mo']"
   ]
  },
  {
   "cell_type": "code",
   "execution_count": 59,
   "id": "91686a09",
   "metadata": {},
   "outputs": [
    {
     "data": {
      "text/html": [
       "<div>\n",
       "<style scoped>\n",
       "    .dataframe tbody tr th:only-of-type {\n",
       "        vertical-align: middle;\n",
       "    }\n",
       "\n",
       "    .dataframe tbody tr th {\n",
       "        vertical-align: top;\n",
       "    }\n",
       "\n",
       "    .dataframe thead th {\n",
       "        text-align: right;\n",
       "    }\n",
       "</style>\n",
       "<table border=\"1\" class=\"dataframe\">\n",
       "  <thead>\n",
       "    <tr style=\"text-align: right;\">\n",
       "      <th></th>\n",
       "      <th>First Name</th>\n",
       "      <th>Salary</th>\n",
       "      <th>Years with Company</th>\n",
       "      <th>Postal Code</th>\n",
       "      <th>Email</th>\n",
       "    </tr>\n",
       "    <tr>\n",
       "      <th>Last Name</th>\n",
       "      <th></th>\n",
       "      <th></th>\n",
       "      <th></th>\n",
       "      <th></th>\n",
       "      <th></th>\n",
       "    </tr>\n",
       "  </thead>\n",
       "  <tbody>\n",
       "    <tr>\n",
       "      <th>Aly</th>\n",
       "      <td>Laila</td>\n",
       "      <td>20000.0</td>\n",
       "      <td>5</td>\n",
       "      <td>J8Y 3M0</td>\n",
       "      <td>Laila.a@hotmail.com</td>\n",
       "    </tr>\n",
       "    <tr>\n",
       "      <th>Mo</th>\n",
       "      <td>Samer</td>\n",
       "      <td>100000.0</td>\n",
       "      <td>13</td>\n",
       "      <td>J7H 3HY</td>\n",
       "      <td>samer@gmail.com</td>\n",
       "    </tr>\n",
       "  </tbody>\n",
       "</table>\n",
       "</div>"
      ],
      "text/plain": [
       "          First Name    Salary  Years with Company Postal Code  \\\n",
       "Last Name                                                        \n",
       "Aly            Laila   20000.0                   5     J8Y 3M0   \n",
       "Mo             Samer  100000.0                  13     J7H 3HY   \n",
       "\n",
       "                         Email  \n",
       "Last Name                       \n",
       "Aly        Laila.a@hotmail.com  \n",
       "Mo             samer@gmail.com  "
      ]
     },
     "execution_count": 59,
     "metadata": {},
     "output_type": "execute_result"
    }
   ],
   "source": [
    "employeedf.loc[['Aly','Mo']]"
   ]
  },
  {
   "cell_type": "markdown",
   "id": "f611bf40",
   "metadata": {},
   "source": [
    "### Indeger - index based selection iLOC"
   ]
  },
  {
   "cell_type": "code",
   "execution_count": 60,
   "id": "cf11646e",
   "metadata": {},
   "outputs": [],
   "source": [
    "employeedf = pd.read_csv('07_employee_information.csv')\n"
   ]
  },
  {
   "cell_type": "code",
   "execution_count": 63,
   "id": "d47934d7",
   "metadata": {},
   "outputs": [
    {
     "data": {
      "text/plain": [
       "First Name                         Noah\n",
       "Last Name                         Moran\n",
       "Salary                          8626.96\n",
       "Years with Company                   11\n",
       "Postal Code                     K2D 4M9\n",
       "Email                 guutodi@bigwoc.kw\n",
       "Name: 9, dtype: object"
      ]
     },
     "execution_count": 63,
     "metadata": {},
     "output_type": "execute_result"
    }
   ],
   "source": [
    "employeedf.iloc[9]"
   ]
  },
  {
   "cell_type": "code",
   "execution_count": 64,
   "id": "162d4dea",
   "metadata": {},
   "outputs": [
    {
     "data": {
      "text/html": [
       "<div>\n",
       "<style scoped>\n",
       "    .dataframe tbody tr th:only-of-type {\n",
       "        vertical-align: middle;\n",
       "    }\n",
       "\n",
       "    .dataframe tbody tr th {\n",
       "        vertical-align: top;\n",
       "    }\n",
       "\n",
       "    .dataframe thead th {\n",
       "        text-align: right;\n",
       "    }\n",
       "</style>\n",
       "<table border=\"1\" class=\"dataframe\">\n",
       "  <thead>\n",
       "    <tr style=\"text-align: right;\">\n",
       "      <th></th>\n",
       "      <th>First Name</th>\n",
       "      <th>Last Name</th>\n",
       "      <th>Salary</th>\n",
       "      <th>Years with Company</th>\n",
       "      <th>Postal Code</th>\n",
       "      <th>Email</th>\n",
       "    </tr>\n",
       "  </thead>\n",
       "  <tbody>\n",
       "    <tr>\n",
       "      <th>1</th>\n",
       "      <td>Noah</td>\n",
       "      <td>Ryan</td>\n",
       "      <td>10000.00</td>\n",
       "      <td>8</td>\n",
       "      <td>N8S 14K</td>\n",
       "      <td>nsmall@hotmail.com</td>\n",
       "    </tr>\n",
       "    <tr>\n",
       "      <th>2</th>\n",
       "      <td>Nina</td>\n",
       "      <td>Keller</td>\n",
       "      <td>9072.02</td>\n",
       "      <td>17</td>\n",
       "      <td>S1T 4E6</td>\n",
       "      <td>azikez@gahew.mr</td>\n",
       "    </tr>\n",
       "  </tbody>\n",
       "</table>\n",
       "</div>"
      ],
      "text/plain": [
       "  First Name Last Name    Salary  Years with Company Postal Code  \\\n",
       "1       Noah      Ryan  10000.00                   8     N8S 14K   \n",
       "2       Nina    Keller   9072.02                  17     S1T 4E6   \n",
       "\n",
       "                Email  \n",
       "1  nsmall@hotmail.com  \n",
       "2     azikez@gahew.mr  "
      ]
     },
     "execution_count": 64,
     "metadata": {},
     "output_type": "execute_result"
    }
   ],
   "source": [
    "employeedf.iloc[1:3]"
   ]
  },
  {
   "cell_type": "code",
   "execution_count": 65,
   "id": "a711fd5f",
   "metadata": {},
   "outputs": [
    {
     "data": {
      "text/html": [
       "<div>\n",
       "<style scoped>\n",
       "    .dataframe tbody tr th:only-of-type {\n",
       "        vertical-align: middle;\n",
       "    }\n",
       "\n",
       "    .dataframe tbody tr th {\n",
       "        vertical-align: top;\n",
       "    }\n",
       "\n",
       "    .dataframe thead th {\n",
       "        text-align: right;\n",
       "    }\n",
       "</style>\n",
       "<table border=\"1\" class=\"dataframe\">\n",
       "  <thead>\n",
       "    <tr style=\"text-align: right;\">\n",
       "      <th></th>\n",
       "      <th>First Name</th>\n",
       "      <th>Last Name</th>\n",
       "      <th>Salary</th>\n",
       "      <th>Years with Company</th>\n",
       "      <th>Postal Code</th>\n",
       "      <th>Email</th>\n",
       "    </tr>\n",
       "  </thead>\n",
       "  <tbody>\n",
       "    <tr>\n",
       "      <th>0</th>\n",
       "      <td>Mike</td>\n",
       "      <td>Moe</td>\n",
       "      <td>5000.00</td>\n",
       "      <td>3</td>\n",
       "      <td>N94 3M0</td>\n",
       "      <td>bird@gmail.com</td>\n",
       "    </tr>\n",
       "    <tr>\n",
       "      <th>1</th>\n",
       "      <td>Noah</td>\n",
       "      <td>Ryan</td>\n",
       "      <td>10000.00</td>\n",
       "      <td>8</td>\n",
       "      <td>N8S 14K</td>\n",
       "      <td>nsmall@hotmail.com</td>\n",
       "    </tr>\n",
       "    <tr>\n",
       "      <th>2</th>\n",
       "      <td>Nina</td>\n",
       "      <td>Keller</td>\n",
       "      <td>9072.02</td>\n",
       "      <td>17</td>\n",
       "      <td>S1T 4E6</td>\n",
       "      <td>azikez@gahew.mr</td>\n",
       "    </tr>\n",
       "  </tbody>\n",
       "</table>\n",
       "</div>"
      ],
      "text/plain": [
       "  First Name Last Name    Salary  Years with Company Postal Code  \\\n",
       "0       Mike       Moe   5000.00                   3     N94 3M0   \n",
       "1       Noah      Ryan  10000.00                   8     N8S 14K   \n",
       "2       Nina    Keller   9072.02                  17     S1T 4E6   \n",
       "\n",
       "                Email  \n",
       "0      bird@gmail.com  \n",
       "1  nsmall@hotmail.com  \n",
       "2     azikez@gahew.mr  "
      ]
     },
     "execution_count": 65,
     "metadata": {},
     "output_type": "execute_result"
    }
   ],
   "source": [
    "employeedf.iloc[:3]"
   ]
  },
  {
   "cell_type": "code",
   "execution_count": 66,
   "id": "42e20c62",
   "metadata": {},
   "outputs": [
    {
     "data": {
      "text/html": [
       "<div>\n",
       "<style scoped>\n",
       "    .dataframe tbody tr th:only-of-type {\n",
       "        vertical-align: middle;\n",
       "    }\n",
       "\n",
       "    .dataframe tbody tr th {\n",
       "        vertical-align: top;\n",
       "    }\n",
       "\n",
       "    .dataframe thead th {\n",
       "        text-align: right;\n",
       "    }\n",
       "</style>\n",
       "<table border=\"1\" class=\"dataframe\">\n",
       "  <thead>\n",
       "    <tr style=\"text-align: right;\">\n",
       "      <th></th>\n",
       "      <th>First Name</th>\n",
       "      <th>Last Name</th>\n",
       "      <th>Salary</th>\n",
       "      <th>Years with Company</th>\n",
       "      <th>Postal Code</th>\n",
       "      <th>Email</th>\n",
       "    </tr>\n",
       "  </thead>\n",
       "  <tbody>\n",
       "    <tr>\n",
       "      <th>2</th>\n",
       "      <td>Nina</td>\n",
       "      <td>Keller</td>\n",
       "      <td>9072.02</td>\n",
       "      <td>17</td>\n",
       "      <td>S1T 4E6</td>\n",
       "      <td>azikez@gahew.mr</td>\n",
       "    </tr>\n",
       "    <tr>\n",
       "      <th>5</th>\n",
       "      <td>Samer</td>\n",
       "      <td>Mo</td>\n",
       "      <td>100000.00</td>\n",
       "      <td>13</td>\n",
       "      <td>J7H 3HY</td>\n",
       "      <td>samer@gmail.com</td>\n",
       "    </tr>\n",
       "    <tr>\n",
       "      <th>8</th>\n",
       "      <td>Joseph</td>\n",
       "      <td>Patton</td>\n",
       "      <td>2629.13</td>\n",
       "      <td>2</td>\n",
       "      <td>M6U 5U7</td>\n",
       "      <td>daafeja@boh.jm</td>\n",
       "    </tr>\n",
       "  </tbody>\n",
       "</table>\n",
       "</div>"
      ],
      "text/plain": [
       "  First Name Last Name     Salary  Years with Company Postal Code  \\\n",
       "2       Nina    Keller    9072.02                  17     S1T 4E6   \n",
       "5      Samer        Mo  100000.00                  13     J7H 3HY   \n",
       "8     Joseph    Patton    2629.13                   2     M6U 5U7   \n",
       "\n",
       "             Email  \n",
       "2  azikez@gahew.mr  \n",
       "5  samer@gmail.com  \n",
       "8   daafeja@boh.jm  "
      ]
     },
     "execution_count": 66,
     "metadata": {},
     "output_type": "execute_result"
    }
   ],
   "source": [
    "employeedf.iloc[[2,5,8]]"
   ]
  },
  {
   "cell_type": "code",
   "execution_count": 73,
   "id": "ee7c9025",
   "metadata": {},
   "outputs": [
    {
     "data": {
      "text/html": [
       "<div>\n",
       "<style scoped>\n",
       "    .dataframe tbody tr th:only-of-type {\n",
       "        vertical-align: middle;\n",
       "    }\n",
       "\n",
       "    .dataframe tbody tr th {\n",
       "        vertical-align: top;\n",
       "    }\n",
       "\n",
       "    .dataframe thead th {\n",
       "        text-align: right;\n",
       "    }\n",
       "</style>\n",
       "<table border=\"1\" class=\"dataframe\">\n",
       "  <thead>\n",
       "    <tr style=\"text-align: right;\">\n",
       "      <th></th>\n",
       "      <th>First Name</th>\n",
       "      <th>Last Name</th>\n",
       "      <th>Salary</th>\n",
       "      <th>Years with Company</th>\n",
       "      <th>Postal Code</th>\n",
       "      <th>Email</th>\n",
       "    </tr>\n",
       "  </thead>\n",
       "  <tbody>\n",
       "    <tr>\n",
       "      <th>0</th>\n",
       "      <td>Mike</td>\n",
       "      <td>Moe</td>\n",
       "      <td>5000.00</td>\n",
       "      <td>3</td>\n",
       "      <td>N94 3M0</td>\n",
       "      <td>bird@gmail.com</td>\n",
       "    </tr>\n",
       "    <tr>\n",
       "      <th>1</th>\n",
       "      <td>Noah</td>\n",
       "      <td>Ryan</td>\n",
       "      <td>10000.00</td>\n",
       "      <td>8</td>\n",
       "      <td>N8S 14K</td>\n",
       "      <td>nsmall@hotmail.com</td>\n",
       "    </tr>\n",
       "    <tr>\n",
       "      <th>2</th>\n",
       "      <td>Nina</td>\n",
       "      <td>Keller</td>\n",
       "      <td>9072.02</td>\n",
       "      <td>17</td>\n",
       "      <td>S1T 4E6</td>\n",
       "      <td>azikez@gahew.mr</td>\n",
       "    </tr>\n",
       "    <tr>\n",
       "      <th>3</th>\n",
       "      <td>Chanel</td>\n",
       "      <td>Steve</td>\n",
       "      <td>11072.02</td>\n",
       "      <td>12</td>\n",
       "      <td>N7T 3E6</td>\n",
       "      <td>chanel@gmail.com</td>\n",
       "    </tr>\n",
       "    <tr>\n",
       "      <th>4</th>\n",
       "      <td>Kate</td>\n",
       "      <td>Noor</td>\n",
       "      <td>5000.00</td>\n",
       "      <td>23</td>\n",
       "      <td>K8N 5H6</td>\n",
       "      <td>kate@hotmail.com</td>\n",
       "    </tr>\n",
       "    <tr>\n",
       "      <th>5</th>\n",
       "      <td>Samer</td>\n",
       "      <td>Mo</td>\n",
       "      <td>100000.00</td>\n",
       "      <td>13</td>\n",
       "      <td>J7H 3HY</td>\n",
       "      <td>samer@gmail.com</td>\n",
       "    </tr>\n",
       "    <tr>\n",
       "      <th>6</th>\n",
       "      <td>Heba</td>\n",
       "      <td>Steve</td>\n",
       "      <td>50000.00</td>\n",
       "      <td>7</td>\n",
       "      <td>K8Y 3M8</td>\n",
       "      <td>heba.ismail@hotmail.com</td>\n",
       "    </tr>\n",
       "    <tr>\n",
       "      <th>7</th>\n",
       "      <td>Laila</td>\n",
       "      <td>Aly</td>\n",
       "      <td>20000.00</td>\n",
       "      <td>5</td>\n",
       "      <td>J8Y 3M0</td>\n",
       "      <td>Laila.a@hotmail.com</td>\n",
       "    </tr>\n",
       "    <tr>\n",
       "      <th>8</th>\n",
       "      <td>Joseph</td>\n",
       "      <td>Patton</td>\n",
       "      <td>2629.13</td>\n",
       "      <td>2</td>\n",
       "      <td>M6U 5U7</td>\n",
       "      <td>daafeja@boh.jm</td>\n",
       "    </tr>\n",
       "    <tr>\n",
       "      <th>9</th>\n",
       "      <td>Noah</td>\n",
       "      <td>Moran</td>\n",
       "      <td>8626.96</td>\n",
       "      <td>11</td>\n",
       "      <td>K2D 4M9</td>\n",
       "      <td>guutodi@bigwoc.kw</td>\n",
       "    </tr>\n",
       "  </tbody>\n",
       "</table>\n",
       "</div>"
      ],
      "text/plain": [
       "  First Name Last Name     Salary  Years with Company Postal Code  \\\n",
       "0       Mike       Moe    5000.00                   3     N94 3M0   \n",
       "1       Noah      Ryan   10000.00                   8     N8S 14K   \n",
       "2       Nina    Keller    9072.02                  17     S1T 4E6   \n",
       "3    Chanel      Steve   11072.02                  12     N7T 3E6   \n",
       "4       Kate      Noor    5000.00                  23     K8N 5H6   \n",
       "5      Samer        Mo  100000.00                  13     J7H 3HY   \n",
       "6       Heba     Steve   50000.00                   7     K8Y 3M8   \n",
       "7      Laila       Aly   20000.00                   5     J8Y 3M0   \n",
       "8     Joseph    Patton    2629.13                   2     M6U 5U7   \n",
       "9       Noah     Moran    8626.96                  11     K2D 4M9   \n",
       "\n",
       "                     Email  \n",
       "0           bird@gmail.com  \n",
       "1       nsmall@hotmail.com  \n",
       "2          azikez@gahew.mr  \n",
       "3         chanel@gmail.com  \n",
       "4         kate@hotmail.com  \n",
       "5          samer@gmail.com  \n",
       "6  heba.ismail@hotmail.com  \n",
       "7      Laila.a@hotmail.com  \n",
       "8           daafeja@boh.jm  \n",
       "9        guutodi@bigwoc.kw  "
      ]
     },
     "execution_count": 73,
     "metadata": {},
     "output_type": "execute_result"
    }
   ],
   "source": [
    "c"
   ]
  },
  {
   "cell_type": "code",
   "execution_count": 75,
   "id": "1742bed1",
   "metadata": {},
   "outputs": [],
   "source": [
    "employeedf.iloc[4,5] = 'fx@hotmail.com'"
   ]
  },
  {
   "cell_type": "code",
   "execution_count": 76,
   "id": "37bb30e7",
   "metadata": {},
   "outputs": [
    {
     "data": {
      "text/html": [
       "<div>\n",
       "<style scoped>\n",
       "    .dataframe tbody tr th:only-of-type {\n",
       "        vertical-align: middle;\n",
       "    }\n",
       "\n",
       "    .dataframe tbody tr th {\n",
       "        vertical-align: top;\n",
       "    }\n",
       "\n",
       "    .dataframe thead th {\n",
       "        text-align: right;\n",
       "    }\n",
       "</style>\n",
       "<table border=\"1\" class=\"dataframe\">\n",
       "  <thead>\n",
       "    <tr style=\"text-align: right;\">\n",
       "      <th></th>\n",
       "      <th>First Name</th>\n",
       "      <th>Last Name</th>\n",
       "      <th>Salary</th>\n",
       "      <th>Years with Company</th>\n",
       "      <th>Postal Code</th>\n",
       "      <th>Email</th>\n",
       "    </tr>\n",
       "  </thead>\n",
       "  <tbody>\n",
       "    <tr>\n",
       "      <th>0</th>\n",
       "      <td>Mike</td>\n",
       "      <td>Moe</td>\n",
       "      <td>5000.00</td>\n",
       "      <td>3</td>\n",
       "      <td>N94 3M0</td>\n",
       "      <td>bird@gmail.com</td>\n",
       "    </tr>\n",
       "    <tr>\n",
       "      <th>1</th>\n",
       "      <td>Noah</td>\n",
       "      <td>Ryan</td>\n",
       "      <td>10000.00</td>\n",
       "      <td>8</td>\n",
       "      <td>N8S 14K</td>\n",
       "      <td>nsmall@hotmail.com</td>\n",
       "    </tr>\n",
       "    <tr>\n",
       "      <th>2</th>\n",
       "      <td>Nina</td>\n",
       "      <td>Keller</td>\n",
       "      <td>9072.02</td>\n",
       "      <td>17</td>\n",
       "      <td>S1T 4E6</td>\n",
       "      <td>azikez@gahew.mr</td>\n",
       "    </tr>\n",
       "    <tr>\n",
       "      <th>3</th>\n",
       "      <td>Chanel</td>\n",
       "      <td>Steve</td>\n",
       "      <td>11072.02</td>\n",
       "      <td>12</td>\n",
       "      <td>N7T 3E6</td>\n",
       "      <td>chanel@gmail.com</td>\n",
       "    </tr>\n",
       "    <tr>\n",
       "      <th>4</th>\n",
       "      <td>Kate</td>\n",
       "      <td>Noor</td>\n",
       "      <td>5000.00</td>\n",
       "      <td>23</td>\n",
       "      <td>K8N 5H6</td>\n",
       "      <td>fx@hotmail.com</td>\n",
       "    </tr>\n",
       "    <tr>\n",
       "      <th>5</th>\n",
       "      <td>Samer</td>\n",
       "      <td>Mo</td>\n",
       "      <td>100000.00</td>\n",
       "      <td>13</td>\n",
       "      <td>J7H 3HY</td>\n",
       "      <td>samer@gmail.com</td>\n",
       "    </tr>\n",
       "    <tr>\n",
       "      <th>6</th>\n",
       "      <td>Heba</td>\n",
       "      <td>Steve</td>\n",
       "      <td>50000.00</td>\n",
       "      <td>7</td>\n",
       "      <td>K8Y 3M8</td>\n",
       "      <td>heba.ismail@hotmail.com</td>\n",
       "    </tr>\n",
       "    <tr>\n",
       "      <th>7</th>\n",
       "      <td>Laila</td>\n",
       "      <td>Aly</td>\n",
       "      <td>20000.00</td>\n",
       "      <td>5</td>\n",
       "      <td>J8Y 3M0</td>\n",
       "      <td>Laila.a@hotmail.com</td>\n",
       "    </tr>\n",
       "    <tr>\n",
       "      <th>8</th>\n",
       "      <td>Joseph</td>\n",
       "      <td>Patton</td>\n",
       "      <td>2629.13</td>\n",
       "      <td>2</td>\n",
       "      <td>M6U 5U7</td>\n",
       "      <td>daafeja@boh.jm</td>\n",
       "    </tr>\n",
       "    <tr>\n",
       "      <th>9</th>\n",
       "      <td>Noah</td>\n",
       "      <td>Moran</td>\n",
       "      <td>8626.96</td>\n",
       "      <td>11</td>\n",
       "      <td>K2D 4M9</td>\n",
       "      <td>guutodi@bigwoc.kw</td>\n",
       "    </tr>\n",
       "  </tbody>\n",
       "</table>\n",
       "</div>"
      ],
      "text/plain": [
       "  First Name Last Name     Salary  Years with Company Postal Code  \\\n",
       "0       Mike       Moe    5000.00                   3     N94 3M0   \n",
       "1       Noah      Ryan   10000.00                   8     N8S 14K   \n",
       "2       Nina    Keller    9072.02                  17     S1T 4E6   \n",
       "3    Chanel      Steve   11072.02                  12     N7T 3E6   \n",
       "4       Kate      Noor    5000.00                  23     K8N 5H6   \n",
       "5      Samer        Mo  100000.00                  13     J7H 3HY   \n",
       "6       Heba     Steve   50000.00                   7     K8Y 3M8   \n",
       "7      Laila       Aly   20000.00                   5     J8Y 3M0   \n",
       "8     Joseph    Patton    2629.13                   2     M6U 5U7   \n",
       "9       Noah     Moran    8626.96                  11     K2D 4M9   \n",
       "\n",
       "                     Email  \n",
       "0           bird@gmail.com  \n",
       "1       nsmall@hotmail.com  \n",
       "2          azikez@gahew.mr  \n",
       "3         chanel@gmail.com  \n",
       "4           fx@hotmail.com  \n",
       "5          samer@gmail.com  \n",
       "6  heba.ismail@hotmail.com  \n",
       "7      Laila.a@hotmail.com  \n",
       "8           daafeja@boh.jm  \n",
       "9        guutodi@bigwoc.kw  "
      ]
     },
     "execution_count": 76,
     "metadata": {},
     "output_type": "execute_result"
    }
   ],
   "source": [
    "employeedf"
   ]
  },
  {
   "cell_type": "code",
   "execution_count": 77,
   "id": "f2e36aa2",
   "metadata": {},
   "outputs": [
    {
     "data": {
      "text/html": [
       "<div>\n",
       "<style scoped>\n",
       "    .dataframe tbody tr th:only-of-type {\n",
       "        vertical-align: middle;\n",
       "    }\n",
       "\n",
       "    .dataframe tbody tr th {\n",
       "        vertical-align: top;\n",
       "    }\n",
       "\n",
       "    .dataframe thead th {\n",
       "        text-align: right;\n",
       "    }\n",
       "</style>\n",
       "<table border=\"1\" class=\"dataframe\">\n",
       "  <thead>\n",
       "    <tr style=\"text-align: right;\">\n",
       "      <th></th>\n",
       "      <th>First Name</th>\n",
       "      <th>Last Name</th>\n",
       "      <th>Salary</th>\n",
       "      <th>Years with Company</th>\n",
       "      <th>Postal Code</th>\n",
       "      <th>Email</th>\n",
       "    </tr>\n",
       "  </thead>\n",
       "  <tbody>\n",
       "    <tr>\n",
       "      <th>8</th>\n",
       "      <td>Joseph</td>\n",
       "      <td>Patton</td>\n",
       "      <td>2629.13</td>\n",
       "      <td>2</td>\n",
       "      <td>M6U 5U7</td>\n",
       "      <td>daafeja@boh.jm</td>\n",
       "    </tr>\n",
       "    <tr>\n",
       "      <th>0</th>\n",
       "      <td>Mike</td>\n",
       "      <td>Moe</td>\n",
       "      <td>5000.00</td>\n",
       "      <td>3</td>\n",
       "      <td>N94 3M0</td>\n",
       "      <td>bird@gmail.com</td>\n",
       "    </tr>\n",
       "    <tr>\n",
       "      <th>7</th>\n",
       "      <td>Laila</td>\n",
       "      <td>Aly</td>\n",
       "      <td>20000.00</td>\n",
       "      <td>5</td>\n",
       "      <td>J8Y 3M0</td>\n",
       "      <td>Laila.a@hotmail.com</td>\n",
       "    </tr>\n",
       "    <tr>\n",
       "      <th>6</th>\n",
       "      <td>Heba</td>\n",
       "      <td>Steve</td>\n",
       "      <td>50000.00</td>\n",
       "      <td>7</td>\n",
       "      <td>K8Y 3M8</td>\n",
       "      <td>heba.ismail@hotmail.com</td>\n",
       "    </tr>\n",
       "    <tr>\n",
       "      <th>1</th>\n",
       "      <td>Noah</td>\n",
       "      <td>Ryan</td>\n",
       "      <td>10000.00</td>\n",
       "      <td>8</td>\n",
       "      <td>N8S 14K</td>\n",
       "      <td>nsmall@hotmail.com</td>\n",
       "    </tr>\n",
       "    <tr>\n",
       "      <th>9</th>\n",
       "      <td>Noah</td>\n",
       "      <td>Moran</td>\n",
       "      <td>8626.96</td>\n",
       "      <td>11</td>\n",
       "      <td>K2D 4M9</td>\n",
       "      <td>guutodi@bigwoc.kw</td>\n",
       "    </tr>\n",
       "    <tr>\n",
       "      <th>3</th>\n",
       "      <td>Chanel</td>\n",
       "      <td>Steve</td>\n",
       "      <td>11072.02</td>\n",
       "      <td>12</td>\n",
       "      <td>N7T 3E6</td>\n",
       "      <td>chanel@gmail.com</td>\n",
       "    </tr>\n",
       "    <tr>\n",
       "      <th>5</th>\n",
       "      <td>Samer</td>\n",
       "      <td>Mo</td>\n",
       "      <td>100000.00</td>\n",
       "      <td>13</td>\n",
       "      <td>J7H 3HY</td>\n",
       "      <td>samer@gmail.com</td>\n",
       "    </tr>\n",
       "    <tr>\n",
       "      <th>2</th>\n",
       "      <td>Nina</td>\n",
       "      <td>Keller</td>\n",
       "      <td>9072.02</td>\n",
       "      <td>17</td>\n",
       "      <td>S1T 4E6</td>\n",
       "      <td>azikez@gahew.mr</td>\n",
       "    </tr>\n",
       "    <tr>\n",
       "      <th>4</th>\n",
       "      <td>Kate</td>\n",
       "      <td>Noor</td>\n",
       "      <td>5000.00</td>\n",
       "      <td>23</td>\n",
       "      <td>K8N 5H6</td>\n",
       "      <td>fx@hotmail.com</td>\n",
       "    </tr>\n",
       "  </tbody>\n",
       "</table>\n",
       "</div>"
      ],
      "text/plain": [
       "  First Name Last Name     Salary  Years with Company Postal Code  \\\n",
       "8     Joseph    Patton    2629.13                   2     M6U 5U7   \n",
       "0       Mike       Moe    5000.00                   3     N94 3M0   \n",
       "7      Laila       Aly   20000.00                   5     J8Y 3M0   \n",
       "6       Heba     Steve   50000.00                   7     K8Y 3M8   \n",
       "1       Noah      Ryan   10000.00                   8     N8S 14K   \n",
       "9       Noah     Moran    8626.96                  11     K2D 4M9   \n",
       "3    Chanel      Steve   11072.02                  12     N7T 3E6   \n",
       "5      Samer        Mo  100000.00                  13     J7H 3HY   \n",
       "2       Nina    Keller    9072.02                  17     S1T 4E6   \n",
       "4       Kate      Noor    5000.00                  23     K8N 5H6   \n",
       "\n",
       "                     Email  \n",
       "8           daafeja@boh.jm  \n",
       "0           bird@gmail.com  \n",
       "7      Laila.a@hotmail.com  \n",
       "6  heba.ismail@hotmail.com  \n",
       "1       nsmall@hotmail.com  \n",
       "9        guutodi@bigwoc.kw  \n",
       "3         chanel@gmail.com  \n",
       "5          samer@gmail.com  \n",
       "2          azikez@gahew.mr  \n",
       "4           fx@hotmail.com  "
      ]
     },
     "execution_count": 77,
     "metadata": {},
     "output_type": "execute_result"
    }
   ],
   "source": [
    "employeedf.sort_values(by = 'Years with Company')"
   ]
  },
  {
   "cell_type": "code",
   "execution_count": 80,
   "id": "3329329f",
   "metadata": {},
   "outputs": [
    {
     "data": {
      "text/html": [
       "<div>\n",
       "<style scoped>\n",
       "    .dataframe tbody tr th:only-of-type {\n",
       "        vertical-align: middle;\n",
       "    }\n",
       "\n",
       "    .dataframe tbody tr th {\n",
       "        vertical-align: top;\n",
       "    }\n",
       "\n",
       "    .dataframe thead th {\n",
       "        text-align: right;\n",
       "    }\n",
       "</style>\n",
       "<table border=\"1\" class=\"dataframe\">\n",
       "  <thead>\n",
       "    <tr style=\"text-align: right;\">\n",
       "      <th></th>\n",
       "      <th>First Name</th>\n",
       "      <th>Last Name</th>\n",
       "      <th>Salary</th>\n",
       "      <th>Years with Company</th>\n",
       "      <th>Postal Code</th>\n",
       "      <th>Email</th>\n",
       "    </tr>\n",
       "  </thead>\n",
       "  <tbody>\n",
       "    <tr>\n",
       "      <th>4</th>\n",
       "      <td>Kate</td>\n",
       "      <td>Noor</td>\n",
       "      <td>5000.00</td>\n",
       "      <td>23</td>\n",
       "      <td>K8N 5H6</td>\n",
       "      <td>fx@hotmail.com</td>\n",
       "    </tr>\n",
       "    <tr>\n",
       "      <th>2</th>\n",
       "      <td>Nina</td>\n",
       "      <td>Keller</td>\n",
       "      <td>9072.02</td>\n",
       "      <td>17</td>\n",
       "      <td>S1T 4E6</td>\n",
       "      <td>azikez@gahew.mr</td>\n",
       "    </tr>\n",
       "    <tr>\n",
       "      <th>5</th>\n",
       "      <td>Samer</td>\n",
       "      <td>Mo</td>\n",
       "      <td>100000.00</td>\n",
       "      <td>13</td>\n",
       "      <td>J7H 3HY</td>\n",
       "      <td>samer@gmail.com</td>\n",
       "    </tr>\n",
       "  </tbody>\n",
       "</table>\n",
       "</div>"
      ],
      "text/plain": [
       "  First Name Last Name     Salary  Years with Company Postal Code  \\\n",
       "4       Kate      Noor    5000.00                  23     K8N 5H6   \n",
       "2       Nina    Keller    9072.02                  17     S1T 4E6   \n",
       "5      Samer        Mo  100000.00                  13     J7H 3HY   \n",
       "\n",
       "             Email  \n",
       "4   fx@hotmail.com  \n",
       "2  azikez@gahew.mr  \n",
       "5  samer@gmail.com  "
      ]
     },
     "execution_count": 80,
     "metadata": {},
     "output_type": "execute_result"
    }
   ],
   "source": [
    "employeedf.sort_values(by = 'Years with Company',ascending = False)[0:3]"
   ]
  },
  {
   "cell_type": "markdown",
   "id": "a331aa8d",
   "metadata": {},
   "source": [
    "### Day 8 "
   ]
  },
  {
   "cell_type": "code",
   "execution_count": 133,
   "id": "62bba262",
   "metadata": {},
   "outputs": [],
   "source": [
    "hr_df = spark.read.format('csv').option('header',True).option('inferSchema',True)\\\n",
    "                      .load('08_Human_Resources.csv')"
   ]
  },
  {
   "cell_type": "code",
   "execution_count": 114,
   "id": "27ddab19",
   "metadata": {},
   "outputs": [
    {
     "name": "stdout",
     "output_type": "stream",
     "text": [
      "+--------------+\n",
      "|EmployeeNumber|\n",
      "+--------------+\n",
      "|          null|\n",
      "+--------------+\n",
      "\n"
     ]
    }
   ],
   "source": [
    "hr_df.filter(col('EmployeeNumber').isNull()).select('EmployeeNumber').show()"
   ]
  },
  {
   "cell_type": "code",
   "execution_count": 115,
   "id": "c25f9fac",
   "metadata": {},
   "outputs": [
    {
     "data": {
      "text/plain": [
       "1470"
      ]
     },
     "execution_count": 115,
     "metadata": {},
     "output_type": "execute_result"
    }
   ],
   "source": [
    "hr_df.count()"
   ]
  },
  {
   "cell_type": "code",
   "execution_count": 123,
   "id": "7a88cfc4",
   "metadata": {},
   "outputs": [
    {
     "data": {
      "text/plain": [
       "1467"
      ]
     },
     "execution_count": 123,
     "metadata": {},
     "output_type": "execute_result"
    }
   ],
   "source": [
    "hr_df.dropna(how = 'any',subset = ['MonthlyIncome','PercentSalaryHike']).count()"
   ]
  },
  {
   "cell_type": "code",
   "execution_count": 147,
   "id": "86b0f6d0",
   "metadata": {},
   "outputs": [
    {
     "data": {
      "text/plain": [
       "6505.155419222904"
      ]
     },
     "execution_count": 147,
     "metadata": {},
     "output_type": "execute_result"
    }
   ],
   "source": [
    "x = hr_df.select('MonthlyIncome').agg(mean('MonthlyIncome')).collect()\n",
    "y = hr_df.select('PercentSalaryHike').agg(mean('PercentSalaryHike')).collect()\n",
    "x[0][0]"
   ]
  },
  {
   "cell_type": "code",
   "execution_count": 148,
   "id": "b61271db",
   "metadata": {},
   "outputs": [
    {
     "data": {
      "text/plain": [
       "DataFrame[Age: int, Attrition: string, BusinessTravel: string, DailyRate: int, Department: string, DistanceFromHome: int, Education: int, EducationField: string, EmployeeCount: int, EmployeeNumber: int, EnvironmentSatisfaction: int, Gender: string, HourlyRate: int, JobInvolvement: int, JobLevel: int, JobRole: string, JobSatisfaction: int, MaritalStatus: string, MonthlyIncome: int, MonthlyRate: int, NumCompaniesWorked: int, Over18: string, OverTime: string, PercentSalaryHike: int, PerformanceRating: int, RelationshipSatisfaction: int, StandardHours: int, StockOptionLevel: int, TotalWorkingYears: int, TrainingTimesLastYear: int, WorkLifeBalance: int, YearsAtCompany: int, YearsInCurrentRole: int, YearsSinceLastPromotion: int, YearsWithCurrManager: int]"
      ]
     },
     "execution_count": 148,
     "metadata": {},
     "output_type": "execute_result"
    }
   ],
   "source": [
    "hr_df.fillna({'MonthlyIncome':x[0][0],'PercentSalaryHike':y[0][0]})"
   ]
  },
  {
   "cell_type": "code",
   "execution_count": 150,
   "id": "6a248c9a",
   "metadata": {},
   "outputs": [
    {
     "data": {
      "text/plain": [
       "1470"
      ]
     },
     "execution_count": 150,
     "metadata": {},
     "output_type": "execute_result"
    }
   ],
   "source": [
    "hr_df.select('MonthlyIncome').count()"
   ]
  },
  {
   "cell_type": "code",
   "execution_count": 167,
   "id": "8ae03537",
   "metadata": {},
   "outputs": [
    {
     "data": {
      "text/plain": [
       "1468"
      ]
     },
     "execution_count": 167,
     "metadata": {},
     "output_type": "execute_result"
    }
   ],
   "source": [
    "hr_df.select('MonthlyRate').dropna('any').count()"
   ]
  },
  {
   "cell_type": "code",
   "execution_count": 164,
   "id": "98631a73",
   "metadata": {},
   "outputs": [
    {
     "data": {
      "text/plain": [
       "14229.0"
      ]
     },
     "execution_count": 164,
     "metadata": {},
     "output_type": "execute_result"
    }
   ],
   "source": [
    "median = hr_df.approxQuantile('MonthlyRate',[0.5],0.0)\n",
    "median[0]"
   ]
  },
  {
   "cell_type": "code",
   "execution_count": 179,
   "id": "fde9af3a",
   "metadata": {},
   "outputs": [],
   "source": [
    "df = hr_df.fillna({'MonthlyRate':median[0]})"
   ]
  },
  {
   "cell_type": "code",
   "execution_count": 180,
   "id": "b910f161",
   "metadata": {},
   "outputs": [
    {
     "data": {
      "text/plain": [
       "3"
      ]
     },
     "execution_count": 180,
     "metadata": {},
     "output_type": "execute_result"
    }
   ],
   "source": [
    "df.filter(col('MonthlyRate') == lit('14229.0')).select('MonthlyRate').count()"
   ]
  },
  {
   "cell_type": "code",
   "execution_count": 181,
   "id": "e3ce121d",
   "metadata": {},
   "outputs": [
    {
     "data": {
      "text/plain": [
       "1470"
      ]
     },
     "execution_count": 181,
     "metadata": {},
     "output_type": "execute_result"
    }
   ],
   "source": [
    "df.select('MonthlyRate').dropna('any').count()"
   ]
  },
  {
   "cell_type": "code",
   "execution_count": 189,
   "id": "8dedab32",
   "metadata": {},
   "outputs": [
    {
     "data": {
      "image/png": "[encoded data removed]",
      "text/plain": [
       "<Figure size 1440x1440 with 30 Axes>"
      ]
     },
     "metadata": {
      "needs_background": "light"
     },
     "output_type": "display_data"
    }
   ],
   "source": [
    "hr_df.toPandas().hist(bins =30,figsize = (20,20),color = 'r');"
   ]
  },
  {
   "cell_type": "code",
   "execution_count": 86,
   "id": "69e285bc",
   "metadata": {},
   "outputs": [],
   "source": [
    "hrdf = pd.read_csv('08_Human_Resources.csv')"
   ]
  },
  {
   "cell_type": "code",
   "execution_count": 90,
   "id": "f6d29cb0",
   "metadata": {},
   "outputs": [
    {
     "data": {
      "text/html": [
       "<div>\n",
       "<style scoped>\n",
       "    .dataframe tbody tr th:only-of-type {\n",
       "        vertical-align: middle;\n",
       "    }\n",
       "\n",
       "    .dataframe tbody tr th {\n",
       "        vertical-align: top;\n",
       "    }\n",
       "\n",
       "    .dataframe thead th {\n",
       "        text-align: right;\n",
       "    }\n",
       "</style>\n",
       "<table border=\"1\" class=\"dataframe\">\n",
       "  <thead>\n",
       "    <tr style=\"text-align: right;\">\n",
       "      <th></th>\n",
       "      <th>Age</th>\n",
       "      <th>Attrition</th>\n",
       "      <th>BusinessTravel</th>\n",
       "      <th>DailyRate</th>\n",
       "      <th>Department</th>\n",
       "      <th>DistanceFromHome</th>\n",
       "      <th>Education</th>\n",
       "      <th>EducationField</th>\n",
       "      <th>EmployeeCount</th>\n",
       "      <th>EmployeeNumber</th>\n",
       "      <th>...</th>\n",
       "      <th>RelationshipSatisfaction</th>\n",
       "      <th>StandardHours</th>\n",
       "      <th>StockOptionLevel</th>\n",
       "      <th>TotalWorkingYears</th>\n",
       "      <th>TrainingTimesLastYear</th>\n",
       "      <th>WorkLifeBalance</th>\n",
       "      <th>YearsAtCompany</th>\n",
       "      <th>YearsInCurrentRole</th>\n",
       "      <th>YearsSinceLastPromotion</th>\n",
       "      <th>YearsWithCurrManager</th>\n",
       "    </tr>\n",
       "  </thead>\n",
       "  <tbody>\n",
       "    <tr>\n",
       "      <th>0</th>\n",
       "      <td>41</td>\n",
       "      <td>Yes</td>\n",
       "      <td>Travel_Rarely</td>\n",
       "      <td>1102</td>\n",
       "      <td>Sales</td>\n",
       "      <td>1</td>\n",
       "      <td>2</td>\n",
       "      <td>Life Sciences</td>\n",
       "      <td>1</td>\n",
       "      <td>1.0</td>\n",
       "      <td>...</td>\n",
       "      <td>1</td>\n",
       "      <td>80</td>\n",
       "      <td>0</td>\n",
       "      <td>8</td>\n",
       "      <td>0</td>\n",
       "      <td>1</td>\n",
       "      <td>6</td>\n",
       "      <td>4</td>\n",
       "      <td>0</td>\n",
       "      <td>5</td>\n",
       "    </tr>\n",
       "    <tr>\n",
       "      <th>1</th>\n",
       "      <td>49</td>\n",
       "      <td>No</td>\n",
       "      <td>Travel_Frequently</td>\n",
       "      <td>279</td>\n",
       "      <td>Research &amp; Development</td>\n",
       "      <td>8</td>\n",
       "      <td>1</td>\n",
       "      <td>Life Sciences</td>\n",
       "      <td>1</td>\n",
       "      <td>2.0</td>\n",
       "      <td>...</td>\n",
       "      <td>4</td>\n",
       "      <td>80</td>\n",
       "      <td>1</td>\n",
       "      <td>10</td>\n",
       "      <td>3</td>\n",
       "      <td>3</td>\n",
       "      <td>10</td>\n",
       "      <td>7</td>\n",
       "      <td>1</td>\n",
       "      <td>7</td>\n",
       "    </tr>\n",
       "  </tbody>\n",
       "</table>\n",
       "<p>2 rows × 35 columns</p>\n",
       "</div>"
      ],
      "text/plain": [
       "   Age Attrition     BusinessTravel  DailyRate              Department  \\\n",
       "0   41       Yes      Travel_Rarely       1102                   Sales   \n",
       "1   49        No  Travel_Frequently        279  Research & Development   \n",
       "\n",
       "   DistanceFromHome  Education EducationField  EmployeeCount  EmployeeNumber  \\\n",
       "0                 1          2  Life Sciences              1             1.0   \n",
       "1                 8          1  Life Sciences              1             2.0   \n",
       "\n",
       "   ...  RelationshipSatisfaction StandardHours  StockOptionLevel  \\\n",
       "0  ...                         1            80                 0   \n",
       "1  ...                         4            80                 1   \n",
       "\n",
       "   TotalWorkingYears  TrainingTimesLastYear WorkLifeBalance  YearsAtCompany  \\\n",
       "0                  8                      0               1               6   \n",
       "1                 10                      3               3              10   \n",
       "\n",
       "  YearsInCurrentRole  YearsSinceLastPromotion  YearsWithCurrManager  \n",
       "0                  4                        0                     5  \n",
       "1                  7                        1                     7  \n",
       "\n",
       "[2 rows x 35 columns]"
      ]
     },
     "execution_count": 90,
     "metadata": {},
     "output_type": "execute_result"
    }
   ],
   "source": [
    "hrdf.head(2)"
   ]
  },
  {
   "cell_type": "code",
   "execution_count": 91,
   "id": "af3764ca",
   "metadata": {},
   "outputs": [
    {
     "data": {
      "text/html": [
       "<div>\n",
       "<style scoped>\n",
       "    .dataframe tbody tr th:only-of-type {\n",
       "        vertical-align: middle;\n",
       "    }\n",
       "\n",
       "    .dataframe tbody tr th {\n",
       "        vertical-align: top;\n",
       "    }\n",
       "\n",
       "    .dataframe thead th {\n",
       "        text-align: right;\n",
       "    }\n",
       "</style>\n",
       "<table border=\"1\" class=\"dataframe\">\n",
       "  <thead>\n",
       "    <tr style=\"text-align: right;\">\n",
       "      <th></th>\n",
       "      <th>Age</th>\n",
       "      <th>Attrition</th>\n",
       "      <th>BusinessTravel</th>\n",
       "      <th>DailyRate</th>\n",
       "      <th>Department</th>\n",
       "      <th>DistanceFromHome</th>\n",
       "      <th>Education</th>\n",
       "      <th>EducationField</th>\n",
       "      <th>EmployeeCount</th>\n",
       "      <th>EmployeeNumber</th>\n",
       "      <th>...</th>\n",
       "      <th>RelationshipSatisfaction</th>\n",
       "      <th>StandardHours</th>\n",
       "      <th>StockOptionLevel</th>\n",
       "      <th>TotalWorkingYears</th>\n",
       "      <th>TrainingTimesLastYear</th>\n",
       "      <th>WorkLifeBalance</th>\n",
       "      <th>YearsAtCompany</th>\n",
       "      <th>YearsInCurrentRole</th>\n",
       "      <th>YearsSinceLastPromotion</th>\n",
       "      <th>YearsWithCurrManager</th>\n",
       "    </tr>\n",
       "  </thead>\n",
       "  <tbody>\n",
       "    <tr>\n",
       "      <th>1468</th>\n",
       "      <td>49</td>\n",
       "      <td>No</td>\n",
       "      <td>Travel_Frequently</td>\n",
       "      <td>1023</td>\n",
       "      <td>Sales</td>\n",
       "      <td>2</td>\n",
       "      <td>3</td>\n",
       "      <td>Medical</td>\n",
       "      <td>1</td>\n",
       "      <td>2065.0</td>\n",
       "      <td>...</td>\n",
       "      <td>4</td>\n",
       "      <td>80</td>\n",
       "      <td>0</td>\n",
       "      <td>17</td>\n",
       "      <td>3</td>\n",
       "      <td>2</td>\n",
       "      <td>9</td>\n",
       "      <td>6</td>\n",
       "      <td>0</td>\n",
       "      <td>8</td>\n",
       "    </tr>\n",
       "    <tr>\n",
       "      <th>1469</th>\n",
       "      <td>34</td>\n",
       "      <td>No</td>\n",
       "      <td>Travel_Rarely</td>\n",
       "      <td>628</td>\n",
       "      <td>Research &amp; Development</td>\n",
       "      <td>8</td>\n",
       "      <td>3</td>\n",
       "      <td>Medical</td>\n",
       "      <td>1</td>\n",
       "      <td>2068.0</td>\n",
       "      <td>...</td>\n",
       "      <td>1</td>\n",
       "      <td>80</td>\n",
       "      <td>0</td>\n",
       "      <td>6</td>\n",
       "      <td>3</td>\n",
       "      <td>4</td>\n",
       "      <td>4</td>\n",
       "      <td>3</td>\n",
       "      <td>1</td>\n",
       "      <td>2</td>\n",
       "    </tr>\n",
       "  </tbody>\n",
       "</table>\n",
       "<p>2 rows × 35 columns</p>\n",
       "</div>"
      ],
      "text/plain": [
       "      Age Attrition     BusinessTravel  DailyRate              Department  \\\n",
       "1468   49        No  Travel_Frequently       1023                   Sales   \n",
       "1469   34        No      Travel_Rarely        628  Research & Development   \n",
       "\n",
       "      DistanceFromHome  Education EducationField  EmployeeCount  \\\n",
       "1468                 2          3        Medical              1   \n",
       "1469                 8          3        Medical              1   \n",
       "\n",
       "      EmployeeNumber  ...  RelationshipSatisfaction StandardHours  \\\n",
       "1468          2065.0  ...                         4            80   \n",
       "1469          2068.0  ...                         1            80   \n",
       "\n",
       "      StockOptionLevel  TotalWorkingYears  TrainingTimesLastYear  \\\n",
       "1468                 0                 17                      3   \n",
       "1469                 0                  6                      3   \n",
       "\n",
       "     WorkLifeBalance  YearsAtCompany YearsInCurrentRole  \\\n",
       "1468               2               9                  6   \n",
       "1469               4               4                  3   \n",
       "\n",
       "      YearsSinceLastPromotion  YearsWithCurrManager  \n",
       "1468                        0                     8  \n",
       "1469                        1                     2  \n",
       "\n",
       "[2 rows x 35 columns]"
      ]
     },
     "execution_count": 91,
     "metadata": {},
     "output_type": "execute_result"
    }
   ],
   "source": [
    "hrdf.tail(2)"
   ]
  },
  {
   "cell_type": "code",
   "execution_count": 104,
   "id": "02781523",
   "metadata": {},
   "outputs": [
    {
     "data": {
      "text/plain": [
       "<bound method DataFrame.mean of       Age Attrition     BusinessTravel  DailyRate              Department  \\\n",
       "0      41       Yes      Travel_Rarely       1102                   Sales   \n",
       "1      49        No  Travel_Frequently        279  Research & Development   \n",
       "2      37       Yes      Travel_Rarely       1373  Research & Development   \n",
       "3      33        No  Travel_Frequently       1392  Research & Development   \n",
       "4      27        No      Travel_Rarely        591  Research & Development   \n",
       "...   ...       ...                ...        ...                     ...   \n",
       "1465   36        No  Travel_Frequently        884  Research & Development   \n",
       "1466   39        No      Travel_Rarely        613  Research & Development   \n",
       "1467   27        No      Travel_Rarely        155  Research & Development   \n",
       "1468   49        No  Travel_Frequently       1023                   Sales   \n",
       "1469   34        No      Travel_Rarely        628  Research & Development   \n",
       "\n",
       "      DistanceFromHome  Education EducationField  EmployeeCount  \\\n",
       "0                    1          2  Life Sciences              1   \n",
       "1                    8          1  Life Sciences              1   \n",
       "2                    2          2          Other              1   \n",
       "3                    3          4  Life Sciences              1   \n",
       "4                    2          1        Medical              1   \n",
       "...                ...        ...            ...            ...   \n",
       "1465                23          2        Medical              1   \n",
       "1466                 6          1        Medical              1   \n",
       "1467                 4          3  Life Sciences              1   \n",
       "1468                 2          3        Medical              1   \n",
       "1469                 8          3        Medical              1   \n",
       "\n",
       "      EmployeeNumber  ...  RelationshipSatisfaction StandardHours  \\\n",
       "0                1.0  ...                         1            80   \n",
       "1                2.0  ...                         4            80   \n",
       "2                4.0  ...                         2            80   \n",
       "3                5.0  ...                         3            80   \n",
       "4                7.0  ...                         4            80   \n",
       "...              ...  ...                       ...           ...   \n",
       "1465          2061.0  ...                         3            80   \n",
       "1466          2062.0  ...                         1            80   \n",
       "1467          2064.0  ...                         2            80   \n",
       "1468          2065.0  ...                         4            80   \n",
       "1469          2068.0  ...                         1            80   \n",
       "\n",
       "      StockOptionLevel  TotalWorkingYears  TrainingTimesLastYear  \\\n",
       "0                    0                  8                      0   \n",
       "1                    1                 10                      3   \n",
       "2                    0                  7                      3   \n",
       "3                    0                  8                      3   \n",
       "4                    1                  6                      3   \n",
       "...                ...                ...                    ...   \n",
       "1465                 1                 17                      3   \n",
       "1466                 1                  9                      5   \n",
       "1467                 1                  6                      0   \n",
       "1468                 0                 17                      3   \n",
       "1469                 0                  6                      3   \n",
       "\n",
       "     WorkLifeBalance  YearsAtCompany YearsInCurrentRole  \\\n",
       "0                  1               6                  4   \n",
       "1                  3              10                  7   \n",
       "2                  3               0                  0   \n",
       "3                  3               8                  7   \n",
       "4                  3               2                  2   \n",
       "...              ...             ...                ...   \n",
       "1465               3               5                  2   \n",
       "1466               3               7                  7   \n",
       "1467               3               6                  2   \n",
       "1468               2               9                  6   \n",
       "1469               4               4                  3   \n",
       "\n",
       "      YearsSinceLastPromotion  YearsWithCurrManager  \n",
       "0                           0                     5  \n",
       "1                           1                     7  \n",
       "2                           0                     0  \n",
       "3                           3                     0  \n",
       "4                           2                     2  \n",
       "...                       ...                   ...  \n",
       "1465                        0                     3  \n",
       "1466                        1                     7  \n",
       "1467                        0                     3  \n",
       "1468                        0                     8  \n",
       "1469                        1                     2  \n",
       "\n",
       "[1470 rows x 35 columns]>"
      ]
     },
     "execution_count": 104,
     "metadata": {},
     "output_type": "execute_result"
    }
   ],
   "source": [
    "hrdf.mean"
   ]
  },
  {
   "cell_type": "code",
   "execution_count": 96,
   "id": "dbeaa008",
   "metadata": {},
   "outputs": [
    {
     "name": "stdout",
     "output_type": "stream",
     "text": [
      "<class 'pandas.core.frame.DataFrame'>\n",
      "RangeIndex: 1470 entries, 0 to 1469\n",
      "Data columns (total 35 columns):\n",
      " #   Column                    Non-Null Count  Dtype  \n",
      "---  ------                    --------------  -----  \n",
      " 0   Age                       1470 non-null   int64  \n",
      " 1   Attrition                 1470 non-null   object \n",
      " 2   BusinessTravel            1470 non-null   object \n",
      " 3   DailyRate                 1470 non-null   int64  \n",
      " 4   Department                1469 non-null   object \n",
      " 5   DistanceFromHome          1470 non-null   int64  \n",
      " 6   Education                 1470 non-null   int64  \n",
      " 7   EducationField            1469 non-null   object \n",
      " 8   EmployeeCount             1470 non-null   int64  \n",
      " 9   EmployeeNumber            1469 non-null   float64\n",
      " 10  EnvironmentSatisfaction   1470 non-null   int64  \n",
      " 11  Gender                    1469 non-null   object \n",
      " 12  HourlyRate                1470 non-null   int64  \n",
      " 13  JobInvolvement            1470 non-null   int64  \n",
      " 14  JobLevel                  1470 non-null   int64  \n",
      " 15  JobRole                   1469 non-null   object \n",
      " 16  JobSatisfaction           1470 non-null   int64  \n",
      " 17  MaritalStatus             1469 non-null   object \n",
      " 18  MonthlyIncome             1467 non-null   float64\n",
      " 19  MonthlyRate               1468 non-null   float64\n",
      " 20  NumCompaniesWorked        1470 non-null   int64  \n",
      " 21  Over18                    1470 non-null   object \n",
      " 22  OverTime                  1470 non-null   object \n",
      " 23  PercentSalaryHike         1469 non-null   float64\n",
      " 24  PerformanceRating         1469 non-null   float64\n",
      " 25  RelationshipSatisfaction  1470 non-null   int64  \n",
      " 26  StandardHours             1470 non-null   int64  \n",
      " 27  StockOptionLevel          1470 non-null   int64  \n",
      " 28  TotalWorkingYears         1470 non-null   int64  \n",
      " 29  TrainingTimesLastYear     1470 non-null   int64  \n",
      " 30  WorkLifeBalance           1470 non-null   int64  \n",
      " 31  YearsAtCompany            1470 non-null   int64  \n",
      " 32  YearsInCurrentRole        1470 non-null   int64  \n",
      " 33  YearsSinceLastPromotion   1470 non-null   int64  \n",
      " 34  YearsWithCurrManager      1470 non-null   int64  \n",
      "dtypes: float64(5), int64(21), object(9)\n",
      "memory usage: 402.1+ KB\n"
     ]
    }
   ],
   "source": [
    "hrdf.info()"
   ]
  },
  {
   "cell_type": "code",
   "execution_count": 97,
   "id": "5b571671",
   "metadata": {},
   "outputs": [
    {
     "data": {
      "text/html": [
       "<div>\n",
       "<style scoped>\n",
       "    .dataframe tbody tr th:only-of-type {\n",
       "        vertical-align: middle;\n",
       "    }\n",
       "\n",
       "    .dataframe tbody tr th {\n",
       "        vertical-align: top;\n",
       "    }\n",
       "\n",
       "    .dataframe thead th {\n",
       "        text-align: right;\n",
       "    }\n",
       "</style>\n",
       "<table border=\"1\" class=\"dataframe\">\n",
       "  <thead>\n",
       "    <tr style=\"text-align: right;\">\n",
       "      <th></th>\n",
       "      <th>Age</th>\n",
       "      <th>DailyRate</th>\n",
       "      <th>DistanceFromHome</th>\n",
       "      <th>Education</th>\n",
       "      <th>EmployeeCount</th>\n",
       "      <th>EmployeeNumber</th>\n",
       "      <th>EnvironmentSatisfaction</th>\n",
       "      <th>HourlyRate</th>\n",
       "      <th>JobInvolvement</th>\n",
       "      <th>JobLevel</th>\n",
       "      <th>...</th>\n",
       "      <th>RelationshipSatisfaction</th>\n",
       "      <th>StandardHours</th>\n",
       "      <th>StockOptionLevel</th>\n",
       "      <th>TotalWorkingYears</th>\n",
       "      <th>TrainingTimesLastYear</th>\n",
       "      <th>WorkLifeBalance</th>\n",
       "      <th>YearsAtCompany</th>\n",
       "      <th>YearsInCurrentRole</th>\n",
       "      <th>YearsSinceLastPromotion</th>\n",
       "      <th>YearsWithCurrManager</th>\n",
       "    </tr>\n",
       "  </thead>\n",
       "  <tbody>\n",
       "    <tr>\n",
       "      <th>count</th>\n",
       "      <td>1470.000000</td>\n",
       "      <td>1470.000000</td>\n",
       "      <td>1470.000000</td>\n",
       "      <td>1470.000000</td>\n",
       "      <td>1470.0</td>\n",
       "      <td>1469.000000</td>\n",
       "      <td>1470.000000</td>\n",
       "      <td>1470.000000</td>\n",
       "      <td>1470.000000</td>\n",
       "      <td>1470.000000</td>\n",
       "      <td>...</td>\n",
       "      <td>1470.000000</td>\n",
       "      <td>1470.0</td>\n",
       "      <td>1470.000000</td>\n",
       "      <td>1470.000000</td>\n",
       "      <td>1470.000000</td>\n",
       "      <td>1470.000000</td>\n",
       "      <td>1470.000000</td>\n",
       "      <td>1470.000000</td>\n",
       "      <td>1470.000000</td>\n",
       "      <td>1470.000000</td>\n",
       "    </tr>\n",
       "    <tr>\n",
       "      <th>mean</th>\n",
       "      <td>36.923810</td>\n",
       "      <td>802.485714</td>\n",
       "      <td>9.192517</td>\n",
       "      <td>2.912925</td>\n",
       "      <td>1.0</td>\n",
       "      <td>1025.556161</td>\n",
       "      <td>2.721769</td>\n",
       "      <td>65.891156</td>\n",
       "      <td>2.729932</td>\n",
       "      <td>2.063946</td>\n",
       "      <td>...</td>\n",
       "      <td>2.712245</td>\n",
       "      <td>80.0</td>\n",
       "      <td>0.793878</td>\n",
       "      <td>11.279592</td>\n",
       "      <td>2.799320</td>\n",
       "      <td>2.761224</td>\n",
       "      <td>7.008163</td>\n",
       "      <td>4.229252</td>\n",
       "      <td>2.187755</td>\n",
       "      <td>4.123129</td>\n",
       "    </tr>\n",
       "    <tr>\n",
       "      <th>std</th>\n",
       "      <td>9.135373</td>\n",
       "      <td>403.509100</td>\n",
       "      <td>8.106864</td>\n",
       "      <td>1.024165</td>\n",
       "      <td>0.0</td>\n",
       "      <td>601.646166</td>\n",
       "      <td>1.093082</td>\n",
       "      <td>20.329428</td>\n",
       "      <td>0.711561</td>\n",
       "      <td>1.106940</td>\n",
       "      <td>...</td>\n",
       "      <td>1.081209</td>\n",
       "      <td>0.0</td>\n",
       "      <td>0.852077</td>\n",
       "      <td>7.780782</td>\n",
       "      <td>1.289271</td>\n",
       "      <td>0.706476</td>\n",
       "      <td>6.126525</td>\n",
       "      <td>3.623137</td>\n",
       "      <td>3.222430</td>\n",
       "      <td>3.568136</td>\n",
       "    </tr>\n",
       "    <tr>\n",
       "      <th>min</th>\n",
       "      <td>18.000000</td>\n",
       "      <td>102.000000</td>\n",
       "      <td>1.000000</td>\n",
       "      <td>1.000000</td>\n",
       "      <td>1.0</td>\n",
       "      <td>1.000000</td>\n",
       "      <td>1.000000</td>\n",
       "      <td>30.000000</td>\n",
       "      <td>1.000000</td>\n",
       "      <td>1.000000</td>\n",
       "      <td>...</td>\n",
       "      <td>1.000000</td>\n",
       "      <td>80.0</td>\n",
       "      <td>0.000000</td>\n",
       "      <td>0.000000</td>\n",
       "      <td>0.000000</td>\n",
       "      <td>1.000000</td>\n",
       "      <td>0.000000</td>\n",
       "      <td>0.000000</td>\n",
       "      <td>0.000000</td>\n",
       "      <td>0.000000</td>\n",
       "    </tr>\n",
       "    <tr>\n",
       "      <th>25%</th>\n",
       "      <td>30.000000</td>\n",
       "      <td>465.000000</td>\n",
       "      <td>2.000000</td>\n",
       "      <td>2.000000</td>\n",
       "      <td>1.0</td>\n",
       "      <td>492.000000</td>\n",
       "      <td>2.000000</td>\n",
       "      <td>48.000000</td>\n",
       "      <td>2.000000</td>\n",
       "      <td>1.000000</td>\n",
       "      <td>...</td>\n",
       "      <td>2.000000</td>\n",
       "      <td>80.0</td>\n",
       "      <td>0.000000</td>\n",
       "      <td>6.000000</td>\n",
       "      <td>2.000000</td>\n",
       "      <td>2.000000</td>\n",
       "      <td>3.000000</td>\n",
       "      <td>2.000000</td>\n",
       "      <td>0.000000</td>\n",
       "      <td>2.000000</td>\n",
       "    </tr>\n",
       "    <tr>\n",
       "      <th>50%</th>\n",
       "      <td>36.000000</td>\n",
       "      <td>802.000000</td>\n",
       "      <td>7.000000</td>\n",
       "      <td>3.000000</td>\n",
       "      <td>1.0</td>\n",
       "      <td>1022.000000</td>\n",
       "      <td>3.000000</td>\n",
       "      <td>66.000000</td>\n",
       "      <td>3.000000</td>\n",
       "      <td>2.000000</td>\n",
       "      <td>...</td>\n",
       "      <td>3.000000</td>\n",
       "      <td>80.0</td>\n",
       "      <td>1.000000</td>\n",
       "      <td>10.000000</td>\n",
       "      <td>3.000000</td>\n",
       "      <td>3.000000</td>\n",
       "      <td>5.000000</td>\n",
       "      <td>3.000000</td>\n",
       "      <td>1.000000</td>\n",
       "      <td>3.000000</td>\n",
       "    </tr>\n",
       "    <tr>\n",
       "      <th>75%</th>\n",
       "      <td>43.000000</td>\n",
       "      <td>1157.000000</td>\n",
       "      <td>14.000000</td>\n",
       "      <td>4.000000</td>\n",
       "      <td>1.0</td>\n",
       "      <td>1556.000000</td>\n",
       "      <td>4.000000</td>\n",
       "      <td>83.750000</td>\n",
       "      <td>3.000000</td>\n",
       "      <td>3.000000</td>\n",
       "      <td>...</td>\n",
       "      <td>4.000000</td>\n",
       "      <td>80.0</td>\n",
       "      <td>1.000000</td>\n",
       "      <td>15.000000</td>\n",
       "      <td>3.000000</td>\n",
       "      <td>3.000000</td>\n",
       "      <td>9.000000</td>\n",
       "      <td>7.000000</td>\n",
       "      <td>3.000000</td>\n",
       "      <td>7.000000</td>\n",
       "    </tr>\n",
       "    <tr>\n",
       "      <th>max</th>\n",
       "      <td>60.000000</td>\n",
       "      <td>1499.000000</td>\n",
       "      <td>29.000000</td>\n",
       "      <td>5.000000</td>\n",
       "      <td>1.0</td>\n",
       "      <td>2068.000000</td>\n",
       "      <td>4.000000</td>\n",
       "      <td>100.000000</td>\n",
       "      <td>4.000000</td>\n",
       "      <td>5.000000</td>\n",
       "      <td>...</td>\n",
       "      <td>4.000000</td>\n",
       "      <td>80.0</td>\n",
       "      <td>3.000000</td>\n",
       "      <td>40.000000</td>\n",
       "      <td>6.000000</td>\n",
       "      <td>4.000000</td>\n",
       "      <td>40.000000</td>\n",
       "      <td>18.000000</td>\n",
       "      <td>15.000000</td>\n",
       "      <td>17.000000</td>\n",
       "    </tr>\n",
       "  </tbody>\n",
       "</table>\n",
       "<p>8 rows × 26 columns</p>\n",
       "</div>"
      ],
      "text/plain": [
       "               Age    DailyRate  DistanceFromHome    Education  EmployeeCount  \\\n",
       "count  1470.000000  1470.000000       1470.000000  1470.000000         1470.0   \n",
       "mean     36.923810   802.485714          9.192517     2.912925            1.0   \n",
       "std       9.135373   403.509100          8.106864     1.024165            0.0   \n",
       "min      18.000000   102.000000          1.000000     1.000000            1.0   \n",
       "25%      30.000000   465.000000          2.000000     2.000000            1.0   \n",
       "50%      36.000000   802.000000          7.000000     3.000000            1.0   \n",
       "75%      43.000000  1157.000000         14.000000     4.000000            1.0   \n",
       "max      60.000000  1499.000000         29.000000     5.000000            1.0   \n",
       "\n",
       "       EmployeeNumber  EnvironmentSatisfaction   HourlyRate  JobInvolvement  \\\n",
       "count     1469.000000              1470.000000  1470.000000     1470.000000   \n",
       "mean      1025.556161                 2.721769    65.891156        2.729932   \n",
       "std        601.646166                 1.093082    20.329428        0.711561   \n",
       "min          1.000000                 1.000000    30.000000        1.000000   \n",
       "25%        492.000000                 2.000000    48.000000        2.000000   \n",
       "50%       1022.000000                 3.000000    66.000000        3.000000   \n",
       "75%       1556.000000                 4.000000    83.750000        3.000000   \n",
       "max       2068.000000                 4.000000   100.000000        4.000000   \n",
       "\n",
       "          JobLevel  ...  RelationshipSatisfaction  StandardHours  \\\n",
       "count  1470.000000  ...               1470.000000         1470.0   \n",
       "mean      2.063946  ...                  2.712245           80.0   \n",
       "std       1.106940  ...                  1.081209            0.0   \n",
       "min       1.000000  ...                  1.000000           80.0   \n",
       "25%       1.000000  ...                  2.000000           80.0   \n",
       "50%       2.000000  ...                  3.000000           80.0   \n",
       "75%       3.000000  ...                  4.000000           80.0   \n",
       "max       5.000000  ...                  4.000000           80.0   \n",
       "\n",
       "       StockOptionLevel  TotalWorkingYears  TrainingTimesLastYear  \\\n",
       "count       1470.000000        1470.000000            1470.000000   \n",
       "mean           0.793878          11.279592               2.799320   \n",
       "std            0.852077           7.780782               1.289271   \n",
       "min            0.000000           0.000000               0.000000   \n",
       "25%            0.000000           6.000000               2.000000   \n",
       "50%            1.000000          10.000000               3.000000   \n",
       "75%            1.000000          15.000000               3.000000   \n",
       "max            3.000000          40.000000               6.000000   \n",
       "\n",
       "       WorkLifeBalance  YearsAtCompany  YearsInCurrentRole  \\\n",
       "count      1470.000000     1470.000000         1470.000000   \n",
       "mean          2.761224        7.008163            4.229252   \n",
       "std           0.706476        6.126525            3.623137   \n",
       "min           1.000000        0.000000            0.000000   \n",
       "25%           2.000000        3.000000            2.000000   \n",
       "50%           3.000000        5.000000            3.000000   \n",
       "75%           3.000000        9.000000            7.000000   \n",
       "max           4.000000       40.000000           18.000000   \n",
       "\n",
       "       YearsSinceLastPromotion  YearsWithCurrManager  \n",
       "count              1470.000000           1470.000000  \n",
       "mean                  2.187755              4.123129  \n",
       "std                   3.222430              3.568136  \n",
       "min                   0.000000              0.000000  \n",
       "25%                   0.000000              2.000000  \n",
       "50%                   1.000000              3.000000  \n",
       "75%                   3.000000              7.000000  \n",
       "max                  15.000000             17.000000  \n",
       "\n",
       "[8 rows x 26 columns]"
      ]
     },
     "execution_count": 97,
     "metadata": {},
     "output_type": "execute_result"
    }
   ],
   "source": [
    "hrdf.describe()"
   ]
  },
  {
   "cell_type": "code",
   "execution_count": 102,
   "id": "c05a61a2",
   "metadata": {},
   "outputs": [
    {
     "data": {
      "text/plain": [
       "(1470, 35)"
      ]
     },
     "execution_count": 102,
     "metadata": {},
     "output_type": "execute_result"
    }
   ],
   "source": [
    "hrdf.shape"
   ]
  },
  {
   "cell_type": "code",
   "execution_count": 107,
   "id": "7474a89f",
   "metadata": {},
   "outputs": [
    {
     "data": {
      "text/html": [
       "<div>\n",
       "<style scoped>\n",
       "    .dataframe tbody tr th:only-of-type {\n",
       "        vertical-align: middle;\n",
       "    }\n",
       "\n",
       "    .dataframe tbody tr th {\n",
       "        vertical-align: top;\n",
       "    }\n",
       "\n",
       "    .dataframe thead th {\n",
       "        text-align: right;\n",
       "    }\n",
       "</style>\n",
       "<table border=\"1\" class=\"dataframe\">\n",
       "  <thead>\n",
       "    <tr style=\"text-align: right;\">\n",
       "      <th></th>\n",
       "      <th>Age</th>\n",
       "      <th>Attrition</th>\n",
       "      <th>BusinessTravel</th>\n",
       "      <th>DailyRate</th>\n",
       "      <th>Department</th>\n",
       "      <th>DistanceFromHome</th>\n",
       "      <th>Education</th>\n",
       "      <th>EducationField</th>\n",
       "      <th>EmployeeCount</th>\n",
       "      <th>EmployeeNumber</th>\n",
       "      <th>...</th>\n",
       "      <th>RelationshipSatisfaction</th>\n",
       "      <th>StandardHours</th>\n",
       "      <th>StockOptionLevel</th>\n",
       "      <th>TotalWorkingYears</th>\n",
       "      <th>TrainingTimesLastYear</th>\n",
       "      <th>WorkLifeBalance</th>\n",
       "      <th>YearsAtCompany</th>\n",
       "      <th>YearsInCurrentRole</th>\n",
       "      <th>YearsSinceLastPromotion</th>\n",
       "      <th>YearsWithCurrManager</th>\n",
       "    </tr>\n",
       "  </thead>\n",
       "  <tbody>\n",
       "    <tr>\n",
       "      <th>0</th>\n",
       "      <td>False</td>\n",
       "      <td>False</td>\n",
       "      <td>False</td>\n",
       "      <td>False</td>\n",
       "      <td>False</td>\n",
       "      <td>False</td>\n",
       "      <td>False</td>\n",
       "      <td>False</td>\n",
       "      <td>False</td>\n",
       "      <td>False</td>\n",
       "      <td>...</td>\n",
       "      <td>False</td>\n",
       "      <td>False</td>\n",
       "      <td>False</td>\n",
       "      <td>False</td>\n",
       "      <td>False</td>\n",
       "      <td>False</td>\n",
       "      <td>False</td>\n",
       "      <td>False</td>\n",
       "      <td>False</td>\n",
       "      <td>False</td>\n",
       "    </tr>\n",
       "    <tr>\n",
       "      <th>1</th>\n",
       "      <td>False</td>\n",
       "      <td>False</td>\n",
       "      <td>False</td>\n",
       "      <td>False</td>\n",
       "      <td>False</td>\n",
       "      <td>False</td>\n",
       "      <td>False</td>\n",
       "      <td>False</td>\n",
       "      <td>False</td>\n",
       "      <td>False</td>\n",
       "      <td>...</td>\n",
       "      <td>False</td>\n",
       "      <td>False</td>\n",
       "      <td>False</td>\n",
       "      <td>False</td>\n",
       "      <td>False</td>\n",
       "      <td>False</td>\n",
       "      <td>False</td>\n",
       "      <td>False</td>\n",
       "      <td>False</td>\n",
       "      <td>False</td>\n",
       "    </tr>\n",
       "    <tr>\n",
       "      <th>2</th>\n",
       "      <td>False</td>\n",
       "      <td>False</td>\n",
       "      <td>False</td>\n",
       "      <td>False</td>\n",
       "      <td>False</td>\n",
       "      <td>False</td>\n",
       "      <td>False</td>\n",
       "      <td>False</td>\n",
       "      <td>False</td>\n",
       "      <td>False</td>\n",
       "      <td>...</td>\n",
       "      <td>False</td>\n",
       "      <td>False</td>\n",
       "      <td>False</td>\n",
       "      <td>False</td>\n",
       "      <td>False</td>\n",
       "      <td>False</td>\n",
       "      <td>False</td>\n",
       "      <td>False</td>\n",
       "      <td>False</td>\n",
       "      <td>False</td>\n",
       "    </tr>\n",
       "    <tr>\n",
       "      <th>3</th>\n",
       "      <td>False</td>\n",
       "      <td>False</td>\n",
       "      <td>False</td>\n",
       "      <td>False</td>\n",
       "      <td>False</td>\n",
       "      <td>False</td>\n",
       "      <td>False</td>\n",
       "      <td>False</td>\n",
       "      <td>False</td>\n",
       "      <td>False</td>\n",
       "      <td>...</td>\n",
       "      <td>False</td>\n",
       "      <td>False</td>\n",
       "      <td>False</td>\n",
       "      <td>False</td>\n",
       "      <td>False</td>\n",
       "      <td>False</td>\n",
       "      <td>False</td>\n",
       "      <td>False</td>\n",
       "      <td>False</td>\n",
       "      <td>False</td>\n",
       "    </tr>\n",
       "    <tr>\n",
       "      <th>4</th>\n",
       "      <td>False</td>\n",
       "      <td>False</td>\n",
       "      <td>False</td>\n",
       "      <td>False</td>\n",
       "      <td>False</td>\n",
       "      <td>False</td>\n",
       "      <td>False</td>\n",
       "      <td>False</td>\n",
       "      <td>False</td>\n",
       "      <td>False</td>\n",
       "      <td>...</td>\n",
       "      <td>False</td>\n",
       "      <td>False</td>\n",
       "      <td>False</td>\n",
       "      <td>False</td>\n",
       "      <td>False</td>\n",
       "      <td>False</td>\n",
       "      <td>False</td>\n",
       "      <td>False</td>\n",
       "      <td>False</td>\n",
       "      <td>False</td>\n",
       "    </tr>\n",
       "    <tr>\n",
       "      <th>...</th>\n",
       "      <td>...</td>\n",
       "      <td>...</td>\n",
       "      <td>...</td>\n",
       "      <td>...</td>\n",
       "      <td>...</td>\n",
       "      <td>...</td>\n",
       "      <td>...</td>\n",
       "      <td>...</td>\n",
       "      <td>...</td>\n",
       "      <td>...</td>\n",
       "      <td>...</td>\n",
       "      <td>...</td>\n",
       "      <td>...</td>\n",
       "      <td>...</td>\n",
       "      <td>...</td>\n",
       "      <td>...</td>\n",
       "      <td>...</td>\n",
       "      <td>...</td>\n",
       "      <td>...</td>\n",
       "      <td>...</td>\n",
       "      <td>...</td>\n",
       "    </tr>\n",
       "    <tr>\n",
       "      <th>1465</th>\n",
       "      <td>False</td>\n",
       "      <td>False</td>\n",
       "      <td>False</td>\n",
       "      <td>False</td>\n",
       "      <td>False</td>\n",
       "      <td>False</td>\n",
       "      <td>False</td>\n",
       "      <td>False</td>\n",
       "      <td>False</td>\n",
       "      <td>False</td>\n",
       "      <td>...</td>\n",
       "      <td>False</td>\n",
       "      <td>False</td>\n",
       "      <td>False</td>\n",
       "      <td>False</td>\n",
       "      <td>False</td>\n",
       "      <td>False</td>\n",
       "      <td>False</td>\n",
       "      <td>False</td>\n",
       "      <td>False</td>\n",
       "      <td>False</td>\n",
       "    </tr>\n",
       "    <tr>\n",
       "      <th>1466</th>\n",
       "      <td>False</td>\n",
       "      <td>False</td>\n",
       "      <td>False</td>\n",
       "      <td>False</td>\n",
       "      <td>False</td>\n",
       "      <td>False</td>\n",
       "      <td>False</td>\n",
       "      <td>False</td>\n",
       "      <td>False</td>\n",
       "      <td>False</td>\n",
       "      <td>...</td>\n",
       "      <td>False</td>\n",
       "      <td>False</td>\n",
       "      <td>False</td>\n",
       "      <td>False</td>\n",
       "      <td>False</td>\n",
       "      <td>False</td>\n",
       "      <td>False</td>\n",
       "      <td>False</td>\n",
       "      <td>False</td>\n",
       "      <td>False</td>\n",
       "    </tr>\n",
       "    <tr>\n",
       "      <th>1467</th>\n",
       "      <td>False</td>\n",
       "      <td>False</td>\n",
       "      <td>False</td>\n",
       "      <td>False</td>\n",
       "      <td>False</td>\n",
       "      <td>False</td>\n",
       "      <td>False</td>\n",
       "      <td>False</td>\n",
       "      <td>False</td>\n",
       "      <td>False</td>\n",
       "      <td>...</td>\n",
       "      <td>False</td>\n",
       "      <td>False</td>\n",
       "      <td>False</td>\n",
       "      <td>False</td>\n",
       "      <td>False</td>\n",
       "      <td>False</td>\n",
       "      <td>False</td>\n",
       "      <td>False</td>\n",
       "      <td>False</td>\n",
       "      <td>False</td>\n",
       "    </tr>\n",
       "    <tr>\n",
       "      <th>1468</th>\n",
       "      <td>False</td>\n",
       "      <td>False</td>\n",
       "      <td>False</td>\n",
       "      <td>False</td>\n",
       "      <td>False</td>\n",
       "      <td>False</td>\n",
       "      <td>False</td>\n",
       "      <td>False</td>\n",
       "      <td>False</td>\n",
       "      <td>False</td>\n",
       "      <td>...</td>\n",
       "      <td>False</td>\n",
       "      <td>False</td>\n",
       "      <td>False</td>\n",
       "      <td>False</td>\n",
       "      <td>False</td>\n",
       "      <td>False</td>\n",
       "      <td>False</td>\n",
       "      <td>False</td>\n",
       "      <td>False</td>\n",
       "      <td>False</td>\n",
       "    </tr>\n",
       "    <tr>\n",
       "      <th>1469</th>\n",
       "      <td>False</td>\n",
       "      <td>False</td>\n",
       "      <td>False</td>\n",
       "      <td>False</td>\n",
       "      <td>False</td>\n",
       "      <td>False</td>\n",
       "      <td>False</td>\n",
       "      <td>False</td>\n",
       "      <td>False</td>\n",
       "      <td>False</td>\n",
       "      <td>...</td>\n",
       "      <td>False</td>\n",
       "      <td>False</td>\n",
       "      <td>False</td>\n",
       "      <td>False</td>\n",
       "      <td>False</td>\n",
       "      <td>False</td>\n",
       "      <td>False</td>\n",
       "      <td>False</td>\n",
       "      <td>False</td>\n",
       "      <td>False</td>\n",
       "    </tr>\n",
       "  </tbody>\n",
       "</table>\n",
       "<p>1470 rows × 35 columns</p>\n",
       "</div>"
      ],
      "text/plain": [
       "        Age  Attrition  BusinessTravel  DailyRate  Department  \\\n",
       "0     False      False           False      False       False   \n",
       "1     False      False           False      False       False   \n",
       "2     False      False           False      False       False   \n",
       "3     False      False           False      False       False   \n",
       "4     False      False           False      False       False   \n",
       "...     ...        ...             ...        ...         ...   \n",
       "1465  False      False           False      False       False   \n",
       "1466  False      False           False      False       False   \n",
       "1467  False      False           False      False       False   \n",
       "1468  False      False           False      False       False   \n",
       "1469  False      False           False      False       False   \n",
       "\n",
       "      DistanceFromHome  Education  EducationField  EmployeeCount  \\\n",
       "0                False      False           False          False   \n",
       "1                False      False           False          False   \n",
       "2                False      False           False          False   \n",
       "3                False      False           False          False   \n",
       "4                False      False           False          False   \n",
       "...                ...        ...             ...            ...   \n",
       "1465             False      False           False          False   \n",
       "1466             False      False           False          False   \n",
       "1467             False      False           False          False   \n",
       "1468             False      False           False          False   \n",
       "1469             False      False           False          False   \n",
       "\n",
       "      EmployeeNumber  ...  RelationshipSatisfaction  StandardHours  \\\n",
       "0              False  ...                     False          False   \n",
       "1              False  ...                     False          False   \n",
       "2              False  ...                     False          False   \n",
       "3              False  ...                     False          False   \n",
       "4              False  ...                     False          False   \n",
       "...              ...  ...                       ...            ...   \n",
       "1465           False  ...                     False          False   \n",
       "1466           False  ...                     False          False   \n",
       "1467           False  ...                     False          False   \n",
       "1468           False  ...                     False          False   \n",
       "1469           False  ...                     False          False   \n",
       "\n",
       "      StockOptionLevel  TotalWorkingYears  TrainingTimesLastYear  \\\n",
       "0                False              False                  False   \n",
       "1                False              False                  False   \n",
       "2                False              False                  False   \n",
       "3                False              False                  False   \n",
       "4                False              False                  False   \n",
       "...                ...                ...                    ...   \n",
       "1465             False              False                  False   \n",
       "1466             False              False                  False   \n",
       "1467             False              False                  False   \n",
       "1468             False              False                  False   \n",
       "1469             False              False                  False   \n",
       "\n",
       "      WorkLifeBalance  YearsAtCompany  YearsInCurrentRole  \\\n",
       "0               False           False               False   \n",
       "1               False           False               False   \n",
       "2               False           False               False   \n",
       "3               False           False               False   \n",
       "4               False           False               False   \n",
       "...               ...             ...                 ...   \n",
       "1465            False           False               False   \n",
       "1466            False           False               False   \n",
       "1467            False           False               False   \n",
       "1468            False           False               False   \n",
       "1469            False           False               False   \n",
       "\n",
       "      YearsSinceLastPromotion  YearsWithCurrManager  \n",
       "0                       False                 False  \n",
       "1                       False                 False  \n",
       "2                       False                 False  \n",
       "3                       False                 False  \n",
       "4                       False                 False  \n",
       "...                       ...                   ...  \n",
       "1465                    False                 False  \n",
       "1466                    False                 False  \n",
       "1467                    False                 False  \n",
       "1468                    False                 False  \n",
       "1469                    False                 False  \n",
       "\n",
       "[1470 rows x 35 columns]"
      ]
     },
     "execution_count": 107,
     "metadata": {},
     "output_type": "execute_result"
    }
   ],
   "source": [
    "hrdf.isnull()"
   ]
  },
  {
   "cell_type": "code",
   "execution_count": 182,
   "id": "cbe49631",
   "metadata": {},
   "outputs": [
    {
     "data": {
      "text/plain": [
       "array([[<AxesSubplot:title={'center':'Age'}>,\n",
       "        <AxesSubplot:title={'center':'DailyRate'}>,\n",
       "        <AxesSubplot:title={'center':'DistanceFromHome'}>,\n",
       "        <AxesSubplot:title={'center':'Education'}>,\n",
       "        <AxesSubplot:title={'center':'EmployeeCount'}>],\n",
       "       [<AxesSubplot:title={'center':'EmployeeNumber'}>,\n",
       "        <AxesSubplot:title={'center':'EnvironmentSatisfaction'}>,\n",
       "        <AxesSubplot:title={'center':'HourlyRate'}>,\n",
       "        <AxesSubplot:title={'center':'JobInvolvement'}>,\n",
       "        <AxesSubplot:title={'center':'JobLevel'}>],\n",
       "       [<AxesSubplot:title={'center':'JobSatisfaction'}>,\n",
       "        <AxesSubplot:title={'center':'MonthlyIncome'}>,\n",
       "        <AxesSubplot:title={'center':'MonthlyRate'}>,\n",
       "        <AxesSubplot:title={'center':'NumCompaniesWorked'}>,\n",
       "        <AxesSubplot:title={'center':'PercentSalaryHike'}>],\n",
       "       [<AxesSubplot:title={'center':'PerformanceRating'}>,\n",
       "        <AxesSubplot:title={'center':'RelationshipSatisfaction'}>,\n",
       "        <AxesSubplot:title={'center':'StandardHours'}>,\n",
       "        <AxesSubplot:title={'center':'StockOptionLevel'}>,\n",
       "        <AxesSubplot:title={'center':'TotalWorkingYears'}>],\n",
       "       [<AxesSubplot:title={'center':'TrainingTimesLastYear'}>,\n",
       "        <AxesSubplot:title={'center':'WorkLifeBalance'}>,\n",
       "        <AxesSubplot:title={'center':'YearsAtCompany'}>,\n",
       "        <AxesSubplot:title={'center':'YearsInCurrentRole'}>,\n",
       "        <AxesSubplot:title={'center':'YearsSinceLastPromotion'}>],\n",
       "       [<AxesSubplot:title={'center':'YearsWithCurrManager'}>,\n",
       "        <AxesSubplot:>, <AxesSubplot:>, <AxesSubplot:>, <AxesSubplot:>]],\n",
       "      dtype=object)"
      ]
     },
     "execution_count": 182,
     "metadata": {},
     "output_type": "execute_result"
    },
    {
     "data": {
      "image/png": "[encoded data removed]",
      "text/plain": [
       "<Figure size 432x288 with 30 Axes>"
      ]
     },
     "metadata": {
      "needs_background": "light"
     },
     "output_type": "display_data"
    }
   ],
   "source": [
    "hrdf.hist()"
   ]
  },
  {
   "cell_type": "code",
   "execution_count": null,
   "id": "f1550bf2",
   "metadata": {},
   "outputs": [],
   "source": []
  }
 ],
 "metadata": {
  "kernelspec": {
   "display_name": "Python 3 (ipykernel)",
   "language": "python",
   "name": "python3"
  },
  "language_info": {
   "codemirror_mode": {
    "name": "ipython",
    "version": 3
   },
   "file_extension": ".py",
   "mimetype": "text/x-python",
   "name": "python",
   "nbconvert_exporter": "python",
   "pygments_lexer": "ipython3",
   "version": "3.9.7"
  }
 },
 "nbformat": 4,
 "nbformat_minor": 5
}
