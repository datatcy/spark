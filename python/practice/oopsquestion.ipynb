{
 "cells": [
  {
   "cell_type": "markdown",
   "id": "985f8247",
   "metadata": {},
   "source": [
    "# Module: OOP Assignments\n",
    "## Lesson: Polymorphism, Abstraction, and Encapsulation\n",
    "### Assignment 1: Polymorphism with Methods\n",
    "\n",
    "Create a base class named `Shape` with a method `area`. Create two derived classes `Circle` and `Square` that override the `area` method. Create a list of `Shape` objects and call the `area` method on each object to demonstrate polymorphism.\n",
    "\n",
    "### Assignment 2: Polymorphism with Function Arguments\n",
    "\n",
    "Create a function named `describe_shape` that takes a `Shape` object as an argument and calls its `area` method. Create objects of `Circle` and `Square` classes and pass them to the `describe_shape` function.\n",
    "\n",
    "### Assignment 3: Abstract Base Class with Abstract Methods\n",
    "\n",
    "Create an abstract base class named `Vehicle` with an abstract method `start_engine`. Create derived classes `Car` and `Bike` that implement the `start_engine` method. Create objects of the derived classes and call the `start_engine` method.\n",
    "\n",
    "### Assignment 4: Abstract Base Class with Concrete Methods\n",
    "\n",
    "In the `Vehicle` class, add a concrete method `fuel_type` that returns a generic fuel type. Override this method in `Car` and `Bike` classes to return specific fuel types. Create objects of the derived classes and call the `fuel_type` method.\n",
    "\n",
    "### Assignment 5: Encapsulation with Private Attributes\n",
    "\n",
    "Create a class named `BankAccount` with private attributes `account_number` and `balance`. Add methods to deposit and withdraw money, and to check the balance. Ensure that the balance cannot be accessed directly.\n",
    "\n",
    "### Assignment 6: Encapsulation with Property Decorators\n",
    "\n",
    "In the `BankAccount` class, use property decorators to get and set the `balance` attribute. Ensure that the balance cannot be set to a negative value.\n",
    "\n",
    "### Assignment 7: Combining Encapsulation and Inheritance\n",
    "\n",
    "Create a base class named `Person` with private attributes `name` and `age`. Add methods to get and set these attributes. Create a derived class named `Student` that adds an attribute `student_id`. Create an object of the `Student` class and test the encapsulation.\n",
    "\n",
    "### Assignment 8: Polymorphism with Inheritance\n",
    "\n",
    "Create a base class named `Animal` with a method `speak`. Create two derived classes `Dog` and `Cat` that override the `speak` method. Create a list of `Animal` objects and call the `speak` method on each object to demonstrate polymorphism.\n",
    "\n",
    "### Assignment 9: Abstract Methods in Base Class\n",
    "\n",
    "Create an abstract base class named `Employee` with an abstract method `calculate_salary`. Create two derived classes `FullTimeEmployee` and `PartTimeEmployee` that implement the `calculate_salary` method. Create objects of the derived classes and call the `calculate_salary` method.\n",
    "\n",
    "### Assignment 10: Encapsulation in Data Classes\n",
    "\n",
    "Create a data class named `Product` with private attributes `product_id`, `name`, and `price`. Add methods to get and set these attributes. Ensure that the price cannot be set to a negative value.\n",
    "\n",
    "### Assignment 11: Polymorphism with Operator Overloading\n",
    "\n",
    "Create a class named `Vector` with attributes `x` and `y`. Overload the `+` operator to add two `Vector` objects. Create objects of the class and test the operator overloading.\n",
    "\n",
    "### Assignment 12: Abstract Properties\n",
    "\n",
    "Create an abstract base class named `Appliance` with an abstract property `power`. Create two derived classes `WashingMachine` and `Refrigerator` that implement the `power` property. Create objects of the derived classes and access the `power` property.\n",
    "\n",
    "### Assignment 13: Encapsulation in Class Hierarchies\n",
    "\n",
    "Create a base class named `Account` with private attributes `account_number` and `balance`. Add methods to get and set these attributes. Create a derived class named `SavingsAccount` that adds an attribute `interest_rate`. Create an object of the `SavingsAccount` class and test the encapsulation.\n",
    "\n",
    "### Assignment 14: Polymorphism with Multiple Inheritance\n",
    "\n",
    "Create a class named `Flyer` with a method `fly`. Create a class named `Swimmer` with a method `swim`. Create a class named `Superhero` that inherits from both `Flyer` and `Swimmer` and overrides both methods. Create an object of the `Superhero` class and call both methods.\n",
    "\n",
    "### Assignment 15: Abstract Methods and Multiple Inheritance\n",
    "\n",
    "Create an abstract base class named `Worker` with an abstract method `work`. Create two derived classes `Engineer` and `Doctor` that implement the `work` method. Create another derived class `Scientist` that inherits from both `Engineer` and `Doctor`. Create an object of the `Scientist` class and call the `work` method."
   ]
  },
  {
   "cell_type": "code",
   "execution_count": 33,
   "id": "44441309",
   "metadata": {},
   "outputs": [
    {
     "name": "stdout",
     "output_type": "stream",
     "text": [
      "This is Circle Area\n",
      "This is Square\n",
      "Circle: None Square: None "
     ]
    }
   ],
   "source": [
    "#1 Create a base class named Shape with a method area. Create two derived classes Circle \n",
    "# and Square that override the area method. Create a list of Shape objects and call the \n",
    "# area method on each object to demonstrate polymorphism.\n",
    "\n",
    "class Shape:\n",
    "    def area(self):\n",
    "        print('this is area')\n",
    "class Circle(Shape):\n",
    "    def area(self):\n",
    "        print('This is Circle Area')\n",
    "class Square(Shape):\n",
    "    def area(self):\n",
    "        print('This is Square')\n",
    "    \n",
    "x = Circle()\n",
    "y = Square()\n",
    "print(f'Circle: {x.area()} Square: {y.area()}',end=' ')"
   ]
  },
  {
   "cell_type": "code",
   "execution_count": 25,
   "id": "25c09bcc",
   "metadata": {},
   "outputs": [
    {
     "name": "stdout",
     "output_type": "stream",
     "text": [
      "This is Circle Area\n",
      "None\n",
      "This is Square\n",
      "None\n"
     ]
    }
   ],
   "source": [
    "#2 Create a function named describe_shape that takes a Shape object as an argument and \n",
    "# calls its area method. Create objects of Circle and Square classes and pass them to the \n",
    "# describe_shape function.\n",
    "\n",
    "class Shape:\n",
    "    def area(self):\n",
    "        print('this is area')\n",
    "class Circle(Shape):\n",
    "    def area(self):\n",
    "        print('This is Circle Area')\n",
    "class Square(Shape):\n",
    "    def area(self):\n",
    "        print('This is Square')\n",
    "\n",
    "def spe(a):\n",
    "    for i in range(0,len(a)):\n",
    "        print(a[i].area())\n",
    "    \n",
    "x = Circle()\n",
    "y = Square()\n",
    "z = [x,y]\n",
    "\n",
    "spe(z)"
   ]
  },
  {
   "cell_type": "code",
   "execution_count": 49,
   "id": "2da86f9e",
   "metadata": {},
   "outputs": [
    {
     "name": "stdout",
     "output_type": "stream",
     "text": [
      "This is Car : This is Bike : "
     ]
    }
   ],
   "source": [
    "#3 Create an abstract base class named Vehicle with an abstract method start_engine. \n",
    "# Create derived classes Car and Bike that implement the start_engine method. \n",
    "# Create objects of the derived classes and call the start_engine method.\n",
    "\n",
    "#from abc import ABC,abstractmethod\n",
    "class Vehicle(ABC):\n",
    "    @abstractmethod\n",
    "    def start_engine(self):\n",
    "        pass\n",
    "class Car(Vehicle):\n",
    "    def start_engine(self):\n",
    "        return f'This is Car'\n",
    "class Bike(Vehicle):\n",
    "    def start_engine(self):\n",
    "        return f'This is Bike'\n",
    "\n",
    "def veh(a):\n",
    "    for i in z:\n",
    "        print(i, end=' : ')\n",
    "\n",
    "x = Car()\n",
    "y = Bike()\n",
    "z = [x.start_engine(),y.start_engine()]\n",
    "\n",
    "veh(z)"
   ]
  },
  {
   "cell_type": "code",
   "execution_count": 53,
   "id": "8d006b3d",
   "metadata": {},
   "outputs": [
    {
     "name": "stdout",
     "output_type": "stream",
     "text": [
      "car fuel Bike fuel\n"
     ]
    }
   ],
   "source": [
    "#4 In the Vehicle class, add a concrete method fuel_type that returns a generic fuel type.\n",
    "# Override this method in Car and Bike classes to return specific fuel types. \n",
    "# Create objects of the derived classes and call the fuel_type method.\n",
    "\n",
    "class Vehicle:\n",
    "    def fuel_type(self):\n",
    "        return 'generic fuel'\n",
    "\n",
    "class Car(Vehicle):\n",
    "    def fuel_type(self):\n",
    "        return 'car fuel'\n",
    "class Bike(Vehicle):\n",
    "    def fuel_type(self):\n",
    "        return 'Bike fuel'\n",
    "    \n",
    "def auto(x,y):\n",
    "    print(x,y)\n",
    "    \n",
    "x = Car().fuel_type()\n",
    "y = Bike().fuel_type()\n",
    "\n",
    "auto(x,y)"
   ]
  },
  {
   "cell_type": "code",
   "execution_count": 67,
   "id": "44728106",
   "metadata": {},
   "outputs": [
    {
     "name": "stdout",
     "output_type": "stream",
     "text": [
      "Amount 100 withdraw from account 12345 balance is 900\n"
     ]
    }
   ],
   "source": [
    "#5 Create a class named BankAccount with private attributes account_number and balance. \n",
    "# Add methods to deposit and withdraw money, and to check the balance. Ensure that the \n",
    "# balance cannot be accessed directly.\n",
    "\n",
    "class BankAccount:\n",
    "    def __init__(self,account_number,balance):\n",
    "        self.__account_number = account_number\n",
    "        self.__balance = balance\n",
    "    def deposit(self,amount):\n",
    "        x = amount\n",
    "        self.__balance = x\n",
    "        print(f'Amount {x} added to account {self.__account_number} balance is {self.__balance}')\n",
    "    def withdraw(self,amount):\n",
    "        x = amount\n",
    "        if self.__balance >= x:\n",
    "            self.__balance -= x\n",
    "            print(f'Amount {x} withdraw from account {self.__account_number} balance is {self.__balance}')\n",
    "        else:\n",
    "            print(f'insufficient amount')\n",
    "\n",
    "x = BankAccount(12345,1000)\n",
    "x.withdraw(100)"
   ]
  },
  {
   "cell_type": "code",
   "execution_count": 86,
   "id": "83826d84",
   "metadata": {},
   "outputs": [
    {
     "name": "stdout",
     "output_type": "stream",
     "text": [
      "Account Number: 687 Balance: 1000\n"
     ]
    }
   ],
   "source": [
    "#6 In the BankAccount class, use property decorators to get and set the balance attribute. \n",
    "# Ensure that the balance cannot be set to a negative value.\n",
    "class BankAccount:\n",
    "    def __init__(self,account_number,balance):\n",
    "        self.__account_number = account_number\n",
    "        self.__balance = balance\n",
    "    def get_method(self):\n",
    "        return self.__account_number,self.__balance \n",
    "    def set_method(self,account_number,balance):\n",
    "        if account_number > 0 and balance > 0:\n",
    "            self.__account_number = account_number\n",
    "            self.__balance = balance\n",
    "        else:\n",
    "            print(f'Enter +ve Number')\n",
    "    def deposit(self,amount):\n",
    "        x = amount\n",
    "        self.__balance = x\n",
    "        print(f'Amount {x} added to account {self.__account_number} balance is {self.__balance}')\n",
    "    def withdraw(self,amount):\n",
    "        x = amount\n",
    "        if self.__balance >= x:\n",
    "            self.__balance -= x\n",
    "            print(f'Amount {x} withdraw from account {self.__account_number} balance is {self.__balance}')\n",
    "        else:\n",
    "            print(f'insufficient amount')\n",
    "x = BankAccount(12345,1000)\n",
    "x.set_method(687,1000)\n",
    "a,b = x.get_method()\n",
    "print(f'Account Number: {a} Balance: {b}')"
   ]
  },
  {
   "cell_type": "code",
   "execution_count": 99,
   "id": "91914b2e",
   "metadata": {},
   "outputs": [
    {
     "data": {
      "text/plain": [
       "101"
      ]
     },
     "execution_count": 99,
     "metadata": {},
     "output_type": "execute_result"
    }
   ],
   "source": [
    "#7 Create a base class named Person with private attributes name and age. \n",
    "# Add methods to get and set these attributes. Create a derived class named Student that\n",
    "# adds an attribute student_id. Create an object of the Student class and test the \n",
    "# encapsulation.\n",
    "\n",
    "class Person:\n",
    "    def __init__(self,name,age):\n",
    "        self._name = name\n",
    "        self._age = age\n",
    "    def get_method(self):\n",
    "        return self.__name, self.__age\n",
    "    def set_method(self,name,age):\n",
    "        self.__name = name\n",
    "        self.__age = age\n",
    "class Student(Person):\n",
    "    def __init__(self,name,age,student_id):\n",
    "        super().__init__(name,age)\n",
    "        self.student_id = student_id\n",
    "c = Student('apple',10,101)\n",
    "c.set_method('orange',11)\n",
    "c.get_method()\n",
    "c.student_id"
   ]
  },
  {
   "cell_type": "code",
   "execution_count": 106,
   "id": "60e49011",
   "metadata": {},
   "outputs": [
    {
     "name": "stdout",
     "output_type": "stream",
     "text": [
      "Dog\n"
     ]
    }
   ],
   "source": [
    "#8 Create a base class named Animal with a method speak. \n",
    "# Create two derived classes Dog and Cat that override the speak method. \n",
    "# Create a list of Animal objects and call the speak method on each object \n",
    "# to demonstrate polymorphism.\n",
    "\n",
    "class Animal:\n",
    "    def speak(self):\n",
    "        print('animal')\n",
    "class Dog(Animal):\n",
    "    Animal.speak\n",
    "    def speak(self):\n",
    "        print('Dog')\n",
    "        \n",
    "x = Dog()\n",
    "x.speak()"
   ]
  },
  {
   "cell_type": "code",
   "execution_count": 120,
   "id": "8f3f7b42",
   "metadata": {},
   "outputs": [
    {
     "name": "stdout",
     "output_type": "stream",
     "text": [
      "WashingMachine: 500W Refrigerator: 300W\n"
     ]
    }
   ],
   "source": [
    "#12 \n",
    "class Appliance(ABC):\n",
    "    @property\n",
    "    @abstractmethod\n",
    "    def power(self):\n",
    "        pass\n",
    "\n",
    "class WashingMachine(Appliance):\n",
    "    @property\n",
    "    def power(self):\n",
    "        return \"500W\"\n",
    "\n",
    "class Refrigerator(Appliance):\n",
    "    @property\n",
    "    def power(self):\n",
    "        return \"300W\"\n",
    "a = WashingMachine()\n",
    "b = Refrigerator()\n",
    "print(f'WashingMachine: {a.power} Refrigerator: {b.power}')"
   ]
  },
  {
   "cell_type": "code",
   "execution_count": 12,
   "id": "0a9a8be6",
   "metadata": {},
   "outputs": [
    {
     "name": "stdout",
     "output_type": "stream",
     "text": [
      "100\n",
      "2\n",
      "100\n",
      "4\n"
     ]
    }
   ],
   "source": [
    "class Car:\n",
    "    number = 100\n",
    "    def seats(self,a):\n",
    "        print(a)\n",
    "        \n",
    "x = Car()\n",
    "print(x.number)\n",
    "x.seats(2)\n",
    "\n",
    "y = Car()\n",
    "print(y.number)\n",
    "y.seats(4)"
   ]
  },
  {
   "cell_type": "markdown",
   "id": "2d2944cf",
   "metadata": {},
   "source": [
    "#### Class Methods Vs Instance Method"
   ]
  },
  {
   "cell_type": "code",
   "execution_count": 19,
   "id": "bd1db1fb",
   "metadata": {},
   "outputs": [
    {
     "name": "stdout",
     "output_type": "stream",
     "text": [
      "MG Hector\n",
      "Standing and current speed is 0\n"
     ]
    }
   ],
   "source": [
    "'''\n",
    "Class Attributes:\n",
    "1. Defined without self\n",
    "2. Accessed using Class name\n",
    "3. Shared by all objects of the class\n",
    "\n",
    "Instance Attributes:\n",
    "1. Defined with the self\n",
    "2. Accessed using object of the class\n",
    "3. Not shared\n",
    "'''\n",
    "\n",
    "class Car:\n",
    "    brand = 'MG Hector'\n",
    "    def launch_year():\n",
    "        return 2020\n",
    "    \n",
    "# how to access Class Methods\n",
    "print(Car.brand)\n",
    "Car.launch_year()\n",
    "\n",
    "## Instance Method\n",
    "class Bike:\n",
    "    def __init__(self):\n",
    "        self.current_state = 'Standing'\n",
    "        self.current_speed = 0\n",
    "    def show_state(self):\n",
    "        print(f'{self.current_state} and current speed is {self.current_speed}')\n",
    "      \n",
    "##How to access Instance Method\n",
    "\n",
    "bike1 = Bike()\n",
    "bike2 = Bike()\n",
    "bike1.current_speed\n",
    "bike1.current_state\n",
    "bike1.show_state()\n",
    "\n"
   ]
  },
  {
   "cell_type": "code",
   "execution_count": 20,
   "id": "b542a979",
   "metadata": {},
   "outputs": [],
   "source": [
    "class Bike:\n",
    "    brand = 'MG Hector' # class variable\n",
    "    \n",
    "    @classmethod\n",
    "    def launch_year(cls): # to access this class method using Bike.lunch_year and cls is manditory\n",
    "        return 2020\n",
    "    def __init__(self):\n",
    "        self.current_state = 'Standing'\n",
    "        self.current_speed = 0\n",
    "    def show_state(self):\n",
    "        print(f'{self.current_state} and current speed is {self.current_speed}')\n",
    "      "
   ]
  },
  {
   "cell_type": "code",
   "execution_count": 34,
   "id": "5ef6fc51",
   "metadata": {},
   "outputs": [
    {
     "name": "stdout",
     "output_type": "stream",
     "text": [
      "This is from Dog jimmy  dog\n",
      "jimmy dog None\n",
      "This is from Cat kitty  cat\n",
      "kitty cat None\n"
     ]
    }
   ],
   "source": [
    "# Write a python class Pet that is initialized with the name and species of the pet. \n",
    "# It contains an instance method to display the info on the screen. Define two other \n",
    "# classes Dog and Cat. Call the instance method of Pet class using the Dog and Cat objects\n",
    "\n",
    "class Pet:\n",
    "    def __init__(self,name,species):\n",
    "        self.name = name\n",
    "        self.species = species\n",
    "    def out(self):\n",
    "        return f'{self.name}  {self.species}'\n",
    "    \n",
    "class Dog(Pet):\n",
    "    def out(self):\n",
    "        print(f'This is from Dog {self.name}  {self.species}')\n",
    "        \n",
    "class Cat(Pet):\n",
    "    def out(self):\n",
    "        print(f'This is from Cat {self.name}  {self.species}')\n",
    "\n",
    "d = Dog('jimmy','dog')\n",
    "c = Cat('kitty','cat')\n",
    "\n",
    "print(f'{d.name} {d.species} {d.out()}')\n",
    "print(f'{c.name} {c.species} {c.out()}')"
   ]
  },
  {
   "cell_type": "code",
   "execution_count": 63,
   "id": "ba672d75",
   "metadata": {},
   "outputs": [
    {
     "data": {
      "text/plain": [
       "'pladrne'"
      ]
     },
     "execution_count": 63,
     "metadata": {},
     "output_type": "execute_result"
    }
   ],
   "source": [
    "#Create a class with two methods, the first one to get the input string from the user, \n",
    "# and the second one print the odd indexed letters from the input string.\\n\",\n",
    "\n",
    "class OddEven:\n",
    "    def __init__(self,x):\n",
    "        self.x = x\n",
    "    def one(self):\n",
    "        lst = ''\n",
    "        for i in range(0,len(self.x)):\n",
    "            if i%2 == 1:\n",
    "                lst += self.x[i]\n",
    "        return lst\n",
    "                 \n",
    "x = OddEven('appleandorange')\n",
    "x.one()\n"
   ]
  },
  {
   "cell_type": "code",
   "execution_count": null,
   "id": "996bd550",
   "metadata": {},
   "outputs": [],
   "source": []
  }
 ],
 "metadata": {
  "kernelspec": {
   "display_name": "Python 3 (ipykernel)",
   "language": "python",
   "name": "python3"
  },
  "language_info": {
   "codemirror_mode": {
    "name": "ipython",
    "version": 3
   },
   "file_extension": ".py",
   "mimetype": "text/x-python",
   "name": "python",
   "nbconvert_exporter": "python",
   "pygments_lexer": "ipython3",
   "version": "3.9.7"
  }
 },
 "nbformat": 4,
 "nbformat_minor": 5
}
