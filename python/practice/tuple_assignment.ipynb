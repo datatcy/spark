{
 "cells": [
  {
   "cell_type": "markdown",
   "id": "6cade624",
   "metadata": {},
   "source": [
    "# Module 3: Data Structures Assignments\n",
    "## Lesson 3.2: Tuples\n",
    "### Assignment 1: Creating and Accessing Tuples\n",
    "\n",
    "Create a tuple with the first 10 positive integers. Print the tuple.\n",
    "\n",
    "### Assignment 2: Accessing Tuple Elements\n",
    "\n",
    "Print the first, middle, and last elements of the tuple created in Assignment 1.\n",
    "\n",
    "### Assignment 3: Tuple Slicing\n",
    "\n",
    "Print the first three elements, the last three elements, and the elements from index 2 to 5 of the tuple created in Assignment 1.\n",
    "\n",
    "### Assignment 4: Nested Tuples\n",
    "\n",
    "Create a nested tuple representing a 3x3 matrix and print the matrix. Access and print the element at the second row and third column.\n",
    "\n",
    "### Assignment 5: Tuple Concatenation\n",
    "\n",
    "Concatenate two tuples: (1, 2, 3) and (4, 5, 6). Print the resulting tuple.\n",
    "\n",
    "### Assignment 6: Tuple Methods\n",
    "\n",
    "Create a tuple with duplicate elements and count the occurrences of an element. Find the index of the first occurrence of an element in the tuple.\n",
    "\n",
    "### Assignment 7: Unpacking Tuples\n",
    "\n",
    "Create a tuple with 5 elements and unpack it into 5 variables. Print the variables.\n",
    "\n",
    "### Assignment 8: Tuple Conversion\n",
    "\n",
    "Convert a list of the first 5 positive integers to a tuple. Print the tuple.\n",
    "\n",
    "### Assignment 9: Tuple of Tuples\n",
    "\n",
    "Create a tuple containing 3 tuples, each with 3 elements. Print the tuple of tuples.\n",
    "\n",
    "### Assignment 10: Tuple and List\n",
    "\n",
    "Create a tuple with the first 5 positive integers. Convert it to a list, append the number 6, and convert it back to a tuple. Print the resulting tuple.\n",
    "\n",
    "### Assignment 11: Tuple and String\n",
    "\n",
    "Create a tuple with the characters of a string. Join the tuple elements into a single string. Print the string.\n",
    "\n",
    "### Assignment 12: Tuple and Dictionary\n",
    "\n",
    "Create a dictionary with tuple keys and integer values. Print the dictionary.\n",
    "\n",
    "### Assignment 13: Nested Tuple Iteration\n",
    "\n",
    "Create a nested tuple and iterate over the elements, printing each element.\n",
    "\n",
    "### Assignment 14: Tuple and Set\n",
    "\n",
    "Create a tuple with duplicate elements. Convert it to a set to remove duplicates and print the resulting set.\n",
    "\n",
    "### Assignment 15: Tuple Functions\n",
    "\n",
    "Write functions that take a tuple and return the minimum, maximum, and sum of the elements. Print the results for a sample tuple."
   ]
  },
  {
   "cell_type": "code",
   "execution_count": 19,
   "id": "28f8498e",
   "metadata": {},
   "outputs": [
    {
     "name": "stdout",
     "output_type": "stream",
     "text": [
      "1 2 3 4 5 6 7 8 9 "
     ]
    }
   ],
   "source": [
    "#1 Create a tuple with the first 10 positive integers. Print the tuple.\n",
    "\n",
    "x = (1,2,3,4,5,6,7,8,9)\n",
    "type(x)\n",
    "x\n",
    "for i in x:\n",
    "    print(i, end = \" \")"
   ]
  },
  {
   "cell_type": "code",
   "execution_count": 23,
   "id": "84c588b3",
   "metadata": {},
   "outputs": [
    {
     "name": "stdout",
     "output_type": "stream",
     "text": [
      "first element 1\n",
      "last element 9\n",
      "middle element 5\n"
     ]
    }
   ],
   "source": [
    "#2 Print the first, middle, and last elements of the tuple created in Assignment 1.\n",
    "\n",
    "print(f'first element {x[0]}')\n",
    "print(f'last element {x[-1]}')\n",
    "print(f'middle element {x[int(len(x)/2)]}')"
   ]
  },
  {
   "cell_type": "code",
   "execution_count": 30,
   "id": "a2c9a97d",
   "metadata": {},
   "outputs": [
    {
     "name": "stdout",
     "output_type": "stream",
     "text": [
      "first three elements (1, 2, 3)\n",
      "last three elements (7, 8, 9)\n",
      "2 to 5 elements (3, 4, 5)\n"
     ]
    }
   ],
   "source": [
    "#3 Print the first three elements, the last three elements, and the elements \n",
    "# from index 2 to 5 of the tuple created in Assignment 1.\n",
    "\n",
    "print(f'first three elements {x[:3]}')\n",
    "print(f'last three elements {x[6:]}')\n",
    "print(f'2 to 5 elements {x[2:5]}')"
   ]
  },
  {
   "cell_type": "code",
   "execution_count": 33,
   "id": "b07ec79c",
   "metadata": {},
   "outputs": [
    {
     "data": {
      "text/plain": [
       "6"
      ]
     },
     "execution_count": 33,
     "metadata": {},
     "output_type": "execute_result"
    }
   ],
   "source": [
    "#4 Create a nested tuple representing a 3x3 matrix and print the matrix.\n",
    "# Access and print the element at the second row and third column.\n",
    "\n",
    "x = (((1,2,3),(4,5,6),(7,8,9)))\n",
    "x[1][2]"
   ]
  },
  {
   "cell_type": "code",
   "execution_count": 36,
   "id": "de476668",
   "metadata": {},
   "outputs": [
    {
     "name": "stdout",
     "output_type": "stream",
     "text": [
      "(1, 2, 3, 4, 5, 6)\n"
     ]
    }
   ],
   "source": [
    "#5 Concatenate two tuples: (1, 2, 3) and (4, 5, 6). Print the resulting tuple.\n",
    "x = (1,2,3)\n",
    "y = (4,5,6)\n",
    "\n",
    "z = x+y\n",
    "print(z)"
   ]
  },
  {
   "cell_type": "code",
   "execution_count": 42,
   "id": "d9a3e79c",
   "metadata": {},
   "outputs": [
    {
     "name": "stdout",
     "output_type": "stream",
     "text": [
      "count: 3\n",
      "count: 3\n",
      "count: 3\n",
      "count: 1\n",
      "count: 1\n",
      "count: 1\n",
      "count: 2\n",
      "count: 2\n",
      " index of first occurrence: 0\n"
     ]
    }
   ],
   "source": [
    "#6 Create a tuple with duplicate elements and count the occurrences of an element. \n",
    "# Find the index of the first occurrence of an element in the tuple.\n",
    "\n",
    "x = (1,1,1,3,4,5,7,7)\n",
    "for i in x:\n",
    "    print(f'count: {x.count(i)}')\n",
    "print(f'index of first occurrence: {x.index(1)}')"
   ]
  },
  {
   "cell_type": "code",
   "execution_count": 45,
   "id": "07a19c8d",
   "metadata": {},
   "outputs": [
    {
     "name": "stdout",
     "output_type": "stream",
     "text": [
      "1 2 3 4 5\n"
     ]
    }
   ],
   "source": [
    "#7 Create a tuple with 5 elements and unpack it into 5 variables. Print the variables.\n",
    "\n",
    "x = (1,2,3,4,5)\n",
    "a,b,c,d,e = x\n",
    "print(a,b,c,d,e)"
   ]
  },
  {
   "cell_type": "code",
   "execution_count": 50,
   "id": "9fb700a5",
   "metadata": {},
   "outputs": [
    {
     "name": "stdout",
     "output_type": "stream",
     "text": [
      "<class 'tuple'>\n"
     ]
    }
   ],
   "source": [
    "#8 Convert a list of the first 5 positive integers to a tuple. Print the tuple.\n",
    "x = [1,2,3,4,5]\n",
    "\n",
    "print(type(tuple(x)))"
   ]
  },
  {
   "cell_type": "code",
   "execution_count": 54,
   "id": "95bf8edb",
   "metadata": {},
   "outputs": [
    {
     "name": "stdout",
     "output_type": "stream",
     "text": [
      "(1, 2, 3)   (4, 5, 6)   (7, 8, 9)\n"
     ]
    }
   ],
   "source": [
    "#9 Create a tuple containing 3 tuples, each with 3 elements. Print the tuple of tuples.\n",
    "x = ((1,2,3),(4,5,6),(7,8,9))\n",
    "type(x)\n",
    "print(x[0],' ',x[1],' ',x[2])"
   ]
  },
  {
   "cell_type": "code",
   "execution_count": 64,
   "id": "840dbb3e",
   "metadata": {},
   "outputs": [
    {
     "data": {
      "text/plain": [
       "(1, 2, 3, 4, 5, 6)"
      ]
     },
     "execution_count": 64,
     "metadata": {},
     "output_type": "execute_result"
    }
   ],
   "source": [
    "#10 Create a tuple with the first 5 positive integers. Convert it to a list, append the number 6, \n",
    "# and convert it back to a tuple. Print the resulting tuple.\n",
    "\n",
    "x = (1,2,3,4,5)\n",
    "type(x)\n",
    "y = list(x)\n",
    "type(y)\n",
    "y.append(6)\n",
    "y\n",
    "z = tuple(y)\n",
    "type(z)\n",
    "z"
   ]
  },
  {
   "cell_type": "code",
   "execution_count": 65,
   "id": "aa8f3714",
   "metadata": {},
   "outputs": [
    {
     "data": {
      "text/plain": [
       "'abc'"
      ]
     },
     "execution_count": 65,
     "metadata": {},
     "output_type": "execute_result"
    }
   ],
   "source": [
    "#11 Create a tuple with the characters of a string. Join the tuple elements into a single string. Print the string.\n",
    "\n",
    "x = ('a','b','c')\n",
    "y = ''.join(x)\n",
    "y"
   ]
  },
  {
   "cell_type": "code",
   "execution_count": 68,
   "id": "a113a2eb",
   "metadata": {},
   "outputs": [
    {
     "data": {
      "text/plain": [
       "'zb'"
      ]
     },
     "execution_count": 68,
     "metadata": {},
     "output_type": "execute_result"
    }
   ],
   "source": [
    "#12 Create a dictionary with tuple keys and integer values. Print the dictionary.\n",
    "\n",
    "x = ({'name':'zb','value':0})\n",
    "x['name']"
   ]
  },
  {
   "cell_type": "code",
   "execution_count": 72,
   "id": "ca5be9e8",
   "metadata": {},
   "outputs": [
    {
     "data": {
      "text/plain": [
       "'b2'"
      ]
     },
     "execution_count": 72,
     "metadata": {},
     "output_type": "execute_result"
    }
   ],
   "source": [
    "#13 Create a nested tuple and iterate over the elements, printing each element.\n",
    "\n",
    "x = (((1,2,3),('a','b',('a1','b2'))))\n",
    "x[1][2][1]"
   ]
  },
  {
   "cell_type": "code",
   "execution_count": 74,
   "id": "10f5d166",
   "metadata": {},
   "outputs": [
    {
     "data": {
      "text/plain": [
       "{1, 3, 5}"
      ]
     },
     "execution_count": 74,
     "metadata": {},
     "output_type": "execute_result"
    }
   ],
   "source": [
    "#14 Create a tuple with duplicate elements. Convert it to a set to remove duplicates and print the resulting set.\n",
    "\n",
    "x = (1,1,1,1,3,5)\n",
    "y = set(x)\n",
    "y"
   ]
  },
  {
   "cell_type": "code",
   "execution_count": 78,
   "id": "f0d8f962",
   "metadata": {},
   "outputs": [
    {
     "data": {
      "text/plain": [
       "30"
      ]
     },
     "execution_count": 78,
     "metadata": {},
     "output_type": "execute_result"
    }
   ],
   "source": [
    "#15 Write functions that take a tuple and return the minimum, maximum, and sum of the elements.\n",
    "# Print the results for a sample tuple.\n",
    "\n",
    "x = (1,2,3,10,5,9)\n",
    "\n",
    "def sample(x):\n",
    "    print(f'maximum value:{max()})\n"
   ]
  },
  {
   "cell_type": "code",
   "execution_count": null,
   "id": "18586f85",
   "metadata": {},
   "outputs": [],
   "source": []
  }
 ],
 "metadata": {
  "kernelspec": {
   "display_name": "Python 3 (ipykernel)",
   "language": "python",
   "name": "python3"
  },
  "language_info": {
   "codemirror_mode": {
    "name": "ipython",
    "version": 3
   },
   "file_extension": ".py",
   "mimetype": "text/x-python",
   "name": "python",
   "nbconvert_exporter": "python",
   "pygments_lexer": "ipython3",
   "version": "3.9.7"
  }
 },
 "nbformat": 4,
 "nbformat_minor": 5
}
