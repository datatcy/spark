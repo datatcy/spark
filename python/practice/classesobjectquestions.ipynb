{
 "cells": [
  {
   "cell_type": "markdown",
   "id": "994e48cb",
   "metadata": {},
   "source": [
    "# Module: Classes and Objects Assignments\n",
    "## Lesson: Creating and Working with Classes and Objects\n",
    "### Assignment 1: Basic Class and Object Creation\n",
    "\n",
    "Create a class named `Car` with attributes `make`, `model`, and `year`. Create an object of the class and print its attributes.\n",
    "\n",
    "### Assignment 2: Methods in Class\n",
    "\n",
    "Add a method named `start_engine` to the `Car` class that prints a message when the engine starts. Create an object of the class and call the method.\n",
    "\n",
    "### Assignment 3: Class with Constructor\n",
    "\n",
    "Create a class named `Student` with attributes `name` and `age`. Use a constructor to initialize these attributes. Create an object of the class and print its attributes.\n",
    "\n",
    "### Assignment 4: Class with Private Attributes\n",
    "\n",
    "Create a class named `BankAccount` with private attributes `account_number` and `balance`. Add methods to deposit and withdraw money, and to check the balance. Create an object of the class and perform some operations.\n",
    "\n",
    "### Assignment 5: Class Inheritance\n",
    "\n",
    "Create a base class named `Person` with attributes `name` and `age`. Create a derived class named `Employee` that inherits from `Person` and adds an attribute `employee_id`. Create an object of the derived class and print its attributes.\n",
    "\n",
    "### Assignment 6: Method Overriding\n",
    "\n",
    "In the `Employee` class, override the `__str__` method to return a string representation of the object. Create an object of the class and print it.\n",
    "\n",
    "### Assignment 7: Class Composition\n",
    "\n",
    "Create a class named `Address` with attributes `street`, `city`, and `zipcode`. Create a class named `Person` that has an `Address` object as an attribute. Create an object of the `Person` class and print its address.\n",
    "\n",
    "### Assignment 8: Class with Class Variables\n",
    "\n",
    "Create a class named `Counter` with a class variable `count`. Each time an object is created, increment the count. Add a method to get the current count. Create multiple objects and print the count.\n",
    "\n",
    "### Assignment 9: Static Methods\n",
    "\n",
    "Create a class named `MathOperations` with a static method to calculate the square root of a number. Call the static method without creating an object.\n",
    "\n",
    "### Assignment 10: Class with Properties\n",
    "\n",
    "Create a class named `Rectangle` with private attributes `length` and `width`. Use properties to get and set these attributes. Create an object of the class and test the properties.\n",
    "\n",
    "### Assignment 11: Abstract Base Class\n",
    "\n",
    "Create an abstract base class named `Shape` with an abstract method `area`. Create derived classes `Circle` and `Square` that implement the `area` method. Create objects of the derived classes and call the `area` method.\n",
    "\n",
    "### Assignment 12: Operator Overloading\n",
    "\n",
    "Create a class named `Vector` with attributes `x` and `y`. Overload the `+` operator to add two `Vector` objects. Create objects of the class and test the operator overloading.\n",
    "\n",
    "### Assignment 13: Class with Custom Exception\n",
    "\n",
    "Create a custom exception named `InsufficientBalanceError`. In the `BankAccount` class, raise this exception when a withdrawal amount is greater than the balance. Handle the exception and print an appropriate message.\n",
    "\n",
    "### Assignment 14: Class with Context Manager\n",
    "\n",
    "Create a class named `FileManager` that implements the context manager protocol to open and close a file. Use this class to read the contents of a file.\n",
    "\n",
    "### Assignment 15: Chaining Methods\n",
    "\n",
    "Create a class named `Calculator` with methods to add, subtract, multiply, and divide. Each method should return the object itself to allow method chaining. Create an object and chain multiple method calls."
   ]
  },
  {
   "cell_type": "code",
   "execution_count": 13,
   "id": "c9d05a9f",
   "metadata": {},
   "outputs": [
    {
     "name": "stdout",
     "output_type": "stream",
     "text": [
      "Maruthi Omni 1998"
     ]
    }
   ],
   "source": [
    "#1 Create a class named Car with attributes make, model, and year. \n",
    "# Create an object of the class and print its attributes.\n",
    "\n",
    "class Car():\n",
    "    def __init__(self,make,model,year):\n",
    "        self.make = make\n",
    "        self.model = model\n",
    "        self.year = year\n",
    "        \n",
    "maruthi = Car('Maruthi','Omni',1998)\n",
    "print(maruthi.make,maruthi.model,maruthi.year,end='')"
   ]
  },
  {
   "cell_type": "code",
   "execution_count": 14,
   "id": "bb0b0118",
   "metadata": {},
   "outputs": [
    {
     "name": "stdout",
     "output_type": "stream",
     "text": [
      "when the engine starts Maruthi\n",
      "Maruthi Omni 1998 None"
     ]
    }
   ],
   "source": [
    "#2 Add a method named start_engine to the Car class that prints a message \n",
    "# when the engine starts. Create an object of the class and call the method.\n",
    "\n",
    "class Car():\n",
    "    def __init__(self,make,model,year):\n",
    "        self.make = make\n",
    "        self.model = model\n",
    "        self.year = year\n",
    "        \n",
    "    def start_engine(self):\n",
    "        print(f'when the engine starts {self.make}')\n",
    "        \n",
    "maruthi = Car('Maruthi','Omni',1998)\n",
    "print(maruthi.make,maruthi.model,maruthi.year,maruthi.start_engine(),end='')"
   ]
  },
  {
   "cell_type": "code",
   "execution_count": 18,
   "id": "f525e8c2",
   "metadata": {},
   "outputs": [
    {
     "name": "stdout",
     "output_type": "stream",
     "text": [
      "12 syz"
     ]
    }
   ],
   "source": [
    "#3 Create a class named Student with attributes name and age. \n",
    "# Use a constructor to initialize these attributes. \n",
    "# Create an object of the class and print its attributes.\n",
    "\n",
    "class Student():\n",
    "    def __init__(self,name='syz',age=12):\n",
    "        self.name = name\n",
    "        self.age = age\n",
    "x = Student()\n",
    "print(x.age,x.name, end = '')"
   ]
  },
  {
   "cell_type": "code",
   "execution_count": 25,
   "id": "10c3ef86",
   "metadata": {},
   "outputs": [
    {
     "name": "stdout",
     "output_type": "stream",
     "text": [
      "$400 has been added to 123 and total balance is 900\n",
      "$300 has been withdrawn from 123 and total balance is 600\n",
      "inssuficient balance\n"
     ]
    }
   ],
   "source": [
    "#4 Create a class named BankAccount with private attributes account_number and balance. \n",
    "#Add methods to deposit and withdraw money, and to check the balance. \n",
    "#Create an object of the class and perform some operations.\n",
    "\n",
    "class BankAccount():\n",
    "    def __init__(self,account_number,balance):\n",
    "        self.account_number = account_number\n",
    "        self.balance = balance\n",
    "    \n",
    "    def deposit(self,amount):\n",
    "        self.balance += amount\n",
    "        print(f'${amount} has been added to {self.account_number} and total balance is {self.balance}')\n",
    "        \n",
    "    def withdraw(self,amount):\n",
    "        if self.balance >= amount:\n",
    "            self.balance -= amount\n",
    "            print(f'${amount} has been withdrawn from {self.account_number} and total balance is {self.balance}')\n",
    "        else:\n",
    "            print(f'inssuficient balance')\n",
    "        \n",
    "x = BankAccount(123,500)\n",
    "x.deposit(400)\n",
    "x.withdraw(300)\n",
    "x.withdraw(601)"
   ]
  },
  {
   "cell_type": "code",
   "execution_count": 28,
   "id": "368ab93f",
   "metadata": {},
   "outputs": [
    {
     "name": "stdout",
     "output_type": "stream",
     "text": [
      "apple : 24 : 101\n"
     ]
    }
   ],
   "source": [
    "#5 Create a base class named Person with attributes name and age. \n",
    "# Create a derived class named Employee that inherits from Person and adds \n",
    "# an attribute employee_id. Create an object of the derived class and print its attributes.\n",
    "\n",
    "class Person:\n",
    "    def __init__(self,name,age):\n",
    "        self.name = name\n",
    "        self.age = age\n",
    "        \n",
    "class Employee(Person):\n",
    "    def __init__(self,name,age,employee_id):\n",
    "        Person.__init__(self,name,age)\n",
    "        self.employee_id = employee_id\n",
    "        \n",
    "emp = Employee('apple',24,101)\n",
    "print(f'{emp.name} : {emp.age} : {emp.employee_id}')\n"
   ]
  },
  {
   "cell_type": "code",
   "execution_count": 31,
   "id": "1bc9b1b1",
   "metadata": {},
   "outputs": [
    {
     "name": "stdout",
     "output_type": "stream",
     "text": [
      "apple : 34\n"
     ]
    }
   ],
   "source": [
    "#6 In the Employee class, override the __str__ method to \n",
    "#return a string representation of the object. Create an object of the class and print it.\n",
    "\n",
    "class Person:\n",
    "    def __init__(self,name,age):\n",
    "        self.name = name\n",
    "        self.age = age\n",
    "    def __str__(self):\n",
    "        return f'{self.name} : {self.age}'\n",
    "\n",
    "emp = Person('apple',34)\n",
    "print(emp)"
   ]
  },
  {
   "cell_type": "code",
   "execution_count": 38,
   "id": "c19ba4fc",
   "metadata": {},
   "outputs": [
    {
     "name": "stdout",
     "output_type": "stream",
     "text": [
      "274 willow st\n",
      "Oke Tree\n",
      "39745\n"
     ]
    }
   ],
   "source": [
    "#7 Create a class named Address with attributes street, city, and zipcode. \n",
    "#Create a class named Person that has an Address object as an attribute. \n",
    "#Create an object of the Person class and print its address.\n",
    "\n",
    "class Address:\n",
    "    def __init__(self,street,city,zipcode):\n",
    "        self.street = street\n",
    "        self.city = city\n",
    "        self.zipcode = zipcode\n",
    "\n",
    "class Person(Address):\n",
    "    def __init__(self,street,city,zipcode):\n",
    "        Address.__init__(self,street,city,zipcode)\n",
    "    \n",
    "    def __str__(self):\n",
    "        return f'{self.street}\\n{self.city}\\n{self.zipcode}'\n",
    "        \n",
    "per = Person('274 willow st','Oke Tree',39745)\n",
    "print(per)"
   ]
  },
  {
   "cell_type": "code",
   "execution_count": 76,
   "id": "e0b1f6be",
   "metadata": {},
   "outputs": [
    {
     "name": "stdout",
     "output_type": "stream",
     "text": [
      "3\n"
     ]
    }
   ],
   "source": [
    "#8 Create a class named Counter with a class variable count. \n",
    "# Each time an object is created, increment the count. \n",
    "# Add a method to get the current count. Create multiple objects and print the count.\n",
    "\n",
    "class Counter:\n",
    "    count = 0\n",
    "    \n",
    "    def current_count(self):\n",
    "        Counter.count += 1\n",
    "    \n",
    "cnt = Counter()\n",
    "cnt.current_count()\n",
    "cnt1 = Counter()\n",
    "cnt1.current_count()\n",
    "cnt2 = Counter()\n",
    "cnt2.current_count()\n",
    "print(Counter.count)"
   ]
  },
  {
   "cell_type": "code",
   "execution_count": 78,
   "id": "b51c737e",
   "metadata": {},
   "outputs": [
    {
     "name": "stdout",
     "output_type": "stream",
     "text": [
      "4\n"
     ]
    }
   ],
   "source": [
    "#9 Create a class named MathOperations with a static method to \n",
    "# calculate the square root of a number. Call the static method without creating an object.\n",
    "\n",
    "class MathOperations:\n",
    "    @staticmethod\n",
    "    def square(number):\n",
    "        return number**2\n",
    "    \n",
    "print(MathOperations.square(2))\n"
   ]
  },
  {
   "cell_type": "code",
   "execution_count": 84,
   "id": "ad06e463",
   "metadata": {},
   "outputs": [
    {
     "name": "stdout",
     "output_type": "stream",
     "text": [
      "1:2\n",
      "None\n",
      "5:9\n"
     ]
    }
   ],
   "source": [
    "#10 Create a class named Rectangle with private attributes length and width. \n",
    "# Use properties to get and set these attributes. Create an object of the class \n",
    "# and test the properties.\n",
    "\n",
    "class Rectangle:\n",
    "    def __init__(self,length,width):\n",
    "        self.__length = length\n",
    "        self.__width = width\n",
    "        \n",
    "    def get_method(self):\n",
    "        return f'{self.__length}:{self.__width}'\n",
    "        \n",
    "    def set_method(self,length,width):\n",
    "        self.__length = length\n",
    "        self.__width = width\n",
    "\n",
    "rec = Rectangle(1,2)\n",
    "print(rec.get_method())\n",
    "print(rec.set_method(5,9))\n",
    "print(rec.get_method())"
   ]
  },
  {
   "cell_type": "code",
   "execution_count": 88,
   "id": "8728c4cd",
   "metadata": {},
   "outputs": [
    {
     "data": {
      "text/plain": [
       "'this is circle class'"
      ]
     },
     "execution_count": 88,
     "metadata": {},
     "output_type": "execute_result"
    }
   ],
   "source": [
    "#11 Create an abstract base class named Shape with an abstract method area. \n",
    "# Create derived classes Circle and Square that implement the area method. \n",
    "# Create objects of the derived classes and call the area method.\n",
    "\n",
    "class Shape():\n",
    "    \n",
    "    def area(self):\n",
    "        pass\n",
    "class Circle(Shape):\n",
    "    def area(self):\n",
    "        return f'this is circle class'\n",
    "cir = Circle()\n",
    "cir.area()   "
   ]
  },
  {
   "cell_type": "code",
   "execution_count": 90,
   "id": "fca1f6ba",
   "metadata": {},
   "outputs": [
    {
     "name": "stdout",
     "output_type": "stream",
     "text": [
      "(6, 8)\n"
     ]
    }
   ],
   "source": [
    "#12 Create a class named Vector with attributes x and y.\n",
    "# Overload the + operator to add two Vector objects. \n",
    "# Create objects of the class and test the operator overloading.\n",
    "\n",
    "class Vector:\n",
    "    def __init__(self,x,y):\n",
    "        self.x = x\n",
    "        self.y = y\n",
    "    def __add__(self,other):\n",
    "        return f'{self.x+other.x,self.y+other.y}'\n",
    "    \n",
    "v1 = Vector(1,2)\n",
    "v2 = Vector(5,6)\n",
    "print(v1+v2)"
   ]
  },
  {
   "cell_type": "code",
   "execution_count": 98,
   "id": "36ce2070",
   "metadata": {},
   "outputs": [
    {
     "name": "stdout",
     "output_type": "stream",
     "text": [
      "501 is less than 500\n"
     ]
    }
   ],
   "source": [
    "#13 Create a custom exception named InsufficientBalanceError. \n",
    "# In the BankAccount class, raise this exception when a withdrawal \n",
    "# amount is greater than the balance. Handle the exception and print an appropriate message.\n",
    "\n",
    "class BankAccount:\n",
    "    def __init__(self,balance):\n",
    "        self.balance = balance\n",
    "        \n",
    "    def withddrawal(self,amount):\n",
    "        try:\n",
    "            if self.balance >= amount:\n",
    "                self.balance -= amount\n",
    "                print(f'{amount} has been added, balance is {self.balance}')\n",
    "            else:\n",
    "                print(f'{amount} is less than {self.balance}')\n",
    "        except Exception as ex:\n",
    "            print(ex)\n",
    "                  \n",
    "acc = BankAccount(500)\n",
    "acc.balance\n",
    "acc.withddrawal(501)\n",
    "        "
   ]
  },
  {
   "cell_type": "code",
   "execution_count": 104,
   "id": "ffe0736a",
   "metadata": {},
   "outputs": [
    {
     "name": "stdout",
     "output_type": "stream",
     "text": [
      "Enter division greater then zero\n",
      "Addition: 6\n",
      "Subtraction: -2\n",
      "Multiplication: 8\n",
      "Division:None\n"
     ]
    }
   ],
   "source": [
    "#15 Create a class named Calculator with methods to add, subtract, multiply, \n",
    "# and divide. Each method should return the object itself to allow method chaining. \n",
    "# Create an object and chain multiple method calls.\n",
    "\n",
    "class Calculator:\n",
    "    def __init__(self,x,y):\n",
    "        self.x = x\n",
    "        self.y = y\n",
    "    def add(self):\n",
    "        return f'{self.x + self.y}'\n",
    "    def sub(self):\n",
    "        return f'{self.x - self.y}'\n",
    "    def mul(self):\n",
    "        return f'{self.x * self.y}'\n",
    "    def div(self):\n",
    "        if self.y <= 0:\n",
    "            return f'{self.x / self.y}'\n",
    "        else:\n",
    "            print('Enter division greater then zero')\n",
    "def mat(num):\n",
    "    print(f'Addition: {num.add()}\\nSubtraction: {num.sub()}\\nMultiplication: {num.mul()}\\nDivision:{num.div()}')\n",
    "        \n",
    "r = Calculator(2,4)\n",
    "\n",
    "mat(r)"
   ]
  },
  {
   "cell_type": "code",
   "execution_count": null,
   "id": "7365d6c1",
   "metadata": {},
   "outputs": [],
   "source": []
  }
 ],
 "metadata": {
  "kernelspec": {
   "display_name": "Python 3 (ipykernel)",
   "language": "python",
   "name": "python3"
  },
  "language_info": {
   "codemirror_mode": {
    "name": "ipython",
    "version": 3
   },
   "file_extension": ".py",
   "mimetype": "text/x-python",
   "name": "python",
   "nbconvert_exporter": "python",
   "pygments_lexer": "ipython3",
   "version": "3.9.7"
  }
 },
 "nbformat": 4,
 "nbformat_minor": 5
}
