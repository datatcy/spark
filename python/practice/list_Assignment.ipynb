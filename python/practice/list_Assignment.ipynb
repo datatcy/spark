{
 "cells": [
  {
   "cell_type": "markdown",
   "id": "979ac126",
   "metadata": {},
   "source": [
    "# Module 3: Data Structures Assignments\n",
    "## Lesson 3.1: Lists\n",
    "### Assignment 1: Creating and Accessing Lists\n",
    "\n",
    "Create a list of the first 20 positive integers. Print the list.\n",
    "\n",
    "### Assignment 2: Accessing List Elements\n",
    "\n",
    "Print the first, middle, and last elements of the list created in Assignment 1.\n",
    "\n",
    "### Assignment 3: List Slicing\n",
    "\n",
    "Print the first five elements, the last five elements, and the elements from index 5 to 15 of the list created in Assignment 1.\n",
    "\n",
    "### Assignment 4: List Comprehensions\n",
    "\n",
    "Create a new list containing the squares of the first 10 positive integers using a list comprehension. Print the new list.\n",
    "\n",
    "### Assignment 5: Filtering Lists\n",
    "\n",
    "Create a new list containing only the even numbers from the list created in Assignment 1 using a list comprehension. Print the new list.\n",
    "\n",
    "### Assignment 6: List Methods\n",
    "\n",
    "Create a list of random numbers and sort it in ascending and descending order. Remove the duplicates from the list and print the modified list.\n",
    "\n",
    "### Assignment 7: Nested Lists\n",
    "\n",
    "Create a nested list representing a 3x3 matrix and print the matrix. Access and print the element at the second row and third column.\n",
    "\n",
    "### Assignment 8: List of Dictionaries\n",
    "\n",
    "Create a list of dictionaries where each dictionary represents a student with keys 'name' and 'score'. Sort the list of dictionaries by the 'score' in descending order and print the sorted list.\n",
    "\n",
    "### Assignment 9: Matrix Transposition\n",
    "\n",
    "Write a function that takes a 3x3 matrix (nested list) as input and returns its transpose. Print the original and transposed matrices.\n",
    "\n",
    "### Assignment 10: Flattening a Nested List\n",
    "\n",
    "Write a function that takes a nested list and flattens it into a single list. Print the original and flattened lists.\n",
    "\n",
    "### Assignment 11: List Manipulation\n",
    "\n",
    "Create a list of the first 10 positive integers. Remove the elements at indices 2, 4, and 6, and insert the element '99' at index 5. Print the modified list.\n",
    "\n",
    "### Assignment 12: List Zipping\n",
    "\n",
    "Create two lists of the same length. Use the `zip` function to combine these lists into a list of tuples and print the result.\n",
    "\n",
    "### Assignment 13: List Reversal\n",
    "\n",
    "Write a function that takes a list and returns a new list with the elements in reverse order. Print the original and reversed lists.\n",
    "\n",
    "### Assignment 14: List Rotation\n",
    "\n",
    "Write a function that rotates a list by n positions. Print the original and rotated lists.\n",
    "\n",
    "### Assignment 15: List Intersection\n",
    "\n",
    "Write a function that takes two lists and returns a new list containing only the elements that are present in both lists. Print the intersected list."
   ]
  },
  {
   "cell_type": "code",
   "execution_count": 6,
   "id": "cc28c133",
   "metadata": {},
   "outputs": [
    {
     "name": "stdout",
     "output_type": "stream",
     "text": [
      "1\n",
      "2\n",
      "4\n",
      "5\n",
      "6\n",
      "7\n",
      "8\n",
      "9\n",
      "10\n",
      "11\n",
      "12\n",
      "13\n",
      "14\n",
      "15\n",
      "16\n",
      "17\n",
      "18\n",
      "19\n",
      "20\n"
     ]
    }
   ],
   "source": [
    "#1\n",
    "lst = [1,2,4,5,6,7,8,9,10,11,12,13,14,15,16,17,18,19,20]\n",
    "for i in lst:\n",
    "    print(i)"
   ]
  },
  {
   "cell_type": "code",
   "execution_count": 9,
   "id": "a3f636d6",
   "metadata": {},
   "outputs": [
    {
     "name": "stdout",
     "output_type": "stream",
     "text": [
      "first element:1\n",
      "last element:20\n",
      "middle element: 11\n"
     ]
    }
   ],
   "source": [
    "#2 Print the first, middle, and last elements of the list created in Assignment 1.\n",
    "print(f'first element:{lst[0]}')\n",
    "print(f'last element:{lst[-1]}')\n",
    "print(f'middle element: {lst[int(len(lst)/2)] }')"
   ]
  },
  {
   "cell_type": "code",
   "execution_count": 20,
   "id": "f405eb46",
   "metadata": {},
   "outputs": [
    {
     "name": "stdout",
     "output_type": "stream",
     "text": [
      "first five elements: [1, 2, 4, 5, 6]\n",
      "first five elements: [16, 17, 18, 19, 20]\n",
      "first five elements: [7, 8, 9, 10, 11, 12, 13, 14, 15, 16]\n"
     ]
    }
   ],
   "source": [
    "# 3 Print the first five elements, the last five elements, and the elements from index 5 to 15 of the list created in Assignment 1.\n",
    "print(f'first five elements: {lst[:5]}')\n",
    "print(f'first five elements: {lst[14:]}')\n",
    "print(f'first five elements: {lst[5:15]}')\n"
   ]
  },
  {
   "cell_type": "code",
   "execution_count": 26,
   "id": "3f9ab39e",
   "metadata": {},
   "outputs": [
    {
     "data": {
      "text/plain": [
       "[2, 4, 6, 8, 10]"
      ]
     },
     "execution_count": 26,
     "metadata": {},
     "output_type": "execute_result"
    }
   ],
   "source": [
    "#4 Create a new list containing the squares of the first 10 positive integers using a list comprehension. Print the new list.\n",
    "x = [1,2,3,4,5]\n",
    "sqr = [item*2 for item in x]\n",
    "sqr"
   ]
  },
  {
   "cell_type": "code",
   "execution_count": 27,
   "id": "a57bba26",
   "metadata": {},
   "outputs": [
    {
     "name": "stdout",
     "output_type": "stream",
     "text": [
      "Even Numbers: 2\n",
      "Even Numbers: 4\n",
      "Even Numbers: 6\n",
      "Even Numbers: 8\n",
      "Even Numbers: 10\n",
      "Even Numbers: 12\n",
      "Even Numbers: 14\n",
      "Even Numbers: 16\n",
      "Even Numbers: 18\n",
      "Even Numbers: 20\n"
     ]
    }
   ],
   "source": [
    "#5 Create a new list containing only the even numbers from the list created in Assignment 1 using a list comprehension. Print the new list.\n",
    "for i in lst:\n",
    "    if i%2==0:\n",
    "        print(f'Even Numbers: {i}')"
   ]
  },
  {
   "cell_type": "code",
   "execution_count": 48,
   "id": "8d2e9ffc",
   "metadata": {},
   "outputs": [
    {
     "name": "stdout",
     "output_type": "stream",
     "text": [
      "Random Numbers: [3, 7, 6, 1, 2]\n",
      "Sorted Ascendign Random Numbers: [1, 2, 3, 6, 7]\n",
      "Sorted Descending Random Numbers: [7, 6, 3, 2, 1]\n",
      "Removed Duplicated: {1, 2, 3, 6, 7}\n"
     ]
    }
   ],
   "source": [
    "#6 Create a list of random numbers and sort it in ascending and descending order. Remove the duplicates from the list and print the modified list.\n",
    "import random\n",
    "\n",
    "numbers = range(1,10)\n",
    "x =  random.sample(numbers, 5)\n",
    "#x.sort()\n",
    "print(f'Random Numbers: {x}')\n",
    "print(f'Sorted Ascendign Random Numbers: {sorted(x)}')\n",
    "print(f'Sorted Descending Random Numbers: {sorted(x,reverse=True)}')\n",
    "print(f'Removed Duplicated: {set(x)}')"
   ]
  },
  {
   "cell_type": "code",
   "execution_count": 61,
   "id": "c2b9c4cd",
   "metadata": {},
   "outputs": [],
   "source": [
    "#7 Create a nested list representing a 3x3 matrix and print the matrix. Access and print the element at the second row and third column.\n",
    "\n",
    "x = [1,2,3]\n",
    "y= [4,5,6]\n",
    "z = [7,8,9]\n",
    "for i in x:\n",
    "    for j in y:\n",
    "        for k in z:\n",
    "            print(f'{i,j,k}\\n')"
   ]
  },
  {
   "cell_type": "code",
   "execution_count": 69,
   "id": "a987d4a8",
   "metadata": {},
   "outputs": [
    {
     "name": "stdout",
     "output_type": "stream",
     "text": [
      "a\n",
      "b\n",
      "[10, 20]\n"
     ]
    }
   ],
   "source": [
    "#8 Create a list of dictionaries where each dictionary represents a \n",
    "# student with keys 'name' and 'score'. \n",
    "# Sort the list of dictionaries by the 'score' in descending order and print the sorted list.\n",
    "\n",
    "lstdic = [{\"name\":\"a\",\"score\":20},{\"name\":\"b\",\"score\":10}]\n",
    "sc = []\n",
    "for i in lstdic:\n",
    "    print(i['name'])\n",
    "    sc.append(i['score'])\n",
    "print(sorted(sc))"
   ]
  },
  {
   "cell_type": "code",
   "execution_count": 75,
   "id": "13207af0",
   "metadata": {},
   "outputs": [
    {
     "name": "stdout",
     "output_type": "stream",
     "text": [
      "reversed list: [6, 5, 4, 3, 2, 1]\n",
      "orginal list: [1, 2, 3, 4, 5, 6]\n"
     ]
    }
   ],
   "source": [
    "#9 Write a function that takes a list and returns a new list with the elements in reverse order. \n",
    "#Print the original and reversed lists.\n",
    "st = [1,2,3,4,5,6]\n",
    "def retruns(lst):\n",
    "    return lst[::-1],lst[:]\n",
    "    \n",
    "x,y = retruns(st)\n",
    "print(f'reversed list: {x}')\n",
    "print(f'orginal list: {y}')"
   ]
  },
  {
   "cell_type": "code",
   "execution_count": 7,
   "id": "6f62cf89",
   "metadata": {},
   "outputs": [
    {
     "name": "stdout",
     "output_type": "stream",
     "text": [
      "[[1, 2, 3], [4, 5, 6], [7, 8, 9]]\n",
      "6\n"
     ]
    }
   ],
   "source": [
    "#7 Create a nested list representing a 3x3 matrix and print the matrix. Access and print the element at the second row and third column.\n",
    "\n",
    "lst = [[[1,2,3],[4,5,6],[7,8,9]]]\n",
    "for i in lst:\n",
    "    print(i)\n",
    "    print(i[1][2])"
   ]
  },
  {
   "cell_type": "code",
   "execution_count": 18,
   "id": "e4fe0d46",
   "metadata": {},
   "outputs": [
    {
     "data": {
      "text/plain": [
       "[1, 2, 3, 4, 5, 6, 7, 8, 9]"
      ]
     },
     "execution_count": 18,
     "metadata": {},
     "output_type": "execute_result"
    }
   ],
   "source": [
    "#10 Write a function that takes a nested list and flattens it into a single list. Print the original and flattened lists.\n",
    "\n",
    "lst = [[[1,2,3],[4,5,6],[7,8,9]]]\n",
    "x = [k for i in lst for j in i for k in j]\n",
    "x"
   ]
  },
  {
   "cell_type": "code",
   "execution_count": 26,
   "id": "086ea0cc",
   "metadata": {},
   "outputs": [
    {
     "name": "stdout",
     "output_type": "stream",
     "text": [
      "[6, 7, 8, 9, 1, 2, 3, 4]\n"
     ]
    }
   ],
   "source": [
    "#14 Write a function that rotates a list by n positions. Print the original and rotated lists.\n",
    "\n",
    "x = [1,2,3,4,5,6,7,8,9]\n",
    "\n",
    "def rorate(n):\n",
    "    y = x[:n]\n",
    "    z = x[n+1:]\n",
    "    return z+y\n",
    "\n",
    "print(rorate(4))"
   ]
  },
  {
   "cell_type": "code",
   "execution_count": null,
   "id": "c4b7270b",
   "metadata": {},
   "outputs": [],
   "source": []
  }
 ],
 "metadata": {
  "kernelspec": {
   "display_name": "Python 3 (ipykernel)",
   "language": "python",
   "name": "python3"
  },
  "language_info": {
   "codemirror_mode": {
    "name": "ipython",
    "version": 3
   },
   "file_extension": ".py",
   "mimetype": "text/x-python",
   "name": "python",
   "nbconvert_exporter": "python",
   "pygments_lexer": "ipython3",
   "version": "3.9.7"
  }
 },
 "nbformat": 4,
 "nbformat_minor": 5
}
