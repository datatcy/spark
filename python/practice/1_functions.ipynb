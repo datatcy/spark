{
 "cells": [
  {
   "cell_type": "markdown",
   "id": "c97f586d",
   "metadata": {},
   "source": [
    "#### Variable Length Arguments Positional and Keywords arguments"
   ]
  },
  {
   "cell_type": "code",
   "execution_count": 7,
   "id": "966b60d5",
   "metadata": {},
   "outputs": [
    {
     "name": "stdout",
     "output_type": "stream",
     "text": [
      "1 2 3 4 5 6 a b "
     ]
    }
   ],
   "source": [
    "def print_numbers(*args):\n",
    "    for numbers in args:\n",
    "        print(numbers,end=' ')\n",
    "        \n",
    "print_numbers(1,2,3,4,5,6,'a','b')"
   ]
  },
  {
   "cell_type": "code",
   "execution_count": 15,
   "id": "555f8ed5",
   "metadata": {},
   "outputs": [
    {
     "name": "stdout",
     "output_type": "stream",
     "text": [
      "fruits:Apple\n",
      "count:10\n",
      "price:15\n"
     ]
    }
   ],
   "source": [
    "def print_details(**kwargs):\n",
    "    for key,value in kwargs.items():\n",
    "        print(f'{key}:{value}')\n",
    "        \n",
    "print_details(fruits='Apple',count=10,price=15)"
   ]
  },
  {
   "cell_type": "code",
   "execution_count": 17,
   "id": "03440e00",
   "metadata": {},
   "outputs": [
    {
     "name": "stdout",
     "output_type": "stream",
     "text": [
      "Positional Arguments: 1\n",
      "Positional Arguments: 2\n",
      "Positional Arguments: 3\n",
      "Positional Arguments: 4\n",
      "Positional Arguments: 5\n",
      "Positional Arguments: 6\n",
      "Positional Arguments: a\n",
      "Positional Arguments: b\n",
      "Key Word Arguments: fruits:['Apple', 'Orange']\n",
      "Key Word Arguments: count:[10, 15]\n",
      "Key Word Arguments: price:[15, 25]\n"
     ]
    }
   ],
   "source": [
    "def print_all(*args,**kwargs):\n",
    "    for val in args:\n",
    "        print(f'Positional Arguments: {val}')\n",
    "    for key,val in kwargs.items():\n",
    "        print(f'Key Word Arguments: {key}:{val}')\n",
    "\n",
    "print_all(1,2,3,4,5,6,'a','b',fruits=['Apple','Orange'],count=[10,15],price=[15,25])\n"
   ]
  },
  {
   "cell_type": "code",
   "execution_count": 28,
   "id": "52208423",
   "metadata": {},
   "outputs": [
    {
     "data": {
      "text/plain": [
       "6.8999999999999995"
      ]
     },
     "execution_count": 28,
     "metadata": {},
     "output_type": "execute_result"
    }
   ],
   "source": [
    "def calculate_total_cost(cart):\n",
    "    total_cost = 0\n",
    "    for i in cart:\n",
    "        total_cost += i['price']*i['quantity']\n",
    "    return total_cost\n",
    "    \n",
    "cart =[\n",
    "    {'name':'Apple','price':0.5,'quantity':4},\n",
    "    {'name':'Orange','price':0.7,'quantity':7}\n",
    "    ]\n",
    "\n",
    "calculate_total_cost(cart)"
   ]
  },
  {
   "cell_type": "code",
   "execution_count": 34,
   "id": "e92f19b3",
   "metadata": {},
   "outputs": [
    {
     "data": {
      "text/plain": [
       "6"
      ]
     },
     "execution_count": 34,
     "metadata": {},
     "output_type": "execute_result"
    }
   ],
   "source": [
    "# recursion\n",
    "\n",
    "def factorial(n):\n",
    "    if n == 0:\n",
    "        return 1\n",
    "    else:\n",
    "        return n * factorial(n-1)\n",
    "    \n",
    "factorial(3)"
   ]
  },
  {
   "cell_type": "code",
   "execution_count": 35,
   "id": "aa8e9240",
   "metadata": {},
   "outputs": [],
   "source": [
    "# word count\n",
    "def count_word_frequency(file_path):\n",
    "    word_count = {}\n",
    "    with open('file_path','r') as file:\n",
    "        for line in file:\n",
    "            words = line.split()\n",
    "            for word in words:\n",
    "                word=word.lower().strip('.,!?;:')\n",
    "                word_count[word]= word_count.get(word,0)+1\n",
    "    return word_count"
   ]
  },
  {
   "cell_type": "code",
   "execution_count": 39,
   "id": "894f2fb4",
   "metadata": {},
   "outputs": [
    {
     "name": "stdout",
     "output_type": "stream",
     "text": [
      "<re.Match object; span=(0, 16), match='test@example.com'>\n"
     ]
    }
   ],
   "source": [
    "# email valaidation\n",
    "import re\n",
    "\n",
    "def is_valid_email(email):\n",
    "    pattern = r'^[a-zA-Z0-9_.+-]+@[a-zA-Z0-9-]+\\.[a-zA-Z0-9-.]+$'\n",
    "    return re.match(pattern,email)\n",
    "\n",
    "print(is_valid_email('test@example.com'))"
   ]
  },
  {
   "cell_type": "markdown",
   "id": "f534e098",
   "metadata": {},
   "source": [
    "#### Nested Statements and Scope LEGB rule "
   ]
  },
  {
   "cell_type": "code",
   "execution_count": 1,
   "id": "17709538",
   "metadata": {},
   "outputs": [
    {
     "name": "stdout",
     "output_type": "stream",
     "text": [
      "25\n",
      "50\n"
     ]
    }
   ],
   "source": [
    "x = 25\n",
    "def printer():\n",
    "    x = 50\n",
    "    return x\n",
    "\n",
    "print(x)\n",
    "print(printer())"
   ]
  },
  {
   "cell_type": "code",
   "execution_count": 5,
   "id": "8d37156c",
   "metadata": {},
   "outputs": [
    {
     "name": "stdout",
     "output_type": "stream",
     "text": [
      "hello IM A LOCAL STRING\n"
     ]
    }
   ],
   "source": [
    "name = 'THIS IS A GLOABL STRNG' #Global\n",
    "\n",
    "def greet():\n",
    "    #global x way to access global veriable within function\n",
    "    name = 'Sammy' #Enclosing\n",
    "    def hello():\n",
    "        name = 'IM A LOCAL STRING' #Local\n",
    "        print('hello ' + name)\n",
    "    hello()\n",
    "greet()"
   ]
  },
  {
   "cell_type": "code",
   "execution_count": 4,
   "id": "aad69a76",
   "metadata": {},
   "outputs": [
    {
     "name": "stdout",
     "output_type": "stream",
     "text": [
      "hello Sammy\n"
     ]
    }
   ],
   "source": [
    "greet()"
   ]
  },
  {
   "cell_type": "markdown",
   "id": "ed221a47",
   "metadata": {},
   "source": [
    "#### Lambda Functions  \n",
    "lambda argument:expression<br>\n",
    "filter(function,iteration)<br>\n",
    "map(function,iteration) \n"
   ]
  },
  {
   "cell_type": "code",
   "execution_count": 40,
   "id": "70199036",
   "metadata": {},
   "outputs": [
    {
     "data": {
      "text/plain": [
       "8"
      ]
     },
     "execution_count": 40,
     "metadata": {},
     "output_type": "execute_result"
    }
   ],
   "source": [
    "addition = lambda a,b:a+b\n",
    "addition(3,5)"
   ]
  },
  {
   "cell_type": "code",
   "execution_count": 42,
   "id": "dade6ee8",
   "metadata": {},
   "outputs": [
    {
     "data": {
      "text/plain": [
       "True"
      ]
     },
     "execution_count": 42,
     "metadata": {},
     "output_type": "execute_result"
    }
   ],
   "source": [
    "even = lambda a:a%2 == 0\n",
    "even(10)"
   ]
  },
  {
   "cell_type": "code",
   "execution_count": 49,
   "id": "3504f893",
   "metadata": {},
   "outputs": [
    {
     "data": {
      "text/plain": [
       "[2, 5, 16]"
      ]
     },
     "execution_count": 49,
     "metadata": {},
     "output_type": "execute_result"
    }
   ],
   "source": [
    "def apply_ops(*args,ops):\n",
    "    return ops(args)\n",
    "\n",
    "apply_ops(2,3,4,5, ops= sum) # applied buidin function\n",
    "apply_ops(2,3,4,5, ops= len) \n",
    "\n",
    "num_list = [[2,8,11],[4,5,7,12],[8,9,10,11],[2,5,16]]\n",
    "#find the max 3rd element\n",
    "max(num_list,key = lambda x:x[2])"
   ]
  },
  {
   "cell_type": "code",
   "execution_count": 48,
   "id": "7e1a3d2e",
   "metadata": {},
   "outputs": [
    {
     "data": {
      "text/plain": [
       "[1, 4, 9, 16, 25]"
      ]
     },
     "execution_count": 48,
     "metadata": {},
     "output_type": "execute_result"
    }
   ],
   "source": [
    "#MAP\n",
    "x = [1,2,3,4,5]\n",
    "y = map(lambda x:x**2,x)\n",
    "list(y)"
   ]
  },
  {
   "cell_type": "code",
   "execution_count": 50,
   "id": "c41b1eae",
   "metadata": {},
   "outputs": [
    {
     "data": {
      "text/plain": [
       "[5, 7, 9]"
      ]
     },
     "execution_count": 50,
     "metadata": {},
     "output_type": "execute_result"
    }
   ],
   "source": [
    "#MAP multiple iteration\n",
    "\n",
    "num1 = [1,2,3]\n",
    "num2 = [4,5,6]\n",
    "\n",
    "num = list(map(lambda num1,num2:num1+num2,num1,num2))\n",
    "num"
   ]
  },
  {
   "cell_type": "code",
   "execution_count": 54,
   "id": "7b20554f",
   "metadata": {},
   "outputs": [
    {
     "data": {
      "text/plain": [
       "[1, 2, 3]"
      ]
     },
     "execution_count": 54,
     "metadata": {},
     "output_type": "execute_result"
    }
   ],
   "source": [
    "# to convert list of string to integer\n",
    "\n",
    "x =['1','2','3']\n",
    "\n",
    "y = list(map(int,x))\n",
    "y"
   ]
  },
  {
   "cell_type": "code",
   "execution_count": 59,
   "id": "08a00e55",
   "metadata": {},
   "outputs": [
    {
     "data": {
      "text/plain": [
       "['APPLE', 'ORANGE', 'BANANA']"
      ]
     },
     "execution_count": 59,
     "metadata": {},
     "output_type": "execute_result"
    }
   ],
   "source": [
    "### to conver from lower to uppder\n",
    "\n",
    "words = ['apple','orange','banana']\n",
    "y = list(map(str.upper,words))\n",
    "y"
   ]
  },
  {
   "cell_type": "code",
   "execution_count": 63,
   "id": "6dad1c13",
   "metadata": {},
   "outputs": [
    {
     "data": {
      "text/plain": [
       "[('i like', 12), ('soo good', 24)]"
      ]
     },
     "execution_count": 63,
     "metadata": {},
     "output_type": "execute_result"
    }
   ],
   "source": [
    "def get_name(person):\n",
    "    return person['apple'],person['quantity']\n",
    "\n",
    "fruits = [ {'apple':'i like','quantity':12},\n",
    "           {'apple':'soo good','quantity':24}\n",
    "         ]\n",
    "list(map(get_name,fruits))"
   ]
  },
  {
   "cell_type": "code",
   "execution_count": 65,
   "id": "a0673d4d",
   "metadata": {},
   "outputs": [
    {
     "data": {
      "text/plain": [
       "[2, 4, 6, 8]"
      ]
     },
     "execution_count": 65,
     "metadata": {},
     "output_type": "execute_result"
    }
   ],
   "source": [
    "x = [1,2,3,4,5,6,7,8,9]\n",
    "\n",
    "list(filter(lambda x:x%2==0,x))"
   ]
  },
  {
   "cell_type": "code",
   "execution_count": 66,
   "id": "a6a12e54",
   "metadata": {},
   "outputs": [
    {
     "data": {
      "text/plain": [
       "[6, 7, 8, 9]"
      ]
     },
     "execution_count": 66,
     "metadata": {},
     "output_type": "execute_result"
    }
   ],
   "source": [
    "# greater than five\n",
    "\n",
    "x = [1,2,3,4,5,6,7,8,9]\n",
    "list(filter(lambda x:x>5,x))"
   ]
  },
  {
   "cell_type": "code",
   "execution_count": 67,
   "id": "468699e3",
   "metadata": {},
   "outputs": [
    {
     "data": {
      "text/plain": [
       "[6, 8]"
      ]
     },
     "execution_count": 67,
     "metadata": {},
     "output_type": "execute_result"
    }
   ],
   "source": [
    "# multiple condition\n",
    "\n",
    "x = [1,2,3,4,5,6,7,8,9]\n",
    "list(filter(lambda x: x%2==0 and x > 5,x))"
   ]
  },
  {
   "cell_type": "code",
   "execution_count": 69,
   "id": "1c22a97f",
   "metadata": {},
   "outputs": [
    {
     "data": {
      "text/plain": [
       "[{'age': 36}]"
      ]
     },
     "execution_count": 69,
     "metadata": {},
     "output_type": "execute_result"
    }
   ],
   "source": [
    "x = [{'age':10},{'age':36},{'age':20}]\n",
    "\n",
    "def age(x):\n",
    "    return x['age'] > 25\n",
    "list(filter(age,x))\n"
   ]
  },
  {
   "cell_type": "code",
   "execution_count": 2,
   "id": "f80a21b9",
   "metadata": {},
   "outputs": [
    {
     "name": "stdout",
     "output_type": "stream",
     "text": [
      "Area of rectangle: 14\n"
     ]
    }
   ],
   "source": [
    "# Area of rectangle\n",
    "def area_of_rectangle(a,b):\n",
    "    return a*b\n",
    "print(f'Area of rectangle: {area_of_rectangle(2,7)}')"
   ]
  },
  {
   "cell_type": "code",
   "execution_count": 5,
   "id": "c1bf1fc5",
   "metadata": {},
   "outputs": [
    {
     "name": "stdout",
     "output_type": "stream",
     "text": [
      "distance travelled:18\n"
     ]
    }
   ],
   "source": [
    "#calculate_distance\n",
    "def calculate_distance(speed, time):\n",
    "    return speed * time\n",
    "print(f'distance travelled:{calculate_distance(6,3)}')"
   ]
  },
  {
   "cell_type": "code",
   "execution_count": 8,
   "id": "d332eb72",
   "metadata": {},
   "outputs": [
    {
     "name": "stdout",
     "output_type": "stream",
     "text": [
      "Number of rounds: 20\n"
     ]
    }
   ],
   "source": [
    "#Function to calculate the number of rounds the lift needs to cover.\n",
    "\n",
    "def calculate_lift_rounds(n, capacity):\n",
    "    x = n/capacity\n",
    "    return int(x)\n",
    "    \n",
    "print(f'Number of rounds: {calculate_lift_rounds(100,5)}' )"
   ]
  },
  {
   "cell_type": "code",
   "execution_count": 10,
   "id": "80ac18b0",
   "metadata": {},
   "outputs": [
    {
     "name": "stdout",
     "output_type": "stream",
     "text": [
      " value of y : 7\n"
     ]
    }
   ],
   "source": [
    "# Function to calculate the value of y using the slope-intercept form of a line.\n",
    "def calculate_y(slope, intercept, x):\n",
    "    y = x*intercept+slope\n",
    "    return y\n",
    "\n",
    "print(f' value of y : {calculate_y(2,5,1)}' )"
   ]
  },
  {
   "cell_type": "code",
   "execution_count": 48,
   "id": "1e491faf",
   "metadata": {},
   "outputs": [
    {
     "name": "stdout",
     "output_type": "stream",
     "text": [
      "this is wrting to a file a a\n"
     ]
    }
   ],
   "source": [
    "with open('exp.txxt','r') as file:\n",
    "    for line in file:\n",
    "        print(line.strip())"
   ]
  },
  {
   "cell_type": "code",
   "execution_count": 45,
   "id": "3e4d1ba6",
   "metadata": {},
   "outputs": [],
   "source": [
    "a = 'this is wrting to a file a a'\n",
    "\n",
    "with open('exp.txxt','w') as file:\n",
    "    file.write(a)"
   ]
  },
  {
   "cell_type": "code",
   "execution_count": 59,
   "id": "f21a737e",
   "metadata": {},
   "outputs": [
    {
     "name": "stdout",
     "output_type": "stream",
     "text": [
      "a\n",
      "a\n",
      "elif\n",
      "a\n",
      "ot\n",
      "gnitrw\n",
      "si\n",
      "siht\n"
     ]
    }
   ],
   "source": [
    "x = open('exp.txxt','r')\n",
    "lines = x.readlines()[0][::-1].split()\n",
    "\n",
    "dic = {}\n",
    "for i in lines:\n",
    "    dic[i] = dic.get(i,0)+1\n",
    "    print(i)"
   ]
  },
  {
   "cell_type": "code",
   "execution_count": 60,
   "id": "33ed1bc0",
   "metadata": {},
   "outputs": [
    {
     "data": {
      "text/plain": [
       "{'a': 3, 'elif': 1, 'ot': 1, 'gnitrw': 1, 'si': 1, 'siht': 1}"
      ]
     },
     "execution_count": 60,
     "metadata": {},
     "output_type": "execute_result"
    }
   ],
   "source": [
    "dic"
   ]
  },
  {
   "cell_type": "markdown",
   "id": "4ee3552d",
   "metadata": {},
   "source": [
    "#### Key Word argument and parameter values in function"
   ]
  },
  {
   "cell_type": "code",
   "execution_count": 5,
   "id": "2ad62d96",
   "metadata": {},
   "outputs": [
    {
     "data": {
      "text/plain": [
       "'Hello apple!'"
      ]
     },
     "execution_count": 5,
     "metadata": {},
     "output_type": "execute_result"
    }
   ],
   "source": [
    "# Mandotory Parameter\n",
    "# Optional Parameter\n",
    "# Keyword Parameter\n",
    "\n",
    "'''\n",
    "1. Key Word argument must be always at the last in the function \n",
    "   paramte EXCEPT **kwarg argument\n",
    "2. While passing value, when started key word argument for a Manddotory\n",
    "   Parameter all the follwing parameter must be key word argument\n",
    "3. Mandotory parmeter should not come after *args argument,\n",
    "   it should be key word argument\n",
    "4. **kwarg must be placed allways last position in the function\n",
    "'''\n",
    "\n",
    "\n",
    "def greetings(greet='Hello',to='World'):\n",
    "    return greet +' '+to+'!'\n",
    "\n",
    "greetings('apple') # to argument is default\n",
    "greetings(to = 'apple') # key word argument it gives the flexiblity to change the order"
   ]
  },
  {
   "cell_type": "code",
   "execution_count": 7,
   "id": "c53773e7",
   "metadata": {},
   "outputs": [],
   "source": [
    "# define all the Mandotory Parameter then defind Optional Parameter (at the end)\n",
    "\n",
    "def greetings(to='World',greet): # this will throw error\n",
    "    return greet +' '+to+'!'"
   ]
  },
  {
   "cell_type": "code",
   "execution_count": 20,
   "id": "f7d93019",
   "metadata": {},
   "outputs": [
    {
     "data": {
      "text/plain": [
       "'Operating System = Window, Processor =15           , Memory = 8GB, Storage = 216 GM SSD'"
      ]
     },
     "execution_count": 20,
     "metadata": {},
     "output_type": "execute_result"
    }
   ],
   "source": [
    "def configure(cpu,ram,disk = '512 GB SSD', os = 'Window'):\n",
    "    return 'Operating System = '+os+', Processor =' + cpu+'\\\n",
    "           , Memory = '+ram+', Storage = '+disk\n",
    "\n",
    "#configure(cpu='15','8GB') # will throw error like positional argument follows keyword argument\n",
    "\n",
    "#configure('15',ram='8GB') # this will work \n",
    "#configure(cpu='15',ram='8GB','216 GM SSD') # this will not work bcoz before 216 GM SSD we have key word argument\n",
    "configure('15',ram = '8GB',disk='216 GM SSD') # this will workd\n",
    "\n",
    "#Note: if you started using key word argument then after this arguument all must be key word argument\n"
   ]
  },
  {
   "cell_type": "markdown",
   "id": "a30699a6",
   "metadata": {},
   "source": [
    "#### Variable length Arguments"
   ]
  },
  {
   "cell_type": "code",
   "execution_count": 23,
   "id": "caa9d769",
   "metadata": {},
   "outputs": [
    {
     "name": "stdout",
     "output_type": "stream",
     "text": [
      "Order received for: Apple\n",
      "Single unit items: ('Bread', 'Tooth Paste')\n"
     ]
    }
   ],
   "source": [
    "def grocery_order(customer_name,*items):\n",
    "    print('Order received for:',customer_name)\n",
    "    print('Single unit items:', str(items))\n",
    "    \n",
    "grocery_order('Apple','Bread','Tooth Paste')"
   ]
  },
  {
   "cell_type": "code",
   "execution_count": 25,
   "id": "285e0242",
   "metadata": {},
   "outputs": [
    {
     "name": "stdout",
     "output_type": "stream",
     "text": [
      "Order received for: Apple\n",
      "Single unit items: ('Bread', 'Tooth Paste')\n",
      "Delivery Type: Home\n",
      "Order received for: Apple\n",
      "Single unit items: ('Bread', 'Tooth Paste')\n",
      "Delivery Type: in house\n"
     ]
    }
   ],
   "source": [
    "def grocery_order(customer_name,*items, delivery_type = 'Home'):\n",
    "    print('Order received for:',customer_name)\n",
    "    print('Single unit items:', str(items))\n",
    "    print('Delivery Type:',delivery_type)\n",
    "    \n",
    "grocery_order('Apple','Bread','Tooth Paste')\n",
    "grocery_order('Apple','Bread','Tooth Paste',delivery_type='in house')"
   ]
  },
  {
   "cell_type": "code",
   "execution_count": 28,
   "id": "d3c887f0",
   "metadata": {},
   "outputs": [
    {
     "name": "stdout",
     "output_type": "stream",
     "text": [
      "Order received for: Apple\n",
      "Single unit items: ('Bread', 'Tooth Paste')\n",
      "Delivery Type: Home\n",
      "Qnty:  {'eggs': 12, 'milk': '1 lit'}\n"
     ]
    }
   ],
   "source": [
    "def grocery_order(customer_name,*items,item_with_qty = dict(eggs=12, milk= '1 lit'),delivery_type = 'Home'):\n",
    "    print('Order received for:',customer_name)\n",
    "    print('Single unit items:', str(items))\n",
    "    print('Delivery Type:',delivery_type)\n",
    "    print('Qnty: ', item_with_qty)\n",
    "    \n",
    "grocery_order('Apple','Bread','Tooth Paste')"
   ]
  },
  {
   "cell_type": "code",
   "execution_count": 31,
   "id": "c2155223",
   "metadata": {},
   "outputs": [
    {
     "name": "stdout",
     "output_type": "stream",
     "text": [
      "Order received for: Apple\n",
      "Single unit items: ('Bread', 'Tooth Paste')\n",
      "Delivery Type: Home\n",
      "Qnty:  {'eggs': 12, 'milk': '1 lit'}\n"
     ]
    }
   ],
   "source": [
    "def grocery_order(customer_name,*items,delivery_type = 'Home',**item_with_qty):\n",
    "    print('Order received for:',customer_name)\n",
    "    print('Single unit items:', str(items))\n",
    "    print('Delivery Type:',delivery_type)\n",
    "    print('Qnty: ', item_with_qty)\n",
    "    \n",
    "grocery_order('Apple','Bread','Tooth Paste', eggs=12, milk='1 lit')"
   ]
  },
  {
   "cell_type": "code",
   "execution_count": 51,
   "id": "bae3a860",
   "metadata": {},
   "outputs": [
    {
     "data": {
      "text/plain": [
       "['Austraiia', 'Austria', 'America']"
      ]
     },
     "execution_count": 51,
     "metadata": {},
     "output_type": "execute_result"
    }
   ],
   "source": [
    "lst = ['Austraiia', 'India', 'Austria', 'America', 'Russia', 'Iran']\n",
    "def country(x):\n",
    "    out = []\n",
    "    for i in lst:\n",
    "        if i[0]=='A':\n",
    "            out.append(i)\n",
    "        else:\n",
    "            None\n",
    "    return out\n",
    "            \n",
    "country(lst)"
   ]
  },
  {
   "cell_type": "code",
   "execution_count": 54,
   "id": "182b43ad",
   "metadata": {},
   "outputs": [
    {
     "data": {
      "text/plain": [
       "[True, False, True, True, False, False]"
      ]
     },
     "execution_count": 54,
     "metadata": {},
     "output_type": "execute_result"
    }
   ],
   "source": [
    "list(map(lambda x:x[0]=='A',lst))"
   ]
  },
  {
   "cell_type": "code",
   "execution_count": 83,
   "id": "5387838d",
   "metadata": {},
   "outputs": [
    {
     "data": {
      "text/plain": [
       "[('Jhonny', 160), ('Harry', 168), ('Chris', 172), ('Brad', 178)]"
      ]
     },
     "execution_count": 83,
     "metadata": {},
     "output_type": "execute_result"
    }
   ],
   "source": [
    "candidate_details = [('Harry', 168), ('Jhonny', 160), ('Brad', 178), ('Chris', 172)]\n",
    "\n",
    "sorted(candidate_details,key=lambda x:x[1])"
   ]
  },
  {
   "cell_type": "code",
   "execution_count": 85,
   "id": "ee3ecbe2",
   "metadata": {},
   "outputs": [
    {
     "data": {
      "text/plain": [
       "[6, 10, 19]"
      ]
     },
     "execution_count": 85,
     "metadata": {},
     "output_type": "execute_result"
    }
   ],
   "source": [
    "lst1 = [1,5,8]\n",
    "lst2 = [3,2,5]\n",
    "lst3 = [2,3,6]\n",
    "list(map(lambda x,y,z:x+y+z,lst1,lst2,lst3))"
   ]
  },
  {
   "cell_type": "code",
   "execution_count": 99,
   "id": "cf63675f",
   "metadata": {},
   "outputs": [
    {
     "ename": "KeyError",
     "evalue": "'Mathematics'",
     "output_type": "error",
     "traceback": [
      "\u001b[0;31m---------------------------------------------------------------------------\u001b[0m",
      "\u001b[0;31mKeyError\u001b[0m                                  Traceback (most recent call last)",
      "\u001b[0;32m/var/folders/w1/5x7mg9w96sdb1jf3cwpzcq7r0000gn/T/ipykernel_1102/138292436.py\u001b[0m in \u001b[0;36m<module>\u001b[0;34m\u001b[0m\n\u001b[1;32m      7\u001b[0m \u001b[0;34m\u001b[0m\u001b[0m\n\u001b[1;32m      8\u001b[0m \u001b[0;31m#student('Apple','Mathematics'=80,'Physics'=58,'Chemistry'=62,'English'=72,'Biology'= 50)\u001b[0m\u001b[0;34m\u001b[0m\u001b[0;34m\u001b[0m\u001b[0m\n\u001b[0;32m----> 9\u001b[0;31m \u001b[0mstudent\u001b[0m\u001b[0;34m(\u001b[0m\u001b[0;34m'Apple'\u001b[0m\u001b[0;34m,\u001b[0m\u001b[0mMathematics\u001b[0m\u001b[0;34m=\u001b[0m\u001b[0;36m80\u001b[0m\u001b[0;34m,\u001b[0m\u001b[0mPhysics\u001b[0m\u001b[0;34m=\u001b[0m\u001b[0;36m58\u001b[0m\u001b[0;34m,\u001b[0m\u001b[0mChemistry\u001b[0m\u001b[0;34m=\u001b[0m\u001b[0;36m62\u001b[0m\u001b[0;34m,\u001b[0m\u001b[0mEnglish\u001b[0m\u001b[0;34m=\u001b[0m\u001b[0;36m72\u001b[0m\u001b[0;34m,\u001b[0m\u001b[0mBiology\u001b[0m\u001b[0;34m=\u001b[0m \u001b[0;36m50\u001b[0m\u001b[0;34m)\u001b[0m\u001b[0;34m\u001b[0m\u001b[0;34m\u001b[0m\u001b[0m\n\u001b[0m",
      "\u001b[0;32m/var/folders/w1/5x7mg9w96sdb1jf3cwpzcq7r0000gn/T/ipykernel_1102/138292436.py\u001b[0m in \u001b[0;36mstudent\u001b[0;34m(name, **subject_marks)\u001b[0m\n\u001b[1;32m      3\u001b[0m     \u001b[0;32mfor\u001b[0m \u001b[0mi\u001b[0m\u001b[0;34m,\u001b[0m\u001b[0mj\u001b[0m \u001b[0;32min\u001b[0m \u001b[0msubject_marks\u001b[0m\u001b[0;34m.\u001b[0m\u001b[0mitems\u001b[0m\u001b[0;34m(\u001b[0m\u001b[0;34m)\u001b[0m\u001b[0;34m:\u001b[0m\u001b[0;34m\u001b[0m\u001b[0;34m\u001b[0m\u001b[0m\n\u001b[1;32m      4\u001b[0m         \u001b[0;32mif\u001b[0m \u001b[0mj\u001b[0m \u001b[0;34m>=\u001b[0m \u001b[0;36m60\u001b[0m\u001b[0;34m:\u001b[0m\u001b[0;34m\u001b[0m\u001b[0;34m\u001b[0m\u001b[0m\n\u001b[0;32m----> 5\u001b[0;31m             \u001b[0mout\u001b[0m\u001b[0;34m[\u001b[0m\u001b[0mi\u001b[0m\u001b[0;34m]\u001b[0m \u001b[0;34m==\u001b[0m \u001b[0mj\u001b[0m\u001b[0;34m\u001b[0m\u001b[0;34m\u001b[0m\u001b[0m\n\u001b[0m\u001b[1;32m      6\u001b[0m     \u001b[0mprint\u001b[0m\u001b[0;34m(\u001b[0m\u001b[0;34mf'Name:{name},Subjects:{out}'\u001b[0m\u001b[0;34m)\u001b[0m\u001b[0;34m\u001b[0m\u001b[0;34m\u001b[0m\u001b[0m\n\u001b[1;32m      7\u001b[0m \u001b[0;34m\u001b[0m\u001b[0m\n",
      "\u001b[0;31mKeyError\u001b[0m: 'Mathematics'"
     ]
    }
   ],
   "source": [
    "def student(name,**subject_marks):\n",
    "    out = {}\n",
    "    for i,j in subject_marks.items():\n",
    "        if j >= 60:\n",
    "            out[i] == j         \n",
    "    print(f'Name:{name},Subjects:{out}')\n",
    "    \n",
    "#student('Apple','Mathematics'=80,'Physics'=58,'Chemistry'=62,'English'=72,'Biology'= 50)\n",
    "student('Apple',Mathematics=80,Physics=58,Chemistry=62,English=72,Biology= 50)\n"
   ]
  },
  {
   "cell_type": "code",
   "execution_count": 116,
   "id": "9393771f",
   "metadata": {},
   "outputs": [
    {
     "name": "stdout",
     "output_type": "stream",
     "text": [
      "Name: Apple  Subjects: ['Mathematics', 'Chemistry', 'English']\n"
     ]
    }
   ],
   "source": [
    "def student(name,**subject_marks):\n",
    "    out = []\n",
    "    for i,j in subject_marks.items(): \n",
    "        if j > 60:\n",
    "            out.append(i)\n",
    "    print(f'Name: {name}  Subjects: {out}')\n",
    "\n",
    "student('Apple',Mathematics=80,Physics=58,Chemistry=62,English=72,Biology= 50)\n"
   ]
  },
  {
   "cell_type": "markdown",
   "id": "3f9b22ce",
   "metadata": {},
   "source": [
    "#### Error Handling"
   ]
  },
  {
   "cell_type": "code",
   "execution_count": 4,
   "id": "3a37b2ee",
   "metadata": {},
   "outputs": [
    {
     "name": "stdout",
     "output_type": "stream",
     "text": [
      "Not a valid number, Enter a number greater than 0.\n"
     ]
    }
   ],
   "source": [
    "def advance_by(die_input):\n",
    "    if die_input <= 0:\n",
    "        raise ValueError('Not a valid number, Enter a number greater than 0.')\n",
    "    elif die_input > 6:\n",
    "        raise ValueError('Not a valid number, enter a number smaller than 6.')\n",
    "    else:\n",
    "        print('Movied by you'+str(die_input))\n",
    "    \n",
    "try:\n",
    "    advance_by(-1)\n",
    "except ValueError as err:\n",
    "    print(str(err))\n",
    "    "
   ]
  },
  {
   "cell_type": "markdown",
   "id": "d6562ebb",
   "metadata": {},
   "source": [
    "#### Error Handling user defined"
   ]
  },
  {
   "cell_type": "code",
   "execution_count": 6,
   "id": "3a6f4a58",
   "metadata": {},
   "outputs": [
    {
     "name": "stdout",
     "output_type": "stream",
     "text": [
      "value <= 0\n"
     ]
    }
   ],
   "source": [
    "class DieInputError(Exception):\n",
    "    pass\n",
    "class DieInputLowerBound(DieInputError):\n",
    "    pass\n",
    "class DieInputUpperBound(DieInputError):\n",
    "    pass\n",
    "\n",
    "def advance_by(die_input):\n",
    "    if die_input <= 0:\n",
    "        raise DieInputLowerBound('Not a valid number, Enter a number greater than 0.')\n",
    "    elif die_input > 6:\n",
    "        raise DieInputUpperBound('Not a valid number, enter a number smaller than 6.')\n",
    "    else:\n",
    "        print('Movied by you'+str(die_input))\n",
    "    \n",
    "try:\n",
    "    advance_by(0)\n",
    "except DieInputLowerBound:\n",
    "    print('value <= 0')\n",
    "except DieInputUpperBound:\n",
    "    print('value > 6')\n",
    "    "
   ]
  },
  {
   "cell_type": "code",
   "execution_count": null,
   "id": "a095939b",
   "metadata": {},
   "outputs": [],
   "source": []
  }
 ],
 "metadata": {
  "kernelspec": {
   "display_name": "Python 3 (ipykernel)",
   "language": "python",
   "name": "python3"
  },
  "language_info": {
   "codemirror_mode": {
    "name": "ipython",
    "version": 3
   },
   "file_extension": ".py",
   "mimetype": "text/x-python",
   "name": "python",
   "nbconvert_exporter": "python",
   "pygments_lexer": "ipython3",
   "version": "3.9.7"
  }
 },
 "nbformat": 4,
 "nbformat_minor": 5
}
