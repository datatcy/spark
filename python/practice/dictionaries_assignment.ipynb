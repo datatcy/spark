{
 "cells": [
  {
   "cell_type": "markdown",
   "id": "f184a155",
   "metadata": {},
   "source": [
    "# Module 3: Data Structures Assignments\n",
    "## Lesson 3.4: Dictionaries\n",
    "### Assignment 1: Creating and Accessing Dictionaries\n",
    "\n",
    "Create a dictionary with the first 10 positive integers as keys and their squares as values. Print the dictionary.\n",
    "\n",
    "### Assignment 2: Accessing Dictionary Elements\n",
    "\n",
    "Print the value of the key 5 and the keys of the dictionary created in Assignment 1.\n",
    "\n",
    "### Assignment 3: Dictionary Methods\n",
    "\n",
    "Add a new key-value pair (11, 121) to the dictionary created in Assignment 1 and then remove the key-value pair with key 1. Print the modified dictionary.\n",
    "\n",
    "### Assignment 4: Iterating Over Dictionaries\n",
    "\n",
    "Iterate over the dictionary created in Assignment 1 and print each key-value pair.\n",
    "\n",
    "### Assignment 5: Dictionary Comprehensions\n",
    "\n",
    "Create a new dictionary containing the cubes of the first 10 positive integers using a dictionary comprehension. Print the new dictionary.\n",
    "\n",
    "### Assignment 6: Merging Dictionaries\n",
    "\n",
    "Create two dictionaries: one with keys as the first 5 positive integers and values as their squares, and another with keys as the next 5 positive integers and values as their squares. Merge these dictionaries into a single dictionary and print it.\n",
    "\n",
    "### Assignment 7: Nested Dictionaries\n",
    "\n",
    "Create a nested dictionary representing a student with keys 'name', 'age', 'grades', where 'grades' is another dictionary with keys 'math', 'science', and 'english'. Print the nested dictionary.\n",
    "\n",
    "### Assignment 8: Dictionary of Lists\n",
    "\n",
    "Create a dictionary where the keys are the first 5 positive integers and the values are lists containing the first 5 multiples of the key. Print the dictionary.\n",
    "\n",
    "### Assignment 9: Dictionary of Tuples\n",
    "\n",
    "Create a dictionary where the keys are the first 5 positive integers and the values are tuples containing the key and its square. Print the dictionary.\n",
    "\n",
    "### Assignment 10: Dictionary and List Conversion\n",
    "\n",
    "Create a dictionary with the first 5 positive integers as keys and their squares as values. Convert the dictionary to a list of tuples and print it.\n",
    "\n",
    "### Assignment 11: Dictionary Filtering\n",
    "\n",
    "Create a dictionary with the first 10 positive integers as keys and their squares as values. Create a new dictionary containing only the key-value pairs where the key is even. Print the new dictionary.\n",
    "\n",
    "### Assignment 12: Dictionary Key and Value Transformation\n",
    "\n",
    "Create a dictionary with the first 5 positive integers as keys and their squares as values. Create a new dictionary with keys and values swapped. Print the new dictionary.\n",
    "\n",
    "### Assignment 13: Default Dictionary\n",
    "\n",
    "Create a default dictionary where each key has a default value of an empty list. Add some elements to the lists and print the dictionary.\n",
    "\n",
    "### Assignment 14: Counting with Dictionaries\n",
    "\n",
    "Write a function that takes a string and returns a dictionary with the count of each character in the string. Print the dictionary.\n",
    "\n",
    "### Assignment 15: Dictionary and JSON\n",
    "\n",
    "Create a dictionary representing a book with keys 'title', 'author', 'year', and 'genre'. Convert the dictionary to a JSON string and print it."
   ]
  },
  {
   "cell_type": "code",
   "execution_count": 4,
   "id": "d90c2452",
   "metadata": {},
   "outputs": [
    {
     "data": {
      "text/plain": [
       "{'1': 1, '2': 4, '3': 9, '4': 16, '5': 25}"
      ]
     },
     "execution_count": 4,
     "metadata": {},
     "output_type": "execute_result"
    }
   ],
   "source": [
    "#1 Create a dictionary with the first 10 positive integers as keys and their squares as values. \n",
    "# Print the dictionary.\n",
    "\n",
    "x = {'1':1,'2':4,'3':9,'4':16,'5':25}\n",
    "x"
   ]
  },
  {
   "cell_type": "code",
   "execution_count": 8,
   "id": "cfd91d79",
   "metadata": {},
   "outputs": [
    {
     "name": "stdout",
     "output_type": "stream",
     "text": [
      "value of key 5 25\n",
      "Keys of x dict_keys(['1', '2', '3', '4', '5'])\n"
     ]
    }
   ],
   "source": [
    "#2 Print the value of the key 5 and the keys of the dictionary created in Assignment 1.\n",
    "\n",
    "print(f'value of key 5 {x[\"5\"]}')\n",
    "print(f'Keys of x {x.keys()}')"
   ]
  },
  {
   "cell_type": "code",
   "execution_count": 22,
   "id": "e52578fd",
   "metadata": {},
   "outputs": [
    {
     "data": {
      "text/plain": [
       "{'2': 4, '3': 9, '4': 16, '5': 25, '6': 36}"
      ]
     },
     "execution_count": 22,
     "metadata": {},
     "output_type": "execute_result"
    }
   ],
   "source": [
    "#3 Add a new key-value pair (11, 121) to the dictionary created in Assignment 1 and then \n",
    "# remove the key-value pair with key 1. Print the modified dictionary.\n",
    "\n",
    "x.update({'6':36})\n",
    "x"
   ]
  },
  {
   "cell_type": "code",
   "execution_count": 27,
   "id": "2c5bdb7d",
   "metadata": {},
   "outputs": [
    {
     "name": "stdout",
     "output_type": "stream",
     "text": [
      "items:2  value:4\n",
      "items:3  value:9\n",
      "items:4  value:16\n",
      "items:5  value:25\n",
      "items:6  value:36\n"
     ]
    }
   ],
   "source": [
    "#4 Iterate over the dictionary created in Assignment 1 and print each key-value pair.\n",
    "\n",
    "for i,j in x.items():\n",
    "    print(f'items:{i}  value:{j}' )\n",
    "    \n",
    "   "
   ]
  },
  {
   "cell_type": "code",
   "execution_count": 39,
   "id": "3f85ee74",
   "metadata": {},
   "outputs": [
    {
     "data": {
      "text/plain": [
       "{'a': 1, 'b': 8, 'c': 27, 'd': 64, 'e': 125}"
      ]
     },
     "execution_count": 39,
     "metadata": {},
     "output_type": "execute_result"
    }
   ],
   "source": [
    "#5 Create a new dictionary containing the cubes of the \n",
    "# first 10 positive integers using a dictionary comprehension. Print the new dictionary.\n",
    "\n",
    "x = dict({'a':1,'b':2,'c':3,'d':4,'e':5})\n",
    "x = { i:j**3 for i,j in x.items()}\n",
    "x\n"
   ]
  },
  {
   "cell_type": "code",
   "execution_count": 45,
   "id": "9a961e7a",
   "metadata": {},
   "outputs": [
    {
     "data": {
      "text/plain": [
       "{'1': 1, '2': 4, '3': 9, '4': 16, '5': 25, '6': 36}"
      ]
     },
     "execution_count": 45,
     "metadata": {},
     "output_type": "execute_result"
    }
   ],
   "source": [
    "#6 Create two dictionaries: one with keys as the first 5 positive integers and values as their squares, \n",
    "#and another with keys as the next 5 positive integers and values as their squares. \n",
    "# Merge these dictionaries into a single dictionary and print it.\n",
    "\n",
    "x = {'1':1,'2':4,'3':9}\n",
    "y = {'4':16,'5':25,'6':36}\n",
    "\n",
    "x.update(y)\n",
    "x\n"
   ]
  },
  {
   "cell_type": "code",
   "execution_count": 47,
   "id": "383c7af9",
   "metadata": {},
   "outputs": [
    {
     "data": {
      "text/plain": [
       "{'name': 'apple',\n",
       " 'age': 30,\n",
       " 'grades': {'math': 40, 'science': 59, 'english': 68}}"
      ]
     },
     "execution_count": 47,
     "metadata": {},
     "output_type": "execute_result"
    }
   ],
   "source": [
    "#7 Create a nested dictionary representing a student with keys 'name', 'age', 'grades', where 'grades' \n",
    "#is another dictionary with keys 'math', 'science', and 'english'. Print the nested dictionary.\n",
    "\n",
    "x = {'name':'apple','age':30,'grades':{'math':40,'science':59,'english':68}}\n",
    "x"
   ]
  },
  {
   "cell_type": "code",
   "execution_count": 49,
   "id": "741e29f2",
   "metadata": {},
   "outputs": [
    {
     "data": {
      "text/plain": [
       "{'1': [1], '2': [2], '3': [6], '4': [24], '5': [100]}"
      ]
     },
     "execution_count": 49,
     "metadata": {},
     "output_type": "execute_result"
    }
   ],
   "source": [
    "#8 Create a dictionary where the keys are the first 5 positive integers and the values are lists \n",
    "# containing the first 5 multiples of the key. Print the dictionary.\n",
    "\n",
    "x = {'1':[1],'2':[2],'3':[6],'4':[24],'5':[100]}\n",
    "x"
   ]
  },
  {
   "cell_type": "code",
   "execution_count": 51,
   "id": "85c66591",
   "metadata": {},
   "outputs": [
    {
     "data": {
      "text/plain": [
       "{'1': 1, '2': (2, 4), '3': (3, 9), '4': (4, 16), '5': (5, 25)}"
      ]
     },
     "execution_count": 51,
     "metadata": {},
     "output_type": "execute_result"
    }
   ],
   "source": [
    "#9 Create a dictionary where the keys are the first 5 positive integers and the values are tuples \n",
    "#containing the key and its square. Print the dictionary.\n",
    "\n",
    "x = {'1':(1),'2':(2,4),'3':(3,9),'4':(4,16),'5':(5,25)}\n",
    "x\n"
   ]
  },
  {
   "cell_type": "code",
   "execution_count": 65,
   "id": "935773d0",
   "metadata": {},
   "outputs": [
    {
     "name": "stdout",
     "output_type": "stream",
     "text": [
      "(1, 1)\n",
      "(2, 4)\n",
      "(3, 9)\n",
      "(4, 16)\n",
      "(5, 25)\n"
     ]
    },
    {
     "data": {
      "text/plain": [
       "(1, 1, 2, 4, 3, 9, 4, 16, 5, 25)"
      ]
     },
     "execution_count": 65,
     "metadata": {},
     "output_type": "execute_result"
    }
   ],
   "source": [
    "#10 Create a dictionary with the first 5 positive integers as keys and their squares as values. \n",
    "#Convert the dictionary to a list of tuples and print it.\n",
    "\n",
    "x = {'1':1,'2':4,'3':9,'4':16,'5':25}\n",
    "\n",
    "y = tuple()\n",
    "\n",
    "for i,j in x.items():\n",
    "    x = int(i),j\n",
    "    print(tuple(x))\n",
    "    y += tuple(x)\n",
    "y"
   ]
  },
  {
   "cell_type": "code",
   "execution_count": 72,
   "id": "8d17979a",
   "metadata": {},
   "outputs": [
    {
     "data": {
      "text/plain": [
       "{'2': 4, '4': 16, '6': 36}"
      ]
     },
     "execution_count": 72,
     "metadata": {},
     "output_type": "execute_result"
    }
   ],
   "source": [
    "#11 Create a dictionary with the first 10 positive integers as keys and their squares as values. \n",
    "# Create a new dictionary containing only the key-value pairs where the key is even. Print the new dictionary.\n",
    "\n",
    "x = {'1':1,'2':4,'3':9,'4':16,'5':25,'6':36}\n",
    "\n",
    "y = { i:j  for i,j in x.items() if j%2 == 0}\n",
    "y"
   ]
  },
  {
   "cell_type": "code",
   "execution_count": 78,
   "id": "7871656f",
   "metadata": {},
   "outputs": [
    {
     "name": "stdout",
     "output_type": "stream",
     "text": [
      "0\n",
      "1\n",
      "2\n",
      "3\n",
      "4\n"
     ]
    },
    {
     "data": {
      "text/plain": [
       "{'1': 6, '2': 9, '3': 14, '4': 21, '5': 30, '6': 41}"
      ]
     },
     "execution_count": 78,
     "metadata": {},
     "output_type": "execute_result"
    }
   ],
   "source": [
    "#12 Create a dictionary with the first 5 positive integers as keys and their squares as values. \n",
    "#Create a new dictionary with keys and values swapped. Print the new dictionary.\n",
    "\n",
    "x = {'1':1,'2':4,'3':9,'4':16,'5':25,'6':36}\n",
    "\n",
    "for i in range(0,len(x)-1):\n",
    "    for j,k in x.items():\n",
    "        x[j]=k+1\n",
    "    print(i)\n",
    "x"
   ]
  },
  {
   "cell_type": "code",
   "execution_count": 82,
   "id": "1d03c438",
   "metadata": {},
   "outputs": [
    {
     "data": {
      "text/plain": [
       "{'1': [1, 2, 3, 4], '2': [1, 2, 3, 4]}"
      ]
     },
     "execution_count": 82,
     "metadata": {},
     "output_type": "execute_result"
    }
   ],
   "source": [
    "#13 Create a default dictionary where each key has a default value of an empty list. \n",
    "#Add some elements to the lists and print the dictionary.\n",
    "\n",
    "x = {'1':[],'2':[]}\n",
    "lst1 = [1,2,3,4]\n",
    "lst2 = [5,6,7,8]\n",
    "\n",
    "for i in x.keys():\n",
    "    x[i]=lst1\n",
    "x\n"
   ]
  },
  {
   "cell_type": "code",
   "execution_count": 96,
   "id": "bd530885",
   "metadata": {},
   "outputs": [
    {
     "data": {
      "text/plain": [
       "'{\"title\": \"xyz\", \"author\": \"abc\", \"year\": 1234, \"genre\": \"doc\"}'"
      ]
     },
     "execution_count": 96,
     "metadata": {},
     "output_type": "execute_result"
    }
   ],
   "source": [
    "#15 Create a dictionary representing a book with keys 'title', 'author', 'year', and 'genre'. \n",
    "# Convert the dictionary to a JSON string and print it.\n",
    "import json\n",
    "x = {'title':'xyz','author':'abc','year':1234,'genre':'doc'}\n",
    "y = json.dumps(x)\n",
    "y"
   ]
  },
  {
   "cell_type": "code",
   "execution_count": 120,
   "id": "5b03ecd2",
   "metadata": {},
   "outputs": [
    {
     "data": {
      "text/plain": [
       "{'a': 4, 'b': 2, 'c': 1, 'd': 3}"
      ]
     },
     "execution_count": 120,
     "metadata": {},
     "output_type": "execute_result"
    }
   ],
   "source": [
    "#14 Write a function that takes a string and returns a dictionary with the count of each character in the string. \n",
    "# Print the dictionary.\n",
    "\n",
    "x = 'aaaabbcddd'\n",
    "\n",
    "dic = {}\n",
    "\n",
    "for i in x:\n",
    "    dic[i]=dic.get(i,0)+1\n",
    "\n",
    "dic\n",
    "\n"
   ]
  },
  {
   "cell_type": "code",
   "execution_count": null,
   "id": "2f71cd13",
   "metadata": {},
   "outputs": [],
   "source": []
  }
 ],
 "metadata": {
  "kernelspec": {
   "display_name": "Python 3 (ipykernel)",
   "language": "python",
   "name": "python3"
  },
  "language_info": {
   "codemirror_mode": {
    "name": "ipython",
    "version": 3
   },
   "file_extension": ".py",
   "mimetype": "text/x-python",
   "name": "python",
   "nbconvert_exporter": "python",
   "pygments_lexer": "ipython3",
   "version": "3.9.7"
  }
 },
 "nbformat": 4,
 "nbformat_minor": 5
}
