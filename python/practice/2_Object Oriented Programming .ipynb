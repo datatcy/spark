{
 "cells": [
  {
   "cell_type": "code",
   "execution_count": 19,
   "id": "912e724d",
   "metadata": {},
   "outputs": [
    {
     "name": "stdout",
     "output_type": "stream",
     "text": [
      "blue says woof\n",
      "blue 5 None\n"
     ]
    }
   ],
   "source": [
    "class Dog():\n",
    "    def __init__(self,name:str,age:int):\n",
    "        self.name = name\n",
    "        self.age = age\n",
    "    def bark(self):\n",
    "        print(f'{self.name} says woof')\n",
    "x = Dog('blue',5)\n",
    "print(x.name,x.age,x.bark())"
   ]
  },
  {
   "cell_type": "markdown",
   "id": "56d2a2d1",
   "metadata": {},
   "source": [
    "#### Inheritance"
   ]
  },
  {
   "cell_type": "code",
   "execution_count": 49,
   "id": "761f5bdd",
   "metadata": {},
   "outputs": [
    {
     "name": "stdout",
     "output_type": "stream",
     "text": [
      "Tesla supports self driving: True\n",
      "The person will drive the electric car\n"
     ]
    }
   ],
   "source": [
    "#Inheritance\n",
    "\n",
    "class Car(): #parent class\n",
    "    def __init__(self,windows,doors,enginetype):\n",
    "        self.windows = windows\n",
    "        self.doors = doors\n",
    "        self.enginetype = enginetype\n",
    "    \n",
    "    def drive(self):\n",
    "        print(f'The person will drive the {self.enginetype} car')\n",
    "\n",
    "#car1 = Car(4,5,'petrol')\n",
    "#print(car1.doors,car1.windows,car1.enginetype  ,end=' ')\n",
    "#print( car1.drive())\n",
    "\n",
    "class Tesla(Car): #child class\n",
    "    \n",
    "    def __init__(self,windows,doors,enginetype,selfdriving):\n",
    "        super().__init__(windows,doors,enginetype)\n",
    "        self.selfdriving = selfdriving\n",
    "    \n",
    "    def self_driving(self):\n",
    "        print(f'Tesla supports self driving: {self.selfdriving}')\n",
    "\n",
    "tesla1 = Tesla(4,5,'electric',True)\n",
    "tesla1.self_driving()\n",
    "tesla1.drive()"
   ]
  },
  {
   "cell_type": "markdown",
   "id": "d832f0c4",
   "metadata": {},
   "source": [
    "#### Multiple inheritance <br>\n",
    "When a class inherits from more than one base class"
   ]
  },
  {
   "cell_type": "code",
   "execution_count": 60,
   "id": "cadad02e",
   "metadata": {},
   "outputs": [
    {
     "name": "stdout",
     "output_type": "stream",
     "text": [
      "jimmy says woof at the age 25\n",
      "Subclass must implement this method\n",
      "None\n"
     ]
    }
   ],
   "source": [
    "class Animal:\n",
    "    def __init__(self,name): # base class 1\n",
    "        self.name = name\n",
    "    \n",
    "    def speak(self):\n",
    "        print(f'Subclass must implement this method')\n",
    "\n",
    "class Pet: # base class 2\n",
    "    def __init__(self,owner):\n",
    "        self.owner = owner\n",
    "\n",
    "class Dog(Animal,Pet): # drived class from base1 and base 2\n",
    "    def __init__(self,name,owner,age):\n",
    "        Animal.__init__(self,name)\n",
    "        Pet.__init__(self,owner)\n",
    "        self.age = age\n",
    "    \n",
    "    def speak_method(self):\n",
    "        return f'{self.name} says woof at the age {self.age}'\n",
    "    \n",
    "\n",
    "dog = Dog('jimmy','jack',25)\n",
    "print(dog.speak_method())\n",
    "print(dog.speak())"
   ]
  },
  {
   "cell_type": "markdown",
   "id": "21f983bf",
   "metadata": {},
   "source": [
    "#### Polymorphism<br>\n",
    "<b>Method overriding</b> allows a child class to provide a speciific implementation of a method that is already defined in its parent class"
   ]
  },
  {
   "cell_type": "code",
   "execution_count": 68,
   "id": "a4d85f37",
   "metadata": {},
   "outputs": [
    {
     "name": "stdout",
     "output_type": "stream",
     "text": [
      "Sounds of the animal : Woof : Meow\n"
     ]
    }
   ],
   "source": [
    "class Animal: # base class \n",
    "    def speak(self):\n",
    "        return 'Sounds of the animal'\n",
    "\n",
    "class Dog(Animal): # derivedd class\n",
    "    def speak(self):\n",
    "        return 'Woof'\n",
    "\n",
    "class Cat(Animal): # derivedd class\n",
    "    def speak(self):\n",
    "        return 'Meow'\n",
    "\n",
    "ani = Animal()\n",
    "dog1 = Dog()\n",
    "cat1 = Cat()\n",
    "\n",
    "print(f'{ani.speak()} : {dog1.speak()} : {cat1.speak()}')"
   ]
  },
  {
   "cell_type": "markdown",
   "id": "a75f5983",
   "metadata": {},
   "source": [
    "#### Polymorphism with functions and methods"
   ]
  },
  {
   "cell_type": "code",
   "execution_count": 72,
   "id": "4ca3a828",
   "metadata": {},
   "outputs": [
    {
     "name": "stdout",
     "output_type": "stream",
     "text": [
      "the area is 6\n",
      "the area is 50.24\n"
     ]
    }
   ],
   "source": [
    "class Shape: # base class\n",
    "    def area(self):\n",
    "        return 'The area of the figure'\n",
    "\n",
    "class Rectangle(Shape): # derived class 1\n",
    "    def __init__(self,width,height):\n",
    "        self.width = width\n",
    "        self.height = height\n",
    "    def area(self): # inherited method\n",
    "        return self.width * self.height\n",
    "\n",
    "class Circle(Shape): # derivedd class\n",
    "    def __init__(self,radius):\n",
    "        self.radius = radius\n",
    "    def area(self):\n",
    "        return 3.14 * self.radius**2\n",
    "\n",
    "## Function that demonstrate polymorphism\n",
    "\n",
    "def print_area(shape):\n",
    "    print(f'the area is {shape.area()}')\n",
    "    \n",
    "rectangle = Rectangle(2,3)\n",
    "circle = Circle(4)\n",
    "\n",
    "print_area(rectangle)\n",
    "print_area(circle)"
   ]
  },
  {
   "cell_type": "markdown",
   "id": "3ad67299",
   "metadata": {},
   "source": [
    "#### Polymorphism with Abstract Base class <br>\n",
    "\n",
    "Abstract Base Classes are used to define common methods for a group of related objects.  They can enforce that derived classes implement particular methods, promoting consistency across different implementations."
   ]
  },
  {
   "cell_type": "code",
   "execution_count": 74,
   "id": "9ab892f8",
   "metadata": {},
   "outputs": [
    {
     "name": "stdout",
     "output_type": "stream",
     "text": [
      "car engine started\n",
      "motocycle engine started\n"
     ]
    }
   ],
   "source": [
    "from abc import ABC,abstractmethod\n",
    "#definition of abstract class\n",
    "class Vehicle(ABC):\n",
    "    #@abstractmethod\n",
    "    def start_engine(self):\n",
    "        pass\n",
    "#derived class 1\n",
    "class Car(Vehicle):\n",
    "    def start_engine(self):\n",
    "        return 'car engine started'\n",
    "#derived class 2\n",
    "class Motorcycle(Vehicle):\n",
    "    def start_engine(self):\n",
    "        return 'motocycle engine started'\n",
    "\n",
    "# function that demonstrates ploymorphism\n",
    "def start_vehicle(vehicle):\n",
    "    print(f'{vehicle.start_engine()}')\n",
    "\n",
    "# create object of car and motorcycle\n",
    "car = Car()\n",
    "motorcycle = Motorcycle()\n",
    "\n",
    "start_vehicle(car)\n",
    "start_vehicle(motorcycle)\n"
   ]
  },
  {
   "cell_type": "markdown",
   "id": "93fd4a52",
   "metadata": {},
   "source": [
    "#### Encapsulation <br>\n",
    "<b>Encapsulation and Abstraction</b> are two fuuncamental principles of Object Oriented Programming that help in designing robust, maintainable, and reusable code. Encapsulation involves bundling data and methods that operate on teh data within a single uunit, while abstraction involves hiding complex implementation details and exposing only the necessary features<br>\n",
    "\n",
    "<b>Encapsulation</b> is the concept of wrapping data (variiables) and methods (functions) together as a single unit. It restricts direct access to some of the object's components, which is a means of preventing accidental interference and misuse of the data\n"
   ]
  },
  {
   "cell_type": "code",
   "execution_count": 77,
   "id": "281cd573",
   "metadata": {},
   "outputs": [
    {
     "data": {
      "text/plain": [
       "['_Person__age',\n",
       " '_Person__name',\n",
       " '__class__',\n",
       " '__delattr__',\n",
       " '__dict__',\n",
       " '__dir__',\n",
       " '__doc__',\n",
       " '__eq__',\n",
       " '__format__',\n",
       " '__ge__',\n",
       " '__getattribute__',\n",
       " '__gt__',\n",
       " '__hash__',\n",
       " '__init__',\n",
       " '__init_subclass__',\n",
       " '__le__',\n",
       " '__lt__',\n",
       " '__module__',\n",
       " '__ne__',\n",
       " '__new__',\n",
       " '__reduce__',\n",
       " '__reduce_ex__',\n",
       " '__repr__',\n",
       " '__setattr__',\n",
       " '__sizeof__',\n",
       " '__str__',\n",
       " '__subclasshook__',\n",
       " '__weakref__',\n",
       " 'gender']"
      ]
     },
     "execution_count": 77,
     "metadata": {},
     "output_type": "execute_result"
    }
   ],
   "source": [
    "class Person:\n",
    "    \n",
    "    def __init__(self,name,age,gender,height):\n",
    "        #self.name = name # public variable\n",
    "        #self.age = age # public variable\n",
    "        self.__name = name # private variable\n",
    "        self.__age = age # private variable (can access by only within class)\n",
    "        self.gender = gender # public variable (can access by only within class)\n",
    "        self._height = height # protected variable (can access by derived class)\n",
    "        \n",
    "        \n",
    "def get_name(person): #function\n",
    "    return person.__name # will throw error bcoz its private\n",
    "        \n",
    "person = Person('apple',10,'male')\n",
    "dir(person) # dont see variable name and age but gender"
   ]
  },
  {
   "cell_type": "code",
   "execution_count": 101,
   "id": "dfc20152",
   "metadata": {},
   "outputs": [
    {
     "name": "stdout",
     "output_type": "stream",
     "text": [
      "x 23 Malex\n"
     ]
    }
   ],
   "source": [
    "class Person:\n",
    "    \n",
    "    def __init__(self,name,age,gender):\n",
    "        self._name = name # protected variable (can access by derived class)\n",
    "        self._age = age # protected variable (can access by derived class)\n",
    "        self.gender = gender # public variable (can access by only within class)\n",
    "        \n",
    "class Employee(Person):\n",
    "    def __init__(self,name,age,gender):\n",
    "        super().__init__(name,age,gender)\n",
    "        \n",
    "\n",
    "def emp(employ):\n",
    "    print(employ._name)\n",
    "        \n",
    "employee = Employee('x',23,'Male')\n",
    "print(employee._name,employee._age,employee.gender,end = '')\n",
    "\n",
    "emp(employee)\n"
   ]
  },
  {
   "cell_type": "code",
   "execution_count": 102,
   "id": "adcfea8d",
   "metadata": {},
   "outputs": [
    {
     "data": {
      "text/plain": [
       "'x'"
      ]
     },
     "execution_count": 102,
     "metadata": {},
     "output_type": "execute_result"
    }
   ],
   "source": [
    "class Person:\n",
    "    \n",
    "    def __init__(self,name,age,gender):\n",
    "        self.__name = name \n",
    "        # private variable (can access by derived class)\n",
    "        self._age = age # protected variable (can access by derived class)\n",
    "        self.gender = gender # public variable (can access by only within class)\n",
    "        \n",
    "class Employee(Person):\n",
    "    def __init__(self,name,age,gender):\n",
    "        super().__init__(name,age,gender)\n",
    "\n",
    "emp = Employee('x',34,'M')\n",
    "emp._Person__name # to access private variable out of class"
   ]
  },
  {
   "cell_type": "markdown",
   "id": "8c86b3a1",
   "metadata": {},
   "source": [
    "#### Encapsulation with Getter and Setter"
   ]
  },
  {
   "cell_type": "code",
   "execution_count": 109,
   "id": "c6bef97a",
   "metadata": {},
   "outputs": [
    {
     "name": "stdout",
     "output_type": "stream",
     "text": [
      "('apple', 34)\n",
      "None\n",
      "('orange', 14)\n"
     ]
    }
   ],
   "source": [
    "class Person:\n",
    "    def __init__(self,name,age):\n",
    "        self.__name = name # private variable\n",
    "        self.__age = age # private variable\n",
    "    # getter method name    \n",
    "    def get_name(self): # public method through this we can access privalte variable\n",
    "        return self.__name,self.__age\n",
    "    # setter method for name\n",
    "    def set_name(self,name,age):\n",
    "        self.__name = name\n",
    "        self.__age = age\n",
    "        \n",
    "# Access andd modify private variables using setter and getter method\n",
    "\n",
    "per = Person('apple',34)\n",
    "print(per.get_name())\n",
    "print(per.set_name('orange',14))\n",
    "print(per.get_name())"
   ]
  },
  {
   "cell_type": "markdown",
   "id": "53ff16c9",
   "metadata": {},
   "source": [
    "#### Abstraction<br>\n",
    "Abstraction is the concept of hiding the complex implementation detaiils and showing only the necessary\n",
    "features of an object.  This help siin reducing programming complexity and effort.\n"
   ]
  },
  {
   "cell_type": "code",
   "execution_count": null,
   "id": "26cfecfa",
   "metadata": {},
   "outputs": [],
   "source": [
    "from ABC import ABC,abstractmethod\n",
    "\n",
    "class Vehicle(ABC): # Abstract base class\n",
    "    def drive(self):\n",
    "        print('The vehicle is used for driving')\n",
    "    \n",
    "    @abstractmethod\n",
    "    def start_engine(seld):\n",
    "        pass\n",
    "\n",
    "class Car(Vehicle):\n",
    "    def start_engine(self):\n",
    "        print('Car engine started')\n",
    "def operate_vehicle(vehicle):\n",
    "    vehicle.start_engine()\n",
    "    \n",
    "car = Car()\n",
    "\n",
    "operate_vehicle(car)"
   ]
  },
  {
   "cell_type": "markdown",
   "id": "f3c3a06a",
   "metadata": {},
   "source": [
    "#### Magic Methods<br>\n",
    "Magic methods are predefined methods in Python that you can override to change the behavior of youur objects.  Some common magic methods include<br>\n",
    "    <b>. __init__</b> Initializes a new instance of class<br>\n",
    "    <b>. __str__</b> Returns a striing representation of an object<br>\n",
    "    <b>. __repr__</b> Returns an official string representation of an object<br>\n",
    "    <b>. __len__</b> Returns length of an object<br>\n",
    "    <b>. __getitem__</b> Gets an item from an object<br>\n",
    "    <b>. __setitem__</b> Sets an item of an object<br>\n",
    "    \n"
   ]
  },
  {
   "cell_type": "code",
   "execution_count": 118,
   "id": "defd9124",
   "metadata": {},
   "outputs": [
    {
     "name": "stdout",
     "output_type": "stream",
     "text": [
      "apple is 10 years old\n",
      "Person(name=apple,age=10)\n"
     ]
    }
   ],
   "source": [
    "class Person:\n",
    "    def __init__(self,name,age):\n",
    "        self.name = name\n",
    "        self.age = age\n",
    "    def __str__(self):\n",
    "        return f'{self.name} is {self.age} years old'\n",
    "    def __repr__(self):\n",
    "        return f'Person(name={self.name},age={self.age})'\n",
    "    \n",
    "person = Person('apple',10)\n",
    "print(person)\n",
    "print(repr(person))"
   ]
  },
  {
   "cell_type": "markdown",
   "id": "ff4ddcd3",
   "metadata": {},
   "source": [
    "#### Operator Overloading<br>\n",
    "<b>__add__(self,other)</b> Adds two objects usiing the + operator<br>\n",
    "<b>__sub__(self,other)</b> Substracts two objects usiing the - operator<br>\n",
    "<b>__mul__(self,other)</b> Multiplies two objects usiing the * operator<br>\n",
    "<b>__truediv__(self,other)</b> Divides two objects usiing the / operator<br>\n",
    "<b>__eq__(self,other)</b> Checks if two objects are equal using  the == operator<br>\n",
    "<b>__lt__(self,other)</b> Checks iif one object less than another usiing the < operator<br>\n",
    "\n",
    "\n"
   ]
  },
  {
   "cell_type": "code",
   "execution_count": 122,
   "id": "d7effe85",
   "metadata": {},
   "outputs": [
    {
     "name": "stdout",
     "output_type": "stream",
     "text": [
      "Vector(6,8)\n"
     ]
    }
   ],
   "source": [
    "class Vector:\n",
    "    def __init__(self,x,y):\n",
    "        self.x = x\n",
    "        self.y = y\n",
    "    def __add__(self,other):\n",
    "        return Vector(self.x + other.x,self.y + other.y)\n",
    "    def __mul__(self,other):\n",
    "        return Vector(self.x * other.x,self.y * other.y)\n",
    "    def __sub__(self,other):\n",
    "        return Vector(self.x - other.x,self.y - other.y)\n",
    "    def __eq__(self,other):\n",
    "        return self.x == other.x and self.y == other.y\n",
    "    def __repr__(self):\n",
    "        return f'Vector({self.x},{self.y})'\n",
    "    \n",
    "v1 = Vector(2,3)\n",
    "v2 = Vector(4,5)\n",
    "print(v1+v2)"
   ]
  },
  {
   "cell_type": "code",
   "execution_count": 1,
   "id": "40f6edef",
   "metadata": {},
   "outputs": [
    {
     "name": "stdout",
     "output_type": "stream",
     "text": [
      "2\n"
     ]
    }
   ],
   "source": [
    "class Car:\n",
    "    number = 100\n",
    "    def seats(a):\n",
    "        print(a)\n",
    "        \n",
    "Car.number = 1\n",
    "Car.number\n",
    "Car.seats(2)"
   ]
  },
  {
   "cell_type": "markdown",
   "id": "a9bc7573",
   "metadata": {},
   "source": [
    "#### Class Methods Vs Instance Method"
   ]
  },
  {
   "cell_type": "code",
   "execution_count": 2,
   "id": "dcc32564",
   "metadata": {},
   "outputs": [
    {
     "name": "stdout",
     "output_type": "stream",
     "text": [
      "MG Hector\n",
      "Standing and current speed is 0\n"
     ]
    }
   ],
   "source": [
    "'''\n",
    "Class Attributes:\n",
    "1. Defined without self\n",
    "2. Accessed using Class name\n",
    "3. Shared by all objects of the class\n",
    "\n",
    "Instance Attributes:\n",
    "1. Defined with the self\n",
    "2. Accessed using object of the class\n",
    "3. Not shared\n",
    "'''\n",
    "\n",
    "class Car:\n",
    "    brand = 'MG Hector'\n",
    "    def launch_year():\n",
    "        return 2020\n",
    "    \n",
    "# how to access Class Methods\n",
    "print(Car.brand)\n",
    "Car.launch_year()\n",
    "\n",
    "## Instance Method\n",
    "class Bike:\n",
    "    def __init__(self):\n",
    "        self.current_state = 'Standing'\n",
    "        self.current_speed = 0\n",
    "    def show_state(self):\n",
    "        print(f'{self.current_state} and current speed is {self.current_speed}')\n",
    "\n",
    "## How to access Instance method and attributes\n",
    "\n",
    "bike1 = Bike()\n",
    "bike2 = Bike()\n",
    "bike1.current_speed\n",
    "bike1.current_state\n",
    "bike1.show_state()"
   ]
  },
  {
   "cell_type": "code",
   "execution_count": 28,
   "id": "f7a2df2a",
   "metadata": {},
   "outputs": [],
   "source": [
    "class Bike:\n",
    "    brand = 'MG Hector' # class variable\n",
    "    \n",
    "    @classmethod\n",
    "    def launch_year(cls): # to access this class method using object (like object.lunch_year) and cls is manditory\n",
    "        return 2020\n",
    "    def __init__(self):\n",
    "        self.current_state = 'Standing'\n",
    "        self.current_speed = 0\n",
    "    def show_state(self):\n",
    "        print(f'{self.current_state} and current speed is {self.current_speed}')\n",
    "      "
   ]
  },
  {
   "cell_type": "code",
   "execution_count": 29,
   "id": "3da305fe",
   "metadata": {},
   "outputs": [
    {
     "name": "stdout",
     "output_type": "stream",
     "text": [
      "Standing and current speed is 0\n"
     ]
    },
    {
     "data": {
      "text/plain": [
       "0"
      ]
     },
     "execution_count": 29,
     "metadata": {},
     "output_type": "execute_result"
    }
   ],
   "source": [
    "Bike.brand\n",
    "Bike.launch_year()\n",
    "a = Bike()\n",
    "a.launch_year()\n",
    "a.brand\n",
    "a.show_state()\n",
    "a.current_state\n",
    "a.current_speed"
   ]
  },
  {
   "cell_type": "markdown",
   "id": "9de1144b",
   "metadata": {},
   "source": [
    "#### OOPs Class attributes, Methods Vs Instrance Attribute, Methods"
   ]
  },
  {
   "cell_type": "code",
   "execution_count": 14,
   "id": "91c97ae8",
   "metadata": {},
   "outputs": [],
   "source": [
    "class Dog:\n",
    "    species = 'mammal' # Class attribute - same for any instance class\n",
    "    \n",
    "    def __init__(self, breed,name,spots): #instrance attributes\n",
    "        self.breed = breed\n",
    "        self.name = name\n",
    "        self.spots = spots\n",
    "        \n",
    "    def bark(self,number): # instance method / action / operations\n",
    "        print(f'WOOF my name is: {self.name} and number is {number}')"
   ]
  },
  {
   "cell_type": "code",
   "execution_count": 15,
   "id": "e07ed63e",
   "metadata": {},
   "outputs": [
    {
     "name": "stdout",
     "output_type": "stream",
     "text": [
      "WOOF my name is: Sam and number is 10\n",
      "Through Class: mammal:\n",
      "Throubh instance Object: mammal\n",
      "Through Instance Method: None\n"
     ]
    }
   ],
   "source": [
    "my_dog = Dog('Lab','Sam',False)\n",
    "print(f'Through Class: {Dog.species}:\\n\\\n",
    "Throubh instance Object: {my_dog.species}\\n\\\n",
    "Through Instance Method: {my_dog.bark(10)}')\n"
   ]
  },
  {
   "cell_type": "code",
   "execution_count": 19,
   "id": "c81ba06f",
   "metadata": {},
   "outputs": [
    {
     "name": "stdout",
     "output_type": "stream",
     "text": [
      "Pi:3.14\n",
      "Area:3.14\n",
      "Circumference:6.28\n"
     ]
    }
   ],
   "source": [
    "class Circle:\n",
    "    pi = 3.14\n",
    "    \n",
    "    def __init__(self, radius = 1):\n",
    "        self.radius = radius\n",
    "        self.area = radius*radius*self.pi\n",
    "    \n",
    "    def get_circumference(self):\n",
    "        return self.radius * Circle.pi * 2\n",
    "\n",
    "my_circle = Circle()\n",
    "\n",
    "print(f'Pi:{Circle.pi}\\nArea:{my_circle.area}\\nCircumference:{my_circle.get_circumference()}')"
   ]
  },
  {
   "cell_type": "markdown",
   "id": "282c46a3",
   "metadata": {},
   "source": [
    "#### Abstract Class"
   ]
  },
  {
   "cell_type": "code",
   "execution_count": 23,
   "id": "73618de9",
   "metadata": {},
   "outputs": [],
   "source": [
    "class Animal:\n",
    "    def __init__(self,name):\n",
    "        self.name = name\n",
    "    \n",
    "    def speak(self): # not actions defined here, This is abstract class bcoz it expect inherrit class to define this methos\n",
    "        pass\n",
    "    \n",
    "class Dog(Animal):\n",
    "    def speak(self):\n",
    "        return self.name + 'says Woof' # No need of attribute initiation like Animal.__init__(self)\n",
    "    \n",
    "class Cat(Animal):\n",
    "    def speak(self):\n",
    "        return self.name + 'says Meow'    "
   ]
  },
  {
   "cell_type": "code",
   "execution_count": null,
   "id": "47251be1",
   "metadata": {},
   "outputs": [],
   "source": [
    "ani = Animal() # throws error "
   ]
  },
  {
   "cell_type": "code",
   "execution_count": 29,
   "id": "b1f6f6ac",
   "metadata": {},
   "outputs": [
    {
     "name": "stdout",
     "output_type": "stream",
     "text": [
      "Tomysays Woof Tessysays Meow\n"
     ]
    }
   ],
   "source": [
    "dg = Dog('Tomy')\n",
    "ct = Cat('Tessy')\n",
    "print(f'{dg.speak()} {ct.speak()}')"
   ]
  },
  {
   "cell_type": "markdown",
   "id": "2f5c0d9b",
   "metadata": {},
   "source": [
    "#### Decorators"
   ]
  },
  {
   "cell_type": "code",
   "execution_count": 34,
   "id": "d438a9f3",
   "metadata": {},
   "outputs": [
    {
     "name": "stdout",
     "output_type": "stream",
     "text": [
      "The hello() function has been executed\n",
      "I am going to returnn a funnction\n"
     ]
    },
    {
     "data": {
      "text/plain": [
       "'\\t This is welcome() inside hello'"
      ]
     },
     "execution_count": 34,
     "metadata": {},
     "output_type": "execute_result"
    }
   ],
   "source": [
    "def hello(name='hello'):\n",
    "    print('The hello() function has been executed')\n",
    "    \n",
    "    def greet():\n",
    "        return '\\t This is the greet() function inside hello'\n",
    "    \n",
    "    def welcome():\n",
    "        return '\\t This is welcome() inside hello'\n",
    "    \n",
    "    print('I am going to returnn a funnction')\n",
    "    if name == 'apple':\n",
    "        return greet\n",
    "    else:\n",
    "        return welcome\n",
    "    \n",
    "''' print(greet())\n",
    "    print(welcome())\n",
    "    print('This is the end of the hello function')'''\n",
    "\n",
    "my_new_func = hello('applle')\n",
    "my_new_func()"
   ]
  },
  {
   "cell_type": "code",
   "execution_count": 35,
   "id": "0e19b42a",
   "metadata": {},
   "outputs": [
    {
     "name": "stdout",
     "output_type": "stream",
     "text": [
      "Other code runs here\n",
      "Hi Apple\n"
     ]
    }
   ],
   "source": [
    "def hello():\n",
    "    return 'Hi Apple'\n",
    "def other(some_def_func):\n",
    "    print('Other code runs here')\n",
    "    print(some_def_func())\n",
    "    \n",
    "other(hello)"
   ]
  },
  {
   "cell_type": "code",
   "execution_count": 40,
   "id": "6e83b2d8",
   "metadata": {},
   "outputs": [],
   "source": [
    "def new_decorator(original_func):\n",
    "    def wrap_func():\n",
    "        print('some extra code, before the original function')\n",
    "        \n",
    "        original_func()\n",
    "        \n",
    "        print('some extra code, after the original function')\n",
    "    return wrap_func\n"
   ]
  },
  {
   "cell_type": "code",
   "execution_count": 41,
   "id": "a4c21049",
   "metadata": {},
   "outputs": [],
   "source": [
    "def func_needs_decorator():\n",
    "    print('I want to be decorated')"
   ]
  },
  {
   "cell_type": "code",
   "execution_count": 42,
   "id": "5542d063",
   "metadata": {},
   "outputs": [
    {
     "name": "stdout",
     "output_type": "stream",
     "text": [
      "some extra code, before the original function\n",
      "I want to be decorated\n",
      "some extra code, after the original function\n"
     ]
    }
   ],
   "source": [
    "decorated_func = new_decorator(func_needs_decorator)\n",
    "decorated_func()"
   ]
  },
  {
   "cell_type": "code",
   "execution_count": 44,
   "id": "822d3fc3",
   "metadata": {},
   "outputs": [
    {
     "name": "stdout",
     "output_type": "stream",
     "text": [
      "some extra code, before the original function\n",
      "I want to be decorated\n",
      "some extra code, after the original function\n"
     ]
    }
   ],
   "source": [
    "@new_decorator\n",
    "def func_needs_decorator():\n",
    "    print('I want to be decorated')\n",
    "    \n",
    "func_needs_decorator()"
   ]
  },
  {
   "cell_type": "code",
   "execution_count": null,
   "id": "cc8ffe94",
   "metadata": {},
   "outputs": [],
   "source": []
  }
 ],
 "metadata": {
  "kernelspec": {
   "display_name": "Python 3 (ipykernel)",
   "language": "python",
   "name": "python3"
  },
  "language_info": {
   "codemirror_mode": {
    "name": "ipython",
    "version": 3
   },
   "file_extension": ".py",
   "mimetype": "text/x-python",
   "name": "python",
   "nbconvert_exporter": "python",
   "pygments_lexer": "ipython3",
   "version": "3.9.7"
  }
 },
 "nbformat": 4,
 "nbformat_minor": 5
}
