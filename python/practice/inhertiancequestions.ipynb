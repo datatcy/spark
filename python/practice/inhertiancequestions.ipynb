{
 "cells": [
  {
   "cell_type": "markdown",
   "id": "e6fca2bd",
   "metadata": {},
   "source": [
    "# Module: Inheritance Assignments\n",
    "## Lesson: Single and Multiple Inheritance\n",
    "### Assignment 1: Single Inheritance Basic\n",
    "\n",
    "Create a base class named `Animal` with attributes `name` and `species`. Create a derived class named `Dog` that inherits from `Animal` and adds an attribute `breed`. Create an object of the `Dog` class and print its attributes.\n",
    "\n",
    "### Assignment 2: Method Overriding in Single Inheritance\n",
    "\n",
    "In the `Dog` class, override the `__str__` method to return a string representation of the object. Create an object of the class and print it.\n",
    "\n",
    "### Assignment 3: Single Inheritance with Additional Methods\n",
    "\n",
    "In the `Dog` class, add a method named `bark` that prints a barking sound. Create an object of the class and call the method.\n",
    "\n",
    "### Assignment 4: Multiple Inheritance Basic\n",
    "\n",
    "Create a base class named `Walker` with a method `walk` that prints a walking message. Create another base class named `Runner` with a method `run` that prints a running message. Create a derived class named `Athlete` that inherits from both `Walker` and `Runner`. Create an object of the `Athlete` class and call both methods.\n",
    "\n",
    "### Assignment 5: Method Resolution Order (MRO) in Multiple Inheritance\n",
    "\n",
    "In the `Athlete` class, override the `walk` method to print a different message. Create an object of the class and call the `walk` method. Use the `super()` function to call the `walk` method of the `Walker` class.\n",
    "\n",
    "### Assignment 6: Multiple Inheritance with Additional Attributes\n",
    "\n",
    "In the `Athlete` class, add an attribute `training_hours` and a method `train` that prints the training hours. Create an object of the class and call the method.\n",
    "\n",
    "### Assignment 7: Diamond Problem in Multiple Inheritance\n",
    "\n",
    "Create a class named `A` with a method `show` that prints a message. Create two derived classes `B` and `C` that inherit from `A` and override the `show` method. Create a class `D` that inherits from both `B` and `C`. Create an object of the `D` class and call the `show` method. Observe the method resolution order.\n",
    "\n",
    "### Assignment 8: Using `super()` in Single Inheritance\n",
    "\n",
    "Create a base class named `Shape` with an attribute `color`. Create a derived class named `Circle` that inherits from `Shape` and adds an attribute `radius`. Use the `super()` function to initialize the attributes. Create an object of the `Circle` class and print its attributes.\n",
    "\n",
    "### Assignment 9: Using `super()` in Multiple Inheritance\n",
    "\n",
    "Create a class named `Person` with an attribute `name`. Create a class named `Employee` with an attribute `employee_id`. Create a derived class `Manager` that inherits from both `Person` and `Employee`. Use the `super()` function to initialize the attributes. Create an object of the `Manager` class and print its attributes.\n",
    "\n",
    "### Assignment 10: Method Overriding and `super()`\n",
    "\n",
    "Create a class named `Vehicle` with a method `start` that prints a starting message. Create a derived class `Car` that overrides the `start` method to print a different message. Use the `super()` function to call the `start` method of the `Vehicle` class. Create an object of the `Car` class and call the `start` method.\n",
    "\n",
    "### Assignment 11: Multiple Inheritance with Different Methods\n",
    "\n",
    "Create a class named `Flyer` with a method `fly` that prints a flying message. Create a class named `Swimmer` with a method `swim` that prints a swimming message. Create a derived class `Superhero` that inherits from both `Flyer` and `Swimmer`. Create an object of the `Superhero` class and call both methods.\n",
    "\n",
    "### Assignment 12: Complex Multiple Inheritance\n",
    "\n",
    "Create a class named `Base1` with an attribute `a`. Create a class named `Base2` with an attribute `b`. Create a class named `Derived` that inherits from both `Base1` and `Base2` and adds an attribute `c`. Initialize all attributes using the `super()` function. Create an object of the `Derived` class and print its attributes.\n",
    "\n",
    "### Assignment 13: Checking Instance Types with Inheritance\n",
    "\n",
    "Create a base class named `Animal` and a derived class named `Cat`. Create objects of both classes and use the `isinstance` function to check the instance types.\n",
    "\n",
    "### Assignment 14: Polymorphism with Inheritance\n",
    "\n",
    "Create a base class named `Bird` with a method `speak`. Create two derived classes `Parrot` and `Penguin` that override the `speak` method. Create a list of `Bird` objects and call the `speak` method on each object to demonstrate polymorphism.\n",
    "\n",
    "### Assignment 15: Combining Single and Multiple Inheritance\n",
    "\n",
    "Create a base class named `Device` with an attribute `brand`. Create a derived class `Phone` that inherits from `Device` and adds an attribute `model`. Create another base class `Camera` with an attribute `resolution`. Create a derived class `Smartphone` that inherits from both `Phone` and `Camera`. Create an object of the `Smartphone` class and print its attributes."
   ]
  },
  {
   "cell_type": "code",
   "execution_count": 10,
   "id": "1a18835a",
   "metadata": {},
   "outputs": [
    {
     "name": "stdout",
     "output_type": "stream",
     "text": [
      "pinky:domestis:dogi\n"
     ]
    }
   ],
   "source": [
    "#1 Create a base class named Animal with attributes name and species.\n",
    "# Create a derived class named Dog that inherits from Animal and adds an attribute breed. \n",
    "# Create an object of the Dog class and print its attributes.\n",
    "\n",
    "class Animal:\n",
    "    def __init__(self,name,species):\n",
    "        self.name = name\n",
    "        self.species = species\n",
    "        \n",
    "class Dog(Animal):\n",
    "    def __init__(self,name,species,breed):\n",
    "        Animal.__init__(self,name,species)\n",
    "        self.breed = breed\n",
    "\n",
    "dg = Dog('pinky','domestis','dogi')\n",
    "print(f'{dg.name}:{dg.species}:{dg.breed}')"
   ]
  },
  {
   "cell_type": "code",
   "execution_count": 14,
   "id": "dad32797",
   "metadata": {},
   "outputs": [
    {
     "name": "stdout",
     "output_type": "stream",
     "text": [
      "Name:pinky Species: domestis breed: dogi\n"
     ]
    }
   ],
   "source": [
    "#2 In the Dog class, override the __str__ method to return a string representation \n",
    "# of the object. Create an object of the class and print it.\n",
    "class Animal:\n",
    "    def __init__(self,name,species):\n",
    "        self.name = name\n",
    "        self.species = species\n",
    "        \n",
    "class Dog(Animal):\n",
    "    def __init__(self,name,species,breed):\n",
    "        Animal.__init__(self,name,species)\n",
    "        self.breed = breed\n",
    "    def __str__(self):\n",
    "        return f'Name:{self.name} Species: {self.species} breed: {self.breed}'\n",
    "dg = Dog('pinky','domestis','dogi')\n",
    "print(dg)"
   ]
  },
  {
   "cell_type": "code",
   "execution_count": 16,
   "id": "b187630e",
   "metadata": {},
   "outputs": [
    {
     "name": "stdout",
     "output_type": "stream",
     "text": [
      "pinky says woof\n",
      "None\n"
     ]
    }
   ],
   "source": [
    "#3 In the Dog class, add a method named bark that prints a barking sound. \n",
    "# Create an object of the class and call the method. \n",
    "class Animal:\n",
    "    def __init__(self,name,species):\n",
    "        self.name = name\n",
    "        self.species = species\n",
    "        \n",
    "class Dog(Animal):\n",
    "    def __init__(self,name,species,breed):\n",
    "        Animal.__init__(self,name,species)\n",
    "        self.breed = breed\n",
    "    def bark(self):\n",
    "        print(f'{self.name} says woof')\n",
    "    def __str__(self):\n",
    "        return f'Name:{self.name} Species: {self.species} breed: {self.breed}'\n",
    "dg = Dog('pinky','domestis','dogi')\n",
    "print(dg.bark())"
   ]
  },
  {
   "cell_type": "code",
   "execution_count": 26,
   "id": "2c0146b8",
   "metadata": {},
   "outputs": [
    {
     "name": "stdout",
     "output_type": "stream",
     "text": [
      "im running\n",
      "im walking\n",
      "None:None\n"
     ]
    }
   ],
   "source": [
    "#4 Create a base class named Walker with a method walk that prints a walking message. \n",
    "# Create another base class named Runner with a method run that prints a running message. \n",
    "# Create a derived class named Athlete that inherits from both Walker and Runner. \n",
    "# Create an object of the Athlete class and call both methods.\n",
    "\n",
    "class Walker:\n",
    "    def walk(self):\n",
    "        print(f'im walking')\n",
    "        \n",
    "class Runner:\n",
    "    def run(self):\n",
    "        print(f'im running')\n",
    "\n",
    "class Athlete(Walker,Runner):\n",
    "    pass\n",
    "\n",
    "\n",
    "action = Athlete()\n",
    "print(f'{action.run()}:{action.walk()}')\n",
    "\n"
   ]
  },
  {
   "cell_type": "code",
   "execution_count": 39,
   "id": "aa93408d",
   "metadata": {},
   "outputs": [
    {
     "name": "stdout",
     "output_type": "stream",
     "text": [
      "this is athelete\n",
      "im walking\n"
     ]
    }
   ],
   "source": [
    "#5 In the Athlete class, override the walk method to print a different message. \n",
    "# Create an object of the class and call the walk method. Use the super() \n",
    "# function to call the walk method of the Walker class.\n",
    "\n",
    "class Walker:\n",
    "    def walk(self):\n",
    "        print(f'im walking')\n",
    "        \n",
    "class Runner:\n",
    "    def run(self):\n",
    "        print(f'im running')\n",
    "\n",
    "class Athlete(Walker,Runner):\n",
    "    def walk(self):\n",
    "        print(f'this is athelete')\n",
    "        super().walk()\n",
    "\n",
    "sprt = Athlete()\n",
    "sprt.walk()"
   ]
  },
  {
   "cell_type": "code",
   "execution_count": 43,
   "id": "0121f967",
   "metadata": {},
   "outputs": [
    {
     "name": "stdout",
     "output_type": "stream",
     "text": [
      "21\n"
     ]
    }
   ],
   "source": [
    "#6 In the Athlete class, add an attribute training_hours and a method train that prints \n",
    "# the training hours. Create an object of the class and call the method.\n",
    "\n",
    "class Walker:\n",
    "    def walk(self):\n",
    "        print(f'im walking')\n",
    "        \n",
    "class Runner:\n",
    "    def run(self):\n",
    "        print(f'im running')\n",
    "\n",
    "class Athlete(Walker,Runner):\n",
    "    def __init__(self,training_hour):\n",
    "        self.training_hour = training_hour\n",
    "    def train(self):\n",
    "        print(f'{self.training_hour}')\n",
    "        \n",
    "sprt = Athlete(21)\n",
    "sprt.train()"
   ]
  },
  {
   "cell_type": "code",
   "execution_count": 45,
   "id": "2ade5b9e",
   "metadata": {},
   "outputs": [
    {
     "name": "stdout",
     "output_type": "stream",
     "text": [
      "in B\n"
     ]
    }
   ],
   "source": [
    "#7 Create a class named A with a method show that prints a message. \n",
    "# Create two derived classes B and C that inherit from A and override the show method. \n",
    "# Create a class D that inherits from both B and C. Create an object of the D class \n",
    "# and call the show method. Observe the method resolution order.\n",
    "\n",
    "class A:\n",
    "    def show(self):\n",
    "        print(f'msg')\n",
    "class B(A):\n",
    "    def show(self):\n",
    "        print(f'in B')\n",
    "class C(A):\n",
    "    def show(self):\n",
    "        print(f'in C')\n",
    "class D(B,C):\n",
    "    pass\n",
    "a = D()\n",
    "a.show()"
   ]
  },
  {
   "cell_type": "code",
   "execution_count": 48,
   "id": "52d40d6c",
   "metadata": {},
   "outputs": [
    {
     "name": "stdout",
     "output_type": "stream",
     "text": [
      "red:5\n"
     ]
    }
   ],
   "source": [
    "#8 Create a base class named Shape with an attribute color. \n",
    "# Create a derived class named Circle that inherits from Shape and adds an attribute radius.\n",
    "# Use the super() function to initialize the attributes. Create an object of the Circle \n",
    "# class and print its attributes.\n",
    "\n",
    "class Shape:\n",
    "    def __init__(self,color):\n",
    "        self.color = color\n",
    "class Circle(Shape):\n",
    "    def __init__(self,color,radius):\n",
    "        super().__init__(color)\n",
    "        self.radius = radius\n",
    "sh = Circle('red',5)\n",
    "print(f'{sh.color}:{sh.radius}')"
   ]
  },
  {
   "cell_type": "code",
   "execution_count": 56,
   "id": "16c1a6f1",
   "metadata": {},
   "outputs": [
    {
     "name": "stdout",
     "output_type": "stream",
     "text": [
      "apple:40\n"
     ]
    }
   ],
   "source": [
    "#9 Create a class named Person with an attribute name. Create a class named Employee \n",
    "# with an attribute employee_id. Create a derived class Manager that inherits \n",
    "# from both Person and Employee. Use the super() function to initialize the attributes. \n",
    "# Create an object of the Manager class and print its attributes.\n",
    "\n",
    "class Person:\n",
    "    def __init__(self,name):\n",
    "        self.name = name\n",
    "class Employee:\n",
    "    def __init__(self,employee_id):\n",
    "        self.employee_id = employee_id\n",
    "class Manager(Person,Employee):\n",
    "    def __init__(self,name,employee_id):\n",
    "        super().__init__(name)\n",
    "        Employee.__init__(self,employee_id)\n",
    "\n",
    "mgr = Manager('apple',40)\n",
    "print(f'{mgr.name}:{mgr.employee_id}')"
   ]
  },
  {
   "cell_type": "code",
   "execution_count": 59,
   "id": "fea1d4a9",
   "metadata": {},
   "outputs": [
    {
     "name": "stdout",
     "output_type": "stream",
     "text": [
      "Car Starting...\n",
      "Starting...\n"
     ]
    }
   ],
   "source": [
    "#10 Create a class named Vehicle with a method start that prints a starting message. \n",
    "# Create a derived class Car that overrides the start method to print a different message. \n",
    "# Use the super() function to call the start method of the Vehicle class. Create an object \n",
    "# of the Car class and call the start method.\n",
    "\n",
    "class Vehicle:\n",
    "    def start(self):\n",
    "        print(f'Starting...')\n",
    "class Car(Vehicle):\n",
    "    def start(self):\n",
    "        print(f'Car Starting...')\n",
    "        super().start()\n",
    "motor = Car()\n",
    "motor.start()"
   ]
  },
  {
   "cell_type": "code",
   "execution_count": 65,
   "id": "0e9fcd42",
   "metadata": {},
   "outputs": [
    {
     "name": "stdout",
     "output_type": "stream",
     "text": [
      "Flying Msg\n",
      "Swimming Msg\n",
      "None:None\n"
     ]
    }
   ],
   "source": [
    "#11 Create a class named Flyer with a method fly that prints a flying message. \n",
    "# Create a class named Swimmer with a method swim that prints a swimming message. \n",
    "# Create a derived class Superhero that inherits from both Flyer and Swimmer. \n",
    "# Create an object of the Superhero class and call both methods.\n",
    "\n",
    "class Flyer:\n",
    "    def fly(self):\n",
    "        print('Flying Msg')\n",
    "class Swimmer:\n",
    "    def swim(self):\n",
    "        print('Swimming Msg')\n",
    "class Superhero(Flyer,Swimmer):\n",
    "    pass\n",
    "x = Superhero()\n",
    "print(f'{x.fly()}:{x.swim()}')\n"
   ]
  },
  {
   "cell_type": "code",
   "execution_count": 79,
   "id": "d84067e0",
   "metadata": {},
   "outputs": [
    {
     "name": "stdout",
     "output_type": "stream",
     "text": [
      "{1} {2} {3}\n"
     ]
    }
   ],
   "source": [
    "#12 Create a class named Base1 with an attribute a. Create a class \n",
    "# named Base2 with an attribute b. Create a class named Derived that inherits \n",
    "# from both Base1 and Base2 and adds an attribute c. Initialize all attributes using the \n",
    "# super() function. Create an object of the Derived class and print its attributes.\n",
    "\n",
    "class Base1:\n",
    "    def __init__(self,a):\n",
    "        self.a = a\n",
    "class Base2:\n",
    "    def __init__(self,b):\n",
    "        self.b = b\n",
    "class Derived(Base1,Base2):\n",
    "    def __init__(self,a,b,c):\n",
    "        super().__init__(a)\n",
    "        Base2.__init__(self,b)\n",
    "        self.c = c\n",
    "x = Derived(1,2,3)\n",
    "print({x.a},{x.b},{x.c})"
   ]
  },
  {
   "cell_type": "code",
   "execution_count": 89,
   "id": "1e5d615c",
   "metadata": {},
   "outputs": [
    {
     "name": "stdout",
     "output_type": "stream",
     "text": [
      "True\n",
      "True\n",
      "True\n",
      "False\n"
     ]
    }
   ],
   "source": [
    "#13 Create a base class named Animal and a derived class named Cat.\n",
    "# Create objects of both classes and use the isinstance function to check the instance \n",
    "# types.\n",
    "\n",
    "class Animal:\n",
    "    pass\n",
    "class Car(Animal):\n",
    "    pass\n",
    "x = Car()\n",
    "y = Animal()\n",
    "print(isinstance(x,Animal))\n",
    "print(isinstance(x,Car))\n",
    "print(isinstance(y,Animal))\n",
    "print(isinstance(y,Car))"
   ]
  },
  {
   "cell_type": "code",
   "execution_count": 90,
   "id": "44e305af",
   "metadata": {},
   "outputs": [
    {
     "name": "stdout",
     "output_type": "stream",
     "text": [
      "This is Parrot\n",
      "This is Penguin\n"
     ]
    }
   ],
   "source": [
    "#14 Create a base class named Bird with a method speak. \n",
    "# Create two derived classes Parrot and Penguin that override the speak method. \n",
    "# Create a list of Bird objects and call the speak method on each object to demonstrate \n",
    "# polymorphism.\n",
    "\n",
    "class Bird:\n",
    "    def speak(self):\n",
    "        pass\n",
    "class Parrot(Bird):\n",
    "    def speak(self):\n",
    "        print(f'This is Parrot')\n",
    "class Penguin(Bird):\n",
    "    def speak(self):\n",
    "        print(f'This is Penguin')\n",
    "        \n",
    "birds = [Parrot(), Penguin()]\n",
    "for bird in birds:\n",
    "    bird.speak()\n"
   ]
  },
  {
   "cell_type": "code",
   "execution_count": 99,
   "id": "66cce480",
   "metadata": {},
   "outputs": [
    {
     "ename": "TypeError",
     "evalue": "__init__() missing 1 required positional argument: 'resolution'",
     "output_type": "error",
     "traceback": [
      "\u001b[0;31m---------------------------------------------------------------------------\u001b[0m",
      "\u001b[0;31mTypeError\u001b[0m                                 Traceback (most recent call last)",
      "\u001b[0;32m/var/folders/w1/5x7mg9w96sdb1jf3cwpzcq7r0000gn/T/ipykernel_3670/2465318349.py\u001b[0m in \u001b[0;36m<module>\u001b[0;34m\u001b[0m\n\u001b[1;32m     21\u001b[0m \u001b[0;34m\u001b[0m\u001b[0m\n\u001b[1;32m     22\u001b[0m \u001b[0;34m\u001b[0m\u001b[0m\n\u001b[0;32m---> 23\u001b[0;31m \u001b[0mx\u001b[0m \u001b[0;34m=\u001b[0m \u001b[0mSmartphone\u001b[0m\u001b[0;34m(\u001b[0m\u001b[0;34m'apple'\u001b[0m\u001b[0;34m,\u001b[0m\u001b[0;34m'14'\u001b[0m\u001b[0;34m)\u001b[0m\u001b[0;34m\u001b[0m\u001b[0;34m\u001b[0m\u001b[0m\n\u001b[0m\u001b[1;32m     24\u001b[0m \u001b[0mprint\u001b[0m\u001b[0;34m(\u001b[0m\u001b[0;34mf'{x.brand}:{x.model}'\u001b[0m\u001b[0;34m)\u001b[0m\u001b[0;34m\u001b[0m\u001b[0;34m\u001b[0m\u001b[0m\n",
      "\u001b[0;31mTypeError\u001b[0m: __init__() missing 1 required positional argument: 'resolution'"
     ]
    }
   ],
   "source": [
    "#15 Create a base class named Device with an attribute brand. Create a derived class \n",
    "# Phone that inherits from Device and adds an attribute model. Create another base \n",
    "# class Camera with an attribute resolution. Create a derived class Smartphone that \n",
    "# inherits from both Phone and Camera. Create an object of the Smartphone class and \n",
    "# print its attributes.\n",
    "\n",
    "class Device:\n",
    "    def __init__(self,brand):\n",
    "        self.brand = brand\n",
    "class Phone(Device):\n",
    "    def __init__(self,brand,model):\n",
    "        super().__init__(brand)\n",
    "        self.model = model\n",
    "class Camera:\n",
    "    def __init__(self,resolution):\n",
    "        self.resolution = resolution\n",
    "class Smartphone(Phone,Camera):\n",
    "    def __init__(self,brand,model,resolution):\n",
    "        Phone.__init__(self,brand,model)\n",
    "        Camera.__init__(self,resolution)\n",
    "        \n",
    "\n",
    "x = Smartphone('apple','14')\n",
    "print(f'{x.brand}:{x.model}')\n"
   ]
  },
  {
   "cell_type": "code",
   "execution_count": null,
   "id": "85746f13",
   "metadata": {},
   "outputs": [],
   "source": []
  }
 ],
 "metadata": {
  "kernelspec": {
   "display_name": "Python 3 (ipykernel)",
   "language": "python",
   "name": "python3"
  },
  "language_info": {
   "codemirror_mode": {
    "name": "ipython",
    "version": 3
   },
   "file_extension": ".py",
   "mimetype": "text/x-python",
   "name": "python",
   "nbconvert_exporter": "python",
   "pygments_lexer": "ipython3",
   "version": "3.9.7"
  }
 },
 "nbformat": 4,
 "nbformat_minor": 5
}
