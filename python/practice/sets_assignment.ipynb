{
 "cells": [
  {
   "cell_type": "markdown",
   "id": "61106a96",
   "metadata": {},
   "source": [
    "# Module 3: Data Structures Assignments\n",
    "## Lesson 3.3: Sets\n",
    "### Assignment 1: Creating and Accessing Sets\n",
    "\n",
    "Create a set with the first 10 positive integers. Print the set.\n",
    "\n",
    "### Assignment 2: Adding and Removing Elements\n",
    "\n",
    "Add the number 11 to the set created in Assignment 1. Then remove the number 1 from the set. Print the modified set.\n",
    "\n",
    "### Assignment 3: Set Operations\n",
    "\n",
    "Create two sets: one with the first 5 positive integers and another with the first 5 even integers. Perform and print the results of union, intersection, difference, and symmetric difference operations on these sets.\n",
    "\n",
    "### Assignment 4: Set Comprehensions\n",
    "\n",
    "Create a new set containing the squares of the first 10 positive integers using a set comprehension. Print the new set.\n",
    "\n",
    "### Assignment 5: Filtering Sets\n",
    "\n",
    "Create a new set containing only the even numbers from the set created in Assignment 1 using a set comprehension. Print the new set.\n",
    "\n",
    "### Assignment 6: Set Methods\n",
    "\n",
    "Create a set with duplicate elements and remove the duplicates using set methods. Print the modified set.\n",
    "\n",
    "### Assignment 7: Subsets and Supersets\n",
    "\n",
    "Create two sets: one with the first 5 positive integers and another with the first 3 positive integers. Check if the second set is a subset of the first set and if the first set is a superset of the second set. Print the results.\n",
    "\n",
    "### Assignment 8: Frozenset\n",
    "\n",
    "Create a frozenset with the first 5 positive integers. Print the frozenset.\n",
    "\n",
    "### Assignment 9: Set and List Conversion\n",
    "\n",
    "Create a set with the first 5 positive integers. Convert it to a list, append the number 6, and convert it back to a set. Print the resulting set.\n",
    "\n",
    "### Assignment 10: Set and Dictionary\n",
    "\n",
    "Create a dictionary with set keys and integer values. Print the dictionary.\n",
    "\n",
    "### Assignment 11: Iterating Over Sets\n",
    "\n",
    "Create a set and iterate over the elements, printing each element.\n",
    "\n",
    "### Assignment 12: Removing Elements from Sets\n",
    "\n",
    "Create a set and remove elements from it until it is empty. Print the set after each removal.\n",
    "\n",
    "### Assignment 13: Set Symmetric Difference Update\n",
    "\n",
    "Create two sets and update the first set with the symmetric difference of the two sets. Print the modified first set.\n",
    "\n",
    "### Assignment 14: Set Membership Testing\n",
    "\n",
    "Create a set and test if certain elements are present in the set. Print the results.\n",
    "\n",
    "### Assignment 15: Set of Tuples\n",
    "\n",
    "Create a set containing tuples, where each tuple contains two elements. Print the set."
   ]
  },
  {
   "cell_type": "code",
   "execution_count": 5,
   "id": "e50ee4a1",
   "metadata": {},
   "outputs": [
    {
     "name": "stdout",
     "output_type": "stream",
     "text": [
      "1\n",
      "2\n",
      "3\n",
      "4\n",
      "5\n",
      "6\n",
      "7\n",
      "8\n",
      "9\n",
      "10\n"
     ]
    }
   ],
   "source": [
    "#1 Create a set with the first 10 positive integers. Print the set.\n",
    "\n",
    "x = set([1,2,3,4,5,6,7,8,9,10])\n",
    "for i in x:\n",
    "    print(i)"
   ]
  },
  {
   "cell_type": "code",
   "execution_count": 7,
   "id": "4638b2dd",
   "metadata": {},
   "outputs": [
    {
     "data": {
      "text/plain": [
       "{2, 3, 4, 5, 6, 7, 8, 9, 10, 11}"
      ]
     },
     "execution_count": 7,
     "metadata": {},
     "output_type": "execute_result"
    }
   ],
   "source": [
    "#2 Add the number 11 to the set created in Assignment 1. Then remove the number 1 from the set. \n",
    "#Print the modified set.\n",
    "\n",
    "x.add(11)\n",
    "x\n",
    "x.remove(1)\n",
    "x"
   ]
  },
  {
   "cell_type": "code",
   "execution_count": 12,
   "id": "a299c161",
   "metadata": {},
   "outputs": [
    {
     "name": "stdout",
     "output_type": "stream",
     "text": [
      "union:{1, 2, 3, 4, 5, 7, 9}\n",
      "intersection:{1, 3, 5}\n",
      "difference:{2, 4}\n",
      "symmetric_differenc:{2, 4, 7, 9}\n"
     ]
    }
   ],
   "source": [
    "#3 Create two sets: one with the first 5 positive integers and another with the first 5 even integers. \n",
    "#Perform and print the results of union, intersection, \n",
    "#difference, and symmetric difference operations on these sets.\n",
    "x = set([1,2,3,4,5])\n",
    "y = set([1,3,5,7,9])\n",
    "print(f'union:{x.union(y)}')\n",
    "print(f'intersection:{x.intersection(y)}')\n",
    "print(f'difference:{x.difference(y)}')\n",
    "print(f'symmetric_differenc:{x.symmetric_difference(y)}')"
   ]
  },
  {
   "cell_type": "code",
   "execution_count": 17,
   "id": "a0b552b3",
   "metadata": {},
   "outputs": [
    {
     "name": "stdout",
     "output_type": "stream",
     "text": [
      "{0, 1, 64, 4, 36, 9, 16, 49, 81, 25}\n"
     ]
    }
   ],
   "source": [
    "# Create a new set containing the squares of the first 10 positive integers using a set comprehension. Print the new set.\n",
    "x = set([i**2 for i in range(0,10)])\n",
    "print(x)"
   ]
  },
  {
   "cell_type": "code",
   "execution_count": 19,
   "id": "42ae6e3c",
   "metadata": {},
   "outputs": [
    {
     "name": "stdout",
     "output_type": "stream",
     "text": [
      "{0, 2, 4, 6, 8}\n"
     ]
    }
   ],
   "source": [
    "#5 Create a new set containing only the even numbers from the set created in Assignment 1 \n",
    "# using a set comprehension. Print the new set.\n",
    "\n",
    "x = set([i for i in range(0,10) if i%2 == 0])\n",
    "print(x)"
   ]
  },
  {
   "cell_type": "code",
   "execution_count": 22,
   "id": "fd1be3a7",
   "metadata": {},
   "outputs": [
    {
     "data": {
      "text/plain": [
       "{1, 2, 3, 4, 5, 666}"
      ]
     },
     "execution_count": 22,
     "metadata": {},
     "output_type": "execute_result"
    }
   ],
   "source": [
    "#6 Create a set with duplicate elements and remove the duplicates using set methods. Print the modified set.\n",
    "\n",
    "x = [1,1,3,3,2,4,5,666,]\n",
    "set(x)"
   ]
  },
  {
   "cell_type": "code",
   "execution_count": 25,
   "id": "04888ade",
   "metadata": {},
   "outputs": [
    {
     "name": "stdout",
     "output_type": "stream",
     "text": [
      "True\n"
     ]
    }
   ],
   "source": [
    "#7 Create two sets: one with the first 5 positive integers and another with the first 3 positive integers. \n",
    "#Check if the second set is a subset of the first set and if the first set is a superset of the second set. Print the results.\n",
    "\n",
    "x = set([1,2,3,4,5])\n",
    "y = set([1,2,3])\n",
    "\n",
    "print(y.issubset(x))"
   ]
  },
  {
   "cell_type": "code",
   "execution_count": 28,
   "id": "72ebf4fa",
   "metadata": {},
   "outputs": [
    {
     "name": "stdout",
     "output_type": "stream",
     "text": [
      "frozenset({1, 2, 3, 4})\n"
     ]
    }
   ],
   "source": [
    "# 8 Create a frozenset with the first 5 positive integers. Print the frozenset.\n",
    "x = frozenset([1, 2, 3, 4])\n",
    "y = frozenset([1, 2, 3, 4])\n",
    "\n",
    "print(x.union(y))"
   ]
  },
  {
   "cell_type": "code",
   "execution_count": 37,
   "id": "05a7d831",
   "metadata": {},
   "outputs": [
    {
     "name": "stdout",
     "output_type": "stream",
     "text": [
      "<class 'set'> <class 'list'> <class 'NoneType'> [1, 2, 3, 4, 5, 6] <class 'set'>\n"
     ]
    }
   ],
   "source": [
    "# 9 Create a set with the first 5 positive integers. Convert it to a list, \n",
    "# append the number 6, and convert it back to a set. Print the resulting set.\n",
    "\n",
    "s = set([1,2,3,4,5])\n",
    "to_lst = list(s)\n",
    "ad = to_lst.append(6)\n",
    "to_set = set(to_lst)\n",
    "\n",
    "print(type(s),type(to_lst),type(ad),to_lst,type(to_set))"
   ]
  },
  {
   "cell_type": "code",
   "execution_count": 45,
   "id": "5c25b336",
   "metadata": {},
   "outputs": [],
   "source": [
    "#10 Create a dictionary with set keys and integer values. Print the dictionary.\n",
    "\n",
    "x = set({'name':'x','value':0})"
   ]
  },
  {
   "cell_type": "code",
   "execution_count": 47,
   "id": "8c4a04b9",
   "metadata": {},
   "outputs": [
    {
     "name": "stdout",
     "output_type": "stream",
     "text": [
      "1\n",
      "2\n",
      "3\n",
      "4\n",
      "5\n",
      "6\n",
      "7\n",
      "8\n"
     ]
    }
   ],
   "source": [
    "#11 Create a set and iterate over the elements, printing each element.\n",
    "\n",
    "x = set([1,2,3,4,5,6,7,8])\n",
    "\n",
    "for i in x:\n",
    "    print(i)"
   ]
  },
  {
   "cell_type": "code",
   "execution_count": 57,
   "id": "8bd9a99c",
   "metadata": {},
   "outputs": [
    {
     "ename": "KeyError",
     "evalue": "0",
     "output_type": "error",
     "traceback": [
      "\u001b[0;31m---------------------------------------------------------------------------\u001b[0m",
      "\u001b[0;31mKeyError\u001b[0m                                  Traceback (most recent call last)",
      "\u001b[0;32m/var/folders/w1/5x7mg9w96sdb1jf3cwpzcq7r0000gn/T/ipykernel_1969/3557425485.py\u001b[0m in \u001b[0;36m<module>\u001b[0;34m\u001b[0m\n\u001b[1;32m      5\u001b[0m \u001b[0;32mfor\u001b[0m \u001b[0mi\u001b[0m \u001b[0;32min\u001b[0m \u001b[0mrange\u001b[0m\u001b[0;34m(\u001b[0m\u001b[0;36m0\u001b[0m\u001b[0;34m,\u001b[0m\u001b[0mlen\u001b[0m\u001b[0;34m(\u001b[0m\u001b[0mx\u001b[0m\u001b[0;34m)\u001b[0m\u001b[0;34m)\u001b[0m\u001b[0;34m:\u001b[0m\u001b[0;34m\u001b[0m\u001b[0;34m\u001b[0m\u001b[0m\n\u001b[1;32m      6\u001b[0m     \u001b[0;32mif\u001b[0m \u001b[0mlen\u001b[0m\u001b[0;34m(\u001b[0m\u001b[0mx\u001b[0m\u001b[0;34m)\u001b[0m \u001b[0;34m<\u001b[0m \u001b[0mlen\u001b[0m\u001b[0;34m(\u001b[0m\u001b[0mx\u001b[0m\u001b[0;34m)\u001b[0m\u001b[0;34m+\u001b[0m\u001b[0;36m1\u001b[0m\u001b[0;34m:\u001b[0m\u001b[0;34m\u001b[0m\u001b[0;34m\u001b[0m\u001b[0m\n\u001b[0;32m----> 7\u001b[0;31m         \u001b[0mx\u001b[0m\u001b[0;34m.\u001b[0m\u001b[0mremove\u001b[0m\u001b[0;34m(\u001b[0m\u001b[0mi\u001b[0m\u001b[0;34m)\u001b[0m\u001b[0;34m\u001b[0m\u001b[0;34m\u001b[0m\u001b[0m\n\u001b[0m\u001b[1;32m      8\u001b[0m         \u001b[0mprint\u001b[0m\u001b[0;34m(\u001b[0m\u001b[0mx\u001b[0m\u001b[0;34m)\u001b[0m\u001b[0;34m\u001b[0m\u001b[0;34m\u001b[0m\u001b[0m\n",
      "\u001b[0;31mKeyError\u001b[0m: 0"
     ]
    }
   ],
   "source": [
    "#12 Create a set and remove elements from it until it is empty. Print the set after each removal.\n",
    "\n",
    "x = set([1,2,3,4,5,6,7,8])\n",
    "\n",
    "for i in range(0,len(x)):\n",
    "    if len(x) < len(x)+1:\n",
    "        x.remove(i)\n",
    "        print(x)"
   ]
  },
  {
   "cell_type": "code",
   "execution_count": 59,
   "id": "4b3fbb22",
   "metadata": {},
   "outputs": [
    {
     "data": {
      "text/plain": [
       "True"
      ]
     },
     "execution_count": 59,
     "metadata": {},
     "output_type": "execute_result"
    }
   ],
   "source": [
    "#14 Create a set and test if certain elements are present in the set. Print the results.\n",
    "\n",
    "x = set([1,2,3,4,5,6,7,8])\n",
    "y = set([4,5])\n",
    "\n",
    "y.issubset(x)"
   ]
  },
  {
   "cell_type": "code",
   "execution_count": 60,
   "id": "9032d090",
   "metadata": {},
   "outputs": [
    {
     "ename": "TypeError",
     "evalue": "set expected at most 1 argument, got 3",
     "output_type": "error",
     "traceback": [
      "\u001b[0;31m---------------------------------------------------------------------------\u001b[0m",
      "\u001b[0;31mTypeError\u001b[0m                                 Traceback (most recent call last)",
      "\u001b[0;32m/var/folders/w1/5x7mg9w96sdb1jf3cwpzcq7r0000gn/T/ipykernel_1969/3896063730.py\u001b[0m in \u001b[0;36m<module>\u001b[0;34m\u001b[0m\n\u001b[1;32m      1\u001b[0m \u001b[0;31m#15 Create a set containing tuples, where each tuple contains two elements. Print the set.\u001b[0m\u001b[0;34m\u001b[0m\u001b[0;34m\u001b[0m\u001b[0m\n\u001b[1;32m      2\u001b[0m \u001b[0;34m\u001b[0m\u001b[0m\n\u001b[0;32m----> 3\u001b[0;31m \u001b[0mx\u001b[0m \u001b[0;34m=\u001b[0m \u001b[0mset\u001b[0m\u001b[0;34m(\u001b[0m\u001b[0;34m(\u001b[0m\u001b[0;36m1\u001b[0m\u001b[0;34m,\u001b[0m\u001b[0;36m2\u001b[0m\u001b[0;34m)\u001b[0m\u001b[0;34m,\u001b[0m\u001b[0;34m(\u001b[0m\u001b[0;36m3\u001b[0m\u001b[0;34m,\u001b[0m\u001b[0;36m4\u001b[0m\u001b[0;34m)\u001b[0m\u001b[0;34m,\u001b[0m\u001b[0;34m(\u001b[0m\u001b[0;36m7\u001b[0m\u001b[0;34m,\u001b[0m\u001b[0;36m2\u001b[0m\u001b[0;34m)\u001b[0m\u001b[0;34m)\u001b[0m\u001b[0;34m\u001b[0m\u001b[0;34m\u001b[0m\u001b[0m\n\u001b[0m\u001b[1;32m      4\u001b[0m \u001b[0;34m\u001b[0m\u001b[0m\n\u001b[1;32m      5\u001b[0m \u001b[0;32mfor\u001b[0m \u001b[0mi\u001b[0m \u001b[0;32min\u001b[0m \u001b[0mx\u001b[0m\u001b[0;34m:\u001b[0m\u001b[0;34m\u001b[0m\u001b[0;34m\u001b[0m\u001b[0m\n",
      "\u001b[0;31mTypeError\u001b[0m: set expected at most 1 argument, got 3"
     ]
    }
   ],
   "source": [
    "#15 Create a set containing tuples, where each tuple contains two elements. Print the set.\n",
    "\n",
    "x = set((1,2),(3,4),(7,2))\n",
    "\n",
    "for i in x:\n",
    "    print(i)"
   ]
  },
  {
   "cell_type": "code",
   "execution_count": null,
   "id": "00dd0b8c",
   "metadata": {},
   "outputs": [],
   "source": []
  }
 ],
 "metadata": {
  "kernelspec": {
   "display_name": "Python 3 (ipykernel)",
   "language": "python",
   "name": "python3"
  },
  "language_info": {
   "codemirror_mode": {
    "name": "ipython",
    "version": 3
   },
   "file_extension": ".py",
   "mimetype": "text/x-python",
   "name": "python",
   "nbconvert_exporter": "python",
   "pygments_lexer": "ipython3",
   "version": "3.9.7"
  }
 },
 "nbformat": 4,
 "nbformat_minor": 5
}
