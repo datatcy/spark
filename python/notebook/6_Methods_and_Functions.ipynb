{
 "cells": [
  {
   "cell_type": "markdown",
   "metadata": {},
   "source": [
    "- in order to work with multiple positional arguments in sum(), we have to pass as tuple \n",
    "- def myfunc(*args): # creates tuple data type structure and allow to pass multiple values\n",
    "    \t\treturn sum(args) * 0.5\n",
    "         "
   ]
  },
  {
   "cell_type": "markdown",
   "metadata": {},
   "source": [
    "<B>FUNCTIONS</B>"
   ]
  },
  {
   "cell_type": "code",
   "execution_count": 4,
   "metadata": {},
   "outputs": [],
   "source": [
    "def name_of_fuction():\n",
    "        '''\n",
    "        DOCSTRING: Information about the function\n",
    "        INPUT: no input..\n",
    "        OUTPUT: Hello..\n",
    "        '''\n",
    "        print('Hello')\n",
    "        \n"
   ]
  },
  {
   "cell_type": "code",
   "execution_count": 6,
   "metadata": {},
   "outputs": [
    {
     "name": "stdout",
     "output_type": "stream",
     "text": [
      "Hello\n"
     ]
    }
   ],
   "source": [
    "name_of_fuction()"
   ]
  },
  {
   "cell_type": "markdown",
   "metadata": {},
   "source": [
    "<b>FUNCTION WITH ONE PARAMETER</B>"
   ]
  },
  {
   "cell_type": "code",
   "execution_count": 13,
   "metadata": {},
   "outputs": [],
   "source": [
    "def say_hello(name):\n",
    "    print('Hello '+name)"
   ]
  },
  {
   "cell_type": "code",
   "execution_count": 14,
   "metadata": {},
   "outputs": [
    {
     "name": "stdout",
     "output_type": "stream",
     "text": [
      "Hello frank\n"
     ]
    }
   ],
   "source": [
    "say_hello('frank')"
   ]
  },
  {
   "cell_type": "markdown",
   "metadata": {},
   "source": [
    "<b>FUNCTION WITH DEFAULT PARAMETER</B>"
   ]
  },
  {
   "cell_type": "code",
   "execution_count": 15,
   "metadata": {},
   "outputs": [],
   "source": [
    "def say_hello(name='FRANK'):\n",
    "    print('Hello '+name)"
   ]
  },
  {
   "cell_type": "code",
   "execution_count": 17,
   "metadata": {},
   "outputs": [
    {
     "name": "stdout",
     "output_type": "stream",
     "text": [
      "Hello FRANK\n"
     ]
    }
   ],
   "source": [
    "say_hello()"
   ]
  },
  {
   "cell_type": "markdown",
   "metadata": {},
   "source": [
    "<b>FUNCTION WITH RETURN <B>"
   ]
  },
  {
   "cell_type": "code",
   "execution_count": 18,
   "metadata": {},
   "outputs": [],
   "source": [
    "def say_hello(name='Frank'):\n",
    "    return 'Hello '+name"
   ]
  },
  {
   "cell_type": "code",
   "execution_count": 19,
   "metadata": {},
   "outputs": [
    {
     "data": {
      "text/plain": [
       "'Hello Jose'"
      ]
     },
     "execution_count": 19,
     "metadata": {},
     "output_type": "execute_result"
    }
   ],
   "source": [
    "result=say_hello('Jose')\n",
    "result"
   ]
  },
  {
   "cell_type": "code",
   "execution_count": 20,
   "metadata": {},
   "outputs": [],
   "source": [
    "def piglatin(word):\n",
    "    first_letter = word[0]\n",
    "    if first_letter in 'aeiou':\n",
    "        pig_word=word+'ay'\n",
    "    else:\n",
    "        pig_word=word[1:]+first_letter+'ay'\n",
    "    return pig_word"
   ]
  },
  {
   "cell_type": "code",
   "execution_count": 23,
   "metadata": {},
   "outputs": [
    {
     "data": {
      "text/plain": [
       "'pple0ay'"
      ]
     },
     "execution_count": 23,
     "metadata": {},
     "output_type": "execute_result"
    }
   ],
   "source": [
    "piglatin('0pple')"
   ]
  },
  {
   "cell_type": "markdown",
   "metadata": {},
   "source": [
    "<b>Solution link for the problems </b>\n",
    "\n",
    "https://docs.google.com/document/d/181AMuP-V5VnSorl_q7p6BYd8mwXWBnsZY_sSPA8trfc/edit?usp=sharing\n",
    "\n"
   ]
  },
  {
   "cell_type": "markdown",
   "metadata": {},
   "source": [
    "<b>Function #1: Print Hello Word</b><br>\n",
    "    Write a function called 'myfunc' that prints the string 'Hello World'"
   ]
  },
  {
   "cell_type": "code",
   "execution_count": 24,
   "metadata": {},
   "outputs": [],
   "source": [
    "def myfunc():\n",
    "    print('Hello World')"
   ]
  },
  {
   "cell_type": "code",
   "execution_count": 25,
   "metadata": {},
   "outputs": [
    {
     "name": "stdout",
     "output_type": "stream",
     "text": [
      "Hello World\n"
     ]
    }
   ],
   "source": [
    "myfunc()"
   ]
  },
  {
   "cell_type": "markdown",
   "metadata": {},
   "source": [
    "<b>Function #2: Print Hello Word</b><br>\n",
    "Define a function called myfunc that takes in a name, and prints 'Hello Name'"
   ]
  },
  {
   "cell_type": "code",
   "execution_count": 51,
   "metadata": {},
   "outputs": [],
   "source": [
    "def myfunc(name='Name'):\n",
    "    print('Hello '+name)"
   ]
  },
  {
   "cell_type": "code",
   "execution_count": 53,
   "metadata": {},
   "outputs": [
    {
     "name": "stdout",
     "output_type": "stream",
     "text": [
      "Hello Name\n"
     ]
    }
   ],
   "source": [
    "myfunc()"
   ]
  },
  {
   "cell_type": "markdown",
   "metadata": {},
   "source": [
    "<b>Function #3: Print Hello Word</b><br>\n",
    "Define a function called myfunc that thakes in a Boolean value (True or False). If True return 'Hello', and if False return 'Goodbye'"
   ]
  },
  {
   "cell_type": "code",
   "execution_count": 55,
   "metadata": {},
   "outputs": [],
   "source": [
    "def myfunc(a):\n",
    "    if a >= 0:\n",
    "        return 'Hello'\n",
    "    else:\n",
    "        return 'Goodbye'"
   ]
  },
  {
   "cell_type": "code",
   "execution_count": 58,
   "metadata": {},
   "outputs": [
    {
     "data": {
      "text/plain": [
       "'Goodbye'"
      ]
     },
     "execution_count": 58,
     "metadata": {},
     "output_type": "execute_result"
    }
   ],
   "source": [
    "myfunc(-1)"
   ]
  },
  {
   "cell_type": "markdown",
   "metadata": {},
   "source": [
    "<b>Function #4: Print Hello Word</b><br>\n",
    "Defind a function called myfunc that takes three arguments x,y and z if z is True, return x, if z is false return y"
   ]
  },
  {
   "cell_type": "code",
   "execution_count": 69,
   "metadata": {},
   "outputs": [],
   "source": [
    "def myfunc(x,y,z):\n",
    "    if z == True:\n",
    "        return x\n",
    "    else:\n",
    "        return y"
   ]
  },
  {
   "cell_type": "code",
   "execution_count": 70,
   "metadata": {},
   "outputs": [
    {
     "data": {
      "text/plain": [
       "'b'"
      ]
     },
     "execution_count": 70,
     "metadata": {},
     "output_type": "execute_result"
    }
   ],
   "source": [
    "myfunc('a','b','c')\n"
   ]
  },
  {
   "cell_type": "markdown",
   "metadata": {},
   "source": [
    "<b>Function #5: Print Hello Word</b><br>\n",
    "Define a function called myfunc that takes in two arguments adn returns their sum"
   ]
  },
  {
   "cell_type": "code",
   "execution_count": 71,
   "metadata": {},
   "outputs": [],
   "source": [
    "def myfunc(a,b):\n",
    "    return a+b"
   ]
  },
  {
   "cell_type": "code",
   "execution_count": 72,
   "metadata": {},
   "outputs": [
    {
     "data": {
      "text/plain": [
       "9"
      ]
     },
     "execution_count": 72,
     "metadata": {},
     "output_type": "execute_result"
    }
   ],
   "source": [
    "myfunc(4,5)"
   ]
  },
  {
   "cell_type": "markdown",
   "metadata": {},
   "source": [
    "<b>Function #6: Print Hello Word</b><br>\n",
    "Define a function called 'is_even' that takes in one arguments, and returns True if the passed-in value is even, False if it is not"
   ]
  },
  {
   "cell_type": "code",
   "execution_count": 73,
   "metadata": {},
   "outputs": [],
   "source": [
    "def is_even(x):\n",
    "    return x%2==0"
   ]
  },
  {
   "cell_type": "code",
   "execution_count": 75,
   "metadata": {},
   "outputs": [
    {
     "data": {
      "text/plain": [
       "False"
      ]
     },
     "execution_count": 75,
     "metadata": {},
     "output_type": "execute_result"
    }
   ],
   "source": [
    "is_even(11)"
   ]
  },
  {
   "cell_type": "markdown",
   "metadata": {},
   "source": [
    "<b>Function #7: Print Hello Word</b><br>\n",
    "Define a function called is_greater that takes in two arguments, and returns True if the first value is greater than the second, False if it is less than or equal to the second"
   ]
  },
  {
   "cell_type": "code",
   "execution_count": 76,
   "metadata": {},
   "outputs": [],
   "source": [
    "def is_greater(a,b):\n",
    "    return a > b"
   ]
  },
  {
   "cell_type": "code",
   "execution_count": 79,
   "metadata": {},
   "outputs": [
    {
     "data": {
      "text/plain": [
       "False"
      ]
     },
     "execution_count": 79,
     "metadata": {},
     "output_type": "execute_result"
    }
   ],
   "source": [
    "is_greater(-1,1)"
   ]
  },
  {
   "cell_type": "markdown",
   "metadata": {},
   "source": [
    "<b>*args and **kwargs (arguments to create tuples, keyword argumet to create dictinary</b>"
   ]
  },
  {
   "cell_type": "code",
   "execution_count": 3,
   "metadata": {},
   "outputs": [],
   "source": [
    "def myfun(a,b):\n",
    "    return max(a,b) * 0.5"
   ]
  },
  {
   "cell_type": "code",
   "execution_count": 4,
   "metadata": {},
   "outputs": [
    {
     "data": {
      "text/plain": [
       "30.0"
      ]
     },
     "execution_count": 4,
     "metadata": {},
     "output_type": "execute_result"
    }
   ],
   "source": [
    "myfun(50,60)"
   ]
  },
  {
   "cell_type": "code",
   "execution_count": 5,
   "metadata": {},
   "outputs": [],
   "source": [
    "def myfunc(*args): # creates tuple data type structure and allow to pass multiple values\n",
    "    return sum(args) * 0.5\n"
   ]
  },
  {
   "cell_type": "code",
   "execution_count": 6,
   "metadata": {},
   "outputs": [
    {
     "data": {
      "text/plain": [
       "117.5"
      ]
     },
     "execution_count": 6,
     "metadata": {},
     "output_type": "execute_result"
    }
   ],
   "source": [
    "myfunc(40,60,100,1,34)"
   ]
  },
  {
   "cell_type": "code",
   "execution_count": 11,
   "metadata": {},
   "outputs": [],
   "source": [
    "def myfunc(**kwargs): # **kwargs creted dictionary and allows to pass multiple 'key' 'values'\n",
    "        print(kwargs)\n",
    "        if 'fruits' in kwargs:\n",
    "            print('My fruit of choice is {}'.formar(kwargs['fruit']))\n",
    "        else:\n",
    "            print('I did not find any fruit here')"
   ]
  },
  {
   "cell_type": "code",
   "execution_count": 12,
   "metadata": {},
   "outputs": [
    {
     "name": "stdout",
     "output_type": "stream",
     "text": [
      "{'fruit': 'apple', 'veggie': 'lettuce'}\n",
      "I did not find any fruit here\n"
     ]
    }
   ],
   "source": [
    "myfunc(fruit='apple',veggie='lettuce')"
   ]
  },
  {
   "cell_type": "markdown",
   "metadata": {},
   "source": [
    "<B>COMBINATION OF *args and **kwargs</b>"
   ]
  },
  {
   "cell_type": "code",
   "execution_count": 13,
   "metadata": {},
   "outputs": [],
   "source": [
    "def myfunc(*args,**kwargs):\n",
    "    print(args)\n",
    "    print(kwargs)\n",
    "    print('I would like {} {}'.format(args[0],kwargs['food']))"
   ]
  },
  {
   "cell_type": "code",
   "execution_count": 14,
   "metadata": {},
   "outputs": [
    {
     "name": "stdout",
     "output_type": "stream",
     "text": [
      "(10, 20, 30)\n",
      "{'fruit': 'orange', 'food': 'eggs', 'animal': 'dog'}\n",
      "I would like 10 eggs\n"
     ]
    }
   ],
   "source": [
    "myfunc(10,20,30,fruit='orange',food='eggs',animal='dog')"
   ]
  },
  {
   "cell_type": "markdown",
   "metadata": {},
   "source": [
    "<b>Function #8: *args</b><br>\n",
    "Define a function called myfunc that takes in an arbitrary number of arguments, and returns the sum of those arguments"
   ]
  },
  {
   "cell_type": "code",
   "execution_count": 15,
   "metadata": {},
   "outputs": [],
   "source": [
    "def myfunc(*args):\n",
    "    return sum(args)"
   ]
  },
  {
   "cell_type": "code",
   "execution_count": 16,
   "metadata": {},
   "outputs": [
    {
     "data": {
      "text/plain": [
       "97"
      ]
     },
     "execution_count": 16,
     "metadata": {},
     "output_type": "execute_result"
    }
   ],
   "source": [
    "myfunc(12,46,39)"
   ]
  },
  {
   "cell_type": "markdown",
   "metadata": {},
   "source": [
    "<b>Function #9: pick even</b><br>\n",
    "Define a function called myfunc that takes in an arbitrary number of arguments, and returns a list containing only those arguments that are even"
   ]
  },
  {
   "cell_type": "code",
   "execution_count": 17,
   "metadata": {},
   "outputs": [],
   "source": [
    "def myfunc(*args):\n",
    "    return [x for x in args if x%2==0]"
   ]
  },
  {
   "cell_type": "code",
   "execution_count": 20,
   "metadata": {},
   "outputs": [
    {
     "data": {
      "text/plain": [
       "[10, 40]"
      ]
     },
     "execution_count": 20,
     "metadata": {},
     "output_type": "execute_result"
    }
   ],
   "source": [
    "myfunc(10,11,43,57,77,99,40)"
   ]
  },
  {
   "cell_type": "markdown",
   "metadata": {},
   "source": [
    "<b>Function #10: skyline</b><br>\n",
    "Define a function called myfunc that takes in a string, and returns a matching string where every even letter is uppercase, and every odd letter is lowercase.  Assume that the incoming string only contains letters, and don't worry about numbers, spaces or punctiation.  The output string can start with either an uppercase or lowercase letter, so long as letters alternae throughout the string."
   ]
  },
  {
   "cell_type": "code",
   "execution_count": 26,
   "metadata": {},
   "outputs": [],
   "source": [
    "def myfunc(name):\n",
    "    cons=list(range(0,len(name)))\n",
    "    rt=[]\n",
    "    for i in cons:\n",
    "        if i%2 !=0:\n",
    "            rt +=name[i].lower()\n",
    "        else:\n",
    "            rt +=name[i].upper()\n",
    "    return rt\n",
    "    \n",
    "    "
   ]
  },
  {
   "cell_type": "code",
   "execution_count": 27,
   "metadata": {},
   "outputs": [
    {
     "data": {
      "text/plain": [
       "['F', 'r', 'A', 'n', 'C', 'i', 'S', 'x', 'A', 'v', 'I', 'e', 'R']"
      ]
     },
     "execution_count": 27,
     "metadata": {},
     "output_type": "execute_result"
    }
   ],
   "source": [
    "myfunc('francisxavier')"
   ]
  },
  {
   "cell_type": "code",
   "execution_count": 39,
   "metadata": {},
   "outputs": [
    {
     "name": "stdout",
     "output_type": "stream",
     "text": [
      "F\n",
      "r\n",
      "A\n",
      "n\n",
      "C\n",
      "i\n",
      "S\n",
      "x\n",
      "A\n",
      "v\n",
      "I\n",
      "e\n",
      "R\n"
     ]
    }
   ],
   "source": [
    "for i,j in enumerate('francisxavier'):\n",
    "    #print(j)\n",
    "    rt = ''\n",
    "    if i%2 ==0:\n",
    "        rt += j.upper()\n",
    "        #print(j)\n",
    "    else:\n",
    "        rt += j.lower()\n",
    "    print(rt)\n",
    "    "
   ]
  },
  {
   "cell_type": "code",
   "execution_count": null,
   "metadata": {},
   "outputs": [],
   "source": [
    "x ='xdfasdfasdg'\n",
    "rs = ''\n",
    "for i in x:\n",
    "    if (x.index(i))%2 ==0:\n",
    "        rs +=i.upper()\n",
    "    else :\n",
    "        rs += i.lower()\n"
   ]
  },
  {
   "cell_type": "code",
   "execution_count": 41,
   "metadata": {},
   "outputs": [],
   "source": [
    "def myfunc(name):\n",
    "    rt = ''\n",
    "    for i,j in enumerate(name):\n",
    "        if i%2==0:\n",
    "            rt += j.upper()\n",
    "        else:\n",
    "            rt += j.lower()\n",
    "    return rt\n",
    "    \n",
    "    "
   ]
  },
  {
   "cell_type": "code",
   "execution_count": 42,
   "metadata": {},
   "outputs": [
    {
     "data": {
      "text/plain": [
       "'FrAnCiSxAvIeR'"
      ]
     },
     "execution_count": 42,
     "metadata": {},
     "output_type": "execute_result"
    }
   ],
   "source": [
    "myfunc('francisxavier')"
   ]
  },
  {
   "cell_type": "markdown",
   "metadata": {},
   "source": [
    "<B>FUNCTION PRACTICE EXERCISES</B>"
   ]
  },
  {
   "cell_type": "code",
   "execution_count": 89,
   "metadata": {},
   "outputs": [],
   "source": [
    "#Write a function that returns the lesser of two given numbers if both numbers are even, but returns the \n",
    "#greater if one or both numbers are odd¶\n",
    "def even_odd(*args):\n",
    "    if args[0] %2 ==0 and args[1]%2==0:\n",
    "        rt = min(args)\n",
    "    else:\n",
    "        rt = max(args)\n",
    "            \n",
    "    return rt\n",
    "        \n",
    "    "
   ]
  },
  {
   "cell_type": "code",
   "execution_count": 90,
   "metadata": {},
   "outputs": [
    {
     "data": {
      "text/plain": [
       "6"
      ]
     },
     "execution_count": 90,
     "metadata": {},
     "output_type": "execute_result"
    }
   ],
   "source": [
    "even_odd(2,5,6)"
   ]
  },
  {
   "cell_type": "code",
   "execution_count": 93,
   "metadata": {},
   "outputs": [],
   "source": [
    "def odd_even(a,b):\n",
    "    rt=0\n",
    "    if a%2 ==0 and b%2 ==0:\n",
    "        rt = min(a,b)\n",
    "    else:\n",
    "        rt = max(a,b)\n",
    "    return rt\n",
    "    "
   ]
  },
  {
   "cell_type": "code",
   "execution_count": 97,
   "metadata": {},
   "outputs": [
    {
     "data": {
      "text/plain": [
       "5"
      ]
     },
     "execution_count": 97,
     "metadata": {},
     "output_type": "execute_result"
    }
   ],
   "source": [
    "odd_even(2,5)"
   ]
  },
  {
   "cell_type": "code",
   "execution_count": 125,
   "metadata": {},
   "outputs": [],
   "source": [
    "'''ANIMAL CRACKERS: Write a function takes a two-word string and \n",
    "returns True if both words begin with same letter'''\n",
    "def word_fun(a):\n",
    "    x = a.split()\n",
    "    return x[0][0] == x[1][0]\n"
   ]
  },
  {
   "cell_type": "code",
   "execution_count": 127,
   "metadata": {},
   "outputs": [
    {
     "data": {
      "text/plain": [
       "False"
      ]
     },
     "execution_count": 127,
     "metadata": {},
     "output_type": "execute_result"
    }
   ],
   "source": [
    "word_fun('Levelheaded llama')"
   ]
  },
  {
   "cell_type": "code",
   "execution_count": 142,
   "metadata": {},
   "outputs": [],
   "source": [
    "'''MAKES TWENTY: Given two integers, return True if the sum of \n",
    "the integers is 20 or if one of the integers is 20. If not, return False\n",
    "'''\n",
    "def int20(a,b):\n",
    "    if sum((a,b)) ==20:\n",
    "        return True\n",
    "    elif a == 20 or b ==20:\n",
    "        return True\n",
    "    else:\n",
    "        return False\n",
    "    "
   ]
  },
  {
   "cell_type": "markdown",
   "metadata": {},
   "source": [
    "<b><h3>LEVEL 1 PROBLEMS</h3></b>"
   ]
  },
  {
   "cell_type": "code",
   "execution_count": 176,
   "metadata": {},
   "outputs": [],
   "source": [
    "'''OLD MACDONALD: Write a function that capitalizes the first and \n",
    "fourth letters of a name\n",
    "'''\n",
    "def mec(name):\n",
    "    rt=''\n",
    "    for i,j in enumerate(name):\n",
    "        if i == 0 or i ==3:\n",
    "            rt += j.upper()\n",
    "        else:\n",
    "            rt += j\n",
    "    return rt"
   ]
  },
  {
   "cell_type": "code",
   "execution_count": 178,
   "metadata": {},
   "outputs": [
    {
     "data": {
      "text/plain": [
       "'MacDonald'"
      ]
     },
     "execution_count": 178,
     "metadata": {},
     "output_type": "execute_result"
    }
   ],
   "source": [
    "mec('macdonald')"
   ]
  },
  {
   "cell_type": "code",
   "execution_count": 334,
   "metadata": {},
   "outputs": [],
   "source": [
    "'''\n",
    "MASTER YODA: Given a sentence, return a sentence with the words reversed\n",
    "master_yoda('I am home') --> 'home am I'\n",
    "master_yoda('We are ready') --> 'ready are We'\n",
    "Note: The .join() method may be useful here. The .join() method allows you to join together strings in a list \n",
    "with some connector string. \n",
    "For example, some uses of the .join() method:\n",
    "\n",
    ">>> \"--\".join(['a','b','c'])\n",
    ">>> 'a--b--c'\n",
    "This means if you had a list of words you wanted to turn back into a sentence, you could just join them \n",
    "with a single space string:\n",
    "\n",
    ">>> \" \".join(['Hello','world'])\n",
    ">>> \"Hello world\"\n",
    "'''\n",
    "\n",
    "def reverse(text):\n",
    "    return ' '.join(text.split()[::-1])"
   ]
  },
  {
   "cell_type": "code",
   "execution_count": 335,
   "metadata": {},
   "outputs": [
    {
     "data": {
      "text/plain": [
       "'home am i'"
      ]
     },
     "execution_count": 335,
     "metadata": {},
     "output_type": "execute_result"
    }
   ],
   "source": [
    "reverse('i am home')"
   ]
  },
  {
   "cell_type": "code",
   "execution_count": 333,
   "metadata": {},
   "outputs": [
    {
     "name": "stdout",
     "output_type": "stream",
     "text": [
      "homeami\n",
      "home am i\n"
     ]
    }
   ],
   "source": [
    "x = 'i am home'\n",
    "\n",
    "y=(x.split())\n",
    "rt = ''\n",
    "for i in y[::-1]:\n",
    "    #print(i)\n",
    "    rt += i\n",
    "print(rt)\n",
    "print(' '.join(y[::-1]))"
   ]
  },
  {
   "cell_type": "code",
   "execution_count": 2,
   "metadata": {},
   "outputs": [],
   "source": [
    "'''ALMOST THERE: Given an integer n, return True if n is within 10 of either 100 or 200\n",
    "almost_there(90) --> True\n",
    "almost_there(104) --> True\n",
    "almost_there(150) --> False\n",
    "almost_there(209) --> True\n",
    "NOTE: abs(num) returns the absolute value of a number\n",
    "'''\n",
    "def small_10(n):\n",
    "    return (abs(100 - n) <=10 or abs(200-n) <=10)"
   ]
  },
  {
   "cell_type": "code",
   "execution_count": 3,
   "metadata": {},
   "outputs": [
    {
     "data": {
      "text/plain": [
       "True"
      ]
     },
     "execution_count": 3,
     "metadata": {},
     "output_type": "execute_result"
    }
   ],
   "source": [
    "small_10(90)"
   ]
  },
  {
   "cell_type": "markdown",
   "metadata": {},
   "source": [
    "<b><h3>LEVEL 2 PROBLEMS</h3></b>"
   ]
  },
  {
   "cell_type": "code",
   "execution_count": 340,
   "metadata": {},
   "outputs": [
    {
     "data": {
      "text/plain": [
       "'\\nFIND 33:¶\\nGiven a list of ints, return True if the array contains a 3 next to a 3 somewhere.\\n\\nhas_33([1, 3, 3]) → True\\nhas_33([1, 3, 1, 3]) → False\\nhas_33([3, 1, 3]) → False\\n'"
      ]
     },
     "execution_count": 340,
     "metadata": {},
     "output_type": "execute_result"
    }
   ],
   "source": [
    "'''\n",
    "FIND 33:¶\n",
    "Given a list of ints, return True if the array contains a 3 next to a 3 somewhere.\n",
    "\n",
    "has_33([1, 3, 3]) → True\n",
    "has_33([1, 3, 1, 3]) → False\n",
    "has_33([3, 1, 3]) → False\n",
    "'''\n"
   ]
  },
  {
   "cell_type": "code",
   "execution_count": 11,
   "metadata": {},
   "outputs": [],
   "source": [
    "def find_33(a):\n",
    "    j = 0\n",
    "    k = None\n",
    "    for i in a[1::1]:\n",
    "        if a[j] == i:\n",
    "            k = 'True'\n",
    "        else:\n",
    "            k = 'False'\n",
    "        j +=1\n",
    "    return k\n"
   ]
  },
  {
   "cell_type": "code",
   "execution_count": 13,
   "metadata": {},
   "outputs": [
    {
     "data": {
      "text/plain": [
       "'False'"
      ]
     },
     "execution_count": 13,
     "metadata": {},
     "output_type": "execute_result"
    }
   ],
   "source": [
    "find_33([3,1,3])"
   ]
  },
  {
   "cell_type": "code",
   "execution_count": 14,
   "metadata": {},
   "outputs": [
    {
     "name": "stdout",
     "output_type": "stream",
     "text": [
      "3\n",
      "T\n",
      "1\n",
      "F\n",
      "3\n",
      "F\n",
      "3\n",
      "T\n",
      "1\n",
      "F\n"
     ]
    }
   ],
   "source": [
    "a =[3,3,1,3,3,1]\n",
    "j = 0\n",
    "for i in a[1::1]:\n",
    "    print(i)\n",
    "    if a[j] == i:\n",
    "        print('T')\n",
    "    else:\n",
    "        print('F')\n",
    "    j +=1"
   ]
  },
  {
   "cell_type": "code",
   "execution_count": 15,
   "metadata": {},
   "outputs": [],
   "source": [
    "'''PAPER DOLL: Given a string, return a string where for every character in the original there are three characters\n",
    "paper_doll('Hello') --> 'HHHeeellllllooo'\n",
    "paper_doll('Mississippi') --> 'MMMiiissssssiiippppppiii'\n",
    "'''\n",
    "def doll(a):\n",
    "    rt =[]\n",
    "    for i in a:\n",
    "        rt += i*3\n",
    "    return ''.join(rt)\n"
   ]
  },
  {
   "cell_type": "code",
   "execution_count": 16,
   "metadata": {},
   "outputs": [
    {
     "data": {
      "text/plain": [
       "'HHHeeellllllooo'"
      ]
     },
     "execution_count": 16,
     "metadata": {},
     "output_type": "execute_result"
    }
   ],
   "source": [
    "doll('Hello')"
   ]
  },
  {
   "cell_type": "code",
   "execution_count": 483,
   "metadata": {},
   "outputs": [
    {
     "name": "stdout",
     "output_type": "stream",
     "text": [
      "HHHeeellllllooo"
     ]
    }
   ],
   "source": [
    "for i in 'Hello':\n",
    "    print(i*3,end='')"
   ]
  },
  {
   "cell_type": "code",
   "execution_count": 524,
   "metadata": {},
   "outputs": [],
   "source": [
    "'''BLACKJACK: Given three integers between 1 and 11, if their sum is less than or equal to 21, \n",
    "return their sum. If their sum exceeds 21 and there's an eleven, reduce the total sum by 10. Finally, \n",
    "if the sum (even after adjustment) exceeds 21, return 'BUST'\n",
    "blackjack(5,6,7) --> 18\n",
    "blackjack(9,9,9) --> 'BUST'\n",
    "blackjack(9,9,11) --> 19'''\n",
    "def blackjack(a,b,c):\n",
    "    d = sum((a,b,c))\n",
    "    rt = None\n",
    "    if (a <=11 and a >=1) and (b <=11 and b >=1) and (c <=11 and c >=1):\n",
    "        if d <= 21:\n",
    "            rt = (d)\n",
    "        elif 11 in (a,b,c) and d > 21:\n",
    "            rt = (d -10)\n",
    "        elif d > 21:\n",
    "            rt ='BURST'\n",
    "        else:\n",
    "            None\n",
    "    else:\n",
    "        None\n",
    "    return rt"
   ]
  },
  {
   "cell_type": "code",
   "execution_count": 525,
   "metadata": {},
   "outputs": [
    {
     "data": {
      "text/plain": [
       "19"
      ]
     },
     "execution_count": 525,
     "metadata": {},
     "output_type": "execute_result"
    }
   ],
   "source": [
    "blackjack(9,9,11)"
   ]
  },
  {
   "cell_type": "code",
   "execution_count": 516,
   "metadata": {},
   "outputs": [
    {
     "name": "stdout",
     "output_type": "stream",
     "text": [
      "27\n",
      "BURST\n"
     ]
    }
   ],
   "source": [
    "a = 9\n",
    "b = 9\n",
    "c = 9\n",
    "d = sum((a,b,c)) #a+b+c\n",
    "print(d)\n",
    "rt = None\n",
    "if (a <=11 and a >=1) and (b <=11 and b >=1) and (c <=11 and c >=1):\n",
    "    if d <= 21:\n",
    "        rt = (d)\n",
    "    elif 11 in (a,b,c) and d > 21:\n",
    "        rt = (d -10)\n",
    "    elif d > 21:\n",
    "        rt ='BURST'\n",
    "    else:\n",
    "        None\n",
    "else:\n",
    "    None\n",
    "print(rt)\n",
    "    "
   ]
  },
  {
   "cell_type": "code",
   "execution_count": 526,
   "metadata": {},
   "outputs": [
    {
     "data": {
      "text/plain": [
       "\"SUMMER OF '69: Return the sum of the numbers in the array, except ignore sections of numbers starting with a 6 and extending to the next 9 (every 6 will be followed by at least one 9). Return 0 for no numbers.\\nsummer_69([1, 3, 5]) --> 9\\nsummer_69([4, 5, 6, 7, 8, 9]) --> 9\\nsummer_69([2, 1, 6, 9, 11]) --> 14\""
      ]
     },
     "execution_count": 526,
     "metadata": {},
     "output_type": "execute_result"
    }
   ],
   "source": [
    "'''SUMMER OF '69: Return the sum of the numbers in the array, except ignore sections of numbers starting \n",
    "with a 6 and extending to the next 9 (every 6 will be followed by at least one 9). Return 0 for no numbers.\n",
    "summer_69([1, 3, 5]) --> 9\n",
    "summer_69([4, 5, 6, 7, 8, 9]) --> 9\n",
    "summer_69([2, 1, 6, 9, 11]) --> 14'''"
   ]
  },
  {
   "cell_type": "code",
   "execution_count": 697,
   "metadata": {},
   "outputs": [],
   "source": [
    "def summer_69(arr):\n",
    "    b=0\n",
    "    c=0\n",
    "    d= None\n",
    "    \n",
    "    for i,j in enumerate(arr):\n",
    "        if j == 6:\n",
    "            b = i\n",
    "        elif j == 9:\n",
    "            c = i\n",
    "    print(b,c)\n",
    "    return  sum(arr[:])- sum(arr[b:c+1])\n"
   ]
  },
  {
   "cell_type": "code",
   "execution_count": 699,
   "metadata": {},
   "outputs": [
    {
     "name": "stdout",
     "output_type": "stream",
     "text": [
      "2 3\n"
     ]
    },
    {
     "data": {
      "text/plain": [
       "14"
      ]
     },
     "execution_count": 699,
     "metadata": {},
     "output_type": "execute_result"
    }
   ],
   "source": [
    "summer_69([2, 1, 6, 9, 11])"
   ]
  },
  {
   "cell_type": "code",
   "execution_count": 700,
   "metadata": {},
   "outputs": [
    {
     "name": "stdout",
     "output_type": "stream",
     "text": [
      "6 9\n"
     ]
    }
   ],
   "source": [
    "#a = [2, 1, 6, 9, 11]\n",
    "#a = [2, 1, 6, 9, 11]\n",
    "a =[1,3,5]\n",
    "b = 6\n",
    "c =9\n",
    "for i,j in enumerate(a):\n",
    "    #print(i,j)\n",
    "    if j == 6:\n",
    "        b = i\n",
    "    elif j ==9:\n",
    "        c =i\n",
    "print(b,c)"
   ]
  },
  {
   "cell_type": "code",
   "execution_count": 650,
   "metadata": {},
   "outputs": [],
   "source": [
    "rt = sum(a[0:]) - sum(a[b:c+1]) "
   ]
  },
  {
   "cell_type": "code",
   "execution_count": 651,
   "metadata": {},
   "outputs": [
    {
     "data": {
      "text/plain": [
       "9"
      ]
     },
     "execution_count": 651,
     "metadata": {},
     "output_type": "execute_result"
    }
   ],
   "source": [
    "rt"
   ]
  },
  {
   "cell_type": "markdown",
   "metadata": {},
   "source": [
    "<b><h3>CHALLENGING PROBLEMS</h3></b>"
   ]
  },
  {
   "cell_type": "code",
   "execution_count": 701,
   "metadata": {},
   "outputs": [
    {
     "data": {
      "text/plain": [
       "'SPY GAME: Write a function that takes in a list of integers and returns True if it contains 007 in order\\n spy_game([1,2,4,0,0,7,5]) --> True\\n spy_game([1,0,2,4,0,5,7]) --> True\\n spy_game([1,7,2,0,4,5,0]) --> False'"
      ]
     },
     "execution_count": 701,
     "metadata": {},
     "output_type": "execute_result"
    }
   ],
   "source": [
    "'''SPY GAME: Write a function that takes in a list of integers and returns True if it contains 007 in order\n",
    " spy_game([1,2,4,0,0,7,5]) --> True\n",
    " spy_game([1,0,2,4,0,5,7]) --> True\n",
    " spy_game([1,7,2,0,4,5,0]) --> False'''\n"
   ]
  },
  {
   "cell_type": "code",
   "execution_count": 145,
   "metadata": {},
   "outputs": [],
   "source": [
    "def spy_game(nums=0):\n",
    "    a =''\n",
    "    b =''\n",
    "    for i in nums[::]:\n",
    "        if i == 0 or i == 7:\n",
    "            a += str(i)\n",
    "            if a == '007':\n",
    "                b = 'True'\n",
    "                break\n",
    "        else:\n",
    "            b = 'False'\n",
    "    return b\n",
    "        "
   ]
  },
  {
   "cell_type": "code",
   "execution_count": 148,
   "metadata": {},
   "outputs": [
    {
     "data": {
      "text/plain": [
       "'True'"
      ]
     },
     "execution_count": 148,
     "metadata": {},
     "output_type": "execute_result"
    }
   ],
   "source": [
    "spy_game([1,2,4,0,0,7,5])"
   ]
  },
  {
   "cell_type": "code",
   "execution_count": 122,
   "metadata": {},
   "outputs": [
    {
     "name": "stdout",
     "output_type": "stream",
     "text": [
      "T\n"
     ]
    }
   ],
   "source": [
    "\n",
    "#a = [1,7,2,0,4,5,0]\n",
    "#a = [1,0,2,4,0,5,7]\n",
    "a =[1,2,4,0,0,7,5]\n",
    "b = len(a)\n",
    "c = ''\n",
    "d =''\n",
    "\n",
    "\n",
    "for i in a[:7:]:\n",
    "    if i == 0 or i ==7:\n",
    "        c += str(i)\n",
    "        if c =='007':\n",
    "            d ='T'\n",
    "            break\n",
    "    else:\n",
    "        d ='F'\n",
    "print(d)\n",
    "\n"
   ]
  },
  {
   "cell_type": "code",
   "execution_count": 121,
   "metadata": {},
   "outputs": [
    {
     "data": {
      "text/plain": [
       "\"while b > 0:\\n\\n    for c in a:\\n        print(c)\\n        print(a)\\n    b -=1\\n     for i,j in enumerate(a):\\n    print(i,j),'\\n')\\n    c = c.append(j)\""
      ]
     },
     "execution_count": 121,
     "metadata": {},
     "output_type": "execute_result"
    }
   ],
   "source": [
    "\n",
    "'''while b > 0:\n",
    "\n",
    "    for c in a:\n",
    "        print(c)\n",
    "        print(a)\n",
    "    b -=1\n",
    "     for i,j in enumerate(a):\n",
    "    print(i,j),'\\n')\n",
    "    c = c.append(j)'''"
   ]
  },
  {
   "cell_type": "code",
   "execution_count": 143,
   "metadata": {},
   "outputs": [],
   "source": [
    "#a = [1,7,2,0,4,5,0]\n",
    "#a = [1,0,2,4,0,5,7]\n",
    "#a =[1,2,4,0,0,7,5]\n",
    "def spy_game():\n",
    "    nums= [1,7,2,0,4,5,0]\n",
    "    a =''\n",
    "    b =''\n",
    "    for i in nums[::]:\n",
    "        if i == 0 or i == 7:\n",
    "            a += str(i)\n",
    "            if a == '007':\n",
    "                b = 'True'\n",
    "                break\n",
    "        else:\n",
    "            b = 'False'\n",
    "    return b\n",
    "        "
   ]
  },
  {
   "cell_type": "code",
   "execution_count": 144,
   "metadata": {},
   "outputs": [
    {
     "data": {
      "text/plain": [
       "'False'"
      ]
     },
     "execution_count": 144,
     "metadata": {},
     "output_type": "execute_result"
    }
   ],
   "source": [
    "spy_game()"
   ]
  },
  {
   "cell_type": "code",
   "execution_count": 149,
   "metadata": {},
   "outputs": [
    {
     "data": {
      "text/plain": [
       "'COUNT PRIMES: Write a function that returns the number of prime numbers that exist \\nup to and including a given number\\ncount_primes(100) --> 25\\nBy convention, 0 and 1 are not prime.'"
      ]
     },
     "execution_count": 149,
     "metadata": {},
     "output_type": "execute_result"
    }
   ],
   "source": [
    "'''COUNT PRIMES: Write a function that returns the number of prime numbers that exist \n",
    "up to and including a given number\n",
    "count_primes(100) --> 25\n",
    "By convention, 0 and 1 are not prime.'''"
   ]
  },
  {
   "cell_type": "markdown",
   "metadata": {},
   "source": [
    "<b>Properties of Prime Numbers</b><br>\n",
    "Some of the properties of prime numbers are:\n",
    "\n",
    "Every number greater than 1 can be divided by at least one prime number.<br>\n",
    "Every even positive integer greater than 2 can be expressed as the sum of two primes.<br>\n",
    "Except 2, all other prime numbers are odd. In other words, we can say that 2 is the only even prime number."
   ]
  },
  {
   "cell_type": "code",
   "execution_count": 215,
   "metadata": {},
   "outputs": [],
   "source": [
    "def count_prime(num):\n",
    "    primes = [2]\n",
    "    x = 3\n",
    "    if num < 2:\n",
    "        return 0\n",
    "    while x <= num:\n",
    "        for y in primes:  # use the primes list!\n",
    "            if x%y == 0:\n",
    "                x += 2\n",
    "                break\n",
    "        else:\n",
    "            primes.append(x)\n",
    "            x += 2\n",
    "    print(primes)\n",
    "    return len(primes)"
   ]
  },
  {
   "cell_type": "code",
   "execution_count": 216,
   "metadata": {},
   "outputs": [
    {
     "name": "stdout",
     "output_type": "stream",
     "text": [
      "[2, 3, 5, 7, 11, 13, 17, 19, 23, 29, 31, 37, 41, 43, 47, 53, 59, 61, 67, 71, 73, 79, 83, 89, 97]\n"
     ]
    },
    {
     "data": {
      "text/plain": [
       "25"
      ]
     },
     "execution_count": 216,
     "metadata": {},
     "output_type": "execute_result"
    }
   ],
   "source": [
    "count_prime(100)"
   ]
  },
  {
   "cell_type": "markdown",
   "metadata": {},
   "source": [
    "<b>Lambda Expressions Map and Filter: </b></br>\n",
    " - map(func, *iterables) -> map objects <br>\n",
    " - Make an iterator that computes the function using arguments from each of the iterables.  Stops when the shortest iterable is exhausted.\n",
    "<br>\n",
    "<br>\n",
    "<b>MAP Function</B>\n"
   ]
  },
  {
   "cell_type": "code",
   "execution_count": 221,
   "metadata": {},
   "outputs": [
    {
     "name": "stdout",
     "output_type": "stream",
     "text": [
      "1 4 9 16 25 "
     ]
    },
    {
     "data": {
      "text/plain": [
       "[1, 4, 9, 16, 25]"
      ]
     },
     "execution_count": 221,
     "metadata": {},
     "output_type": "execute_result"
    }
   ],
   "source": [
    "def squre(num):\n",
    "    return num **2\n",
    "\n",
    "my_num = [1,2,3,4,5]\n",
    "for item in map(squre, my_num):\n",
    "    print(item, end =' ')\n",
    "# ======in list form ======\n",
    "\n",
    "list(map(squre,my_num))"
   ]
  },
  {
   "cell_type": "code",
   "execution_count": 3,
   "metadata": {},
   "outputs": [
    {
     "name": "stdout",
     "output_type": "stream",
     "text": [
      "Even\n",
      "E S "
     ]
    }
   ],
   "source": [
    "name =['Andy','Eve','Sally']\n",
    "for i,j in enumerate(name):\n",
    "    if len(j)%2 ==0:\n",
    "        print('Even')\n",
    "    else:\n",
    "        print(name[i][0], end =' ')\n",
    "       "
   ]
  },
  {
   "cell_type": "code",
   "execution_count": 2,
   "metadata": {},
   "outputs": [
    {
     "data": {
      "text/plain": [
       "['EVEN', 'E', 'S']"
      ]
     },
     "execution_count": 2,
     "metadata": {},
     "output_type": "execute_result"
    }
   ],
   "source": [
    "def splicer(mystring):\n",
    "    if len(mystring)%2 ==0:\n",
    "        return 'EVEN'\n",
    "    else:\n",
    "        return mystring[0]\n",
    "    \n",
    "name =['Andy','Eve','Sally']\n",
    "list(map(splicer,name))"
   ]
  },
  {
   "cell_type": "markdown",
   "metadata": {},
   "source": [
    "<b>FILTER FUNCTION </B><br>\n",
    "- Fiter Function acts only if the applied function is TRUE / FALSE"
   ]
  },
  {
   "cell_type": "code",
   "execution_count": 5,
   "metadata": {},
   "outputs": [
    {
     "data": {
      "text/plain": [
       "[2, 4, 6]"
      ]
     },
     "execution_count": 5,
     "metadata": {},
     "output_type": "execute_result"
    }
   ],
   "source": [
    "def check_even(num):\n",
    "    return num%2 ==0\n",
    "\n",
    "mynums =[1,2,3,4,5,6,7]\n",
    "list(filter(check_even,mynums))"
   ]
  },
  {
   "cell_type": "markdown",
   "metadata": {},
   "source": [
    "<b>LAMBDA EXPRESSION<b><BR>\n",
    "  - Lambda function is anonymous function, used when functin requred for onc time only\n",
    "  - Lambda function works in conjucton with MA{ / FILTER Fuction"
   ]
  },
  {
   "cell_type": "code",
   "execution_count": 261,
   "metadata": {},
   "outputs": [
    {
     "data": {
      "text/plain": [
       "[1, 4, 9, 16, 25, 36, 49]"
      ]
     },
     "execution_count": 261,
     "metadata": {},
     "output_type": "execute_result"
    }
   ],
   "source": [
    "def squre(num):\n",
    "    result = num**2\n",
    "    return result\n",
    "# can be re-written as\n",
    "def squre(num):\n",
    "    return num**2\n",
    "# still can be re-written as \n",
    "def squre(num): return num**2\n",
    "# Turn this into lamda expression as\n",
    "squre=lambda num: num**2\n",
    "# Usually lambda function works in conjunction with MAP / Filter function\n",
    "list(map(lambda num: num**2,mynums))\n"
   ]
  },
  {
   "cell_type": "code",
   "execution_count": 260,
   "metadata": {},
   "outputs": [
    {
     "data": {
      "text/plain": [
       "9"
      ]
     },
     "execution_count": 260,
     "metadata": {},
     "output_type": "execute_result"
    }
   ],
   "source": [
    "squre(3)"
   ]
  },
  {
   "cell_type": "code",
   "execution_count": 6,
   "metadata": {},
   "outputs": [
    {
     "data": {
      "text/plain": [
       "[False, True, False, True, False, True, False]"
      ]
     },
     "execution_count": 6,
     "metadata": {},
     "output_type": "execute_result"
    }
   ],
   "source": [
    "def check_even(num):\n",
    "    return num%2 ==0\n",
    "list(map(lambda num: num%2==0,mynums))"
   ]
  },
  {
   "cell_type": "markdown",
   "metadata": {},
   "source": [
    "<b>Nested Statements and Scope</b><br>\n",
    "- LEGB Rule<br>\n",
    "\tL Local - Names assigned in any way within a function (def or lambda), and not declared global in that function<br>\n",
    "\tE Enclosing function locals - Names in the local scope of any and all enclosing functions (def or lambda), from inner to outer<br>\n",
    "\tG Global(module) - Names assigned at the top-level of a nodule file, or declared global in a def within the file.<br>\n",
    "\tB Built-in (Python) - Names preassigned in the built-in names module like… open, range, SyntaxError,..<br>\n",
    "\t          \t\n"
   ]
  },
  {
   "cell_type": "code",
   "execution_count": 265,
   "metadata": {},
   "outputs": [
    {
     "name": "stdout",
     "output_type": "stream",
     "text": [
      "Hello  Sammy\n"
     ]
    }
   ],
   "source": [
    "name ='THIS IS A GLOBAL STRING' # global variable (G)\n",
    "def outer():\n",
    "    name = 'Sammy'# acts as Enclosing function local (E)\n",
    "    def inner(): # no local variable assinged (L)\n",
    "        #name = 'I AM LOCAL'\n",
    "        print('Hello ',name)\n",
    "    inner()\n",
    "    \n",
    "outer()\n"
   ]
  },
  {
   "cell_type": "markdown",
   "metadata": {},
   "source": [
    "<b><h3>Functions and Methods Homework</h3></b>"
   ]
  },
  {
   "cell_type": "code",
   "execution_count": 268,
   "metadata": {},
   "outputs": [
    {
     "data": {
      "text/plain": [
       "'Write a function that computes the volume of a sphere given its radius.\\n\\nThe volume of a sphere is given as\\n43π𝑟3</p>'"
      ]
     },
     "execution_count": 268,
     "metadata": {},
     "output_type": "execute_result"
    }
   ],
   "source": [
    "'''Write a function that computes the volume of a sphere given its radius.\n",
    "\n",
    "The volume of a sphere is given as\n",
    "43π𝑟3</p>'''\n"
   ]
  },
  {
   "cell_type": "code",
   "execution_count": null,
   "metadata": {},
   "outputs": [],
   "source": [
    "def vol(x):\n",
    "    return (4/3)*3.14*x**3"
   ]
  },
  {
   "cell_type": "code",
   "execution_count": 269,
   "metadata": {},
   "outputs": [
    {
     "data": {
      "text/plain": [
       "33.49333333333333"
      ]
     },
     "execution_count": 269,
     "metadata": {},
     "output_type": "execute_result"
    }
   ],
   "source": [
    "x = 2\n",
    "(4/3)*3.14*x**3"
   ]
  },
  {
   "cell_type": "code",
   "execution_count": 282,
   "metadata": {},
   "outputs": [],
   "source": [
    "'''Write a function that checks whether a number is in a given range (inclusive of high and low)'''\n",
    "\n",
    "def ran_check(num,low,high):\n",
    "    if num in range(low,high):\n",
    "        return str(num) + ' is in the range between ' + str(low) +' and '+ str(high)"
   ]
  },
  {
   "cell_type": "code",
   "execution_count": 283,
   "metadata": {},
   "outputs": [
    {
     "data": {
      "text/plain": [
       "'5 is in the range between2 and 7'"
      ]
     },
     "execution_count": 283,
     "metadata": {},
     "output_type": "execute_result"
    }
   ],
   "source": [
    "ran_check(5,2,7)\n"
   ]
  },
  {
   "cell_type": "code",
   "execution_count": 288,
   "metadata": {},
   "outputs": [],
   "source": [
    "'''If you only wanted to return a boolean:'''\n",
    "def ran_check(num,low,high):\n",
    "    return [True if num in range(low,high) else False ]"
   ]
  },
  {
   "cell_type": "code",
   "execution_count": 291,
   "metadata": {},
   "outputs": [
    {
     "data": {
      "text/plain": [
       "[True]"
      ]
     },
     "execution_count": 291,
     "metadata": {},
     "output_type": "execute_result"
    }
   ],
   "source": [
    "ran_check(5,2,7)"
   ]
  },
  {
   "cell_type": "code",
   "execution_count": 292,
   "metadata": {},
   "outputs": [
    {
     "data": {
      "text/plain": [
       "\"Write a Python function that accepts a string and calculates the number of upper case letters and lower case letters.\\n\\nSample String : 'Hello Mr. Rogers, how are you this fine Tuesday?'\\nExpected Output : \\nNo. of Upper case characters : 4\\nNo. of Lower case Characters : 33\\nHINT: Two string methods that might prove useful: .isupper() and .islower()\""
      ]
     },
     "execution_count": 292,
     "metadata": {},
     "output_type": "execute_result"
    }
   ],
   "source": [
    "'''Write a Python function that accepts a string and calculates the number of upper case letters and lower case letters.\n",
    "\n",
    "Sample String : 'Hello Mr. Rogers, how are you this fine Tuesday?'\n",
    "Expected Output : \n",
    "No. of Upper case characters : 4\n",
    "No. of Lower case Characters : 33\n",
    "HINT: Two string methods that might prove useful: .isupper() and .islower()'''\n",
    "\n"
   ]
  },
  {
   "cell_type": "code",
   "execution_count": 319,
   "metadata": {},
   "outputs": [],
   "source": [
    "def up_low(s):\n",
    "    a =0\n",
    "    b =0\n",
    "    for i in s:\n",
    "        a += i.isupper()\n",
    "        b += i.islower() \n",
    "    print(f'Original String: {s}\\nNo. of Upper case characters: {a}\\nNo. of Lower case Characters: {b}')\n",
    "\n",
    "        "
   ]
  },
  {
   "cell_type": "code",
   "execution_count": 320,
   "metadata": {},
   "outputs": [
    {
     "name": "stdout",
     "output_type": "stream",
     "text": [
      "Original String: Francis Xavier\n",
      "No. of Upper case characters: 2\n",
      "No. of Lower case Characters: 11\n"
     ]
    }
   ],
   "source": [
    "up_low('Francis Xavier')"
   ]
  },
  {
   "cell_type": "code",
   "execution_count": 297,
   "metadata": {},
   "outputs": [
    {
     "name": "stdout",
     "output_type": "stream",
     "text": [
      "2 11\n"
     ]
    }
   ],
   "source": [
    "a =0\n",
    "b =0\n",
    "for i in 'Francis Xavier':\n",
    "    a += i.isupper()\n",
    "    b += i.islower()\n",
    "print(a,b)\n",
    "    "
   ]
  },
  {
   "cell_type": "code",
   "execution_count": 321,
   "metadata": {},
   "outputs": [
    {
     "data": {
      "text/plain": [
       "'Write a Python function that takes a list and returns a new list with unique elements of the first list.\\n\\nSample List : [1,1,1,1,2,2,3,3,3,3,4,5]\\nUnique List : [1, 2, 3, 4, 5]'"
      ]
     },
     "execution_count": 321,
     "metadata": {},
     "output_type": "execute_result"
    }
   ],
   "source": [
    "'''Write a Python function that takes a list and returns a new list with unique elements of the first list.\n",
    "\n",
    "Sample List : [1,1,1,1,2,2,3,3,3,3,4,5]\n",
    "Unique List : [1, 2, 3, 4, 5]'''\n",
    "\n"
   ]
  },
  {
   "cell_type": "code",
   "execution_count": 343,
   "metadata": {},
   "outputs": [],
   "source": [
    "def uniqu_list(lst):\n",
    "    return list(set(lst))"
   ]
  },
  {
   "cell_type": "code",
   "execution_count": 344,
   "metadata": {},
   "outputs": [
    {
     "data": {
      "text/plain": [
       "[1, 2, 3, 4, 5]"
      ]
     },
     "execution_count": 344,
     "metadata": {},
     "output_type": "execute_result"
    }
   ],
   "source": [
    "uniqu_list([1,1,1,1,2,2,3,3,3,3,4,5])"
   ]
  },
  {
   "cell_type": "code",
   "execution_count": 340,
   "metadata": {},
   "outputs": [
    {
     "name": "stdout",
     "output_type": "stream",
     "text": [
      "[1, 2, 3, 4, 5]\n",
      "[1, 2, 3, 4, 5]\n"
     ]
    }
   ],
   "source": [
    "a = [1,1,1,1,2,2,3,3,3,3,4,5]\n",
    "b = set(a)\n",
    "#c = list(b)\n",
    "print(list(set(a)))\n",
    "c =[]\n",
    "for i in b:\n",
    "    c.append(i)\n",
    "print(c)"
   ]
  },
  {
   "cell_type": "code",
   "execution_count": 345,
   "metadata": {},
   "outputs": [
    {
     "data": {
      "text/plain": [
       "'Write a Python function to multiply all the numbers in a list.\\n\\nSample List : [1, 2, 3, -4]\\nExpected Output : -24'"
      ]
     },
     "execution_count": 345,
     "metadata": {},
     "output_type": "execute_result"
    }
   ],
   "source": [
    "'''Write a Python function to multiply all the numbers in a list.\n",
    "\n",
    "Sample List : [1, 2, 3, -4]\n",
    "Expected Output : -24'''\n",
    "\n"
   ]
  },
  {
   "cell_type": "code",
   "execution_count": 17,
   "metadata": {},
   "outputs": [],
   "source": [
    "def multiply(numbers):\n",
    "    b = numbers[0]\n",
    "    for i in numbers[1:len(numbers)+1:]:\n",
    "        b *= i\n",
    "    return b"
   ]
  },
  {
   "cell_type": "code",
   "execution_count": 18,
   "metadata": {},
   "outputs": [
    {
     "name": "stdout",
     "output_type": "stream",
     "text": [
      "1\n"
     ]
    },
    {
     "data": {
      "text/plain": [
       "-24"
      ]
     },
     "execution_count": 18,
     "metadata": {},
     "output_type": "execute_result"
    }
   ],
   "source": [
    "multiply([1, 2, 3, -4])"
   ]
  },
  {
   "cell_type": "code",
   "execution_count": 19,
   "metadata": {},
   "outputs": [
    {
     "ename": "NameError",
     "evalue": "name 'b' is not defined",
     "output_type": "error",
     "traceback": [
      "\u001b[0;31m---------------------------------------------------------------------------\u001b[0m",
      "\u001b[0;31mNameError\u001b[0m                                 Traceback (most recent call last)",
      "\u001b[0;32m<ipython-input-19-2c6901e25a0a>\u001b[0m in \u001b[0;36m<module>\u001b[0;34m\u001b[0m\n\u001b[1;32m      1\u001b[0m \u001b[0ma\u001b[0m\u001b[0;34m=\u001b[0m \u001b[0;34m[\u001b[0m\u001b[0;36m1\u001b[0m\u001b[0;34m,\u001b[0m \u001b[0;36m2\u001b[0m\u001b[0;34m,\u001b[0m \u001b[0;36m3\u001b[0m\u001b[0;34m,\u001b[0m \u001b[0;34m-\u001b[0m\u001b[0;36m4\u001b[0m\u001b[0;34m]\u001b[0m\u001b[0;34m\u001b[0m\u001b[0;34m\u001b[0m\u001b[0m\n\u001b[0;32m----> 2\u001b[0;31m \u001b[0mb\u001b[0m\u001b[0;34m[\u001b[0m\u001b[0;36m0\u001b[0m\u001b[0;34m]\u001b[0m \u001b[0;34m=\u001b[0m \u001b[0ma\u001b[0m\u001b[0;34m[\u001b[0m\u001b[0;36m0\u001b[0m\u001b[0;34m]\u001b[0m\u001b[0;34m\u001b[0m\u001b[0;34m\u001b[0m\u001b[0m\n\u001b[0m\u001b[1;32m      3\u001b[0m \u001b[0mprint\u001b[0m\u001b[0;34m(\u001b[0m\u001b[0mb\u001b[0m\u001b[0;34m)\u001b[0m\u001b[0;34m\u001b[0m\u001b[0;34m\u001b[0m\u001b[0m\n\u001b[1;32m      4\u001b[0m \u001b[0;32mfor\u001b[0m \u001b[0mi\u001b[0m \u001b[0;32min\u001b[0m \u001b[0ma\u001b[0m\u001b[0;34m[\u001b[0m\u001b[0;36m1\u001b[0m\u001b[0;34m:\u001b[0m\u001b[0mlen\u001b[0m\u001b[0;34m(\u001b[0m\u001b[0ma\u001b[0m\u001b[0;34m)\u001b[0m\u001b[0;34m+\u001b[0m\u001b[0;36m1\u001b[0m\u001b[0;34m:\u001b[0m\u001b[0;34m]\u001b[0m\u001b[0;34m:\u001b[0m\u001b[0;34m\u001b[0m\u001b[0;34m\u001b[0m\u001b[0m\n\u001b[1;32m      5\u001b[0m     \u001b[0mb\u001b[0m\u001b[0;34m[\u001b[0m\u001b[0;36m0\u001b[0m\u001b[0;34m]\u001b[0m \u001b[0;34m*=\u001b[0m \u001b[0mi\u001b[0m\u001b[0;34m\u001b[0m\u001b[0;34m\u001b[0m\u001b[0m\n",
      "\u001b[0;31mNameError\u001b[0m: name 'b' is not defined"
     ]
    }
   ],
   "source": [
    "a= [1, 2, 3, -4]\n",
    "b[0] = a[0]\n",
    "print(b)\n",
    "for i in a[1:len(a)+1:]:\n",
    "    b[0] *= i\n",
    "print(b)"
   ]
  },
  {
   "cell_type": "code",
   "execution_count": 354,
   "metadata": {},
   "outputs": [
    {
     "name": "stdout",
     "output_type": "stream",
     "text": [
      "-24\n"
     ]
    }
   ],
   "source": [
    "a= [1, 2, 3, -4]\n",
    "b = a [0]\n",
    "for i in a[1:len(a)+1:]:\n",
    "    b *=i\n",
    "print(b)"
   ]
  },
  {
   "cell_type": "code",
   "execution_count": 371,
   "metadata": {},
   "outputs": [],
   "source": [
    "'''Write a Python function that checks whether a passed in string is palindrome or not.\n",
    "\n",
    "Note: A palindrome is word, phrase, or sequence that reads the same backward as forward, \n",
    "e.g., madam or nurses run.'''\n",
    "\n",
    "def palindrome(s):\n",
    "    a = s.split()\n",
    "    b = ''\n",
    "    for i in a:\n",
    "        b +=i\n",
    "    return b[::-1] == b[::]\n"
   ]
  },
  {
   "cell_type": "code",
   "execution_count": 372,
   "metadata": {},
   "outputs": [
    {
     "data": {
      "text/plain": [
       "True"
      ]
     },
     "execution_count": 372,
     "metadata": {},
     "output_type": "execute_result"
    }
   ],
   "source": [
    "palindrome('nurses run')"
   ]
  },
  {
   "cell_type": "code",
   "execution_count": 370,
   "metadata": {},
   "outputs": [
    {
     "name": "stdout",
     "output_type": "stream",
     "text": [
      "nursesrun\n"
     ]
    }
   ],
   "source": [
    "a = 'nurses run'.split()\n",
    "b =''\n",
    "for i in a:\n",
    "    b += i\n",
    "    \n",
    "'''if a[::-1] == a [::]:\n",
    "    print('T')\n",
    "else:\n",
    "    print('f')'''\n",
    "print(b)"
   ]
  },
  {
   "cell_type": "code",
   "execution_count": 373,
   "metadata": {},
   "outputs": [
    {
     "data": {
      "text/plain": [
       "'Write a Python function to check whether a string is pangram or not.\\n\\nNote : Pangrams are words or sentences containing every letter of the alphabet at least once.\\nFor example : \"The quick brown fox jumps over the lazy dog\"\\nHint: Look at the string module'"
      ]
     },
     "execution_count": 373,
     "metadata": {},
     "output_type": "execute_result"
    }
   ],
   "source": [
    "'''Write a Python function to check whether a string is pangram or not.\n",
    "\n",
    "Note : Pangrams are words or sentences containing every letter of the alphabet at least once.\n",
    "For example : \"The quick brown fox jumps over the lazy dog\"\n",
    "Hint: Look at the string module'''\n",
    "\n"
   ]
  },
  {
   "cell_type": "code",
   "execution_count": null,
   "metadata": {},
   "outputs": [],
   "source": []
  },
  {
   "cell_type": "code",
   "execution_count": 64,
   "metadata": {},
   "outputs": [],
   "source": [
    "def inner():\n",
    "    a ='abcdefghijklmnopqrstuvwxyz'\n",
    "    b=''.join(\"The quick brown fox jumps over the lazy dog\".lower().split())\n",
    "    c = len(b)\n",
    "    d = 0\n",
    "    rt = ''\n",
    "\n",
    "    while d < len(a):\n",
    "        for i in b[::]:\n",
    "            if a[d]== i:\n",
    "                rt += a[d]         \n",
    "        d += 1\n",
    "    return set(rt) == set(a)"
   ]
  },
  {
   "cell_type": "code",
   "execution_count": 65,
   "metadata": {},
   "outputs": [
    {
     "data": {
      "text/plain": [
       "True"
      ]
     },
     "execution_count": 65,
     "metadata": {},
     "output_type": "execute_result"
    }
   ],
   "source": [
    "inner()"
   ]
  },
  {
   "cell_type": "code",
   "execution_count": 81,
   "metadata": {},
   "outputs": [],
   "source": [
    "import string\n",
    "def ispangram(str1, alphabet=string.ascii_lowercase):\n",
    "    print(alphabet)\n",
    "    alphaset = set(alphabet)\n",
    "    print(alphaset)\n",
    "    #return alphaset <= set(str1.lower())\n",
    "    print(set(str1.lower()))\n",
    "    "
   ]
  },
  {
   "cell_type": "code",
   "execution_count": 85,
   "metadata": {},
   "outputs": [
    {
     "name": "stdout",
     "output_type": "stream",
     "text": [
      "{'o', 'w', 's', 'i', 'r', 'h', 'a', 'v', 'f', 'c', 'm', 'k', 'q', 'x', 'y', 'b', 'e', 'j', 'n', 'd', 'z', 'g', 'u', 'p', 'l', ' ', 't'}\n"
     ]
    }
   ],
   "source": [
    "print(set(\"The quick brown fox jumps over the lazy dog\".lower()))"
   ]
  },
  {
   "cell_type": "code",
   "execution_count": 83,
   "metadata": {},
   "outputs": [
    {
     "name": "stdout",
     "output_type": "stream",
     "text": [
      "abcdefghijklmnopqrstuvwxyz\n",
      "{'o', 'w', 's', 'i', 'r', 'h', 'a', 'v', 'f', 'c', 'm', 'k', 'q', 'x', 'y', 'b', 'e', 'j', 'n', 'd', 'z', 'g', 'u', 'p', 'l', 't'}\n",
      "{'o', 'w', 's', 'i', 'r', 'h', 'a', 'v', 'f', 'c', 'm', 'k', 'q', 'x', 'y', 'b', 'e', 'j', 'n', 'd', 'z', 'g', 'u', 'p', 'l', ' ', 't'}\n"
     ]
    }
   ],
   "source": [
    "ispangram(\"The quick brown fox jumps over the lazy dog\")"
   ]
  },
  {
   "cell_type": "code",
   "execution_count": 100,
   "metadata": {},
   "outputs": [
    {
     "name": "stdout",
     "output_type": "stream",
     "text": [
      "T\n"
     ]
    }
   ],
   "source": [
    "a ='abc'\n",
    "b ='defabc'\n",
    "if set(b) >= set(a):\n",
    "    print('T')\n",
    "else:\n",
    "    print('F')"
   ]
  },
  {
   "cell_type": "code",
   "execution_count": null,
   "metadata": {},
   "outputs": [],
   "source": []
  },
  {
   "cell_type": "code",
   "execution_count": null,
   "metadata": {},
   "outputs": [],
   "source": []
  }
 ],
 "metadata": {
  "kernelspec": {
   "display_name": "Python 3 (ipykernel)",
   "language": "python",
   "name": "python3"
  },
  "language_info": {
   "codemirror_mode": {
    "name": "ipython",
    "version": 3
   },
   "file_extension": ".py",
   "mimetype": "text/x-python",
   "name": "python",
   "nbconvert_exporter": "python",
   "pygments_lexer": "ipython3",
   "version": "3.9.7"
  }
 },
 "nbformat": 4,
 "nbformat_minor": 2
}
