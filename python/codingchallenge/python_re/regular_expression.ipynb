{
 "cells": [
  {
   "cell_type": "code",
   "execution_count": 1,
   "id": "0698db6a",
   "metadata": {},
   "outputs": [],
   "source": [
    "import re\n",
    "\n",
    "#https://docs.python.org/3/howto/regex.html\n"
   ]
  },
  {
   "cell_type": "code",
   "execution_count": 3,
   "id": "cd8b2d36",
   "metadata": {},
   "outputs": [
    {
     "name": "stdout",
     "output_type": "stream",
     "text": [
      "['ai', 'ai']\n"
     ]
    }
   ],
   "source": [
    "txt = 'The rain in Spain'\n",
    "x = re.findall('ai', txt)\n",
    "print(x)"
   ]
  },
  {
   "cell_type": "code",
   "execution_count": 4,
   "id": "71ca6238",
   "metadata": {},
   "outputs": [
    {
     "name": "stdout",
     "output_type": "stream",
     "text": [
      "[]\n"
     ]
    }
   ],
   "source": [
    "txt = 'The rain in Spain'\n",
    "x = re.findall('Portugal', txt)\n",
    "print(x)"
   ]
  },
  {
   "cell_type": "code",
   "execution_count": 23,
   "id": "d19f4e17",
   "metadata": {},
   "outputs": [
    {
     "name": "stdout",
     "output_type": "stream",
     "text": [
      "The first white-space character is located inposition : 3\n"
     ]
    }
   ],
   "source": [
    "txt = 'The raininSpain'\n",
    "x = re.search('\\s', txt)\n",
    "print('The first white-space character is located inposition :',x.start())"
   ]
  },
  {
   "cell_type": "code",
   "execution_count": 24,
   "id": "e495bb69",
   "metadata": {},
   "outputs": [
    {
     "name": "stdout",
     "output_type": "stream",
     "text": [
      "None\n"
     ]
    }
   ],
   "source": [
    "txt = 'The raininSpain'\n",
    "x = re.search('Portugal', txt)\n",
    "print(x)"
   ]
  },
  {
   "cell_type": "code",
   "execution_count": 33,
   "id": "1207b1ec",
   "metadata": {},
   "outputs": [
    {
     "name": "stdout",
     "output_type": "stream",
     "text": [
      "['The', 'rainin', 'Spain']\n"
     ]
    }
   ],
   "source": [
    "txt = 'The rainin Spain'\n",
    "x = re.split('\\s', txt)\n",
    "print(x)"
   ]
  },
  {
   "cell_type": "code",
   "execution_count": 37,
   "id": "5524e4fd",
   "metadata": {},
   "outputs": [
    {
     "name": "stdout",
     "output_type": "stream",
     "text": [
      "The ra9n9n Spain\n"
     ]
    }
   ],
   "source": [
    "txt = 'The rainin Spain'\n",
    "x = re.sub('i','9', txt,count=2)\n",
    "print(x)"
   ]
  },
  {
   "cell_type": "code",
   "execution_count": 43,
   "id": "bbd25788",
   "metadata": {},
   "outputs": [
    {
     "name": "stdout",
     "output_type": "stream",
     "text": [
      "The ra9n9n Spa9n\n"
     ]
    }
   ],
   "source": [
    "txt = 'The rainin Spain'\n",
    "x = re.sub('i','9', txt)\n",
    "print(x)"
   ]
  },
  {
   "cell_type": "code",
   "execution_count": 56,
   "id": "25b39dbf",
   "metadata": {},
   "outputs": [
    {
     "name": "stdout",
     "output_type": "stream",
     "text": [
      "(12, 17)\n"
     ]
    }
   ],
   "source": [
    "txt = 'The rain in Spain'\n",
    "x = re.search(r\"\\bS\\w+\", txt)\n",
    "print(x.span())"
   ]
  },
  {
   "cell_type": "code",
   "execution_count": 52,
   "id": "7ec575bf",
   "metadata": {},
   "outputs": [
    {
     "name": "stdout",
     "output_type": "stream",
     "text": [
      "(5, 7)\n"
     ]
    }
   ],
   "source": [
    "txt = 'The rain in Spain'\n",
    "x = re.search('ai', txt)\n",
    "print(x.span())"
   ]
  },
  {
   "cell_type": "code",
   "execution_count": 4,
   "id": "6f312282",
   "metadata": {},
   "outputs": [
    {
     "name": "stdout",
     "output_type": "stream",
     "text": [
      "The rain in Spain\n"
     ]
    }
   ],
   "source": [
    "txt = 'The rain in Spain'\n",
    "x = re.search(r\"\\bS\\w+\", txt)\n",
    "print(x.string)"
   ]
  },
  {
   "cell_type": "code",
   "execution_count": 59,
   "id": "33bd4925",
   "metadata": {},
   "outputs": [
    {
     "name": "stdout",
     "output_type": "stream",
     "text": [
      "Spain\n"
     ]
    }
   ],
   "source": [
    "txt = 'The rain in Spain'\n",
    "x = re.search(r\"\\bS\\w+\", txt)\n",
    "print(x.group())"
   ]
  },
  {
   "cell_type": "code",
   "execution_count": 64,
   "id": "a4e56ecf",
   "metadata": {},
   "outputs": [
    {
     "name": "stdout",
     "output_type": "stream",
     "text": [
      "r\n"
     ]
    }
   ],
   "source": [
    "txt = 'The rain in Spain'\n",
    "x = re.search('r', txt)\n",
    "print(x.group())"
   ]
  },
  {
   "cell_type": "code",
   "execution_count": 68,
   "id": "175b5a3c",
   "metadata": {},
   "outputs": [
    {
     "name": "stdout",
     "output_type": "stream",
     "text": [
      "<re.Match object; span=(1, 2), match='h'>\n"
     ]
    }
   ],
   "source": [
    "# [] A set of characters\n",
    "# find all lower case characters alphabetically between 'a' and 'm'\n",
    "txt = 'The rain in Spain'\n",
    "x = re.search('[a-m]', txt)\n",
    "print(x)"
   ]
  },
  {
   "cell_type": "code",
   "execution_count": 69,
   "id": "d484bc4f",
   "metadata": {},
   "outputs": [
    {
     "name": "stdout",
     "output_type": "stream",
     "text": [
      "['h', 'e', 'a', 'i', 'i', 'a', 'i']\n"
     ]
    }
   ],
   "source": [
    "txt = 'The rain in Spain'\n",
    "x = re.findall('[a-m]', txt)\n",
    "print(x)"
   ]
  },
  {
   "cell_type": "code",
   "execution_count": 70,
   "id": "90550701",
   "metadata": {},
   "outputs": [
    {
     "name": "stdout",
     "output_type": "stream",
     "text": [
      "['5', '9']\n"
     ]
    }
   ],
   "source": [
    "# \\ Signals a special sequence \n",
    "txt = 'That will be 59 dollars'\n",
    "x = re.findall('\\d', txt)\n",
    "print(x)"
   ]
  },
  {
   "cell_type": "code",
   "execution_count": 71,
   "id": "cb3d492d",
   "metadata": {},
   "outputs": [
    {
     "name": "stdout",
     "output_type": "stream",
     "text": [
      "['hello']\n"
     ]
    }
   ],
   "source": [
    "# . Any character (except newline character)\n",
    "# search for a sequence that start with 'he', followed by two (any) characters, and an 'o'\n",
    "txt = 'hello planet'\n",
    "x = re.findall('he..o',txt)\n",
    "print(x)"
   ]
  },
  {
   "cell_type": "code",
   "execution_count": 73,
   "id": "0df22f38",
   "metadata": {},
   "outputs": [
    {
     "name": "stdout",
     "output_type": "stream",
     "text": [
      "['he']\n"
     ]
    }
   ],
   "source": [
    "# ^ start with - check if the string starts with 'hell'\n",
    "txt = 'hello planet'\n",
    "x = re.findall('^he',txt)\n",
    "print(x)"
   ]
  },
  {
   "cell_type": "code",
   "execution_count": 80,
   "id": "0ff4261f",
   "metadata": {},
   "outputs": [
    {
     "name": "stdout",
     "output_type": "stream",
     "text": [
      "['planet']\n"
     ]
    }
   ],
   "source": [
    "# $ Ends with  check if the string ends with 'planet'\n",
    "txt = 'hello planet'\n",
    "x = re.findall('planet$',txt)\n",
    "print(x)"
   ]
  },
  {
   "cell_type": "code",
   "execution_count": 83,
   "id": "d5f80577",
   "metadata": {},
   "outputs": [
    {
     "name": "stdout",
     "output_type": "stream",
     "text": [
      "['hello']\n"
     ]
    }
   ],
   "source": [
    "# * Zero or more occurrenes\n",
    "# search for a sequence that starts with 'h', followied by o or more (any) characters, and an 'o'\n",
    "txt = 'hello planet'\n",
    "x = re.findall('^h.*o',txt)\n",
    "print(x)"
   ]
  },
  {
   "cell_type": "code",
   "execution_count": 89,
   "id": "bbf79fea",
   "metadata": {},
   "outputs": [
    {
     "name": "stdout",
     "output_type": "stream",
     "text": [
      "['planet']\n"
     ]
    }
   ],
   "source": [
    "txt = 'hello planet'\n",
    "x = re.findall('p.*$',txt)\n",
    "print(x)"
   ]
  },
  {
   "cell_type": "code",
   "execution_count": 95,
   "id": "3d57eebd",
   "metadata": {},
   "outputs": [
    {
     "name": "stdout",
     "output_type": "stream",
     "text": [
      "['hello planet']\n"
     ]
    }
   ],
   "source": [
    "txt = 'hello planet'\n",
    "x = re.findall('h.*$',txt)\n",
    "print(x)"
   ]
  },
  {
   "cell_type": "code",
   "execution_count": 90,
   "id": "c0084428",
   "metadata": {},
   "outputs": [
    {
     "name": "stdout",
     "output_type": "stream",
     "text": [
      "['hello']\n"
     ]
    }
   ],
   "source": [
    "# + One or moreoccurences\n",
    "# search for sequence that starts with 'he', followed by 1 or more (any) characters, and an 'o':\n",
    "txt = 'hello planet'\n",
    "x = re.findall('he.+o',txt)\n",
    "print(x)"
   ]
  },
  {
   "cell_type": "code",
   "execution_count": 91,
   "id": "e41bfa6d",
   "metadata": {},
   "outputs": [
    {
     "name": "stdout",
     "output_type": "stream",
     "text": [
      "['hello planet']\n"
     ]
    }
   ],
   "source": [
    "txt = 'hello planet'\n",
    "x = re.findall('he.+',txt)\n",
    "print(x)"
   ]
  },
  {
   "cell_type": "code",
   "execution_count": 103,
   "id": "615ef377",
   "metadata": {},
   "outputs": [
    {
     "name": "stdout",
     "output_type": "stream",
     "text": [
      "['hello']\n"
     ]
    }
   ],
   "source": [
    "# ? Zero or one occurrences\n",
    "# search for a sequence that starts with 'he', followed by o or 1 (any) character, and an 'o'\n",
    "txt = 'hello planet'\n",
    "x = re.findall('h?.*o',txt)\n",
    "print(x)"
   ]
  },
  {
   "cell_type": "code",
   "execution_count": 112,
   "id": "d5452791",
   "metadata": {},
   "outputs": [
    {
     "name": "stdout",
     "output_type": "stream",
     "text": [
      "['hello']\n"
     ]
    }
   ],
   "source": [
    "# {} Exactly the specified number of occurrences\n",
    "# Search for a sequence that starts with 'he', followed exactly 2 (any) characters, and an 'o'\n",
    "txt = 'hello planet'\n",
    "x = re.findall('h.{3}o',txt)\n",
    "print(x)"
   ]
  },
  {
   "cell_type": "code",
   "execution_count": 117,
   "id": "ec6b3d95",
   "metadata": {},
   "outputs": [
    {
     "name": "stdout",
     "output_type": "stream",
     "text": [
      "['hello']\n"
     ]
    }
   ],
   "source": [
    "txt = 'hello planet'\n",
    "x = re.findall('h.{4}',txt)\n",
    "print(x)"
   ]
  },
  {
   "cell_type": "code",
   "execution_count": 120,
   "id": "95edf972",
   "metadata": {},
   "outputs": [
    {
     "name": "stdout",
     "output_type": "stream",
     "text": [
      "['falls', 'plain']\n"
     ]
    }
   ],
   "source": [
    "# | Either or \n",
    "# check if the string contains either 'falls' or 'stays'\n",
    "txt = 'The rain in Spain falls mainly in the plain!'\n",
    "x = re.findall('falls|stays|plain',txt)\n",
    "print(x)"
   ]
  },
  {
   "cell_type": "markdown",
   "id": "c4ac8939",
   "metadata": {},
   "source": [
    "### Special Sequence"
   ]
  },
  {
   "cell_type": "code",
   "execution_count": 123,
   "id": "22d09fd6",
   "metadata": {},
   "outputs": [
    {
     "name": "stdout",
     "output_type": "stream",
     "text": [
      "['The']\n"
     ]
    }
   ],
   "source": [
    "# \\A Returns a match if the specified characters are at the beginning of the string \n",
    "# Check if the string strats with 'The'\n",
    "txt = 'The rain in Spain'\n",
    "x = re.findall('\\AThe',txt)\n",
    "print(x)"
   ]
  },
  {
   "cell_type": "code",
   "execution_count": 132,
   "id": "6cabcea1",
   "metadata": {},
   "outputs": [
    {
     "name": "stdout",
     "output_type": "stream",
     "text": [
      "['The']\n",
      "['The'] ['ain', 'ain']\n"
     ]
    }
   ],
   "source": [
    "# \\b Returns a match where the specified characters are at teh beginning or at the end of a word \n",
    "# ( the 'r' om tje beginning i smaking sure that the string is being treated as a 'raw string')\n",
    "# Check if 'ain' is present at the beginning of a WORD\n",
    "txt = 'The rain in Spain'\n",
    "x = re.findall(r'\\bThe',txt)\n",
    "print(x)\n",
    "# Check if 'ain' is present at the end of a WORD\n",
    "txt = 'The rain in Spain'\n",
    "x1 = re.findall(r'ain\\b',txt)\n",
    "print(x,x1)"
   ]
  },
  {
   "cell_type": "code",
   "execution_count": 5,
   "id": "a2abc6b2",
   "metadata": {},
   "outputs": [
    {
     "name": "stdout",
     "output_type": "stream",
     "text": [
      "['ain', 'ain', 'ain']\n",
      "['ain', 'ain', 'ain'] ['ain']\n"
     ]
    }
   ],
   "source": [
    "# \\B Returns a match where the specified characters are presetn, but NOT at the beginning (or at the end) of a word\n",
    "# Check if 'ain' is present, but NOT at the beginning of a world\n",
    "txt = 'The rain in Spain ainh, hain, ain' \n",
    "x = re.findall(r'\\Bain',txt)\n",
    "print(x)\n",
    "# Check if 'ain' is present, but NOT at the end of a world\n",
    "x1 = re.findall(r'ain\\B',txt)\n",
    "print(x,x1)\n"
   ]
  },
  {
   "cell_type": "code",
   "execution_count": 165,
   "id": "6f40cbf0",
   "metadata": {},
   "outputs": [
    {
     "name": "stdout",
     "output_type": "stream",
     "text": [
      "['0', '8', '7', '3']\n"
     ]
    }
   ],
   "source": [
    "# \\d Returns a match where the string contains digits (number from 0-9)\n",
    "# Check if the string contains any digits (number from 0-9)\n",
    "txt = 'The rain in Spain 873'\n",
    "x = re.findall('\\d',txt)\n",
    "print(x)"
   ]
  },
  {
   "cell_type": "code",
   "execution_count": 166,
   "id": "57f54e23",
   "metadata": {},
   "outputs": [
    {
     "name": "stdout",
     "output_type": "stream",
     "text": [
      "['T', 'h', 'e', ' ', 'r', 'a', 'i', 'n', ' ', 'i', 'n', ' ', 'S', 'p', 'a', 'i', 'n', ' ']\n"
     ]
    }
   ],
   "source": [
    "# D Returns a match where the string DOES NOT contain digits\n",
    "# Return a match at every no-digit character\n",
    "txt = 'The rain in Spain 873'\n",
    "x = re.findall('\\D',txt)\n",
    "print(x)"
   ]
  },
  {
   "cell_type": "code",
   "execution_count": 167,
   "id": "f414fda8",
   "metadata": {},
   "outputs": [
    {
     "name": "stdout",
     "output_type": "stream",
     "text": [
      "['T', 'h', 'e', 'r', 'a', 'i', 'n', 'i', 'n', 'S', 'p', 'a', 'i', 'n', '8', '7', '3']\n"
     ]
    }
   ],
   "source": [
    "# \\S Returns a match where the string DOES NOT contain a white space character\n",
    "# Returns a match at every NON white-space character\n",
    "txt = 'The rain in Spain 873'\n",
    "x = re.findall('\\S',txt)\n",
    "print(x)"
   ]
  },
  {
   "cell_type": "code",
   "execution_count": 181,
   "id": "bec1ad55",
   "metadata": {},
   "outputs": [
    {
     "name": "stdout",
     "output_type": "stream",
     "text": [
      "['T', 'h', 'e', 'r', 'a', 'i', 'n', 'i', 'n', 'S', 'p', 'a', 'i', 'n', '_', '8', '7', '3']\n"
     ]
    }
   ],
   "source": [
    "# \\w Returns a match where the string contains any word characters \n",
    "#(characters from a to Z, digits from 0-9, and the underscoe_character)\n",
    "txt = 'The rain in Spain _  ?~@!#$%^& 873'\n",
    "x = re.findall('\\w',txt)\n",
    "print(x)"
   ]
  },
  {
   "cell_type": "code",
   "execution_count": 189,
   "id": "2976b352",
   "metadata": {},
   "outputs": [
    {
     "name": "stdout",
     "output_type": "stream",
     "text": [
      "[' ', ' ', ' ', ' ', ' ', ' ', '?', '~', '@', '!', '#', '$', '%', '^', '&', ' ']\n"
     ]
    }
   ],
   "source": [
    "# \\W Returns a match where the string DOES NOT contain any word charecters\n",
    "# Returns a match at every NON word character )characters NOT between a and Z. like ! ? whitespace etc)\n",
    "txt = 'The rain in Spain _  ?~@!#$%^& 873'\n",
    "x = re.findall('\\W',txt)\n",
    "print(x)"
   ]
  },
  {
   "cell_type": "code",
   "execution_count": 203,
   "id": "e0d16fe9",
   "metadata": {},
   "outputs": [
    {
     "name": "stdout",
     "output_type": "stream",
     "text": [
      "['Spain']\n",
      "['Spain'] ['ain']\n"
     ]
    }
   ],
   "source": [
    "# |Z Returns a match if the specified characters are at the end of the string\n",
    "txt = 'The rain in Spain'\n",
    "x = re.findall('Spain\\Z',txt)\n",
    "print(x)\n",
    "xx = re.findall('Spain$',txt)\n",
    "print(x,x1)"
   ]
  },
  {
   "cell_type": "markdown",
   "id": "423b86be",
   "metadata": {},
   "source": [
    "### Sets"
   ]
  },
  {
   "cell_type": "code",
   "execution_count": 5,
   "id": "39005da9",
   "metadata": {},
   "outputs": [
    {
     "name": "stdout",
     "output_type": "stream",
     "text": [
      "['r', 'a', 'n', 'n', 'a', 'n']\n"
     ]
    }
   ],
   "source": [
    "txt = 'The rain in Spain'\n",
    "# check if the string has any a,r,or n characters\n",
    "x=re.findall('[arn]',txt)\n",
    "print(x)"
   ]
  },
  {
   "cell_type": "code",
   "execution_count": 7,
   "id": "a2aec40f",
   "metadata": {},
   "outputs": [
    {
     "name": "stdout",
     "output_type": "stream",
     "text": [
      "['h', 'e', 'a', 'i', 'n', 'i', 'n', 'a', 'i', 'n']\n"
     ]
    }
   ],
   "source": [
    "txt = 'The rain in Spain'\n",
    "# check if the string has any characters between a and n\n",
    "x=re.findall('[a-n]',txt)\n",
    "print(x)"
   ]
  },
  {
   "cell_type": "code",
   "execution_count": 8,
   "id": "08a4c9c3",
   "metadata": {},
   "outputs": [
    {
     "name": "stdout",
     "output_type": "stream",
     "text": [
      "['T', 'h', 'e', ' ', 'i', ' ', 'i', ' ', 'S', 'p', 'i']\n"
     ]
    }
   ],
   "source": [
    "txt = 'The rain in Spain'\n",
    "# check if the string has any characters other than a,r, or n\n",
    "x=re.findall('[^arn]',txt)\n",
    "print(x)"
   ]
  },
  {
   "cell_type": "code",
   "execution_count": 10,
   "id": "4a4700a7",
   "metadata": {},
   "outputs": [
    {
     "name": "stdout",
     "output_type": "stream",
     "text": [
      "['0']\n"
     ]
    }
   ],
   "source": [
    "txt = 'The rain in Spain0'\n",
    "# check if the string has any 0,1,2, or 3 digits\n",
    "x=re.findall('[0123]',txt)\n",
    "print(x)"
   ]
  },
  {
   "cell_type": "code",
   "execution_count": 11,
   "id": "6fc7f662",
   "metadata": {},
   "outputs": [
    {
     "name": "stdout",
     "output_type": "stream",
     "text": [
      "['0']\n"
     ]
    }
   ],
   "source": [
    "txt = 'The rain in Spain0'\n",
    "# check if the string has any digits\n",
    "x=re.findall('[0-9]',txt)\n",
    "print(x)"
   ]
  },
  {
   "cell_type": "code",
   "execution_count": 12,
   "id": "59676e54",
   "metadata": {},
   "outputs": [
    {
     "name": "stdout",
     "output_type": "stream",
     "text": [
      "['11', '45']\n"
     ]
    }
   ],
   "source": [
    "txt = \"8 times before 11:45 AM\"\n",
    "# Check if the string has any two-digit numbers, from 00 to 59:\n",
    "x=re.findall('[0-5][0-9]',txt)\n",
    "print(x)"
   ]
  },
  {
   "cell_type": "code",
   "execution_count": 14,
   "id": "36c43717",
   "metadata": {},
   "outputs": [
    {
     "name": "stdout",
     "output_type": "stream",
     "text": [
      "['t', 'i', 'm', 'e', 's', 'b', 'e', 'f', 'o', 'r', 'e', 'A', 'M']\n"
     ]
    }
   ],
   "source": [
    "txt = \"8 times before 11:45 AM\"\n",
    "# Check if the string has any characters from a to z lower case\n",
    "# and A to Z upper case\n",
    "x=re.findall('[a-zA-Z]',txt)\n",
    "print(x)"
   ]
  },
  {
   "cell_type": "code",
   "execution_count": 16,
   "id": "9e896b11",
   "metadata": {},
   "outputs": [
    {
     "name": "stdout",
     "output_type": "stream",
     "text": [
      "['+']\n"
     ]
    }
   ],
   "source": [
    "txt = \"8 times before 11:45 AM  + \"\n",
    "# Check if the string has any + characters\n",
    "x=re.findall('[+]',txt)\n",
    "print(x)"
   ]
  },
  {
   "cell_type": "code",
   "execution_count": null,
   "id": "fa2d86a8",
   "metadata": {},
   "outputs": [],
   "source": []
  }
 ],
 "metadata": {
  "kernelspec": {
   "display_name": "Python 3 (ipykernel)",
   "language": "python",
   "name": "python3"
  },
  "language_info": {
   "codemirror_mode": {
    "name": "ipython",
    "version": 3
   },
   "file_extension": ".py",
   "mimetype": "text/x-python",
   "name": "python",
   "nbconvert_exporter": "python",
   "pygments_lexer": "ipython3",
   "version": "3.9.7"
  }
 },
 "nbformat": 4,
 "nbformat_minor": 5
}
