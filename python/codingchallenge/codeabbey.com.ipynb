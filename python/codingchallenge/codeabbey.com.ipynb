{
 "cells": [
  {
   "cell_type": "code",
   "execution_count": 1,
   "metadata": {},
   "outputs": [
    {
     "ename": "IndentationError",
     "evalue": "unexpected indent (<ipython-input-1-ffa98cac7ec3>, line 14)",
     "output_type": "error",
     "traceback": [
      "\u001b[0;36m  File \u001b[0;32m\"<ipython-input-1-ffa98cac7ec3>\"\u001b[0;36m, line \u001b[0;32m14\u001b[0m\n\u001b[0;31m    '''\u001b[0m\n\u001b[0m    ^\u001b[0m\n\u001b[0;31mIndentationError\u001b[0m\u001b[0;31m:\u001b[0m unexpected indent\n"
     ]
    }
   ],
   "source": [
    "''' def solution(A):\n",
    "    m = max(A)\n",
    "    if m < 1:\n",
    "        return 1\n",
    "\n",
    "    A = set(A)\n",
    "    B = set(range(1, m + 1))\n",
    "    D = B - A\n",
    "    if len(D) == 0:\n",
    "        return m + 1\n",
    "    else:\n",
    "        return min(D)\n",
    "    '''\n",
    "   ''' \n",
    "    def solution(A):\n",
    "   a=frozenset(sorted(A))\n",
    "   m=max(a)\n",
    "   if m>0:\n",
    "       for i in range(1,m):\n",
    "           if i not in a:\n",
    "              return i\n",
    "       else:\n",
    "          return m+1\n",
    "   else:\n",
    "       return 1\n",
    "       \n",
    "       ''' \n",
    "   ''' \n",
    "def sml(arr):\n",
    "    a = arr\n",
    "    a.sort()\n",
    "    b = [0]\n",
    "    c = []\n",
    "\n",
    "    if len(a) > 0:\n",
    "        for i,j in enumerate(a):\n",
    "            b.append(j)\n",
    "            if ( (b[i+1] +  b[i]) < 0 ):\n",
    "                c.append(0)\n",
    "            elif ( (b[i+1] - b[i]) ==1 ):\n",
    "                c.append(j)\n",
    "    return max(c)+1\n",
    "    \n",
    "    ''' \n",
    "'''\n",
    "dicts = {}\n",
    "keys = range(4)\n",
    "values = [\"Hi\", \"I\", \"am\", \"John\"]\n",
    "for i in keys:\n",
    "    for x in values:\n",
    "        dicts[i] = x\n",
    "print(dicts)\n",
    "\n",
    "\n",
    "dik = {}\n",
    "keys = codeout(s)\n",
    "values = rateout(s)\n",
    "for i in range(len(keys)):\n",
    "    dik[keys[i]]=values[i]\n",
    "print(dik)\n",
    "\n",
    "rateout(s)[0][i] if rateout(s)[1][i] > rateout(s)[2][i] else '1' for i in range(len(rateout(s)[0]))]#.remove('')\n",
    "\n",
    "'''"
   ]
  },
  {
   "cell_type": "code",
   "execution_count": 1,
   "metadata": {},
   "outputs": [
    {
     "data": {
      "text/plain": [
       "12890"
      ]
     },
     "execution_count": 1,
     "metadata": {},
     "output_type": "execute_result"
    }
   ],
   "source": [
    "'''\n",
    "1 sum a+b\n",
    "'''\n",
    "a = 8984\n",
    "\n",
    "b= 3906\n",
    "sum([a+b])"
   ]
  },
  {
   "cell_type": "code",
   "execution_count": null,
   "metadata": {},
   "outputs": [],
   "source": [
    "'''\n",
    "2 sum in loop\n",
    "def sumloop(nums):\n",
    "    s = 0\n",
    "    for i in nums:\n",
    "        s+=int(i)\n",
    "    return s\n",
    "\n",
    "x = open('2_sumloop.txt','r')\n",
    "sumloop(x.read().replace('\\n',\" \").split(' '))\n",
    "x.close\n",
    "''' \n",
    "def sumloop(nums):\n",
    "    z = 0\n",
    "    for i in nums.split(' '):\n",
    "        z += int(i)\n",
    "    return z\n",
    "\n",
    "x = open('2_sumloop.txt','r')\n",
    "x.readline(3)\n",
    "y=x.read()\n",
    "x.close()\n",
    "sumloop(y) \n",
    "\n"
   ]
  },
  {
   "cell_type": "code",
   "execution_count": null,
   "metadata": {},
   "outputs": [],
   "source": [
    "'''\n",
    "3 Sums in Loop\n",
    "\n",
    "def sumloop_3(nums):\n",
    "    z = []\n",
    "    for i in nums[1:len(nums)]:\n",
    "        z.append( int(i.split(' ')[0] )+ int(i.split(' ')[1]))\n",
    "    return z\n",
    "    \n",
    "x = open('3_sumloop.txt','r')\n",
    "y = x.readlines()\n",
    "x.close()\n",
    "sumloop_3(y)\n",
    "''' \n",
    "\n",
    "x = open('3_sumloop.txt','r')\n",
    "y = x.readlines()\n",
    "x.close()\n",
    "for i in y[1:len(y)]:\n",
    "    print( int(i.split(' ')[0] )+ int(i.split(' ')[1]))"
   ]
  },
  {
   "cell_type": "code",
   "execution_count": null,
   "metadata": {},
   "outputs": [],
   "source": [
    "'''\n",
    "4 Minimum of Two\n",
    "\n",
    "for i in y[1:]:\n",
    "    if int(i.split(' ')[0]) <  int(i.split(' ')[1]):\n",
    "        print(int(i.split(' ')[0]))  \n",
    "    else:\n",
    "        print(int(i.split(' ')[1]))\n",
    "\n",
    "'''\n",
    "x = open('4_minimumtwo.txt','r')\n",
    "y = x.readlines()\n",
    "x.close()\n",
    "z = []\n",
    "for i in y[1:]:\n",
    "    if int(i.split(' ')[0]) <  int(i.split(' ')[1]):\n",
    "        z.append(int(i.split(' ')[0]))  \n",
    "    else:\n",
    "        z.append(int(i.split(' ')[1]))\n",
    "z"
   ]
  },
  {
   "cell_type": "code",
   "execution_count": null,
   "metadata": {},
   "outputs": [],
   "source": [
    "'''\n",
    "5 Minimum of Three\n",
    "'''\n",
    "x = open('5_minimumthree.txt','r')\n",
    "y=x.readlines()\n",
    "x.close()\n",
    "for i in y[1:]:\n",
    "    i[-1].strip()\n",
    "    if  (int(i.split(' ')[0]) < int(i.split(' ')[1]))  and (int(i.split(' ')[0]) < int(i.split(' ')[2])):\n",
    "        print(int(i.split(' ')[0]))\n",
    "    elif (int(i.split(' ')[1]) < int(i.split(' ')[2])) and (int(i.split(' ')[1]) < int(i.split(' ')[0]))  :\n",
    "        print(int(i.split(' ')[1])) \n",
    "    elif (int(i.split(' ')[2]) < int(i.split(' ')[1]))  and (int(i.split(' ')[2]) < int(i.split(' ')[0])) :\n",
    "        print(int(i.split(' ')[2])) "
   ]
  },
  {
   "cell_type": "code",
   "execution_count": null,
   "metadata": {},
   "outputs": [],
   "source": [
    "'''\n",
    "15 Maximum of array\n",
    "x = open('6_Maximumarray.txt','r')\n",
    "y=x.readlines()\n",
    "x.close()\n",
    "print(max(y[0].split(' ')))\n",
    "print(min(y[0].split(' ')))\n",
    "'''\n",
    "x = open('15_Maximumarray.txt','r')\n",
    "y=x.readlines()\n",
    "x.close()\n",
    "z =[]\n",
    "for i in y[0].split(' ')[0:]:\n",
    "    z.append(int(i))\n",
    "print(max(z),' ',min(z))"
   ]
  },
  {
   "cell_type": "code",
   "execution_count": null,
   "metadata": {},
   "outputs": [],
   "source": [
    "'''\n",
    "6 Rounding\n",
    "\n",
    "'''\n",
    "x = open('6_rounding.txt','r')\n",
    "y=x.readlines()\n",
    "x.close()\n",
    "import math\n",
    "for i in y[1:]:\n",
    "    i.strip()\n",
    "    if int(i.split(' ')[0])/int(i.split(' ')[1]) < 0:\n",
    "        if ( int(str(int(i.split(' ')[0])/int(i.split(' ')[1])*10).split('.')[0][-1])) >=5:\n",
    "            print (math.floor(int(i.split(' ')[0])/int(i.split(' ')[1])))\n",
    "        elif ( int(str(int(i.split(' ')[0])/int(i.split(' ')[1])*10).split('.')[0][-1])) <5:\n",
    "            print (math.ceil(int(i.split(' ')[0])/int(i.split(' ')[1])))\n",
    "        else:\n",
    "            print(o)\n",
    "    elif int(i.split(' ')[0])/int(i.split(' ')[1]) >= 0:\n",
    "            if ( int(str(int(i.split(' ')[0])/int(i.split(' ')[1])*10).split('.')[0][-1])) >=5:\n",
    "                print (math.ceil(int(i.split(' ')[0])/int(i.split(' ')[1])))\n",
    "            elif ( int(str(int(i.split(' ')[0])/int(i.split(' ')[1])*10).split('.')[0][-1])) < 5:\n",
    "                print (math.floor(int(i.split(' ')[0])/int(i.split(' ')[1])))\n",
    "            else:\n",
    "                print(o)"
   ]
  },
  {
   "cell_type": "code",
   "execution_count": null,
   "metadata": {},
   "outputs": [],
   "source": [
    "'''\n",
    "7 Fahrenheit to Celsius\n",
    "\n",
    "\tcelcius =[0,10,20,34.5]\n",
    "\tFahrenheit = [ ((9/5)*temp +32) for temp in celcius]\n",
    "\tFahrenheit => result [32.0, 50.0, 68.0, 94.1]\n",
    "\n",
    "\t          \tcelcius =[0,10,20,34.5]\n",
    "\t          \tfahrenheit = []\n",
    "\t          \tfor x in celcius:\n",
    "\t          \t    fahrenheit.append((9/5*x)+32)\n",
    "\t          \t    \n",
    "\t          \tfahrenheit.  => result [32.0, 50.0, 68.0, 94.1]\n",
    "FORMULA C_F C = (F - 32) × 5/9\n",
    "\n",
    "'''\n",
    "x = open('5_Fahrenheit_Celsius.txt','r')\n",
    "y=x.read()\n",
    "x.close()\n",
    "for i in y.split()[1:]:\n",
    "    print(round((int(i) -32)*5/9))"
   ]
  },
  {
   "cell_type": "code",
   "execution_count": null,
   "metadata": {},
   "outputs": [],
   "source": [
    "'''\n",
    "20 Vowel Count\n",
    "'''\n",
    "x = open('20_vowelcount.txt','r')\n",
    "y=x.read()\n",
    "x.close()\n",
    "l = 'aeiouy'\n",
    "\n",
    "for i in y.splitlines()[1:]:\n",
    "    s = 0\n",
    "    for j in range(0,len(l)):\n",
    "        s += i.count(l[j])\n",
    "    print(s,end='  ')"
   ]
  },
  {
   "cell_type": "code",
   "execution_count": null,
   "metadata": {},
   "outputs": [],
   "source": [
    "'''\n",
    "11 Sum of digits\n",
    "'''\n",
    "import math\n",
    "x = open('11_sumofdigits.txt','r')\n",
    "y=x.read()\n",
    "x.close()\n",
    "\n",
    "for i in y[3:].splitlines():\n",
    "    a =(int(i.split(' ')[0])*int(i.split(' ')[1])+int(i.split(' ')[2]))\n",
    "    sm =0\n",
    "    while a >= 0:\n",
    "        sm += a%10\n",
    "        a = math.floor(a/10)\n",
    "        if a ==0:\n",
    "            break\n",
    "    print(sm)"
   ]
  },
  {
   "cell_type": "code",
   "execution_count": null,
   "metadata": {},
   "outputs": [],
   "source": [
    "'''\n",
    "8 Arithmetic Progression\n",
    "'''\n",
    "x = open('8_arithmeticprogression.txt','r')\n",
    "y=x.readlines()\n",
    "x.close()\n",
    "for i in y[1:]:\n",
    "    sm = int(i.split()[0]) \n",
    "    z = int(i.split()[2]) \n",
    "    w =0\n",
    "    while z > 0:\n",
    "        w +=sm\n",
    "        sm += int(i.split()[1])\n",
    "        z -=1\n",
    "    print(w)"
   ]
  },
  {
   "cell_type": "code",
   "execution_count": null,
   "metadata": {},
   "outputs": [],
   "source": [
    "'''\n",
    "41 Median of Three\n",
    "'''\n",
    "x = open('41_medianofthree.txt','r')\n",
    "y=x.readlines()\n",
    "x.close()\n",
    "for i in y[1:]:\n",
    "    print(sorted(  [int(i.split()[0]),int(i.split()[1]),int(i.split()[2])])[1])\n"
   ]
  },
  {
   "cell_type": "code",
   "execution_count": null,
   "metadata": {},
   "outputs": [],
   "source": [
    "'''\n",
    "9 Triangles\n",
    "Conditions for a figure to be considered a triangle;\n",
    "It must have 3 sides.\n",
    "All three sides can be equal, in which case it is an equilateral triangle.\n",
    "The sum of any two sides should be more than the third side.\n",
    "Two sides may be equal, in which case it is an isosceles triangle.\n",
    "'''\n",
    "x = open('9_triangles.txt','r')\n",
    "y=x.readlines()\n",
    "x.close()\n",
    "for i in y[1:]:\n",
    "    a = int(i.split()[0])\n",
    "    b = int(i.split()[1])\n",
    "    c = int(i.split()[2])\n",
    "    if a == b or b ==c or a == c:\n",
    "        print(1, end= ' ')\n",
    "    elif a+b >= c and b+c >= a and a+c >= b:\n",
    "        print(1,end= ' ')\n",
    "    else: \n",
    "        print(0,end = ' ')"
   ]
  },
  {
   "cell_type": "code",
   "execution_count": null,
   "metadata": {},
   "outputs": [],
   "source": [
    "'''\n",
    "28 Body Mass Index\n",
    "BMI = weight / height^2\n",
    "'''\n",
    "x = open('23_bodymassindex.txt','r')\n",
    "y=x.readlines()\n",
    "x.close()\n",
    "for i in y[1:]:\n",
    "    BMI = int(i.split()[0])/(float(i.split()[1]))**2\n",
    "    if BMI  < 18.5:\n",
    "        print('under',end=' ')\n",
    "    elif  18.5 <= BMI < 25.0:\n",
    "        print('normal',end=' ')\n",
    "    elif 25.0 <= BMI < 30.0:\n",
    "        print('over',end=' ')\n",
    "    elif 30.0 <= BMI:\n",
    "        print('obese',end=' ')"
   ]
  },
  {
   "cell_type": "code",
   "execution_count": null,
   "metadata": {},
   "outputs": [],
   "source": [
    "'''\n",
    "13 Weighted sum of digits\n",
    "'''\n",
    "x = open('13_weightedsumofdigits.txt','r')\n",
    "y=x.read()\n",
    "x.close()\n",
    "for i in y[3:].split():\n",
    "    ln = len(i)\n",
    "    tot = 0\n",
    "    j = i\n",
    "    while ln > 0:\n",
    "        tot += (int(j)%10)*ln\n",
    "        j = j[0:-1]\n",
    "        ln -=1 \n",
    "    print(tot,end=' ')"
   ]
  },
  {
   "cell_type": "code",
   "execution_count": null,
   "metadata": {},
   "outputs": [],
   "source": [
    "'''\n",
    "16 Average of an array\n",
    "'''\n",
    "x = open('16_averageofanarray.txt','r')\n",
    "y=x.readlines()\n",
    "x.close()\n",
    "for i in y[1:]:\n",
    "    lst, j = i.split()[:-1],len(i.split()[:-1])\n",
    "    s = 0\n",
    "    for k in lst:\n",
    "           s +=int(k)\n",
    "    print(round(s/j),end= ' ') "
   ]
  },
  {
   "cell_type": "code",
   "execution_count": 19,
   "metadata": {},
   "outputs": [
    {
     "name": "stdout",
     "output_type": "stream",
     "text": [
      "4 1 4 6 3 5 3 2 3 1 3 3 3 5 2 3 4 4 5 6 3 2 "
     ]
    }
   ],
   "source": [
    "'''\n",
    "43 Dice Rolling\n",
    "import random\n",
    "print(random.randrange(3, 9)) start, stop, step)\n",
    "#returns a number between 3 (included) and 9 (not included)\n",
    "\n",
    "import random\n",
    "print(random.randint(3, 9))\n",
    "#returns a number between 3 and 9 (both included)\n",
    "'''\n",
    "x = open('43_dicerolling.txt','r')\n",
    "y=x.readlines()\n",
    "x.close()\n",
    "for i in y[1:]:\n",
    "    print((int(float(i.strip()) * 6))+1,end=' ')"
   ]
  },
  {
   "cell_type": "code",
   "execution_count": null,
   "metadata": {},
   "outputs": [],
   "source": [
    "'''\n",
    "30 Reverse String\n",
    "'''\n",
    "x = open('30_reversestring.txt','r')\n",
    "y=x.readlines()\n",
    "x.close()\n",
    "y[0][: :-1]"
   ]
  },
  {
   "cell_type": "code",
   "execution_count": null,
   "metadata": {},
   "outputs": [],
   "source": [
    "'''\n",
    "17 Array Checksum\n",
    "You will be given the array for which checksum should be calculated. Perform calculation as follows: for each element of the array (starting from beginning) add this element to result variable and multiply this sum by 113\n",
    "- this new value taken by modulo 10000007 should become the next value of result, and so on.\n",
    "'''\n",
    "x = open('17_arraychecksum.txt','r')\n",
    "y=x.read()\n",
    "x.close()\n",
    "seed = 113\n",
    "limit = 10000007\n",
    "result = 0\n",
    "for i in y[3:].split():\n",
    "    result = ((result + int(i)) *113)%10000007\n",
    "result"
   ]
  },
  {
   "cell_type": "code",
   "execution_count": 149,
   "metadata": {},
   "outputs": [
    {
     "name": "stdout",
     "output_type": "stream",
     "text": [
      "43 45 36 54 40 44 38 49 "
     ]
    }
   ],
   "source": [
    "'''\n",
    "21 Array Counters\n",
    "'''\n",
    "x = open('21_arraycounters.txt','r')\n",
    "y=x.read()\n",
    "x.close()\n",
    "for i in range(1,9,1):\n",
    "    print(sorted(y[6:]).count(str(i)),end= ' ')"
   ]
  },
  {
   "cell_type": "code",
   "execution_count": null,
   "metadata": {},
   "outputs": [],
   "source": [
    "'''\n",
    "10 Linear Functions\n",
    "Y = Β0 + Β1X\n",
    "where Β0 is a constant, Β1 is the regression coefficient, X is the value of the independent variable, and Y is the value of the dependent variable.\n",
    "\n",
    "\n",
    "ŷ = b0 + b1x\n",
    "\n",
    "b1 = Σ [ (xi - x)(yi - y) ] / Σ [ (xi - x)2] \n",
    "b1 = r * (sy / sx) \n",
    "b0 = y - b1 * x\n",
    "where b0 is the constant in the regression equation, b1 is the regression \n",
    "coefficient, r is the correlation between x and y, xi is the X value of \n",
    "observation i, yi is the Y value of observation i, x is the mean of X, y \n",
    "is the mean of Y, sx is the standard deviation of X, and sy is the \n",
    "standard deviation of Y\n",
    "\n",
    "'''\n",
    "x = open('10_linearfunction.txt','r')\n",
    "y=x.read()\n",
    "x.close()\n",
    "for i in y.splitlines()[1:]:\n",
    "    slop = (int(i.split()[3])-int(i.split()[1]))/(int(i.split()[2]) - int(i.split()[0]))\n",
    "    intercept = (int(i.split()[1])) - (slop * int(i.split()[0]))\n",
    "    print(\"(\"+str(int(slop)),str(int(intercept))+\")\",end=' ')"
   ]
  },
  {
   "cell_type": "code",
   "execution_count": null,
   "metadata": {},
   "outputs": [],
   "source": [
    "'''\n",
    "12 Modulo and time difference\n",
    "\n",
    "seconds = 208920\n",
    "seconds_in_day = 60 * 60 * 24\n",
    "seconds_in_hour = 60 * 60\n",
    "seconds_in_minute = 60\n",
    "\n",
    "days = seconds // seconds_in_day\n",
    "hours = (seconds - (days * seconds_in_day)) // seconds_in_hour\n",
    "minutes = (seconds - (days * seconds_in_day) - (hours * seconds_in_hour)) // seconds_in_minute\n",
    "\n",
    "print(days, hours, minutes)\n",
    "'''\n",
    "x = open('12_moduloandtimedifference.txt','r')\n",
    "y=x.read()\n",
    "x.close()\n",
    "for i in y.splitlines()[1:]:\n",
    "    l = ((i.strip().split()[0:4],i.split()[4:]))\n",
    "    t_secs = abs((int(l[1][0])* 86400 + int(l[1][1])*3600 + int(l[1][2])*60 + int(l[1][3]*1)) - \\\n",
    "                       (int(l[0][0])*86400+int(l[0][1])*3600 + int(l[0][2])*60 + int(l[0][3]*1)))\n",
    "    days = t_secs //86400\n",
    "    hours = (t_secs%86400)//3600\n",
    "    minutes =   (t_secs%3600)//60\n",
    "    secnd = t_secs%60\n",
    "    print(\"(\"+str(days),hours, minutes, str(secnd)+\")\", end =' ')"
   ]
  },
  {
   "cell_type": "code",
   "execution_count": null,
   "metadata": {},
   "outputs": [],
   "source": [
    "'''\n",
    "48 Collatz Sequence\n",
    "'''\n",
    "x = open('48_collatzsequence.txt','r')\n",
    "y=x.read()\n",
    "x.close()\n",
    "for i in y.split()[1:]:\n",
    "    j = int(i)\n",
    "    cnt = 0\n",
    "    while j > 0:\n",
    "        cnt +=1\n",
    "        if j%2 == 0:\n",
    "            j = j/2\n",
    "        else:\n",
    "            j = 3*j+1\n",
    "        if j ==1:\n",
    "            break\n",
    "    print(cnt,end=' ')          "
   ]
  },
  {
   "cell_type": "code",
   "execution_count": null,
   "metadata": {},
   "outputs": [],
   "source": [
    "'''\n",
    "14 Modular Calculator\n",
    "\n",
    "P – Parentheses.\n",
    "E – Exponentiation.\n",
    "M – Multiplication.\n",
    "D – Division.\n",
    "A – Addition.\n",
    "S – Subtraction.\n",
    "'''\n",
    "\n",
    "x = open('14_modularcalculator.txt','r')\n",
    "y=x.readlines()\n",
    "x.close()\n",
    "j = int(y[0])\n",
    "k = int((y[-1].split()[1]))\n",
    "sm = j\n",
    "for i in y[1:-1]:\n",
    "    i.strip()\n",
    "    if i.split()[0] == '+':\n",
    "        sm += int(i.split()[1])\n",
    "    else:\n",
    "        sm *= int(i.split()[1])\n",
    "print(sm%k)"
   ]
  },
  {
   "cell_type": "code",
   "execution_count": null,
   "metadata": {},
   "outputs": [],
   "source": [
    "'''\n",
    "Create new cell\tEsc + a (above), Esc + b (below)\n",
    "27 Bubble Sort\n",
    "\n",
    "y=x.readlines()\n",
    "x.close()\n",
    "\n",
    "arlen =len(y[1].split())\n",
    "abc = y[1].split()\n",
    "print(abc,' ',arlen)\n",
    "cnt = 0\n",
    "passes = 0\n",
    "\n",
    "for o in range(1,5,1):\n",
    "    print('outer',o)\n",
    "    for i in range(0,arlen-1,1):\n",
    "        temp = abc[i]\n",
    "        passes +=1\n",
    "        if abc[i] > abc[i+1]:\n",
    "            cnt +=1\n",
    "            abc[i] = abc[i+1]\n",
    "            abc[i+1]=temp\n",
    "            #print(abc,'swap',abc[i],abc[i+1],cnt)\n",
    "        elif abc[i] <= abc[i+1]:\n",
    "            abc[i] = abc[i]\n",
    "print(abc)\n",
    "print(cnt,passes)\n",
    "'''\n",
    "x = open('27_bubblesort.txt','r')\n",
    "y=x.readlines()\n",
    "x.close()\n",
    "\n",
    "arlen =len(y[1].split())\n",
    "abc = y[1].split()\n",
    "cnt = 0\n",
    "passes = 0\n",
    "for i in range(arlen-1):\n",
    "    flag = 0\n",
    "    passes +=1\n",
    "    for j in range(arlen-1):\n",
    "        if int(abc[j]) > int(abc[j+1]):\n",
    "            temp = abc[j]\n",
    "            abc[j] = abc[j+1]\n",
    "            abc[j+1]=temp\n",
    "            flag =1\n",
    "            cnt +=1\n",
    "    if flag ==0:\n",
    "        break\n",
    "print(abc)\n",
    "print(passes,cnt)"
   ]
  },
  {
   "cell_type": "code",
   "execution_count": null,
   "metadata": {},
   "outputs": [],
   "source": [
    "'''\n",
    "26 Greatest Common Divisor\n",
    "gcd(20, 35) = 5\n",
    "20      35      - subtract first from second\n",
    "20      15      - subtract second from first\n",
    "5       15      - now subtract first from second twice\n",
    "5       5       - and here is GCD\n",
    "lcm(a, b) = a * b / gcd(a, b)\n",
    "'''\n",
    "x = open('26_greatestcommondivisor.txt','r')\n",
    "y=x.readlines()\n",
    "x.close()\n",
    "\n",
    "for i in y[1:]:\n",
    "    a = int(i.split()[0]) \n",
    "    b = int(i.split()[1])\n",
    "    while  a != b:\n",
    "        if a > b:\n",
    "            a = (a-b)\n",
    "        else:\n",
    "            b = (b-a)\n",
    "    print(\"(\"+str(a),str(int(int(i.split()[0])*int(i.split()[1])/a))+\")\", end = ' ')"
   ]
  },
  {
   "cell_type": "code",
   "execution_count": null,
   "metadata": {},
   "outputs": [],
   "source": [
    "'''\n",
    "18 Square Root\n",
    "\n",
    "Heron's (or Babylonian) Method\n",
    "To find square root r of a value v, first choose any reasonable approximation - (for example, let r = 1);\n",
    "Calculate d as the result of division v by r, i.e. d = v / r - obviously the better approximation r gives, the closer d will be to it;\n",
    "Check the difference between r and d, if it is small enough for your purpose, then stop and return r;\n",
    "Calculate average between r and d and use it as the next step approximation, i.e. r{new} = (r + d) / 2);\n",
    "Proceed with the new approximation from the step 2.\n",
    "Let us see an example - we'll try to compute sqrt(10):\n",
    "\n",
    "r = 1\n",
    "\n",
    "d = 10 / 1 = 10\n",
    "abs(r - d) = abs(1 - 10) = 9   - difference is bit too much still\n",
    "(r + d) / 2 = (1 + 10) / 2 = 5.5\n",
    "let r = 5.5\n",
    "\n",
    "d = 10 / 5.5 = 1.8182\n",
    "abs(r - d) = abs(5.5 - 1.8182) = 3.6818   - again too much, let us proceed\n",
    "(r + d) / 2 = (5.5 + 1.8182) / 2 = 3.6591\n",
    "let r = 3.6591\n",
    "\n",
    "d = 10 / 3.6591 = 2.7329\n",
    "abs(r - d) = abs(3.6591 - 2.7329) = 0.9262   - it become less than 1, let us do the one step more\n",
    "(r + d) / 2 = (3.6591 + 2.7329) / 2 = 3.196\n",
    "let r = 3.196\n",
    "'''\n",
    "x = open('18_squareroot.txt','r')\n",
    "y=x.readlines()\n",
    "x.close()\n",
    "for i in y[1:]:\n",
    "    r =1\n",
    "    for j in range(int(i.split()[1])):\n",
    "        r = round(((r+(int(i.split()[0]))/r)/2),12)\n",
    "    print(r,end=' ')\n"
   ]
  },
  {
   "cell_type": "code",
   "execution_count": null,
   "metadata": {},
   "outputs": [],
   "source": [
    "'''\n",
    "29 Sort with Indexes\n",
    "'''\n",
    "x = open('29_sortwithindexes.txt','r')\n",
    "y=x.readlines()\n",
    "x.close()\n",
    "\n",
    "d = [i.split() for i in y[1:]]\n",
    "d[0].insert(0,'')\n",
    "\n",
    "arlen =len(y[1].split())\n",
    "abc = y[1].split()\n",
    "cnt = 0\n",
    "passes = 0\n",
    "for i in range(arlen-1):\n",
    "    flag = 0\n",
    "    for j in range(arlen-1):\n",
    "        if int(abc[j]) > int(abc[j+1]):\n",
    "            temp = abc[j]\n",
    "            abc[j] = abc[j+1]\n",
    "            abc[j+1]=temp\n",
    "            flag =1\n",
    "    if flag ==0:\n",
    "        break\n",
    "\n",
    "for i in abc:\n",
    "    print(d[0].index(i), end = ' ')"
   ]
  },
  {
   "cell_type": "code",
   "execution_count": 179,
   "metadata": {},
   "outputs": [
    {
     "name": "stdout",
     "output_type": "stream",
     "text": [
      "35 2333789\n"
     ]
    }
   ],
   "source": [
    "'''\n",
    "23 Bubble in Array\n",
    "You will be given the array for which checksum should be calculated. Perform calculation as follows: for each element of the array (starting from beginning) add this element to result variable and multiply this sum by 113\n",
    "- this new value taken by modulo 10000007 should become the next value of result, and so on.\n",
    "\n",
    "'''\n",
    "x = open('23_bubbleinarray.txt','r')\n",
    "y=x.readlines()\n",
    "x.close()\n",
    "seed = 113\n",
    "limit = 10000007\n",
    "result = 0\n",
    "arlen =len(y[0].split())\n",
    "abc = y[0].split()\n",
    "cnt = 0\n",
    "\n",
    "for i in range(0,1):\n",
    "    for j in range(arlen-2):\n",
    "        if int(abc[j]) > int(abc[j+1]):\n",
    "            temp = abc[j]\n",
    "            abc[j] = abc[j+1]\n",
    "            abc[j+1]=temp\n",
    "            cnt +=1\n",
    "            \n",
    "for i in abc[0:-1]:\n",
    "    result = ((result + int(i)) *113)%10000007\n",
    "\n",
    "print(cnt,result)\n"
   ]
  },
  {
   "cell_type": "code",
   "execution_count": 180,
   "metadata": {},
   "outputs": [
    {
     "name": "stdout",
     "output_type": "stream",
     "text": [
      "N Y Y Y Y Y N Y N Y Y Y Y N Y Y Y Y N "
     ]
    }
   ],
   "source": [
    "'''\n",
    "50 Palindromes\n",
    "'''\n",
    "x = open('50_palindromes.txt','r')\n",
    "import string\n",
    "import re\n",
    "y=x.readlines()\n",
    "x.close()\n",
    "s =  string.punctuation \n",
    "for i in y[1:]:\n",
    "    j = i.lower().replace(' ','')\n",
    "    r = re.findall(r'[^!,-]',j)\n",
    "    z = ''.join(r).strip()\n",
    "    if  z == z[::-1] :\n",
    "        print('Y',end=' ')\n",
    "    else:\n",
    "        print('N',end=' ')"
   ]
  },
  {
   "cell_type": "code",
   "execution_count": 181,
   "metadata": {},
   "outputs": [
    {
     "name": "stdout",
     "output_type": "stream",
     "text": [
      "iyajnizamgsywsyq msuxuutequterwozpyxa woafitxfyheoxuxfubuab owaupiomvoczhstrdayhak vwisgqreqostljjoiikkfn pnyfuyjluktehlyxfwxek ynhaycxcvqgjsllisbkwikuur yiqwckloknbbcovufwvbu uplfooqoauiujfmozdr fxypdqagogavbpuodmwtup wzkdmugdzoyoygzvtyuufjd pfbavydabapymdi "
     ]
    }
   ],
   "source": [
    "'''\n",
    "31 Rotate String\n",
    "'''\n",
    "x = open('31_rotatestring.txt','r')\n",
    "y=x.readlines()\n",
    "x.close()\n",
    "\n",
    "for i in y[1:]:\n",
    "    #print(i.split()[0])\n",
    "    flag = int(i.split()[0])\n",
    "    if int(i.split()[0]) > 0:\n",
    "        print(i.split()[1][flag:] + i.split()[1][0:flag],end= ' ')\n",
    "    else:\n",
    "        print(i.split()[1][flag:] + i.split()[1][0:flag],end= ' ')"
   ]
  },
  {
   "cell_type": "code",
   "execution_count": 182,
   "metadata": {},
   "outputs": [
    {
     "name": "stdout",
     "output_type": "stream",
     "text": [
      "107 97 105 101 98 102 100 107 102 106 "
     ]
    }
   ],
   "source": [
    "'''\n",
    "24 Neumann's Random Generator\n",
    "'''\n",
    "x = open('24_neumannsrandomgenerator.txt','r')\n",
    "y=x.readlines()\n",
    "x.close()\n",
    "\n",
    "s =[ i.split()  for i in y[1:]]\n",
    "for i in s[0]:\n",
    "    lst = []\n",
    "    flag = 0\n",
    "    lst = [int(i)]\n",
    "    loop = 0\n",
    "    sqr = 0\n",
    "    while flag >=0 :\n",
    "        if int(len(str(lst[flag]**2))) < 8:\n",
    "            cnt = 8 - (int(len(str(lst[flag]**2))))\n",
    "            sqr = ((int('0'*cnt + str(lst[flag]**2))//100)%10000)\n",
    "            loop +=1\n",
    "        else:\n",
    "            sqr = ((lst[flag]**2)//100)%10000\n",
    "            loop +=1\n",
    "        if sqr in lst:\n",
    "            break\n",
    "        lst.append(sqr)\n",
    "        flag +=1\n",
    "    print(loop, end=' ')"
   ]
  },
  {
   "cell_type": "code",
   "execution_count": 183,
   "metadata": {},
   "outputs": [
    {
     "name": "stdout",
     "output_type": "stream",
     "text": [
      "A O R O O R O O R A O A A A A O R R O A O A A A R O A O "
     ]
    }
   ],
   "source": [
    "'''\n",
    "52 Pythagorean Theorem\n",
    "'''\n",
    "x = open('52_pythagoreantheorem.txt','r')\n",
    "y=x.readlines()\n",
    "x.close()\n",
    "import math as m\n",
    "for i in y[1:]:\n",
    "    a = int(i.split()[0])\n",
    "    b = int(i.split()[1])\n",
    "    c = int(i.split()[2])\n",
    "    if c > m.sqrt(a**2+b**2):\n",
    "        print('O',end=' ')\n",
    "    elif c < m.sqrt(a**2+b**2):\n",
    "        print('A',end=' ')\n",
    "    else:\n",
    "        print('R',end=' ')"
   ]
  },
  {
   "cell_type": "code",
   "execution_count": 184,
   "metadata": {},
   "outputs": [
    {
     "name": "stdout",
     "output_type": "stream",
     "text": [
      "845 162 80 88 461 572 610 570 365 243 409 563 815 51 289 259 420 85 27 "
     ]
    }
   ],
   "source": [
    "'''\n",
    "67 Fibonacci Sequence\n",
    "'''\n",
    "x = open('67_fibonaccisequence.txt','r')\n",
    "y=x.read()\n",
    "x.close()\n",
    "\n",
    "for i in y[3:].splitlines():\n",
    "    if i != '0':\n",
    "        flag = 0 \n",
    "        inc = 0\n",
    "        temp = 1\n",
    "        seq = 1\n",
    "        while flag >=0 :\n",
    "            b = temp\n",
    "            temp = inc + b\n",
    "            inc = b\n",
    "            seq +=1\n",
    "            if str(temp) == i:\n",
    "                print(seq,end=' ')\n",
    "                break\n",
    "            flag +=1\n",
    "    else:\n",
    "        seq = 0\n",
    "        print(seq,end=' ')"
   ]
  },
  {
   "cell_type": "code",
   "execution_count": 185,
   "metadata": {},
   "outputs": [
    {
     "name": "stdout",
     "output_type": "stream",
     "text": [
      "38.3 35.97 37.9 43.57 45.47 48.8 49.07 51.4 48.07 44.97 43.1 38.4 31.27 23.03 13.6 12.13 11.87 14.6 14.47 13.1 16.1 18.4 19.87 22.13 30.83 36.57 43.83 43.5 47.57 47.33 52.37 51.83 52.53 40.67 38.27 32.47 29.2 22.63 17.67 18.27 14.07 11.43 9.9 11.23 15.57 17.7 21.77 24.67 30.0 33.5 38.1 46.3 51.1 50.17 49.73 48.63 49.17 46.07 46.47 41.3 32.73 23.7 18.17 14.43 11.3 13.77 13.23 17.53 16.83 24.93 20.5 27.13 28.07 38.0 40.67 46.2 49.3 53.83 52.07 53.0 47.4 44.3 38.63 35.0 30.13 24.37 19.2 13.0 11.47 12.0 12.43 11.8 10.6 14.63 19.13 28.87 32.27 37.27 41.83 44.23 46.73 44.93 53.77 58.17 57.47 49.7 41.33 33.5 31.1 28.5 22.7 11.9 6.2 3.3 8.47 11.03 17.43 18.37 17.67 20.4 26.63 32.63 38.6 46.57 51.5 53.5 50.33 49.83 47.77 43.43 38.97 31.43 26.57 21.9 21.33 16.97 14.13 7.33 7.3 7.73 16.63 18.13 22.1 23.37 29.5 34.57 39.33 42.93 42.5 44.5 48.7 51.83 49.4 43.5 36.63 32.3 27.17 23.63 22.7 17.4 15.83 12.4 13.37 13.63 13.57 16.33 20.27 29.27 34.5 39.53 39.5 38.63 41.27 43.03 48.4 48.27 49.7 43.3 39.17 31.17 29.43 24.33 15.73 14.43 11.37 15.47 11.57 13.07 13.93 22.07 26.77 29.1 "
     ]
    }
   ],
   "source": [
    "'''\n",
    "57 Smoothing the Weather\n",
    "'''\n",
    "x = open('57_smoothingtheweather.txt','r')\n",
    "y=x.readlines()\n",
    "x.close()\n",
    "j = [i.split() for i in y[1:]]\n",
    "print(round(float(j[0][0]),2),end= ' ')\n",
    "for k in range(len(j[0])-2):\n",
    "    print( round((float(j[0][k])+float(j[0][k+1])+float(j[0][k+2]))/3,2), end=' ')\n",
    "print(round(float(j[0][-1]),2),end= ' ')"
   ]
  },
  {
   "cell_type": "code",
   "execution_count": 186,
   "metadata": {},
   "outputs": [
    {
     "name": "stdout",
     "output_type": "stream",
     "text": [
      "9.13 11.33 7.14 29.39 24.17 5.63 54.48 67.33 72.69 21.78 13.4 8.47 16.09 110.29 13.0 32.06 11.89 56.43 33.16 7.93 177.73 21.64 5.33 10.28 19.08 "
     ]
    }
   ],
   "source": [
    "'''\n",
    "68 Bicycle Race\n",
    "'''\n",
    "x = open('68_bicyclerace.txt','r')\n",
    "y=x.readlines()\n",
    "x.close()\n",
    "s = [i.split() for i in y[1:]]\n",
    "for j in range(len(s)):\n",
    "    time = float(int(s[j][0])/(int(s[j][1]) + int(s[j][2])))\n",
    "    print(round(float(int(s[j][1])*time),2),end= ' ')"
   ]
  },
  {
   "cell_type": "code",
   "execution_count": 187,
   "metadata": {},
   "outputs": [
    {
     "name": "stdout",
     "output_type": "stream",
     "text": [
      "37 163 36 163 8 152 137 163 51 302 27 324 102 138 46 "
     ]
    }
   ],
   "source": [
    "'''\n",
    "35 Savings Calculator\n",
    "'''\n",
    "x = open('35_savingscalculator.txt','r')\n",
    "y=x.readlines()\n",
    "x.close()\n",
    "s = [i.split() for i in y[1:]]\n",
    "for i in range(len(s)):\n",
    "    cnt = 0\n",
    "    money = int(s[i][0])*100\n",
    "    while  money < int(s[i][1])*100:\n",
    "        money += int((money*int(s[i][2])) /100)\n",
    "        cnt +=1\n",
    "    print(cnt,end= ' ')"
   ]
  },
  {
   "cell_type": "code",
   "execution_count": 188,
   "metadata": {},
   "outputs": [
    {
     "name": "stdout",
     "output_type": "stream",
     "text": [
      "4 43 393 1736 32663 806 70153 0 41925 182486 592520 5864 422 "
     ]
    }
   ],
   "source": [
    "'''\n",
    "25 Linear Congruential Generator\n",
    "'''\n",
    "x = open('25_linearcongruentialgenerator.txt','r')\n",
    "y=x.readlines()\n",
    "x.close()\n",
    "s = [i.split() for i in y[1:]]\n",
    "\n",
    "for i in range(len(s)):\n",
    "    a = int(s[i][0])\n",
    "    c = int(s[i][1])\n",
    "    m = int(s[i][2])\n",
    "    inl = int(s[i][-2])\n",
    "    n = int(s[i][-1])\n",
    "    xnext = inl\n",
    "    while n > 0 :\n",
    "        xnext = (a*xnext+c)%m\n",
    "        n -=1\n",
    "    print(xnext,end= ' ')"
   ]
  },
  {
   "cell_type": "code",
   "execution_count": 189,
   "metadata": {},
   "outputs": [
    {
     "name": "stdout",
     "output_type": "stream",
     "text": [
      "[34]\n"
     ]
    }
   ],
   "source": [
    "'''\n",
    "32 Josephus Problem\n",
    "'''\n",
    "x = open('32_josephusproblem.txt','r')\n",
    "y=x.read()\n",
    "x.close()\n",
    "lst = [i for i in range(1,int(y.split()[0])+1,1)]\n",
    "ln = len(lst)\n",
    "k = int(y.split()[1])-1\n",
    "l = 0\n",
    "while ln >= 1:\n",
    "    lst.extend(lst[l:k])\n",
    "    lst.pop(k)\n",
    "    for i in range(k):\n",
    "        lst.pop(0)\n",
    "    if len(lst) <=1:\n",
    "        break\n",
    "    ln -= 1\n",
    "print(lst)\n"
   ]
  },
  {
   "cell_type": "code",
   "execution_count": 190,
   "metadata": {},
   "outputs": [
    {
     "name": "stdout",
     "output_type": "stream",
     "text": [
      "7 5 11 7 2 4 7 5 11 8 9 11 6 7 3 10 6 9 6 7 2 6 10 8 7 7 6 9 "
     ]
    }
   ],
   "source": [
    "'''\n",
    "44 Double Dice Roll\n",
    "'''\n",
    "x = open('44_doublediceroll.txt','r')\n",
    "y=x.readlines()\n",
    "x.close()\n",
    "s =[i.strip() for i in y[1:]]\n",
    "for k in range(len(s)):\n",
    "    print( ((int(s[k].split()[0])%6)+1) +  ((int(s[k].split()[1])%6)+1),end= ' ')"
   ]
  },
  {
   "cell_type": "code",
   "execution_count": 191,
   "metadata": {},
   "outputs": [
    {
     "name": "stdout",
     "output_type": "stream",
     "text": [
      "0 0 1 1 1 1 1 0 0 1 0 0 0 0 1 0 1 0 "
     ]
    },
    {
     "data": {
      "text/plain": [
       "[None,\n",
       " None,\n",
       " None,\n",
       " None,\n",
       " None,\n",
       " None,\n",
       " None,\n",
       " None,\n",
       " None,\n",
       " None,\n",
       " None,\n",
       " None,\n",
       " None,\n",
       " None,\n",
       " None,\n",
       " None,\n",
       " None,\n",
       " None]"
      ]
     },
     "execution_count": 191,
     "metadata": {},
     "output_type": "execute_result"
    }
   ],
   "source": [
    "'''\n",
    "19 Matching Brackets\n",
    "#'(',')','[',']','{','}','<','>'\n",
    "'''\n",
    "x = open('19_matchingbrackets.txt','r')\n",
    "y=x.readlines()\n",
    "x.close()\n",
    "import re as re\n",
    "import string\n",
    "\n",
    "def check(expression):\n",
    "      \n",
    "    open_tup = tuple('({[<')\n",
    "    close_tup = tuple(')}]>')\n",
    "    map = dict(zip(open_tup, close_tup))\n",
    "    queue = []\n",
    "  \n",
    "    for i in expression:\n",
    "        if i in open_tup:\n",
    "            queue.append(map[i])\n",
    "        elif i in close_tup:\n",
    "            if not queue or i != queue.pop():\n",
    "                return 0\n",
    "    if not queue:\n",
    "        return 1\n",
    "    else:\n",
    "        return 0\n",
    "\n",
    "s = [ i.split() for i in y[1:]]\n",
    "out = []\n",
    "for k in range(len(s)):\n",
    "    l =''\n",
    "    for i in s[k]:\n",
    "        l += i\n",
    "    pattern = r'[^\\s\\w*+^/%-]'\n",
    "    r = re.findall(pattern,l)\n",
    "    out.append(r)\n",
    "\n",
    "[print(check(i), end= ' ') for i in out]\n"
   ]
  },
  {
   "cell_type": "code",
   "execution_count": 192,
   "metadata": {},
   "outputs": [
    {
     "name": "stdout",
     "output_type": "stream",
     "text": [
      "21 25 9 16 29 9 25 5 24 12 8 14 25 27 13 23 7 19 4 11 19 3 11 4 24 5 31 17 18 25 6 12 27 17 26 26 14 12 14 21 10 12 14 24 8 26 7 20 31 15 10 10 14 25 "
     ]
    }
   ],
   "source": [
    "'''\n",
    "81 Bit Count\n",
    "\n",
    "def count_bits(x):\n",
    "    c = 0\n",
    "    for i in range(32):\n",
    "        c += (x & 1)\n",
    "        x >>= 1\n",
    "    return c\n",
    "'''\n",
    "\n",
    "x = open('81_bitcount.txt','r')\n",
    "y=x.readlines()\n",
    "x.close()\n",
    "\n",
    "def twoscomp():\n",
    "    a = '1'\n",
    "    sout = []\n",
    "    for j in fout[::-1]:\n",
    "        if j == a:\n",
    "            sout.append(j.replace(j,'0'))\n",
    "            a = a.replace('1','1')\n",
    "        elif j != a:\n",
    "            if a == '1':\n",
    "                sout.append(j.replace(j,a))\n",
    "                a = a.replace('1','0')\n",
    "            else:\n",
    "                sout.append(j.replace(j,j))\n",
    "    return ''.join(sout[::-1])\n",
    "xx =[k.split() for k in y]\n",
    "\n",
    "for i in range(int(y[0].strip())):\n",
    "    yy = int(xx[1][i])\n",
    "    d = [yy]\n",
    "    if d[0] >= 1:\n",
    "        temp = ''\n",
    "        while d[0]  > 0:\n",
    "            x = d[0] %2\n",
    "            temp += str(x)\n",
    "            d.append(d[0] //2)\n",
    "            d.pop(0)\n",
    "        temp[::-1]\n",
    "        out = ('0'* (32-len(temp[::-1])) +temp[::-1]) if ( len(temp[::-1]) < 32) else temp[::-1]\n",
    "    else:\n",
    "        d[0] = d[0]*-1\n",
    "        temp = ''\n",
    "        fout =''\n",
    "        \n",
    "        while d[0]  > 0:\n",
    "            x = d[0] %2\n",
    "            temp += str(x)\n",
    "            d.append(d[0] //2)\n",
    "            d.pop(0)\n",
    "        fout = ''.join(['1' if i =='0' else '0' for i in temp[::-1]])\n",
    "        out = ('1'* (32-len(twoscomp())) +twoscomp()) if ( len(twoscomp()) < 32) else temp[fout]\n",
    "    print(out.count('1'),end= ' ')"
   ]
  },
  {
   "cell_type": "code",
   "execution_count": 183,
   "metadata": {},
   "outputs": [
    {
     "name": "stdout",
     "output_type": "stream",
     "text": [
      "IN ANCIENT PERSIA THERE WAS A KING. THAT ALL MEN ARE CREATED EQUAL LOVEST THOU ME PETER AS EASY AS LYING. GREENFIELDS ARE GONE NOW. AND SO YOU TOO BRUTUS TO US IN OLDEN STORIES A DAY AT THE RACES. CARTHAGE MUST BE DESTROYED AND FORGIVE US OUR DEBTS LET HIM THROW THE FIRST STONE. "
     ]
    }
   ],
   "source": [
    "'''\n",
    "47 Caesar Shift Cipher\n",
    "'''\n",
    "x = open('47_caesarshiftcipher.txt','r')\n",
    "y=x.read()\n",
    "x.close()\n",
    "import string\n",
    "alpha = list(string.ascii_uppercase)\n",
    "for i in y.splitlines()[1:]:\n",
    "    out = ''\n",
    "    for j in range(len(i)):\n",
    "        if i[j] == ' ' :\n",
    "            out += ' '\n",
    "        elif i[j] in alpha:\n",
    "            out += (alpha[alpha.index(i[j])-24])\n",
    "        elif i[j] == '.':\n",
    "            out += '.'\n",
    "    print(out,end= ' ')"
   ]
  },
  {
   "cell_type": "code",
   "execution_count": 394,
   "metadata": {},
   "outputs": [
    {
     "name": "stdout",
     "output_type": "stream",
     "text": [
      "19186892.0 2262714.0 9736604.5 723882.5 4092494.0 17842041.0 5655621.0 919627.0 820086.0 19421338.5 1763386.0 1506477.5 4384284.0 79573.5"
     ]
    }
   ],
   "source": [
    "'''\n",
    "104 Triangle Area\n",
    "Heron's formula states that the area of a triangle whose sides have lengths a, b, and c is\n",
    "\n",
    "{\\displaystyle A={\\sqrt {s(s-a)(s-b)(s-c)}},}A = \\sqrt{s(s-a)(s-b)(s-c)},\n",
    "where s is the semi-perimeter of the triangle; that is,\n",
    "\n",
    "{\\displaystyle s={\\frac {a+b+c}{2}}.}s=\\frac{a+b+c}{2}.[2]\n",
    "\n",
    "A =  (1/2) [x1 (y2 – y3 ) + x2 (y3 – y1 ) + x3(y1 – y2)]\n",
    "'''\n",
    "x = open('104_trianglearea.txt','r')\n",
    "y=x.read()\n",
    "x.close()\n",
    "a = []\n",
    "for i in y.splitlines()[1:]:\n",
    "    x1 = float(i.strip().split()[0])\n",
    "    y1 = float(i.strip().split()[1])\n",
    "    x2 = float(i.strip().split()[2])\n",
    "    y2 = float(i.strip().split()[3])\n",
    "    x3 = float(i.strip().split()[4])\n",
    "    y3 = float(i.strip().split()[5])\n",
    "    a.append(str(round(abs((1/2)*((x1*(y2-y3))+(x2*(y3-y1))+(x3*(y1-y2)))),7)))\n",
    "print(' '.join(a), end= '')"
   ]
  },
  {
   "cell_type": "code",
   "execution_count": 66,
   "metadata": {},
   "outputs": [
    {
     "name": "stdout",
     "output_type": "stream",
     "text": [
      "2 1 2 1 1 1 2 1 2 2 2 1 2 1 1 2 2 2 2 1 2 1 1 1 "
     ]
    }
   ],
   "source": [
    "'''\n",
    "49 Rock Paper Scissors\n",
    "'''\n",
    "x = open('49_rockpaperscissors.txt','r')\n",
    "y=x.read()\n",
    "x.close()\n",
    "s = [k.strip().split()    for k in y.splitlines()[1:]]\n",
    "rnk = {'PR':'1','SP':'1','RS':'1','RP':'0','PS':'0','SR':'0'}\n",
    "\n",
    "for i in s:\n",
    "    icnt =[]\n",
    "    for j in range(len(i)):\n",
    "        if i[j] in rnk:\n",
    "            icnt.append(rnk.get(i[j]))\n",
    "    one =(icnt.count('1'))\n",
    "    two =(icnt.count('0'))\n",
    "        \n",
    "    print(1 if one > two else 2,end= ' ')"
   ]
  },
  {
   "cell_type": "code",
   "execution_count": 130,
   "metadata": {},
   "outputs": [
    {
     "name": "stdout",
     "output_type": "stream",
     "text": [
      "Ace-of-Hearts Jack-of-Hearts 4-of-Hearts 7-of-Hearts Queen-of-Spades 8-of-Spades King-of-Spades 6-of-Hearts Jack-of-Diamonds 3-of-Clubs 6-of-Spades 9-of-Spades 7-of-Spades 4-of-Spades 3-of-Diamonds 3-of-Spades 2-of-Spades 5-of-Clubs 10-of-Diamonds Jack-of-Clubs "
     ]
    }
   ],
   "source": [
    "'''\n",
    "58 Card Names\n",
    "'''\n",
    "x = open('58_cardnames.txt','r')\n",
    "y=x.read()\n",
    "x.close()\n",
    "s = [k.strip().split() for k in y.splitlines()[1:]]\n",
    "suits = {'0':'Clubs','1':'Spades','2':'Diamonds','3':'Hearts'}\n",
    "ranks = {'0':'2','1':'3','2':'4','3':'5','4':'6','5':'7','6':'8','7':'9','8':'10',\\\n",
    "         '9':'Jack','10':'Queen','11':'King','12':'Ace'}\n",
    "for i in s[0]:\n",
    "    card_value = int(i)\n",
    "    suit_value = card_value //13\n",
    "    rank_value = card_value % 13\n",
    "    new_suit = suits.get(str(suit_value))\n",
    "    new_rank = ranks.get(str(rank_value))\n",
    "    print(new_rank+'-of-'+new_suit,end= ' ')"
   ]
  },
  {
   "cell_type": "code",
   "execution_count": 178,
   "metadata": {},
   "outputs": [
    {
     "name": "stdout",
     "output_type": "stream",
     "text": [
      "bak bap bas bek bet bex buh bup byk byt dak daq das dek dik dof gak geh got jah jak jec jet jiq jof juf jut jyc jyh jyk jyx lok lut lux maf map mif mis mup myp mys neh nes nix nof nyf nyt nyx rac reh roc ros ruh rut ryh ryx vit vok zaf zak zas zax zif zit zok zuh\n"
     ]
    }
   ],
   "source": [
    "'''\n",
    "55 Matching Words\n",
    "'''\n",
    "x = open('55_matchingwords.txt','r')\n",
    "y=x.read()\n",
    "x.close()\n",
    "s = []\n",
    "for i in y.split():\n",
    "    if int((y.split().count(i))) >=2 :\n",
    "        s.append(i)\n",
    "print(' '.join(sorted(set((s)))))"
   ]
  },
  {
   "cell_type": "code",
   "execution_count": 60,
   "metadata": {},
   "outputs": [
    {
     "name": "stdout",
     "output_type": "stream",
     "text": [
      "1785613 2390207 1639151 2224753 2635883 2297863 1507763 1456943 2386247 1354013 "
     ]
    }
   ],
   "source": [
    "'''\n",
    "61 Prime Numbers Generation\n",
    "'''\n",
    "x = open('61_primenumbersgeneration.txt','r')\n",
    "y=x.readlines()\n",
    "x.close()\n",
    "import sympy\n",
    "l = list((sympy.primerange(0,20000000)))\n",
    "for i in range(len(y[1].split())):\n",
    "    idx = int((y[1].split()[i]))\n",
    "    print(l[idx-1], end= ' ')"
   ]
  },
  {
   "cell_type": "code",
   "execution_count": 177,
   "metadata": {},
   "outputs": [
    {
     "data": {
      "text/plain": [
       "'MYTH PNSN OBAM DALG WOWY VDKL BLEP ZEOD IMIX SUGR JEOP JOOG FANT'"
      ]
     },
     "execution_count": 177,
     "metadata": {},
     "output_type": "execute_result"
    }
   ],
   "source": [
    "'''\n",
    "39 Share Price Volatility\n",
    "\n",
    "dik = {}\n",
    "keys = codeout(s)\n",
    "values = rateout(s)\n",
    "for i in range(len(keys)):\n",
    "    dik[keys[i]]=values[i]\n",
    "print(dik)\n",
    "\n",
    "rateout(s)[0][i] if rateout(s)[1][i] > rateout(s)[2][i] else '1' for i in range(len(rateout(s)[0]))]#.remove('')\n",
    "'''\n",
    "\n",
    "x = open('39_sharepricevolatility.txt','r')\n",
    "y=x.read()\n",
    "x.close()\n",
    "\n",
    "import statistics as stat\n",
    "s = [k.strip() for k in y.splitlines()[1:]]\n",
    "def codeout(s):\n",
    "    sout = []\n",
    "    for p in range(len(s)):\n",
    "        out = (s[p].strip().split()[0:1])\n",
    "        for j in out:\n",
    "            sout.append(j)\n",
    "    return sout\n",
    "\n",
    "def rateout(s):\n",
    "    ky = codeout(s)\n",
    "    std = []\n",
    "    rateper = []\n",
    "    for i in range(len(s)):\n",
    "        lstlen = len((s[i].strip().split()[1:]))\n",
    "        lst = []\n",
    "        for j in range(lstlen):\n",
    "            lst.append(int((s[i].strip().split()[1:])[j]))\n",
    "        std.append((stat.stdev(lst)))\n",
    "        rateper.append((((stat.mean(lst))*0.01)*4))\n",
    "    return ky,std,rateper\n",
    "\n",
    "def maxi(t):\n",
    "    maxi = []\n",
    "    for i in range(len(t[0])):\n",
    "        if t[1][i] > t[2][i]:\n",
    "            maxi.append(t[0][i])\n",
    "    return maxi\n",
    "' '.join(maxi(rateout(s)))"
   ]
  },
  {
   "cell_type": "code",
   "execution_count": 367,
   "metadata": {},
   "outputs": [
    {
     "name": "stdout",
     "output_type": "stream",
     "text": [
      "13510656 272147868 339278856 446063954 168273764 59016298 488221855 7923390 20959460 72707460 144318345 122882976 73197915 80702370 239439555 156659160 406513998 215139817 244597925 "
     ]
    }
   ],
   "source": [
    "'''\n",
    "22 Two Printers\n",
    "https://www.mathswithmum.com/how-to-calculate-a-ratio/\n",
    "'''\n",
    "x = open('22_twoprinters.txt','r')\n",
    "y=x.read()\n",
    "x.close()\n",
    "s = [k.strip() for k in y.splitlines()[1:]]\n",
    "\n",
    "import math as math\n",
    "for i in range(len(s)):\n",
    "    cnt =0\n",
    "    x = int(s[i].strip().split()[0])\n",
    "    y = int(s[i].strip().split()[1])\n",
    "    n = int(s[i].strip().split()[2])\n",
    "    print(min((math.ceil((max((x,y)) / float(x+y)) * n) * min((x,y)),\\\n",
    "    math.ceil((min((x,y)) / float(x+y)) * n) * max((x,y)))),end= ' ')"
   ]
  },
  {
   "cell_type": "code",
   "execution_count": 467,
   "metadata": {},
   "outputs": [
    {
     "name": "stdout",
     "output_type": "stream",
     "text": [
      "0-1 0-1 1-1 0-1 0-3 0-2 0-1 0-1 0-1 0-2 "
     ]
    }
   ],
   "source": [
    "'''\n",
    "59 Bulls and Cows\n",
    "'''\n",
    "x = open('59_bullsandcows.txt','r')\n",
    "y=x.read()\n",
    "x.close()\n",
    "s = [k.strip() for k in y.splitlines()[:]]\n",
    "xx = s[0].split()[0]\n",
    "bcnt = []\n",
    "nbcnt = []\n",
    "dc = {}\n",
    "for i in range(len(s[1].split())):\n",
    "    cnt = 0\n",
    "    ncnt = 0\n",
    "    for j in range(len(s[1].split()[i])):\n",
    "        if s[1].split()[i][j].strip() in xx and j == xx.index(s[1].split()[i][j].strip()):\n",
    "            cnt += 1\n",
    "        elif s[1].split()[i][j].strip() in xx:\n",
    "            ncnt += 1\n",
    "    bcnt.append(cnt)\n",
    "    nbcnt.append(ncnt)\n",
    "            \n",
    "for i in range(len(bcnt)):\n",
    "    print(str(bcnt[i])+'-'+str(nbcnt[i]),end= ' ')"
   ]
  },
  {
   "cell_type": "code",
   "execution_count": 121,
   "metadata": {},
   "outputs": [
    {
     "name": "stdout",
     "output_type": "stream",
     "text": [
      "1434 295 1771 519 243 677 849 427 348 523 84 116 161 1391 "
     ]
    }
   ],
   "source": [
    "'''\n",
    "94 Fool's Day 2014\n",
    "'''\n",
    "x = open('94_foolsday2014.txt','r')\n",
    "y=x.read()\n",
    "x.close()\n",
    "s = [k.strip() for k in y.splitlines()[1:]]\n",
    "for i in range(len(s)):\n",
    "    intcnt = 0\n",
    "    for j in range(len(s[i].strip().split())):\n",
    "        l = (int(s[i].strip().split()[j]))**2\n",
    "        intcnt += l\n",
    "    print(intcnt,'',end= '')"
   ]
  },
  {
   "cell_type": "code",
   "execution_count": 80,
   "metadata": {
    "scrolled": true
   },
   "outputs": [
    {
     "name": "stdout",
     "output_type": "stream",
     "text": [
      "32164253550 84986896995 21243342120 11919192480 16871053725 84986896995 35641470150 "
     ]
    }
   ],
   "source": [
    "'''\n",
    "𝐶(𝑛,𝑟)=(𝑛𝑟)=𝑛!/(𝑟!(𝑛−𝑟)!\n",
    "\n",
    "128 Combinations Counting\n",
    "'''\n",
    "x = open('128_combinationscounting.txt','r')\n",
    "y=x.read()\n",
    "x.close()\n",
    "s = [k.strip() for k in y.splitlines()[1:]]\n",
    "import math as m\n",
    "temp = []\n",
    "for i in range(len(s)):\n",
    "    k = int(s[i].strip().split()[0])\n",
    "    n = int(s[i].strip().split()[1])\n",
    "    j = m.factorial(k)/(m.factorial(n)*m.factorial((k-n)))\n",
    "    temp.append(str(int(j)))\n",
    "for p in temp: print(p, end= ' ')"
   ]
  },
  {
   "cell_type": "code",
   "execution_count": 75,
   "metadata": {},
   "outputs": [
    {
     "name": "stdout",
     "output_type": "stream",
     "text": [
      "21 17 19 20 Bust 17 Bust 20 20 17 16 19 18 19 Bust 21 21 21 Bust 20 Bust 20 21 "
     ]
    }
   ],
   "source": [
    "'''\n",
    "42 Blackjack Counting\n",
    "'''\n",
    "x = open('42_blackjackcounting.txt','r')\n",
    "y=x.read()\n",
    "x.close()\n",
    "s = [k.strip() for k in y.splitlines()[1:]]\n",
    "dik = {'2':2,'3':3,'4':4,'5':5,'6':6,'7':7,\\\n",
    "       '8':8,'9':9,'T':10,'J':10,'Q':10,'K':10,'A':11}\n",
    "\n",
    "def result(t):\n",
    "    one = []\n",
    "    two = []\n",
    "    for j in t:\n",
    "        if j in ['2', '3', '4', '5', '6', '7', '8', '9']:\n",
    "            one.append(j)\n",
    "        else:\n",
    "            two.append(j)\n",
    "    one.extend(sorted(two,reverse=True))\n",
    "    return one\n",
    "\n",
    "d = []\n",
    "for i in range(len(s)):\n",
    "    t = s[i].split()\n",
    "    d.append(result(t))\n",
    "\n",
    "xx = []\n",
    "for a in d:\n",
    "    ascnt = a.count('A')\n",
    "    cnt = 0\n",
    "    xx.append(str(cnt))\n",
    "    if ascnt >=1:\n",
    "        for b in range(len(a)):\n",
    "            inrow = a[b]\n",
    "            if cnt <= 10:\n",
    "                if dik.get(inrow)==11:\n",
    "                    cnt += dik.get(inrow)\n",
    "                else:\n",
    "                    cnt += dik.get(inrow)\n",
    "            elif cnt <= 20:\n",
    "                if dik.get(inrow)==11:\n",
    "                    cnt += dik.get(inrow)-10\n",
    "                elif dik.get(inrow) != 11:\n",
    "                    cnt += dik.get(inrow)\n",
    "            elif (cnt+dik.get(inrow)) >=21:\n",
    "                    strout = 'Bust'\n",
    "                    cnt =0\n",
    "                    xx.append(strout)\n",
    "                    break \n",
    "    elif ascnt ==0:\n",
    "        for b in range(len(a)):\n",
    "            inrow = a[b]\n",
    "            if cnt <= 21:\n",
    "                if (dik.get(inrow)+cnt) <= 21:\n",
    "                    cnt += dik.get(inrow)\n",
    "                else:\n",
    "                    strout = 'Bust'\n",
    "                    cnt =0\n",
    "                    xx.append(strout)\n",
    "    xx.append(str(cnt))\n",
    "for i in range(xx.count('0')): xx.remove('0')\n",
    "for m in xx: print(m,end= ' ')"
   ]
  },
  {
   "cell_type": "code",
   "execution_count": 199,
   "metadata": {},
   "outputs": [
    {
     "name": "stdout",
     "output_type": "stream",
     "text": [
      "-8+7i -8-7i; 7 -1; 6 -3; 7 6; -1 -5; 10 -1; 7+4i 7-4i; 4 -8; -5+8i -5-8i; 5 -7; 3+9i 3-9i; 6 -2; -4 -8; 3 -6; "
     ]
    }
   ],
   "source": [
    "'''\n",
    "38 Quadratic Equation\n",
    "https://www.youtube.com/watch?v=k-TDe0OP2XY\n",
    "'''\n",
    "x = open('38_quadraticequation.txt','r')\n",
    "y=x.read()\n",
    "x.close()\n",
    "s = [k.strip() for k in y.splitlines()[1:]]\n",
    "import math as m, cmath as c\n",
    "temp =[]\n",
    "for j in s:\n",
    "    a = int(j.split()[0])\n",
    "    b = int(j.split()[1])\n",
    "    c = int(j.split()[2])\n",
    "    d = int(b**2 - (4*a*c))\n",
    "    if d > 0:\n",
    "        x1 = str(int((-b + m.sqrt(b**2 - (4*a*c)))/(2*a)))\n",
    "        x2 = str(int((-b - m.sqrt(b**2 - (4*a*c)))/(2*a)))\n",
    "        temp.append(x1+' '+x2)\n",
    "    elif d ==0:\n",
    "        x1 = str(round(int(-b + m.sqrt(b**2 - (4*a*c)))/(2*a)))\n",
    "        x2 = str(round(int(-b + m.sqrt(b**2 - (4*a*c)))/(2*a)))\n",
    "        temp.append(x1+' '+x2) \n",
    "    elif d < 0:\n",
    "        p = int(-b/(2*a))\n",
    "        q = d**0.5/(2*a)\n",
    "        e = p+q\n",
    "        x1=  ((str(m.floor(e.real))+'+'+str(m.floor(e.imag)))+'i')\n",
    "        x2 = ((str(m.floor(e.real))+'-'+str(m.floor(e.imag)))+'i')\n",
    "        temp.append(x1+' '+x2)\n",
    "\n",
    "for i in temp:print(i+';',end=' ')"
   ]
  },
  {
   "cell_type": "code",
   "execution_count": 87,
   "metadata": {},
   "outputs": [
    {
     "name": "stdout",
     "output_type": "stream",
     "text": [
      "bV FPRDOPrB9 ABd MM gZP7y7V L5DN SAan0  FcNDbCF1Uqt e LB.\n"
     ]
    }
   ],
   "source": [
    "'''\n",
    "33 Parity Control\n",
    "'''\n",
    "x = open('33_paritycontrol.txt','r')\n",
    "y=x.read()\n",
    "x.close()\n",
    "temp =''\n",
    "for i in y.split():\n",
    "    deci = int(i)\n",
    "    if bin(deci).count('1')%2 == 0:\n",
    "        if deci <=122:\n",
    "            temp+=chr(int(bin(deci),2))\n",
    "        elif deci > 122:\n",
    "            temp+=chr(deci ^ 0b10000000)\n",
    "        else:\n",
    "            temp+=''\n",
    "print(temp)"
   ]
  },
  {
   "cell_type": "code",
   "execution_count": 65,
   "metadata": {},
   "outputs": [
    {
     "name": "stdout",
     "output_type": "stream",
     "text": [
      "51.03419201041106 30.084320678724907 30.15782147704158 5.045897918171249 92.16958292236086 76.16020728601143 "
     ]
    }
   ],
   "source": [
    "'''\n",
    "34 Binary Searh\n",
    "'''\n",
    "x = open('34_binarysearch.txt','r')\n",
    "y=x.read()\n",
    "x.close()\n",
    "s = [k.strip() for k in y.splitlines()[1:]]\n",
    "import math\n",
    "def bsearch(a, b, c, d, mini, maxi):\n",
    "    x = (float(mini) + float(maxi)) / 2\n",
    "    ans = round((a * x + b * math.sqrt(x**3) - c * math.exp(-x / 50) - d), 7)\n",
    "\n",
    "    if ans > 0:\n",
    "        res = ( solve(a, b, c, d, mini, x))\n",
    "    elif ans < 0:\n",
    "        res =( solve(a, b, c, d, x, maxi))\n",
    "    else:\n",
    "        res = ( str(x))\n",
    "    return (res)\n",
    "\n",
    "for i in s:\n",
    "    A = float(i.split()[0])\n",
    "    B = float(i.split()[1])\n",
    "    C = float(i.split()[2])\n",
    "    D = float(i.split()[3])\n",
    "    out = bsearch(A,B,C,D,0,100)\n",
    "    print(out,end= ' ')"
   ]
  },
  {
   "cell_type": "code",
   "execution_count": 155,
   "metadata": {},
   "outputs": [
    {
     "data": {
      "text/plain": [
       "'N N N N N Y Y Y N Y Y N N N N N N N Y Y N Y Y Y N N N'"
      ]
     },
     "execution_count": 155,
     "metadata": {},
     "output_type": "execute_result"
    }
   ],
   "source": [
    "'''\n",
    "53 King and Queen\n",
    "'''\n",
    "x = open('53_kingandqueen.txt','r')\n",
    "y=x.read()\n",
    "x.close()\n",
    "s = [k.strip() for k in y.splitlines()[1:]]\n",
    "dik = {'a':1,'b':2,'c':3,'d':4,'e':5,'f':'6','g':7,'h':8}\n",
    "temp = ''\n",
    "for i in s:\n",
    "    k1  = i.split()[0][0]\n",
    "    q1  = i.split()[1][0]\n",
    "    k11 = int(i.split()[0][1])\n",
    "    q11 = int(i.split()[1][1])\n",
    "    if (k1 ==q1 or k11 == q11):\n",
    "        temp += 'Y'\n",
    "    elif  abs( k11 - q11) == abs(int(dik.get(k1)) - int(dik.get(q1))) :\n",
    "        temp += 'Y'\n",
    "    else:\n",
    "        temp += 'N'\n",
    "' '.join(temp)"
   ]
  },
  {
   "cell_type": "code",
   "execution_count": 20,
   "metadata": {},
   "outputs": [
    {
     "name": "stdout",
     "output_type": "stream",
     "text": [
      "36 104 87 94 104 8 108 23 61 68 38 41 22 58 21 103 70 86 2 77 19 30 92 84 91 18 53 2 45 80 52 28 84 20 80 56 58 15 69 67 65 27 0 51 77 0 40 48 55 62 31 32 61 63 50 23 9 35 28 56 54 61 46 58 16 46 24 23 13 52 14 23 11 36 37 1 11 43 36 16 43 30 0 28 27 13 34 8 18 13 22 13 2 13 27 8 20 5 11 8 23 0 14 4 5 11 10 0 12 2 11 2 7 2 6 6 0 1 0 2 1 2 0 "
     ]
    }
   ],
   "source": [
    "'''\n",
    "120 Selection Sort\n",
    "'''\n",
    "x = open('120_selectionsort.txt','r')\n",
    "y=x.read()\n",
    "x.close()\n",
    "s = [k.strip().split() for k in y.splitlines()[1:]]\n",
    "abc =  [int(i) for i in s[0]]\n",
    "subabc = []\n",
    "cnt = []\n",
    "ln = len(abc)\n",
    "for i in range(len(abc)+1):\n",
    "    if len(abc)==1:\n",
    "        break\n",
    "    maxi = max(abc)\n",
    "    if max(abc) >= abc[-1]:\n",
    "        cnt.append(str(abc.index(max(abc))))\n",
    "        temp = abc[-1]\n",
    "        abc[-1],abc[abc.index(max(abc))]= maxi,abc[-1]\n",
    "        subabc.append(abc.pop())\n",
    "\n",
    "for i in cnt:print(i,end= ' ')"
   ]
  },
  {
   "cell_type": "code",
   "execution_count": 181,
   "metadata": {},
   "outputs": [
    {
     "name": "stdout",
     "output_type": "stream",
     "text": [
      "DK C5 C8 HT SA H9 S5 CJ CA CT H5 SK D7 D5 HK CK D8 S2 H4 DJ S4 H7 ST H6 S6 C6 H8 CQ SJ SQ S7 S3 H3 HJ C7 DT HQ C9 D6 D4 DA H2 S9 D3 C4 HA C2 C3 DQ D9 S8 D2 "
     ]
    }
   ],
   "source": [
    "'''\n",
    "45 Cards Shuffling\n",
    "'''\n",
    "x = open('45_cardsshuffling.txt','r')\n",
    "y=x.read()\n",
    "x.close()\n",
    "s = [k.strip().split() for k in y.splitlines()[:]]\n",
    "rank = ['A','2','3','4','5','6','7','8','9','T','J','Q','K']\n",
    "suits = ['C','D','H','S']\n",
    "ranval = [(int(i)%52) for i in s[0]]\n",
    "cards = []\n",
    "for s in suits:\n",
    "    for r in rank:\n",
    "        cards.append(s+r)\n",
    "dik = {}\n",
    "keys = [ i for i in range(0,52)]\n",
    "for i in range(len(keys)): dik[keys[i]]=ranval[i]\n",
    "for i in range(0,52):\n",
    "    cards[dik.get(i)],cards[i]=cards[i],cards[dik.get(i)]\n",
    "\n",
    "for i in cards:print(i,end=' ')"
   ]
  },
  {
   "cell_type": "code",
   "execution_count": 103,
   "metadata": {},
   "outputs": [
    {
     "name": "stdout",
     "output_type": "stream",
     "text": [
      "43379\n"
     ]
    }
   ],
   "source": [
    "'''\n",
    "https://www.youtube.com/watch?v=6bLg_Ex0A-4&t=84s\n",
    "m = p*r(1+r)**n/ (1+r)**n -1\n",
    "37 Mortgage Calculator\n",
    "'''\n",
    "x = open('37_mortgagecalculator.txt','r')\n",
    "y=x.read()\n",
    "x.close()\n",
    "s = [k.strip().split() for k in y.splitlines()[:]]\n",
    "import math as m\n",
    "p = int(s[0][0])\n",
    "r =( (int(s[0][1]))/1200)\n",
    "n = int(s[0][2])\n",
    "m =m.ceil((p*r*(1+r)**n/((1+r)**n-1)))\n",
    "print(m)\n"
   ]
  },
  {
   "cell_type": "code",
   "execution_count": 429,
   "metadata": {},
   "outputs": [
    {
     "name": "stdout",
     "output_type": "stream",
     "text": [
      "6 9 9 9 8 9 7 7 9 6 8 7 8 9 6 9 "
     ]
    }
   ],
   "source": [
    "'''\n",
    "0 8 0 7 7 8 8 6 0 9 8 6 0 9 7\n",
    "46 Tic-Tac-Toe\n",
    "'''\n",
    "x = open('46_tictactoe.txt','r')\n",
    "y=x.read()\n",
    "x.close()\n",
    "s = [k.strip().split() for k in y.splitlines()[:]]\n",
    "stpone ='123,147,789,963,159,753,456,258'\n",
    "stptwo ='123,147,789,963,159,753,456,258'\n",
    "rst = []\n",
    "for i in s[1:]:\n",
    "    stpone ='123,147,789,963,159,753,456,258'\n",
    "    stptwo ='123,147,789,963,159,753,456,258'\n",
    "    flagx = '###'\n",
    "    flago = '&&&'\n",
    "    cnt = 0\n",
    "    for j in range(len(i)):\n",
    "        if j%2 == 0:\n",
    "            if flagx not in stpone:\n",
    "                stp1 = stpone.replace(str(i[j]),'#')\n",
    "                stpone,temp1 = stp1,temp1\n",
    "                cnt +=1\n",
    "                if cnt == 9 and flagx not in stpone:\n",
    "                    cnt *=0\n",
    "                elif flagx in stpone:\n",
    "                    break\n",
    "        elif j%2 == 1:\n",
    "            if flago not in stptwo:\n",
    "                stp2 = stptwo.replace(str(i[j]),'&')\n",
    "                stptwo,temp2 = stp2,temp2\n",
    "                cnt +=1\n",
    "                if cnt == 9 and flago not in stptwo:\n",
    "                    cnt *=0\n",
    "                elif flago in stptwo:\n",
    "                    break\n",
    "    rst.append(cnt)\n",
    "for i in rst:print(i,end=' ')\n"
   ]
  },
  {
   "cell_type": "code",
   "execution_count": 563,
   "metadata": {},
   "outputs": [
    {
     "name": "stdout",
     "output_type": "stream",
     "text": [
      "271*401*409*499 83*197*467*557*577 59*307*397*503*577 139*431*449*467*523 193*433*487*571 191*223*307*317*509 89*89*103*109*487 67*149*281*389*503 67*101*127*383*557 89*89*251*331*547 419*431*449*523 149*409*569*587 307*311*421*499 241*263*263*563*571 67*157*173*317*331 131*251*277*283*311 83*239*439*457*547 67*211*491*541*569 53*107*521*521*593 193*193*383*463*509 257*281*283*347*491 103*151*337*349*479 239*311*349*367*401 211*499*569*571 173*293*421*521*523 "
     ]
    }
   ],
   "source": [
    "'''\n",
    "63 Integer Factorization\n",
    "'''\n",
    "x = open('63_integerfactorization.txt','r')\n",
    "y=x.readlines()\n",
    "x.close()\n",
    "\n",
    "for i in y[1:]:\n",
    "    n = int(i.strip())\n",
    "    fact =''\n",
    "    i = 2\n",
    "    while i<=n:     \n",
    "        if n%i==0:      \n",
    "            fact +=str(i)+'*'\n",
    "            n//= i\n",
    "        else:\n",
    "            i+=1\n",
    "    print(fact[:-1],end= ' ')"
   ]
  },
  {
   "cell_type": "code",
   "execution_count": 18,
   "metadata": {},
   "outputs": [
    {
     "name": "stdout",
     "output_type": "stream",
     "text": [
      "2028 1500 4950 2370 54 1000 3990 7728 1246 4128 102 228 1914 2928 120 1890 3476 552 600 2100 220 2100 "
     ]
    }
   ],
   "source": [
    "'''\n",
    "69 Fibonacci Divisibility\n",
    "'''\n",
    "x = open('69_fibonaccidivisibility.txt','r')\n",
    "y=x.read()\n",
    "x.close()\n",
    "s = [k.strip().split() for k in y.splitlines()[1:]]\n",
    "for i in s[0]:\n",
    "    p = 0\n",
    "    temp = [0,1]\n",
    "    x =0\n",
    "    yes = True\n",
    "    while yes:\n",
    "        p = temp[x]+temp[x+1]\n",
    "        temp.append(p)\n",
    "        if p % int(i) ==0 :\n",
    "            print(temp.index(p),end=' ')\n",
    "            yes = False\n",
    "        else:\n",
    "            x+=1"
   ]
  },
  {
   "cell_type": "code",
   "execution_count": 572,
   "metadata": {},
   "outputs": [
    {
     "name": "stdout",
     "output_type": "stream",
     "text": [
      "845 162 80 88 461 572 610 570 365 243 409 563 815 51 289 259 420 85 27 "
     ]
    }
   ],
   "source": [
    "'''\n",
    "67 Fibonacci Sequence\n",
    "'''\n",
    "x = open('67_fibonaccisequence.txt','r')\n",
    "y=x.read()\n",
    "x.close()\n",
    "\n",
    "for i in y[3:].splitlines():\n",
    "    if i != '0':\n",
    "        flag = 0 \n",
    "        inc = 0\n",
    "        temp = 1\n",
    "        seq = 1\n",
    "        while flag >=0 :\n",
    "            b = temp\n",
    "            temp = inc + b\n",
    "            inc = b\n",
    "            seq +=1\n",
    "            if str(temp) == i:\n",
    "                print(seq,end=' ')\n",
    "                break\n",
    "            flag +=1\n",
    "    else:\n",
    "        seq = 0\n",
    "        print(seq,end=' ')"
   ]
  },
  {
   "cell_type": "code",
   "execution_count": 38,
   "metadata": {},
   "outputs": [
    {
     "name": "stdout",
     "output_type": "stream",
     "text": [
      "rez cinorud disuvex ruda ciz zecosak wutufar tirowop vecawi cahalepi jas wekoz jize zecuc falis jeriwu duxozesi cowehiz ninogute remu nonedi suxo duzol "
     ]
    }
   ],
   "source": [
    "'''\n",
    "Linear Congruential Generator formula:  Xnext = (A * Xcur + C) % M\n",
    "72 Funny Words Generator\n",
    "'''\n",
    "x = open('72_funnywordsgenerator.txt','r')\n",
    "y=x.read()\n",
    "x.close()\n",
    "s = [k.strip().split() for k in y.splitlines()[:]]\n",
    "numwords = int(s[0][0])\n",
    "seedval  = int(s[0][1])\n",
    "length   = [int(i) for i in s[1]]\n",
    "\n",
    "clist = ['b' ,'c' ,'d', 'f', 'g' ,'h' ,'j', 'k', 'l', 'm', 'n', 'p', 'r', 's', 't', 'v', 'w' ,'x' ,'z']\n",
    "vlist = ['a','e','i','o','u']\n",
    "\n",
    "\n",
    "for i in length:\n",
    "    flst = []\n",
    "    while i > 0:\n",
    "        xnext = (445*seedval +700001)%2097152\n",
    "        seedval = xnext\n",
    "        flst.append(seedval)\n",
    "        i -=1\n",
    "    slst = []\n",
    "    for j in range(0,len(flst)):\n",
    "            if j%2 ==0:\n",
    "                f = flst[j]%19\n",
    "                l = clist[f]\n",
    "                slst.append(l)\n",
    "            else:\n",
    "                v = flst[j]%5\n",
    "                l = vlist[v]\n",
    "                slst.append(l)\n",
    "    print (\"\".join(slst),end= ' ') \n"
   ]
  },
  {
   "cell_type": "code",
   "execution_count": 35,
   "metadata": {},
   "outputs": [
    {
     "name": "stdout",
     "output_type": "stream",
     "text": [
      "36 41 62 19 28 69 39 34 46 66 49 49 16 18 38 "
     ]
    }
   ],
   "source": [
    "'''\n",
    "171 Tree Height Measurement\n",
    "H = D * tan(A)\n",
    "'''\n",
    "x = open('171_treeheightmeasurement.txt','r')\n",
    "y=x.read()\n",
    "x.close()\n",
    "s = [k.strip().split() for k in y.splitlines()[1:]]\n",
    "import math as m\n",
    "for i in s:\n",
    "\n",
    "    d = int(i[0])\n",
    "    b = float(i[1])\n",
    "    a = b-90\n",
    "    radian = m.radians(a)\n",
    "    h= d * m.tan(radian)\n",
    "    print(round(h),end= ' ')"
   ]
  },
  {
   "cell_type": "code",
   "execution_count": null,
   "metadata": {},
   "outputs": [],
   "source": [
    "'''\n",
    "62 Prime Ranges\n",
    "'''\n",
    "x = open('62_primeranges.txt','r')\n",
    "y=x.read()\n",
    "x.close()\n",
    "s = [k.strip().split() for k in y.splitlines()[1:]]\n",
    "for i in s:\n",
    "    x = int(i[0])\n",
    "    y = int(i[1])\n",
    "\n",
    "    noprime = set(j for i in range(2,y) for j in range(i*2,y+1, i))\n",
    "    prime = [z for z in range(x,y+1) if z not in noprime]\n",
    "\n",
    "    print(len(prime),end= ' ' )"
   ]
  },
  {
   "cell_type": "code",
   "execution_count": 56,
   "metadata": {},
   "outputs": [
    {
     "name": "stdout",
     "output_type": "stream",
     "text": [
      "two-pairs two-pairs big-straight full-house pair three yacht pair small-straight yacht two-pairs pair big-straight small-straight small-straight big-straight small-straight small-straight pair two-pairs pair big-straight two-pairs yacht yacht big-straight pair three "
     ]
    }
   ],
   "source": [
    "'''\n",
    "75 Yacht or Dice Poker\n",
    "'''\n",
    "x = open('75_yachtordicepoker.txt','r')\n",
    "y=x.read()\n",
    "x.close()\n",
    "s = [k.strip().split() for k in y.splitlines()[1:]]\n",
    "\n",
    "for j in s:\n",
    "    sample_list = j\n",
    "    #rint(sample_list)\n",
    "    uni_val = set(sample_list)\n",
    "    #print(uni_val)\n",
    "    value_list = []\n",
    "    for i in uni_val:\n",
    "        value_list.append(j.count(i))\n",
    "    if value_list.count(2) == 1 and value_list.count(3) == 1 :\n",
    "        print (\"full-house\",end= ' ')\n",
    "    elif value_list.count(2) == 1 :\n",
    "            print (\"pair\",end= ' ')\n",
    "    elif value_list.count(3) == 1 :\n",
    "            print (\"three\",end= ' ')\n",
    "    if value_list.count(4) == 1 :\n",
    "        print (\"four\",end= ' ')\n",
    "    if value_list.count(5) == 1 :\n",
    "        print (\"yacht\",end= ' ')\n",
    "    if value_list.count(2) == 2 :\n",
    "        print (\"two-pairs\",end= ' ')\n",
    "    if len(uni_val) == 5 and \"6\" not in uni_val:\n",
    "        print(\"small-straight\",end= ' ')\n",
    "    if len(uni_val) == 5 and \"1\" not in uni_val:\n",
    "        print(\"big-straight\",end= ' ')"
   ]
  },
  {
   "cell_type": "code",
   "execution_count": 164,
   "metadata": {},
   "outputs": [
    {
     "name": "stdout",
     "output_type": "stream",
     "text": [
      "0 0 2 0 3 3 6 8 8 5 2 2 1 5 7 16 0 3 16 20 1 13 0 18 18 24 13 7 22 1 16 4 8 23 33 27 28 7 3 29 26 32 10 27 14 37 7 20 48 33 9 15 40 15 29 47 21 11 40 29 43 39 52 3 38 46 26 21 35 9 0 2 71 35 13 18 75 42 4 64 22 32 2 15 47 26 15 74 85 67 3 12 22 57 32 61 22 31 70 79 91 102 16 38 6 42 17 94 63 63 67 67 10 66 0 76 109 97 105 41 95 28 4 "
     ]
    }
   ],
   "source": [
    "'''\n",
    "121 Insertion Sort\n",
    "'''\n",
    "x = open('121_insertionsort.txt','r')\n",
    "y=x.read()\n",
    "x.close()\n",
    "s = [k.strip().split() for k in y.splitlines()[1:]]\n",
    "mylist = []\n",
    "for k in s[0]:\n",
    "    mylist.append(int(k))\n",
    "for i in range(1,len(mylist)):\n",
    "    count = 0\n",
    "    t = mylist[i]\n",
    "    for v in range(i,0,-1):\n",
    "        if t < mylist[v-1]:\n",
    "            mylist[v] = mylist[v-1]\n",
    "            mylist[v-1] = t\n",
    "            count += 1\n",
    "    print(count,end = ' ')"
   ]
  },
  {
   "cell_type": "code",
   "execution_count": 57,
   "metadata": {},
   "outputs": [
    {
     "name": "stdout",
     "output_type": "stream",
     "text": [
      "4 3 4 3 3 3 3 6 4 "
     ]
    }
   ],
   "source": [
    "'''\n",
    "Permutations nPr formula\n",
    "https://www.calculatorsoup.com/calculators/discretemathematics/permutations.php\n",
    "𝑃(𝑛,𝑟)=𝑛!(𝑛−𝑟)!=?\n",
    "\n",
    "127 Anagrams\n",
    "'''\n",
    "x = open('127_anagrams.txt','r')\n",
    "y=x.read()\n",
    "x.close()\n",
    "p = open('127_words.txt','r')\n",
    "q=p.read()\n",
    "p.close()\n",
    "lst = []\n",
    "for k in q.splitlines():lst.append(k)\n",
    "from itertools import permutations\n",
    "\n",
    "for i in y.strip().splitlines()[1:]:\n",
    "    prmlst = permutations(i)\n",
    "    cnt = 0\n",
    "    s = []\n",
    "    for i in list(prmlst):\n",
    "            t = ''.join(i)\n",
    "            if t in lst and t not in s:\n",
    "                s.append(t)\n",
    "                cnt +=1\n",
    "    print(cnt-1,end= ' ')        "
   ]
  },
  {
   "cell_type": "code",
   "execution_count": 85,
   "metadata": {},
   "outputs": [
    {
     "name": "stdout",
     "output_type": "stream",
     "text": [
      "0 0 1 1 2 2 3 3 4 4 5 5 6 6 7 7 8 8 9 9 10 10 11 11 12 12 13 13 14 14 15 15 16 16 17 17 18 18 19 17 20 16 21 15 22 14 23 13 24 12 25 11 26 10 27 9 28 8 29 7 30 6 31 5 32 4 33 3 32 2 31 1 30 0 29 1 28 2 27 3 26 4 25 5 24 6 23 7 22 8 21 9 20 10 19 11 18 12 17 13 16 14 15 15 14 16 13 17 12 18 11 17 10 16 9 15 8 14 7 13 6 12 5 11 4 10 3 9 2 8 1 7 0 6 1 5 2 4 3 3 4 2 5 1 6 0 7 1 8 2 9 3 10 4 11 5 12 6 13 7 14 8 15 9 16 10 17 11 18 12 19 13 20 14 21 15 22 16 23 17 24 18 25 17 26 16 27 15 28 14 29 13 30 12 31 11 32 10 33 9 32 8 "
     ]
    }
   ],
   "source": [
    "'''\n",
    "134 Flying Text Screensaver\n",
    "'''\n",
    "x = open('134_flyingtextscreensaver.txt','r')\n",
    "y=x.read()\n",
    "x.close()\n",
    "height = int(y.split()[0])\n",
    "width = int(y.split()[1])\n",
    "length = int(y.split()[2])\n",
    "bc =0\n",
    "a,b=0,0\n",
    "vertical = 1\n",
    "horizontal = 1\n",
    "c =0\n",
    "while bc <=100:\n",
    "    print(a,b,end= ' ')\n",
    "    a  += horizontal\n",
    "    b  += vertical \n",
    "    bc +=1\n",
    "    if b == width -1:\n",
    "        vertical = -1\n",
    "    elif b == 0:\n",
    "        vertical = 1\n",
    "    if a == height - length:\n",
    "        horizontal = -1\n",
    "    elif a == 0:\n",
    "        horizontal = 1\n",
    "        c +=1"
   ]
  },
  {
   "cell_type": "code",
   "execution_count": null,
   "metadata": {},
   "outputs": [],
   "source": [
    "'''\n",
    "114 Tricky Printing\n",
    "'''\n"
   ]
  },
  {
   "cell_type": "code",
   "execution_count": 72,
   "metadata": {},
   "outputs": [],
   "source": [
    "x = open('134_flyingtextscreensaver.txt','r')\n",
    "y=x.read()\n",
    "x.close()\n",
    "s = [k.strip().split() for k in y.splitlines()[1:]]"
   ]
  },
  {
   "cell_type": "code",
   "execution_count": null,
   "metadata": {},
   "outputs": [],
   "source": [
    "'''\n",
    "36 Code Guesser\n",
    "'''\n",
    "x = open('36_codeguesser.txt','r')\n",
    "y=x.read()\n",
    "x.close()\n",
    "m = []\n",
    "n = []\n",
    "\n",
    "for i in y.strip().splitlines()[1:]:\n",
    "    #print(i[4:5])\n",
    "    if i[4:5] =='0':\n",
    "        m.append(i[:3])\n",
    "    else:\n",
    "        n.append(i[:3])\n",
    "\n",
    "for a in range(len(n)):\n",
    "    cnt = ''\n",
    "    for b in range(len(n[a])):\n",
    "        #print(m[a][b],n[a][b])\n",
    "        if n[a][b] != m[a][b]:\n",
    "            cnt +=n[a][b]\n",
    "    print(cnt,end= ' ')"
   ]
  },
  {
   "cell_type": "code",
   "execution_count": 11,
   "metadata": {},
   "outputs": [
    {
     "name": "stdout",
     "output_type": "stream",
     "text": [
      "5.9464588 5.576336 14.5 2.2057714 4.07387 9.0613932 1.4404914 7.2188471 13.8567257 14.5962667 17.7942286 5.5 15.0603487 13.2237977 5.5 17.7942286 5.576336 5.9464588 5.5 2.2057714 4.6303938 7.3228131 16.0221755 16.6883034 4.4567228 7.7038994 19.0 10.0 15.0882886 6.8204844 13.6606298 18.2219091 "
     ]
    }
   ],
   "source": [
    "'''\n",
    "To convert from Polar Coordinates (r,θ) to Cartesian Coordinates (x,y) :\n",
    "x = r × cos( θ )\n",
    "y = r × sin( θ )\n",
    "\n",
    "To convert from Cartesian Coordinates (x,y) to Polar Coordinates (r,θ):\n",
    "r = √ ( x2 + y2 )\n",
    "θ = tan-1 ( y / x )\n",
    "\n",
    "1 radian = (180π)\n",
    "It is from this relationship that we say 2*π*r = 360 Degrees or that 1 Radian = 180/π Degrees and 1 Degree = π/180 Radian\n",
    "\n",
    "74 Clock Hands\n",
    "'''\n",
    "x = open('74_clockhands.txt','r')\n",
    "y=x.read()\n",
    "x.close()\n",
    "import math\n",
    "lenhour= 6\n",
    "lenminute= 9\n",
    "for  i in y.strip().split()[1:]:\n",
    "    hours =(int(i[:2]))\n",
    "    minutes = (int(i[3:]))\n",
    "    radhour= math.radians(30*hours-90+6*(minutes/12))\n",
    "    radminute= math.radians(6*minutes)\n",
    "    px = math.cos(-radhour) * lenhour\n",
    "    print(round(px+10,7),end= ' ')\n",
    "    py = math.sin(-radhour) * lenhour\n",
    "    print(round(py+10,7),end= ' ')\n",
    "    \n",
    "    hx = math.sin(radminute) * lenminute\n",
    "    print(round(hx+10,7),end= ' ')\n",
    "    hy = math.cos(radminute) * lenminute\n",
    "    print(round(hy+10,7),end= ' ')\n",
    "    "
   ]
  },
  {
   "cell_type": "code",
   "execution_count": 49,
   "metadata": {},
   "outputs": [
    {
     "name": "stdout",
     "output_type": "stream",
     "text": [
      "4.5825757 1.0 4.3588989 2.0 4.5825757 2.6457513 1.0 5.5677644 1.0 0.0 5.2915026 2.6457513 6.0 5.2915026 5.0 1.7320508 1.0 0.0 3.6055513 2.0 3.0 7.0 7.0 3.6055513 "
     ]
    }
   ],
   "source": [
    "'''\n",
    "73 Hexagonal Grid\n",
    "'''\n",
    "x = open('73_hexagonalgrid.txt','r')\n",
    "y=x.read()\n",
    "x.close()            \n",
    "for i in y.strip().splitlines()[1:]:\n",
    "    a,b =0,0\n",
    "    for j in range(len(i)):\n",
    "        if i[j]=='A':\n",
    "            a += 1\n",
    "            b += 0\n",
    "        if i[j]=='B':\n",
    "            a += 0.5\n",
    "            b += 0.75**.5\n",
    "        if i[j]=='C':\n",
    "            a -=0.5\n",
    "            b +=0.75**.5  \n",
    "        if i[j]=='D':\n",
    "            a -=1\n",
    "            b +=0\n",
    "        if i[j]=='E':\n",
    "            a -=0.5\n",
    "            b -=0.75**.5\n",
    "        if i[j]=='F':\n",
    "            a +=0.5\n",
    "            b -=0.75**.5\n",
    "    result = ((a )**2 +(b )**2)**.5\n",
    "    print(round(result,7),end= ' ')"
   ]
  },
  {
   "cell_type": "code",
   "execution_count": null,
   "metadata": {},
   "outputs": [],
   "source": [
    "x = open('36_codeguesser.txt','r')\n",
    "y=x.read()\n",
    "x.close()\n",
    "m = []\n",
    "n = []\n",
    "y = ['816','848','815'] \n",
    "for i in y:\n",
    "    #print(i[4:5])\n",
    "    if i[4:5] =='0':\n",
    "        m.append(i[:3])\n",
    "    else:\n",
    "        n.append(i[:3])\n",
    "\n",
    "\n",
    "for a in range(len(n)):\n",
    "    cnt= ''\n",
    "    for b in range(len(n[a])):\n",
    "        #print(m[a][b],n[a][b])\n",
    "        if n[a][b] != m[a][b]:\n",
    "            cnt +=(n[a][b])\n",
    "    print((''.join(cnt)),end= ' ')"
   ]
  },
  {
   "cell_type": "code",
   "execution_count": 40,
   "metadata": {},
   "outputs": [
    {
     "name": "stdout",
     "output_type": "stream",
     "text": [
      "96 63 46 93 64 89 66 33 55 26 72 78 29 45 40 23 75 73 54 28 45 76 48 81 90 94 79 61 82 67 "
     ]
    }
   ],
   "source": [
    "'''\n",
    "80 Duel Chances\n",
    "'''\n",
    "x = open('80_duelchances.txt','r')\n",
    "y=x.read()\n",
    "x.close()\n",
    "for i in y.strip().splitlines()[1:]:\n",
    "    a = int(i[:2])/100\n",
    "    b = int(i[3:])/100\n",
    "    pavin= a/((a+b)-(a*b))\n",
    "    print(round(pavin*100),end= ' ')"
   ]
  },
  {
   "cell_type": "code",
   "execution_count": 96,
   "metadata": {},
   "outputs": [
    {
     "data": {
      "text/plain": [
       "'\\n156 Luhn Algorithm\\n'"
      ]
     },
     "execution_count": 96,
     "metadata": {},
     "output_type": "execute_result"
    }
   ],
   "source": [
    "'''\n",
    "156 Luhn Algorithm\n",
    "'''\n",
    "x = open('156_luhnalgorithm.txt','r')\n",
    "y=x.read()\n",
    "x.close()\n",
    "def tot(i):\n",
    "    cnt = 0\n",
    "    sout =''\n",
    "    for j in reversed(range(len(i))):\n",
    "\n",
    "        if i[j] != '?':\n",
    "            if j%2 !=0:\n",
    "                cnt += int(i[j])\n",
    "            else:\n",
    "                if int(i[j]) <=4:\n",
    "                    cnt += int(i[j])*2\n",
    "                else:\n",
    "                    cnt += (int(i[j])*2)-9\n",
    "    return cnt\n",
    "\n",
    "def qstm(i):\n",
    "    cnt = tot(i)\n",
    "    joinn = ''\n",
    "    dik = {9:9,8:4,7:8,6:3,5:7,4:2,3:6,2:1,1:5}\n",
    "    for j in i:\n",
    "        joinn +=  j if j !='?' else str((dik.get(10 - cnt%10)))\n",
    "    return joinn\n",
    "\n",
    "def swapnum(i):\n",
    "    if ('?' not in i) and (tot(i)%10 !=0):\n",
    "        cnt = tot(i)\n",
    "        check = cnt%10\n",
    "        for k in reversed(range(len(i))):\n",
    "            m = (int(i[k])*2   + int(i[k-1]) if int(i[k])<=4 else (int(i[k])*2)-9) + int(i[k-1])\n",
    "            n = (int(i[k-1])*2 + int(i[k]) if int(i[k-1])<=4 else (int(i[k-1])*2)-9) + int(i[k])\n",
    "            if abs(m-n)==check:\n",
    "                val1,val2,idx1,idx2 = i[k],i[k-1],k,k-1\n",
    "        return (val1,val2,idx1,idx2)\n",
    "def swapout(i):\n",
    "    if ('?' not in i) and (tot(i)%10 !=0):\n",
    "        val1,val2,idx1,idx2 = swapnum(i)\n",
    "        col =''\n",
    "        for l in (range(len(i))):\n",
    "            if idx1==l:\n",
    "                col += val2\n",
    "            elif idx2 ==l:\n",
    "                col += val1\n",
    "            else:\n",
    "                col += i[l]\n",
    "        return (col)\n",
    "    else:\n",
    "        return i\n",
    "\n",
    "\n",
    "for i in y.strip().splitlines()[1:]:\n",
    "    #print(i)\n",
    "    if '?' in i:\n",
    "        print( qstm(i),end= ' ')\n",
    "    else:\n",
    "        print(swapout(i),end= ' ')\n",
    "        #print(swapnum(i))\n"
   ]
  },
  {
   "cell_type": "code",
   "execution_count": null,
   "metadata": {},
   "outputs": [],
   "source": [
    "'''\n",
    "172 Cloud Altitude Measurement\n",
    "'''\n",
    "x = open('172_cloudaltitudemeasurement.txt','r')\n",
    "y=x.read()\n",
    "x.close()\n",
    "s = [k.strip().split() for k in y.splitlines()[1:]]\n",
    "import math as m\n",
    "for i in s:\n",
    "    D1 = int(i[0])\n",
    "    A = m.radians(float(i[1]))\n",
    "    B = m.radians(float(i[2]))   \n",
    "    H  = str(abs(round( (m.tan(A)*D1)/( (m.tan(A)/m.tan(B)) -1) )))\n",
    "    \n",
    "    print(H,end= ' ')"
   ]
  },
  {
   "cell_type": "code",
   "execution_count": 43,
   "metadata": {},
   "outputs": [
    {
     "name": "stdout",
     "output_type": "stream",
     "text": [
      "60094216.0\n"
     ]
    }
   ],
   "source": [
    "'''\n",
    "http://www.mathwords.com/a/area_convex_polygon.htm\n",
    "105 Convex Polygon Area\n",
    "'''\n",
    "x = open('105_convexpolygonarea.txt','r')\n",
    "y=x.read()\n",
    "x.close()\n",
    "s = [k.strip().split() for k in y.splitlines()[1:]]\n",
    "one = 0\n",
    "two = 0\n",
    "lstx = []\n",
    "lsty = []\n",
    "\n",
    "for i in y.splitlines()[1:]:\n",
    "    lstx.append(int(i.split()[0]))\n",
    "    lsty.append(int(i.split()[1]))\n",
    "    \n",
    "for j in range(0,len(lstx),1):\n",
    "    if j+1 == len(lstx):\n",
    "        one += lstx[j]*lsty[0]\n",
    "        two += lsty[j]*lstx[0]\n",
    "    else:\n",
    "        one += lstx[j]*lsty[j+1]\n",
    "        two += lsty[j]*lstx[j+1]\n",
    "\n",
    "area = 0.5 * (one - two)\n",
    "print(area)"
   ]
  },
  {
   "cell_type": "code",
   "execution_count": 44,
   "metadata": {},
   "outputs": [
    {
     "name": "stdout",
     "output_type": "stream",
     "text": [
      "31 13 9 3 11 22 5 22 6 6 9 1 4 6 "
     ]
    }
   ],
   "source": [
    "'''\n",
    "97 Girls and Pigs\n",
    "'''\n",
    "x = open('97_girlsand pigs.txt','r')\n",
    "y=x.read()\n",
    "x.close()\n",
    "s = [k.strip().split() for k in y.splitlines()[1:]]\n",
    "for i in s:\n",
    "    l = int(i[0])\n",
    "    b = int(i[1])\n",
    "    temp = 1\n",
    "    d = b-l\n",
    "    for j in range(6,d+1,2):\n",
    "        a = (d/(j-4))\n",
    "        if a.is_integer() and 4* a < l:\n",
    "            temp +=1 \n",
    "    print(temp,end=  ' ')"
   ]
  },
  {
   "cell_type": "code",
   "execution_count": 18,
   "metadata": {},
   "outputs": [
    {
     "name": "stdout",
     "output_type": "stream",
     "text": [
      "59273446155625 88564455335161 49947026117041 65036240895025 52118826719569 51966292825225 74850130650409 84579014989225 "
     ]
    }
   ],
   "source": [
    "'''\n",
    "https://www.hitbullseye.com/Quant/Pythagorean-Triplets.php\n",
    "https://www.quora.com/How-do-I-generate-Pythagorean-triples-given-the-sum-of-the-triples\n",
    "https://www.geeksforgeeks.org/pythagorean-triplet-with-given-sum-using-single-loop/\n",
    "\n",
    "54 Pythagorean Triples\n",
    "'''\n",
    "x = open('54_pythagoreantriples.txt','r')\n",
    "y=x.read()\n",
    "x.close()\n",
    "s = [k.strip().split() for k in y.splitlines()[1:]]\n",
    "\n",
    "for i in y.splitlines()[1:]:\n",
    "    n= int(i)\n",
    "\n",
    "    for a in range(1, n, 1):\n",
    "            b = (n * n - 2 * n * a) // (2 * n - 2 * a)\n",
    "            c = n - a - b\n",
    "            if (a * a + b * b == c * c\n",
    "                and b > 0 and c > 0):\n",
    "                print(c**2,end= ' ')\n",
    "                break\n"
   ]
  },
  {
   "cell_type": "code",
   "execution_count": 51,
   "metadata": {},
   "outputs": [
    {
     "name": "stdout",
     "output_type": "stream",
     "text": [
      "614 2122\n"
     ]
    }
   ],
   "source": [
    "'''\n",
    "98 Azimuth at Treasure Island\n",
    "'''\n",
    "x = open('98_azimuthattreasureisland.txt','r')\n",
    "y=x.read()\n",
    "x.close()\n",
    "s = [k.strip().split() for k in y.splitlines()[1:-1]]\n",
    "\n",
    "import math \n",
    "distance = []\n",
    "azimuth = []\n",
    "x = 0\n",
    "y = 0\n",
    "for i in s:\n",
    "    distance.append(int(i[1]))\n",
    "    azimuth.append(math.radians(int(i[-1])) )\n",
    "\n",
    "for j in range(0,len(distance),1):\n",
    "    x += math.sin(azimuth[j])*distance[j]\n",
    "    y += math.cos(azimuth[j])*distance[j]\n",
    "    \n",
    "print(round(x),round(y))"
   ]
  },
  {
   "cell_type": "code",
   "execution_count": null,
   "metadata": {},
   "outputs": [],
   "source": [
    "'''\n",
    "92 Binary Heap\n",
    "'''\n",
    "y=x.read()\n",
    "x.close()\n",
    "s =[ k.strip().split() for k in y.splitlines()[1:]]\n",
    "\n",
    "inputs = s[0]\n",
    "\n",
    "mylist = []\n",
    "\n",
    "for i in inputs:\n",
    "    mylist.append(int(i))\n",
    "\n",
    "heap = []\n",
    "\n",
    "\n",
    "for i in mylist:\n",
    "    if i != 0:\n",
    "        heap.append(i)\n",
    "        element_pos = len(heap) - 1\n",
    "        while element_pos > 0:\n",
    "            if heap[element_pos] < heap[int((element_pos-1)/2)]:\n",
    "                temp = heap[element_pos]\n",
    "                heap[element_pos] = heap[int((element_pos-1)/2)]\n",
    "                heap[int((element_pos-1)/2)] = temp\n",
    "                element_pos = int((element_pos-1)/2)\n",
    "            else:\n",
    "                element_pos = 0\n",
    "    else:\n",
    "        heap[0] = heap[-1]\n",
    "        heap.pop()\n",
    "        element_pos = 0\n",
    "        while element_pos < (len(heap))/2 -1:\n",
    "            val = min(heap[2*element_pos+1],heap[2*element_pos+2])\n",
    "            if heap[element_pos] > heap[2*element_pos+1] and val == heap[2*element_pos+1] :\n",
    "                temp = heap[element_pos]\n",
    "                heap[element_pos] = heap[2*element_pos+1]\n",
    "                heap[2*element_pos+1] = temp\n",
    "                element_pos = 2*element_pos+1\n",
    "            elif heap[element_pos] > heap[2*element_pos+2] and val == heap[2*element_pos+2] :\n",
    "                temp = heap[element_pos]\n",
    "                heap[element_pos] = heap[2*element_pos+2]\n",
    "                heap[2*element_pos+2] = temp\n",
    "                element_pos = 2*element_pos+2\n",
    "            else: element_pos = (len(heap))/2\n",
    "\n",
    "for i in heap:\n",
    "    print(i,end=' ')"
   ]
  },
  {
   "cell_type": "code",
   "execution_count": 28,
   "metadata": {},
   "outputs": [],
   "source": [
    "'''\n",
    "143 Extended Euclidean Algorithm\n",
    "'''\n",
    "x = open('143_extendedeuclideanalgorithm.txt','r')\n",
    "y=x.read()\n",
    "x.close()\n",
    "s = [k.strip().split() for k in y.splitlines()[1:]]\n",
    "\n",
    "\n",
    "for i in range(len(s)):\n",
    "    Sprev = 1\n",
    "    Scur  = 0\n",
    "    Tprev = 0\n",
    "    Tcur  = 1\n",
    "    r = 1\n",
    "    x = int(s[i][0])\n",
    "    y = int(s[i][1])\n",
    "    sout = []\n",
    "    while r != 0 :\n",
    "        q,r = x // y, x % y\n",
    "        if r ==0:\n",
    "            break\n",
    "        else:\n",
    "            Snext = Sprev - q * Scur\n",
    "            Tnext = Tprev - q * Tcur\n",
    "            x,y =y,r\n",
    "            Sprev,Scur,Tprev,Tcur = Scur,Snext,Tcur,Tnext\n",
    "            xout =str(r)+' '+str(Scur)+' '+str(Tcur)\n",
    "            sout.append(xout)\n",
    "    print(sout[-1],end= '  ')"
   ]
  },
  {
   "cell_type": "code",
   "execution_count": 127,
   "metadata": {},
   "outputs": [
    {
     "name": "stdout",
     "output_type": "stream",
     "text": [
      "186587817 67213281 220596041 251490854 240402611 5556899 122074643 207143715 77647139 166986556 141223971 294040823 144117350 140092963 280419978 159560118 115666374 169304534 66568987 115677380 63330081 76008803 238184126 100888354 "
     ]
    }
   ],
   "source": [
    "'''\n",
    "145 Modular Exponentiation \n",
    "'''\n",
    "x = open('145_modularexponentiation.txt','r')\n",
    "y=x.read()\n",
    "x.close()\n",
    "s = [k.strip().split() for k in y.splitlines()[1:]]\n",
    "for i in range(len(s)):\n",
    "    a = int(s[i][0])\n",
    "    b = int(s[i][1])\n",
    "    m = int(s[i][2])\n",
    "    print(pow(a, b, m),end= ' ')"
   ]
  },
  {
   "cell_type": "code",
   "execution_count": null,
   "metadata": {},
   "outputs": [],
   "source": [
    "'''\n",
    "Line Segment Formula\n",
    "As we know, a line segment has two endpoints. Now if we know the coordinates of the endpoints, then we can calculate the length of the line segment by distance formula. \n",
    "D=sqrt((x2−x1)2+(y2−y1)2)\n",
    "\n",
    "https://en.wikipedia.org/wiki/Distance_from_a_point_to_a_line\n",
    "\n",
    "77 Point to Segment Distance\n",
    "'''"
   ]
  },
  {
   "cell_type": "code",
   "execution_count": 32,
   "metadata": {},
   "outputs": [
    {
     "name": "stdout",
     "output_type": "stream",
     "text": [
      "0-128 0-78 0-36 0-29 0-4 0-3 0-2 1-2 6-29 6-20 6-9 7-9 8-9 11-20 11-12 14-20 14-17 16-17 19-20 22-29 22-27 23-27 23-24 26-27 31-36 31-32 34-36 34-35 38-78 38-42 38-39 41-42 44-78 44-67 44-46 45-46 48-67 48-64 48-62 48-56 49-56 49-50 52-56 54-56 58-62 60-62 60-61 66-67 69-78 69-74 70-74 70-73 70-71 76-78 76-77 80-128 80-84 82-84 83-84 86-128 86-111 86-92 86-87 89-92 90-92 91-92 94-111 94-101 95-101 95-100 97-100 99-100 103-111 103-104 106-111 106-108 106-107 110-111 113-128 113-122 113-119 113-114 116-119 117-119 121-122 124-128 124-125 127-128 "
     ]
    }
   ],
   "source": [
    "'''\n",
    "122 Quick Sort\n",
    "'''\n",
    "x = open('122_quicksort.txt','r')\n",
    "y=x.read()\n",
    "x.close()\n",
    "s = [k.strip().split() for k in y.splitlines()[1:]]\n",
    "def quicksort(array, left, right):\n",
    "    print(str(left)+'-'+str(right), end= ' ')\n",
    "    pivot_pos = partition(array, left, right)\n",
    "    if pivot_pos - left > 1:\n",
    "        quicksort(array, left, pivot_pos - 1)\n",
    "    if right - pivot_pos > 1:\n",
    "        quicksort(array, pivot_pos + 1, right)\n",
    "\n",
    "\n",
    "def partition(array, left, right):\n",
    "    lt = left\n",
    "    rt = right\n",
    "    di = 'left'        \n",
    "    pivot = array[left]\n",
    "    temp = pivot\n",
    "    while lt < rt:\n",
    "        if di == 'left':\n",
    "            if array[rt] > pivot:\n",
    "                rt = rt - 1\n",
    "            else:\n",
    "                array[lt] = array[rt]\n",
    "                array[rt] = temp\n",
    "                lt = lt + 1\n",
    "                di =  'right'\n",
    "        else:\n",
    "            if array[lt] < pivot:\n",
    "                lt = lt + 1\n",
    "\n",
    "            else:\n",
    "                array[rt] = array[lt]\n",
    "                array[lt] = temp\n",
    "                rt = rt - 1\n",
    "                di = 'left'\n",
    "    return lt\n",
    "\n",
    "\n",
    "temp = []\n",
    "for i in s[0]:\n",
    "    temp.append(int(i))\n",
    "low = 0\n",
    "high = len(s[0])-1\n",
    "quicksort(temp,low,high)\n"
   ]
  },
  {
   "cell_type": "code",
   "execution_count": 6,
   "metadata": {},
   "outputs": [],
   "source": []
  },
  {
   "cell_type": "code",
   "execution_count": 2,
   "metadata": {},
   "outputs": [],
   "source": [
    "def multi(n):\n",
    "    x = str(n)\n",
    "    sout = 1\n",
    "    if len(x) > 1 and x[0] != '0':\n",
    "        for i in range(len(x)):\n",
    "            y= int(x[i])*sout\n",
    "            sout = y\n",
    "        return sout  \n",
    "def multiplex(num):\n",
    "    n=num\n",
    "    if len(str(n)) > 1:\n",
    "        pout = (multi(n))\n",
    "        lst = [n,pout]\n",
    "        ln = len(str(pout))\n",
    "        while  len(str(pout)) > 1:\n",
    "                pout = multi(pout)\n",
    "                lst.append(pout)\n",
    "        print(lst)    \n",
    "    else:\n",
    "        print(n)"
   ]
  },
  {
   "cell_type": "code",
   "execution_count": null,
   "metadata": {},
   "outputs": [],
   "source": [
    "distance_numpy"
   ]
  },
  {
   "cell_type": "code",
   "execution_count": 19,
   "metadata": {},
   "outputs": [
    {
     "data": {
      "text/plain": [
       "8.077939202"
      ]
     },
     "execution_count": 19,
     "metadata": {},
     "output_type": "execute_result"
    }
   ],
   "source": [
    "0.707106781 + 2.121320344 +5.249512077"
   ]
  },
  {
   "cell_type": "code",
   "execution_count": 112,
   "metadata": {},
   "outputs": [
    {
     "ename": "TypeError",
     "evalue": "'int' object is not subscriptable",
     "output_type": "error",
     "traceback": [
      "\u001b[0;31m---------------------------------------------------------------------------\u001b[0m",
      "\u001b[0;31mTypeError\u001b[0m                                 Traceback (most recent call last)",
      "\u001b[0;32m<ipython-input-112-f30fc447a77f>\u001b[0m in \u001b[0;36m<module>\u001b[0;34m\u001b[0m\n\u001b[1;32m     54\u001b[0m \u001b[0mmylist\u001b[0m \u001b[0;34m=\u001b[0m \u001b[0;34m[\u001b[0m\u001b[0;36m1\u001b[0m\u001b[0;34m,\u001b[0m \u001b[0;36m17\u001b[0m\u001b[0;34m,\u001b[0m \u001b[0;36m8\u001b[0m\u001b[0;34m,\u001b[0m \u001b[0;36m8\u001b[0m\u001b[0;34m,\u001b[0m \u001b[0;36m6\u001b[0m\u001b[0;34m,\u001b[0m \u001b[0;36m12\u001b[0m\u001b[0;34m]\u001b[0m\u001b[0;34m\u001b[0m\u001b[0;34m\u001b[0m\u001b[0m\n\u001b[1;32m     55\u001b[0m \u001b[0;32mfor\u001b[0m \u001b[0mi\u001b[0m \u001b[0;32min\u001b[0m \u001b[0mmylist\u001b[0m\u001b[0;34m:\u001b[0m\u001b[0;34m\u001b[0m\u001b[0;34m\u001b[0m\u001b[0m\n\u001b[0;32m---> 56\u001b[0;31m     \u001b[0msegmant_distance\u001b[0m\u001b[0;34m(\u001b[0m\u001b[0mi\u001b[0m\u001b[0;34m)\u001b[0m\u001b[0;34m\u001b[0m\u001b[0;34m\u001b[0m\u001b[0m\n\u001b[0m",
      "\u001b[0;32m<ipython-input-112-f30fc447a77f>\u001b[0m in \u001b[0;36msegmant_distance\u001b[0;34m(data)\u001b[0m\n\u001b[1;32m      3\u001b[0m \u001b[0;32mdef\u001b[0m \u001b[0msegmant_distance\u001b[0m\u001b[0;34m(\u001b[0m\u001b[0mdata\u001b[0m\u001b[0;34m)\u001b[0m\u001b[0;34m:\u001b[0m\u001b[0;34m\u001b[0m\u001b[0;34m\u001b[0m\u001b[0m\n\u001b[1;32m      4\u001b[0m \u001b[0;34m\u001b[0m\u001b[0m\n\u001b[0;32m----> 5\u001b[0;31m     \u001b[0;32mif\u001b[0m \u001b[0mdata\u001b[0m\u001b[0;34m[\u001b[0m\u001b[0;36m0\u001b[0m\u001b[0;34m]\u001b[0m \u001b[0;34m>\u001b[0m \u001b[0mdata\u001b[0m\u001b[0;34m[\u001b[0m\u001b[0;36m2\u001b[0m\u001b[0;34m]\u001b[0m\u001b[0;34m:\u001b[0m\u001b[0;34m\u001b[0m\u001b[0;34m\u001b[0m\u001b[0m\n\u001b[0m\u001b[1;32m      6\u001b[0m         \u001b[0mtempx\u001b[0m \u001b[0;34m=\u001b[0m \u001b[0mdata\u001b[0m\u001b[0;34m[\u001b[0m\u001b[0;36m0\u001b[0m\u001b[0;34m]\u001b[0m\u001b[0;34m\u001b[0m\u001b[0;34m\u001b[0m\u001b[0m\n\u001b[1;32m      7\u001b[0m         \u001b[0mdata\u001b[0m\u001b[0;34m[\u001b[0m\u001b[0;36m0\u001b[0m\u001b[0;34m]\u001b[0m \u001b[0;34m=\u001b[0m \u001b[0mdata\u001b[0m\u001b[0;34m[\u001b[0m\u001b[0;36m2\u001b[0m\u001b[0;34m]\u001b[0m\u001b[0;34m\u001b[0m\u001b[0;34m\u001b[0m\u001b[0m\n",
      "\u001b[0;31mTypeError\u001b[0m: 'int' object is not subscriptable"
     ]
    }
   ],
   "source": [
    "#point to segmant distance\n",
    "# y = mx + c     m = (y2-y1)/(x2-x1)\n",
    "def segmant_distance(data):\n",
    "\n",
    "    if data[0] > data[2]:\n",
    "        tempx = data[0]\n",
    "        data[0] = data[2]\n",
    "        data[2] = tempx\n",
    "        tempy = data[1]\n",
    "        data[1] = data[3]\n",
    "        data[3] = tempy\n",
    "\n",
    "\n",
    "    x1 = data[0]\n",
    "    y1 = data[1]\n",
    "    x2 = data[2]\n",
    "    y2 = data[3]\n",
    "    xp = data[4]\n",
    "    yp = data[5]\n",
    "\n",
    "    if y2 != y1 and x2 != x1:\n",
    "        ms = (y2-y1)/(x2-x1)    #slope of the line segmant and line cotaining line segmant\n",
    "        mp = (-1)/ms            #perpendicular lines have product of slope -1\n",
    "        cs = y2 - ms*x2\n",
    "        cp = yp - mp*xp\n",
    "\n",
    "\n",
    "\n",
    "        x = (cp - cs)/(ms - mp)\n",
    "        y = (ms*cp - mp*cs)/(ms-mp)\n",
    "        \n",
    "        print(x1,y1,x2,y2,ms,mp,cs,cp,x,y)\n",
    "\n",
    "    elif y1 == y2:\n",
    "        x = xp\n",
    "        y = y1\n",
    "    elif x1 == x2:\n",
    "        y = yp\n",
    "        x = x1\n",
    "\n",
    "\n",
    "\n",
    "\n",
    "\n",
    "    if x <= x2 and x >= x1:\n",
    "        d = ((xp - x)**2 + (yp - y)**2)**(1/2)\n",
    "        print(d)\n",
    "        print(\" \")\n",
    "    else:\n",
    "         d1 = (((x1 - xp)**2 + (y1 - yp)**2)**(1/2))\n",
    "         d2 = (((x2 - xp)**2 + (y2 - yp)**2)**(1/2))\n",
    "         #print(min(d1,d2))\n",
    "         #print(\" \")\n",
    "mylist = [1, 17, 8, 8, 6, 12]\n",
    "for i in mylist:\n",
    "    segmant_distance(i)"
   ]
  },
  {
   "cell_type": "code",
   "execution_count": null,
   "metadata": {},
   "outputs": [],
   "source": [
    "1 1 5 5 2 3 2 3 1.0 -1.0"
   ]
  },
  {
   "cell_type": "code",
   "execution_count": 43,
   "metadata": {},
   "outputs": [],
   "source": [
    "x = open('77_pointtosegmentdistance.txt','r')\n",
    "y=x.read()\n",
    "x.close()\n",
    "s = [k.strip().split() for k in y.splitlines()[1:]]\n",
    "import math as m\n",
    "for i in range(len(s)):\n",
    "    x1 = int(s[i][0])\n",
    "    y1 = int(s[i][1])\n",
    "    x2 = int(s[i][2])\n",
    "    y2 = int(s[i][3])\n",
    "    x0 = int(s[i][4])\n",
    "    y0 = int(s[i][5])\n",
    "    #print(a,b,p)\n",
    "    ups = abs( ((x2-x1)*(y1-y0)) - ((x1-x0)*(y2-y1)))\n",
    "    dnm = m.sqrt((x2-x1)**2 + (y2-y1)**2)\n",
    "    result = ups/dnm\n",
    "    "
   ]
  },
  {
   "cell_type": "code",
   "execution_count": 44,
   "metadata": {},
   "outputs": [
    {
     "data": {
      "text/plain": [
       "2.1213203435596424"
      ]
     },
     "execution_count": 44,
     "metadata": {},
     "output_type": "execute_result"
    }
   ],
   "source": [
    "result"
   ]
  },
  {
   "cell_type": "code",
   "execution_count": 111,
   "metadata": {},
   "outputs": [
    {
     "name": "stdout",
     "output_type": "stream",
     "text": [
      "4.47213595499958 6.4031242374328485 17.26267650163207 "
     ]
    }
   ],
   "source": [
    "x = open('77_pointtosegmentdistance.txt','r')\n",
    "y=x.read()\n",
    "x.close()\n",
    "s = [k.strip().split() for k in y.splitlines()[1:]]\n",
    "import math as m\n",
    "for i in range(len(s)):\n",
    "    if int(s[i][0]) > int(s[i][2]):\n",
    "        tempx = int(s[i][0])\n",
    "        s[i][0] = int(s[i][2])\n",
    "        s[i][2] = tempx\n",
    "        tempy = int(s[i][1])\n",
    "        s[i][1] = int(s[i][3])\n",
    "    \n",
    "    x1 = int(s[i][0])\n",
    "    y1 = int(s[i][1])\n",
    "    x2 = int(s[i][2])\n",
    "    y2 = int(s[i][3])\n",
    "    xp = int(s[i][4])\n",
    "    yp = int(s[i][5])\n",
    "    \n",
    "    if y2 != y1 and x2 != x1:\n",
    "        \n",
    "        ms = (y2 - y1) / (x2 -x1)\n",
    "        mp = -1/ms\n",
    "\n",
    "        cs  = (ms *x1 - y1)/ms\n",
    "        cp  = (mp*xp - yp)/mp\n",
    "\n",
    "        x = (cp - cs)/(ms - mp)\n",
    "        y = (ms*cp - mp*cs)/(ms-mp)\n",
    "        \n",
    "    elif y1 == y2:\n",
    "        x = xp\n",
    "        y = y1\n",
    "    elif x1 == x2:\n",
    "        y = yp\n",
    "        x = x1\n",
    "\n",
    "                             \n",
    "    if x <= x2 and x >= x1:\n",
    "                             \n",
    "        d1 = m.sqrt((xp -  x)**2 + (yp-y)**2)\n",
    "        print(d1,end= ' ')\n",
    "    else:\n",
    "        d2 = m.sqrt((x1 - xp)**2 + (y1 - yp)**2)\n",
    "        d3 = m.sqrt((x2 - xp)**2 + (y2 - yp)**2)\n",
    "        sdistance = min(d2,d3)\n",
    "        print(sdistance,end= ' ')\n",
    "    \n",
    "    \n",
    "    "
   ]
  },
  {
   "cell_type": "code",
   "execution_count": null,
   "metadata": {},
   "outputs": [],
   "source": [
    "0.87705801930703 5 14.142135623731 10.767785542044 16.081523081331 \n",
    "3.4340140987172 14.035668847618 7.0710678118655 10 6.7859546364435 15 1 13.500873486766 5.6687235097073 6.0827625302982 1.4142135623731 1.4775548439336 7.0710678118655 14.120361729949 2.8284271247462 6.0827625302982 \n"
   ]
  },
  {
   "cell_type": "code",
   "execution_count": 96,
   "metadata": {},
   "outputs": [
    {
     "ename": "SyntaxError",
     "evalue": "invalid syntax (<ipython-input-96-5a0db526cec2>, line 1)",
     "output_type": "error",
     "traceback": [
      "\u001b[0;36m  File \u001b[0;32m\"<ipython-input-96-5a0db526cec2>\"\u001b[0;36m, line \u001b[0;32m1\u001b[0m\n\u001b[0;31m    0.87705801930703 5 16.081523081331\u001b[0m\n\u001b[0m                     ^\u001b[0m\n\u001b[0;31mSyntaxError\u001b[0m\u001b[0;31m:\u001b[0m invalid syntax\n"
     ]
    }
   ],
   "source": [
    "0.87705801930703 5 16.081523081331\n",
    "4.47213595499958 5 17.26267650163\n",
    "\n",
    "\n",
    "\n",
    "23\n",
    "1 17 8 8 6 12\n",
    "10 9 8 13 15 9\n",
    "17 2 20 17 3 14"
   ]
  },
  {
   "cell_type": "code",
   "execution_count": 194,
   "metadata": {},
   "outputs": [
    {
     "name": "stdout",
     "output_type": "stream",
     "text": [
      "9.336801490283786 8.24621125123532111.39917437670765 5.00.2913857587071791 7.488452649040594 3.1189143077590264 4.4721359549995811.1803398874989495.059644256269404 5.49751104930461 2.236067977499797.250387809856532 4.1231056256176618.2462112512353211.4142135623730951 2.23606797749979"
     ]
    }
   ],
   "source": [
    "#point to segmant distance\n",
    "# y = mx + c     m = (y2-y1)/(x2-x1)\n",
    "def segmant_distance(data):\n",
    "\n",
    "    if data[0] > data[2]:\n",
    "        tempx = data[0]\n",
    "        data[0] = data[2]\n",
    "        data[2] = tempx\n",
    "        tempy = data[1]\n",
    "        data[1] = data[3]\n",
    "        data[3] = tempy\n",
    "\n",
    "\n",
    "    x1 = data[0]\n",
    "    y1 = data[1]\n",
    "    x2 = data[2]\n",
    "    y2 = data[3]\n",
    "    xp = data[4]\n",
    "    yp = data[5]\n",
    "    \n",
    "    if y2 != y1 and x2 != x1:\n",
    "        ms = (y2-y1)/(x2-x1)    #slope of the line segmant and line cotaining line segmant\n",
    "        mp = (-1)/ms            #perpendicular lines have product of slope -1\n",
    "        cs = y2 - ms*x2\n",
    "        cp = yp - mp*xp\n",
    "\n",
    "\n",
    "        x = (cp - cs)/(ms - mp)\n",
    "        y = (ms*cp - mp*cs)/(ms-mp)\n",
    "\n",
    "    elif y1 == y2:\n",
    "        x = xp\n",
    "        y = y1\n",
    "    elif x1 == x2:\n",
    "        y = yp\n",
    "        x = x1\n",
    "\n",
    "\n",
    "\n",
    "\n",
    "\n",
    "    if x <= x2 and x >= x1:\n",
    "        d = ((xp - x)**2 + (yp - y)**2)**(1/2)\n",
    "        print(d,end=' ')\n",
    "    else:\n",
    "         d1 = (((x1 - xp)**2 + (y1 - yp)**2)**(1/2))\n",
    "         d2 = (((x2 - xp)**2 + (y2 - yp)**2)**(1/2))\n",
    "         print(min(d1,d2),end='')\n",
    "\n",
    "    #print(x1,y1,x2,y2,xp,yp,'+',x,y,cs,cp)\n",
    "\n",
    "mylist = [[15, 13, 2, 2, 20, 5],\n",
    " [8, 18, 7, 13, 16, 20],\n",
    " [18, 9, 6, 6, 11, 19],\n",
    " [15, 11, 14, 13, 17, 17],\n",
    " [0, 9, 18, 19, 15, 17],\n",
    " [8, 13, 16, 1, 5, 4],\n",
    " [7, 0, 6, 16, 3, 14],\n",
    " [2, 8, 13, 5, 15, 1],\n",
    " [20, 0, 15, 9, 4, 11],\n",
    " [8, 20, 2, 18, 6, 14],\n",
    " [20, 11, 5, 4, 18, 4],\n",
    " [19, 0, 4, 4, 2, 5],\n",
    " [0, 1, 17, 11, 1, 10],\n",
    " [1, 20, 19, 5, 20, 1],\n",
    " [15, 12, 12, 3, 17, 20],\n",
    " [19, 1, 2, 18, 5, 17],\n",
    " [9, 12, 4, 13, 3, 11]]\n",
    "\n",
    "for i in mylist:\n",
    "    segmant_distance(i)\n",
    "\n"
   ]
  },
  {
   "cell_type": "code",
   "execution_count": 122,
   "metadata": {},
   "outputs": [
    {
     "name": "stdout",
     "output_type": "stream",
     "text": [
      "1 17 8 8 6 12 + 5.3076923076923075 11.461538461538463 18.285714285714285 7.333333333333334\n"
     ]
    },
    {
     "ename": "IndexError",
     "evalue": "list index out of range",
     "output_type": "error",
     "traceback": [
      "\u001b[0;31m---------------------------------------------------------------------------\u001b[0m",
      "\u001b[0;31mIndexError\u001b[0m                                Traceback (most recent call last)",
      "\u001b[0;32m<ipython-input-122-f52ee6c33b0f>\u001b[0m in \u001b[0;36m<module>\u001b[0;34m\u001b[0m\n\u001b[1;32m      5\u001b[0m \u001b[0;32mimport\u001b[0m \u001b[0mmath\u001b[0m \u001b[0;32mas\u001b[0m \u001b[0mm\u001b[0m\u001b[0;34m\u001b[0m\u001b[0;34m\u001b[0m\u001b[0m\n\u001b[1;32m      6\u001b[0m \u001b[0;32mfor\u001b[0m \u001b[0mi\u001b[0m \u001b[0;32min\u001b[0m \u001b[0mrange\u001b[0m\u001b[0;34m(\u001b[0m\u001b[0mlen\u001b[0m\u001b[0;34m(\u001b[0m\u001b[0ms\u001b[0m\u001b[0;34m)\u001b[0m\u001b[0;34m)\u001b[0m\u001b[0;34m:\u001b[0m\u001b[0;34m\u001b[0m\u001b[0;34m\u001b[0m\u001b[0m\n\u001b[0;32m----> 7\u001b[0;31m     \u001b[0;32mif\u001b[0m \u001b[0mint\u001b[0m\u001b[0;34m(\u001b[0m\u001b[0ms\u001b[0m\u001b[0;34m[\u001b[0m\u001b[0mi\u001b[0m\u001b[0;34m]\u001b[0m\u001b[0;34m[\u001b[0m\u001b[0;36m0\u001b[0m\u001b[0;34m]\u001b[0m\u001b[0;34m)\u001b[0m \u001b[0;34m>\u001b[0m \u001b[0mint\u001b[0m\u001b[0;34m(\u001b[0m\u001b[0ms\u001b[0m\u001b[0;34m[\u001b[0m\u001b[0mi\u001b[0m\u001b[0;34m]\u001b[0m\u001b[0;34m[\u001b[0m\u001b[0;36m2\u001b[0m\u001b[0;34m]\u001b[0m\u001b[0;34m)\u001b[0m\u001b[0;34m:\u001b[0m\u001b[0;34m\u001b[0m\u001b[0;34m\u001b[0m\u001b[0m\n\u001b[0m\u001b[1;32m      8\u001b[0m         \u001b[0mtempx\u001b[0m \u001b[0;34m=\u001b[0m \u001b[0mint\u001b[0m\u001b[0;34m(\u001b[0m\u001b[0ms\u001b[0m\u001b[0;34m[\u001b[0m\u001b[0mi\u001b[0m\u001b[0;34m]\u001b[0m\u001b[0;34m[\u001b[0m\u001b[0;36m0\u001b[0m\u001b[0;34m]\u001b[0m\u001b[0;34m)\u001b[0m\u001b[0;34m\u001b[0m\u001b[0;34m\u001b[0m\u001b[0m\n\u001b[1;32m      9\u001b[0m         \u001b[0ms\u001b[0m\u001b[0;34m[\u001b[0m\u001b[0mi\u001b[0m\u001b[0;34m]\u001b[0m\u001b[0;34m[\u001b[0m\u001b[0;36m0\u001b[0m\u001b[0;34m]\u001b[0m \u001b[0;34m=\u001b[0m \u001b[0mint\u001b[0m\u001b[0;34m(\u001b[0m\u001b[0ms\u001b[0m\u001b[0;34m[\u001b[0m\u001b[0mi\u001b[0m\u001b[0;34m]\u001b[0m\u001b[0;34m[\u001b[0m\u001b[0;36m2\u001b[0m\u001b[0;34m]\u001b[0m\u001b[0;34m)\u001b[0m\u001b[0;34m\u001b[0m\u001b[0;34m\u001b[0m\u001b[0m\n",
      "\u001b[0;31mIndexError\u001b[0m: list index out of range"
     ]
    }
   ],
   "source": [
    "x = open('77_pointtosegmentdistance.txt','r')\n",
    "y=x.read()\n",
    "x.close()\n",
    "s = [k.strip().split() for k in y.splitlines()[1:]]\n",
    "import math as m\n",
    "for i in range(len(s)):\n",
    "    if int(s[i][0]) > int(s[i][2]):\n",
    "        tempx = int(s[i][0])\n",
    "        s[i][0] = int(s[i][2])\n",
    "        s[i][2] = tempx\n",
    "        tempy = int(s[i][1])\n",
    "        s[i][1] = int(s[i][3])\n",
    "    \n",
    "    x1 = int(s[i][0])\n",
    "    y1 = int(s[i][1])\n",
    "    x2 = int(s[i][2])\n",
    "    y2 = int(s[i][3])\n",
    "    xp = int(s[i][4])\n",
    "    yp = int(s[i][5])\n",
    "    \n",
    "    if y2 != y1 and x2 != x1:\n",
    "        \n",
    "        ms = (y2 - y1) / (x2 -x1)\n",
    "        mp = -1/ms\n",
    "\n",
    "        #cs  = (ms *x1 - y1)/ms\n",
    "        #cp  = (mp*xp - yp)/mp\n",
    "        cs = y2 - ms*x2\n",
    "        cp = yp - mp*xp\n",
    "\n",
    "        x = (cp - cs)/(ms - mp)\n",
    "        y = (ms*cp - mp*cs)/(ms-mp)\n",
    "        \n",
    "    elif y1 == y2:\n",
    "        x = xp\n",
    "        y = y1\n",
    "    elif x1 == x2:\n",
    "        y = yp\n",
    "        x = x1\n",
    "\n",
    "                             \n",
    "    if x <= x2 and x >= x1:\n",
    "                             \n",
    "        d1 = m.sqrt((xp -  x)**2 + (yp-y)**2)\n",
    "        #print(d1,end= ' ')\n",
    "    else:\n",
    "        d2 = m.sqrt((x1 - xp)**2 + (y1 - yp)**2)\n",
    "        d3 = m.sqrt((x2 - xp)**2 + (y2 - yp)**2)\n",
    "        sdistance = min(d2,d3)\n",
    "        #print(sdistance,end= ' ')\n",
    "    print(x1,y1,x2,y2,xp,yp,'+',x,y,cs,cp)"
   ]
  },
  {
   "cell_type": "code",
   "execution_count": null,
   "metadata": {},
   "outputs": [],
   "source": [
    "1 17 8 8 6 12 + 11.461538461538463 -0.5140415140415181 14.22222222222222 -9.42857142857143\n",
    "1 17 8 8 6 12 + 5.3076923076923075 11.461538461538463 18.285714285714285 7.333333333333334\n",
    "1 17 8 8 6 12 + 5.3076923076923075 11.461538461538463 18.285714285714285 7.333333333333334\n",
    "1 17 8 8 6 12 + 5.3076923076923075 11.461538461538463 18.285714285714285 7.333333333333334\n"
   ]
  },
  {
   "cell_type": "code",
   "execution_count": 200,
   "metadata": {},
   "outputs": [
    {
     "name": "stdout",
     "output_type": "stream",
     "text": [
      "5.830951894845301 10.63014581273465 13.0 4.47213595499958 0.2913857587071791 7.488452649040594 3.605551275463989 4.47213595499958 11.180339887498949 4.0 0.0 2.23606797749979 7.250387809856532 4.123105625617661 17.11724276862369 1.0 2.23606797749979 "
     ]
    }
   ],
   "source": [
    "x = open('77_pointtosegmentdistance.txt','r')\n",
    "y=x.read()\n",
    "x.close()\n",
    "s = [k.strip().split() for k in y.splitlines()[1:]]\n",
    "import math as m\n",
    "for i in range(len(s)):\n",
    "    if int(s[i][0]) > int(s[i][2]):\n",
    "        tempx = int(s[i][0])\n",
    "        s[i][0] = int(s[i][2])\n",
    "        s[i][2] = tempx\n",
    "        tempy = int(s[i][1])\n",
    "        s[i][1] = int(s[i][3])\n",
    "    \n",
    "    x1 = int(s[i][0])\n",
    "    y1 = int(s[i][1])\n",
    "    x2 = int(s[i][2])\n",
    "    y2 = int(s[i][3])\n",
    "    xp = int(s[i][4])\n",
    "    yp = int(s[i][5])\n",
    "    \n",
    "    if y2 != y1 and x2 != x1:\n",
    "        \n",
    "        ms = (y2 - y1) / (x2 -x1)\n",
    "        mp = -1/ms\n",
    "        cs = y2 - ms*x2\n",
    "        cp = yp - mp*xp\n",
    "\n",
    "        x = (cp - cs)/(ms - mp)\n",
    "        y = (ms*cp - mp*cs)/(ms-mp)\n",
    "        \n",
    "    elif y1 == y2:\n",
    "        x = xp\n",
    "        y = y1\n",
    "    elif x1 == x2:\n",
    "        y = yp\n",
    "        x = x1      \n",
    " \n",
    "                             \n",
    "    if x <= x2 and x >= x1:\n",
    "                             \n",
    "        d1 = m.sqrt((xp -  x)**2 + (yp-y)**2)\n",
    "        print(d1,end= ' ')\n",
    "    else:\n",
    "        d2 = m.sqrt((x1 - xp)**2 + (y1 - yp)**2)\n",
    "        d3 = m.sqrt((x2 - xp)**2 + (y2 - yp)**2)\n",
    "        sdistance = min(d2,d3)\n",
    "        print(sdistance,end= ' ')\n",
    "   # print(x1,y1,x2,y2,xp,yp,'+',x,y,cs,cp)"
   ]
  },
  {
   "cell_type": "code",
   "execution_count": 132,
   "metadata": {},
   "outputs": [],
   "source": [
    "9.336801490283786 8.24621125123532111.39917437670765 5.00.2913857587071791 7.488452649040594 3.1189143077590264 4.4721359549995811.1803398874989495.059644256269404 5.49751104930461 2.236067977499797.250387809856532 4.1231056256176618.2462112512353211.4142135623730951 2.23606797749979\n"
   ]
  },
  {
   "cell_type": "code",
   "execution_count": 185,
   "metadata": {},
   "outputs": [],
   "source": [
    "x = open('77_pointtosegmentdistance.txt','r')\n",
    "y=x.read()\n",
    "x.close()\n",
    "s = [k.strip().split() for k in y.splitlines()[1:]]\n",
    "z = []\n",
    "for j in range(len(s)):\n",
    "    z.append( [ int(i) for i in s[j]])\n",
    "#s = [ int(i) for i in [k.strip().split()] for k in y.splitlines()[1:]]"
   ]
  },
  {
   "cell_type": "code",
   "execution_count": 30,
   "metadata": {},
   "outputs": [
    {
     "name": "stdout",
     "output_type": "stream",
     "text": [
      "13.548388226258195 7.273238618387272 14.138312908260728 14.2126704035518957.323601240860613 13.6014705087354444.472135954999586.495401750657076 10.370987274564573 5.09901951359278453.0 10.73312629199899 5.09901951359278452.8284271247461903 10.0 8.6023252670426274.1231056256176614.242640687119284 6.0"
     ]
    }
   ],
   "source": [
    "#point to segmant distance\n",
    "# y = mx + c     m = (y2-y1)/(x2-x1)\n",
    "def segmant_distance(data):\n",
    "\n",
    "    if data[0] > data[2]:\n",
    "        tempx = data[0]\n",
    "        data[0] = data[2]\n",
    "        data[2] = tempx\n",
    "        tempy = data[1]\n",
    "        data[1] = data[3]\n",
    "        data[3] = tempy\n",
    "\n",
    "\n",
    "    x1 = data[0]\n",
    "    y1 = data[1]\n",
    "    x2 = data[2]\n",
    "    y2 = data[3]\n",
    "    xp = data[4]\n",
    "    yp = data[5]\n",
    "    \n",
    "    if y2 != y1 and x2 != x1:\n",
    "        ms = (y2-y1)/(x2-x1)    #slope of the line segmant and line cotaining line segmant\n",
    "        mp = (-1)/ms            #perpendicular lines have product of slope -1\n",
    "        cs = y2 - ms*x2\n",
    "        cp = yp - mp*xp\n",
    "\n",
    "\n",
    "        x = (cp - cs)/(ms - mp)\n",
    "        y = (ms*cp - mp*cs)/(ms-mp)\n",
    "\n",
    "    elif y1 == y2:\n",
    "        x = xp\n",
    "        y = y1\n",
    "    elif x1 == x2:\n",
    "        y = yp\n",
    "        x = x1\n",
    "\n",
    "\n",
    "\n",
    "\n",
    "\n",
    "    if x <= x2 and x >= x1:\n",
    "        d = ((xp - x)**2 + (yp - y)**2)**(1/2)\n",
    "        print(d,end=' ')\n",
    "    else:\n",
    "         d1 = (((x1 - xp)**2 + (y1 - yp)**2)**(1/2))\n",
    "         d2 = (((x2 - xp)**2 + (y2 - yp)**2)**(1/2))\n",
    "         print(min(d1,d2),end='')\n",
    "\n",
    "    #print(x1,y1,x2,y2,xp,yp,'+',x,y,cs,cp)\n",
    "\n",
    "\n",
    "for i in z:\n",
    "    segmant_distance(i)"
   ]
  },
  {
   "cell_type": "code",
   "execution_count": 24,
   "metadata": {},
   "outputs": [],
   "source": [
    "x = open('77_pointtosegmentdistance.txt','r')\n",
    "y=x.read()\n",
    "x.close()\n",
    "l = [k.strip().split() for k in y.splitlines()[1:]]\n",
    "z = []\n",
    "for j in range(len(l)): \n",
    "    z.append( [ int(o) for o in l[j]])"
   ]
  },
  {
   "cell_type": "code",
   "execution_count": 2,
   "metadata": {},
   "outputs": [
    {
     "name": "stdout",
     "output_type": "stream",
     "text": [
      "[15, 13, 2, 2, 20, 5]\n",
      "[8, 18, 7, 13, 16, 20]\n",
      "[18, 9, 6, 6, 11, 19]\n",
      "[15, 11, 14, 13, 17, 17]\n",
      "[0, 9, 18, 19, 15, 17]\n",
      "[8, 13, 16, 1, 5, 4]\n",
      "[7, 0, 6, 16, 3, 14]\n",
      "[2, 8, 13, 5, 15, 1]\n",
      "[20, 0, 15, 9, 4, 11]\n",
      "[8, 20, 2, 18, 6, 14]\n",
      "[20, 11, 5, 4, 18, 4]\n",
      "[19, 0, 4, 4, 2, 5]\n",
      "[0, 1, 17, 11, 1, 10]\n",
      "[1, 20, 19, 5, 20, 1]\n",
      "[15, 12, 12, 3, 17, 20]\n",
      "[19, 1, 2, 18, 5, 17]\n",
      "[9, 12, 4, 13, 3, 11]\n",
      "[[15, 13, 2, 2, 20, 5], [8, 18, 7, 13, 16, 20], [18, 9, 6, 6, 11, 19], [15, 11, 14, 13, 17, 17], [0, 9, 18, 19, 15, 17], [8, 13, 16, 1, 5, 4], [7, 0, 6, 16, 3, 14], [2, 8, 13, 5, 15, 1], [20, 0, 15, 9, 4, 11], [8, 20, 2, 18, 6, 14], [20, 11, 5, 4, 18, 4], [19, 0, 4, 4, 2, 5], [0, 1, 17, 11, 1, 10], [1, 20, 19, 5, 20, 1], [15, 12, 12, 3, 17, 20], [19, 1, 2, 18, 5, 17], [9, 12, 4, 13, 3, 11]]\n"
     ]
    }
   ],
   "source": [
    "\n",
    "def segdistance(s):\n",
    "\n",
    "    if s[0] > s[2]:\n",
    "        tempx = s[0]\n",
    "        s[0] = s[2]\n",
    "        s[2] = tempx\n",
    "        tempy = s[1]\n",
    "        s[1] = s[3]\n",
    "        s[3] = tempy\n",
    "\n",
    "\n",
    "    x1 = s[0]\n",
    "    y1 = s[1]\n",
    "    x2 = s[2]\n",
    "    y2 = s[3]\n",
    "    xp = s[4]\n",
    "    yp = s[5]\n",
    "    \n",
    "    if y2 != y1 and x2 != x1:\n",
    "        ms = (y2-y1)/(x2-x1)    \n",
    "        mp = (-1)/ms            \n",
    "        cs = y2 - ms*x2\n",
    "        cp = yp - mp*xp\n",
    "        x = (cp - cs)/(ms - mp)\n",
    "        y = (ms*cp - mp*cs)/(ms-mp)\n",
    "\n",
    "    elif y1 == y2:\n",
    "        x = xp\n",
    "        y = y1\n",
    "    elif x1 == x2:\n",
    "        y = yp\n",
    "        x = x1\n",
    "\n",
    "    if x <= x2 and x >= x1:\n",
    "        d1 = m.sqrt((xp -  x)**2 + (yp-y)**2)\n",
    "        print(d,end=' ')\n",
    "    else:\n",
    "        d2 = m.sqrt((x1 - xp)**2 + (y1 - yp)**2)\n",
    "        d3 = m.sqrt((x2 - xp)**2 + (y2 - yp)**2)\n",
    "        print(min(d2,d3),end='')\n",
    "\n",
    "    #print(x1,y1,x2,y2,xp,yp,'+',x,y,cs,cp)\n",
    "\n",
    "\n",
    "for i in z:\n",
    "    print(i)\n",
    "    #segdistance(i)\n",
    "print(z)"
   ]
  },
  {
   "cell_type": "code",
   "execution_count": 4,
   "metadata": {},
   "outputs": [
    {
     "data": {
      "text/plain": [
       "[[15, 13, 2, 2, 20, 5],\n",
       " [8, 18, 7, 13, 16, 20],\n",
       " [18, 9, 6, 6, 11, 19],\n",
       " [15, 11, 14, 13, 17, 17],\n",
       " [0, 9, 18, 19, 15, 17],\n",
       " [8, 13, 16, 1, 5, 4],\n",
       " [7, 0, 6, 16, 3, 14],\n",
       " [2, 8, 13, 5, 15, 1],\n",
       " [20, 0, 15, 9, 4, 11],\n",
       " [8, 20, 2, 18, 6, 14],\n",
       " [20, 11, 5, 4, 18, 4],\n",
       " [19, 0, 4, 4, 2, 5],\n",
       " [0, 1, 17, 11, 1, 10],\n",
       " [1, 20, 19, 5, 20, 1],\n",
       " [15, 12, 12, 3, 17, 20],\n",
       " [19, 1, 2, 18, 5, 17],\n",
       " [9, 12, 4, 13, 3, 11]]"
      ]
     },
     "execution_count": 4,
     "metadata": {},
     "output_type": "execute_result"
    }
   ],
   "source": [
    "z"
   ]
  },
  {
   "cell_type": "code",
   "execution_count": 5,
   "metadata": {},
   "outputs": [
    {
     "data": {
      "text/plain": [
       "[[15, 13, 2, 2, 20, 5],\n",
       " [8, 18, 7, 13, 16, 20],\n",
       " [18, 9, 6, 6, 11, 19],\n",
       " [15, 11, 14, 13, 17, 17],\n",
       " [0, 9, 18, 19, 15, 17],\n",
       " [8, 13, 16, 1, 5, 4],\n",
       " [7, 0, 6, 16, 3, 14],\n",
       " [2, 8, 13, 5, 15, 1],\n",
       " [20, 0, 15, 9, 4, 11],\n",
       " [8, 20, 2, 18, 6, 14],\n",
       " [20, 11, 5, 4, 18, 4],\n",
       " [19, 0, 4, 4, 2, 5],\n",
       " [0, 1, 17, 11, 1, 10],\n",
       " [1, 20, 19, 5, 20, 1],\n",
       " [15, 12, 12, 3, 17, 20],\n",
       " [19, 1, 2, 18, 5, 17],\n",
       " [9, 12, 4, 13, 3, 11]]"
      ]
     },
     "execution_count": 5,
     "metadata": {},
     "output_type": "execute_result"
    }
   ],
   "source": [
    "z"
   ]
  },
  {
   "cell_type": "code",
   "execution_count": 13,
   "metadata": {},
   "outputs": [
    {
     "name": "stdout",
     "output_type": "stream",
     "text": [
      "[2, 2, 15, 13, 20, 5]\n",
      "9.336801490283786 [7, 13, 8, 18, 16, 20]\n",
      "8.246211251235321[6, 6, 18, 9, 11, 19]\n",
      "11.39917437670765 [14, 13, 15, 11, 17, 17]\n",
      "5.0[0, 9, 18, 19, 15, 17]\n",
      "0.2913857587071791 [8, 13, 16, 1, 5, 4]\n",
      "7.488452649040594 [6, 16, 7, 0, 3, 14]\n",
      "3.1189143077590264 [2, 8, 13, 5, 15, 1]\n",
      "4.47213595499958[15, 9, 20, 0, 4, 11]\n",
      "11.180339887498949[2, 18, 8, 20, 6, 14]\n",
      "5.059644256269404 [5, 4, 20, 11, 18, 4]\n",
      "5.49751104930461 [4, 4, 19, 0, 2, 5]\n",
      "2.23606797749979[0, 1, 17, 11, 1, 10]\n",
      "7.250387809856532 [1, 20, 19, 5, 20, 1]\n",
      "4.123105625617661[12, 3, 15, 12, 17, 20]\n",
      "8.246211251235321[2, 18, 19, 1, 5, 17]\n",
      "1.4142135623730951 [4, 13, 9, 12, 3, 11]\n",
      "2.23606797749979"
     ]
    }
   ],
   "source": [
    "import math as m\n",
    "def segdistance(data):\n",
    "\n",
    "    if data[0] > data[2]:\n",
    "        tempx = data[0]\n",
    "        data[0] = data[2]\n",
    "        data[2] = tempx\n",
    "        tempy = data[1]\n",
    "        data[1] = data[3]\n",
    "        data[3] = temp\n",
    "    x1 = data[0]\n",
    "    y1 = data[1]\n",
    "    x2 = data[2]\n",
    "    y2 = data[3]\n",
    "    xp = data[4]\n",
    "    yp = data[5]\n",
    "    \n",
    "    if y2 != y1 and x2 != x1:\n",
    "        ms = (y2-y1)/(x2-x1)    \n",
    "        mp = (-1)/ms             \n",
    "        cs = y2 - ms*x2\n",
    "        cp = yp - mp*xp\n",
    "\n",
    "\n",
    "        x = (cp - cs)/(ms - mp)\n",
    "        y = (ms*cp - mp*cs)/(ms-mp)\n",
    "\n",
    "    elif y1 == y2:\n",
    "        x = xp\n",
    "        y = y1\n",
    "    elif x1 == x2:\n",
    "        y = yp\n",
    "        x = x1\n",
    "\n",
    "\n",
    "\n",
    "\n",
    "    if x <= x2 and x >= x1:\n",
    "        d1 = m.sqrt((xp -  x)**2 + (yp-y)**2)\n",
    "        print(d1,end=' ')\n",
    "    else:\n",
    "        d2 = m.sqrt((x1 - xp)**2 + (y1 - yp)**2)\n",
    "        d3 = m.sqrt((x2 - xp)**2 + (y2 - yp)**2)\n",
    "        print(min(d2,d3),end='')\n",
    "\n",
    "    #print(x1,y1,x2,y2,xp,yp,'+',x,y,cs,cp)\n",
    "\n",
    "\n",
    "for i in z:\n",
    "    print(i)\n",
    "    segdistance(i)"
   ]
  },
  {
   "cell_type": "code",
   "execution_count": 29,
   "metadata": {},
   "outputs": [
    {
     "name": "stdout",
     "output_type": "stream",
     "text": [
      "13.548388226258195 7.273238618387272 14.138312908260728 14.21267 7.323601240860613 13.601471 4.472136 6.495401750657076 10.370987274564573 5.09902 3.0 10.73312629199899 5.09902 2.8284271247461903 10.0 8.602325 4.123106 4.242640687119284 6.0 "
     ]
    }
   ],
   "source": [
    "import math as m\n",
    "def segdistance(d):\n",
    "\n",
    "    if d[0] > d[2]:\n",
    "        tempx = d[0]\n",
    "        d[0] = d[2]\n",
    "        d[2] = tempx\n",
    "        tempy = d[1]\n",
    "        d[1] = d[3]\n",
    "        d[3] = tempy\n",
    "    x1 = d[0]\n",
    "    y1 = d[1]\n",
    "    x2 = d[2]\n",
    "    y2 = d[3]\n",
    "    xp = d[4]\n",
    "    yp = d[5]\n",
    "    \n",
    "    if y2 != y1 and x2 != x1:\n",
    "        ms = (y2-y1)/(x2-x1)  # slope of seg    \n",
    "        mp = (-1)/ms          #inverse receprocal of ms for slope of point             \n",
    "        cs = y2 - ms*x2       # intercept seg\n",
    "        cp = yp - mp*xp       # intercept point\n",
    "\n",
    "        x = (cp - cs)/(ms - mp) # x co-ordinate of point intercepting seg line\n",
    "        y = (ms*cp - mp*cs)/(ms-mp) # y co-ordinate of point intercepting seg line\n",
    "\n",
    "    elif y1 == y2:\n",
    "        x = xp\n",
    "        y = y1\n",
    "    elif x1 == x2:\n",
    "        y = yp\n",
    "        x = x1\n",
    "\n",
    "    if x <= x2 and x >= x1:\n",
    "        d1 = m.sqrt((xp -  x)**2 + (yp-y)**2)\n",
    "        print(d1,end=' ')\n",
    "    else:\n",
    "        d2 = m.sqrt((x1 - xp)**2 + (y1 - yp)**2)\n",
    "        d3 = m.sqrt((x2 - xp)**2 + (y2 - yp)**2)\n",
    "        print(round(min(d2,d3),6),end=' ')\n",
    "\n",
    "    #print(x1,y1,x2,y2,xp,yp,'+',x,y,cs,cp)\n",
    "\n",
    "\n",
    "for i in z:\n",
    "    segdistance(i)"
   ]
  },
  {
   "cell_type": "code",
   "execution_count": null,
   "metadata": {},
   "outputs": [],
   "source": [
    "13.548388226258 7.2732386183873 14.138312908261 14.212670403552 7.3236012408606 13.601470508735 4.4721359549996 6.4954017506571 10.370987274565 5.0990195135928 3 10.733126291999 5.0990195135928 2.8284271247462 10.440306508911 8.6023252670426 4.1231056256177 4.2426406871193 6\n"
   ]
  },
  {
   "cell_type": "code",
   "execution_count": 2,
   "metadata": {},
   "outputs": [
    {
     "name": "stdout",
     "output_type": "stream",
     "text": [
      "6 36\n",
      "3d12 0.059028\n",
      "4d10 0.067000\n",
      "4d12 0.047936\n",
      "5d8 0.075073\n",
      "5d10 0.043350\n",
      "5d12 0.021521\n",
      " \n",
      "1 6\n",
      "1d6 0.166667\n",
      "1d8 0.125000\n",
      "1d10 0.100000\n",
      "1d12 0.083333\n",
      " \n",
      "2 16\n",
      "2d8 0.125000\n",
      "2d10 0.080000\n",
      "2d12 0.055556\n",
      " \n"
     ]
    }
   ],
   "source": [
    "a = [2, 4, 6, 8, 10, 12]\n",
    "b = [1,2,3,4,5]\n",
    "\n",
    "def pcr(n,r):\n",
    "    ans = int(fact(n)/(fact(r)*fact(n-r)))\n",
    "    return(ans)\n",
    "\n",
    "def fact(num):\n",
    "    if num == 0 :\n",
    "        return (1)\n",
    "    else:\n",
    "        tot = num\n",
    "        while num > 1:\n",
    "            tot = tot*(num-1)\n",
    "            num -= 1\n",
    "        return(tot)\n",
    "\n",
    "def pcrx(s,n,x):\n",
    "    lim = int((s-n)/x)\n",
    "    tot = 0\n",
    "    for k in range(0,lim+1):\n",
    "        cur = (-1)**k * pcr(n,k) * pcr(s-x*k-1,n-1)\n",
    "        tot += cur\n",
    "    return(tot)\n",
    "\n",
    "\n",
    "def result(valuestr):\n",
    "    valuelist = valuestr.split()\n",
    "    valuelist.pop()\n",
    "    intlist = []\n",
    "    for i in valuelist:\n",
    "        intlist.append(int(i))\n",
    "\n",
    "    all_dice = []\n",
    "    all_side = []\n",
    "    all_chance =[]\n",
    "    unique_no_list = set(intlist)\n",
    "    avg = round(sum(intlist)/len(intlist))\n",
    "    minval = min(unique_no_list )\n",
    "    maxval = max(unique_no_list )\n",
    "    print(minval,maxval)\n",
    "    for dices in d:\n",
    "        for sides in p:\n",
    "            prob = pcrx(avg,dices,sides)\n",
    "            totalrolls = sides**dices\n",
    "            chances = prob/totalrolls\n",
    "            all_dice.append(dices)\n",
    "            all_side.append(sides)\n",
    "            all_chance.append(chances)\n",
    "\n",
    "    for i in range(0,len(all_dice)):\n",
    "        if all_chance[i] > 0.01 and all_dice[i]*all_side[i] >= maxval and all_dice[i] <= minval:\n",
    "            print(\"%dd%d %f\"%(all_dice[i],all_side[i],all_chance[i]))\n",
    "\n",
    "\n",
    "mystrlist = [\n",
    "'19 20 22 21 17 10 22 24 25 31 28 15 23 15 31 6 23 20 18 32 11 9 26 31 18 32 25 11 23 15 24 21 31 25 18 24 20 18 14 16 24 21 30 16 27 16 18 19 19 27 19 36 33 27 31 20 22 31 21 20 29 27 23 32 17 14 28 25 25 26 26 26 20 24 19 23 17 36 25 17 14 30 21 21 21 16 29 27 16 24 24 19 26 30 13 19 21 28 14 15 0',\n",
    "'4 1 1 1 6 1 3 1 3 2 2 6 5 3 3 4 5 4 4 3 2 2 5 3 2 6 6 3 4 1 5 1 1 5 2 1 5 4 1 2 6 2 2 4 5 4 1 4 1 4 1 3 6 5 6 2 4 5 4 1 6 3 2 1 1 3 1 6 1 2 2 6 3 3 4 2 6 4 5 1 2 6 4 1 4 3 3 2 2 6 3 1 2 4 1 3 1 2 3 2 0',\n",
    "'9 7 2 10 6 12 9 2 8 9 6 9 13 8 16 8 14 14 8 14 9 9 12 6 11 5 13 10 9 9 7 7 6 2 10 2 8 12 9 5 5 12 5 10 13 4 9 6 4 11 13 8 5 6 10 16 11 15 8 11 16 8 14 13 2 7 10 10 7 9 9 5 4 16 8 6 6 5 9 3 9 8 6 14 7 11 15 14 8 11 5 12 4 11 3 6 7 13 13 6 0'\n",
    "     ]\n",
    "for i in mystrlist:\n",
    "    result(i)\n",
    "    print(\" \")\n",
    "\n"
   ]
  },
  {
   "cell_type": "code",
   "execution_count": 17,
   "metadata": {},
   "outputs": [],
   "source": [
    "x = open('51_dungeonsanddragonsdice.txt','r')\n",
    "y=x.read()\n",
    "x.close()\n",
    "l = [k.strip().split() for k in y.splitlines()[:]]\n",
    "z = []"
   ]
  },
  {
   "cell_type": "code",
   "execution_count": 19,
   "metadata": {},
   "outputs": [
    {
     "data": {
      "text/plain": [
       "['22 26 25 22 27 32 36 21 29 37 25 37 22 24 34 34 10 27 38 28 23 22 36 19 28 27 26 30 32 21 30 28 19 44 26 19 35 37 21 30 29 30 22 35 21 24 21 36 26 26 29 26 19 31 32 30 28 27 25 37 20 21 23 37 24 24 21 28 14 25 22 33 23 26 32 36 32 37 31 30 19 24 23 22 26 17 29 31 24 20 25 25 27 37 17 15 24 18 36 37 0',\n",
       " '6 7 3 7 5 7 4 9 8 7 11 7 5 7 11 6 7 7 3 7 8 9 11 4 5 9 11 6 2 7 6 11 5 11 5 4 4 10 3 8 10 7 8 6 11 8 8 4 8 5 3 4 10 7 9 5 4 8 9 8 6 8 8 9 7 6 10 4 11 6 8 5 8 6 8 4 10 8 5 9 6 6 8 5 4 5 5 5 7 9 10 6 7 5 6 11 8 9 3 4 0',\n",
       " '11 11 15 28 17 20 22 16 11 23 16 12 11 18 17 12 17 16 23 17 17 15 21 17 16 21 23 29 20 19 13 24 22 17 13 25 22 16 16 19 12 14 14 14 26 23 18 15 24 18 19 19 14 19 19 25 22 21 19 21 12 18 21 23 16 21 15 22 26 15 15 14 13 20 21 17 15 15 19 12 14 10 19 21 17 25 14 28 24 15 23 17 25 26 11 13 21 9 11 24 0']"
      ]
     },
     "execution_count": 19,
     "metadata": {},
     "output_type": "execute_result"
    }
   ],
   "source": [
    "y.splitlines()"
   ]
  },
  {
   "cell_type": "code",
   "execution_count": 20,
   "metadata": {},
   "outputs": [
    {
     "name": "stdout",
     "output_type": "stream",
     "text": [
      "10 44\n",
      "4d12 0.055170\n",
      "5d10 0.060000\n",
      "5d12 0.039967\n",
      " \n",
      "2 11\n",
      "1d12 0.083333\n",
      "2d6 0.166667\n",
      "2d8 0.093750\n",
      "2d10 0.060000\n",
      "2d12 0.041667\n",
      " \n",
      "9 29\n",
      "3d10 0.073000\n",
      "3d12 0.061343\n",
      "4d8 0.083984\n",
      "4d10 0.054000\n",
      "4d12 0.030864\n",
      "5d6 0.100309\n",
      "5d8 0.053406\n",
      "5d10 0.022050\n",
      " \n"
     ]
    }
   ],
   "source": [
    "x = open('51_dungeonsanddragonsdice.txt','r')\n",
    "y=x.read()\n",
    "x.close()\n",
    "\n",
    "\n",
    "a = [2, 4, 6, 8, 10, 12]\n",
    "b = [1,2,3,4,5]\n",
    "\n",
    "def pcr(n,r):\n",
    "    ans = int(fact(n)/(fact(r)*fact(n-r)))\n",
    "    return(ans)\n",
    "\n",
    "def fact(num):\n",
    "    if num == 0 :\n",
    "        return (1)\n",
    "    else:\n",
    "        tot = num\n",
    "        while num > 1:\n",
    "            tot = tot*(num-1)\n",
    "            num -= 1\n",
    "        return(tot)\n",
    "\n",
    "def pcrx(s,n,x):\n",
    "    lim = int((s-n)/x)\n",
    "    tot = 0\n",
    "    for k in range(0,lim+1):\n",
    "        cur = (-1)**k * pcr(n,k) * pcr(s-x*k-1,n-1)\n",
    "        tot += cur\n",
    "    return(tot)\n",
    "\n",
    "\n",
    "def result(valuestr):\n",
    "    valuelist = valuestr.split()\n",
    "    valuelist.pop()\n",
    "    intlist = []\n",
    "    for i in valuelist:\n",
    "        intlist.append(int(i))\n",
    "\n",
    "    all_dice = []\n",
    "    all_side = []\n",
    "    all_chance =[]\n",
    "    unique_no_list = set(intlist)\n",
    "    avg = round(sum(intlist)/len(intlist))\n",
    "    minval = min(unique_no_list )\n",
    "    maxval = max(unique_no_list )\n",
    "    print(minval,maxval)\n",
    "    for dices in d:\n",
    "        for sides in p:\n",
    "            prob = pcrx(avg,dices,sides)\n",
    "            totalrolls = sides**dices\n",
    "            chances = prob/totalrolls\n",
    "            all_dice.append(dices)\n",
    "            all_side.append(sides)\n",
    "            all_chance.append(chances)\n",
    "\n",
    "    for i in range(0,len(all_dice)):\n",
    "        if all_chance[i] > 0.01 and all_dice[i]*all_side[i] >= maxval and all_dice[i] <= minval:\n",
    "            print(\"%dd%d %f\"%(all_dice[i],all_side[i],all_chance[i]))\n",
    "\n",
    "\n",
    "mystrlist = y.splitlines()\n",
    "for i in mystrlist:\n",
    "    result(i)\n",
    "    print(\" \")\n",
    "\n"
   ]
  },
  {
   "cell_type": "code",
   "execution_count": null,
   "metadata": {},
   "outputs": [],
   "source": [
    "mystr = \"\"\";>;<[->+>++<<]>++++<[->+>++<<]+++>:<[->+>++<<]>:<[->+>++<<][>+<-]>-<:>++++<>;<>:<+:>-:<[>+<-]>:<+:>-:<[->+>++<<][->+<][->++<]>;<;>-<:[->+>+<<]>>[-<<+>>]<<+++;>:<[>+<-];>:<>:<:>:\"\"\"\n",
    "\n",
    "mylist = []\n",
    "for i in mystr:\n",
    "    mylist.append(i)\n",
    "\n",
    "\n",
    "inputlist = [13, 15, 18, 17, 4, 5, 2 ]\n",
    "mainlist = []\n",
    "for i in range(0,len(inputlist)):\n",
    "    mainlist.append(0)                #creating empty cells assuming cells <= number of inputs\n",
    "\n",
    "c = 0\n",
    "i = 0\n",
    "pos = 0\n",
    "skip = 0\n",
    "\n",
    "\n",
    "while i < len(mylist):\n",
    "    if mylist[i] == \";\":\n",
    "        mainlist[c] = inputlist[pos]\n",
    "        pos += 1\n",
    "        i += 1\n",
    "    elif mylist[i] == \">\":\n",
    "        c += 1\n",
    "        i += 1\n",
    "    elif mylist[i] == \"<\":\n",
    "        c -=1\n",
    "        i += 1\n",
    "    elif mylist[i] == \":\":\n",
    "        print(mainlist[c])\n",
    "        print(\" \")\n",
    "        i += 1\n",
    "    elif mylist[i] == \"-\":\n",
    "        mainlist[c] -=1\n",
    "        i += 1\n",
    "    elif mylist[i] == \"+\":\n",
    "        mainlist[c] +=1\n",
    "        i += 1\n",
    "    elif mylist[i] == \"[\" and mainlist[c] !=0:\n",
    "        val = i\n",
    "        i += 1\n",
    "    elif mylist[i] == \"[\" and mainlist[c] ==0:\n",
    "        skip = i\n",
    "        while mylist[skip] != \"]\":\n",
    "            skip += 1\n",
    "        i = skip+1\n",
    "        skip = 0\n",
    "    elif mylist[i] == \"]\" and mainlist[c] !=0 :\n",
    "        i = val\n",
    "    elif mylist[i] == \"]\" and mainlist[c] == 0:\n",
    "        i+=1\n",
    "\n"
   ]
  },
  {
   "cell_type": "code",
   "execution_count": 45,
   "metadata": {},
   "outputs": [],
   "source": [
    "x = open('86_brainfuckinterpreter.txt','r')\n",
    "y=x.read()\n",
    "x.close()\n"
   ]
  },
  {
   "cell_type": "code",
   "execution_count": 46,
   "metadata": {},
   "outputs": [],
   "source": [
    "xx =y.splitlines()[0]"
   ]
  },
  {
   "cell_type": "code",
   "execution_count": 47,
   "metadata": {},
   "outputs": [
    {
     "data": {
      "text/plain": [
       "';>;<[->+<]>-<[->+>+<<]>>[-<<+>>]<<;[->+>+<<]>>[-<<+>>]<<[->+>++<<][->++<]>:<+++>;<[->++<]>:<[->+>++<<][->+>++<<];>;<[>+<-]+:>-:<+:>-:<>:<[->+>++<<];[->+>++<<][->+>+<<]>>[-<<+>>]<<[->+>+<<]>>[-<<+>>]<<>++++<[->+<][->+<]>-<[->+<]>++++<[->+>++<<]>;<>;<>;<[->+>++<<][->+>++<<][->+>++<<][->+>++<<]>++++<++++:>-:<;+++[->+>+<<]>>[-<<+>>]<<[->+<]+:>-:<:>++++<+:>-:<:>:'"
      ]
     },
     "execution_count": 47,
     "metadata": {},
     "output_type": "execute_result"
    }
   ],
   "source": [
    "xx"
   ]
  },
  {
   "cell_type": "code",
   "execution_count": 48,
   "metadata": {},
   "outputs": [
    {
     "data": {
      "text/plain": [
       "[';>;<[->+<]>-<[->+>+<<]>>[-<<+>>]<<;[->+>+<<]>>[-<<+>>]<<[->+>++<<][->++<]>:<+++>;<[->++<]>:<[->+>++<<][->+>++<<];>;<[>+<-]+:>-:<+:>-:<>:<[->+>++<<];[->+>++<<][->+>+<<]>>[-<<+>>]<<[->+>+<<]>>[-<<+>>]<<>++++<[->+<][->+<]>-<[->+<]>++++<[->+>++<<]>;<>;<>;<[->+>++<<][->+>++<<][->+>++<<][->+>++<<]>++++<++++:>-:<;+++[->+>+<<]>>[-<<+>>]<<[->+<]+:>-:<:>++++<+:>-:<:>:',\n",
       " '4 13 7 18 3 18 19 9 19 17 8 ']"
      ]
     },
     "execution_count": 48,
     "metadata": {},
     "output_type": "execute_result"
    }
   ],
   "source": [
    "y.splitlines()"
   ]
  },
  {
   "cell_type": "code",
   "execution_count": 49,
   "metadata": {},
   "outputs": [],
   "source": [
    "val = []\n",
    "for i in y.splitlines()[1]:\n",
    "    #print(type(i))\n",
    "    if i != ' ':\n",
    "        val.append(int(i))"
   ]
  },
  {
   "cell_type": "code",
   "execution_count": 50,
   "metadata": {},
   "outputs": [
    {
     "data": {
      "text/plain": [
       "[4, 1, 3, 7, 1, 8, 3, 1, 8, 1, 9, 9, 1, 9, 1, 7, 8]"
      ]
     },
     "execution_count": 50,
     "metadata": {},
     "output_type": "execute_result"
    }
   ],
   "source": [
    "val"
   ]
  },
  {
   "cell_type": "code",
   "execution_count": 54,
   "metadata": {},
   "outputs": [
    {
     "name": "stdout",
     "output_type": "stream",
     "text": [
      "0 8 "
     ]
    }
   ],
   "source": [
    "#mystr = \"\"\";>;<[->+>++<<]>++++<[->+>++<<]+++>:<[->+>++<<]>:<[->+>++<<][>+<-]>-<:>++++<>;<>:<+:>-:<[>+<-]>:<+:>-:<[->+>++<<][->+<][->++<]>;<;>-<:[->+>+<<]>>[-<<+>>]<<+++;>:<[>+<-];>:<>:<:>:\"\"\"\n",
    "x = open('86_brainfuckinterpreter.txt','r')\n",
    "y=x.read()\n",
    "x.close()\n",
    "\n",
    "mystr = y.splitlines()[0]\n",
    "\n",
    "mylist = []\n",
    "for i in mystr:\n",
    "    mylist.append(i)\n",
    " \n",
    "        \n",
    "inputlist = []\n",
    "for i in y.splitlines()[1]:\n",
    "    if i != ' ':\n",
    "        inputlist.append(int(i))\n",
    "\n",
    "\n",
    "mainlist = []\n",
    "for i in range(0,len(inputlist)):\n",
    "    mainlist.append(0)                 \n",
    "\n",
    "c = 0\n",
    "i = 0\n",
    "pos = 0\n",
    "skip = 0\n",
    "\n",
    "\n",
    "while i < len(mylist):\n",
    "    if mylist[i] == \";\":\n",
    "        mainlist[c] = inputlist[pos]\n",
    "        pos += 1\n",
    "        i += 1\n",
    "    elif mylist[i] == \">\":\n",
    "        c += 1\n",
    "        i += 1\n",
    "    elif mylist[i] == \"<\":\n",
    "        c -=1\n",
    "        i += 1\n",
    "    elif mylist[i] == \":\":\n",
    "        print(mainlist[c],end=' ')\n",
    "        i += 1\n",
    "    elif mylist[i] == \"-\":\n",
    "        mainlist[c] -=1\n",
    "        i += 1\n",
    "    elif mylist[i] == \"+\":\n",
    "        mainlist[c] +=1\n",
    "        i += 1\n",
    "    elif mylist[i] == \"[\" and mainlist[c] !=0:\n",
    "        val = i\n",
    "        i += 1\n",
    "    elif mylist[i] == \"[\" and mainlist[c] ==0:\n",
    "        skip = i\n",
    "        while mylist[skip] != \"]\":\n",
    "            skip += 1\n",
    "        i = skip+1\n",
    "        skip = 0\n",
    "    elif mylist[i] == \"]\" and mainlist[c] !=0 :\n",
    "        i = val\n",
    "    elif mylist[i] == \"]\" and mainlist[c] == 0:\n",
    "        i+=1\n",
    "\n"
   ]
  },
  {
   "cell_type": "code",
   "execution_count": 57,
   "metadata": {},
   "outputs": [
    {
     "name": "stdout",
     "output_type": "stream",
     "text": [
      "{'1', '9', '3', '2'}\n"
     ]
    }
   ],
   "source": [
    "guess = \"\"\"1859 3439 0914 7728 1154 4517 1807 9470 2296 6366 2700 4286 4309 9260 0789 2505 8015  \"\"\"\n",
    "ans = \"\"\"   1    2     0    0    0    0    0    0    0    1    0    0    1   0     1    0    1   \"\"\"\n",
    "\n",
    "\n",
    "guess_list = guess.split()\n",
    "ans_list = ans.split()\n",
    "\n",
    "possible_a = []\n",
    "possible_b = []\n",
    "possible_c = []\n",
    "possible_d = []\n",
    "all_possible =['0','1','2','3','4','5','6','7','8','9']\n",
    "for i in range(0,len(guess_list)):\n",
    "    if int(ans_list[i]) > 0:\n",
    "        possible_a.append(guess_list[i][0])\n",
    "        try:\n",
    "            all_possible.remove(guess_list[i][0])\n",
    "        except ValueError:\n",
    "            continue\n",
    "\n",
    "for i in all_possible:\n",
    "    if i not in possible_a:\n",
    "        possible_a.append(i)\n",
    "\n",
    "all_possible =['0','1','2','3','4','5','6','7','8','9']\n",
    "for i in range(0,len(guess_list)):\n",
    "    if int(ans_list[i]) > 0:\n",
    "        possible_b.append(guess_list[i][1])\n",
    "        try:\n",
    "            all_possible.remove(guess_list[i][1])\n",
    "        except ValueError:\n",
    "            continue\n",
    "\n",
    "for i in all_possible:\n",
    "    if i not in possible_b:\n",
    "        possible_b.append(i)\n",
    "\n",
    "all_possible =['0','1','2','3','4','5','6','7','8','9']\n",
    "for i in range(0,len(guess_list)):\n",
    "    if int(ans_list[i]) > 0:\n",
    "        possible_c.append(guess_list[i][2])\n",
    "        try:\n",
    "            all_possible.remove(guess_list[i][2])\n",
    "        except ValueError:\n",
    "            continue\n",
    "for i in all_possible:\n",
    "    if i not in possible_c:\n",
    "        possible_c.append(i)\n",
    "\n",
    "all_possible =['0','1','2','3','4','5','6','7','8','9']\n",
    "for i in range(0,len(guess_list)):\n",
    "    if int(ans_list[i]) > 0:\n",
    "        possible_d.append(guess_list[i][3])\n",
    "        try:\n",
    "            all_possible.remove(guess_list[i][3])\n",
    "        except ValueError:\n",
    "            continue\n",
    "for i in all_possible:\n",
    "    if i not in possible_d:\n",
    "        possible_d.append(i)\n",
    "\n",
    "\n",
    "\n",
    "not_in_a = []\n",
    "not_in_b = []\n",
    "not_in_c = []\n",
    "not_in_d = []\n",
    "\n",
    "for i in possible_a :\n",
    "    for k in range(0,len(guess_list)):\n",
    "        if guess_list[k][0] == i and int(ans_list[k]) == 0 :\n",
    "            not_in_a.append(i)\n",
    "not_in_a = set(not_in_a)\n",
    "for i in not_in_a:\n",
    "    while i in possible_a: possible_a.remove(i)\n",
    "#print(set(possible_a))\n",
    "\n",
    "for i in possible_b :\n",
    "    for k in range(0,len(guess_list)):\n",
    "        if guess_list[k][1] == i and int(ans_list[k]) == 0 :\n",
    "            not_in_b.append(i)\n",
    "not_in_b = set(not_in_b)\n",
    "for i in not_in_b:\n",
    "    while i in possible_b: possible_b.remove(i)\n",
    "#print(set(possible_b))\n",
    "\n",
    "for i in possible_c :\n",
    "    for k in range(0,len(guess_list)):\n",
    "        if guess_list[k][2] == i and int(ans_list[k]) == 0 :\n",
    "            not_in_c.append(i)\n",
    "not_in_c = set(not_in_c)\n",
    "for i in not_in_c:\n",
    "    while i in possible_c: possible_c.remove(i)\n",
    "#print(set(possible_c))\n",
    "\n",
    "for i in possible_d :\n",
    "    for k in range(0,len(guess_list)):\n",
    "        if guess_list[k][3] == i and int(ans_list[k]) == 0 :\n",
    "            not_in_d.append(i)\n",
    "not_in_d = set(not_in_d)\n",
    "for i in not_in_d:\n",
    "    while i in possible_d: possible_d.remove(i)\n",
    "print(set(possible_d))"
   ]
  },
  {
   "cell_type": "code",
   "execution_count": 58,
   "metadata": {},
   "outputs": [
    {
     "name": "stdout",
     "output_type": "stream",
     "text": [
      "554\n",
      " \n",
      "494\n",
      " \n",
      "98\n",
      " \n",
      "247\n",
      " \n",
      "370\n",
      " \n",
      "65\n",
      " \n",
      "988\n",
      " \n",
      "622\n",
      " \n",
      "62\n",
      " \n",
      "311\n",
      " \n",
      "587\n",
      " \n",
      "659\n",
      " \n",
      "392\n",
      " \n",
      "175\n",
      " \n",
      "69\n",
      " \n",
      "740\n",
      " \n",
      "932\n",
      " \n",
      "49\n",
      " \n",
      "131\n",
      " \n",
      "46\n",
      " \n",
      "523\n",
      " \n",
      "330\n",
      " \n"
     ]
    }
   ],
   "source": [
    "\n",
    "def music(inp):\n",
    "    notes = {'C':-9 , 'C#':-8  ,'D':-7, 'D#':-6 , 'E':-5,  'F':-4 ,'F#':-3 ,'G':-2 , 'G#':-1 ,'A':0  ,'A#':1,  'B':2}\n",
    "    octate  = {'4':0,'3':-12,'2':-24,'1':-36,'5':12,'6':24}\n",
    "    f0 = 440\n",
    "    inp_octave = inp[-1]\n",
    "    inp_note = inp[:-1]\n",
    "    n = notes[inp_note] + octate[inp_octave]\n",
    "    a = (2)**(1/12)\n",
    "    fn = f0*(a)**n\n",
    "    print(round(fn))\n",
    "    print(\" \")\n",
    "\n",
    "input_list = 'C#5 B4 G2 B3 F#4 C2 B5 D#5 B1 D#4 D5 E5 G4 F3 C#2 F#5 A#5 G1 C3 F#1 C5 E4'.split()\n",
    "\n",
    "for i in input_list:\n",
    "    music(i)\n"
   ]
  },
  {
   "cell_type": "code",
   "execution_count": 67,
   "metadata": {},
   "outputs": [
    {
     "name": "stdout",
     "output_type": "stream",
     "text": [
      "698 104 52 415 659 139 156 554 784 294 39 69 37 123 831 55 147 932 247 185 98 330 "
     ]
    }
   ],
   "source": [
    "x = open('88_pitchandnotes.txt','r')\n",
    "y=x.read()\n",
    "x.close() \n",
    "\n",
    "def music(inp):\n",
    "    notes = {'C':-9 , 'C#':-8  ,'D':-7, 'D#':-6 , 'E':-5,  'F':-4 ,'F#':-3 ,'G':-2 , 'G#':-1 ,'A':0  ,'A#':1,  'B':2}\n",
    "    octate  = {'4':0,'3':-12,'2':-24,'1':-36,'5':12,'6':24}\n",
    "    f0 = 440\n",
    "    inp_octave = inp[-1]\n",
    "    inp_note = inp[:-1]\n",
    "    n = notes[inp_note] + octate[inp_octave]\n",
    "    a = (2)**(1/12)\n",
    "    fn = f0*(a)**n\n",
    "    print(round(fn),end=' ')\n",
    "\n",
    "input_list = y.splitlines()[1].split()\n",
    "\n",
    "for i in input_list:\n",
    "    music(i)\n"
   ]
  },
  {
   "cell_type": "code",
   "execution_count": 59,
   "metadata": {},
   "outputs": [],
   "source": [
    "x = open('88_pitchandnotes.txt','r')\n",
    "y=x.read()\n",
    "x.close() \n",
    "932 55 35 156 294 494 147 52 33 831 37 185 62 69 311 92 698 49 58 622 880 415 73\n",
    "415 46 104 58 659 440 233 41 220 110 622 831 123 55 87 587 349 139 37 247 92 554\n"
   ]
  },
  {
   "cell_type": "code",
   "execution_count": 64,
   "metadata": {},
   "outputs": [
    {
     "data": {
      "text/plain": [
       "['G#4',\n",
       " 'F#1',\n",
       " 'G#2',\n",
       " 'A#1',\n",
       " 'E5',\n",
       " 'A4',\n",
       " 'A#3',\n",
       " 'E1',\n",
       " 'A3',\n",
       " 'A2',\n",
       " 'D#5',\n",
       " 'G#5',\n",
       " 'B2',\n",
       " 'A1',\n",
       " 'F2',\n",
       " 'D5',\n",
       " 'F4',\n",
       " 'C#3',\n",
       " 'D1',\n",
       " 'B3',\n",
       " 'F#2',\n",
       " 'C#5']"
      ]
     },
     "execution_count": 64,
     "metadata": {},
     "output_type": "execute_result"
    }
   ],
   "source": [
    "y.splitlines()[1].split()"
   ]
  },
  {
   "cell_type": "code",
   "execution_count": null,
   "metadata": {},
   "outputs": [],
   "source": []
  }
 ],
 "metadata": {
  "kernelspec": {
   "display_name": "Python 3 (ipykernel)",
   "language": "python",
   "name": "python3"
  },
  "language_info": {
   "codemirror_mode": {
    "name": "ipython",
    "version": 3
   },
   "file_extension": ".py",
   "mimetype": "text/x-python",
   "name": "python",
   "nbconvert_exporter": "python",
   "pygments_lexer": "ipython3",
   "version": "3.9.7"
  }
 },
 "nbformat": 4,
 "nbformat_minor": 2
}
