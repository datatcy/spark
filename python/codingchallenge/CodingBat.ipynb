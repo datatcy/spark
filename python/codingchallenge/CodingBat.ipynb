{
 "cells": [
  {
   "cell_type": "markdown",
   "metadata": {},
   "source": [
    "https://codingbat.com/java?message=Account+created"
   ]
  },
  {
   "cell_type": "code",
   "execution_count": 25,
   "metadata": {},
   "outputs": [],
   "source": [
    "#WARMUP 1\n",
    "'''The parameter weekday is True if it is a weekday, and the parameter vacation is True if we are on vacation. We sleep in if it is not a weekday or we're on vacation. Return True if we sleep in.\n",
    "sleep_in(False, False) → True\n",
    "sleep_in(True, False) → False\n",
    "sleep_in(False, True) → True\n",
    "\n",
    "return(not weekday or vacation)\n",
    "'''\n",
    "\n",
    "def sleep_in(weekday, vacation):\n",
    "    if (weekday == False) or  (vacation == True):\n",
    "        return True\n",
    "    else:\n",
    "        return False"
   ]
  },
  {
   "cell_type": "code",
   "execution_count": 29,
   "metadata": {},
   "outputs": [
    {
     "data": {
      "text/plain": [
       "True"
      ]
     },
     "execution_count": 29,
     "metadata": {},
     "output_type": "execute_result"
    }
   ],
   "source": [
    "sleep_in(True,True)"
   ]
  },
  {
   "cell_type": "code",
   "execution_count": 63,
   "metadata": {},
   "outputs": [],
   "source": [
    "''' \n",
    "We have two monkeys, a and b, and the parameters a_smile and b_smile indicate if each is smiling. We are in trouble if they are both smiling or if neither of them is smiling. Return True if we are in trouble.\n",
    "monkey_trouble(True, True) → True\n",
    "monkey_trouble(False, False) → True\n",
    "monkey_trouble(True, False) → False'''\n",
    "\n",
    "def monkey_trouble(a_smile, b_smile):\n",
    "    if (a_smile and b_smile) == True:\n",
    "        return True\n",
    "    elif (a_smile or b_smile) == False:\n",
    "        return True\n",
    "    else:\n",
    "        return False"
   ]
  },
  {
   "cell_type": "code",
   "execution_count": 67,
   "metadata": {},
   "outputs": [
    {
     "data": {
      "text/plain": [
       "False"
      ]
     },
     "execution_count": 67,
     "metadata": {},
     "output_type": "execute_result"
    }
   ],
   "source": [
    "monkey_trouble(True,False)"
   ]
  },
  {
   "cell_type": "code",
   "execution_count": 68,
   "metadata": {},
   "outputs": [],
   "source": [
    "'''Given two int values, return their sum. Unless the two values are the same, then return double their sum.\n",
    "sum_double(1, 2) → 3\n",
    "sum_double(3, 2) → 5\n",
    "sum_double(2, 2) → 8'''\n",
    "def sum_double(a, b):\n",
    "    return (a+b)*2 if a == b else a+b"
   ]
  },
  {
   "cell_type": "code",
   "execution_count": 71,
   "metadata": {},
   "outputs": [
    {
     "data": {
      "text/plain": [
       "5"
      ]
     },
     "execution_count": 71,
     "metadata": {},
     "output_type": "execute_result"
    }
   ],
   "source": [
    "sum_double(3,2)"
   ]
  },
  {
   "cell_type": "code",
   "execution_count": 78,
   "metadata": {},
   "outputs": [],
   "source": [
    "'''Given an int n, return the absolute difference between n and 21, except return double the absolute difference if n is over 21.\n",
    "diff21(19) → 2\n",
    "diff21(10) → 11\n",
    "diff21(21) → 0'''\n",
    "\n",
    "def diff21(n):\n",
    "   return abs((21-n)*2) if 21 < n else 21-n \n"
   ]
  },
  {
   "cell_type": "code",
   "execution_count": 79,
   "metadata": {},
   "outputs": [
    {
     "data": {
      "text/plain": [
       "2"
      ]
     },
     "execution_count": 79,
     "metadata": {},
     "output_type": "execute_result"
    }
   ],
   "source": [
    "diff21(22)"
   ]
  },
  {
   "cell_type": "code",
   "execution_count": 86,
   "metadata": {},
   "outputs": [],
   "source": [
    "'''We have a loud talking parrot. The \"hour\" parameter is the current hour time in the range 0..23. We are in trouble if the parrot is talking and the hour is before 7 or after 20. Return True if we are in trouble.\n",
    "parrot_trouble(True, 6) → True\n",
    "parrot_trouble(True, 7) → False\n",
    "parrot_trouble(False, 6) → False\n",
    "\n",
    "return (talking and (hour < 7 or hour > 20))\n",
    "'''\n",
    "\n",
    "def parrot_trouble(talking, hour):\n",
    "    return talking and hour not in range(7,21)"
   ]
  },
  {
   "cell_type": "code",
   "execution_count": 90,
   "metadata": {},
   "outputs": [
    {
     "data": {
      "text/plain": [
       "False"
      ]
     },
     "execution_count": 90,
     "metadata": {},
     "output_type": "execute_result"
    }
   ],
   "source": [
    "parrot_trouble(False,6)"
   ]
  },
  {
   "cell_type": "code",
   "execution_count": 135,
   "metadata": {},
   "outputs": [],
   "source": [
    "'''Given 2 ints, a and b, return True if one if them is 10 or if their sum is 10.\n",
    "makes10(9, 10) → True\n",
    "makes10(9, 9) → False\n",
    "makes10(1, 9) → True\n",
    "return (a == 10 or b == 10 or a+b == 10)\n",
    "return (10 in (a,b) or a+b==10)\n",
    "'''\n",
    "\n",
    "def makes10(a, b):\n",
    "    return True if  10 in (a,b) or a+b==10 else False"
   ]
  },
  {
   "cell_type": "code",
   "execution_count": 140,
   "metadata": {},
   "outputs": [
    {
     "data": {
      "text/plain": [
       "False"
      ]
     },
     "execution_count": 140,
     "metadata": {},
     "output_type": "execute_result"
    }
   ],
   "source": [
    "makes10(9, 9)"
   ]
  },
  {
   "cell_type": "code",
   "execution_count": 155,
   "metadata": {},
   "outputs": [],
   "source": [
    "'''\n",
    "Given an int n, return True if it is within 10 of 100 or 200. Note: abs(num) computes the absolute value of a number.\n",
    "near_hundred(93) → True\n",
    "near_hundred(90) → True\n",
    "near_hundred(89) → False'''\n",
    "\n",
    "def near_hundred(n):\n",
    "    return abs(100-n) <=10 or abs(200-n) <=10"
   ]
  },
  {
   "cell_type": "code",
   "execution_count": 192,
   "metadata": {},
   "outputs": [],
   "source": [
    "'''Given 2 int values, return True if one is negative and one is positive. Except if the parameter \"negative\" is True, then return True only if both are negative.\n",
    "pos_neg(1, -1, False) → True\n",
    "pos_neg(-1, 1, False) → True\n",
    "pos_neg(-4, -5, True) → True\n",
    "\n",
    "def pos_neg(a, b, negative):\n",
    "  if negative:\n",
    "    return (a < 0 and b < 0)\n",
    "  else:\n",
    "    return ((a < 0 and b > 0) or (a > 0 and b < 0))\n",
    "'''\n",
    "\n",
    "def pos_neg(a, b, negative):\n",
    "    if a < 0 and b < 0 and negative:\n",
    "        return True\n",
    "    elif a < 0 and b < 0 or negative:\n",
    "        return False\n",
    "    elif a < 0 or b < 0  or negative:\n",
    "        return True\n",
    "    else:\n",
    "        return False\n",
    "    \n"
   ]
  },
  {
   "cell_type": "code",
   "execution_count": 193,
   "metadata": {},
   "outputs": [
    {
     "data": {
      "text/plain": [
       "False"
      ]
     },
     "execution_count": 193,
     "metadata": {},
     "output_type": "execute_result"
    }
   ],
   "source": [
    "pos_neg(4,5,False)"
   ]
  },
  {
   "cell_type": "code",
   "execution_count": 210,
   "metadata": {},
   "outputs": [],
   "source": [
    "'''Given a string, return a new string where \"not \" has been added to the front. However, if the string already begins with \"not\", return the string unchanged.\n",
    "not_string('candy') → 'not candy'\n",
    "not_string('x') → 'not x'\n",
    "not_string('not bad') → 'not bad'''\n",
    "\n",
    "def not_string(str):\n",
    "    if len(str) >=3 and 'not' not in str[0:3]:\n",
    "        return 'not '+str\n",
    "    elif len(str) <=3 and 'not' not in str:\n",
    "        return 'not '+str\n",
    "    else:\n",
    "        return str"
   ]
  },
  {
   "cell_type": "code",
   "execution_count": 214,
   "metadata": {},
   "outputs": [
    {
     "data": {
      "text/plain": [
       "'not candy'"
      ]
     },
     "execution_count": 214,
     "metadata": {},
     "output_type": "execute_result"
    }
   ],
   "source": [
    "not_string('candy')"
   ]
  },
  {
   "cell_type": "code",
   "execution_count": 242,
   "metadata": {},
   "outputs": [],
   "source": [
    "'''Given a non-empty string and an int n, return a new string where the char at index n has been removed. The value of n will be a valid index of a char in the original string (i.e. n will be in the range 0..len(str)-1 inclusive).\n",
    "missing_char('kitten', 1) → 'ktten'\n",
    "missing_char('kitten', 0) → 'itten'\n",
    "missing_char('kitten', 4) → 'kittn'\n",
    "def missing_char(str, n):\n",
    "  front = str[:n]   # up to but not including n\n",
    "  back = str[n+1:]\n",
    "''\n",
    "\n",
    "def missing_char(str, n):\n",
    "    return str[:n] + str[n+1:] if  n <= len(str) else 'not possible'\n",
    "        "
   ]
  },
  {
   "cell_type": "code",
   "execution_count": 245,
   "metadata": {},
   "outputs": [
    {
     "data": {
      "text/plain": [
       "'kittn'"
      ]
     },
     "execution_count": 245,
     "metadata": {},
     "output_type": "execute_result"
    }
   ],
   "source": [
    "missing_char('kitten',4)"
   ]
  },
  {
   "cell_type": "code",
   "execution_count": 269,
   "metadata": {},
   "outputs": [],
   "source": [
    "'''Given a string, return a new string where the first and last chars have been exchanged.\n",
    "front_back('code') → 'eodc'\n",
    "front_back('a') → 'a'\n",
    "front_back('ab') → 'ba'''\n",
    "\n",
    "def front_back(str):\n",
    "    if len(str) > 1:\n",
    "        return str[-1]+str[1:-1]+str[0]\n",
    "    else:\n",
    "        return str"
   ]
  },
  {
   "cell_type": "code",
   "execution_count": 270,
   "metadata": {},
   "outputs": [
    {
     "data": {
      "text/plain": [
       "'eodc'"
      ]
     },
     "execution_count": 270,
     "metadata": {},
     "output_type": "execute_result"
    }
   ],
   "source": [
    "front_back('code')"
   ]
  },
  {
   "cell_type": "code",
   "execution_count": 274,
   "metadata": {},
   "outputs": [],
   "source": [
    "'''Given a string, we'll say that the front is the first 3 chars of the string. If the string length is less than 3, the front is whatever is there. Return a new string which is 3 copies of the front.\n",
    "front3('Java') → 'JavJavJav'\n",
    "front3('Chocolate') → 'ChoChoCho'\n",
    "front3('abc') → 'abcabcabc'''\n",
    "\n",
    "def front3(str):\n",
    "    return str[0:3]*3"
   ]
  },
  {
   "cell_type": "code",
   "execution_count": 278,
   "metadata": {},
   "outputs": [
    {
     "data": {
      "text/plain": [
       "'ababab'"
      ]
     },
     "execution_count": 278,
     "metadata": {},
     "output_type": "execute_result"
    }
   ],
   "source": [
    "front3('ab')"
   ]
  },
  {
   "cell_type": "code",
   "execution_count": 1,
   "metadata": {},
   "outputs": [],
   "source": [
    "#WARMUP-2"
   ]
  },
  {
   "cell_type": "code",
   "execution_count": 4,
   "metadata": {},
   "outputs": [],
   "source": [
    "'''\n",
    "Given a string and a non-negative int n, return a larger string that is n copies of the original string.\n",
    "string_times('Hi', 2) → 'HiHi'\n",
    "string_times('Hi', 3) → 'HiHiHi'\n",
    "string_times('Hi', 1) → 'Hi'''\n",
    "\n",
    "def string_times(str, n):\n",
    "    return str * n"
   ]
  },
  {
   "cell_type": "code",
   "execution_count": 7,
   "metadata": {},
   "outputs": [
    {
     "data": {
      "text/plain": [
       "'Hi'"
      ]
     },
     "execution_count": 7,
     "metadata": {},
     "output_type": "execute_result"
    }
   ],
   "source": [
    "string_times('Hi',1)"
   ]
  },
  {
   "cell_type": "code",
   "execution_count": 22,
   "metadata": {},
   "outputs": [],
   "source": [
    "'''\n",
    "\n",
    "Given a string and a non-negative int n, we'll say that the front of the string is the first 3 chars, or whatever is there if the string is less than length 3. Return n copies of the front;\n",
    "front_times('Chocolate', 2) → 'ChoCho'\n",
    "front_times('Chocolate', 3) → 'ChoChoCho'\n",
    "front_times('Abc', 3) → 'AbcAbcAbc'''\n",
    "\n",
    "def front_times(str, n):\n",
    "    if n >= 0:\n",
    "        return str[0:3]*n if len(str)> 3 else str*n\n"
   ]
  },
  {
   "cell_type": "code",
   "execution_count": 25,
   "metadata": {},
   "outputs": [
    {
     "data": {
      "text/plain": [
       "''"
      ]
     },
     "execution_count": 25,
     "metadata": {},
     "output_type": "execute_result"
    }
   ],
   "source": [
    "front_times('Abc',0)"
   ]
  },
  {
   "cell_type": "code",
   "execution_count": 34,
   "metadata": {},
   "outputs": [],
   "source": [
    "'''\n",
    "Given a string, return a new string made of every other char starting with the first, so \"Hello\" yields \"Hlo\".\n",
    "string_bits('Hello') → 'Hlo'\n",
    "string_bits('Hi') → 'H'\n",
    "string_bits('Heeololeo') → 'Hello'''\n",
    "\n",
    "def string_bits(str):\n",
    "    return str[0:len(str):2]"
   ]
  },
  {
   "cell_type": "code",
   "execution_count": 38,
   "metadata": {},
   "outputs": [
    {
     "data": {
      "text/plain": [
       "'Hello'"
      ]
     },
     "execution_count": 38,
     "metadata": {},
     "output_type": "execute_result"
    }
   ],
   "source": [
    "string_bits('Heeololeo')"
   ]
  },
  {
   "cell_type": "code",
   "execution_count": 67,
   "metadata": {},
   "outputs": [],
   "source": [
    "'''\n",
    "Given a non-empty string like \"Code\" return a string like \"CCoCodCode\".\n",
    "string_splosion('Code') → 'CCoCodCode'\n",
    "string_splosion('abc') → 'aababc'\n",
    "string_splosion('ab') → 'aab'''\n",
    "\n",
    "def string_splosion(str):\n",
    "    j = 1\n",
    "    lst = ''\n",
    "    while j <= len(str) :\n",
    "        lst += (str[0:j])\n",
    "        j += 1\n",
    "    return lst"
   ]
  },
  {
   "cell_type": "code",
   "execution_count": 68,
   "metadata": {},
   "outputs": [
    {
     "data": {
      "text/plain": [
       "'CCoCodCode'"
      ]
     },
     "execution_count": 68,
     "metadata": {},
     "output_type": "execute_result"
    }
   ],
   "source": [
    "string_splosion('Code')"
   ]
  },
  {
   "cell_type": "code",
   "execution_count": null,
   "metadata": {},
   "outputs": [],
   "source": [
    "'''Given a string, return the count of the number of times that a substring length 2 appears in the string and also as the last 2 chars of the string, so \"hixxxhi\" yields 1 (we won't count the end substring).\n",
    "last2('hixxhi') → 1\n",
    "last2('xaxxaxaxx') → 1\n",
    "last2('axxxaaxx') → 2'''\n",
    "\n",
    "def last2(str):"
   ]
  },
  {
   "cell_type": "code",
   "execution_count": 71,
   "metadata": {},
   "outputs": [],
   "source": [
    "'''\n",
    "Given an array of ints, return the number of 9's in the array.\n",
    "array_count9([1, 2, 9]) → 1\n",
    "array_count9([1, 9, 9]) → 2\n",
    "array_count9([1, 9, 9, 3, 9]) → 3'''\n",
    "\n",
    "def array_count9(nums):\n",
    "    return nums.count(9)"
   ]
  },
  {
   "cell_type": "code",
   "execution_count": 77,
   "metadata": {},
   "outputs": [
    {
     "data": {
      "text/plain": [
       "3"
      ]
     },
     "execution_count": 77,
     "metadata": {},
     "output_type": "execute_result"
    }
   ],
   "source": [
    "array_count9([1,9,9,3,9])"
   ]
  },
  {
   "cell_type": "code",
   "execution_count": 80,
   "metadata": {},
   "outputs": [],
   "source": [
    "'''Given an array of ints, return True if one of the first 4 elements in the array is a 9. The array length may be less than 4.\n",
    "array_front9([1, 2, 9, 3, 4]) → True\n",
    "array_front9([1, 2, 3, 4, 9]) → False\n",
    "array_front9([1, 2, 3, 4, 5]) → False'''\n",
    "\n",
    "def array_front9(nums):\n",
    "    return 9 in nums[0:4]"
   ]
  },
  {
   "cell_type": "code",
   "execution_count": 83,
   "metadata": {},
   "outputs": [
    {
     "data": {
      "text/plain": [
       "False"
      ]
     },
     "execution_count": 83,
     "metadata": {},
     "output_type": "execute_result"
    }
   ],
   "source": [
    "array_front9([1,2,3,4,5])"
   ]
  },
  {
   "cell_type": "code",
   "execution_count": 47,
   "metadata": {},
   "outputs": [],
   "source": [
    "'''\n",
    "Given an array of ints, return True if the sequence of numbers 1, 2, 3 appears in the array somewhere.\n",
    "array123([1, 1, 2, 3, 1]) → True\n",
    "array123([1, 1, 2, 4, 1]) → False\n",
    "array123([1, 1, 2, 1, 2, 3]) → True\n",
    " for i in range(len(nums)-2):\n",
    "    if nums[i]==1 and nums[i+1]==2 and nums[i+2]==3:\n",
    "      return True\n",
    "  return False\n",
    "'''\n",
    "\n",
    "def array123(nums):\n",
    "    k = len(nums)-2\n",
    "    i =0\n",
    "    j =0\n",
    "    while k > 0:\n",
    "        if nums[0+i:3+j:1] in [[1,2,3]]:\n",
    "            return True\n",
    "        i += 1\n",
    "        j += 1\n",
    "        k -= 1\n",
    "    return False\n",
    "        "
   ]
  },
  {
   "cell_type": "code",
   "execution_count": 46,
   "metadata": {},
   "outputs": [
    {
     "name": "stdout",
     "output_type": "stream",
     "text": [
      "1 1 2\n",
      "2 2 1\n",
      "3 3 0\n"
     ]
    },
    {
     "data": {
      "text/plain": [
       "False"
      ]
     },
     "execution_count": 46,
     "metadata": {},
     "output_type": "execute_result"
    }
   ],
   "source": [
    "array123([1, 1, 2, 4, 1])"
   ]
  },
  {
   "cell_type": "code",
   "execution_count": 83,
   "metadata": {},
   "outputs": [],
   "source": [
    "'''Given 2 strings, a and b, return the number of the positions where they contain the same length 2 substring. So \"xxcaazz\" and \"xxbaaz\" yields 3, since the \"xx\", \"aa\", and \"az\" substrings appear in the same place in both strings.\n",
    "string_match('xxcaazz', 'xxbaaz') → 3\n",
    "string_match('abc', 'abc') → 2\n",
    "string_match('abc', 'axc') → 0'''\n",
    "\n",
    "def string_match(a, b):\n",
    "    x = min(len(a),len(b))\n",
    "    cnt = 0\n",
    "    for i in range(x-1):\n",
    "        if a[0+i:2+i:1] == b[0+i:2+i:1]:\n",
    "            cnt +=1\n",
    "    return cnt"
   ]
  },
  {
   "cell_type": "code",
   "execution_count": 84,
   "metadata": {},
   "outputs": [
    {
     "data": {
      "text/plain": [
       "3"
      ]
     },
     "execution_count": 84,
     "metadata": {},
     "output_type": "execute_result"
    }
   ],
   "source": [
    "string_match('xxcaazz', 'xxbaaz')"
   ]
  },
  {
   "cell_type": "code",
   "execution_count": 1,
   "metadata": {},
   "outputs": [],
   "source": [
    "# STRING"
   ]
  },
  {
   "cell_type": "code",
   "execution_count": 2,
   "metadata": {},
   "outputs": [],
   "source": [
    "'''\n",
    "Given a string name, e.g. \"Bob\", return a greeting of the form \"Hello Bob!\".\n",
    "hello_name('Bob') → 'Hello Bob!'\n",
    "hello_name('Alice') → 'Hello Alice!'\n",
    "hello_name('X') → 'Hello X!'''\n",
    "\n",
    "def hello_name(name):\n",
    "    return 'Hello ' + name +'!'"
   ]
  },
  {
   "cell_type": "code",
   "execution_count": 3,
   "metadata": {},
   "outputs": [
    {
     "data": {
      "text/plain": [
       "'Hello Bob'"
      ]
     },
     "execution_count": 3,
     "metadata": {},
     "output_type": "execute_result"
    }
   ],
   "source": [
    "hello_name('Bob')"
   ]
  },
  {
   "cell_type": "code",
   "execution_count": 4,
   "metadata": {},
   "outputs": [],
   "source": [
    "'''Given two strings, a and b, return the result of putting them together in the order abba, e.g. \"Hi\" and \"Bye\" returns \"HiByeByeHi\".\n",
    "make_abba('Hi', 'Bye') → 'HiByeByeHi'\n",
    "make_abba('Yo', 'Alice') → 'YoAliceAliceYo'\n",
    "make_abba('What', 'Up') → 'WhatUpUpWhat'\n",
    "'''\n",
    "def make_abba(a, b):\n",
    "    return (a+b+b+a)"
   ]
  },
  {
   "cell_type": "code",
   "execution_count": 12,
   "metadata": {},
   "outputs": [],
   "source": [
    "'''\n",
    "The web is built with HTML strings like \"<i>Yay</i>\" which draws Yay as italic text. In this example, the \"i\" tag makes <i> and </i> which surround the word \"Yay\". Given tag and word strings, create the HTML string with tags around the word, e.g. \"<i>Yay</i>\".\n",
    "make_tags('i', 'Yay') → '<i>Yay</i>'\n",
    "make_tags('i', 'Hello') → '<i>Hello</i>'\n",
    "make_tags('cite', 'Yay') → '<cite>Yay</cite>'''\n",
    "\n",
    "def make_tags(tag, word):\n",
    "    return '<'+ tag + '>' +word+ '</' +tag+ '>'"
   ]
  },
  {
   "cell_type": "code",
   "execution_count": 13,
   "metadata": {},
   "outputs": [
    {
     "data": {
      "text/plain": [
       "'<i>Yay</i>'"
      ]
     },
     "execution_count": 13,
     "metadata": {},
     "output_type": "execute_result"
    }
   ],
   "source": [
    "make_tags('i','Yay')"
   ]
  },
  {
   "cell_type": "code",
   "execution_count": 35,
   "metadata": {},
   "outputs": [],
   "source": [
    "'''\n",
    "Given an \"out\" string length 4, such as \"<<>>\", and a word, return a new string where the word is in the middle of the out string, e.g. \"<<word>>\".\n",
    "make_out_word('<<>>', 'Yay') → '<<Yay>>'\n",
    "make_out_word('<<>>', 'WooHoo') → '<<WooHoo>>'\n",
    "make_out_word('[[]]', 'word') → '[[word]]'''\n",
    "\n",
    "def make_out_word(out, word):\n",
    "    return  out[0:2:1]+word+out[2::1]\n",
    "    "
   ]
  },
  {
   "cell_type": "code",
   "execution_count": 36,
   "metadata": {},
   "outputs": [
    {
     "data": {
      "text/plain": [
       "'<<Yay>>'"
      ]
     },
     "execution_count": 36,
     "metadata": {},
     "output_type": "execute_result"
    }
   ],
   "source": [
    "make_out_word('<<>>','Yay')"
   ]
  },
  {
   "cell_type": "code",
   "execution_count": 64,
   "metadata": {},
   "outputs": [],
   "source": [
    "'''\n",
    "Given a string, return a new string made of 3 copies of the last 2 chars of the original string. The string length will be at least 2.\n",
    "extra_end('Hello') → 'lololo'\n",
    "extra_end('ab') → 'ababab'\n",
    "extra_end('Hi') → 'HiHiHi'''\n",
    "\n",
    "def extra_end(str):\n",
    "    return  str[-2:]*3 if  len(str) >=2 else ''"
   ]
  },
  {
   "cell_type": "code",
   "execution_count": 65,
   "metadata": {},
   "outputs": [
    {
     "data": {
      "text/plain": [
       "'lololo'"
      ]
     },
     "execution_count": 65,
     "metadata": {},
     "output_type": "execute_result"
    }
   ],
   "source": [
    "extra_end('Hello')"
   ]
  },
  {
   "cell_type": "code",
   "execution_count": 78,
   "metadata": {},
   "outputs": [],
   "source": [
    "'''\n",
    "Given a string, return the string made of its first two chars, so the String \"Hello\" yields \"He\". If the string is shorter than length 2, return whatever there is, so \"X\" yields \"X\", and the empty string \"\" yields the empty string \"\".\n",
    "first_two('Hello') → 'He'\n",
    "first_two('abcdefg') → 'ab'\n",
    "first_two('ab') → 'ab'''\n",
    "\n",
    "def first_two(str):\n",
    "        return  str[0:2] if  len(str) >=2 else str"
   ]
  },
  {
   "cell_type": "code",
   "execution_count": 79,
   "metadata": {},
   "outputs": [
    {
     "data": {
      "text/plain": [
       "'He'"
      ]
     },
     "execution_count": 79,
     "metadata": {},
     "output_type": "execute_result"
    }
   ],
   "source": [
    "first_two('Hello')"
   ]
  },
  {
   "cell_type": "code",
   "execution_count": 89,
   "metadata": {},
   "outputs": [],
   "source": [
    "'''\n",
    "Given a string of even length, return the first half. So the string \"WooHoo\" yields \"Woo\".\n",
    "first_half('WooHoo') → 'Woo'\n",
    "first_half('HelloThere') → 'Hello'\n",
    "first_half('abcdef') → 'abc'''\n",
    "\n",
    "def first_half(str):\n",
    "    return str[0:int(len(str)/2)]    if len(str)%2 == 0 else ''"
   ]
  },
  {
   "cell_type": "code",
   "execution_count": 90,
   "metadata": {},
   "outputs": [
    {
     "data": {
      "text/plain": [
       "'Woo'"
      ]
     },
     "execution_count": 90,
     "metadata": {},
     "output_type": "execute_result"
    }
   ],
   "source": [
    "first_half('Woohoo')"
   ]
  },
  {
   "cell_type": "code",
   "execution_count": 92,
   "metadata": {},
   "outputs": [],
   "source": [
    "'''\n",
    "Given a string, return a version without the first and last char, so \"Hello\" yields \"ell\". The string length will be at least 2.\n",
    "without_end('Hello') → 'ell'\n",
    "without_end('java') → 'av'\n",
    "without_end('coding') → 'odin'''\n",
    "\n",
    "def without_end(str):\n",
    "    return  str[1:-1]  if len(str) > 2 else ''"
   ]
  },
  {
   "cell_type": "code",
   "execution_count": 93,
   "metadata": {},
   "outputs": [
    {
     "data": {
      "text/plain": [
       "'ell'"
      ]
     },
     "execution_count": 93,
     "metadata": {},
     "output_type": "execute_result"
    }
   ],
   "source": [
    "without_end('Hello')"
   ]
  },
  {
   "cell_type": "code",
   "execution_count": 111,
   "metadata": {},
   "outputs": [],
   "source": [
    "'''\n",
    "Given 2 strings, a and b, return a string of the form short+long+short, with the shorter string on the outside and the longer string on the inside. The strings will not be the same length, but they may be empty (length 0).\n",
    "combo_string('Hello', 'hi') → 'hiHellohi'\n",
    "combo_string('hi', 'Hello') → 'hiHellohi'\n",
    "combo_string('aaa', 'b') → 'baaab'''\n",
    "\n",
    "def combo_string(a, b):\n",
    "    return  b+a+b  if  len(a) > len(b)  else a+b+a"
   ]
  },
  {
   "cell_type": "code",
   "execution_count": 112,
   "metadata": {},
   "outputs": [
    {
     "data": {
      "text/plain": [
       "'HiHelloHi'"
      ]
     },
     "execution_count": 112,
     "metadata": {},
     "output_type": "execute_result"
    }
   ],
   "source": [
    "combo_string('Hello','Hi')"
   ]
  },
  {
   "cell_type": "code",
   "execution_count": 117,
   "metadata": {},
   "outputs": [],
   "source": [
    "'''\n",
    "Given 2 strings, return their concatenation, except omit the first char of each. The strings will be at least length 1.\n",
    "non_start('Hello', 'There') → 'ellohere'\n",
    "non_start('java', 'code') → 'avaode'\n",
    "non_start('shotl', 'java') → 'hotlava'''\n",
    "\n",
    "def non_start(a, b):\n",
    "    return a[1:]+b[1:] if len(a)> 1 or len(b) > 1 else ''"
   ]
  },
  {
   "cell_type": "code",
   "execution_count": 119,
   "metadata": {},
   "outputs": [
    {
     "data": {
      "text/plain": [
       "'ellohere'"
      ]
     },
     "execution_count": 119,
     "metadata": {},
     "output_type": "execute_result"
    }
   ],
   "source": [
    "non_start('Hello','There')\n"
   ]
  },
  {
   "cell_type": "code",
   "execution_count": 120,
   "metadata": {},
   "outputs": [],
   "source": [
    "'''Given a string, return a \"rotated left 2\" version where the first 2 chars are moved to the end. The string length will be at least 2.\n",
    "left2('Hello') → 'lloHe'\n",
    "left2('java') → 'vaja'\n",
    "left2('Hi') → 'Hi'''\n",
    "\n",
    "def left2(str):\n",
    "    return  str[2:]+str[0:2]  if len(str) > 2 else str\n",
    "  "
   ]
  },
  {
   "cell_type": "code",
   "execution_count": 121,
   "metadata": {},
   "outputs": [
    {
     "data": {
      "text/plain": [
       "'lloHe'"
      ]
     },
     "execution_count": 121,
     "metadata": {},
     "output_type": "execute_result"
    }
   ],
   "source": [
    "left2('Hello')"
   ]
  },
  {
   "cell_type": "code",
   "execution_count": 122,
   "metadata": {},
   "outputs": [],
   "source": [
    "#LIST"
   ]
  },
  {
   "cell_type": "code",
   "execution_count": null,
   "metadata": {},
   "outputs": [],
   "source": [
    "'''\n",
    "Given an array of ints, return True if 6 appears as either the first or last element in the array. The array will be length 1 or more.\n",
    "first_last6([1, 2, 6]) → True\n",
    "first_last6([6, 1, 2, 3]) → True\n",
    "first_last6([13, 6, 1, 2, 3]) → False'''"
   ]
  },
  {
   "cell_type": "code",
   "execution_count": 145,
   "metadata": {},
   "outputs": [],
   "source": [
    "def first_last6(num):\n",
    "    if len(num) > 1 and  (num[0] == 6 or num[-1] == 6):\n",
    "        return 'True'\n",
    "    elif num[0] == 6:\n",
    "        return 'True'\n",
    "    else :\n",
    "        return 'False'"
   ]
  },
  {
   "cell_type": "code",
   "execution_count": 146,
   "metadata": {},
   "outputs": [
    {
     "data": {
      "text/plain": [
       "'True'"
      ]
     },
     "execution_count": 146,
     "metadata": {},
     "output_type": "execute_result"
    }
   ],
   "source": [
    "first_last6([6])"
   ]
  },
  {
   "cell_type": "code",
   "execution_count": 151,
   "metadata": {},
   "outputs": [],
   "source": [
    "'''\n",
    "Given an array of ints, return True if the array is length 1 or more, and the first element and the last element are equal.\n",
    "same_first_last([1, 2, 3]) → False\n",
    "same_first_last([1, 2, 3, 1]) → True\n",
    "same_first_last([1, 2, 1]) → True'''\n",
    "\n",
    "def same_first_last(nums):\n",
    "    return True if len(nums) >=1 and (nums[0]==nums[-1]) else False"
   ]
  },
  {
   "cell_type": "code",
   "execution_count": 153,
   "metadata": {},
   "outputs": [
    {
     "data": {
      "text/plain": [
       "True"
      ]
     },
     "execution_count": 153,
     "metadata": {},
     "output_type": "execute_result"
    }
   ],
   "source": [
    "same_first_last([1])"
   ]
  },
  {
   "cell_type": "code",
   "execution_count": 1,
   "metadata": {},
   "outputs": [],
   "source": [
    "'''\n",
    "Return an int array length 3 containing the first 3 digits of pi, {3, 1, 4}.\n",
    "make_pi() → [3, 1, 4]'''\n",
    "\n",
    "def make_pi():\n",
    "    y = []\n",
    "    for i in str(int(3.14*100))[0:3:1]:\n",
    "        y.append(int(i))\n",
    "    return y"
   ]
  },
  {
   "cell_type": "code",
   "execution_count": 3,
   "metadata": {},
   "outputs": [
    {
     "data": {
      "text/plain": [
       "[3, 1, 4]"
      ]
     },
     "execution_count": 3,
     "metadata": {},
     "output_type": "execute_result"
    }
   ],
   "source": [
    "make_pi()"
   ]
  },
  {
   "cell_type": "code",
   "execution_count": 236,
   "metadata": {},
   "outputs": [],
   "source": [
    "'''\n",
    "Given 2 arrays of ints, a and b, return True if they have the same first element or they have the same last element. Both arrays will be length 1 or more.\n",
    "common_end([1, 2, 3], [7, 3]) → True\n",
    "common_end([1, 2, 3], [7, 3, 2]) → False\n",
    "common_end([1, 2, 3], [1, 3]) → True'''\n",
    "\n",
    "def common_end(a, b):\n",
    "    return  True   if  (len(a) >= 1 and len(b) >= 1 ) and (a[0] == b[0] or a[-1] == b[-1]) else False\n"
   ]
  },
  {
   "cell_type": "code",
   "execution_count": 238,
   "metadata": {},
   "outputs": [
    {
     "data": {
      "text/plain": [
       "False"
      ]
     },
     "execution_count": 238,
     "metadata": {},
     "output_type": "execute_result"
    }
   ],
   "source": [
    "common_end([1,2,4],[0,3,5])"
   ]
  },
  {
   "cell_type": "code",
   "execution_count": 240,
   "metadata": {},
   "outputs": [],
   "source": [
    "'''Given an array of ints length 3, return the sum of all the elements.\n",
    "sum3([1, 2, 3]) → 6\n",
    "sum3([5, 11, 2]) → 18\n",
    "sum3([7, 0, 0]) → 7'''\n",
    "\n",
    "def sum3(nums):\n",
    "    return sum(nums)"
   ]
  },
  {
   "cell_type": "code",
   "execution_count": 242,
   "metadata": {},
   "outputs": [
    {
     "data": {
      "text/plain": [
       "6"
      ]
     },
     "execution_count": 242,
     "metadata": {},
     "output_type": "execute_result"
    }
   ],
   "source": [
    "sum3([1,2,3])"
   ]
  },
  {
   "cell_type": "code",
   "execution_count": 320,
   "metadata": {},
   "outputs": [],
   "source": [
    "'''Given an array of ints length 3, return an array with the elements \"rotated left\" so {1, 2, 3} yields {2, 3, 1}.\n",
    "rotate_left3([1, 2, 3]) → [2, 3, 1]\n",
    "rotate_left3([5, 11, 9]) → [11, 9, 5]\n",
    "rotate_left3([7, 0, 0]) → [0, 0, 7]'''\n",
    "\n",
    "def rotate_left3(nums):\n",
    "    return nums[-2:3:1] + [nums[0]]"
   ]
  },
  {
   "cell_type": "code",
   "execution_count": 321,
   "metadata": {},
   "outputs": [
    {
     "data": {
      "text/plain": [
       "[2, 3, 1]"
      ]
     },
     "execution_count": 321,
     "metadata": {},
     "output_type": "execute_result"
    }
   ],
   "source": [
    "rotate_left3([1,2,3])"
   ]
  },
  {
   "cell_type": "code",
   "execution_count": 339,
   "metadata": {},
   "outputs": [],
   "source": [
    "'''Given an array of ints length 3, return a new array with the elements in reverse order, so {1, 2, 3} becomes {3, 2, 1}.\n",
    "reverse3([1, 2, 3]) → [3, 2, 1]\n",
    "reverse3([5, 11, 9]) → [9, 11, 5]\n",
    "reverse3([7, 0, 0]) → [0, 0, 7]'''\n",
    "\n",
    "def reverse3(nums):\n",
    "    return nums[-1:-4:-1]"
   ]
  },
  {
   "cell_type": "code",
   "execution_count": null,
   "metadata": {},
   "outputs": [],
   "source": []
  },
  {
   "cell_type": "code",
   "execution_count": 341,
   "metadata": {},
   "outputs": [
    {
     "data": {
      "text/plain": [
       "[3, 2, 1]"
      ]
     },
     "execution_count": 341,
     "metadata": {},
     "output_type": "execute_result"
    }
   ],
   "source": [
    "reverse3([1,2,3])"
   ]
  },
  {
   "cell_type": "code",
   "execution_count": 354,
   "metadata": {},
   "outputs": [],
   "source": [
    "'''\n",
    "Given an array of ints length 3, figure out which is larger, the first or last element in the array, and set all the other elements to be that value. Return the changed array.\n",
    "max_end3([1, 2, 3]) → [3, 3, 3]\n",
    "max_end3([11, 5, 9]) → [11, 11, 11]\n",
    "max_end3([2, 11, 3]) → [3, 3, 3]'''\n",
    "\n",
    "def max_end3(nums):\n",
    "    return [nums[0]]*3 if nums[0] > nums[-1] else [nums[-1]]*3\n",
    "  "
   ]
  },
  {
   "cell_type": "code",
   "execution_count": 355,
   "metadata": {},
   "outputs": [
    {
     "data": {
      "text/plain": [
       "[3, 3, 3]"
      ]
     },
     "execution_count": 355,
     "metadata": {},
     "output_type": "execute_result"
    }
   ],
   "source": [
    "max_end3([1,2,3])"
   ]
  },
  {
   "cell_type": "code",
   "execution_count": 362,
   "metadata": {
    "scrolled": true
   },
   "outputs": [],
   "source": [
    "'''\n",
    "Given an array of ints, return the sum of the first 2 elements in the array. If the array length is less than 2, just sum up the elements that exist, returning 0 if the array is length 0.\n",
    "sum2([1, 2, 3]) → 3\n",
    "sum2([1, 1]) → 2\n",
    "sum2([1, 1, 1, 1]) → 2'''\n",
    "\n",
    "def sum2(nums):\n",
    "    return sum(nums[0:2]) if len(nums) > 2 else sum(nums)"
   ]
  },
  {
   "cell_type": "code",
   "execution_count": 363,
   "metadata": {},
   "outputs": [
    {
     "data": {
      "text/plain": [
       "1"
      ]
     },
     "execution_count": 363,
     "metadata": {},
     "output_type": "execute_result"
    }
   ],
   "source": [
    "sum2([1])"
   ]
  },
  {
   "cell_type": "code",
   "execution_count": 366,
   "metadata": {},
   "outputs": [],
   "source": [
    "'''\n",
    "Given 2 int arrays, a and b, each length 3, return a new array length 2 containing their middle elements.\n",
    "middle_way([1, 2, 3], [4, 5, 6]) → [2, 5]\n",
    "middle_way([7, 7, 7], [3, 8, 0]) → [7, 8]\n",
    "middle_way([5, 2, 9], [1, 4, 5]) → [2, 4]'''\n",
    "\n",
    "def middle_way(a, b):\n",
    "    return [a[1]]+[b[1]]"
   ]
  },
  {
   "cell_type": "code",
   "execution_count": 367,
   "metadata": {},
   "outputs": [
    {
     "data": {
      "text/plain": [
       "[2, 5]"
      ]
     },
     "execution_count": 367,
     "metadata": {},
     "output_type": "execute_result"
    }
   ],
   "source": [
    "middle_way([1,2,3],[4,5,6])"
   ]
  },
  {
   "cell_type": "code",
   "execution_count": 368,
   "metadata": {},
   "outputs": [],
   "source": [
    "'''\n",
    "Given an array of ints, return a new array length 2 containing the first and last elements from the original array. The original array will be length 1 or more.\n",
    "make_ends([1, 2, 3]) → [1, 3]\n",
    "make_ends([1, 2, 3, 4]) → [1, 4]\n",
    "make_ends([7, 4, 6, 2]) → [7, 2]'''\n",
    "\n",
    "def make_ends(nums):\n",
    "    return    [nums[0]]+ [nums[-1]]  if len(nums) >= 1 else ''"
   ]
  },
  {
   "cell_type": "code",
   "execution_count": 370,
   "metadata": {},
   "outputs": [
    {
     "data": {
      "text/plain": [
       "[1, 1]"
      ]
     },
     "execution_count": 370,
     "metadata": {},
     "output_type": "execute_result"
    }
   ],
   "source": [
    "make_ends([1])"
   ]
  },
  {
   "cell_type": "code",
   "execution_count": 378,
   "metadata": {},
   "outputs": [],
   "source": [
    "'''\n",
    "Given an int array length 2, return True if it contains a 2 or a 3.\n",
    "has23([2, 5]) → True\n",
    "has23([4, 3]) → True\n",
    "has23([4, 5]) → False'''\n",
    "\n",
    "def has23(nums):\n",
    "    return  True   if len(nums) == 2 and (2 in nums or 3 in nums) else False"
   ]
  },
  {
   "cell_type": "code",
   "execution_count": 380,
   "metadata": {},
   "outputs": [
    {
     "data": {
      "text/plain": [
       "False"
      ]
     },
     "execution_count": 380,
     "metadata": {},
     "output_type": "execute_result"
    }
   ],
   "source": [
    "has23([4,5])"
   ]
  },
  {
   "cell_type": "code",
   "execution_count": 381,
   "metadata": {},
   "outputs": [],
   "source": [
    "#STRING-2"
   ]
  },
  {
   "cell_type": "code",
   "execution_count": 436,
   "metadata": {},
   "outputs": [],
   "source": [
    "'''\n",
    "Given a string, return a string where for every char in the original, there are two chars.\n",
    "double_char('The') → 'TThhee'\n",
    "double_char('AAbb') → 'AAAAbbbb'\n",
    "double_char('Hi-There') → 'HHii--TThheerree\n",
    "def double_char(str):\n",
    "  result = \"\"\n",
    "  for i in range(len(str)):\n",
    "    result += str[i] + str[i]\n",
    "  return result\n",
    "'''\n",
    "\n",
    "def double_char(str):\n",
    "    s = []\n",
    "    for i in str:\n",
    "        s.append(i*2)\n",
    "    return ''.join(s)"
   ]
  },
  {
   "cell_type": "code",
   "execution_count": 437,
   "metadata": {},
   "outputs": [
    {
     "data": {
      "text/plain": [
       "'TThhee'"
      ]
     },
     "execution_count": 437,
     "metadata": {},
     "output_type": "execute_result"
    }
   ],
   "source": [
    "double_char('The')"
   ]
  },
  {
   "cell_type": "code",
   "execution_count": 439,
   "metadata": {},
   "outputs": [],
   "source": [
    "'''\n",
    "Return the number of times that the string \"hi\" appears anywhere in the given string.\n",
    "count_hi('abc hi ho') → 1\n",
    "count_hi('ABChi hi') → 2\n",
    "count_hi('hihi') → 2'''\n",
    "\n",
    "def count_hi(str):\n",
    "    return str.count('hi')"
   ]
  },
  {
   "cell_type": "code",
   "execution_count": null,
   "metadata": {},
   "outputs": [],
   "source": []
  },
  {
   "cell_type": "code",
   "execution_count": 440,
   "metadata": {},
   "outputs": [
    {
     "data": {
      "text/plain": [
       "1"
      ]
     },
     "execution_count": 440,
     "metadata": {},
     "output_type": "execute_result"
    }
   ],
   "source": [
    "count_hi('abc hi ho')"
   ]
  },
  {
   "cell_type": "code",
   "execution_count": 443,
   "metadata": {},
   "outputs": [],
   "source": [
    "'''\n",
    "Return True if the string \"cat\" and \"dog\" appear the same number of times in the given string.\n",
    "cat_dog('catdog') → True\n",
    "cat_dog('catcat') → False\n",
    "cat_dog('1cat1cadodog') → True'''\n",
    "\n",
    "def cat_dog(str):\n",
    "    return str.count('cat') == str.count('dog')"
   ]
  },
  {
   "cell_type": "code",
   "execution_count": 444,
   "metadata": {},
   "outputs": [
    {
     "data": {
      "text/plain": [
       "True"
      ]
     },
     "execution_count": 444,
     "metadata": {},
     "output_type": "execute_result"
    }
   ],
   "source": [
    "cat_dog('1cat1cadodog')"
   ]
  },
  {
   "cell_type": "code",
   "execution_count": null,
   "metadata": {},
   "outputs": [],
   "source": [
    "'''Return the number of times that the string \"code\" appears anywhere in the given string, except we'll accept any letter for the 'd', so \"cope\" and \"cooe\" count.\n",
    "count_code('aaacodebbb') → 1\n",
    "count_code('codexxcode') → 2\n",
    "count_code('cozexxcope') → 2'''\n",
    "\n",
    "def count_code(str):"
   ]
  },
  {
   "cell_type": "code",
   "execution_count": 450,
   "metadata": {},
   "outputs": [
    {
     "data": {
      "text/plain": [
       "0"
      ]
     },
     "execution_count": 450,
     "metadata": {},
     "output_type": "execute_result"
    }
   ],
   "source": [
    "'aaacodebbb'"
   ]
  },
  {
   "cell_type": "code",
   "execution_count": 453,
   "metadata": {},
   "outputs": [
    {
     "data": {
      "text/plain": [
       "False"
      ]
     },
     "execution_count": 453,
     "metadata": {},
     "output_type": "execute_result"
    }
   ],
   "source": [
    "'co\\?e' in 'code'"
   ]
  },
  {
   "cell_type": "code",
   "execution_count": 458,
   "metadata": {},
   "outputs": [],
   "source": [
    "def count_code(str):\n",
    "  #a=''\n",
    "  count=0\n",
    "  for char in (\"abcdefghijklmnopqrstuvwxyz\"):\n",
    "    a=char\n",
    "    count+=str.count(\"co\"+a+\"e\")\n",
    "  return count"
   ]
  },
  {
   "cell_type": "code",
   "execution_count": 459,
   "metadata": {},
   "outputs": [
    {
     "data": {
      "text/plain": [
       "2"
      ]
     },
     "execution_count": 459,
     "metadata": {},
     "output_type": "execute_result"
    }
   ],
   "source": [
    "count_code('cozexxcope')"
   ]
  },
  {
   "cell_type": "code",
   "execution_count": 498,
   "metadata": {},
   "outputs": [],
   "source": [
    "'''\n",
    "Given two strings, return True if either of the strings appears at the very end of the other string, ignoring upper/lower case differences (in other words, the computation should not be \"case sensitive\"). Note: s.lower() returns the lowercase version of a string.\n",
    "end_other('Hiabc', 'abc') → True\n",
    "end_other('AbC', 'HiaBc') → True\n",
    "end_other('abc', 'abXabc') → True\n",
    "\n",
    "def end_other(a, b):\n",
    "  a = a.lower()\n",
    "  b = b.lower()\n",
    "  return (b.endswith(a) or a.endswith(b))\n",
    "'''\n",
    "\n",
    "def end_other(a, b):\n",
    "    x = a.lower()\n",
    "    y = b.lower()\n",
    "    \n",
    "    if len(x) > len(y):\n",
    "        if x[-len(y):] == y[:]:\n",
    "            return True\n",
    "        else :\n",
    "            return False\n",
    "    elif y[-len(x):] == x[:]:\n",
    "            return True\n",
    "        \n",
    "    else:\n",
    "            return False"
   ]
  },
  {
   "cell_type": "code",
   "execution_count": 497,
   "metadata": {},
   "outputs": [
    {
     "data": {
      "text/plain": [
       "False"
      ]
     },
     "execution_count": 497,
     "metadata": {},
     "output_type": "execute_result"
    }
   ],
   "source": [
    "end_other('Hibc', 'abc')"
   ]
  },
  {
   "cell_type": "code",
   "execution_count": 645,
   "metadata": {},
   "outputs": [],
   "source": [
    "'''\n",
    "Return True if the given string contains an appearance of \"xyz\" where the xyz is not directly preceeded by a period (.). So \"xxyz\" counts but \"x.xyz\" does not.\n",
    "xyz_there('abcxyz') → True\n",
    "xyz_there('abc.xyz') → False\n",
    "xyz_there('xyz.abc') → True'''\n",
    "\n",
    "def xyz_there(str):\n",
    "  pres = str.count('xyz')\n",
    "  abs = str.count('.xyz')\n",
    "  if pres>abs:\n",
    "    return True\n",
    "  else:\n",
    "    return False\n",
    "\n",
    "    \n",
    "\n",
    "  "
   ]
  },
  {
   "cell_type": "code",
   "execution_count": 647,
   "metadata": {},
   "outputs": [
    {
     "data": {
      "text/plain": [
       "True"
      ]
     },
     "execution_count": 647,
     "metadata": {},
     "output_type": "execute_result"
    }
   ],
   "source": [
    "xyz_there('abcxyz.xyz')\n"
   ]
  },
  {
   "cell_type": "code",
   "execution_count": null,
   "metadata": {},
   "outputs": [],
   "source": [
    "#LIST-2"
   ]
  },
  {
   "cell_type": "code",
   "execution_count": 679,
   "metadata": {},
   "outputs": [],
   "source": [
    "'''\n",
    "Return the number of even ints in the given array. Note: the % \"mod\" operator computes the remainder, e.g. 5 % 2 is 1.\n",
    "count_evens([2, 1, 2, 3, 4]) → 3\n",
    "count_evens([2, 2, 0]) → 3\n",
    "count_evens([1, 3, 5]) → 0'''\n",
    "\n",
    "def count_evens(nums):\n",
    "    cnt = 0\n",
    "    for i in nums:\n",
    "        if i%2 == 0 or i == 0:\n",
    "            cnt +=1\n",
    "    return cnt"
   ]
  },
  {
   "cell_type": "code",
   "execution_count": 680,
   "metadata": {},
   "outputs": [
    {
     "data": {
      "text/plain": [
       "3"
      ]
     },
     "execution_count": 680,
     "metadata": {},
     "output_type": "execute_result"
    }
   ],
   "source": [
    "count_evens([2, 1, 2, 3, 4])\n"
   ]
  },
  {
   "cell_type": "code",
   "execution_count": null,
   "metadata": {},
   "outputs": [],
   "source": [
    "'''Given an array length 1 or more of ints, return the difference between the largest and smallest values in the array. Note: the built-in min(v1, v2) and max(v1, v2) functions return the smaller or larger of two values.\n",
    "big_diff([10, 3, 5, 6]) → 7\n",
    "big_diff([7, 2, 10, 9]) → 8\n",
    "big_diff([2, 10, 7, 2]) → 8'''\n",
    "\n",
    "def big_diff(nums):\n",
    "    return max(nums) - min(nums)"
   ]
  },
  {
   "cell_type": "code",
   "execution_count": 23,
   "metadata": {},
   "outputs": [],
   "source": [
    "'''\n",
    "Return the \"centered\" average of an array of ints, which we'll say is the mean average of the values, except ignoring the largest and smallest values in the array. If there are multiple copies of the smallest value, ignore just one copy, and likewise for the largest value. Use int division to produce the final average. You may assume that the array is length 3 or more.\n",
    "centered_average([1, 2, 3, 4, 100]) → 3\n",
    "centered_average([1, 1, 5, 5, 10, 8, 7]) → 5\n",
    "centered_average([-10, -4, -2, -4, -2, 0]) → -3'''\n",
    "\n",
    "def centered_average(nums):\n",
    "    return int(sum(sorted(nums)[1:-1])/len(nums[1:-1]))\n"
   ]
  },
  {
   "cell_type": "code",
   "execution_count": 24,
   "metadata": {},
   "outputs": [
    {
     "data": {
      "text/plain": [
       "5"
      ]
     },
     "execution_count": 24,
     "metadata": {},
     "output_type": "execute_result"
    }
   ],
   "source": [
    "centered_average([1, 1, 5, 5, 10, 8, 7])"
   ]
  },
  {
   "cell_type": "code",
   "execution_count": 130,
   "metadata": {},
   "outputs": [],
   "source": [
    "'''\n",
    "Return the sum of the numbers in the array, returning 0 for an empty array. Except the number 13 is very unlucky, so it does not count and numbers that come immediately after a 13 also do not count.\n",
    "sum13([1, 2, 2, 1]) → 6\n",
    "sum13([1, 1]) → 2\n",
    "sum13([1, 2, 2, 1, 13]) → 6'''\n",
    "\n",
    "def sum13(nums):\n",
    "    \n",
    "    for i in nums:\n",
    "        if 13 i in nums:\n",
    "            nums[nums.index(13):nums.index(13)+2]=[0,0]\n",
    "    return sum(nums)\n"
   ]
  },
  {
   "cell_type": "code",
   "execution_count": 131,
   "metadata": {},
   "outputs": [
    {
     "data": {
      "text/plain": [
       "7"
      ]
     },
     "execution_count": 131,
     "metadata": {},
     "output_type": "execute_result"
    }
   ],
   "source": [
    "sum13([1, 2, 2, 1, 13,13,1])"
   ]
  },
  {
   "cell_type": "code",
   "execution_count": 71,
   "metadata": {},
   "outputs": [],
   "source": [
    "'''\n",
    "Return the sum of the numbers in the array, except ignore sections of numbers starting with a 6 and extending to the next 7 (every 6 will be followed by at least one 7). Return 0 for no numbers.\n",
    "sum67([1, 2, 2]) → 5\n",
    "sum67([1, 2, 2, 6, 99, 99, 7]) → 5\n",
    "sum67([1, 1, 6, 7, 2]) → 4\n",
    "i = [1,2,1,3]\n",
    "k = 0\n",
    "for ii in i:    \n",
    "    if ii == 1 :\n",
    "        print (\"index of 1 = \", k)\n",
    "    k = k+1\n",
    "'''\n",
    "\n",
    "\n",
    "\n",
    "def sum67(nums):\n",
    "    if (6 not in nums) and (7 not in nums):\n",
    "        if len(nums) < 0:\n",
    "            y = 0\n",
    "        else :\n",
    "            y = sum(nums)\n",
    "    else:\n",
    "        for i in nums:\n",
    "            if (6 in nums) and (7 in nums):\n",
    "                del (nums[nums.index(6):(nums.index(7))+1])\n",
    "                y = (sum(nums))\n",
    "    return y\n",
    "="
   ]
  },
  {
   "cell_type": "code",
   "execution_count": 72,
   "metadata": {},
   "outputs": [
    {
     "data": {
      "text/plain": [
       "5"
      ]
     },
     "execution_count": 72,
     "metadata": {},
     "output_type": "execute_result"
    }
   ],
   "source": [
    "sum67([1, 2, 2, 6, 99, 99, 7])"
   ]
  },
  {
   "cell_type": "code",
   "execution_count": 217,
   "metadata": {},
   "outputs": [],
   "source": [
    "'''\n",
    "Given an array of ints, return True if the array contains a 2 next to a 2 somewhere.\n",
    "has22([1, 2, 2]) → True\n",
    "has22([1, 2, 1, 2]) → False\n",
    "has22([2, 1, 2]) → False'''\n",
    "\n",
    "def has22(nums):\n",
    "    for x in range(0,len(nums)-1):\n",
    "        if ( (nums[x] == 2) and (nums[x+1] == 2) ):\n",
    "            return True\n",
    "\n",
    "    return False "
   ]
  },
  {
   "cell_type": "code",
   "execution_count": 220,
   "metadata": {},
   "outputs": [
    {
     "data": {
      "text/plain": [
       "False"
      ]
     },
     "execution_count": 220,
     "metadata": {},
     "output_type": "execute_result"
    }
   ],
   "source": [
    "has22([2,1,2])"
   ]
  },
  {
   "cell_type": "code",
   "execution_count": null,
   "metadata": {},
   "outputs": [],
   "source": [
    "#LOGIC 1"
   ]
  },
  {
   "cell_type": "code",
   "execution_count": 231,
   "metadata": {},
   "outputs": [],
   "source": [
    "'''\n",
    "When squirrels get together for a party, they like to have cigars. A squirrel party is successful when the number of cigars is between 40 and 60, inclusive. Unless it is the weekend, in which case there is no upper bound on the number of cigars. Return True if the party with the given values is successful, or False otherwise.\n",
    "cigar_party(30, False) → False\n",
    "cigar_party(50, False) → True\n",
    "cigar_party(70, True) → True\n",
    "\n",
    "return cigars >= 40 if is_weekend else cigars in range(40,61)\n",
    "\n",
    "'''\n",
    "\n",
    "def cigar_party(cigars, is_weekend):\n",
    "    if (cigars >=40 and cigars <= 60) and is_weekend == False:\n",
    "        return True\n",
    "    elif (cigars >=40 and cigars <= 60) and is_weekend == True:\n",
    "        return True\n",
    "    elif cigars < 40 and is_weekend == False:\n",
    "        return False\n",
    "    elif (cigars > 60) and is_weekend == True:\n",
    "        return True\n",
    "    elif (cigars < 40 ) and is_weekend == True:\n",
    "        return False\n",
    "    elif (cigars >= 40 ) and is_weekend == True:\n",
    "        return False\n",
    "    elif (cigars > 60) and is_weekend == False:\n",
    "        return False"
   ]
  },
  {
   "cell_type": "code",
   "execution_count": 232,
   "metadata": {},
   "outputs": [
    {
     "data": {
      "text/plain": [
       "True"
      ]
     },
     "execution_count": 232,
     "metadata": {},
     "output_type": "execute_result"
    }
   ],
   "source": [
    "cigar_party(70,True)"
   ]
  },
  {
   "cell_type": "code",
   "execution_count": 238,
   "metadata": {},
   "outputs": [],
   "source": [
    "'''\n",
    "You and your date are trying to get a table at a restaurant. The parameter \"you\" is the stylishness of your clothes, in the range 0..10, and \"date\" is the stylishness of your date's clothes. The result getting the table is encoded as an int value with 0=no, 1=maybe, 2=yes. If either of you is very stylish, 8 or more, then the result is 2 (yes). With the exception that if either of you has style of 2 or less, then the result is 0 (no). Otherwise the result is 1 (maybe).\n",
    "date_fashion(5, 10) → 2\n",
    "date_fashion(5, 2) → 0\n",
    "date_fashion(5, 5) → 1'''\n",
    "\n",
    "def date_fashion(you, date):\n",
    "    if you <=2 or  date <=2:\n",
    "        return 0\n",
    "    elif you >= 8 or date >=8:\n",
    "        return 2\n",
    "    else:\n",
    "        return 1\n",
    "    "
   ]
  },
  {
   "cell_type": "code",
   "execution_count": 240,
   "metadata": {},
   "outputs": [
    {
     "data": {
      "text/plain": [
       "1"
      ]
     },
     "execution_count": 240,
     "metadata": {},
     "output_type": "execute_result"
    }
   ],
   "source": [
    "date_fashion(5,5)"
   ]
  },
  {
   "cell_type": "code",
   "execution_count": 338,
   "metadata": {},
   "outputs": [],
   "source": [
    "'''\n",
    "The squirrels in Palo Alto spend most of the day playing. In particular, they play if the temperature is between 60 and 90 (inclusive). Unless it is summer, then the upper limit is 100 instead of 90. Given an int temperature and a boolean is_summer, return True if the squirrels play and False otherwise.\n",
    "squirrel_play(70, False) → True\n",
    "squirrel_play(95, False) → False\n",
    "squirrel_play(95, True) → True'''\n",
    "\n",
    "def squirrel_play(temp, is_summer):\n",
    "    if is_summer :\n",
    "        if (temp >= 60 and temp <= 100):\n",
    "            return True\n",
    "        else:\n",
    "            return False\n",
    "    elif (temp >= 60 and temp <= 90) :\n",
    "            return True\n",
    "    else:\n",
    "          return False"
   ]
  },
  {
   "cell_type": "code",
   "execution_count": 339,
   "metadata": {},
   "outputs": [
    {
     "data": {
      "text/plain": [
       "True"
      ]
     },
     "execution_count": 339,
     "metadata": {},
     "output_type": "execute_result"
    }
   ],
   "source": [
    "squirrel_play(70,False)"
   ]
  },
  {
   "cell_type": "code",
   "execution_count": 352,
   "metadata": {},
   "outputs": [],
   "source": [
    "'''\n",
    "You are driving a little too fast, and a police officer stops you. Write code to compute the result, encoded as an int value: 0=no ticket, 1=small ticket, 2=big ticket. If speed is 60 or less, the result is 0. If speed is between 61 and 80 inclusive, the result is 1. If speed is 81 or more, the result is 2. Unless it is your birthday -- on that day, your speed can be 5 higher in all cases.\n",
    "caught_speeding(60, False) → 0\n",
    "caught_speeding(65, False) → 1\n",
    "caught_speeding(65, True) → 0'''\n",
    "\n",
    "def caught_speeding(speed, is_birthday):\n",
    "    if is_birthday:\n",
    "        if (speed >= 66 and speed <= 85):\n",
    "            return 1\n",
    "        elif speed <= 65:\n",
    "            return 0\n",
    "        else:\n",
    "            return 2\n",
    "    elif (speed >= 61 and speed <= 80):\n",
    "        return 1\n",
    "    elif speed <= 60:\n",
    "        return 0\n",
    "    else :\n",
    "        return 2"
   ]
  },
  {
   "cell_type": "code",
   "execution_count": 353,
   "metadata": {},
   "outputs": [
    {
     "data": {
      "text/plain": [
       "0"
      ]
     },
     "execution_count": 353,
     "metadata": {},
     "output_type": "execute_result"
    }
   ],
   "source": [
    "caught_speeding(65,True)"
   ]
  },
  {
   "cell_type": "code",
   "execution_count": 384,
   "metadata": {},
   "outputs": [],
   "source": [
    "'''\n",
    "Given 2 ints, a and b, return their sum. However, sums in the range 10..19 inclusive, are forbidden, so in that case just return 20.\n",
    "sorta_sum(3, 4) → 7\n",
    "sorta_sum(9, 4) → 20\n",
    "sorta_sum(10, 11) → 21'''\n",
    "\n",
    "def sorta_sum(a, b):\n",
    "    return 20 if (a+b) in list(range(10,20)) else (a+b)"
   ]
  },
  {
   "cell_type": "code",
   "execution_count": 386,
   "metadata": {},
   "outputs": [
    {
     "data": {
      "text/plain": [
       "7"
      ]
     },
     "execution_count": 386,
     "metadata": {},
     "output_type": "execute_result"
    }
   ],
   "source": [
    "sorta_sum(4,3)"
   ]
  },
  {
   "cell_type": "code",
   "execution_count": 394,
   "metadata": {},
   "outputs": [],
   "source": [
    "'''\n",
    "Given a day of the week encoded as 0=Sun, 1=Mon, 2=Tue, ...6=Sat, and a boolean indicating if we are on vacation, return a string of the form \"7:00\" indicating when the alarm clock should ring. Weekdays, the alarm should be \"7:00\" and on the weekend it should be \"10:00\". Unless we are on vacation -- then on weekdays it should be \"10:00\" and weekends it should be \"off\".\n",
    "alarm_clock(1, False) → '7:00'\n",
    "alarm_clock(5, False) → '7:00'\n",
    "alarm_clock(0, False) → '10:00\n",
    "  pronto = \"7:00\" if not vacation else \"10:00\"\n",
    "  tarde = \"10:00\" if not vacation else \"off\"\n",
    "  return pronto if day not in [6,0] else tarde\n",
    "\n",
    "'''\n",
    "\n",
    "def alarm_clock(day, vacation):\n",
    "    if vacation:\n",
    "        if day in [6,0]:\n",
    "            return \"off\"\n",
    "        else:\n",
    "            return \"10:00\"\n",
    "    elif day in [6,0]:\n",
    "        return \"10:00\"\n",
    "    else :\n",
    "        return \"7:00\""
   ]
  },
  {
   "cell_type": "code",
   "execution_count": 395,
   "metadata": {},
   "outputs": [
    {
     "data": {
      "text/plain": [
       "'7:00'"
      ]
     },
     "execution_count": 395,
     "metadata": {},
     "output_type": "execute_result"
    }
   ],
   "source": [
    "alarm_clock(1,False)"
   ]
  },
  {
   "cell_type": "code",
   "execution_count": 417,
   "metadata": {},
   "outputs": [],
   "source": [
    "'''\n",
    "The number 6 is a truly great number. Given two int values, a and b, return True if either one is 6. Or if their sum or difference is 6. Note: the function abs(num) computes the absolute value of a number.\n",
    "love6(6, 4) → True\n",
    "love6(4, 5) → False\n",
    "love6(1, 5) → True'''\n",
    "\n",
    "def love6(a, b):\n",
    "    if (6 in [a,b]) or (sum([a,b]) == 6) or (abs(a-b) == 6):\n",
    "        return True   \n",
    "    else:\n",
    "        return False\n",
    "    "
   ]
  },
  {
   "cell_type": "code",
   "execution_count": 418,
   "metadata": {},
   "outputs": [
    {
     "data": {
      "text/plain": [
       "True"
      ]
     },
     "execution_count": 418,
     "metadata": {},
     "output_type": "execute_result"
    }
   ],
   "source": [
    "love6(6,4)"
   ]
  },
  {
   "cell_type": "code",
   "execution_count": 427,
   "metadata": {},
   "outputs": [],
   "source": [
    "'''\n",
    "Given a number n, return True if n is in the range 1..10, inclusive. Unless outside_mode is True, in which case return True if the number is less or equal to 1, or greater or equal to 10.\n",
    "in1to10(5, False) → True\n",
    "in1to10(11, False) → False\n",
    "in1to10(11, True) → True\n",
    "  if n == 1 or n == 10:\n",
    "    return True\n",
    "  return (n in range(1,11)) ^ outside_mode\n",
    "\n",
    "'''\n",
    "\n",
    "def in1to10(n, outside_mode):\n",
    "    if outside_mode:\n",
    "        if n <=1 or n>=10:\n",
    "            return True\n",
    "        else:\n",
    "            return False\n",
    "    elif n in list(range(1,11,1)):\n",
    "        return True\n",
    "    else:\n",
    "        return False"
   ]
  },
  {
   "cell_type": "code",
   "execution_count": 428,
   "metadata": {},
   "outputs": [
    {
     "data": {
      "text/plain": [
       "'T'"
      ]
     },
     "execution_count": 428,
     "metadata": {},
     "output_type": "execute_result"
    }
   ],
   "source": [
    "in1to10(5,False)"
   ]
  },
  {
   "cell_type": "code",
   "execution_count": 431,
   "metadata": {},
   "outputs": [],
   "source": [
    "'''\n",
    "Given a non-negative number \"num\", return True if num is within 2 of a multiple of 10. Note: (a % b) is the remainder of dividing a by b, so (7 % 5) is 2. See also: Introduction to Mod\n",
    "near_ten(12) → True\n",
    "near_ten(17) → False\n",
    "near_ten(19) → True'''\n",
    "\n",
    "def near_ten(num):\n",
    "    return not(2 < (num % 10) < 8)"
   ]
  },
  {
   "cell_type": "code",
   "execution_count": 432,
   "metadata": {},
   "outputs": [
    {
     "data": {
      "text/plain": [
       "True"
      ]
     },
     "execution_count": 432,
     "metadata": {},
     "output_type": "execute_result"
    }
   ],
   "source": [
    "near_ten(12)"
   ]
  },
  {
   "cell_type": "code",
   "execution_count": 433,
   "metadata": {},
   "outputs": [],
   "source": [
    "#LOGIC 2"
   ]
  },
  {
   "cell_type": "code",
   "execution_count": 434,
   "metadata": {},
   "outputs": [
    {
     "ename": "SyntaxError",
     "evalue": "unexpected EOF while parsing (<ipython-input-434-0c837e473f5b>, line 7)",
     "output_type": "error",
     "traceback": [
      "\u001b[0;36m  File \u001b[0;32m\"<ipython-input-434-0c837e473f5b>\"\u001b[0;36m, line \u001b[0;32m7\u001b[0m\n\u001b[0;31m    def make_bricks(small, big, goal):\u001b[0m\n\u001b[0m                                      ^\u001b[0m\n\u001b[0;31mSyntaxError\u001b[0m\u001b[0;31m:\u001b[0m unexpected EOF while parsing\n"
     ]
    }
   ],
   "source": [
    "'''\n",
    "We want to make a row of bricks that is goal inches long. We have a number of small bricks (1 inch each) and big bricks (5 inches each). Return True if it is possible to make the goal by choosing from the given bricks. This is a little harder than it looks and can be done without any loops. See also: Introduction to MakeBricks\n",
    "make_bricks(3, 1, 8) → True\n",
    "make_bricks(3, 1, 9) → False\n",
    "make_bricks(3, 2, 10) → True'''\n",
    "\n",
    "def make_bricks(small, big, goal):"
   ]
  },
  {
   "cell_type": "code",
   "execution_count": 438,
   "metadata": {},
   "outputs": [],
   "source": [
    "def in1to10(n, outside_mode):\n",
    "    if n == 1 or n == 10:\n",
    "        return True\n",
    "    return (n in range(1,11)) ^ outside_mode"
   ]
  },
  {
   "cell_type": "code",
   "execution_count": 442,
   "metadata": {},
   "outputs": [
    {
     "data": {
      "text/plain": [
       "False"
      ]
     },
     "execution_count": 442,
     "metadata": {},
     "output_type": "execute_result"
    }
   ],
   "source": [
    "in1to10(11,False)"
   ]
  },
  {
   "cell_type": "code",
   "execution_count": 13,
   "metadata": {},
   "outputs": [],
   "source": [
    "'''\n",
    "We want to make a row of bricks that is goal inches long. We have a number of small bricks (1 inch each) and big bricks (5 inches each). Return True if it is possible to make the goal by choosing from the given bricks. This is a little harder than it looks and can be done without any loops. See also: Introduction to MakeBricks\n",
    "make_bricks(3, 1, 8) → True\n",
    "make_bricks(3, 1, 9) → False\n",
    "make_bricks(3, 2, 10) → True'''\n",
    "\n",
    "def make_bricks(small, big, goal):\n",
    "    if goal > big"
   ]
  },
  {
   "cell_type": "code",
   "execution_count": 2,
   "metadata": {},
   "outputs": [
    {
     "ename": "SyntaxError",
     "evalue": "invalid syntax (<ipython-input-2-e958a09eb653>, line 3)",
     "output_type": "error",
     "traceback": [
      "\u001b[0;36m  File \u001b[0;32m\"<ipython-input-2-e958a09eb653>\"\u001b[0;36m, line \u001b[0;32m3\u001b[0m\n\u001b[0;31m    if goal > big*5\u001b[0m\n\u001b[0m                   ^\u001b[0m\n\u001b[0;31mSyntaxError\u001b[0m\u001b[0;31m:\u001b[0m invalid syntax\n"
     ]
    }
   ],
   "source": [
    "small = 1\n",
    "big  = 5\n",
    "if goal > big*5"
   ]
  },
  {
   "cell_type": "code",
   "execution_count": 2,
   "metadata": {},
   "outputs": [],
   "source": [
    "'''\n",
    "Given 3 int values, a b c, return their sum. However, if one of the values is the same as another of the values, it does not count towards the sum.\n",
    "lone_sum(1, 2, 3) → 6\n",
    "lone_sum(3, 2, 3) → 2\n",
    "lone_sum(3, 3, 3) → 0'''\n",
    "\n",
    "def lone_sum(a, b, c):\n",
    "    tempSum, arr2 = a+b+c, list(set([a,b,c]))\n",
    "    if (a==b==c): return 0\n",
    "    return sum(arr2) - (tempSum - sum(arr2))"
   ]
  },
  {
   "cell_type": "code",
   "execution_count": null,
   "metadata": {},
   "outputs": [],
   "source": []
  },
  {
   "cell_type": "code",
   "execution_count": null,
   "metadata": {},
   "outputs": [],
   "source": [
    "'''Given 3 int values, a b c, return their sum. However, if one of the values is 13 then it does not count towards the sum and values to its right do not count. So for example, if b is 13, then both b and c do not count.\n",
    "lucky_sum(1, 2, 3) → 6\n",
    "lucky_sum(1, 2, 13) → 3\n",
    "lucky_sum(1, 13, 3) → 1'''\n",
    "\n",
    "def lucky_sum(a, b, c):\n",
    "    if 13 not in [a,b,c]:\n",
    "        return (a+b+c)\n",
    "    elif a == 13:\n",
    "        return 0\n",
    "    elif b == 13:\n",
    "        return a\n",
    "    else:\n",
    "        return (a+b)"
   ]
  },
  {
   "cell_type": "code",
   "execution_count": 274,
   "metadata": {},
   "outputs": [],
   "source": [
    "'''\n",
    "Given 3 int values, a b c, return their sum. However, if any of the values is a teen -- in the range 13..19 inclusive -- then that value counts as 0, except 15 and 16 do not count as a teens. Write a separate helper \"def fix_teen(n):\"that takes in an int value and returns that value fixed for the teen rule. In this way, you avoid repeating the teen code 3 times (i.e. \"decomposition\"). Define the helper below and at the same indent level as the main no_teen_sum().\n",
    "no_teen_sum(1, 2, 3) → 6\n",
    "no_teen_sum(2, 13, 1) → 3\n",
    "no_teen_sum(2, 1, 14) → 3'''\n",
    "\n",
    "def fix_teen(n):\n",
    "    return 0 if n in [13,14,17,18,19] else n\n",
    "\n",
    "def no_teen_sum(a, b, c):\n",
    "    z = 0\n",
    "    for i in [a,b,c]:\n",
    "        if i in [13,14,17,18,19]:\n",
    "            z += fix_teen(i)\n",
    "        else:\n",
    "            z +=i\n",
    "    return z"
   ]
  },
  {
   "cell_type": "code",
   "execution_count": 389,
   "metadata": {},
   "outputs": [],
   "source": [
    "'''\n",
    "For this problem, we'll round an int value up to the next multiple of 10 if its rightmost digit is 5 or more, so 15 rounds up to 20. Alternately, round down to the previous multiple of 10 if its rightmost digit is less than 5, so 12 rounds down to 10. Given 3 ints, a b c, return the sum of their rounded values. To avoid code repetition, write a separate helper \"def round10(num):\" and call it 3 times. Write the helper entirely below and at the same indent level as round_sum().\n",
    "round_sum(16, 17, 18) → 60\n",
    "round_sum(12, 13, 14) → 30\n",
    "round_sum(6, 4, 4) → 10\n",
    "def round10(num):\n",
    "    return (-1*num//10*-1)*10 if num%10 >=5 else int(num/10)*10\n",
    "\n",
    "def round_sum(a, b, c):\n",
    "    z = 0\n",
    "    for num in (a,b,c):\n",
    "      if num >=5. and num <=10:\n",
    "        z +=10\n",
    "      else: \n",
    "        z += round10(num)\n",
    "    return z\n",
    "'''\n",
    "\n",
    "import math\n",
    "\n",
    "def round10(num):\n",
    "    return ceil(num/10)*10 if num%10 >=5 else floor(num/10)*10\n",
    "\n",
    "def round_sum(a, b, c):\n",
    "    z = 0\n",
    "    for num in (a,b,c):\n",
    "        z += round10(num)\n",
    "    return z"
   ]
  },
  {
   "cell_type": "code",
   "execution_count": 390,
   "metadata": {},
   "outputs": [
    {
     "data": {
      "text/plain": [
       "10"
      ]
     },
     "execution_count": 390,
     "metadata": {},
     "output_type": "execute_result"
    }
   ],
   "source": [
    "round_sum(4, 6, 5)"
   ]
  },
  {
   "cell_type": "code",
   "execution_count": 439,
   "metadata": {},
   "outputs": [],
   "source": [
    "'''\n",
    "Given three ints, a b c, return True if one of b or c is \"close\" (differing from a by at most 1), while the other is \"far\", differing from both other values by 2 or more. Note: abs(num) computes the absolute value of a number.\n",
    "\n",
    "\n",
    "close_far(1, 2, 10) → True\n",
    "close_far(1, 2, 3) → False\n",
    "close_far(4, 1, 3) → True\n",
    "\n",
    "    a_b_diff = abs(a - b)\n",
    "    a_c_diff = abs(a - c)\n",
    "    b_c_diff = abs(b - c)\n",
    "\n",
    "    return (\n",
    "        (a_b_diff <= 1 and a_c_diff >= 2 and b_c_diff >= 2) !=\n",
    "        (a_c_diff <= 1 and a_b_diff >= 2 and b_c_diff >= 2)\n",
    "    )\n",
    "\n",
    "\n",
    "'''\n",
    "\n",
    "def close_far(a, b, c):\n",
    "    diff_ab = abs(a-b)\n",
    "    diff_ac = abs(a-c)\n",
    "    diff_bc = abs(b-c)\n",
    "    if diff_bc >=2 and diff_ab <=1 and diff_ac >=2 :\n",
    "        return True\n",
    "    elif diff_ac <=1 and diff_ab >=2 and  diff_bc >=2:\n",
    "        return True\n",
    "    else:\n",
    "        return False"
   ]
  },
  {
   "cell_type": "code",
   "execution_count": null,
   "metadata": {},
   "outputs": [],
   "source": [
    "'''We want make a package of goal kilos of chocolate. We have small bars (1 kilo each) and big bars (5 kilos each). Return the number of small bars to use, assuming we always use big bars before small bars. Return -1 if it can't be done.\n",
    "\n",
    "\n",
    "make_chocolate(4, 1, 9) → 4\n",
    "make_chocolate(4, 1, 10) → -1\n",
    "make_chocolate(4, 1, 7) → 2\n",
    "'''\n",
    "\n",
    "def make_chocolate(small, big, goal):"
   ]
  },
  {
   "cell_type": "code",
   "execution_count": null,
   "metadata": {},
   "outputs": [],
   "source": [
    "''' Based on a traditional English children's game\n",
    "Print the numbers 1..100\n",
    "For multiples of 3, print \"Fizz\" instead of the number\n",
    "For multiples of 5, print \"Buzz\" instead of the number\n",
    "For multiples of 3 and 5, print \"FizzBuzz\" instead of the number\n",
    "Here: fill an array instead of printing + some other complications'''\n"
   ]
  },
  {
   "cell_type": "code",
   "execution_count": 4,
   "metadata": {},
   "outputs": [
    {
     "name": "stdout",
     "output_type": "stream",
     "text": [
      "1\n",
      "2\n",
      "Fizz\n",
      "4\n",
      "Buzz\n",
      "Fizz\n",
      "7\n",
      "8\n",
      "Fizz\n",
      "Buzz\n",
      "11\n",
      "Fizz\n",
      "13\n",
      "14\n",
      "FizzBuzz\n",
      "16\n",
      "17\n",
      "Fizz\n",
      "19\n",
      "Buzz\n",
      "Fizz\n",
      "22\n",
      "23\n",
      "Fizz\n",
      "Buzz\n",
      "26\n",
      "Fizz\n",
      "28\n",
      "29\n",
      "FizzBuzz\n",
      "31\n",
      "32\n",
      "Fizz\n",
      "34\n",
      "Buzz\n",
      "Fizz\n",
      "37\n",
      "38\n",
      "Fizz\n",
      "Buzz\n",
      "41\n",
      "Fizz\n",
      "43\n",
      "44\n",
      "FizzBuzz\n",
      "46\n",
      "47\n",
      "Fizz\n",
      "49\n",
      "Buzz\n",
      "Fizz\n",
      "52\n",
      "53\n",
      "Fizz\n",
      "Buzz\n",
      "56\n",
      "Fizz\n",
      "58\n",
      "59\n",
      "FizzBuzz\n",
      "61\n",
      "62\n",
      "Fizz\n",
      "64\n",
      "Buzz\n",
      "Fizz\n",
      "67\n",
      "68\n",
      "Fizz\n",
      "Buzz\n",
      "71\n",
      "Fizz\n",
      "73\n",
      "74\n",
      "FizzBuzz\n",
      "76\n",
      "77\n",
      "Fizz\n",
      "79\n",
      "Buzz\n",
      "Fizz\n",
      "82\n",
      "83\n",
      "Fizz\n",
      "Buzz\n",
      "86\n",
      "Fizz\n",
      "88\n",
      "89\n",
      "FizzBuzz\n",
      "91\n",
      "92\n",
      "Fizz\n",
      "94\n",
      "Buzz\n",
      "Fizz\n",
      "97\n",
      "98\n",
      "Fizz\n"
     ]
    }
   ],
   "source": [
    "for i in range(1,100,1):\n",
    "    #print(i)\n",
    "    if i%3==0 and i%5==0:\n",
    "        print(\"FizzBuzz\" )\n",
    "    elif i%3==0:\n",
    "        print(\"Fizz\")\n",
    "    elif i%5==0:\n",
    "        print(\"Buzz\")\n",
    "    else:\n",
    "        print(i)"
   ]
  },
  {
   "cell_type": "code",
   "execution_count": 15,
   "metadata": {},
   "outputs": [],
   "source": [
    "import random"
   ]
  },
  {
   "cell_type": "code",
   "execution_count": 16,
   "metadata": {},
   "outputs": [
    {
     "name": "stdout",
     "output_type": "stream",
     "text": [
      "0.5714025946899135\n"
     ]
    }
   ],
   "source": [
    "random.seed(10)\n",
    "print(random.random())"
   ]
  },
  {
   "cell_type": "code",
   "execution_count": 19,
   "metadata": {},
   "outputs": [
    {
     "name": "stdout",
     "output_type": "stream",
     "text": [
      "0.13436424411240122\n"
     ]
    }
   ],
   "source": [
    "random.seed(1)\n",
    "print(random.random())"
   ]
  },
  {
   "cell_type": "code",
   "execution_count": 43,
   "metadata": {},
   "outputs": [],
   "source": [
    "x = dict(name = \"John\", age = 36, country = \"Norway\")"
   ]
  },
  {
   "cell_type": "code",
   "execution_count": 46,
   "metadata": {},
   "outputs": [],
   "source": [
    "x['name']=1"
   ]
  },
  {
   "cell_type": "code",
   "execution_count": 50,
   "metadata": {},
   "outputs": [],
   "source": [
    "r = 'francisisgoodboy'"
   ]
  },
  {
   "cell_type": "code",
   "execution_count": 51,
   "metadata": {},
   "outputs": [],
   "source": [
    "lst = []\n",
    "for i in range(len(r)):\n",
    "    lst.append(r[i])\n"
   ]
  },
  {
   "cell_type": "code",
   "execution_count": 75,
   "metadata": {},
   "outputs": [],
   "source": [
    "def solution(x):\n",
    "    rt =''\n",
    "    for i in range(len(x)):\n",
    "        if i%2 !=0:\n",
    "            rt +=str(i)+'-'+str(x[i])+' '\n",
    "    return rt\n",
    "            \n",
    "            "
   ]
  },
  {
   "cell_type": "code",
   "execution_count": 77,
   "metadata": {},
   "outputs": [
    {
     "data": {
      "text/plain": [
       "'1--1 3--2 '"
      ]
     },
     "execution_count": 77,
     "metadata": {},
     "output_type": "execute_result"
    }
   ],
   "source": [
    "solution([1,-1,2,-2])  "
   ]
  },
  {
   "cell_type": "code",
   "execution_count": 94,
   "metadata": {},
   "outputs": [],
   "source": [
    "def cumsum(x):\n",
    "    temp=0\n",
    "    appnd =[]\n",
    "    for i in range(len(x)):\n",
    "        temp +=x[i]\n",
    "        appnd.append(temp)\n",
    "    return appnd\n"
   ]
  },
  {
   "cell_type": "code",
   "execution_count": 126,
   "metadata": {},
   "outputs": [],
   "source": [
    "def digitslist(x):\n",
    "    appnd =[]\n",
    "    for i in str(x) :\n",
    "        appnd.append(int(i))\n",
    "    return appnd"
   ]
  },
  {
   "cell_type": "code",
   "execution_count": 128,
   "metadata": {},
   "outputs": [
    {
     "data": {
      "text/plain": [
       "[4, 0, 0]"
      ]
     },
     "execution_count": 128,
     "metadata": {},
     "output_type": "execute_result"
    }
   ],
   "source": [
    "digitslist(400)"
   ]
  },
  {
   "cell_type": "code",
   "execution_count": 120,
   "metadata": {},
   "outputs": [
    {
     "name": "stdout",
     "output_type": "stream",
     "text": [
      "1\n",
      "2\n",
      "3\n"
     ]
    }
   ],
   "source": [
    "for i in str(123) :\n",
    "    print(i)"
   ]
  },
  {
   "cell_type": "code",
   "execution_count": 139,
   "metadata": {},
   "outputs": [
    {
     "data": {
      "text/plain": [
       "5.2"
      ]
     },
     "execution_count": 139,
     "metadata": {},
     "output_type": "execute_result"
    }
   ],
   "source": []
  },
  {
   "cell_type": "code",
   "execution_count": 3,
   "metadata": {},
   "outputs": [
    {
     "data": {
      "text/plain": [
       "3"
      ]
     },
     "execution_count": 3,
     "metadata": {},
     "output_type": "execute_result"
    }
   ],
   "source": [
    "['b','a','c','a','b','e','a','f'].index("
   ]
  },
  {
   "cell_type": "code",
   "execution_count": 31,
   "metadata": {},
   "outputs": [
    {
     "data": {
      "text/plain": [
       "'a'"
      ]
     },
     "execution_count": 31,
     "metadata": {},
     "output_type": "execute_result"
    }
   ],
   "source": [
    "x = ['b','a','c','a','b','e','a','f']\n",
    "cnt = []\n",
    "for i in range(len(x)):\n",
    "    cnt.append(str(x.count(x[i])))\n",
    "x[cnt.index(max(cnt))]"
   ]
  },
  {
   "cell_type": "code",
   "execution_count": 29,
   "metadata": {},
   "outputs": [
    {
     "data": {
      "text/plain": [
       "'3'"
      ]
     },
     "execution_count": 29,
     "metadata": {},
     "output_type": "execute_result"
    }
   ],
   "source": [
    "max(cnt)"
   ]
  },
  {
   "cell_type": "code",
   "execution_count": 30,
   "metadata": {},
   "outputs": [
    {
     "data": {
      "text/plain": [
       "1"
      ]
     },
     "execution_count": 30,
     "metadata": {},
     "output_type": "execute_result"
    }
   ],
   "source": [
    "cnt.index('3')"
   ]
  },
  {
   "cell_type": "code",
   "execution_count": null,
   "metadata": {},
   "outputs": [],
   "source": []
  }
 ],
 "metadata": {
  "kernelspec": {
   "display_name": "Python 3 (ipykernel)",
   "language": "python",
   "name": "python3"
  },
  "language_info": {
   "codemirror_mode": {
    "name": "ipython",
    "version": 3
   },
   "file_extension": ".py",
   "mimetype": "text/x-python",
   "name": "python",
   "nbconvert_exporter": "python",
   "pygments_lexer": "ipython3",
   "version": "3.9.7"
  }
 },
 "nbformat": 4,
 "nbformat_minor": 2
}
