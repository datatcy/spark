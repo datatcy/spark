{
 "cells": [
  {
   "cell_type": "code",
   "execution_count": 1,
   "id": "955c5308",
   "metadata": {},
   "outputs": [
    {
     "name": "stderr",
     "output_type": "stream",
     "text": [
      "24/11/23 00:12:57 WARN NativeCodeLoader: Unable to load native-hadoop library for your platform... using builtin-java classes where applicable\n",
      "Using Spark's default log4j profile: org/apache/spark/log4j-defaults.properties\n",
      "Setting default log level to \"WARN\".\n",
      "To adjust logging level use sc.setLogLevel(newLevel). For SparkR, use setLogLevel(newLevel).\n",
      "24/11/23 00:12:58 WARN Utils: Service 'SparkUI' could not bind on port 4040. Attempting port 4041.\n",
      "24/11/23 00:12:58 WARN Utils: Service 'SparkUI' could not bind on port 4041. Attempting port 4042.\n",
      "24/11/23 00:12:58 WARN Utils: Service 'SparkUI' could not bind on port 4042. Attempting port 4043.\n",
      "24/11/23 00:12:58 WARN Utils: Service 'SparkUI' could not bind on port 4043. Attempting port 4044.\n"
     ]
    }
   ],
   "source": [
    "from pyspark.sql import SparkSession\n",
    "spark = SparkSession.builder.appName('basic').getOrCreate()"
   ]
  },
  {
   "cell_type": "code",
   "execution_count": 2,
   "id": "abd45abd",
   "metadata": {},
   "outputs": [],
   "source": [
    "from pyspark.sql.types import StructType, StructField, IntegerType, StringType, FloatType\n",
    "from pyspark.sql.functions import col, current_timestamp"
   ]
  },
  {
   "cell_type": "code",
   "execution_count": 3,
   "id": "c702a18b",
   "metadata": {},
   "outputs": [],
   "source": [
    "results_schema = StructType([\n",
    "                        StructField('resultId', IntegerType()),\n",
    "                        StructField('raceId', IntegerType()),\n",
    "                        StructField('driverId', IntegerType()),\n",
    "                        StructField('constructorId', IntegerType()),\n",
    "                        StructField('number', IntegerType()),\n",
    "                        StructField('grid', IntegerType()),\n",
    "                        StructField('position', IntegerType()),\n",
    "                        StructField('positionText', StringType()),\n",
    "                        StructField('positionOrder', IntegerType()),\n",
    "                        StructField('points', FloatType()),\n",
    "                        StructField('laps', IntegerType()),\n",
    "                        StructField('time', StringType()),\n",
    "                        StructField('milliseconds', IntegerType()),\n",
    "                        StructField('fastestLap',IntegerType()),\n",
    "                        StructField('rank',IntegerType()),\n",
    "                        StructField('fastestLapTime',StringType()),\n",
    "                        StructField('fastestLapSpeed', FloatType()),\n",
    "                        StructField('statusId',StringType())\n",
    "                            ])"
   ]
  },
  {
   "cell_type": "code",
   "execution_count": 4,
   "id": "c2c8c616",
   "metadata": {},
   "outputs": [],
   "source": [
    "results_df= spark.read.schema(results_schema).format('json').load('source/results.json').drop('statusId')\n"
   ]
  },
  {
   "cell_type": "code",
   "execution_count": 17,
   "id": "66ee4084",
   "metadata": {},
   "outputs": [],
   "source": [
    "results_withrenamed_df = results_df.withColumnRenamed('resultId','result_id')\\\n",
    "                            .withColumnRenamed('raceId','race_id')\\\n",
    "                            .withColumnRenamed('driverId','driver_id')\\\n",
    "                            .withColumnRenamed('constructorId','constructor_id')\\\n",
    "                            .withColumnRenamed('positionText','position_text')\\\n",
    "                            .withColumnRenamed('positionOrder','position_order')\\\n",
    "                            .withColumnRenamed('fastestLap','fastest_lap')\\\n",
    "                            .withColumnRenamed('rank','ranks')\\\n",
    "                            .withColumnRenamed('fastestLapTime','fastest_lap_time')\\\n",
    "                            .withColumnRenamed('fastestLapSpeed','fastest_lap_speed')\\\n",
    "                            .withColumn('ingestion_date', current_timestamp())"
   ]
  },
  {
   "cell_type": "code",
   "execution_count": 18,
   "id": "93c3afc9",
   "metadata": {},
   "outputs": [
    {
     "name": "stderr",
     "output_type": "stream",
     "text": [
      "                                                                                \r"
     ]
    }
   ],
   "source": [
    "results_withrenamed_df.write.partitionBy('race_id').option('header',True).mode('overwrite').format('csv').save('tbls/results')\n"
   ]
  },
  {
   "cell_type": "code",
   "execution_count": 24,
   "id": "6239ef64",
   "metadata": {},
   "outputs": [
    {
     "name": "stderr",
     "output_type": "stream",
     "text": [
      "                                                                                \r"
     ]
    }
   ],
   "source": [
    "results_withrenamed_df.coalesce(1).write.option('header',True).mode('overwrite').format('csv').save('tbls/result')\n"
   ]
  },
  {
   "cell_type": "code",
   "execution_count": 5,
   "id": "a5f4c65c",
   "metadata": {},
   "outputs": [
    {
     "name": "stderr",
     "output_type": "stream",
     "text": [
      "\r",
      "[Stage 1:>                                                          (0 + 1) / 1]\r",
      "\r",
      "                                                                                \r"
     ]
    }
   ],
   "source": [
    "df = spark.read.option('header',True).option('inferSchema',True).csv('tbls/result/result.csv')\n"
   ]
  },
  {
   "cell_type": "code",
   "execution_count": 16,
   "id": "2e791914",
   "metadata": {},
   "outputs": [
    {
     "name": "stdout",
     "output_type": "stream",
     "text": [
      "8\n"
     ]
    }
   ],
   "source": [
    "outs = []\n",
    "for i in df.select('fastest_lap_time').collect():\n",
    "    outs.append(len(i[0]))\n",
    "print(max(outs))"
   ]
  },
  {
   "cell_type": "code",
   "execution_count": 21,
   "id": "59fdd3a6",
   "metadata": {},
   "outputs": [
    {
     "name": "stdout",
     "output_type": "stream",
     "text": [
      "root\n",
      " |-- result_id: integer (nullable = true)\n",
      " |-- race_id: integer (nullable = true)\n",
      " |-- driver_id: integer (nullable = true)\n",
      " |-- constructor_id: integer (nullable = true)\n",
      " |-- number: integer (nullable = true)\n",
      " |-- grid: integer (nullable = true)\n",
      " |-- position: integer (nullable = true)\n",
      " |-- position_text: string (nullable = true)\n",
      " |-- position_order: integer (nullable = true)\n",
      " |-- points: double (nullable = true)\n",
      " |-- laps: integer (nullable = true)\n",
      " |-- time: string (nullable = true)\n",
      " |-- milliseconds: integer (nullable = true)\n",
      " |-- fastest_lap: integer (nullable = true)\n",
      " |-- ranks: integer (nullable = true)\n",
      " |-- fastest_lap_time: string (nullable = true)\n",
      " |-- fastest_lap_speed: double (nullable = true)\n",
      " |-- ingestion_date: timestamp (nullable = true)\n",
      "\n"
     ]
    }
   ],
   "source": [
    "df.printSchema()"
   ]
  },
  {
   "cell_type": "code",
   "execution_count": null,
   "id": "f8661f7d",
   "metadata": {},
   "outputs": [],
   "source": []
  }
 ],
 "metadata": {
  "kernelspec": {
   "display_name": "Python 3 (ipykernel)",
   "language": "python",
   "name": "python3"
  },
  "language_info": {
   "codemirror_mode": {
    "name": "ipython",
    "version": 3
   },
   "file_extension": ".py",
   "mimetype": "text/x-python",
   "name": "python",
   "nbconvert_exporter": "python",
   "pygments_lexer": "ipython3",
   "version": "3.9.7"
  }
 },
 "nbformat": 4,
 "nbformat_minor": 5
}
