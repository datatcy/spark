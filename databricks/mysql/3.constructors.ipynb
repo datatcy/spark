{
 "cells": [
  {
   "cell_type": "code",
   "execution_count": 1,
   "id": "76a7c0a7",
   "metadata": {},
   "outputs": [
    {
     "name": "stderr",
     "output_type": "stream",
     "text": [
      "24/11/23 00:07:26 WARN NativeCodeLoader: Unable to load native-hadoop library for your platform... using builtin-java classes where applicable\n",
      "Using Spark's default log4j profile: org/apache/spark/log4j-defaults.properties\n",
      "Setting default log level to \"WARN\".\n",
      "To adjust logging level use sc.setLogLevel(newLevel). For SparkR, use setLogLevel(newLevel).\n",
      "24/11/23 00:07:27 WARN Utils: Service 'SparkUI' could not bind on port 4040. Attempting port 4041.\n",
      "24/11/23 00:07:27 WARN Utils: Service 'SparkUI' could not bind on port 4041. Attempting port 4042.\n"
     ]
    }
   ],
   "source": [
    "from pyspark.sql import SparkSession\n",
    "spark = SparkSession.builder.appName('basic').getOrCreate()"
   ]
  },
  {
   "cell_type": "code",
   "execution_count": 2,
   "id": "ee1f5829",
   "metadata": {},
   "outputs": [],
   "source": [
    "from pyspark.sql.functions import current_timestamp,col"
   ]
  },
  {
   "cell_type": "code",
   "execution_count": 3,
   "id": "35535c4a",
   "metadata": {},
   "outputs": [],
   "source": [
    "constructors_schema =  'constructorId INT,constructorRef STRING,name STRING, nationality STRING, url STRING'"
   ]
  },
  {
   "cell_type": "code",
   "execution_count": 6,
   "id": "9690e640",
   "metadata": {},
   "outputs": [],
   "source": [
    "constructors_df = spark.read.schema(constructors_schema).format('json').load('source/constructors.json').drop('url')\n"
   ]
  },
  {
   "cell_type": "code",
   "execution_count": 7,
   "id": "1fec9e3b",
   "metadata": {},
   "outputs": [],
   "source": [
    "constructors_withcolumnrenamed = constructors_df.withColumnRenamed('constructorId','constructor_id')\\\n",
    "    .withColumnRenamed('constructorRef','constructor_ref')\\\n",
    "    .withColumn('ingestion_date',current_timestamp())"
   ]
  },
  {
   "cell_type": "code",
   "execution_count": 12,
   "id": "42fe74a4",
   "metadata": {},
   "outputs": [],
   "source": [
    "constructors_withcolumnrenamed.write.option('header',True).mode('overwrite').format('csv').save('tbls/constructors/')\n"
   ]
  },
  {
   "cell_type": "code",
   "execution_count": 7,
   "id": "672939ff",
   "metadata": {},
   "outputs": [
    {
     "name": "stderr",
     "output_type": "stream",
     "text": [
      "\r",
      "[Stage 0:>                                                          (0 + 1) / 1]\r",
      "\r",
      "                                                                                \r"
     ]
    }
   ],
   "source": [
    "df = spark.read.option('header',True).option('inferSchema',True).format('csv').load('tbls/constructors/constructors.csv')\n"
   ]
  },
  {
   "cell_type": "code",
   "execution_count": null,
   "id": "042dea11",
   "metadata": {},
   "outputs": [],
   "source": []
  },
  {
   "cell_type": "code",
   "execution_count": 18,
   "id": "7ec46320",
   "metadata": {},
   "outputs": [
    {
     "name": "stdout",
     "output_type": "stream",
     "text": [
      "13\n"
     ]
    }
   ],
   "source": [
    "outs = []\n",
    "for i in df.select('nationality').collect():\n",
    "    outs.append(len(i[0]))\n",
    "print(max(outs))"
   ]
  },
  {
   "cell_type": "code",
   "execution_count": null,
   "id": "875fd962",
   "metadata": {},
   "outputs": [],
   "source": []
  }
 ],
 "metadata": {
  "kernelspec": {
   "display_name": "Python 3 (ipykernel)",
   "language": "python",
   "name": "python3"
  },
  "language_info": {
   "codemirror_mode": {
    "name": "ipython",
    "version": 3
   },
   "file_extension": ".py",
   "mimetype": "text/x-python",
   "name": "python",
   "nbconvert_exporter": "python",
   "pygments_lexer": "ipython3",
   "version": "3.9.7"
  }
 },
 "nbformat": 4,
 "nbformat_minor": 5
}
