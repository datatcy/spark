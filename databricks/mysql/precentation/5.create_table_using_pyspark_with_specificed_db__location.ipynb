{
 "cells": [
  {
   "cell_type": "code",
   "execution_count": 1,
   "id": "92b69310",
   "metadata": {},
   "outputs": [
    {
     "name": "stderr",
     "output_type": "stream",
     "text": [
      "24/11/23 00:37:57 WARN Utils: Your hostname, Franciss-MacBook-Pro.local resolves to a loopback address: 127.0.0.1; using 192.168.4.40 instead (on interface en0)\n",
      "24/11/23 00:37:57 WARN Utils: Set SPARK_LOCAL_IP if you need to bind to another address\n",
      "24/11/23 00:37:58 WARN NativeCodeLoader: Unable to load native-hadoop library for your platform... using builtin-java classes where applicable\n",
      "Using Spark's default log4j profile: org/apache/spark/log4j-defaults.properties\n",
      "Setting default log level to \"WARN\".\n",
      "To adjust logging level use sc.setLogLevel(newLevel). For SparkR, use setLogLevel(newLevel).\n",
      "24/11/23 00:37:59 WARN Utils: Service 'SparkUI' could not bind on port 4040. Attempting port 4041.\n",
      "24/11/23 00:37:59 WARN Utils: Service 'SparkUI' could not bind on port 4041. Attempting port 4042.\n",
      "24/11/23 00:37:59 WARN Utils: Service 'SparkUI' could not bind on port 4042. Attempting port 4043.\n",
      "24/11/23 00:37:59 WARN Utils: Service 'SparkUI' could not bind on port 4043. Attempting port 4044.\n",
      "24/11/23 00:37:59 WARN Utils: Service 'SparkUI' could not bind on port 4044. Attempting port 4045.\n",
      "24/11/23 00:37:59 WARN Utils: Service 'SparkUI' could not bind on port 4045. Attempting port 4046.\n"
     ]
    }
   ],
   "source": [
    "from pyspark.sql import SparkSession\n",
    "spark = SparkSession.builder.appName('basic').getOrCreate()"
   ]
  },
  {
   "cell_type": "code",
   "execution_count": 3,
   "id": "919ac15e",
   "metadata": {},
   "outputs": [],
   "source": [
    "spark = SparkSession.builder \\\n",
    "    .appName(\"PullDataFromNonDefaultDB\") \\\n",
    "    .config(\"spark.sql.warehouse.dir\", \"../presentation\")\\\n",
    "    .enableHiveSupport() \\\n",
    "    .getOrCreate()"
   ]
  },
  {
   "cell_type": "code",
   "execution_count": 6,
   "id": "7270e89e",
   "metadata": {},
   "outputs": [
    {
     "name": "stdout",
     "output_type": "stream",
     "text": [
      "+----------+\n",
      "| namespace|\n",
      "+----------+\n",
      "|   default|\n",
      "|prossed_db|\n",
      "+----------+\n",
      "\n"
     ]
    }
   ],
   "source": [
    "spark.sql(' databases').show()"
   ]
  },
  {
   "cell_type": "code",
   "execution_count": 7,
   "id": "7260c708",
   "metadata": {},
   "outputs": [
    {
     "data": {
      "text/plain": [
       "DataFrame[]"
      ]
     },
     "execution_count": 7,
     "metadata": {},
     "output_type": "execute_result"
    }
   ],
   "source": [
    "spark.sql('use prossed_db')"
   ]
  },
  {
   "cell_type": "code",
   "execution_count": 8,
   "id": "5bc7b33c",
   "metadata": {},
   "outputs": [
    {
     "name": "stdout",
     "output_type": "stream",
     "text": [
      "+--------+---------+-----------+\n",
      "|database|tableName|isTemporary|\n",
      "+--------+---------+-----------+\n",
      "+--------+---------+-----------+\n",
      "\n"
     ]
    }
   ],
   "source": [
    "spark.sql('show tables').show()"
   ]
  },
  {
   "cell_type": "code",
   "execution_count": null,
   "id": "d937f7ea",
   "metadata": {},
   "outputs": [],
   "source": [
    "database_location = '../tbls/processed/db'\n"
   ]
  },
  {
   "cell_type": "code",
   "execution_count": 5,
   "id": "3291cc69",
   "metadata": {},
   "outputs": [
    {
     "data": {
      "text/plain": [
       "DataFrame[]"
      ]
     },
     "execution_count": 5,
     "metadata": {},
     "output_type": "execute_result"
    }
   ],
   "source": [
    "spark.sql(\"CREATE DATABASE IF NOT EXISTS prossed_db LOCATION '../tbls/processed/db' \")\n"
   ]
  },
  {
   "cell_type": "markdown",
   "id": "a8393e9e",
   "metadata": {},
   "source": [
    "#### 1 Circuit table"
   ]
  },
  {
   "cell_type": "code",
   "execution_count": 5,
   "id": "10616924",
   "metadata": {},
   "outputs": [],
   "source": [
    "circuit_processed_df = out = spark.read.option('header',True).option('inferSchema',True).csv('../tbls/circuits/circuits.csv')\n"
   ]
  },
  {
   "cell_type": "code",
   "execution_count": 30,
   "id": "6ce477eb",
   "metadata": {},
   "outputs": [
    {
     "name": "stderr",
     "output_type": "stream",
     "text": [
      "                                                                                \r"
     ]
    }
   ],
   "source": [
    "circuit_processed_df.write.mode('overwrite').format('parquet').saveAsTable('prossed_db.circuits')"
   ]
  },
  {
   "cell_type": "code",
   "execution_count": null,
   "id": "7da5c3ad",
   "metadata": {},
   "outputs": [],
   "source": [
    "spark.sql('select * from prossed_db.circuits').show()"
   ]
  },
  {
   "cell_type": "markdown",
   "id": "b309f19a",
   "metadata": {},
   "source": [
    "#### 2 Race table"
   ]
  },
  {
   "cell_type": "code",
   "execution_count": 4,
   "id": "7bf16ae0",
   "metadata": {},
   "outputs": [],
   "source": [
    "result_processed_df = out = spark.read.option('header',True).option('inferSchema',True).csv('../tbls/result/result.csv')\n"
   ]
  },
  {
   "cell_type": "code",
   "execution_count": 20,
   "id": "39d4c6a4",
   "metadata": {},
   "outputs": [],
   "source": [
    "result_processed_df.write.mode('overwrite').format('parquet').saveAsTable('prossed_db.results')"
   ]
  },
  {
   "cell_type": "code",
   "execution_count": null,
   "id": "6f88255c",
   "metadata": {},
   "outputs": [],
   "source": [
    "spark.sql('select * from prossed_db.results').show()"
   ]
  },
  {
   "cell_type": "markdown",
   "id": "de798067",
   "metadata": {},
   "source": [
    "#### 3 Constructors table"
   ]
  },
  {
   "cell_type": "code",
   "execution_count": 6,
   "id": "d954d234",
   "metadata": {},
   "outputs": [],
   "source": [
    "constructors_processed_df = out = spark.read.option('header',True).option('inferSchema',True).csv('../tbls/constructors/constructors.csv')\n"
   ]
  },
  {
   "cell_type": "code",
   "execution_count": 25,
   "id": "614cc184",
   "metadata": {},
   "outputs": [],
   "source": [
    "constructors_processed_df.write.mode('overwrite').format('parquet').saveAsTable('prossed_db.constructors')"
   ]
  },
  {
   "cell_type": "code",
   "execution_count": null,
   "id": "5f305d5e",
   "metadata": {},
   "outputs": [],
   "source": [
    "spark.sql('select * from prossed_db.constructors').show()"
   ]
  },
  {
   "cell_type": "markdown",
   "id": "22764013",
   "metadata": {},
   "source": [
    "#### 4 Drivers table"
   ]
  },
  {
   "cell_type": "code",
   "execution_count": 9,
   "id": "92cf8f4e",
   "metadata": {},
   "outputs": [],
   "source": [
    "drivers_processed_df = out = spark.read.option('header',True).option('inferSchema',True).csv('../tbls/drivers/drivers.csv')\n"
   ]
  },
  {
   "cell_type": "code",
   "execution_count": 30,
   "id": "56c616b8",
   "metadata": {},
   "outputs": [],
   "source": [
    "drivers_processed_df.write.mode('overwrite').format('parquet').saveAsTable('prossed_db.drivers')"
   ]
  },
  {
   "cell_type": "code",
   "execution_count": null,
   "id": "dd0ec798",
   "metadata": {},
   "outputs": [],
   "source": [
    "spark.sql('select * from prossed_db.drivers').show()"
   ]
  },
  {
   "cell_type": "markdown",
   "id": "38e941dc",
   "metadata": {},
   "source": [
    "#### 5 Results table"
   ]
  },
  {
   "cell_type": "code",
   "execution_count": 8,
   "id": "d7bb5572",
   "metadata": {},
   "outputs": [],
   "source": [
    "results_processed_df = out = spark.read.option('header',True).option('inferSchema',True).csv('../tbls/result/result.csv')\n"
   ]
  },
  {
   "cell_type": "code",
   "execution_count": 34,
   "id": "cca85d4c",
   "metadata": {},
   "outputs": [],
   "source": [
    "results_processed_df.write.mode('overwrite').format('parquet').saveAsTable('prossed_db.results')"
   ]
  },
  {
   "cell_type": "code",
   "execution_count": null,
   "id": "11adcbbd",
   "metadata": {},
   "outputs": [],
   "source": [
    "spark.sql('select * from prossed_db.results').show()"
   ]
  },
  {
   "cell_type": "markdown",
   "id": "5cbefe61",
   "metadata": {},
   "source": [
    "#### 6 PitStops table"
   ]
  },
  {
   "cell_type": "code",
   "execution_count": 10,
   "id": "129b2cb3",
   "metadata": {},
   "outputs": [],
   "source": [
    "pitstops_processed_df = out = spark.read.option('header',True).option('inferSchema',True).csv('../tbls/pitstops/pitstops.csv')\n"
   ]
  },
  {
   "cell_type": "code",
   "execution_count": 37,
   "id": "5eee3b98",
   "metadata": {},
   "outputs": [],
   "source": [
    "pitstops_processed_df.write.mode('overwrite').format('parquet').saveAsTable('prossed_db.pitstops')"
   ]
  },
  {
   "cell_type": "code",
   "execution_count": null,
   "id": "72c8faca",
   "metadata": {},
   "outputs": [],
   "source": [
    "spark.sql('select * from prossed_db.pitstops').show()"
   ]
  },
  {
   "cell_type": "markdown",
   "id": "1d609dc8",
   "metadata": {},
   "source": [
    "#### 7 LapTimes table"
   ]
  },
  {
   "cell_type": "code",
   "execution_count": 11,
   "id": "938a7dd9",
   "metadata": {},
   "outputs": [
    {
     "name": "stderr",
     "output_type": "stream",
     "text": [
      "                                                                                \r"
     ]
    }
   ],
   "source": [
    "laptimes_processed_df = out = spark.read.option('header',True).option('inferSchema',True).csv('../tbls/laptimes/laptimes.csv')\n"
   ]
  },
  {
   "cell_type": "code",
   "execution_count": 40,
   "id": "f2d114db",
   "metadata": {},
   "outputs": [
    {
     "name": "stderr",
     "output_type": "stream",
     "text": [
      "                                                                                \r"
     ]
    }
   ],
   "source": [
    "laptimes_processed_df.write.mode('overwrite').format('parquet').saveAsTable('prossed_db.laptimes')"
   ]
  },
  {
   "cell_type": "code",
   "execution_count": null,
   "id": "08228ec8",
   "metadata": {},
   "outputs": [],
   "source": [
    "spark.sql('select * from prossed_db.laptimes').show()"
   ]
  },
  {
   "cell_type": "markdown",
   "id": "73f9ccff",
   "metadata": {},
   "source": [
    "#### 8 Qualifying table"
   ]
  },
  {
   "cell_type": "code",
   "execution_count": 12,
   "id": "4b96dae7",
   "metadata": {},
   "outputs": [],
   "source": [
    "qualifying_processed_df = out = spark.read.option('header',True).option('inferSchema',True).csv('../tbls/qualifying/qualifying.csv')\n"
   ]
  },
  {
   "cell_type": "code",
   "execution_count": 34,
   "id": "86c35265",
   "metadata": {},
   "outputs": [],
   "source": [
    "qualifying_processed_df.write.mode('overwrite').format('parquet').saveAsTable('prossed_db.qualifying')"
   ]
  },
  {
   "cell_type": "code",
   "execution_count": null,
   "id": "f0e4363c",
   "metadata": {},
   "outputs": [],
   "source": [
    "spark.sql('select * from prossed_db.qualifying').show()"
   ]
  },
  {
   "cell_type": "code",
   "execution_count": null,
   "id": "918a55ea",
   "metadata": {},
   "outputs": [],
   "source": []
  }
 ],
 "metadata": {
  "kernelspec": {
   "display_name": "Python 3 (ipykernel)",
   "language": "python",
   "name": "python3"
  },
  "language_info": {
   "codemirror_mode": {
    "name": "ipython",
    "version": 3
   },
   "file_extension": ".py",
   "mimetype": "text/x-python",
   "name": "python",
   "nbconvert_exporter": "python",
   "pygments_lexer": "ipython3",
   "version": "3.9.7"
  }
 },
 "nbformat": 4,
 "nbformat_minor": 5
}
