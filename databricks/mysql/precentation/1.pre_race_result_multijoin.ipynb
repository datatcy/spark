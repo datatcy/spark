{
 "cells": [
  {
   "cell_type": "code",
   "execution_count": 1,
   "id": "bad4acd3",
   "metadata": {},
   "outputs": [
    {
     "name": "stderr",
     "output_type": "stream",
     "text": [
      "24/11/23 00:23:11 WARN NativeCodeLoader: Unable to load native-hadoop library for your platform... using builtin-java classes where applicable\n",
      "Using Spark's default log4j profile: org/apache/spark/log4j-defaults.properties\n",
      "Setting default log level to \"WARN\".\n",
      "To adjust logging level use sc.setLogLevel(newLevel). For SparkR, use setLogLevel(newLevel).\n"
     ]
    }
   ],
   "source": [
    "from pyspark.sql import SparkSession\n",
    "spark = SparkSession.builder.appName('basic').getOrCreate()"
   ]
  },
  {
   "cell_type": "code",
   "execution_count": 2,
   "id": "cbda5c30",
   "metadata": {},
   "outputs": [],
   "source": [
    "from pyspark.sql.functions import col,current_timestamp"
   ]
  },
  {
   "cell_type": "code",
   "execution_count": 4,
   "id": "5424edb5",
   "metadata": {},
   "outputs": [],
   "source": [
    "\n",
    "races_df = spark.read.option('header',True).option('inferSchema',True).format('csv').load('../tbls/race/race.csv')\\\n",
    "    .filter('race_year = 2020 and name = \"Abu Dhabi Grand Prix\"')\\\n",
    "    .withColumnRenamed('name', 'race_name')\\\n",
    "    .withColumnRenamed('race_timestamp', 'race_date')\\\n",
    "    .select('circuiit_id','race_id',col('race_year'),col('race_name'),col('race_date'))\n"
   ]
  },
  {
   "cell_type": "code",
   "execution_count": 5,
   "id": "7862abde",
   "metadata": {},
   "outputs": [],
   "source": [
    "circuits_df =spark.read.option('header',True).option('inferSchema',True).format('csv').load('../tbls/circuits/circuits.csv')\\\n",
    "    .select('circuit_id',col('location').alias('circuit_location'))"
   ]
  },
  {
   "cell_type": "code",
   "execution_count": 6,
   "id": "a727f4f2",
   "metadata": {},
   "outputs": [],
   "source": [
    "drivers_df = spark.read.option('header',True).option('inferSchema',True).format('csv').load('../tbls/drivers/drivers.csv')\\\n",
    "    .withColumnRenamed('name','driver_name')\\\n",
    "    .withColumnRenamed('number','driver_number')\\\n",
    "    .withColumnRenamed('nationality','driver_nationality')\\\n",
    "    .select('driver_id','driver_name','driver_number','driver_nationality')"
   ]
  },
  {
   "cell_type": "code",
   "execution_count": 7,
   "id": "60c9b48f",
   "metadata": {},
   "outputs": [],
   "source": [
    "constructors_df = spark.read.option('header',True).option('inferSchema',True).format('csv').load('../tbls/constructors/constructors.csv')\\\n",
    "    .select('constructor_id',col('name').alias('team'))"
   ]
  },
  {
   "cell_type": "code",
   "execution_count": 8,
   "id": "6f5f186a",
   "metadata": {},
   "outputs": [],
   "source": [
    "results_df = spark.read.option('header',True).option('inferSchema',True).format('csv').load('../tbls/result/result.csv')\\\n",
    "    .select('race_id','result_id','driver_id','constructor_id','grid','fastest_lap',col('time').alias('race_time'),'points')"
   ]
  },
  {
   "cell_type": "code",
   "execution_count": 13,
   "id": "d195d3b4",
   "metadata": {},
   "outputs": [],
   "source": [
    "race_join = circuits_df.join(races_df, circuits_df.circuit_id == races_df.circuiit_id, 'inner')\\\n",
    "    .join(results_df,races_df.race_id == results_df.race_id,'inner')\\\n",
    "    .join(drivers_df,drivers_df.driver_id == results_df.driver_id, 'inner')\\\n",
    "    .join(constructors_df,constructors_df.constructor_id == results_df.constructor_id,'inner')"
   ]
  },
  {
   "cell_type": "code",
   "execution_count": 25,
   "id": "87c73a23",
   "metadata": {},
   "outputs": [],
   "source": [
    "race_result = race_join .select('race_year','race_name','race_date','circuit_location','driver_name','driver_number','driver_nationality','team','grid','fastest_lap','race_time','points').withColumn('ingested_date',current_timestamp()).orderBy(race_join.points.desc())\n"
   ]
  },
  {
   "cell_type": "code",
   "execution_count": 26,
   "id": "7b63fd72",
   "metadata": {},
   "outputs": [],
   "source": [
    "race_result.write.option('header',True).mode('overwrite').format('csv').save('../tbls/presentation/race_result')\n"
   ]
  },
  {
   "cell_type": "code",
   "execution_count": 9,
   "id": "421df499",
   "metadata": {},
   "outputs": [],
   "source": [
    "df = spark.read.option('header',True).option('inferSchema',True).format('csv').load('../tbls/presentation/race_result')"
   ]
  },
  {
   "cell_type": "code",
   "execution_count": 28,
   "id": "ff4769ca",
   "metadata": {},
   "outputs": [
    {
     "name": "stdout",
     "output_type": "stream",
     "text": [
      "root\n",
      " |-- race_year: integer (nullable = true)\n",
      " |-- race_name: string (nullable = true)\n",
      " |-- race_date: timestamp (nullable = true)\n",
      " |-- circuit_location: string (nullable = true)\n",
      " |-- driver_name: string (nullable = true)\n",
      " |-- driver_number: integer (nullable = true)\n",
      " |-- driver_nationality: string (nullable = true)\n",
      " |-- team: string (nullable = true)\n",
      " |-- grid: integer (nullable = true)\n",
      " |-- fastest_lap: integer (nullable = true)\n",
      " |-- race_time: string (nullable = true)\n",
      " |-- points: double (nullable = true)\n",
      " |-- ingested_date: timestamp (nullable = true)\n",
      "\n"
     ]
    }
   ],
   "source": [
    "df.printSchema()"
   ]
  },
  {
   "cell_type": "code",
   "execution_count": null,
   "id": "d77dfe37",
   "metadata": {},
   "outputs": [],
   "source": [
    "race_result.coalesce(1).write.option('header',True).mode('overwrite').format('csv').save('../tbls/presentation/race_result_co')"
   ]
  },
  {
   "cell_type": "code",
   "execution_count": null,
   "id": "441538d8",
   "metadata": {},
   "outputs": [],
   "source": []
  }
 ],
 "metadata": {
  "kernelspec": {
   "display_name": "Python 3 (ipykernel)",
   "language": "python",
   "name": "python3"
  },
  "language_info": {
   "codemirror_mode": {
    "name": "ipython",
    "version": 3
   },
   "file_extension": ".py",
   "mimetype": "text/x-python",
   "name": "python",
   "nbconvert_exporter": "python",
   "pygments_lexer": "ipython3",
   "version": "3.9.7"
  }
 },
 "nbformat": 4,
 "nbformat_minor": 5
}
