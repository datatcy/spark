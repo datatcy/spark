{
 "cells": [
  {
   "cell_type": "code",
   "execution_count": 1,
   "id": "0f8f8344",
   "metadata": {},
   "outputs": [
    {
     "name": "stderr",
     "output_type": "stream",
     "text": [
      "24/11/23 00:37:03 WARN Utils: Your hostname, Franciss-MacBook-Pro.local resolves to a loopback address: 127.0.0.1; using 192.168.4.40 instead (on interface en0)\n",
      "24/11/23 00:37:03 WARN Utils: Set SPARK_LOCAL_IP if you need to bind to another address\n",
      "24/11/23 00:37:04 WARN NativeCodeLoader: Unable to load native-hadoop library for your platform... using builtin-java classes where applicable\n",
      "Using Spark's default log4j profile: org/apache/spark/log4j-defaults.properties\n",
      "Setting default log level to \"WARN\".\n",
      "To adjust logging level use sc.setLogLevel(newLevel). For SparkR, use setLogLevel(newLevel).\n",
      "24/11/23 00:37:05 WARN Utils: Service 'SparkUI' could not bind on port 4040. Attempting port 4041.\n",
      "24/11/23 00:37:05 WARN Utils: Service 'SparkUI' could not bind on port 4041. Attempting port 4042.\n",
      "24/11/23 00:37:05 WARN Utils: Service 'SparkUI' could not bind on port 4042. Attempting port 4043.\n",
      "24/11/23 00:37:05 WARN Utils: Service 'SparkUI' could not bind on port 4043. Attempting port 4044.\n",
      "24/11/23 00:37:05 WARN Utils: Service 'SparkUI' could not bind on port 4044. Attempting port 4045.\n"
     ]
    }
   ],
   "source": [
    "from pyspark.sql import SparkSession\n",
    "spark = SparkSession.builder.appName('basic').getOrCreate()"
   ]
  },
  {
   "cell_type": "code",
   "execution_count": 2,
   "id": "a1967d57",
   "metadata": {},
   "outputs": [],
   "source": [
    "from pyspark.sql.functions import col,current_timestamp,count,countDistinct,sum,aggregate,desc,rank,when\n",
    "from pyspark.sql.window import Window"
   ]
  },
  {
   "cell_type": "code",
   "execution_count": 2,
   "id": "a516b71c",
   "metadata": {},
   "outputs": [
    {
     "name": "stderr",
     "output_type": "stream",
     "text": [
      "\r",
      "[Stage 0:>                                                          (0 + 1) / 1]\r",
      "\r",
      "                                                                                \r"
     ]
    }
   ],
   "source": [
    "race_result_agg_df = spark.read.option('header',True).option('inferSchema',True).format('csv').load('../tbls/presentation/race_results_twoyears/race_results_twoyears.csv')\\\n",
    "    .filter('race_year=2020')"
   ]
  },
  {
   "cell_type": "code",
   "execution_count": 5,
   "id": "7db80fc6",
   "metadata": {},
   "outputs": [],
   "source": [
    "driver_standing_df = race_result_agg_df.groupBy('race_year','team')\\\n",
    "    .agg(sum('points').alias('total_points'),\\\n",
    "    count(when(col('position') ==1,True)).alias('wins'))"
   ]
  },
  {
   "cell_type": "code",
   "execution_count": 6,
   "id": "74f00f96",
   "metadata": {},
   "outputs": [
    {
     "name": "stderr",
     "output_type": "stream",
     "text": [
      "                                                                                \r"
     ]
    },
    {
     "name": "stdout",
     "output_type": "stream",
     "text": [
      "+---------+------------+------------+----+----+\n",
      "|race_year|        team|total_points|wins|rank|\n",
      "+---------+------------+------------+----+----+\n",
      "|     2020|    Mercedes|       573.0|  13|   1|\n",
      "|     2020|    Red Bull|       319.0|   2|   2|\n",
      "|     2020|Racing Point|       210.0|   1|   3|\n",
      "|     2020|     McLaren|       202.0|   0|   4|\n",
      "|     2020|     Renault|       181.0|   0|   5|\n",
      "|     2020|     Ferrari|       131.0|   0|   6|\n",
      "|     2020|  AlphaTauri|       107.0|   1|   7|\n",
      "|     2020|  Alfa Romeo|         8.0|   0|   8|\n",
      "|     2020|Haas F1 Team|         3.0|   0|   9|\n",
      "|     2020|    Williams|         0.0|   0|  10|\n",
      "+---------+------------+------------+----+----+\n",
      "\n"
     ]
    }
   ],
   "source": [
    "window_spec = Window.partitionBy('race_year')\\\n",
    "    .orderBy(desc('total_points'),desc('wins'))\n",
    "driver_standing_df.withColumn('rank',rank().over(window_spec)).show(50)"
   ]
  },
  {
   "cell_type": "code",
   "execution_count": null,
   "id": "c1e02363",
   "metadata": {},
   "outputs": [],
   "source": []
  }
 ],
 "metadata": {
  "kernelspec": {
   "display_name": "Python 3 (ipykernel)",
   "language": "python",
   "name": "python3"
  },
  "language_info": {
   "codemirror_mode": {
    "name": "ipython",
    "version": 3
   },
   "file_extension": ".py",
   "mimetype": "text/x-python",
   "name": "python",
   "nbconvert_exporter": "python",
   "pygments_lexer": "ipython3",
   "version": "3.9.7"
  }
 },
 "nbformat": 4,
 "nbformat_minor": 5
}
