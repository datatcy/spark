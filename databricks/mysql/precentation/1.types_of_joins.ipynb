{
 "cells": [
  {
   "cell_type": "code",
   "execution_count": 1,
   "id": "19a09d26",
   "metadata": {},
   "outputs": [
    {
     "name": "stderr",
     "output_type": "stream",
     "text": [
      "24/11/23 00:31:28 WARN NativeCodeLoader: Unable to load native-hadoop library for your platform... using builtin-java classes where applicable\n",
      "Using Spark's default log4j profile: org/apache/spark/log4j-defaults.properties\n",
      "Setting default log level to \"WARN\".\n",
      "To adjust logging level use sc.setLogLevel(newLevel). For SparkR, use setLogLevel(newLevel).\n",
      "24/11/23 00:31:29 WARN Utils: Service 'SparkUI' could not bind on port 4040. Attempting port 4041.\n",
      "24/11/23 00:31:29 WARN Utils: Service 'SparkUI' could not bind on port 4041. Attempting port 4042.\n"
     ]
    }
   ],
   "source": [
    "from pyspark.sql import SparkSession\n",
    "spark = SparkSession.builder.appName('basic').getOrCreate()"
   ]
  },
  {
   "cell_type": "code",
   "execution_count": 2,
   "id": "9281b403",
   "metadata": {},
   "outputs": [],
   "source": [
    "from pyspark.sql.functions import col"
   ]
  },
  {
   "cell_type": "code",
   "execution_count": 3,
   "id": "d32f5afd",
   "metadata": {},
   "outputs": [
    {
     "name": "stderr",
     "output_type": "stream",
     "text": [
      "\r",
      "[Stage 0:>                                                          (0 + 1) / 1]\r",
      "\r",
      "                                                                                \r"
     ]
    }
   ],
   "source": [
    "circuit_df = spark.read.option('header',True).option('inferSchema',True).format('csv').load('../tbls/circuits/circuits.csv')\n"
   ]
  },
  {
   "cell_type": "code",
   "execution_count": 4,
   "id": "ff0e1112",
   "metadata": {},
   "outputs": [],
   "source": [
    "race_df = spark.read.option('header',True).option('inferSchema',True).format('csv').load('../tbls/race/race.csv')\n"
   ]
  },
  {
   "cell_type": "markdown",
   "id": "735939d0",
   "metadata": {},
   "source": [
    "#### Inner Join"
   ]
  },
  {
   "cell_type": "code",
   "execution_count": 20,
   "id": "9e792026",
   "metadata": {},
   "outputs": [],
   "source": [
    "circuit_race_join_df = circuit_df.join(race_df,circuit_df.circuit_id == race_df.circuiit_id,'inner').select(circuit_df.name.alias('circuit_name'),circuit_df.location,circuit_df.country,race_df.name,race_df.round)\n"
   ]
  },
  {
   "cell_type": "markdown",
   "id": "7f4b7f52",
   "metadata": {},
   "source": [
    "#### Left Join"
   ]
  },
  {
   "cell_type": "code",
   "execution_count": 21,
   "id": "7e02f174",
   "metadata": {},
   "outputs": [],
   "source": [
    "circuit_race_join_df = circuit_df.join(race_df,circuit_df.circuit_id == race_df.circuiit_id,'left').select(circuit_df.name.alias('circuit_name'),circuit_df.location,circuit_df.country,race_df.name,race_df.round)\n"
   ]
  },
  {
   "cell_type": "markdown",
   "id": "70138be7",
   "metadata": {},
   "source": [
    "#### Right Join"
   ]
  },
  {
   "cell_type": "code",
   "execution_count": 24,
   "id": "7b873195",
   "metadata": {},
   "outputs": [],
   "source": [
    "circuit_race_join_df = circuit_df.join(race_df,circuit_df.circuit_id == race_df.circuiit_id,'right').select(circuit_df.name.alias('circuit_name'),circuit_df.location,circuit_df.country,race_df.name,race_df.round)\n"
   ]
  },
  {
   "cell_type": "markdown",
   "id": "8c2713fe",
   "metadata": {},
   "source": [
    "#### Full Join"
   ]
  },
  {
   "cell_type": "code",
   "execution_count": 25,
   "id": "bbf85b5f",
   "metadata": {},
   "outputs": [],
   "source": [
    "circuit_race_join_df = circuit_df.join(race_df,circuit_df.circuit_id == race_df.circuiit_id,'full').select(circuit_df.name.alias('circuit_name'),circuit_df.location,circuit_df.country,race_df.name,race_df.round)\n"
   ]
  },
  {
   "cell_type": "markdown",
   "id": "1cda0fef",
   "metadata": {},
   "source": [
    "#### Semi Join"
   ]
  },
  {
   "cell_type": "code",
   "execution_count": null,
   "id": "c6993656",
   "metadata": {},
   "outputs": [],
   "source": [
    "circuit_race_join_df = circuit_df.join(race_df,circuit_df.circuit_id == race_df.circuiit_id,'semi').select(circuit_df.name.alias('circuit_name'),circuit_df.location,circuit_df.country,race_df.name,race_df.round)\n"
   ]
  },
  {
   "cell_type": "markdown",
   "id": "801edfc2",
   "metadata": {},
   "source": [
    "#### Anti Join"
   ]
  },
  {
   "cell_type": "code",
   "execution_count": null,
   "id": "73a1ffbe",
   "metadata": {},
   "outputs": [],
   "source": [
    "\n",
    "circuit_race_join_df = circuit_df.join(race_df,circuit_df.circuit_id == race_df.circuiit_id,'anti').select(circuit_df.name.alias('circuit_name'),circuit_df.location,circuit_df.country,race_df.name,race_df.round)"
   ]
  },
  {
   "cell_type": "code",
   "execution_count": null,
   "id": "6dbdbbda",
   "metadata": {},
   "outputs": [],
   "source": []
  }
 ],
 "metadata": {
  "kernelspec": {
   "display_name": "Python 3 (ipykernel)",
   "language": "python",
   "name": "python3"
  },
  "language_info": {
   "codemirror_mode": {
    "name": "ipython",
    "version": 3
   },
   "file_extension": ".py",
   "mimetype": "text/x-python",
   "name": "python",
   "nbconvert_exporter": "python",
   "pygments_lexer": "ipython3",
   "version": "3.9.7"
  }
 },
 "nbformat": 4,
 "nbformat_minor": 5
}
