{
 "cells": [
  {
   "cell_type": "code",
   "execution_count": 1,
   "id": "ed5b5fa6",
   "metadata": {},
   "outputs": [
    {
     "name": "stderr",
     "output_type": "stream",
     "text": [
      "24/11/23 00:28:15 WARN NativeCodeLoader: Unable to load native-hadoop library for your platform... using builtin-java classes where applicable\n",
      "Using Spark's default log4j profile: org/apache/spark/log4j-defaults.properties\n",
      "Setting default log level to \"WARN\".\n",
      "To adjust logging level use sc.setLogLevel(newLevel). For SparkR, use setLogLevel(newLevel).\n",
      "24/11/23 00:28:16 WARN Utils: Service 'SparkUI' could not bind on port 4040. Attempting port 4041.\n"
     ]
    }
   ],
   "source": [
    "from pyspark.sql import SparkSession\n",
    "spark = SparkSession.builder.appName('basic').getOrCreate()"
   ]
  },
  {
   "cell_type": "code",
   "execution_count": 2,
   "id": "5febc2e1",
   "metadata": {},
   "outputs": [],
   "source": [
    "from pyspark.sql.functions import col,current_timestamp,count,countDistinct,sum,aggregate,desc,rank\n",
    "from pyspark.sql.window import Window\n"
   ]
  },
  {
   "cell_type": "code",
   "execution_count": 3,
   "id": "32f441c4",
   "metadata": {},
   "outputs": [],
   "source": [
    "races_df = spark.read.option('header',True).option('inferSchema',True).format('csv').load('../tbls/race/race.csv')\\\n",
    "    .filter('race_year = 2020 and name = \"Abu Dhabi Grand Prix\"')\\\n",
    "    .withColumnRenamed('name', 'race_name')\\\n",
    "    .withColumnRenamed('race_timestamp', 'race_date')\\\n",
    "    .select('circuiit_id','race_id',col('race_year'),col('race_name'),col('race_date'))\n"
   ]
  },
  {
   "cell_type": "code",
   "execution_count": 4,
   "id": "9b6c4349",
   "metadata": {},
   "outputs": [],
   "source": [
    "circuits_df = spark.read.option('header',True).option('inferSchema',True).format('csv').load('../tbls/circuits/circuits.csv')\\\n",
    "        .select('circuit_id',col('location').alias('circuit_location'))\n"
   ]
  },
  {
   "cell_type": "code",
   "execution_count": 5,
   "id": "87ad8412",
   "metadata": {},
   "outputs": [],
   "source": [
    "drivers_df = spark.read.option('header',True).option('inferSchema',True).format('csv').load('../tbls/drivers/drivers.csv')\\\n",
    "    .withColumnRenamed('name','driver_name')\\\n",
    "    .withColumnRenamed('number','driver_number')\\\n",
    "    .withColumnRenamed('nationality','driver_nationality')\\\n",
    "    .select('driver_id','driver_name','driver_number','driver_nationality')\n"
   ]
  },
  {
   "cell_type": "code",
   "execution_count": 6,
   "id": "63cf4908",
   "metadata": {},
   "outputs": [],
   "source": [
    "constructors_df = spark.read.option('header',True).option('inferSchema',True).format('csv').load('../tbls/constructors/constructors.csv')\\\n",
    "    .select('constructor_id',col('name').alias('team'))\n"
   ]
  },
  {
   "cell_type": "code",
   "execution_count": 7,
   "id": "721bd383",
   "metadata": {},
   "outputs": [],
   "source": [
    "results_df = spark.read.option('header',True).option('inferSchema',True).format('csv').load('../tbls/result/result.csv')\\\n",
    "    .select('race_id','result_id','driver_id','constructor_id','grid','fastest_lap',col('time').alias('race_time'),'points')\n"
   ]
  },
  {
   "cell_type": "code",
   "execution_count": 16,
   "id": "706ddb80",
   "metadata": {},
   "outputs": [],
   "source": [
    "race_join = circuits_df.join(races_df, circuits_df.circuit_id == races_df.circuiit_id, 'inner')\\\n",
    "    .join(results_df,races_df.race_id == results_df.race_id,'inner')\\\n",
    "    .join(drivers_df,drivers_df.driver_id == results_df.driver_id, 'inner')\\\n",
    "    .join(constructors_df,constructors_df.constructor_id == results_df.constructor_id,'inner')"
   ]
  },
  {
   "cell_type": "code",
   "execution_count": 17,
   "id": "4fd95aec",
   "metadata": {},
   "outputs": [],
   "source": [
    "df1 = race_join .select('race_year','race_name','race_date','circuit_location','driver_name','driver_number','driver_nationality','team','grid','fastest_lap','race_time','points')\\\n",
    "    .withColumn('current_date',current_timestamp())\\\n",
    "    .orderBy(race_join.points.desc())\n"
   ]
  },
  {
   "cell_type": "code",
   "execution_count": 21,
   "id": "e803b68c",
   "metadata": {},
   "outputs": [],
   "source": [
    "df1.coalesce(1).write.option('header',True).format('csv').save('../tbls/presentation/race_results')\n"
   ]
  },
  {
   "cell_type": "code",
   "execution_count": null,
   "id": "b7c08a40",
   "metadata": {},
   "outputs": [],
   "source": []
  }
 ],
 "metadata": {
  "kernelspec": {
   "display_name": "Python 3 (ipykernel)",
   "language": "python",
   "name": "python3"
  },
  "language_info": {
   "codemirror_mode": {
    "name": "ipython",
    "version": 3
   },
   "file_extension": ".py",
   "mimetype": "text/x-python",
   "name": "python",
   "nbconvert_exporter": "python",
   "pygments_lexer": "ipython3",
   "version": "3.9.7"
  }
 },
 "nbformat": 4,
 "nbformat_minor": 5
}
