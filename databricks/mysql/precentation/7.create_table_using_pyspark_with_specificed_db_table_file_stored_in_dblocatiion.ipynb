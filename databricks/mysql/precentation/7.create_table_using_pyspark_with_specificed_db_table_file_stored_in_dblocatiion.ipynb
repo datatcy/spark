{
 "cells": [
  {
   "cell_type": "code",
   "execution_count": 1,
   "id": "92b69310",
   "metadata": {},
   "outputs": [
    {
     "name": "stderr",
     "output_type": "stream",
     "text": [
      "24/11/23 00:45:38 WARN NativeCodeLoader: Unable to load native-hadoop library for your platform... using builtin-java classes where applicable\n",
      "Using Spark's default log4j profile: org/apache/spark/log4j-defaults.properties\n",
      "Setting default log level to \"WARN\".\n",
      "To adjust logging level use sc.setLogLevel(newLevel). For SparkR, use setLogLevel(newLevel).\n",
      "24/11/23 00:45:39 WARN Utils: Service 'SparkUI' could not bind on port 4040. Attempting port 4041.\n",
      "24/11/23 00:45:39 WARN Utils: Service 'SparkUI' could not bind on port 4041. Attempting port 4042.\n",
      "24/11/23 00:45:39 WARN Utils: Service 'SparkUI' could not bind on port 4042. Attempting port 4043.\n",
      "24/11/23 00:45:39 WARN Utils: Service 'SparkUI' could not bind on port 4043. Attempting port 4044.\n",
      "24/11/23 00:45:39 WARN Utils: Service 'SparkUI' could not bind on port 4044. Attempting port 4045.\n",
      "24/11/23 00:45:39 WARN Utils: Service 'SparkUI' could not bind on port 4045. Attempting port 4046.\n",
      "24/11/23 00:45:39 WARN Utils: Service 'SparkUI' could not bind on port 4046. Attempting port 4047.\n",
      "24/11/23 00:45:39 WARN Utils: Service 'SparkUI' could not bind on port 4047. Attempting port 4048.\n"
     ]
    }
   ],
   "source": [
    "from pyspark.sql import SparkSession\n",
    "spark = SparkSession.builder.appName('basic').getOrCreate()"
   ]
  },
  {
   "cell_type": "code",
   "execution_count": 5,
   "id": "919ac15e",
   "metadata": {},
   "outputs": [],
   "source": [
    "spark = SparkSession.builder \\\n",
    "    .appName(\"PullDataFromNonDefaultDB\") \\\n",
    "    .config(\"spark.sql.warehouse.dir\", \"../tbls/dbs\")\\\n",
    "    .enableHiveSupport() \\\n",
    "    .getOrCreate()"
   ]
  },
  {
   "cell_type": "code",
   "execution_count": 6,
   "id": "3291cc69",
   "metadata": {},
   "outputs": [
    {
     "data": {
      "text/plain": [
       "DataFrame[]"
      ]
     },
     "execution_count": 6,
     "metadata": {},
     "output_type": "execute_result"
    }
   ],
   "source": [
    "spark.sql(\"CREATE DATABASE IF NOT EXISTS process_db\")\n"
   ]
  },
  {
   "cell_type": "code",
   "execution_count": 7,
   "id": "9fff1ede",
   "metadata": {},
   "outputs": [
    {
     "name": "stdout",
     "output_type": "stream",
     "text": [
      "+----------+\n",
      "| namespace|\n",
      "+----------+\n",
      "|   default|\n",
      "|process_db|\n",
      "+----------+\n",
      "\n"
     ]
    }
   ],
   "source": [
    "spark.sql('show databases').show()"
   ]
  },
  {
   "cell_type": "code",
   "execution_count": 8,
   "id": "fad416e1",
   "metadata": {},
   "outputs": [
    {
     "name": "stdout",
     "output_type": "stream",
     "text": [
      "+--------+---------+-----------+\n",
      "|database|tableName|isTemporary|\n",
      "+--------+---------+-----------+\n",
      "+--------+---------+-----------+\n",
      "\n"
     ]
    }
   ],
   "source": [
    "spark.sql('use process_db')\n",
    "spark.sql('show tables').show()"
   ]
  },
  {
   "cell_type": "markdown",
   "id": "a8393e9e",
   "metadata": {},
   "source": [
    "#### 1 Circuit table"
   ]
  },
  {
   "cell_type": "code",
   "execution_count": 13,
   "id": "10616924",
   "metadata": {},
   "outputs": [],
   "source": [
    "circuit_processed_df = out = spark.read.option('header',True).option('inferSchema',True).csv('../tbls/circuits/circuits.csv')\n"
   ]
  },
  {
   "cell_type": "code",
   "execution_count": 25,
   "id": "6ce477eb",
   "metadata": {},
   "outputs": [],
   "source": [
    "circuit_processed_df.write.mode('overwrite').format('parquet').saveAsTable('process_db.circuits')\n"
   ]
  },
  {
   "cell_type": "code",
   "execution_count": null,
   "id": "7da5c3ad",
   "metadata": {},
   "outputs": [],
   "source": [
    "spark.sql('select * from process_db.circuits').show()"
   ]
  },
  {
   "cell_type": "markdown",
   "id": "b309f19a",
   "metadata": {},
   "source": [
    "#### 2 Race table"
   ]
  },
  {
   "cell_type": "code",
   "execution_count": 14,
   "id": "7bf16ae0",
   "metadata": {},
   "outputs": [],
   "source": [
    "result_processed_df = out = spark.read.option('header',True).option('inferSchema',True).csv('../tbls/result/result.csv')\n"
   ]
  },
  {
   "cell_type": "code",
   "execution_count": 31,
   "id": "39d4c6a4",
   "metadata": {},
   "outputs": [],
   "source": [
    "result_processed_df.write.mode('overwrite').format('parquet').saveAsTable('process_db.race')"
   ]
  },
  {
   "cell_type": "code",
   "execution_count": null,
   "id": "6f88255c",
   "metadata": {},
   "outputs": [],
   "source": [
    "spark.sql('select * from process_db.race').show()"
   ]
  },
  {
   "cell_type": "markdown",
   "id": "de798067",
   "metadata": {},
   "source": [
    "#### 3 Constructors table"
   ]
  },
  {
   "cell_type": "code",
   "execution_count": 15,
   "id": "d954d234",
   "metadata": {},
   "outputs": [],
   "source": [
    "constructors_processed_df = out = spark.read.option('header',True).option('inferSchema',True).csv('../tbls/constructors/constructors.csv')\n"
   ]
  },
  {
   "cell_type": "code",
   "execution_count": 34,
   "id": "614cc184",
   "metadata": {},
   "outputs": [],
   "source": [
    "constructors_processed_df.write.mode('overwrite').format('parquet').saveAsTable('process_db.constructors')"
   ]
  },
  {
   "cell_type": "code",
   "execution_count": null,
   "id": "5f305d5e",
   "metadata": {},
   "outputs": [],
   "source": [
    "spark.sql('select * from process_db.constructors').show()"
   ]
  },
  {
   "cell_type": "markdown",
   "id": "22764013",
   "metadata": {},
   "source": [
    "#### 4 Drivers table"
   ]
  },
  {
   "cell_type": "code",
   "execution_count": 16,
   "id": "92cf8f4e",
   "metadata": {},
   "outputs": [],
   "source": [
    "drivers_processed_df = out = spark.read.option('header',True).option('inferSchema',True).csv('../tbls/drivers/drivers.csv')\n"
   ]
  },
  {
   "cell_type": "code",
   "execution_count": 37,
   "id": "56c616b8",
   "metadata": {},
   "outputs": [],
   "source": [
    "drivers_processed_df.write.mode('overwrite').format('parquet').saveAsTable('process_db.drivers')"
   ]
  },
  {
   "cell_type": "code",
   "execution_count": null,
   "id": "dd0ec798",
   "metadata": {},
   "outputs": [],
   "source": [
    "spark.sql('select * from process_db.drivers').show()"
   ]
  },
  {
   "cell_type": "markdown",
   "id": "38e941dc",
   "metadata": {},
   "source": [
    "#### 5 Results table"
   ]
  },
  {
   "cell_type": "code",
   "execution_count": 17,
   "id": "d7bb5572",
   "metadata": {},
   "outputs": [],
   "source": [
    "results_processed_df = out = spark.read.option('header',True).option('inferSchema',True).csv('../tbls/result/result.csv')\n"
   ]
  },
  {
   "cell_type": "code",
   "execution_count": 40,
   "id": "cca85d4c",
   "metadata": {},
   "outputs": [],
   "source": [
    "results_processed_df.write.mode('overwrite').format('parquet').saveAsTable('process_db.results')"
   ]
  },
  {
   "cell_type": "code",
   "execution_count": null,
   "id": "11adcbbd",
   "metadata": {},
   "outputs": [],
   "source": [
    "spark.sql('select * from process_db.results').show()"
   ]
  },
  {
   "cell_type": "markdown",
   "id": "5cbefe61",
   "metadata": {},
   "source": [
    "#### 6 PitStops table"
   ]
  },
  {
   "cell_type": "code",
   "execution_count": 18,
   "id": "129b2cb3",
   "metadata": {},
   "outputs": [],
   "source": [
    "pitstops_processed_df = out = spark.read.option('header',True).option('inferSchema',True).csv('../tbls/pitstops/pitstops.csv')\n"
   ]
  },
  {
   "cell_type": "code",
   "execution_count": 43,
   "id": "5eee3b98",
   "metadata": {},
   "outputs": [],
   "source": [
    "pitstops_processed_df.write.mode('overwrite').format('parquet').saveAsTable('process_db.pitstops')"
   ]
  },
  {
   "cell_type": "code",
   "execution_count": null,
   "id": "72c8faca",
   "metadata": {},
   "outputs": [],
   "source": [
    "spark.sql('select * from process_db.pitstops').show()"
   ]
  },
  {
   "cell_type": "markdown",
   "id": "1d609dc8",
   "metadata": {},
   "source": [
    "#### 7 LapTimes table"
   ]
  },
  {
   "cell_type": "code",
   "execution_count": 19,
   "id": "938a7dd9",
   "metadata": {},
   "outputs": [
    {
     "name": "stderr",
     "output_type": "stream",
     "text": [
      "                                                                                \r"
     ]
    }
   ],
   "source": [
    "laptimes_processed_df = out = spark.read.option('header',True).option('inferSchema',True).csv('../tbls/laptimes/laptimes.csv')\n"
   ]
  },
  {
   "cell_type": "code",
   "execution_count": 46,
   "id": "f2d114db",
   "metadata": {},
   "outputs": [
    {
     "name": "stderr",
     "output_type": "stream",
     "text": [
      "                                                                                \r"
     ]
    }
   ],
   "source": [
    "laptimes_processed_df.write.mode('overwrite').format('parquet').saveAsTable('process_db.laptimes')"
   ]
  },
  {
   "cell_type": "code",
   "execution_count": null,
   "id": "08228ec8",
   "metadata": {},
   "outputs": [],
   "source": [
    "spark.sql('select * from process_db.laptimes').show()"
   ]
  },
  {
   "cell_type": "markdown",
   "id": "73f9ccff",
   "metadata": {},
   "source": [
    "#### 8 Qualifying table"
   ]
  },
  {
   "cell_type": "code",
   "execution_count": 20,
   "id": "4b96dae7",
   "metadata": {},
   "outputs": [],
   "source": [
    "qualifying_processed_df = out = spark.read.option('header',True).option('inferSchema',True).csv('../tbls/qualifying/qualifying.csv')\n"
   ]
  },
  {
   "cell_type": "code",
   "execution_count": 49,
   "id": "86c35265",
   "metadata": {},
   "outputs": [],
   "source": [
    "qualifying_processed_df.write.mode('overwrite').format('parquet').saveAsTable('process_db.qualifying')"
   ]
  },
  {
   "cell_type": "code",
   "execution_count": null,
   "id": "f0e4363c",
   "metadata": {},
   "outputs": [],
   "source": [
    "spark.sql('select * from process_db.qualifying').show()"
   ]
  },
  {
   "cell_type": "markdown",
   "id": "c6d8e5b0",
   "metadata": {},
   "source": [
    "#### 1 Race Results table"
   ]
  },
  {
   "cell_type": "code",
   "execution_count": 21,
   "id": "ab308645",
   "metadata": {},
   "outputs": [],
   "source": [
    "race_results_df = out = spark.read.option('header',True).option('inferSchema',True).csv('../tbls/presentation/race_results/race_result.csv')"
   ]
  },
  {
   "cell_type": "code",
   "execution_count": 54,
   "id": "13a9a271",
   "metadata": {},
   "outputs": [],
   "source": [
    "race_results_df.write.mode('overwrite').format('parquet').saveAsTable('process_db.raceresult')"
   ]
  },
  {
   "cell_type": "code",
   "execution_count": null,
   "id": "a8aab45f",
   "metadata": {},
   "outputs": [],
   "source": [
    "spark.sql('select * from process_db.raceresult').show()"
   ]
  },
  {
   "cell_type": "markdown",
   "id": "b2c2c16e",
   "metadata": {},
   "source": [
    "#### 2 Race Result with Two Years data table"
   ]
  },
  {
   "cell_type": "code",
   "execution_count": 22,
   "id": "70b5637f",
   "metadata": {},
   "outputs": [],
   "source": [
    "race_results_twoyears_df = out = spark.read.option('header',True).option('inferSchema',True).csv('../tbls/presentation/race_results_twoyears/race_results_twoyears.csv')"
   ]
  },
  {
   "cell_type": "code",
   "execution_count": 58,
   "id": "f7223747",
   "metadata": {},
   "outputs": [],
   "source": [
    "race_results_twoyears_df.write.mode('overwrite').format('parquet').saveAsTable('process_db.race_results_twoyears')"
   ]
  },
  {
   "cell_type": "code",
   "execution_count": null,
   "id": "69696f26",
   "metadata": {},
   "outputs": [],
   "source": [
    "spark.sql('select * from process_db.race_results_twoyears').show()"
   ]
  },
  {
   "cell_type": "markdown",
   "id": "b19bc1d4",
   "metadata": {},
   "source": [
    "#### 3 Driver Standing table"
   ]
  },
  {
   "cell_type": "code",
   "execution_count": 23,
   "id": "025f27ad",
   "metadata": {},
   "outputs": [],
   "source": [
    "driverstanding_df = spark.read.option('header',True).option('inferSchema',True).csv('../tbls/presentation/driverstanding/driverstanding.csv')\n"
   ]
  },
  {
   "cell_type": "code",
   "execution_count": 62,
   "id": "5fba65e9",
   "metadata": {},
   "outputs": [],
   "source": [
    "driverstanding_df.write.mode('overwrite').format('parquet').saveAsTable('process_db.driverstandiing')\n"
   ]
  },
  {
   "cell_type": "code",
   "execution_count": null,
   "id": "9a38a13e",
   "metadata": {},
   "outputs": [],
   "source": [
    "spark.sql('select * from process_db.driverstandiing').show()"
   ]
  },
  {
   "cell_type": "code",
   "execution_count": null,
   "id": "da57783c",
   "metadata": {},
   "outputs": [],
   "source": []
  }
 ],
 "metadata": {
  "kernelspec": {
   "display_name": "Python 3 (ipykernel)",
   "language": "python",
   "name": "python3"
  },
  "language_info": {
   "codemirror_mode": {
    "name": "ipython",
    "version": 3
   },
   "file_extension": ".py",
   "mimetype": "text/x-python",
   "name": "python",
   "nbconvert_exporter": "python",
   "pygments_lexer": "ipython3",
   "version": "3.9.7"
  }
 },
 "nbformat": 4,
 "nbformat_minor": 5
}
