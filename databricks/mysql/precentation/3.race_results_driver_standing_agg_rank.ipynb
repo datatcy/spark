{
 "cells": [
  {
   "cell_type": "code",
   "execution_count": 1,
   "id": "5a669b96",
   "metadata": {},
   "outputs": [
    {
     "name": "stderr",
     "output_type": "stream",
     "text": [
      "24/11/23 00:35:11 WARN NativeCodeLoader: Unable to load native-hadoop library for your platform... using builtin-java classes where applicable\n",
      "Using Spark's default log4j profile: org/apache/spark/log4j-defaults.properties\n",
      "Setting default log level to \"WARN\".\n",
      "To adjust logging level use sc.setLogLevel(newLevel). For SparkR, use setLogLevel(newLevel).\n",
      "24/11/23 00:35:12 WARN Utils: Service 'SparkUI' could not bind on port 4040. Attempting port 4041.\n",
      "24/11/23 00:35:12 WARN Utils: Service 'SparkUI' could not bind on port 4041. Attempting port 4042.\n",
      "24/11/23 00:35:12 WARN Utils: Service 'SparkUI' could not bind on port 4042. Attempting port 4043.\n",
      "24/11/23 00:35:12 WARN Utils: Service 'SparkUI' could not bind on port 4043. Attempting port 4044.\n"
     ]
    }
   ],
   "source": [
    "from pyspark.sql import SparkSession\n",
    "spark = SparkSession.builder.appName('basic').getOrCreate()"
   ]
  },
  {
   "cell_type": "code",
   "execution_count": 2,
   "id": "88a83c5c",
   "metadata": {},
   "outputs": [],
   "source": [
    "from pyspark.sql.functions import col,current_timestamp,count,countDistinct,sum,aggregate,desc,rank,when\n",
    "from pyspark.sql.window import Window"
   ]
  },
  {
   "cell_type": "code",
   "execution_count": 3,
   "id": "03dca8d7",
   "metadata": {},
   "outputs": [
    {
     "name": "stderr",
     "output_type": "stream",
     "text": [
      "\r",
      "[Stage 0:>                                                          (0 + 1) / 1]\r",
      "\r",
      "                                                                                \r"
     ]
    }
   ],
   "source": [
    "race_result_agg_df = spark.read.option('header',True).option('inferSchema',True).format('csv').load('../tbls/presentation/race_results_twoyears/race_results_twoyears.csv')\\\n",
    "    .filter('race_year=2020')\n"
   ]
  },
  {
   "cell_type": "code",
   "execution_count": 4,
   "id": "03822e26",
   "metadata": {},
   "outputs": [],
   "source": [
    "driver_standing_df = race_result_agg_df.groupBy('race_year','driver_name','driver_nationality','team')\\\n",
    "    .agg(sum('points').alias('total_points'),\\\n",
    "    count(when(col('position') ==1,True)).alias('wins'))"
   ]
  },
  {
   "cell_type": "code",
   "execution_count": 12,
   "id": "22619d57",
   "metadata": {},
   "outputs": [],
   "source": [
    "window_spec = Window.partitionBy('race_year')\\\n",
    "    .orderBy(desc('total_points'),desc('wins'))\n",
    "driverstanding = driver_standing_df.withColumn('rank',rank().over(window_spec))"
   ]
  },
  {
   "cell_type": "code",
   "execution_count": 13,
   "id": "38dbbd99",
   "metadata": {},
   "outputs": [
    {
     "name": "stderr",
     "output_type": "stream",
     "text": [
      "                                                                                \r"
     ]
    }
   ],
   "source": [
    "driverstanding.write.option('header',True).mode('overwrite').format('csv').save('../tbls/presentation/driverstanding/driverstanding.csv')\n",
    "                        "
   ]
  },
  {
   "cell_type": "code",
   "execution_count": null,
   "id": "b7fde02c",
   "metadata": {},
   "outputs": [],
   "source": []
  }
 ],
 "metadata": {
  "kernelspec": {
   "display_name": "Python 3 (ipykernel)",
   "language": "python",
   "name": "python3"
  },
  "language_info": {
   "codemirror_mode": {
    "name": "ipython",
    "version": 3
   },
   "file_extension": ".py",
   "mimetype": "text/x-python",
   "name": "python",
   "nbconvert_exporter": "python",
   "pygments_lexer": "ipython3",
   "version": "3.9.7"
  }
 },
 "nbformat": 4,
 "nbformat_minor": 5
}
