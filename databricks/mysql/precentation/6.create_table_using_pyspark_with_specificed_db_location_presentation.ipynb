{
 "cells": [
  {
   "cell_type": "code",
   "execution_count": 1,
   "id": "40205c68",
   "metadata": {},
   "outputs": [
    {
     "name": "stderr",
     "output_type": "stream",
     "text": [
      "24/11/23 00:43:28 WARN Utils: Your hostname, Franciss-MacBook-Pro.local resolves to a loopback address: 127.0.0.1; using 192.168.4.40 instead (on interface en0)\n",
      "24/11/23 00:43:28 WARN Utils: Set SPARK_LOCAL_IP if you need to bind to another address\n",
      "24/11/23 00:43:28 WARN NativeCodeLoader: Unable to load native-hadoop library for your platform... using builtin-java classes where applicable\n",
      "Using Spark's default log4j profile: org/apache/spark/log4j-defaults.properties\n",
      "Setting default log level to \"WARN\".\n",
      "To adjust logging level use sc.setLogLevel(newLevel). For SparkR, use setLogLevel(newLevel).\n",
      "24/11/23 00:43:29 WARN Utils: Service 'SparkUI' could not bind on port 4040. Attempting port 4041.\n",
      "24/11/23 00:43:29 WARN Utils: Service 'SparkUI' could not bind on port 4041. Attempting port 4042.\n",
      "24/11/23 00:43:29 WARN Utils: Service 'SparkUI' could not bind on port 4042. Attempting port 4043.\n",
      "24/11/23 00:43:29 WARN Utils: Service 'SparkUI' could not bind on port 4043. Attempting port 4044.\n",
      "24/11/23 00:43:29 WARN Utils: Service 'SparkUI' could not bind on port 4044. Attempting port 4045.\n",
      "24/11/23 00:43:29 WARN Utils: Service 'SparkUI' could not bind on port 4045. Attempting port 4046.\n",
      "24/11/23 00:43:29 WARN Utils: Service 'SparkUI' could not bind on port 4046. Attempting port 4047.\n"
     ]
    }
   ],
   "source": [
    "from pyspark.sql import SparkSession\n",
    "spark = SparkSession.builder.appName('basic').getOrCreate()"
   ]
  },
  {
   "cell_type": "code",
   "execution_count": 3,
   "id": "c97e1f06",
   "metadata": {},
   "outputs": [],
   "source": [
    "spark = SparkSession.builder \\\n",
    "    .appName(\"PullDataFromNonDefaultDB\") \\\n",
    "    .config(\"spark.sql.warehouse.dir\", \"../tbls/processed/\")\\\n",
    "    .enableHiveSupport() \\\n",
    "    .getOrCreate()"
   ]
  },
  {
   "cell_type": "code",
   "execution_count": 4,
   "id": "b1037046",
   "metadata": {},
   "outputs": [
    {
     "data": {
      "text/plain": [
       "DataFrame[]"
      ]
     },
     "execution_count": 4,
     "metadata": {},
     "output_type": "execute_result"
    }
   ],
   "source": [
    "spark.sql(\"CREATE DATABASE IF NOT EXISTS present_db LOCATION '../tbls/processed/presentdb' \")\n"
   ]
  },
  {
   "cell_type": "code",
   "execution_count": 29,
   "id": "81a68c3f",
   "metadata": {},
   "outputs": [
    {
     "name": "stdout",
     "output_type": "stream",
     "text": [
      "+----------+--------------------+-----------+\n",
      "|  database|           tableName|isTemporary|\n",
      "+----------+--------------------+-----------+\n",
      "|present_db|     driverstandiing|      false|\n",
      "|present_db|race_results_twoy...|      false|\n",
      "|present_db|          raceresult|      false|\n",
      "+----------+--------------------+-----------+\n",
      "\n"
     ]
    }
   ],
   "source": [
    "spark.sql('use present_db')\n",
    "spark.sql('show tables').show()"
   ]
  },
  {
   "cell_type": "markdown",
   "id": "39f1d214",
   "metadata": {},
   "source": [
    "#### 1 Race Results table"
   ]
  },
  {
   "cell_type": "code",
   "execution_count": 2,
   "id": "8cba1066",
   "metadata": {},
   "outputs": [
    {
     "name": "stderr",
     "output_type": "stream",
     "text": [
      "\r",
      "[Stage 0:>                                                          (0 + 1) / 1]\r",
      "\r",
      "                                                                                \r"
     ]
    }
   ],
   "source": [
    "race_results_df = out = spark.read.option('header',True).option('inferSchema',True).csv('../tbls/presentation/race_results/race_result.csv')\n"
   ]
  },
  {
   "cell_type": "code",
   "execution_count": 8,
   "id": "284d8b99",
   "metadata": {},
   "outputs": [
    {
     "name": "stderr",
     "output_type": "stream",
     "text": [
      "                                                                                \r"
     ]
    }
   ],
   "source": [
    "race_results_df.write.mode('overwrite').format('parquet').saveAsTable('present_db.raceresult')"
   ]
  },
  {
   "cell_type": "code",
   "execution_count": null,
   "id": "70a98207",
   "metadata": {},
   "outputs": [],
   "source": [
    "spark.sql('select * from present_db.raceresult').show()"
   ]
  },
  {
   "cell_type": "markdown",
   "id": "94da995f",
   "metadata": {},
   "source": [
    "#### 2 Race Result with Two Years data table"
   ]
  },
  {
   "cell_type": "code",
   "execution_count": 3,
   "id": "f35efd97",
   "metadata": {},
   "outputs": [],
   "source": [
    "race_results_twoyears_df = out = spark.read.option('header',True).option('inferSchema',True).csv('../tbls/presentation/race_results_twoyears/race_results_twoyears.csv')\n"
   ]
  },
  {
   "cell_type": "code",
   "execution_count": 27,
   "id": "498aa289",
   "metadata": {},
   "outputs": [],
   "source": [
    "race_results_twoyears_df.write.mode('overwrite').format('parquet').saveAsTable('present_db.race_results_twoyears')"
   ]
  },
  {
   "cell_type": "code",
   "execution_count": null,
   "id": "22869b9a",
   "metadata": {},
   "outputs": [],
   "source": [
    "spark.sql('select * from present_db.race_results_twoyears').show()"
   ]
  },
  {
   "cell_type": "markdown",
   "id": "f3497494",
   "metadata": {},
   "source": [
    "#### 3 Driver Standing table"
   ]
  },
  {
   "cell_type": "code",
   "execution_count": 4,
   "id": "5592566e",
   "metadata": {},
   "outputs": [],
   "source": [
    "driverstanding_df = spark.read.option('header',True).option('inferSchema',True).csv('../tbls/presentation/driverstanding/driverstanding.csv')\n"
   ]
  },
  {
   "cell_type": "code",
   "execution_count": 22,
   "id": "e44cca4e",
   "metadata": {},
   "outputs": [],
   "source": [
    "driverstanding_df.write.mode('overwrite').format('parquet').saveAsTable('present_db.driverstandiing')\n"
   ]
  },
  {
   "cell_type": "code",
   "execution_count": null,
   "id": "dcd1c023",
   "metadata": {},
   "outputs": [],
   "source": [
    "spark.sql('select * from present_db.driverstandiing').show()"
   ]
  },
  {
   "cell_type": "code",
   "execution_count": null,
   "id": "9ca11f6a",
   "metadata": {},
   "outputs": [],
   "source": []
  }
 ],
 "metadata": {
  "kernelspec": {
   "display_name": "Python 3 (ipykernel)",
   "language": "python",
   "name": "python3"
  },
  "language_info": {
   "codemirror_mode": {
    "name": "ipython",
    "version": 3
   },
   "file_extension": ".py",
   "mimetype": "text/x-python",
   "name": "python",
   "nbconvert_exporter": "python",
   "pygments_lexer": "ipython3",
   "version": "3.9.7"
  }
 },
 "nbformat": 4,
 "nbformat_minor": 5
}
