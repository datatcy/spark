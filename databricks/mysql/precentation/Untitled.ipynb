{
 "cells": [
  {
   "cell_type": "code",
   "execution_count": 1,
   "id": "bf56dddd",
   "metadata": {},
   "outputs": [
    {
     "name": "stderr",
     "output_type": "stream",
     "text": [
      "24/07/13 22:00:57 WARN Utils: Your hostname, Franciss-MacBook-Pro.local resolves to a loopback address: 127.0.0.1; using 192.168.4.40 instead (on interface en0)\n",
      "24/07/13 22:00:57 WARN Utils: Set SPARK_LOCAL_IP if you need to bind to another address\n",
      "24/07/13 22:00:58 WARN NativeCodeLoader: Unable to load native-hadoop library for your platform... using builtin-java classes where applicable\n",
      "Using Spark's default log4j profile: org/apache/spark/log4j-defaults.properties\n",
      "Setting default log level to \"WARN\".\n",
      "To adjust logging level use sc.setLogLevel(newLevel). For SparkR, use setLogLevel(newLevel).\n"
     ]
    }
   ],
   "source": [
    "from pyspark.sql import SparkSession\n",
    "spark = SparkSession.builder.appName('basic').getOrCreate()"
   ]
  },
  {
   "cell_type": "code",
   "execution_count": 15,
   "id": "02e356a2",
   "metadata": {},
   "outputs": [],
   "source": [
    "spark = SparkSession.builder \\\n",
    "    .appName(\"PullDataFromNonDefaultDB\") \\\n",
    "    .config(\"spark.sql.warehouse.dir\", \"../tbls/processed\")\\\n",
    "    .enableHiveSupport() \\\n",
    "    .getOrCreate()"
   ]
  },
  {
   "cell_type": "code",
   "execution_count": 12,
   "id": "55aac463",
   "metadata": {},
   "outputs": [],
   "source": [
    "databases = spark.catalog.listDatabases()"
   ]
  },
  {
   "cell_type": "code",
   "execution_count": 13,
   "id": "b938d42e",
   "metadata": {},
   "outputs": [],
   "source": [
    "database_tables = {}\n",
    "for db in databases:\n",
    "    db_name = db.name\n",
    "    tables = spark.catalog.listTables(db_name)\n",
    "    table_names = [table.name for table in tables]\n",
    "    database_tables[db_name] = table_names"
   ]
  },
  {
   "cell_type": "code",
   "execution_count": 14,
   "id": "42644f2e",
   "metadata": {},
   "outputs": [
    {
     "name": "stdout",
     "output_type": "stream",
     "text": [
      "database: default\n"
     ]
    }
   ],
   "source": [
    "for db_name,tables in database_tables.items():\n",
    "    print(f'database: {db_name}')\n",
    "    for table in tables:\n",
    "        print(f' - table: {table}')\n"
   ]
  },
  {
   "cell_type": "code",
   "execution_count": null,
   "id": "2177fbe5",
   "metadata": {},
   "outputs": [],
   "source": []
  },
  {
   "cell_type": "code",
   "execution_count": null,
   "id": "88e5088a",
   "metadata": {},
   "outputs": [],
   "source": []
  }
 ],
 "metadata": {
  "kernelspec": {
   "display_name": "Python 3 (ipykernel)",
   "language": "python",
   "name": "python3"
  },
  "language_info": {
   "codemirror_mode": {
    "name": "ipython",
    "version": 3
   },
   "file_extension": ".py",
   "mimetype": "text/x-python",
   "name": "python",
   "nbconvert_exporter": "python",
   "pygments_lexer": "ipython3",
   "version": "3.9.7"
  }
 },
 "nbformat": 4,
 "nbformat_minor": 5
}
