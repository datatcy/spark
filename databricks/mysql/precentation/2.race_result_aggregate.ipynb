{
 "cells": [
  {
   "cell_type": "code",
   "execution_count": 1,
   "id": "fccf66b1",
   "metadata": {},
   "outputs": [
    {
     "name": "stderr",
     "output_type": "stream",
     "text": [
      "24/11/23 00:32:37 WARN NativeCodeLoader: Unable to load native-hadoop library for your platform... using builtin-java classes where applicable\n",
      "Using Spark's default log4j profile: org/apache/spark/log4j-defaults.properties\n",
      "Setting default log level to \"WARN\".\n",
      "To adjust logging level use sc.setLogLevel(newLevel). For SparkR, use setLogLevel(newLevel).\n",
      "24/11/23 00:32:38 WARN Utils: Service 'SparkUI' could not bind on port 4040. Attempting port 4041.\n",
      "24/11/23 00:32:38 WARN Utils: Service 'SparkUI' could not bind on port 4041. Attempting port 4042.\n",
      "24/11/23 00:32:38 WARN Utils: Service 'SparkUI' could not bind on port 4042. Attempting port 4043.\n"
     ]
    }
   ],
   "source": [
    "from pyspark.sql import SparkSession\n",
    "spark = SparkSession.builder.appName('basic').getOrCreate()"
   ]
  },
  {
   "cell_type": "code",
   "execution_count": 2,
   "id": "95c97430",
   "metadata": {},
   "outputs": [],
   "source": [
    "from pyspark.sql.functions import col,current_timestamp,count,countDistinct,sum,aggregate,desc,rank\n",
    "from pyspark.sql.window import Window"
   ]
  },
  {
   "cell_type": "code",
   "execution_count": 3,
   "id": "3f2d942f",
   "metadata": {},
   "outputs": [
    {
     "name": "stderr",
     "output_type": "stream",
     "text": [
      "\r",
      "[Stage 1:>                                                          (0 + 1) / 1]\r",
      "\r",
      "                                                                                \r"
     ]
    }
   ],
   "source": [
    "races_df = spark.read.option('header',True).option('inferSchema',True).format('csv').load('../tbls/race/race.csv')\\\n",
    "    .filter('race_year in (2019,2020)')\\\n",
    "    .withColumnRenamed('name', 'race_name')\\\n",
    "    .withColumnRenamed('race_timestamp', 'race_date')\\\n",
    "    .select('circuiit_id','race_id',col('race_year'),col('race_name'),col('race_date'))\n"
   ]
  },
  {
   "cell_type": "code",
   "execution_count": 4,
   "id": "98127830",
   "metadata": {},
   "outputs": [],
   "source": [
    "circuits_df = spark.read.option('header',True).option('inferSchema',True).format('csv').load('../tbls/circuits/circuits.csv')\\\n",
    "        .select('circuit_id',col('location').alias('circuit_location'))\n"
   ]
  },
  {
   "cell_type": "code",
   "execution_count": 5,
   "id": "d19669bc",
   "metadata": {},
   "outputs": [],
   "source": [
    "drivers_df = spark.read.option('header',True).option('inferSchema',True).format('csv').load('../tbls/drivers/drivers.csv')\\\n",
    "    .withColumnRenamed('name','driver_name')\\\n",
    "    .withColumnRenamed('number','driver_number')\\\n",
    "    .withColumnRenamed('nationality','driver_nationality')\\\n",
    "    .select('driver_id','driver_name','driver_number','driver_nationality')\n"
   ]
  },
  {
   "cell_type": "code",
   "execution_count": 6,
   "id": "ce7acacc",
   "metadata": {},
   "outputs": [],
   "source": [
    "constructors_df = spark.read.option('header',True).option('inferSchema',True).format('csv').load('../tbls/constructors/constructors.csv')\\\n",
    "    .select('constructor_id',col('name').alias('team'))\n"
   ]
  },
  {
   "cell_type": "code",
   "execution_count": 7,
   "id": "4016c5c8",
   "metadata": {},
   "outputs": [
    {
     "name": "stderr",
     "output_type": "stream",
     "text": [
      "\r",
      "[Stage 9:>                                                          (0 + 1) / 1]\r",
      "\r",
      "                                                                                \r"
     ]
    }
   ],
   "source": [
    "results_df = spark.read.option('header',True).option('inferSchema',True).format('csv').load('../tbls/result/result.csv')\\\n",
    "    .select('race_id','result_id','driver_id','constructor_id','grid','fastest_lap',col('time').alias('race_time'),'points','position')\n"
   ]
  },
  {
   "cell_type": "code",
   "execution_count": 54,
   "id": "1af5eeac",
   "metadata": {},
   "outputs": [],
   "source": [
    "race_join = circuits_df.join(races_df, circuits_df.circuit_id == races_df.circuiit_id, 'inner')\\\n",
    "    .join(results_df,races_df.race_id == results_df.race_id,'inner')\\\n",
    "    .join(drivers_df,drivers_df.driver_id == results_df.driver_id, 'inner')\\\n",
    "    .join(constructors_df,constructors_df.constructor_id == results_df.constructor_id,'inner')\n"
   ]
  },
  {
   "cell_type": "code",
   "execution_count": 55,
   "id": "634bd75e",
   "metadata": {},
   "outputs": [],
   "source": [
    "df1 = race_join .select('race_year','race_name','race_date','circuit_location','driver_name','driver_number','driver_nationality','team','grid','fastest_lap','race_time','points','position')\\\n",
    "    .withColumn('current_date',current_timestamp())\\\n",
    "    .orderBy(race_join.points.desc())\n"
   ]
  },
  {
   "cell_type": "code",
   "execution_count": null,
   "id": "75bdfd28",
   "metadata": {},
   "outputs": [],
   "source": [
    "df1.coalesce(1).write.option('header',True).format('csv').save('../tbls/presentation/race_results_twoyears')"
   ]
  },
  {
   "cell_type": "code",
   "execution_count": 9,
   "id": "4ab7b5fa",
   "metadata": {},
   "outputs": [],
   "source": [
    "race_result_agg_df = spark.read.option('header',True).option('inferSchema',True).format('csv').load('../tbls/presentation/race_results_twoyears/race_results_twoyears.csv')\\\n",
    "    .filter(col('race_year') == 2020)\n"
   ]
  },
  {
   "cell_type": "code",
   "execution_count": 27,
   "id": "b79bdc31",
   "metadata": {},
   "outputs": [
    {
     "name": "stdout",
     "output_type": "stream",
     "text": [
      "+--------+\n",
      "|count(1)|\n",
      "+--------+\n",
      "|     340|\n",
      "+--------+\n",
      "\n"
     ]
    }
   ],
   "source": [
    "race_result_agg_df.select(count('*')).show()"
   ]
  },
  {
   "cell_type": "code",
   "execution_count": 28,
   "id": "28d1554d",
   "metadata": {},
   "outputs": [
    {
     "name": "stdout",
     "output_type": "stream",
     "text": [
      "+-------------------------+\n",
      "|count(DISTINCT race_name)|\n",
      "+-------------------------+\n",
      "|                       17|\n",
      "+-------------------------+\n",
      "\n"
     ]
    },
    {
     "name": "stderr",
     "output_type": "stream",
     "text": [
      "\r",
      "[Stage 37:==============================================>       (172 + 4) / 200]\r",
      "\r",
      "                                                                                \r"
     ]
    }
   ],
   "source": [
    "race_result_agg_df.select(countDistinct('race_name')).show()"
   ]
  },
  {
   "cell_type": "code",
   "execution_count": 29,
   "id": "a16f0c38",
   "metadata": {},
   "outputs": [
    {
     "name": "stderr",
     "output_type": "stream",
     "text": [
      "\r",
      "[Stage 46:====================================>                 (137 + 4) / 200]\r"
     ]
    },
    {
     "name": "stdout",
     "output_type": "stream",
     "text": [
      "+-----------+-------------------------+\n",
      "|sum(points)|count(DISTINCT race_name)|\n",
      "+-----------+-------------------------+\n",
      "|      760.0|                       28|\n",
      "+-----------+-------------------------+\n",
      "\n"
     ]
    },
    {
     "name": "stderr",
     "output_type": "stream",
     "text": [
      "\r",
      "[Stage 46:==================================================>   (188 + 4) / 200]\r",
      "\r",
      "                                                                                \r"
     ]
    }
   ],
   "source": [
    "df1.where('driver_name=\"Lewis Hamilton\"').select(sum('points'), countDistinct('race_name')).show()"
   ]
  },
  {
   "cell_type": "code",
   "execution_count": null,
   "id": "c5f134cf",
   "metadata": {},
   "outputs": [],
   "source": [
    "race_result_agg_df.groupBy('circuit_location','driver_name')\\\n",
    "    .agg(sum('points').alias('sum_points'),countDistinct('race_name').alias('cnt_distinct_race_name'))\\\n",
    "    .orderBy('circuit_location').show(50)"
   ]
  },
  {
   "cell_type": "code",
   "execution_count": 33,
   "id": "fcf4d195",
   "metadata": {},
   "outputs": [],
   "source": [
    "rnk_df = df1.groupBy('race_year','driver_name')\\\n",
    "    .agg(sum('points').alias('total_points'),countDistinct('race_name').alias('number_of_races'))\\\n",
    "    .orderBy('race_year')\n"
   ]
  },
  {
   "cell_type": "code",
   "execution_count": 36,
   "id": "2cd6b31b",
   "metadata": {},
   "outputs": [
    {
     "name": "stderr",
     "output_type": "stream",
     "text": [
      "                                                                                \r"
     ]
    },
    {
     "name": "stdout",
     "output_type": "stream",
     "text": [
      "+---------+------------------+------------+---------------+----+\n",
      "|race_year|       driver_name|total_points|number_of_races|rank|\n",
      "+---------+------------------+------------+---------------+----+\n",
      "|     2019|    Lewis Hamilton|       413.0|             21|   1|\n",
      "|     2019|   Valtteri Bottas|       326.0|             21|   2|\n",
      "|     2019|    Max Verstappen|       278.0|             21|   3|\n",
      "|     2019|   Charles Leclerc|       264.0|             21|   4|\n",
      "|     2019|  Sebastian Vettel|       240.0|             21|   5|\n",
      "|     2019|      Carlos Sainz|        96.0|             21|   6|\n",
      "|     2019|      Pierre Gasly|        95.0|             21|   7|\n",
      "|     2019|   Alexander Albon|        92.0|             21|   8|\n",
      "|     2019|  Daniel Ricciardo|        54.0|             21|   9|\n",
      "|     2019|      Sergio Pérez|        52.0|             21|  10|\n",
      "|     2019|      Lando Norris|        49.0|             21|  11|\n",
      "|     2019|    Kimi Räikkönen|        43.0|             21|  12|\n",
      "|     2019|   Nico Hülkenberg|        37.0|             21|  13|\n",
      "|     2019|      Daniil Kvyat|        37.0|             21|  13|\n",
      "|     2019|      Lance Stroll|        21.0|             21|  15|\n",
      "|     2019|   Kevin Magnussen|        20.0|             21|  16|\n",
      "|     2019|Antonio Giovinazzi|        14.0|             21|  17|\n",
      "|     2019|   Romain Grosjean|         8.0|             21|  18|\n",
      "|     2019|     Robert Kubica|         1.0|             21|  19|\n",
      "|     2019|    George Russell|         0.0|             21|  20|\n",
      "|     2020|    Lewis Hamilton|       347.0|             16|   1|\n",
      "|     2020|   Valtteri Bottas|       223.0|             17|   2|\n",
      "|     2020|    Max Verstappen|       214.0|             17|   3|\n",
      "|     2020|      Sergio Pérez|       125.0|             15|   4|\n",
      "|     2020|  Daniel Ricciardo|       119.0|             17|   5|\n",
      "|     2020|      Carlos Sainz|       105.0|             17|   6|\n",
      "|     2020|   Alexander Albon|       105.0|             17|   6|\n",
      "|     2020|   Charles Leclerc|        98.0|             17|   8|\n",
      "|     2020|      Lando Norris|        97.0|             17|   9|\n",
      "|     2020|      Pierre Gasly|        75.0|             17|  10|\n",
      "|     2020|      Lance Stroll|        75.0|             16|  10|\n",
      "|     2020|      Esteban Ocon|        62.0|             17|  12|\n",
      "|     2020|  Sebastian Vettel|        33.0|             17|  13|\n",
      "|     2020|      Daniil Kvyat|        32.0|             17|  14|\n",
      "|     2020|   Nico Hülkenberg|        10.0|              3|  15|\n",
      "|     2020|Antonio Giovinazzi|         4.0|             17|  16|\n",
      "|     2020|    Kimi Räikkönen|         4.0|             17|  16|\n",
      "|     2020|    George Russell|         3.0|             17|  18|\n",
      "|     2020|   Romain Grosjean|         2.0|             15|  19|\n",
      "|     2020|   Kevin Magnussen|         1.0|             17|  20|\n",
      "|     2020| Pietro Fittipaldi|         0.0|              2|  21|\n",
      "|     2020|       Jack Aitken|         0.0|              1|  21|\n",
      "|     2020|   Nicholas Latifi|         0.0|             17|  21|\n",
      "+---------+------------------+------------+---------------+----+\n",
      "\n"
     ]
    }
   ],
   "source": [
    "window_spec = Window.partitionBy('race_year').orderBy(desc('total_points'))\n",
    "\n",
    "rnk_df.withColumn('rank',rank().over(window_spec)).show(50)"
   ]
  },
  {
   "cell_type": "code",
   "execution_count": null,
   "id": "9fa65c1e",
   "metadata": {},
   "outputs": [],
   "source": []
  }
 ],
 "metadata": {
  "kernelspec": {
   "display_name": "Python 3 (ipykernel)",
   "language": "python",
   "name": "python3"
  },
  "language_info": {
   "codemirror_mode": {
    "name": "ipython",
    "version": 3
   },
   "file_extension": ".py",
   "mimetype": "text/x-python",
   "name": "python",
   "nbconvert_exporter": "python",
   "pygments_lexer": "ipython3",
   "version": "3.9.7"
  }
 },
 "nbformat": 4,
 "nbformat_minor": 5
}
