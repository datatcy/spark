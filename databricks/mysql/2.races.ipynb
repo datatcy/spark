{
 "cells": [
  {
   "cell_type": "code",
   "execution_count": 30,
   "id": "c307a04b",
   "metadata": {},
   "outputs": [],
   "source": [
    "from pyspark.sql import SparkSession\n",
    "spark = SparkSession.builder.appName('basic').getOrCreate()"
   ]
  },
  {
   "cell_type": "code",
   "execution_count": 31,
   "id": "5cc98e6b",
   "metadata": {},
   "outputs": [],
   "source": [
    "from pyspark.sql.types import StructType, StructField, IntegerType, StringType, TimestampType, DateType\n",
    "from pyspark.sql.functions import concat,col,lit,to_timestamp, current_timestamp\n"
   ]
  },
  {
   "cell_type": "code",
   "execution_count": 32,
   "id": "40b13dc9",
   "metadata": {},
   "outputs": [],
   "source": [
    "race_schema = StructType([StructField('raceid', IntegerType(),True),\n",
    "                          StructField('year', IntegerType(),False),\n",
    "                          StructField('round', IntegerType(),False),\n",
    "                          StructField('circuitid', IntegerType(),False),\n",
    "                          StructField('name', StringType(),False),\n",
    "                          StructField('date', DateType(),False),\n",
    "                          StructField('time', StringType(),False),\n",
    "                          StructField('url', StringType(), False) \n",
    "                          ])"
   ]
  },
  {
   "cell_type": "code",
   "execution_count": 33,
   "id": "ef39a405",
   "metadata": {},
   "outputs": [],
   "source": [
    "race_df= spark.read.option('header',True).schema(race_schema).format('csv').load('source/races.csv')\n"
   ]
  },
  {
   "cell_type": "code",
   "execution_count": 34,
   "id": "e74280d0",
   "metadata": {},
   "outputs": [],
   "source": [
    "race_selected_df = race_df.select(col('raceid'),col('year'),col('round'),col('circuitid'),col('name'),col('date'),col('time'))"
   ]
  },
  {
   "cell_type": "code",
   "execution_count": 35,
   "id": "648d489f",
   "metadata": {},
   "outputs": [],
   "source": [
    "race_columnrenameed_df = race_selected_df.withColumnRenamed('raceid','race_id')\\\n",
    "                .withColumnRenamed('year','race_year')\\\n",
    "                .withColumnRenamed('circuitid','circuiit_id')\\\n",
    "                .withColumn('race_timestamp',to_timestamp(concat(col('date'),lit(' '),col('time')),'yyyy-MM-dd HH:mm:ss'))\\\n",
    "                .withColumn('ingestion_date',current_timestamp())"
   ]
  },
  {
   "cell_type": "code",
   "execution_count": 36,
   "id": "5f0a1825",
   "metadata": {},
   "outputs": [],
   "source": [
    "selected_race_df = race_columnrenameed_df.select(col('race_id'),col('race_year'),col('round'),col('circuiit_id'),\n",
    "                                                 col('name'),col('race_timestamp'),col('ingestion_date'))"
   ]
  },
  {
   "cell_type": "code",
   "execution_count": null,
   "id": "d2cd1d83",
   "metadata": {},
   "outputs": [],
   "source": [
    "selected_race_df.write.partitionBy('race_year').option('header', True).mode('overwrite').format('csv').save('tbls/races')"
   ]
  },
  {
   "cell_type": "code",
   "execution_count": 14,
   "id": "f1cbddb4",
   "metadata": {},
   "outputs": [],
   "source": [
    "selected_race_df.write.option('header', True).mode('overwrite').format('csv').save('tbls/source')"
   ]
  },
  {
   "cell_type": "code",
   "execution_count": 37,
   "id": "df847810",
   "metadata": {},
   "outputs": [],
   "source": [
    "df = spark.read.option('header',True).option('inferSchema',True).format('csv').load('tbls/race/race.csv')\n",
    "                                                         "
   ]
  },
  {
   "cell_type": "code",
   "execution_count": null,
   "id": "f831e837",
   "metadata": {},
   "outputs": [],
   "source": []
  },
  {
   "cell_type": "code",
   "execution_count": 22,
   "id": "791b32cb",
   "metadata": {},
   "outputs": [
    {
     "name": "stdout",
     "output_type": "stream",
     "text": [
      "29\n"
     ]
    }
   ],
   "source": [
    "outs = []\n",
    "for i in df.select('name').collect():\n",
    "    outs.append(len(i['name']))\n",
    "\n",
    "print(max(outs))"
   ]
  },
  {
   "cell_type": "code",
   "execution_count": 29,
   "id": "a1254cfb",
   "metadata": {},
   "outputs": [
    {
     "name": "stdout",
     "output_type": "stream",
     "text": [
      "root\n",
      " |-- race_id: integer (nullable = true)\n",
      " |-- race_year: integer (nullable = true)\n",
      " |-- round: integer (nullable = true)\n",
      " |-- circuiit_id: integer (nullable = true)\n",
      " |-- name: string (nullable = true)\n",
      " |-- race_timestamp: timestamp (nullable = true)\n",
      " |-- ingestion_date: timestamp (nullable = true)\n",
      "\n"
     ]
    }
   ],
   "source": [
    "df.printSchema()"
   ]
  },
  {
   "cell_type": "code",
   "execution_count": null,
   "id": "d5fb1086",
   "metadata": {},
   "outputs": [],
   "source": [
    "df = spark.read.parquet('tbls/race/')"
   ]
  },
  {
   "cell_type": "code",
   "execution_count": null,
   "id": "07f05741",
   "metadata": {},
   "outputs": [],
   "source": []
  },
  {
   "cell_type": "code",
   "execution_count": 22,
   "id": "869043a3",
   "metadata": {},
   "outputs": [],
   "source": [
    "df = spark.read.csv('tbls/race/race.csv')"
   ]
  }
 ],
 "metadata": {
  "kernelspec": {
   "display_name": "Python 3 (ipykernel)",
   "language": "python",
   "name": "python3"
  },
  "language_info": {
   "codemirror_mode": {
    "name": "ipython",
    "version": 3
   },
   "file_extension": ".py",
   "mimetype": "text/x-python",
   "name": "python",
   "nbconvert_exporter": "python",
   "pygments_lexer": "ipython3",
   "version": "3.9.7"
  }
 },
 "nbformat": 4,
 "nbformat_minor": 5
}
