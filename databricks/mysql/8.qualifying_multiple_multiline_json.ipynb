{
 "cells": [
  {
   "cell_type": "code",
   "execution_count": 1,
   "id": "3b459774",
   "metadata": {},
   "outputs": [
    {
     "name": "stderr",
     "output_type": "stream",
     "text": [
      "24/11/23 00:21:33 WARN NativeCodeLoader: Unable to load native-hadoop library for your platform... using builtin-java classes where applicable\n",
      "Using Spark's default log4j profile: org/apache/spark/log4j-defaults.properties\n",
      "Setting default log level to \"WARN\".\n",
      "To adjust logging level use sc.setLogLevel(newLevel). For SparkR, use setLogLevel(newLevel).\n",
      "24/11/23 00:21:35 WARN Utils: Service 'SparkUI' could not bind on port 4040. Attempting port 4041.\n",
      "24/11/23 00:21:35 WARN Utils: Service 'SparkUI' could not bind on port 4041. Attempting port 4042.\n",
      "24/11/23 00:21:35 WARN Utils: Service 'SparkUI' could not bind on port 4042. Attempting port 4043.\n",
      "24/11/23 00:21:35 WARN Utils: Service 'SparkUI' could not bind on port 4043. Attempting port 4044.\n",
      "24/11/23 00:21:35 WARN Utils: Service 'SparkUI' could not bind on port 4044. Attempting port 4045.\n",
      "24/11/23 00:21:35 WARN Utils: Service 'SparkUI' could not bind on port 4045. Attempting port 4046.\n",
      "24/11/23 00:21:35 WARN Utils: Service 'SparkUI' could not bind on port 4046. Attempting port 4047.\n",
      "24/11/23 00:21:35 WARN Utils: Service 'SparkUI' could not bind on port 4047. Attempting port 4048.\n"
     ]
    }
   ],
   "source": [
    "from pyspark.sql import SparkSession\n",
    "spark = SparkSession.builder.appName('basic').getOrCreate()"
   ]
  },
  {
   "cell_type": "code",
   "execution_count": 2,
   "id": "dd5a656b",
   "metadata": {},
   "outputs": [],
   "source": [
    "from pyspark.sql.types import StructType,StructField,StringType,IntegerType\n",
    "from pyspark.sql.functions import col, current_timestamp"
   ]
  },
  {
   "cell_type": "code",
   "execution_count": 3,
   "id": "346d7a3f",
   "metadata": {},
   "outputs": [],
   "source": [
    "qualifying_schema = StructType([\n",
    "                        StructField('qualifyId',IntegerType()),\n",
    "                        StructField('raceId',IntegerType()),\n",
    "                        StructField('driverId',IntegerType()),\n",
    "                        StructField('constructorId', IntegerType()),\n",
    "                        StructField('number',IntegerType()),\n",
    "                        StructField('position',IntegerType()),\n",
    "                        StructField('q1',StringType()),\n",
    "                        StructField('q2',StringType()),\n",
    "                        StructField('q3',StringType())\n",
    "                            ])"
   ]
  },
  {
   "cell_type": "code",
   "execution_count": 4,
   "id": "aec90b71",
   "metadata": {},
   "outputs": [],
   "source": [
    "qualifying_df = spark.read.schema(qualifying_schema).option('multiLine',True).format('json').load('source/qualifying')\n",
    "\n"
   ]
  },
  {
   "cell_type": "code",
   "execution_count": 5,
   "id": "dd335c5d",
   "metadata": {},
   "outputs": [],
   "source": [
    "qualifying_withcolumnremaned = qualifying_df.withColumnRenamed('qualifyId','qualify_id')\\\n",
    "                                    .withColumnRenamed('raceId','race_id')\\\n",
    "                                    .withColumnRenamed('driverId','driver_id')\\\n",
    "                                    .withColumnRenamed('constructorId','constructor_id')\\\n",
    "                                    .withColumn('ingestion_date',current_timestamp())"
   ]
  },
  {
   "cell_type": "code",
   "execution_count": 7,
   "id": "8024b0c5",
   "metadata": {},
   "outputs": [],
   "source": [
    "qualifying_withcolumnremaned.coalesce(1).write.option('header',True).mode('overwrite').format('csv').save('tbls/qualifying')\n"
   ]
  },
  {
   "cell_type": "code",
   "execution_count": 5,
   "id": "5f0498c0",
   "metadata": {},
   "outputs": [
    {
     "name": "stderr",
     "output_type": "stream",
     "text": [
      "\r",
      "[Stage 0:>                                                          (0 + 1) / 1]\r",
      "\r",
      "                                                                                \r"
     ]
    }
   ],
   "source": [
    "df = spark.read.option('header',True).option('inferSchema',True).csv('tbls/qualifying/qualifying.csv')\n",
    "                                                                     "
   ]
  },
  {
   "cell_type": "code",
   "execution_count": 10,
   "id": "56c89b84",
   "metadata": {},
   "outputs": [
    {
     "name": "stdout",
     "output_type": "stream",
     "text": [
      "root\n",
      " |-- qualify_id: integer (nullable = true)\n",
      " |-- race_id: integer (nullable = true)\n",
      " |-- driver_id: integer (nullable = true)\n",
      " |-- constructor_id: integer (nullable = true)\n",
      " |-- number: integer (nullable = true)\n",
      " |-- position: integer (nullable = true)\n",
      " |-- q1: string (nullable = true)\n",
      " |-- q2: string (nullable = true)\n",
      " |-- q3: string (nullable = true)\n",
      " |-- ingestion_date: timestamp (nullable = true)\n",
      "\n"
     ]
    }
   ],
   "source": [
    "df.printSchema()"
   ]
  },
  {
   "cell_type": "code",
   "execution_count": 14,
   "id": "29ca67d3",
   "metadata": {},
   "outputs": [
    {
     "name": "stdout",
     "output_type": "stream",
     "text": [
      "+--------+\n",
      "|      q2|\n",
      "+--------+\n",
      "|1:25.187|\n",
      "|1:25.315|\n",
      "|1:25.452|\n",
      "|1:25.691|\n",
      "|1:25.518|\n",
      "|1:26.101|\n",
      "|1:26.059|\n",
      "|1:26.063|\n",
      "|1:26.164|\n",
      "|1:25.842|\n",
      "|1:26.173|\n",
      "|1:26.188|\n",
      "|1:26.259|\n",
      "|1:26.413|\n",
      "|      \\N|\n",
      "|      \\N|\n",
      "|      \\N|\n",
      "|      \\N|\n",
      "|      \\N|\n",
      "|      \\N|\n",
      "+--------+\n",
      "only showing top 20 rows\n",
      "\n"
     ]
    }
   ],
   "source": [
    "df.select('q2').show()"
   ]
  },
  {
   "cell_type": "code",
   "execution_count": null,
   "id": "e6e12a02",
   "metadata": {},
   "outputs": [],
   "source": []
  }
 ],
 "metadata": {
  "kernelspec": {
   "display_name": "Python 3 (ipykernel)",
   "language": "python",
   "name": "python3"
  },
  "language_info": {
   "codemirror_mode": {
    "name": "ipython",
    "version": 3
   },
   "file_extension": ".py",
   "mimetype": "text/x-python",
   "name": "python",
   "nbconvert_exporter": "python",
   "pygments_lexer": "ipython3",
   "version": "3.9.7"
  }
 },
 "nbformat": 4,
 "nbformat_minor": 5
}
