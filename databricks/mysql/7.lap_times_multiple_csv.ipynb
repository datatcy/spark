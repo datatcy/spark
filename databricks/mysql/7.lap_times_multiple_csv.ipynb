{
 "cells": [
  {
   "cell_type": "code",
   "execution_count": 1,
   "id": "d464f445",
   "metadata": {},
   "outputs": [
    {
     "name": "stderr",
     "output_type": "stream",
     "text": [
      "24/11/23 00:20:17 WARN NativeCodeLoader: Unable to load native-hadoop library for your platform... using builtin-java classes where applicable\n",
      "Using Spark's default log4j profile: org/apache/spark/log4j-defaults.properties\n",
      "Setting default log level to \"WARN\".\n",
      "To adjust logging level use sc.setLogLevel(newLevel). For SparkR, use setLogLevel(newLevel).\n",
      "24/11/23 00:20:18 WARN Utils: Service 'SparkUI' could not bind on port 4040. Attempting port 4041.\n",
      "24/11/23 00:20:18 WARN Utils: Service 'SparkUI' could not bind on port 4041. Attempting port 4042.\n",
      "24/11/23 00:20:18 WARN Utils: Service 'SparkUI' could not bind on port 4042. Attempting port 4043.\n",
      "24/11/23 00:20:18 WARN Utils: Service 'SparkUI' could not bind on port 4043. Attempting port 4044.\n",
      "24/11/23 00:20:18 WARN Utils: Service 'SparkUI' could not bind on port 4044. Attempting port 4045.\n",
      "24/11/23 00:20:18 WARN Utils: Service 'SparkUI' could not bind on port 4045. Attempting port 4046.\n",
      "24/11/23 00:20:18 WARN Utils: Service 'SparkUI' could not bind on port 4046. Attempting port 4047.\n"
     ]
    }
   ],
   "source": [
    "from pyspark.sql import SparkSession\n",
    "spark = SparkSession.builder.appName('basic').getOrCreate()"
   ]
  },
  {
   "cell_type": "code",
   "execution_count": 2,
   "id": "f18fa53a",
   "metadata": {},
   "outputs": [],
   "source": [
    "from pyspark.sql.types import StructType,StructField,IntegerType,StringType\n",
    "from pyspark.sql.functions import col,current_timestamp"
   ]
  },
  {
   "cell_type": "code",
   "execution_count": 3,
   "id": "347e5e03",
   "metadata": {},
   "outputs": [],
   "source": [
    "lap_time_schema = StructType([\n",
    "                    StructField('raceId',IntegerType()),\n",
    "                    StructField('driverId',IntegerType()),\n",
    "                    StructField('lap',IntegerType()),\n",
    "                    StructField('position',IntegerType()),\n",
    "                    StructField('time',StringType()),\n",
    "                    StructField('milliseconds',IntegerType())\n",
    "                            ])"
   ]
  },
  {
   "cell_type": "code",
   "execution_count": 4,
   "id": "65157871",
   "metadata": {},
   "outputs": [],
   "source": [
    "lap_time_df = spark.read.schema(lap_time_schema).option('header',True).format('csv').load('source/lap_times/*.csv')\n"
   ]
  },
  {
   "cell_type": "code",
   "execution_count": 5,
   "id": "99805efc",
   "metadata": {},
   "outputs": [],
   "source": [
    "lap_time_withcolumnrenamed = lap_time_df.withColumnRenamed('raceId','race_id')\\\n",
    "                                    .withColumnRenamed('driverId','driver_id')\\\n",
    "                                    .withColumn('ingestion_date',current_timestamp())"
   ]
  },
  {
   "cell_type": "code",
   "execution_count": 9,
   "id": "30f57145",
   "metadata": {},
   "outputs": [
    {
     "name": "stderr",
     "output_type": "stream",
     "text": [
      "24/07/10 21:48:08 WARN CSVHeaderChecker: CSV header does not conform to the schema.\n",
      " Header: 841, 20, 1, 1, 1:38.109, 98109\n",
      " Schema: raceId, driverId, lap, position, time, milliseconds\n",
      "Expected: raceId but found: 841\n",
      "CSV file: file:///Users/francispaulraj/Training/Udemy/DataBricks/AzureDatabricks/mysql/source/lap_times/lap_times_split_1.csv\n",
      "24/07/10 21:48:08 WARN CSVHeaderChecker: CSV header does not conform to the schema.\n",
      " Header: 933, 830, 47, 7, 1:12.976, 72976\n",
      " Schema: raceId, driverId, lap, position, time, milliseconds\n",
      "Expected: raceId but found: 933\n",
      "CSV file: file:///Users/francispaulraj/Training/Udemy/DataBricks/AzureDatabricks/mysql/source/lap_times/lap_times_split_2.csv\n",
      "24/07/10 21:48:08 WARN CSVHeaderChecker: CSV header does not conform to the schema.\n",
      " Header: 67, 14, 26, 13, 1:25.802, 85802\n",
      " Schema: raceId, driverId, lap, position, time, milliseconds\n",
      "Expected: raceId but found: 67\n",
      "CSV file: file:///Users/francispaulraj/Training/Udemy/DataBricks/AzureDatabricks/mysql/source/lap_times/lap_times_split_4.csv\n",
      "24/07/10 21:48:09 WARN CSVHeaderChecker: CSV header does not conform to the schema.\n",
      " Header: 145, 2, 39, 7, 1:27.597, 87597\n",
      " Schema: raceId, driverId, lap, position, time, milliseconds\n",
      "Expected: raceId but found: 145\n",
      "CSV file: file:///Users/francispaulraj/Training/Udemy/DataBricks/AzureDatabricks/mysql/source/lap_times/lap_times_split_3.csv\n",
      "24/07/10 21:48:09 WARN CSVHeaderChecker: CSV header does not conform to the schema.\n",
      " Header: 963, 836, 9, 15, 2:22.467, 142467\n",
      " Schema: raceId, driverId, lap, position, time, milliseconds\n",
      "Expected: raceId but found: 963\n",
      "CSV file: file:///Users/francispaulraj/Training/Udemy/DataBricks/AzureDatabricks/mysql/source/lap_times/lap_times_split_5.csv\n",
      "                                                                                \r"
     ]
    }
   ],
   "source": [
    "lap_time_withcolumnrenamed.coalesce(1).write.option('header',True).mode('overwrite').format('csv').save('tbls/laptimes')\n"
   ]
  },
  {
   "cell_type": "code",
   "execution_count": 5,
   "id": "bb7444dc",
   "metadata": {},
   "outputs": [
    {
     "name": "stderr",
     "output_type": "stream",
     "text": [
      "                                                                                \r"
     ]
    }
   ],
   "source": [
    "df = spark.read.option('inferSchema',True).option('header',True).csv('tbls/laptimes')\n"
   ]
  },
  {
   "cell_type": "code",
   "execution_count": 14,
   "id": "ff6d263b",
   "metadata": {},
   "outputs": [
    {
     "name": "stdout",
     "output_type": "stream",
     "text": [
      "root\n",
      " |-- race_id: integer (nullable = true)\n",
      " |-- driver_id: integer (nullable = true)\n",
      " |-- lap: integer (nullable = true)\n",
      " |-- position: integer (nullable = true)\n",
      " |-- time: string (nullable = true)\n",
      " |-- milliseconds: integer (nullable = true)\n",
      " |-- ingestion_date: timestamp (nullable = true)\n",
      "\n"
     ]
    }
   ],
   "source": [
    "df.printSchema()"
   ]
  },
  {
   "cell_type": "code",
   "execution_count": null,
   "id": "6558849b",
   "metadata": {},
   "outputs": [],
   "source": []
  }
 ],
 "metadata": {
  "kernelspec": {
   "display_name": "Python 3 (ipykernel)",
   "language": "python",
   "name": "python3"
  },
  "language_info": {
   "codemirror_mode": {
    "name": "ipython",
    "version": 3
   },
   "file_extension": ".py",
   "mimetype": "text/x-python",
   "name": "python",
   "nbconvert_exporter": "python",
   "pygments_lexer": "ipython3",
   "version": "3.9.7"
  }
 },
 "nbformat": 4,
 "nbformat_minor": 5
}
