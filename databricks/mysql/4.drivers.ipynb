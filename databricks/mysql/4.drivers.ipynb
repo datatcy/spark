{
 "cells": [
  {
   "cell_type": "code",
   "execution_count": 1,
   "id": "66445021",
   "metadata": {},
   "outputs": [
    {
     "name": "stderr",
     "output_type": "stream",
     "text": [
      "24/11/23 00:11:21 WARN NativeCodeLoader: Unable to load native-hadoop library for your platform... using builtin-java classes where applicable\n",
      "Using Spark's default log4j profile: org/apache/spark/log4j-defaults.properties\n",
      "Setting default log level to \"WARN\".\n",
      "To adjust logging level use sc.setLogLevel(newLevel). For SparkR, use setLogLevel(newLevel).\n",
      "24/11/23 00:11:22 WARN Utils: Service 'SparkUI' could not bind on port 4040. Attempting port 4041.\n",
      "24/11/23 00:11:22 WARN Utils: Service 'SparkUI' could not bind on port 4041. Attempting port 4042.\n",
      "24/11/23 00:11:22 WARN Utils: Service 'SparkUI' could not bind on port 4042. Attempting port 4043.\n"
     ]
    }
   ],
   "source": [
    "from pyspark.sql import SparkSession\n",
    "spark = SparkSession.builder.appName('basic').getOrCreate()"
   ]
  },
  {
   "cell_type": "code",
   "execution_count": 2,
   "id": "179133d7",
   "metadata": {},
   "outputs": [],
   "source": [
    "from pyspark.sql.types import StructType,StructField,IntegerType,StringType,DateType,TimestampType\n",
    "from pyspark.sql.functions import col, concat,current_timestamp,lit"
   ]
  },
  {
   "cell_type": "code",
   "execution_count": 3,
   "id": "f06057f6",
   "metadata": {},
   "outputs": [],
   "source": [
    "name_schema = StructType([StructField('forename', StringType()),\n",
    "                          StructField('surname', StringType())])"
   ]
  },
  {
   "cell_type": "code",
   "execution_count": 4,
   "id": "1933a722",
   "metadata": {},
   "outputs": [],
   "source": [
    "driver_schema = StructType([\n",
    "            StructField('driverId',IntegerType()),\n",
    "            StructField('driverRef',StringType()),\n",
    "            StructField('number', IntegerType()),\n",
    "            StructField('code', StringType()),\n",
    "            StructField('name',name_schema),\n",
    "            StructField('dob', DateType()),\n",
    "            StructField('nationality',StringType()),\n",
    "            StructField('url',StringType())\n",
    "])"
   ]
  },
  {
   "cell_type": "code",
   "execution_count": 5,
   "id": "5d9359e2",
   "metadata": {},
   "outputs": [],
   "source": [
    "driver_df = spark.read.schema(driver_schema).json('source/drivers.json')\n"
   ]
  },
  {
   "cell_type": "code",
   "execution_count": 7,
   "id": "a1b1f1f9",
   "metadata": {},
   "outputs": [],
   "source": [
    "driver_wiithcolumnrenamed = driver_df.withColumnRenamed('driverId', 'driver_id')\\\n",
    ".withColumnRenamed('driverRef','driver_ref')\\\n",
    ".withColumn('ingestion_date',current_timestamp())\\\n",
    ".withColumn('name',concat(col('name.forename'),lit(' '),col('name.surname'))).drop('url')"
   ]
  },
  {
   "cell_type": "code",
   "execution_count": 11,
   "id": "7335b1d0",
   "metadata": {},
   "outputs": [],
   "source": [
    "driver_wiithcolumnrenamed.write.option('header',True).mode('overwrite').format('csv').save('tbls/drivers')\n"
   ]
  },
  {
   "cell_type": "code",
   "execution_count": 6,
   "id": "8887ace1",
   "metadata": {},
   "outputs": [],
   "source": [
    "df = spark.read.option('header',True).option('InferSchema',True).csv('tbls/drivers/drivers.csv')"
   ]
  },
  {
   "cell_type": "code",
   "execution_count": 28,
   "id": "fdc05438",
   "metadata": {},
   "outputs": [
    {
     "name": "stdout",
     "output_type": "stream",
     "text": [
      "17\n"
     ]
    }
   ],
   "source": [
    "outs =[]\n",
    "for i in df.select('nationality').collect():\n",
    "    outs.append(len(i[0]))\n",
    "print(max(outs))"
   ]
  },
  {
   "cell_type": "code",
   "execution_count": 23,
   "id": "932f6ae0",
   "metadata": {},
   "outputs": [
    {
     "name": "stdout",
     "output_type": "stream",
     "text": [
      "root\n",
      " |-- driver_id: integer (nullable = true)\n",
      " |-- driver_ref: string (nullable = true)\n",
      " |-- number: integer (nullable = true)\n",
      " |-- code: string (nullable = true)\n",
      " |-- name: string (nullable = true)\n",
      " |-- dob: string (nullable = true)\n",
      " |-- nationality: string (nullable = true)\n",
      " |-- ingestion_date: timestamp (nullable = true)\n",
      "\n"
     ]
    }
   ],
   "source": [
    "df.printSchema()"
   ]
  },
  {
   "cell_type": "code",
   "execution_count": null,
   "id": "985bc242",
   "metadata": {},
   "outputs": [],
   "source": []
  }
 ],
 "metadata": {
  "kernelspec": {
   "display_name": "Python 3 (ipykernel)",
   "language": "python",
   "name": "python3"
  },
  "language_info": {
   "codemirror_mode": {
    "name": "ipython",
    "version": 3
   },
   "file_extension": ".py",
   "mimetype": "text/x-python",
   "name": "python",
   "nbconvert_exporter": "python",
   "pygments_lexer": "ipython3",
   "version": "3.9.7"
  }
 },
 "nbformat": 4,
 "nbformat_minor": 5
}
