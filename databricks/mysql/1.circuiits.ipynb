{
 "cells": [
  {
   "cell_type": "code",
   "execution_count": 90,
   "id": "29a0174c",
   "metadata": {},
   "outputs": [],
   "source": [
    "from pyspark.sql import SparkSession\n",
    "spark = SparkSession.builder.appName('basic').getOrCreate()"
   ]
  },
  {
   "cell_type": "code",
   "execution_count": 91,
   "id": "0d789daa",
   "metadata": {},
   "outputs": [],
   "source": [
    "from pyspark.sql.types import IntegerType,StructType,StructField,StringType,DoubleType\n",
    "from pyspark.sql.functions import col,lit"
   ]
  },
  {
   "cell_type": "code",
   "execution_count": 92,
   "id": "39448a40",
   "metadata": {},
   "outputs": [],
   "source": [
    "CircuitSchema = StructType([StructField('circuitId',IntegerType(), False),\n",
    "                            StructField('circuitRef',StringType(),True),\n",
    "                            StructField('name',StringType(),True),\n",
    "                            StructField('location',StringType(),True),\n",
    "                            StructField('country', StringType(),True),\n",
    "                            StructField('lat',DoubleType(),True),\n",
    "                            StructField('lng',DoubleType(),True),\n",
    "                            StructField('alt',IntegerType(),True),\n",
    "                            StructField('url',StringType(),True)\n",
    "                            ])"
   ]
  },
  {
   "cell_type": "code",
   "execution_count": 93,
   "id": "5dbbb2c6",
   "metadata": {},
   "outputs": [],
   "source": [
    "circuit_df = spark.read.option('header',True).schema(CircuitSchema).csv('../source/circuits.csv')\n"
   ]
  },
  {
   "cell_type": "code",
   "execution_count": 94,
   "id": "3d393fd9",
   "metadata": {},
   "outputs": [],
   "source": [
    "circuit_selected_columns = circuit_df.select(col('circuitId'),col('circuitRef'),col('name'),col('location'),col('country'),col('lat'),col('lng'),col('alt'))\n"
   ]
  },
  {
   "cell_type": "code",
   "execution_count": 95,
   "id": "29d0dead",
   "metadata": {},
   "outputs": [],
   "source": [
    "circuit_columnrenamed_df = circuit_selected_columns.withColumnRenamed('circuitId','circuit_id')\\\n",
    "        .withColumnRenamed('circuitRef','circuit_ref')\\\n",
    "        .withColumnRenamed('lat','latitude')\\\n",
    "        .withColumnRenamed('lng','longitude')\\\n",
    "        .withColumnRenamed('alt','altitude')\\\n",
    "        .withColumn('data_souurce',lit('raw'))"
   ]
  },
  {
   "cell_type": "code",
   "execution_count": null,
   "id": "9de624f1",
   "metadata": {},
   "outputs": [],
   "source": [
    "circuit_columnrenamed_df.write.format('csv').option('header',True).mode('overwrite').save(driver_wiithcolumnrenamed.write.mode('overwrite').format('parquet').save('/mysql_load/raw/drivers')"
   ]
  },
  {
   "cell_type": "code",
   "execution_count": 102,
   "id": "933139d6",
   "metadata": {},
   "outputs": [
    {
     "name": "stderr",
     "output_type": "stream",
     "text": [
      "\r",
      "[Stage 0:>                                                          (0 + 1) / 1]\r",
      "\r",
      "                                                                                \r"
     ]
    }
   ],
   "source": [
    "out = spark.read.option('header',True).csv('../tbls/circuits/circuits.csv')"
   ]
  },
  {
   "cell_type": "code",
   "execution_count": null,
   "id": "71e1d993",
   "metadata": {},
   "outputs": [],
   "source": []
  }
 ],
 "metadata": {
  "kernelspec": {
   "display_name": "Python 3 (ipykernel)",
   "language": "python",
   "name": "python3"
  },
  "language_info": {
   "codemirror_mode": {
    "name": "ipython",
    "version": 3
   },
   "file_extension": ".py",
   "mimetype": "text/x-python",
   "name": "python",
   "nbconvert_exporter": "python",
   "pygments_lexer": "ipython3",
   "version": "3.9.7"
  }
 },
 "nbformat": 4,
 "nbformat_minor": 5
}
