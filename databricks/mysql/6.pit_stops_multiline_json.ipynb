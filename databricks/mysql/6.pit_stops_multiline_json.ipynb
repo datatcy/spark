{
 "cells": [
  {
   "cell_type": "code",
   "execution_count": 1,
   "id": "2e770ae5",
   "metadata": {},
   "outputs": [
    {
     "name": "stderr",
     "output_type": "stream",
     "text": [
      "24/11/23 00:18:52 WARN NativeCodeLoader: Unable to load native-hadoop library for your platform... using builtin-java classes where applicable\n",
      "Using Spark's default log4j profile: org/apache/spark/log4j-defaults.properties\n",
      "Setting default log level to \"WARN\".\n",
      "To adjust logging level use sc.setLogLevel(newLevel). For SparkR, use setLogLevel(newLevel).\n",
      "24/11/23 00:18:53 WARN Utils: Service 'SparkUI' could not bind on port 4040. Attempting port 4041.\n",
      "24/11/23 00:18:53 WARN Utils: Service 'SparkUI' could not bind on port 4041. Attempting port 4042.\n",
      "24/11/23 00:18:53 WARN Utils: Service 'SparkUI' could not bind on port 4042. Attempting port 4043.\n",
      "24/11/23 00:18:53 WARN Utils: Service 'SparkUI' could not bind on port 4043. Attempting port 4044.\n",
      "24/11/23 00:18:53 WARN Utils: Service 'SparkUI' could not bind on port 4044. Attempting port 4045.\n",
      "24/11/23 00:18:53 WARN Utils: Service 'SparkUI' could not bind on port 4045. Attempting port 4046.\n"
     ]
    }
   ],
   "source": [
    "from pyspark.sql import SparkSession\n",
    "spark = SparkSession.builder.appName('basic').getOrCreate()"
   ]
  },
  {
   "cell_type": "code",
   "execution_count": 2,
   "id": "d66ec10d",
   "metadata": {},
   "outputs": [],
   "source": [
    "from pyspark.sql.types import StructField, StructType,IntegerType,StringType,TimestampType\n",
    "from pyspark.sql.functions import col, current_timestamp"
   ]
  },
  {
   "cell_type": "code",
   "execution_count": 3,
   "id": "f98f2b8a",
   "metadata": {},
   "outputs": [],
   "source": [
    "pit_stops_schema = StructType([\n",
    "                    StructField('raceId',IntegerType()),\n",
    "                    StructField('driverId',IntegerType()),\n",
    "                    StructField('stop',StringType()),\n",
    "                    StructField('lap',IntegerType()),\n",
    "                    StructField('time',StringType()),\n",
    "                    StructField('duration',StringType()),\n",
    "                    StructField('milliseconds',IntegerType())\n",
    "                ])"
   ]
  },
  {
   "cell_type": "code",
   "execution_count": 4,
   "id": "047114d9",
   "metadata": {},
   "outputs": [],
   "source": [
    "pit_stops_df = spark.read.schema(pit_stops_schema).option('multiLine',True).json('source/pit_stops.json')\n"
   ]
  },
  {
   "cell_type": "code",
   "execution_count": 23,
   "id": "3fd8332e",
   "metadata": {},
   "outputs": [],
   "source": [
    "pit_stops_withcolumnrenamed = pit_stops_df.withColumnRenamed('raceId','race_id')\\\n",
    "                                .withColumnRenamed('driverId','driver_id')\\\n",
    "                                .withColumn('ingestion_date',current_timestamp())"
   ]
  },
  {
   "cell_type": "code",
   "execution_count": 24,
   "id": "175f340a",
   "metadata": {},
   "outputs": [],
   "source": [
    "pit_stops_withcolumnrenamed.write.option('header',True).mode('overwrite').format('csv').save('tbls/pitstops')\n"
   ]
  },
  {
   "cell_type": "code",
   "execution_count": 5,
   "id": "89cc5e8c",
   "metadata": {},
   "outputs": [],
   "source": [
    "df = spark.read.option('header',True).option('inferSchema',True).csv('tbls/pitstops/pitstops.csv')\n"
   ]
  },
  {
   "cell_type": "code",
   "execution_count": 6,
   "id": "e7b6033a",
   "metadata": {},
   "outputs": [
    {
     "name": "stdout",
     "output_type": "stream",
     "text": [
      "+-------+---------+----+---+--------+--------+------------+--------------------+\n",
      "|race_id|driver_id|stop|lap|    time|duration|milliseconds|      ingestion_date|\n",
      "+-------+---------+----+---+--------+--------+------------+--------------------+\n",
      "|    841|      153|   1|  1|17:05:23|  26.898|       26898|2024-07-10 20:54:...|\n",
      "|    841|       30|   1|  1|17:05:52|  25.021|       25021|2024-07-10 20:54:...|\n",
      "|    841|       17|   1| 11|17:20:48|  23.426|       23426|2024-07-10 20:54:...|\n",
      "|    841|        4|   1| 12|17:22:34|  23.251|       23251|2024-07-10 20:54:...|\n",
      "|    841|       13|   1| 13|17:24:10|  23.842|       23842|2024-07-10 20:54:...|\n",
      "|    841|       22|   1| 13|17:24:29|  23.643|       23643|2024-07-10 20:54:...|\n",
      "|    841|       20|   1| 14|17:25:17|  22.603|       22603|2024-07-10 20:54:...|\n",
      "|    841|      814|   1| 14|17:26:03|  24.863|       24863|2024-07-10 20:54:...|\n",
      "|    841|      816|   1| 14|17:26:50|  25.259|       25259|2024-07-10 20:54:...|\n",
      "|    841|       67|   1| 15|17:27:34|  25.342|       25342|2024-07-10 20:54:...|\n",
      "|    841|        2|   1| 15|17:27:41|  22.994|       22994|2024-07-10 20:54:...|\n",
      "|    841|        1|   1| 16|17:28:24|  23.227|       23227|2024-07-10 20:54:...|\n",
      "|    841|      808|   1| 16|17:28:39|  24.535|       24535|2024-07-10 20:54:...|\n",
      "|    841|        3|   1| 16|17:29:00|  23.716|       23716|2024-07-10 20:54:...|\n",
      "|    841|      155|   1| 16|17:29:06|  24.064|       24064|2024-07-10 20:54:...|\n",
      "|    841|       16|   1| 16|17:29:08|  25.978|       25978|2024-07-10 20:54:...|\n",
      "|    841|       15|   1| 16|17:29:49|  24.899|       24899|2024-07-10 20:54:...|\n",
      "|    841|       18|   1| 17|17:30:24|  16.867|       16867|2024-07-10 20:54:...|\n",
      "|    841|      153|   2| 17|17:31:06|  24.463|       24463|2024-07-10 20:54:...|\n",
      "|    841|        5|   1| 17|17:31:11|  24.865|       24865|2024-07-10 20:54:...|\n",
      "+-------+---------+----+---+--------+--------+------------+--------------------+\n",
      "only showing top 20 rows\n",
      "\n"
     ]
    }
   ],
   "source": [
    "df.show()"
   ]
  },
  {
   "cell_type": "code",
   "execution_count": null,
   "id": "f1d0d2cd",
   "metadata": {},
   "outputs": [],
   "source": []
  }
 ],
 "metadata": {
  "kernelspec": {
   "display_name": "Python 3 (ipykernel)",
   "language": "python",
   "name": "python3"
  },
  "language_info": {
   "codemirror_mode": {
    "name": "ipython",
    "version": 3
   },
   "file_extension": ".py",
   "mimetype": "text/x-python",
   "name": "python",
   "nbconvert_exporter": "python",
   "pygments_lexer": "ipython3",
   "version": "3.9.7"
  }
 },
 "nbformat": 4,
 "nbformat_minor": 5
}
